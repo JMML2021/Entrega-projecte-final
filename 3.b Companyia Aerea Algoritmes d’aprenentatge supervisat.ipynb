{
  "nbformat": 4,
  "nbformat_minor": 0,
  "metadata": {
    "colab": {
      "provenance": [],
      "authorship_tag": "ABX9TyOutLY8HE8RBriAiSxe+Y9y",
      "include_colab_link": true
    },
    "kernelspec": {
      "name": "python3",
      "display_name": "Python 3"
    },
    "language_info": {
      "name": "python"
    }
  },
  "cells": [
    {
      "cell_type": "markdown",
      "metadata": {
        "id": "view-in-github",
        "colab_type": "text"
      },
      "source": [
        "<a href=\"https://colab.research.google.com/github/JMML2021/Entrega-projecte-final/blob/main/3.b%20Companyia%20Aerea%20Algoritmes%20d%E2%80%99aprenentatge%20supervisat.ipynb\" target=\"_parent\"><img src=\"https://colab.research.google.com/assets/colab-badge.svg\" alt=\"Open In Colab\"/></a>"
      ]
    },
    {
      "cell_type": "markdown",
      "source": [
        "/content/drive/MyDrive/Ficheros de Vueling/2022-09-20 14:39:04.960091 FLT_2022.xlsx"
      ],
      "metadata": {
        "id": "GfljkzgUWh8T"
      }
    },
    {
      "cell_type": "code",
      "source": [
        "import numpy as np\n",
        "import matplotlib.pyplot as plt \n",
        "\n",
        "import pandas as pd  \n",
        "import seaborn as sns \n",
        "\n",
        "%matplotlib inline\n",
        "\n",
        "\n",
        "from sklearn.manifold import TSNE\n",
        "from sklearn.decomposition import PCA\n",
        "from sklearn.ensemble import RandomForestClassifier\n",
        "from sklearn.metrics import accuracy_score, confusion_matrix\n",
        "from sklearn.model_selection import train_test_split, cross_val_score"
      ],
      "metadata": {
        "id": "R3JyLfVYWkFt"
      },
      "execution_count": 1,
      "outputs": []
    },
    {
      "cell_type": "code",
      "source": [
        "# Configuració warnings\n",
        "# ==============================================================================\n",
        "import warnings\n",
        "warnings.filterwarnings('ignore')"
      ],
      "metadata": {
        "id": "4Z4jHg8-WlDZ"
      },
      "execution_count": 2,
      "outputs": []
    },
    {
      "cell_type": "code",
      "source": [
        "# Activo Google Drive\n",
        "\n",
        "from google.colab import drive\n",
        "drive.mount('/content/drive')"
      ],
      "metadata": {
        "colab": {
          "base_uri": "https://localhost:8080/",
          "height": 0
        },
        "id": "BqoqEb8nWmsH",
        "outputId": "dd4498e7-0e64-4253-d099-da38e9940459"
      },
      "execution_count": 3,
      "outputs": [
        {
          "output_type": "stream",
          "name": "stdout",
          "text": [
            "Mounted at /content/drive\n"
          ]
        }
      ]
    },
    {
      "cell_type": "code",
      "source": [
        "#@title Obrir fitxer de Github.\n",
        "#path='/content/drive/MyDrive/2022.06.03 2022_delay + cierre puertas CORTO.xlsx'\n",
        "Hoja = 'FLT_2022'\n",
        "path = ('/content/drive/MyDrive/Ficheros de Vueling/2022-09-20 14:39:04.960091 FLT_2022.xlsx')\n",
        "\n",
        "df = pd.read_excel(path) #, sheet_name=Hoja)\n"
      ],
      "metadata": {
        "id": "XeUq-egmW20a",
        "cellView": "form"
      },
      "execution_count": 4,
      "outputs": []
    },
    {
      "cell_type": "code",
      "source": [
        "# Para crear una logistic regresion:\n",
        "# 10 minuts és el temps que s'accepta com arribar a l'hora\n",
        "\n",
        "df['Tard1'] = np.where(df['Puntualidad1'] <10, 0, 1)\n",
        "df['Tard2'] = np.where(df['Puntualidad2'] <10, 0, 1)\n",
        "df['Tard3'] = np.where(df['Puntualidad3'] <10, 0, 1)"
      ],
      "metadata": {
        "id": "S-LI-nnxWx5l"
      },
      "execution_count": 116,
      "outputs": []
    },
    {
      "cell_type": "code",
      "source": [
        "df.info()"
      ],
      "metadata": {
        "colab": {
          "base_uri": "https://localhost:8080/",
          "height": 0
        },
        "id": "W7Ou3ksAXSLB",
        "outputId": "70c5a107-36ad-42bb-ca20-5f33b66aab80"
      },
      "execution_count": 117,
      "outputs": [
        {
          "output_type": "stream",
          "name": "stdout",
          "text": [
            "<class 'pandas.core.frame.DataFrame'>\n",
            "RangeIndex: 12358 entries, 0 to 12357\n",
            "Data columns (total 97 columns):\n",
            " #   Column                           Non-Null Count  Dtype         \n",
            "---  ------                           --------------  -----         \n",
            " 0   Unnamed: 0                       12358 non-null  int64         \n",
            " 1   DATE                             12358 non-null  datetime64[ns]\n",
            " 2   FLT                              12358 non-null  object        \n",
            " 3   REG                              12358 non-null  object        \n",
            " 4   AC                               12358 non-null  object        \n",
            " 5   DEP                              12358 non-null  object        \n",
            " 6   ARR                              12358 non-null  object        \n",
            " 7   STD                              12358 non-null  datetime64[ns]\n",
            " 8   STA                              12358 non-null  datetime64[ns]\n",
            " 9   TKof                             12358 non-null  datetime64[ns]\n",
            " 10  TDwn                             12358 non-null  datetime64[ns]\n",
            " 11  ATD                              12358 non-null  datetime64[ns]\n",
            " 12  ATA                              12357 non-null  datetime64[ns]\n",
            " 13  BLOCK                            12358 non-null  datetime64[ns]\n",
            " 14  FLThr                            12358 non-null  datetime64[ns]\n",
            " 15  DStand                           12358 non-null  object        \n",
            " 16  AStand                           12358 non-null  object        \n",
            " 17  ACT PAX                          12358 non-null  int64         \n",
            " 18  LF                               12358 non-null  int64         \n",
            " 19  Taxi-out                         12358 non-null  object        \n",
            " 20  Taxi-In                          12358 non-null  object        \n",
            " 21  SLOT                             12358 non-null  object        \n",
            " 22  C1                               12358 non-null  object        \n",
            " 23  DLY1                             12358 non-null  object        \n",
            " 24  Sub1                             12358 non-null  object        \n",
            " 25  C2                               12358 non-null  object        \n",
            " 26  DLY2                             12358 non-null  object        \n",
            " 27  Sub2                             12358 non-null  object        \n",
            " 28  C3                               12358 non-null  object        \n",
            " 29  DLY3                             12358 non-null  object        \n",
            " 30  Sub3                             12358 non-null  object        \n",
            " 31  C4                               12358 non-null  object        \n",
            " 32  DLY4                             12358 non-null  object        \n",
            " 33  Sub4                             12358 non-null  object        \n",
            " 34  C1Arr                            12358 non-null  object        \n",
            " 35  DLY1Arr                          2989 non-null   object        \n",
            " 36  Close Pax Door                   12247 non-null  datetime64[ns]\n",
            " 37  Close Cargo Door                 12247 non-null  datetime64[ns]\n",
            " 38  Open Cargo/Pax Door              11094 non-null  datetime64[ns]\n",
            " 39  close pax door2                  12247 non-null  datetime64[ns]\n",
            " 40  close cargo door2                12247 non-null  datetime64[ns]\n",
            " 41  open cargo/pax door2             11094 non-null  object        \n",
            " 42  Secuencia                        12358 non-null  int64         \n",
            " 43  MES                              12358 non-null  int64         \n",
            " 44  Setmana                          12358 non-null  int64         \n",
            " 45  DiaSetmana                       12358 non-null  int64         \n",
            " 46  DiaSetmanaName                   12358 non-null  object        \n",
            " 47  Aeropuerto_Key                   12358 non-null  object        \n",
            " 48  AeropuertoKey1                   12358 non-null  object        \n",
            " 49  t_ClosePax                       12247 non-null  float64       \n",
            " 50  t_Close_Cargo_Door               12247 non-null  float64       \n",
            " 51  t_Entre_Puertas                  12247 non-null  float64       \n",
            " 52  Retardo_Abrir_Puerta_Pax         11093 non-null  float64       \n",
            " 53  Trayecto                         12358 non-null  object        \n",
            " 54  E_Despegue                       12358 non-null  int64         \n",
            " 55  lag_STD                          12358 non-null  datetime64[ns]\n",
            " 56  lag_ATD                          12358 non-null  datetime64[ns]\n",
            " 57  lag_STA                          12358 non-null  datetime64[ns]\n",
            " 58  lag_ATA                          12358 non-null  datetime64[ns]\n",
            " 59  lag_ACT PAX                      12358 non-null  int64         \n",
            " 60  lag_Secuencia                    12358 non-null  int64         \n",
            " 61  lag_REG                          12358 non-null  object        \n",
            " 62  T_teoricoTierra1                 12358 non-null  int64         \n",
            " 63  T_RealTierra1                    12357 non-null  float64       \n",
            " 64  E_tierra1                        12357 non-null  float64       \n",
            " 65  Puntualidad1                     12357 non-null  float64       \n",
            " 66  Total_PAX_Boarding               12358 non-null  int64         \n",
            " 67  T_Medio_Boarding                 12356 non-null  float64       \n",
            " 68  Taxi_Despegue                    12358 non-null  int64         \n",
            " 69  Taxi_Aterrizaje                  12357 non-null  float64       \n",
            " 70  DuracionVueloTeorico             12358 non-null  int64         \n",
            " 71  DuracionVueloReal                12357 non-null  float64       \n",
            " 72  E_Duracion_Vuelo                 12357 non-null  float64       \n",
            " 73  E_Despegue2                      12358 non-null  int64         \n",
            " 74  E_Despegue3                      12357 non-null  float64       \n",
            " 75  E_Despegue4                      12358 non-null  int64         \n",
            " 76  E_Duracion_Vuelo2                12358 non-null  int64         \n",
            " 77  E_Duracion_Vuelo3                12357 non-null  float64       \n",
            " 78  E_Duracion_Vuelo4                12358 non-null  int64         \n",
            " 79  E_tierra2                        12357 non-null  float64       \n",
            " 80  E_tierra3                        12358 non-null  int64         \n",
            " 81  E_tierra4                        12358 non-null  int64         \n",
            " 82  Aeropuerto_Key2                  12358 non-null  object        \n",
            " 83  Aeropuerto_Key3                  12358 non-null  object        \n",
            " 84  Aeropuerto_Key4                  12358 non-null  object        \n",
            " 85  Puntualidad2                     12358 non-null  int64         \n",
            " 86  Puntualidad3                     12358 non-null  int64         \n",
            " 87  Puntualidad4                     12358 non-null  int64         \n",
            " 88  E_Despegue_Total                 12357 non-null  float64       \n",
            " 89  E_Duracion_Vuelo_Total           12356 non-null  float64       \n",
            " 90  E_tierra_Total                   12356 non-null  float64       \n",
            " 91  E_acumulado_Total                12356 non-null  float64       \n",
            " 92  Trajecto                         12343 non-null  object        \n",
            " 93  retardoOperturaPuertaAterrizaje  11093 non-null  float64       \n",
            " 94  Tard1                            12358 non-null  int64         \n",
            " 95  Tard2                            12358 non-null  int64         \n",
            " 96  Tard3                            12358 non-null  int64         \n",
            "dtypes: datetime64[ns](18), float64(19), int64(26), object(34)\n",
            "memory usage: 9.1+ MB\n"
          ]
        }
      ]
    },
    {
      "cell_type": "code",
      "source": [
        "df[['Puntualidad1','Tard1']][:3]"
      ],
      "metadata": {
        "id": "pufQdp1TXE0e",
        "outputId": "1f3e4328-be46-410d-cadb-fdc65a6e0711",
        "colab": {
          "base_uri": "https://localhost:8080/",
          "height": 143
        }
      },
      "execution_count": 118,
      "outputs": [
        {
          "output_type": "execute_result",
          "data": {
            "text/plain": [
              "   Puntualidad1  Tard1\n",
              "0          15.0      1\n",
              "1         -22.0      0\n",
              "2           3.0      0"
            ],
            "text/html": [
              "\n",
              "  <div id=\"df-873726d5-215e-4969-a0e1-2f8e57f17d28\">\n",
              "    <div class=\"colab-df-container\">\n",
              "      <div>\n",
              "<style scoped>\n",
              "    .dataframe tbody tr th:only-of-type {\n",
              "        vertical-align: middle;\n",
              "    }\n",
              "\n",
              "    .dataframe tbody tr th {\n",
              "        vertical-align: top;\n",
              "    }\n",
              "\n",
              "    .dataframe thead th {\n",
              "        text-align: right;\n",
              "    }\n",
              "</style>\n",
              "<table border=\"1\" class=\"dataframe\">\n",
              "  <thead>\n",
              "    <tr style=\"text-align: right;\">\n",
              "      <th></th>\n",
              "      <th>Puntualidad1</th>\n",
              "      <th>Tard1</th>\n",
              "    </tr>\n",
              "  </thead>\n",
              "  <tbody>\n",
              "    <tr>\n",
              "      <th>0</th>\n",
              "      <td>15.0</td>\n",
              "      <td>1</td>\n",
              "    </tr>\n",
              "    <tr>\n",
              "      <th>1</th>\n",
              "      <td>-22.0</td>\n",
              "      <td>0</td>\n",
              "    </tr>\n",
              "    <tr>\n",
              "      <th>2</th>\n",
              "      <td>3.0</td>\n",
              "      <td>0</td>\n",
              "    </tr>\n",
              "  </tbody>\n",
              "</table>\n",
              "</div>\n",
              "      <button class=\"colab-df-convert\" onclick=\"convertToInteractive('df-873726d5-215e-4969-a0e1-2f8e57f17d28')\"\n",
              "              title=\"Convert this dataframe to an interactive table.\"\n",
              "              style=\"display:none;\">\n",
              "        \n",
              "  <svg xmlns=\"http://www.w3.org/2000/svg\" height=\"24px\"viewBox=\"0 0 24 24\"\n",
              "       width=\"24px\">\n",
              "    <path d=\"M0 0h24v24H0V0z\" fill=\"none\"/>\n",
              "    <path d=\"M18.56 5.44l.94 2.06.94-2.06 2.06-.94-2.06-.94-.94-2.06-.94 2.06-2.06.94zm-11 1L8.5 8.5l.94-2.06 2.06-.94-2.06-.94L8.5 2.5l-.94 2.06-2.06.94zm10 10l.94 2.06.94-2.06 2.06-.94-2.06-.94-.94-2.06-.94 2.06-2.06.94z\"/><path d=\"M17.41 7.96l-1.37-1.37c-.4-.4-.92-.59-1.43-.59-.52 0-1.04.2-1.43.59L10.3 9.45l-7.72 7.72c-.78.78-.78 2.05 0 2.83L4 21.41c.39.39.9.59 1.41.59.51 0 1.02-.2 1.41-.59l7.78-7.78 2.81-2.81c.8-.78.8-2.07 0-2.86zM5.41 20L4 18.59l7.72-7.72 1.47 1.35L5.41 20z\"/>\n",
              "  </svg>\n",
              "      </button>\n",
              "      \n",
              "  <style>\n",
              "    .colab-df-container {\n",
              "      display:flex;\n",
              "      flex-wrap:wrap;\n",
              "      gap: 12px;\n",
              "    }\n",
              "\n",
              "    .colab-df-convert {\n",
              "      background-color: #E8F0FE;\n",
              "      border: none;\n",
              "      border-radius: 50%;\n",
              "      cursor: pointer;\n",
              "      display: none;\n",
              "      fill: #1967D2;\n",
              "      height: 32px;\n",
              "      padding: 0 0 0 0;\n",
              "      width: 32px;\n",
              "    }\n",
              "\n",
              "    .colab-df-convert:hover {\n",
              "      background-color: #E2EBFA;\n",
              "      box-shadow: 0px 1px 2px rgba(60, 64, 67, 0.3), 0px 1px 3px 1px rgba(60, 64, 67, 0.15);\n",
              "      fill: #174EA6;\n",
              "    }\n",
              "\n",
              "    [theme=dark] .colab-df-convert {\n",
              "      background-color: #3B4455;\n",
              "      fill: #D2E3FC;\n",
              "    }\n",
              "\n",
              "    [theme=dark] .colab-df-convert:hover {\n",
              "      background-color: #434B5C;\n",
              "      box-shadow: 0px 1px 3px 1px rgba(0, 0, 0, 0.15);\n",
              "      filter: drop-shadow(0px 1px 2px rgba(0, 0, 0, 0.3));\n",
              "      fill: #FFFFFF;\n",
              "    }\n",
              "  </style>\n",
              "\n",
              "      <script>\n",
              "        const buttonEl =\n",
              "          document.querySelector('#df-873726d5-215e-4969-a0e1-2f8e57f17d28 button.colab-df-convert');\n",
              "        buttonEl.style.display =\n",
              "          google.colab.kernel.accessAllowed ? 'block' : 'none';\n",
              "\n",
              "        async function convertToInteractive(key) {\n",
              "          const element = document.querySelector('#df-873726d5-215e-4969-a0e1-2f8e57f17d28');\n",
              "          const dataTable =\n",
              "            await google.colab.kernel.invokeFunction('convertToInteractive',\n",
              "                                                     [key], {});\n",
              "          if (!dataTable) return;\n",
              "\n",
              "          const docLinkHtml = 'Like what you see? Visit the ' +\n",
              "            '<a target=\"_blank\" href=https://colab.research.google.com/notebooks/data_table.ipynb>data table notebook</a>'\n",
              "            + ' to learn more about interactive tables.';\n",
              "          element.innerHTML = '';\n",
              "          dataTable['output_type'] = 'display_data';\n",
              "          await google.colab.output.renderOutput(dataTable, element);\n",
              "          const docLink = document.createElement('div');\n",
              "          docLink.innerHTML = docLinkHtml;\n",
              "          element.appendChild(docLink);\n",
              "        }\n",
              "      </script>\n",
              "    </div>\n",
              "  </div>\n",
              "  "
            ]
          },
          "metadata": {},
          "execution_count": 118
        }
      ]
    },
    {
      "cell_type": "markdown",
      "source": [
        "Només treballaré en els factors importants que crec afecten l'Error en puntualitat del 3r salt.\n",
        "\n",
        "\n",
        "\n",
        "---\n",
        "\n"
      ],
      "metadata": {
        "id": "MSUpa2phtxMh"
      }
    },
    {
      "cell_type": "code",
      "source": [
        "#@title crec el DataFrame df1\n",
        "df1=df[['Puntualidad1', 'Puntualidad2', 'Puntualidad3', \n",
        "        'E_Despegue','E_Despegue2','E_Despegue3',\n",
        "        'E_Duracion_Vuelo','E_Duracion_Vuelo2','E_Duracion_Vuelo3', 'Tard1', 'Tard2', 'Tard3']]"
      ],
      "metadata": {
        "id": "y75xi3QA6nwX"
      },
      "execution_count": 119,
      "outputs": []
    },
    {
      "cell_type": "code",
      "source": [
        "#@title Crec la matriu de correlació entre tots  els factors importants.\n",
        "\n",
        "correlation_matrix = df1.corr().round(2) \n",
        "sns.set(rc = {'figure.figsize':(15,8)})\n",
        "sns.heatmap(data=correlation_matrix, annot=True)"
      ],
      "metadata": {
        "colab": {
          "base_uri": "https://localhost:8080/",
          "height": 601
        },
        "id": "1z5dSIKd6hJi",
        "outputId": "046e8fc6-ccf9-4bd3-9f86-640e44d37df6"
      },
      "execution_count": 120,
      "outputs": [
        {
          "output_type": "execute_result",
          "data": {
            "text/plain": [
              "<matplotlib.axes._subplots.AxesSubplot at 0x7f74914bbb10>"
            ]
          },
          "metadata": {},
          "execution_count": 120
        },
        {
          "output_type": "display_data",
          "data": {
            "text/plain": [
              "<Figure size 1080x576 with 2 Axes>"
            ],
            "image/png": "[encoded data removed]"
          },
          "metadata": {}
        }
      ]
    },
    {
      "cell_type": "code",
      "source": [
        "#@#@title Estandarditzar les característiques eliminant la mitjana i escalant a la variància de la unitat.\n",
        "\n",
        "from sklearn_pandas import DataFrameMapper\n",
        "from sklearn.preprocessing import StandardScaler\n",
        "\n",
        "mapper = DataFrameMapper([(df1.columns, StandardScaler())])\n",
        "scaled_features = mapper.fit_transform(df1.copy(), 4)\n",
        "df1_StdScaler= pd.DataFrame(scaled_features, index=df1.index, columns=df1.columns)\n",
        "\n",
        "df1_StdScaler.head()"
      ],
      "metadata": {
        "colab": {
          "base_uri": "https://localhost:8080/",
          "height": 270
        },
        "id": "Z_CSbmg17_bH",
        "outputId": "dd8865c5-05f8-4366-852f-af58904a6e51"
      },
      "execution_count": 121,
      "outputs": [
        {
          "output_type": "execute_result",
          "data": {
            "text/plain": [
              "   Puntualidad1  Puntualidad2  Puntualidad3  E_Despegue  E_Despegue2  \\\n",
              "0      0.661875      0.158984     -0.020942    1.006091     0.398530   \n",
              "1     -0.620447     -0.405877     -0.020942   -0.939568    -0.840450   \n",
              "2      0.245987      0.204173     -0.169253    0.340471     0.133034   \n",
              "3      0.800504      0.000823     -0.525200    1.159696     0.575527   \n",
              "4      0.176672     -0.134744     -0.050604   -0.222746    -0.530705   \n",
              "\n",
              "   E_Despegue3  E_Duracion_Vuelo  E_Duracion_Vuelo2  E_Duracion_Vuelo3  \\\n",
              "0    -0.039738         -0.022665          -0.049533           0.000086   \n",
              "1    -0.655431          0.018437           0.025896           0.365863   \n",
              "2    -0.095710          0.018437           0.151611          -0.132924   \n",
              "3    -0.543487          0.018437          -0.326106          -0.265933   \n",
              "4    -0.263626          0.388352           0.151611           0.099843   \n",
              "\n",
              "      Tard1     Tard2     Tard3  \n",
              "0  2.979681 -0.387587 -0.362741  \n",
              "1 -0.335606 -0.387587 -0.362741  \n",
              "2 -0.335606 -0.387587 -0.362741  \n",
              "3  2.979681 -0.387587 -0.362741  \n",
              "4 -0.335606 -0.387587 -0.362741  "
            ],
            "text/html": [
              "\n",
              "  <div id=\"df-bd0c4048-db44-43ca-aaa9-07f2ee61d2d6\">\n",
              "    <div class=\"colab-df-container\">\n",
              "      <div>\n",
              "<style scoped>\n",
              "    .dataframe tbody tr th:only-of-type {\n",
              "        vertical-align: middle;\n",
              "    }\n",
              "\n",
              "    .dataframe tbody tr th {\n",
              "        vertical-align: top;\n",
              "    }\n",
              "\n",
              "    .dataframe thead th {\n",
              "        text-align: right;\n",
              "    }\n",
              "</style>\n",
              "<table border=\"1\" class=\"dataframe\">\n",
              "  <thead>\n",
              "    <tr style=\"text-align: right;\">\n",
              "      <th></th>\n",
              "      <th>Puntualidad1</th>\n",
              "      <th>Puntualidad2</th>\n",
              "      <th>Puntualidad3</th>\n",
              "      <th>E_Despegue</th>\n",
              "      <th>E_Despegue2</th>\n",
              "      <th>E_Despegue3</th>\n",
              "      <th>E_Duracion_Vuelo</th>\n",
              "      <th>E_Duracion_Vuelo2</th>\n",
              "      <th>E_Duracion_Vuelo3</th>\n",
              "      <th>Tard1</th>\n",
              "      <th>Tard2</th>\n",
              "      <th>Tard3</th>\n",
              "    </tr>\n",
              "  </thead>\n",
              "  <tbody>\n",
              "    <tr>\n",
              "      <th>0</th>\n",
              "      <td>0.661875</td>\n",
              "      <td>0.158984</td>\n",
              "      <td>-0.020942</td>\n",
              "      <td>1.006091</td>\n",
              "      <td>0.398530</td>\n",
              "      <td>-0.039738</td>\n",
              "      <td>-0.022665</td>\n",
              "      <td>-0.049533</td>\n",
              "      <td>0.000086</td>\n",
              "      <td>2.979681</td>\n",
              "      <td>-0.387587</td>\n",
              "      <td>-0.362741</td>\n",
              "    </tr>\n",
              "    <tr>\n",
              "      <th>1</th>\n",
              "      <td>-0.620447</td>\n",
              "      <td>-0.405877</td>\n",
              "      <td>-0.020942</td>\n",
              "      <td>-0.939568</td>\n",
              "      <td>-0.840450</td>\n",
              "      <td>-0.655431</td>\n",
              "      <td>0.018437</td>\n",
              "      <td>0.025896</td>\n",
              "      <td>0.365863</td>\n",
              "      <td>-0.335606</td>\n",
              "      <td>-0.387587</td>\n",
              "      <td>-0.362741</td>\n",
              "    </tr>\n",
              "    <tr>\n",
              "      <th>2</th>\n",
              "      <td>0.245987</td>\n",
              "      <td>0.204173</td>\n",
              "      <td>-0.169253</td>\n",
              "      <td>0.340471</td>\n",
              "      <td>0.133034</td>\n",
              "      <td>-0.095710</td>\n",
              "      <td>0.018437</td>\n",
              "      <td>0.151611</td>\n",
              "      <td>-0.132924</td>\n",
              "      <td>-0.335606</td>\n",
              "      <td>-0.387587</td>\n",
              "      <td>-0.362741</td>\n",
              "    </tr>\n",
              "    <tr>\n",
              "      <th>3</th>\n",
              "      <td>0.800504</td>\n",
              "      <td>0.000823</td>\n",
              "      <td>-0.525200</td>\n",
              "      <td>1.159696</td>\n",
              "      <td>0.575527</td>\n",
              "      <td>-0.543487</td>\n",
              "      <td>0.018437</td>\n",
              "      <td>-0.326106</td>\n",
              "      <td>-0.265933</td>\n",
              "      <td>2.979681</td>\n",
              "      <td>-0.387587</td>\n",
              "      <td>-0.362741</td>\n",
              "    </tr>\n",
              "    <tr>\n",
              "      <th>4</th>\n",
              "      <td>0.176672</td>\n",
              "      <td>-0.134744</td>\n",
              "      <td>-0.050604</td>\n",
              "      <td>-0.222746</td>\n",
              "      <td>-0.530705</td>\n",
              "      <td>-0.263626</td>\n",
              "      <td>0.388352</td>\n",
              "      <td>0.151611</td>\n",
              "      <td>0.099843</td>\n",
              "      <td>-0.335606</td>\n",
              "      <td>-0.387587</td>\n",
              "      <td>-0.362741</td>\n",
              "    </tr>\n",
              "  </tbody>\n",
              "</table>\n",
              "</div>\n",
              "      <button class=\"colab-df-convert\" onclick=\"convertToInteractive('df-bd0c4048-db44-43ca-aaa9-07f2ee61d2d6')\"\n",
              "              title=\"Convert this dataframe to an interactive table.\"\n",
              "              style=\"display:none;\">\n",
              "        \n",
              "  <svg xmlns=\"http://www.w3.org/2000/svg\" height=\"24px\"viewBox=\"0 0 24 24\"\n",
              "       width=\"24px\">\n",
              "    <path d=\"M0 0h24v24H0V0z\" fill=\"none\"/>\n",
              "    <path d=\"M18.56 5.44l.94 2.06.94-2.06 2.06-.94-2.06-.94-.94-2.06-.94 2.06-2.06.94zm-11 1L8.5 8.5l.94-2.06 2.06-.94-2.06-.94L8.5 2.5l-.94 2.06-2.06.94zm10 10l.94 2.06.94-2.06 2.06-.94-2.06-.94-.94-2.06-.94 2.06-2.06.94z\"/><path d=\"M17.41 7.96l-1.37-1.37c-.4-.4-.92-.59-1.43-.59-.52 0-1.04.2-1.43.59L10.3 9.45l-7.72 7.72c-.78.78-.78 2.05 0 2.83L4 21.41c.39.39.9.59 1.41.59.51 0 1.02-.2 1.41-.59l7.78-7.78 2.81-2.81c.8-.78.8-2.07 0-2.86zM5.41 20L4 18.59l7.72-7.72 1.47 1.35L5.41 20z\"/>\n",
              "  </svg>\n",
              "      </button>\n",
              "      \n",
              "  <style>\n",
              "    .colab-df-container {\n",
              "      display:flex;\n",
              "      flex-wrap:wrap;\n",
              "      gap: 12px;\n",
              "    }\n",
              "\n",
              "    .colab-df-convert {\n",
              "      background-color: #E8F0FE;\n",
              "      border: none;\n",
              "      border-radius: 50%;\n",
              "      cursor: pointer;\n",
              "      display: none;\n",
              "      fill: #1967D2;\n",
              "      height: 32px;\n",
              "      padding: 0 0 0 0;\n",
              "      width: 32px;\n",
              "    }\n",
              "\n",
              "    .colab-df-convert:hover {\n",
              "      background-color: #E2EBFA;\n",
              "      box-shadow: 0px 1px 2px rgba(60, 64, 67, 0.3), 0px 1px 3px 1px rgba(60, 64, 67, 0.15);\n",
              "      fill: #174EA6;\n",
              "    }\n",
              "\n",
              "    [theme=dark] .colab-df-convert {\n",
              "      background-color: #3B4455;\n",
              "      fill: #D2E3FC;\n",
              "    }\n",
              "\n",
              "    [theme=dark] .colab-df-convert:hover {\n",
              "      background-color: #434B5C;\n",
              "      box-shadow: 0px 1px 3px 1px rgba(0, 0, 0, 0.15);\n",
              "      filter: drop-shadow(0px 1px 2px rgba(0, 0, 0, 0.3));\n",
              "      fill: #FFFFFF;\n",
              "    }\n",
              "  </style>\n",
              "\n",
              "      <script>\n",
              "        const buttonEl =\n",
              "          document.querySelector('#df-bd0c4048-db44-43ca-aaa9-07f2ee61d2d6 button.colab-df-convert');\n",
              "        buttonEl.style.display =\n",
              "          google.colab.kernel.accessAllowed ? 'block' : 'none';\n",
              "\n",
              "        async function convertToInteractive(key) {\n",
              "          const element = document.querySelector('#df-bd0c4048-db44-43ca-aaa9-07f2ee61d2d6');\n",
              "          const dataTable =\n",
              "            await google.colab.kernel.invokeFunction('convertToInteractive',\n",
              "                                                     [key], {});\n",
              "          if (!dataTable) return;\n",
              "\n",
              "          const docLinkHtml = 'Like what you see? Visit the ' +\n",
              "            '<a target=\"_blank\" href=https://colab.research.google.com/notebooks/data_table.ipynb>data table notebook</a>'\n",
              "            + ' to learn more about interactive tables.';\n",
              "          element.innerHTML = '';\n",
              "          dataTable['output_type'] = 'display_data';\n",
              "          await google.colab.output.renderOutput(dataTable, element);\n",
              "          const docLink = document.createElement('div');\n",
              "          docLink.innerHTML = docLinkHtml;\n",
              "          element.appendChild(docLink);\n",
              "        }\n",
              "      </script>\n",
              "    </div>\n",
              "  </div>\n",
              "  "
            ]
          },
          "metadata": {},
          "execution_count": 121
        }
      ]
    },
    {
      "cell_type": "code",
      "source": [
        "# Crec la matriu de correlació entre tots  els factors importants després d'estar normalitzat.\n",
        "\n",
        "correlation_matrix = df1_StdScaler.corr().round(2) \n",
        "sns.set(rc = {'figure.figsize':(15,8)})\n",
        "sns.heatmap(data=correlation_matrix, annot=True)"
      ],
      "metadata": {
        "colab": {
          "base_uri": "https://localhost:8080/",
          "height": 601
        },
        "id": "e2dA9Zto8Z5u",
        "outputId": "8aecffb5-0114-43dd-9209-c9853b42ba1b"
      },
      "execution_count": 122,
      "outputs": [
        {
          "output_type": "execute_result",
          "data": {
            "text/plain": [
              "<matplotlib.axes._subplots.AxesSubplot at 0x7f749116af10>"
            ]
          },
          "metadata": {},
          "execution_count": 122
        },
        {
          "output_type": "display_data",
          "data": {
            "text/plain": [
              "<Figure size 1080x576 with 2 Axes>"
            ],
            "image/png": "[encoded data removed]"
          },
          "metadata": {}
        }
      ]
    },
    {
      "cell_type": "markdown",
      "source": [
        "No hi veig diferències en les correlacions després de la normalització dels valors"
      ],
      "metadata": {
        "id": "xNFoFYwnu-Zr"
      }
    },
    {
      "cell_type": "code",
      "source": [
        "# Con los datos transformados veo si ha cambiado mucho la forma de cada variable\n",
        "df1_StdScaler[df1_StdScaler.columns].hist(figsize=(18,10))"
      ],
      "metadata": {
        "colab": {
          "base_uri": "https://localhost:8080/",
          "height": 836
        },
        "id": "7rAHflnn8n60",
        "outputId": "245d813c-b2c8-4020-874d-806eed61de65"
      },
      "execution_count": 123,
      "outputs": [
        {
          "output_type": "execute_result",
          "data": {
            "text/plain": [
              "array([[<matplotlib.axes._subplots.AxesSubplot object at 0x7f7490f83dd0>,\n",
              "        <matplotlib.axes._subplots.AxesSubplot object at 0x7f74913934d0>,\n",
              "        <matplotlib.axes._subplots.AxesSubplot object at 0x7f74911c27d0>],\n",
              "       [<matplotlib.axes._subplots.AxesSubplot object at 0x7f74914e7e50>,\n",
              "        <matplotlib.axes._subplots.AxesSubplot object at 0x7f749153fa10>,\n",
              "        <matplotlib.axes._subplots.AxesSubplot object at 0x7f74915a0ed0>],\n",
              "       [<matplotlib.axes._subplots.AxesSubplot object at 0x7f74915d2bd0>,\n",
              "        <matplotlib.axes._subplots.AxesSubplot object at 0x7f74915cbf10>,\n",
              "        <matplotlib.axes._subplots.AxesSubplot object at 0x7f74915cb110>],\n",
              "       [<matplotlib.axes._subplots.AxesSubplot object at 0x7f749164c250>,\n",
              "        <matplotlib.axes._subplots.AxesSubplot object at 0x7f74916d5d10>,\n",
              "        <matplotlib.axes._subplots.AxesSubplot object at 0x7f74916cbbd0>]],\n",
              "      dtype=object)"
            ]
          },
          "metadata": {},
          "execution_count": 123
        },
        {
          "output_type": "display_data",
          "data": {
            "text/plain": [
              "<Figure size 1296x720 with 12 Axes>"
            ],
            "image/png": "[encoded data removed]"
          },
          "metadata": {}
        }
      ]
    },
    {
      "cell_type": "markdown",
      "source": [
        "Veig que els outliers (> o < 30 minuts) afecten molt a la gràfica.\n",
        "\n",
        "\n",
        "---\n",
        "\n"
      ],
      "metadata": {
        "id": "VOzIprxavPAl"
      }
    },
    {
      "cell_type": "markdown",
      "source": [
        "# Trec els outliers"
      ],
      "metadata": {
        "id": "e7IrTwpW-S5_"
      }
    },
    {
      "cell_type": "code",
      "source": [
        "df1.head()"
      ],
      "metadata": {
        "id": "cxj6pUOHBfyA",
        "outputId": "7d34922c-b9ab-4c89-d2dd-2c9e1a8be82c",
        "colab": {
          "base_uri": "https://localhost:8080/",
          "height": 270
        }
      },
      "execution_count": 124,
      "outputs": [
        {
          "output_type": "execute_result",
          "data": {
            "text/plain": [
              "   Puntualidad1  Puntualidad2  Puntualidad3  E_Despegue  E_Despegue2  \\\n",
              "0          15.0             4            -5          20           11   \n",
              "1         -22.0           -21            -5         -18          -17   \n",
              "2           3.0             6           -10           7            5   \n",
              "3          19.0            -3           -22          23           15   \n",
              "4           1.0            -9            -6          -4          -10   \n",
              "\n",
              "   E_Despegue3  E_Duracion_Vuelo  E_Duracion_Vuelo2  E_Duracion_Vuelo3  Tard1  \\\n",
              "0          0.0              -5.0                 -7               -5.0      1   \n",
              "1        -11.0              -4.0                 -4                6.0      0   \n",
              "2         -1.0              -4.0                  1               -9.0      0   \n",
              "3         -9.0              -4.0                -18              -13.0      1   \n",
              "4         -4.0               5.0                  1               -2.0      0   \n",
              "\n",
              "   Tard2  Tard3  \n",
              "0      0      0  \n",
              "1      0      0  \n",
              "2      0      0  \n",
              "3      0      0  \n",
              "4      0      0  "
            ],
            "text/html": [
              "\n",
              "  <div id=\"df-eb395175-f979-464a-900d-e340249fd0e5\">\n",
              "    <div class=\"colab-df-container\">\n",
              "      <div>\n",
              "<style scoped>\n",
              "    .dataframe tbody tr th:only-of-type {\n",
              "        vertical-align: middle;\n",
              "    }\n",
              "\n",
              "    .dataframe tbody tr th {\n",
              "        vertical-align: top;\n",
              "    }\n",
              "\n",
              "    .dataframe thead th {\n",
              "        text-align: right;\n",
              "    }\n",
              "</style>\n",
              "<table border=\"1\" class=\"dataframe\">\n",
              "  <thead>\n",
              "    <tr style=\"text-align: right;\">\n",
              "      <th></th>\n",
              "      <th>Puntualidad1</th>\n",
              "      <th>Puntualidad2</th>\n",
              "      <th>Puntualidad3</th>\n",
              "      <th>E_Despegue</th>\n",
              "      <th>E_Despegue2</th>\n",
              "      <th>E_Despegue3</th>\n",
              "      <th>E_Duracion_Vuelo</th>\n",
              "      <th>E_Duracion_Vuelo2</th>\n",
              "      <th>E_Duracion_Vuelo3</th>\n",
              "      <th>Tard1</th>\n",
              "      <th>Tard2</th>\n",
              "      <th>Tard3</th>\n",
              "    </tr>\n",
              "  </thead>\n",
              "  <tbody>\n",
              "    <tr>\n",
              "      <th>0</th>\n",
              "      <td>15.0</td>\n",
              "      <td>4</td>\n",
              "      <td>-5</td>\n",
              "      <td>20</td>\n",
              "      <td>11</td>\n",
              "      <td>0.0</td>\n",
              "      <td>-5.0</td>\n",
              "      <td>-7</td>\n",
              "      <td>-5.0</td>\n",
              "      <td>1</td>\n",
              "      <td>0</td>\n",
              "      <td>0</td>\n",
              "    </tr>\n",
              "    <tr>\n",
              "      <th>1</th>\n",
              "      <td>-22.0</td>\n",
              "      <td>-21</td>\n",
              "      <td>-5</td>\n",
              "      <td>-18</td>\n",
              "      <td>-17</td>\n",
              "      <td>-11.0</td>\n",
              "      <td>-4.0</td>\n",
              "      <td>-4</td>\n",
              "      <td>6.0</td>\n",
              "      <td>0</td>\n",
              "      <td>0</td>\n",
              "      <td>0</td>\n",
              "    </tr>\n",
              "    <tr>\n",
              "      <th>2</th>\n",
              "      <td>3.0</td>\n",
              "      <td>6</td>\n",
              "      <td>-10</td>\n",
              "      <td>7</td>\n",
              "      <td>5</td>\n",
              "      <td>-1.0</td>\n",
              "      <td>-4.0</td>\n",
              "      <td>1</td>\n",
              "      <td>-9.0</td>\n",
              "      <td>0</td>\n",
              "      <td>0</td>\n",
              "      <td>0</td>\n",
              "    </tr>\n",
              "    <tr>\n",
              "      <th>3</th>\n",
              "      <td>19.0</td>\n",
              "      <td>-3</td>\n",
              "      <td>-22</td>\n",
              "      <td>23</td>\n",
              "      <td>15</td>\n",
              "      <td>-9.0</td>\n",
              "      <td>-4.0</td>\n",
              "      <td>-18</td>\n",
              "      <td>-13.0</td>\n",
              "      <td>1</td>\n",
              "      <td>0</td>\n",
              "      <td>0</td>\n",
              "    </tr>\n",
              "    <tr>\n",
              "      <th>4</th>\n",
              "      <td>1.0</td>\n",
              "      <td>-9</td>\n",
              "      <td>-6</td>\n",
              "      <td>-4</td>\n",
              "      <td>-10</td>\n",
              "      <td>-4.0</td>\n",
              "      <td>5.0</td>\n",
              "      <td>1</td>\n",
              "      <td>-2.0</td>\n",
              "      <td>0</td>\n",
              "      <td>0</td>\n",
              "      <td>0</td>\n",
              "    </tr>\n",
              "  </tbody>\n",
              "</table>\n",
              "</div>\n",
              "      <button class=\"colab-df-convert\" onclick=\"convertToInteractive('df-eb395175-f979-464a-900d-e340249fd0e5')\"\n",
              "              title=\"Convert this dataframe to an interactive table.\"\n",
              "              style=\"display:none;\">\n",
              "        \n",
              "  <svg xmlns=\"http://www.w3.org/2000/svg\" height=\"24px\"viewBox=\"0 0 24 24\"\n",
              "       width=\"24px\">\n",
              "    <path d=\"M0 0h24v24H0V0z\" fill=\"none\"/>\n",
              "    <path d=\"M18.56 5.44l.94 2.06.94-2.06 2.06-.94-2.06-.94-.94-2.06-.94 2.06-2.06.94zm-11 1L8.5 8.5l.94-2.06 2.06-.94-2.06-.94L8.5 2.5l-.94 2.06-2.06.94zm10 10l.94 2.06.94-2.06 2.06-.94-2.06-.94-.94-2.06-.94 2.06-2.06.94z\"/><path d=\"M17.41 7.96l-1.37-1.37c-.4-.4-.92-.59-1.43-.59-.52 0-1.04.2-1.43.59L10.3 9.45l-7.72 7.72c-.78.78-.78 2.05 0 2.83L4 21.41c.39.39.9.59 1.41.59.51 0 1.02-.2 1.41-.59l7.78-7.78 2.81-2.81c.8-.78.8-2.07 0-2.86zM5.41 20L4 18.59l7.72-7.72 1.47 1.35L5.41 20z\"/>\n",
              "  </svg>\n",
              "      </button>\n",
              "      \n",
              "  <style>\n",
              "    .colab-df-container {\n",
              "      display:flex;\n",
              "      flex-wrap:wrap;\n",
              "      gap: 12px;\n",
              "    }\n",
              "\n",
              "    .colab-df-convert {\n",
              "      background-color: #E8F0FE;\n",
              "      border: none;\n",
              "      border-radius: 50%;\n",
              "      cursor: pointer;\n",
              "      display: none;\n",
              "      fill: #1967D2;\n",
              "      height: 32px;\n",
              "      padding: 0 0 0 0;\n",
              "      width: 32px;\n",
              "    }\n",
              "\n",
              "    .colab-df-convert:hover {\n",
              "      background-color: #E2EBFA;\n",
              "      box-shadow: 0px 1px 2px rgba(60, 64, 67, 0.3), 0px 1px 3px 1px rgba(60, 64, 67, 0.15);\n",
              "      fill: #174EA6;\n",
              "    }\n",
              "\n",
              "    [theme=dark] .colab-df-convert {\n",
              "      background-color: #3B4455;\n",
              "      fill: #D2E3FC;\n",
              "    }\n",
              "\n",
              "    [theme=dark] .colab-df-convert:hover {\n",
              "      background-color: #434B5C;\n",
              "      box-shadow: 0px 1px 3px 1px rgba(0, 0, 0, 0.15);\n",
              "      filter: drop-shadow(0px 1px 2px rgba(0, 0, 0, 0.3));\n",
              "      fill: #FFFFFF;\n",
              "    }\n",
              "  </style>\n",
              "\n",
              "      <script>\n",
              "        const buttonEl =\n",
              "          document.querySelector('#df-eb395175-f979-464a-900d-e340249fd0e5 button.colab-df-convert');\n",
              "        buttonEl.style.display =\n",
              "          google.colab.kernel.accessAllowed ? 'block' : 'none';\n",
              "\n",
              "        async function convertToInteractive(key) {\n",
              "          const element = document.querySelector('#df-eb395175-f979-464a-900d-e340249fd0e5');\n",
              "          const dataTable =\n",
              "            await google.colab.kernel.invokeFunction('convertToInteractive',\n",
              "                                                     [key], {});\n",
              "          if (!dataTable) return;\n",
              "\n",
              "          const docLinkHtml = 'Like what you see? Visit the ' +\n",
              "            '<a target=\"_blank\" href=https://colab.research.google.com/notebooks/data_table.ipynb>data table notebook</a>'\n",
              "            + ' to learn more about interactive tables.';\n",
              "          element.innerHTML = '';\n",
              "          dataTable['output_type'] = 'display_data';\n",
              "          await google.colab.output.renderOutput(dataTable, element);\n",
              "          const docLink = document.createElement('div');\n",
              "          docLink.innerHTML = docLinkHtml;\n",
              "          element.appendChild(docLink);\n",
              "        }\n",
              "      </script>\n",
              "    </div>\n",
              "  </div>\n",
              "  "
            ]
          },
          "metadata": {},
          "execution_count": 124
        }
      ]
    },
    {
      "cell_type": "code",
      "source": [
        "#@title Elimino els outliers\n",
        "df2=df1.copy()\n",
        "\n",
        "dfEliminarOutliers= ((df2['E_Despegue']> -30) & \n",
        "                     (df2['E_Despegue']< 30) & \n",
        "                     (df2['Puntualidad1']< 30) & \n",
        "                     (df2['Puntualidad1']>-30) &\n",
        "                     (df2['Puntualidad2']< 30) & \n",
        "                     (df2['Puntualidad2']>-30)&\n",
        "                     (df2['E_Despegue2']< 30) & \n",
        "                     (df2['E_Despegue2']>-30)&\n",
        "                     (df2['Puntualidad3']< 30) & \n",
        "                     (df2['Puntualidad3']>-30)&\n",
        "                     (df2['E_Despegue3']< 30) & \n",
        "                     (df2['E_Despegue3']>-30))\n",
        "\n",
        "df2 = df2[dfEliminarOutliers]"
      ],
      "metadata": {
        "id": "cx07AUeg-NeZ",
        "cellView": "form"
      },
      "execution_count": 125,
      "outputs": []
    },
    {
      "cell_type": "code",
      "source": [
        "df2.info()"
      ],
      "metadata": {
        "colab": {
          "base_uri": "https://localhost:8080/",
          "height": 0
        },
        "id": "Z1ZYSIYJ-gVC",
        "outputId": "e53a46a8-e27d-4989-ff4c-68f84332a0d7"
      },
      "execution_count": 126,
      "outputs": [
        {
          "output_type": "stream",
          "name": "stdout",
          "text": [
            "<class 'pandas.core.frame.DataFrame'>\n",
            "Int64Index: 10708 entries, 0 to 12357\n",
            "Data columns (total 12 columns):\n",
            " #   Column             Non-Null Count  Dtype  \n",
            "---  ------             --------------  -----  \n",
            " 0   Puntualidad1       10708 non-null  float64\n",
            " 1   Puntualidad2       10708 non-null  int64  \n",
            " 2   Puntualidad3       10708 non-null  int64  \n",
            " 3   E_Despegue         10708 non-null  int64  \n",
            " 4   E_Despegue2        10708 non-null  int64  \n",
            " 5   E_Despegue3        10708 non-null  float64\n",
            " 6   E_Duracion_Vuelo   10708 non-null  float64\n",
            " 7   E_Duracion_Vuelo2  10708 non-null  int64  \n",
            " 8   E_Duracion_Vuelo3  10708 non-null  float64\n",
            " 9   Tard1              10708 non-null  int64  \n",
            " 10  Tard2              10708 non-null  int64  \n",
            " 11  Tard3              10708 non-null  int64  \n",
            "dtypes: float64(4), int64(8)\n",
            "memory usage: 1.1 MB\n"
          ]
        }
      ]
    },
    {
      "cell_type": "code",
      "source": [
        "# Amb les dades transformades veig si ha canviat molt la forma de cada variable\n",
        "\n",
        "ax= df2[df2.columns[:-3]].hist(figsize=(18,10))\n",
        " "
      ],
      "metadata": {
        "colab": {
          "base_uri": "https://localhost:8080/",
          "height": 610
        },
        "id": "73Qd_rxV_2SB",
        "outputId": "d4030994-7e5b-4d4a-bad8-5b988aadc273"
      },
      "execution_count": 127,
      "outputs": [
        {
          "output_type": "display_data",
          "data": {
            "text/plain": [
              "<Figure size 1296x720 with 9 Axes>"
            ],
            "image/png": "[encoded data removed]"
          },
          "metadata": {}
        }
      ]
    },
    {
      "cell_type": "markdown",
      "source": [
        "Jose Manuel Castaño.\n",
        "\n",
        "desbanceado = sampling \n",
        "Diferencia de accuracy y precision.\n",
        "\n",
        "RobustScaler dummies\n",
        "gradien boosting clasificaier\n",
        "aplicar el cross validation\n",
        "random forest e sbueno para los desbalanceados"
      ],
      "metadata": {
        "id": "9Syb1DBcFVeg"
      }
    },
    {
      "cell_type": "markdown",
      "source": [
        "finaldf= pd.concat([principal_Df,df[['target']]],axis=1)"
      ],
      "metadata": {
        "id": "n4wFW_yIaWmy"
      }
    },
    {
      "cell_type": "code",
      "source": [
        "#@title quines variables tenen més correlació respecte al target (tard 3)\n",
        "# Vull veure quines variables tenen més correlació respecte al target (tard 3)\n",
        "\n",
        "columns_sorted = df2.corr().abs().nlargest(4, 'Puntualidad3').index\n",
        "correlation_sorted = np.corrcoef(df2[columns_sorted].values.T)\n",
        "\n",
        "f, ax = plt.subplots(figsize = (9,7.5))\n",
        "hm = sns.heatmap(abs(correlation_sorted), annot=True, square=True, fmt='.2f', annot_kws={'size': 10}, yticklabels=columns_sorted.values, xticklabels=columns_sorted.values, cmap='summer')\n",
        "plt.show()"
      ],
      "metadata": {
        "id": "kfTJTxkxe7-n",
        "outputId": "d49f71bb-ff42-4120-b3a2-9b8f1965ef81",
        "colab": {
          "base_uri": "https://localhost:8080/",
          "height": 460
        },
        "cellView": "form"
      },
      "execution_count": 128,
      "outputs": [
        {
          "output_type": "display_data",
          "data": {
            "text/plain": [
              "<Figure size 648x540 with 2 Axes>"
            ],
            "image/png": "[encoded data removed]"
          },
          "metadata": {}
        }
      ]
    },
    {
      "cell_type": "code",
      "source": [
        "# Creo Subrutina de metricas:\n",
        "\n",
        "#Importo scikit-learn metrics module para el calculo\n",
        "from sklearn import metrics\n",
        "from sklearn.metrics import mean_squared_error\n",
        "from sklearn.metrics import r2_score\n",
        "metricasEjercicio2=[]\n",
        "######################################################################\n",
        " \n",
        "def MetricasModelo(metodo, Y_real, Y_calculado, scores):\n",
        "  print('Metodo: ', metodo)\n",
        "  \n",
        "  #Precisión del modelo: ¿con qué frecuencia es correcto el clasificador?\n",
        "  #accuracy = metrics.accuracy_score(Y_real, Y_calculado)\n",
        "  #print(\"Accuracy:\", accuracy)\n",
        "\n",
        "  rmse = np.sqrt(mean_squared_error(Y_real, Y_calculado,))\n",
        "  print(\"RMSE: %f\" % (rmse))\n",
        "  \n",
        "\n",
        "  R_squared = r2_score(Y_real, Y_calculado,)\n",
        "\n",
        "  print(\"R-Squared: \", np.round(R_squared, 2))\n",
        " \n",
        "  print(\"Accuracy: %0.2f (+/- %0.2f)\" % (scores.mean(), scores.std() * 2))\n",
        "  accuracy = \"Accuracy: %0.2f (+/- %0.2f)\" % (scores.mean(), scores.std() * 2)\n",
        "\n",
        "  # Guardo metricas\n",
        "  metricasEjercicio2.append([metodo, rmse, R_squared, accuracy])  \n",
        "\n",
        "\n",
        "  cnf_matrix_SVM = metrics.confusion_matrix(Y_real, Y_calculado)\n",
        "\n",
        "  print('\\n\\nMatriz de Confusión')\n",
        "  print(cnf_matrix_SVM)\n",
        "\n",
        "\n",
        "  # Creamos la Matriz de Confusion:\n",
        "\n",
        "  class_names=[0,1] # name  of classes\n",
        "  \n",
        "  fig, ax = plt.subplots()\n",
        "  tick_marks = np.arange(len(class_names))\n",
        "  plt.xticks(tick_marks, class_names)\n",
        "  plt.yticks(tick_marks, class_names)\n",
        "\n",
        "  # create heatmap\n",
        "\n",
        "  sns.heatmap(pd.DataFrame(cnf_matrix_SVM), annot=True, cmap=\"gist_ncar\" ,fmt='g')\n",
        "  ax.xaxis.set_label_position(\"top\")\n",
        " \n",
        "\n",
        "  plt.tight_layout()\n",
        "  plt.title('Matriu de confusió', y=1.1)\n",
        "  plt.ylabel('Valor Actual')\n",
        "  plt.xlabel('Valor predit')\n",
        "  plt.Text(1.5,257.44,'Predicció')\n"
      ],
      "metadata": {
        "id": "Rb4T0O7DlB82"
      },
      "execution_count": 129,
      "outputs": []
    },
    {
      "cell_type": "markdown",
      "source": [
        "# Regresión logística con Python\n",
        "\n",
        "https://www.cienciadedatos.net/documentos/py17-regresion-logistica-python.html"
      ],
      "metadata": {
        "id": "vP8eFDAXkjvv"
      }
    },
    {
      "cell_type": "code",
      "source": [
        "# Número de obsercaciones por clase\n",
        "# ==============================================================================\n",
        "df2['Tard3'].value_counts().sort_index()"
      ],
      "metadata": {
        "colab": {
          "base_uri": "https://localhost:8080/",
          "height": 0
        },
        "id": "0gwrUvadivlr",
        "outputId": "54d8b223-7b3f-44ef-c32d-6fe45b8e737f"
      },
      "execution_count": 130,
      "outputs": [
        {
          "output_type": "execute_result",
          "data": {
            "text/plain": [
              "0    9950\n",
              "1     758\n",
              "Name: Tard3, dtype: int64"
            ]
          },
          "metadata": {},
          "execution_count": 130
        }
      ]
    },
    {
      "cell_type": "code",
      "source": [
        "#@title Gráfic distribució del retard-3 en funció de E_Despegue del segon salt\n",
        "# ==============================================================================\n",
        "fig, ax = plt.subplots(figsize=(6, 4))\n",
        "\n",
        "sns.violinplot(\n",
        "        x     = 'Tard3',\n",
        "        y     = 'E_Despegue2',\n",
        "        data  = df2,\n",
        "        #color = \"white\",\n",
        "        ax    = ax\n",
        "    )\n",
        "\n",
        "ax.set_title('Distribució del retard en funció de E_Despegue del segon salt');"
      ],
      "metadata": {
        "colab": {
          "base_uri": "https://localhost:8080/",
          "height": 301
        },
        "id": "hXg-3hWBh4yw",
        "outputId": "b4e0bb1b-c12b-4dc6-fef8-6f977a975a20",
        "cellView": "form"
      },
      "execution_count": 131,
      "outputs": [
        {
          "output_type": "display_data",
          "data": {
            "text/plain": [
              "<Figure size 432x288 with 1 Axes>"
            ],
            "image/png": "[encoded data removed]"
          },
          "metadata": {}
        }
      ]
    },
    {
      "cell_type": "code",
      "source": [
        "#@title T-test entre classes\n",
        "# ==============================================================================\n",
        "from statsmodels.stats.weightstats import ttest_ind\n",
        "\n",
        "\n",
        "res_ttest = ttest_ind(\n",
        "                x1 = df2[df2['Tard3'] == 0],\n",
        "                x2 = df2[df2['Tard3'] == 1],\n",
        "                alternative='two-sided'\n",
        "            )\n",
        "#print(f\"t={res_ttest[0]}, p-value={res_ttest[1]}\")\n",
        "\n",
        "print('t_test  =', round(res_ttest[1].mean(),3))"
      ],
      "metadata": {
        "colab": {
          "base_uri": "https://localhost:8080/",
          "height": 0
        },
        "id": "NKiXGKKQjjiP",
        "outputId": "d72d7093-9038-49fe-e509-680731e267d8"
      },
      "execution_count": 183,
      "outputs": [
        {
          "output_type": "stream",
          "name": "stdout",
          "text": [
            "t_test  = 0.001\n"
          ]
        }
      ]
    },
    {
      "cell_type": "markdown",
      "source": [
        "\n",
        "Tant el gràfic com el t-test mostren evidències que hi ha una diferència entre l'error en el retard i l'error en l'enlairament. Aquesta informació és útil per considerar l'error en l'enlairament com un bon predictor per al model."
      ],
      "metadata": {
        "id": "vEO7YQUhtlKH"
      }
    },
    {
      "cell_type": "markdown",
      "source": [
        "## Considerem només una variable (Error en l'enlairament de l'anterior salt)"
      ],
      "metadata": {
        "id": "n5fDXotf1PBF"
      }
    },
    {
      "cell_type": "code",
      "source": [
        "# Importo train_test_split function para dividir los datos en Test y Train\n",
        "\n",
        "from sklearn.model_selection import train_test_split\n",
        "\n",
        "datos_x= df2.loc[:, ['E_Despegue2']].values\n",
        "datos_y = df2.loc[:,['Tard3']].values\n",
        "\n",
        "#Dividimos el dataset en training set y test set\n",
        "X_train, X_test, y_train, y_test = train_test_split(datos_x, datos_y, test_size=0.3,random_state=109) # 70% training i 30% test"
      ],
      "metadata": {
        "id": "QlwmyigSwx3i"
      },
      "execution_count": 135,
      "outputs": []
    },
    {
      "cell_type": "code",
      "source": [
        "import statsmodels.api as sm\n",
        "\n",
        "modelo = sm.Logit(endog=y_train, exog=X_train,)\n",
        "modelo = modelo.fit()\n",
        "print(modelo.summary2())"
      ],
      "metadata": {
        "id": "rr4arrlDvZW-",
        "outputId": "31ac9ac3-d9df-42a0-eb0f-98af92c4413f",
        "colab": {
          "base_uri": "https://localhost:8080/",
          "height": 0
        }
      },
      "execution_count": 136,
      "outputs": [
        {
          "output_type": "stream",
          "name": "stdout",
          "text": [
            "Optimization terminated successfully.\n",
            "         Current function value: 0.660201\n",
            "         Iterations 5\n",
            "                         Results: Logit\n",
            "================================================================\n",
            "Model:              Logit            Pseudo R-squared: -1.540   \n",
            "Dependent Variable: y                AIC:              9898.4123\n",
            "Date:               2022-10-04 07:55 BIC:              9905.3343\n",
            "No. Observations:   7495             Log-Likelihood:   -4948.2  \n",
            "Df Model:           0                LL-Null:          -1948.1  \n",
            "Df Residuals:       7494             LLR p-value:      nan      \n",
            "Converged:          1.0000           Scale:            1.0000   \n",
            "No. Iterations:     5.0000                                      \n",
            "-------------------------------------------------------------------\n",
            "        Coef.     Std.Err.       z       P>|z|     [0.025    0.975]\n",
            "-------------------------------------------------------------------\n",
            "x1      0.0633      0.0030    21.0440    0.0000    0.0574    0.0692\n",
            "================================================================\n",
            "\n"
          ]
        }
      ]
    },
    {
      "cell_type": "markdown",
      "source": [
        "Ens dona un valor molt baix de R-squared:, vol dir que no influeix. \n",
        "\n",
        "És **estadísticament** significatiu (p-value =0), però no *pràcticament* significatiu.\n",
        "\n",
        "\n",
        "---\n",
        "\n"
      ],
      "metadata": {
        "id": "ukhVbV7FuPFZ"
      }
    },
    {
      "cell_type": "code",
      "source": [
        "X_train"
      ],
      "metadata": {
        "colab": {
          "base_uri": "https://localhost:8080/",
          "height": 0
        },
        "id": "fI2GYkou1tut",
        "outputId": "ff208a4b-dfec-4371-c7c8-b254633d5085"
      },
      "execution_count": 137,
      "outputs": [
        {
          "output_type": "execute_result",
          "data": {
            "text/plain": [
              "array([[-1],\n",
              "       [-5],\n",
              "       [ 7],\n",
              "       ...,\n",
              "       [-5],\n",
              "       [-1],\n",
              "       [-5]])"
            ]
          },
          "metadata": {},
          "execution_count": 137
        }
      ]
    },
    {
      "cell_type": "code",
      "source": [
        "# Predicción de probabilidades\n",
        "# ==============================================================================\n",
        "predicciones = modelo.predict(exog = X_train)\n",
        "predicciones[:4]"
      ],
      "metadata": {
        "id": "DII8QkfZwEzT",
        "outputId": "6a4405e1-c8f2-4167-ec46-9010db3a873c",
        "colab": {
          "base_uri": "https://localhost:8080/",
          "height": 0
        }
      },
      "execution_count": 138,
      "outputs": [
        {
          "output_type": "execute_result",
          "data": {
            "text/plain": [
              "array([0.4841688 , 0.42147291, 0.60907408, 0.53163069])"
            ]
          },
          "metadata": {},
          "execution_count": 138
        }
      ]
    },
    {
      "cell_type": "code",
      "source": [
        "# instanciar el modelo (usando los parámetros predeterminados)\n",
        "\n",
        "from sklearn.linear_model import LogisticRegression\n",
        "\n",
        "\n",
        "logreg = LogisticRegression()\n",
        "\n",
        "\n",
        "# fit el modelo\n",
        "logreg.fit(X_train,y_train)\n",
        "\n",
        "#\n",
        "y_pred_RLogis=logreg.predict(X_test)"
      ],
      "metadata": {
        "id": "gEb92ShlwMeb"
      },
      "execution_count": 139,
      "outputs": []
    },
    {
      "cell_type": "code",
      "source": [
        "#@title Cross_val_score\n",
        "\n",
        "\n",
        "#Cross_val_score és una funció del paquet scikit-learn que entrena i prova un model en diversos plecs \n",
        "#del vostre conjunt de dades. Aquest mètode de validació creuada us ofereix una millor comprensió del rendiment \n",
        "# del model a tot el conjunt de dades en lloc d'una sola divisió de tren/prova.\n",
        "\n",
        "\n",
        "scores_RL = cross_val_score(logreg, X_train, y_train, cv=5)\n",
        " \n",
        "print(\"Accuracy: %0.2f (+/- %0.2f)\" % (scores_RL.mean(), scores_RL.std() * 2))"
      ],
      "metadata": {
        "id": "nGmZlItCyraE",
        "outputId": "50a76c49-7e57-48b8-95bd-60b90abbb6b3",
        "colab": {
          "base_uri": "https://localhost:8080/",
          "height": 0
        },
        "cellView": "form"
      },
      "execution_count": 140,
      "outputs": [
        {
          "output_type": "stream",
          "name": "stdout",
          "text": [
            "Accuracy: 0.93 (+/- 0.00)\n"
          ]
        }
      ]
    },
    {
      "cell_type": "code",
      "source": [
        "X_train= pd.DataFrame(X_train)\n",
        "ax= X_train.hist(figsize=(8,5))"
      ],
      "metadata": {
        "id": "4aN2KHv6zKc8",
        "outputId": "44cfc8f7-1199-4a67-c438-2489de416a8a",
        "colab": {
          "base_uri": "https://localhost:8080/",
          "height": 338
        }
      },
      "execution_count": 141,
      "outputs": [
        {
          "output_type": "display_data",
          "data": {
            "text/plain": [
              "<Figure size 576x360 with 1 Axes>"
            ],
            "image/png": "[encoded data removed]"
          },
          "metadata": {}
        }
      ]
    },
    {
      "cell_type": "code",
      "source": [
        "X_test.shape"
      ],
      "metadata": {
        "id": "IQRpGlxmzKn3",
        "outputId": "c88e3503-2c82-4763-f464-c45ec960c1a6",
        "colab": {
          "base_uri": "https://localhost:8080/",
          "height": 0
        }
      },
      "execution_count": 142,
      "outputs": [
        {
          "output_type": "execute_result",
          "data": {
            "text/plain": [
              "(3213, 1)"
            ]
          },
          "metadata": {},
          "execution_count": 142
        }
      ]
    },
    {
      "cell_type": "code",
      "source": [
        "# NO FUNCIONA\n",
        "\n",
        "\n",
        "# Accuracy de test del model\n",
        "# ==============================================================================\n",
        "#X_test = sm.add_constant(X_test, prepend=True)\n",
        "predicciones = modelo.predict(exog = X_test)\n",
        "clasificacion = np.where(predicciones<0.5, 0, 1)\n",
        "accuracy = accuracy_score(\n",
        "            y_true    = y_test,\n",
        "            y_pred    = clasificacion,\n",
        "            normalize = True\n",
        "           )\n",
        "print(\"\")\n",
        "print(f\"El accuracy de test es: {100*accuracy}%\")"
      ],
      "metadata": {
        "id": "5JDBAJ9LyrkE",
        "outputId": "471f6e6e-2991-4e6d-f986-c3c070cdd91d",
        "colab": {
          "base_uri": "https://localhost:8080/",
          "height": 0
        }
      },
      "execution_count": 143,
      "outputs": [
        {
          "output_type": "stream",
          "name": "stdout",
          "text": [
            "\n",
            "El accuracy de test es: 66.69779022720199%\n"
          ]
        }
      ]
    },
    {
      "cell_type": "code",
      "source": [
        "#Borrar\n",
        "X_train, X_test, y_train, y_test = train_test_split(datos_x, datos_y, test_size=0.3,random_state=109) # 70% training and 30% test\n",
        "# instanciar el modelo (usando los parámetros predeterminados)\n",
        "logreg = LogisticRegression()\n",
        "\n",
        "# fit el modelo\n",
        "logreg.fit(X_train,y_train)\n",
        "\n",
        "#\n",
        "y_pred_RLogis=logreg.predict(X_test)"
      ],
      "metadata": {
        "id": "_Z64TeouytwL"
      },
      "execution_count": 144,
      "outputs": []
    },
    {
      "cell_type": "code",
      "source": [
        "# Predicciones en todo el rango de X\n",
        "# ==============================================================================\n",
        "# Se crea un vector con nuevos valores interpolados en el rango de observaciones.\n",
        "\n",
        "grid_X = np.linspace(\n",
        "            start = min(df2.E_Despegue2),\n",
        "            stop  = max(df2.E_Despegue2),\n",
        "            num   = 200\n",
        "         ).reshape(-1,1)\n",
        "\n",
        "grid_X = sm.add_constant(grid_X, prepend=True)\n",
        "predicciones = modelo.predict()"
      ],
      "metadata": {
        "id": "WD6qI9a6wQRh"
      },
      "execution_count": 145,
      "outputs": []
    },
    {
      "cell_type": "code",
      "source": [
        "# Creación del modelo\n",
        "# ==============================================================================\n",
        "# Para no incluir ningún tipo de regularización en el modelo se indica\n",
        "# penalty='none'\n",
        "\n",
        "modelo = logreg.predict(X_test)\n",
        "#modelo.fit(X = X_train.reshape(-1, 1), y = y_train)"
      ],
      "metadata": {
        "id": "gPnwdmHgsiz9"
      },
      "execution_count": 147,
      "outputs": []
    },
    {
      "cell_type": "code",
      "source": [
        "X_test.shape"
      ],
      "metadata": {
        "id": "LFEYqSNl3FHC",
        "outputId": "f5e50531-e62c-4893-d283-a005e1292bb4",
        "colab": {
          "base_uri": "https://localhost:8080/",
          "height": 0
        }
      },
      "execution_count": 148,
      "outputs": [
        {
          "output_type": "execute_result",
          "data": {
            "text/plain": [
              "(3213, 1)"
            ]
          },
          "metadata": {},
          "execution_count": 148
        }
      ]
    },
    {
      "cell_type": "markdown",
      "source": [
        "# 3.- Gestió unbalance dataset"
      ],
      "metadata": {
        "id": "1IYi99it7HII"
      }
    },
    {
      "cell_type": "markdown",
      "source": [
        "https://elitedatascience.com/imbalanced-classes"
      ],
      "metadata": {
        "id": "DcKhunuU7flu"
      }
    },
    {
      "cell_type": "markdown",
      "source": [
        "## Regressió Logística Balanceada"
      ],
      "metadata": {
        "id": "8VnYdSNh6FXz"
      }
    },
    {
      "cell_type": "code",
      "source": [
        "#@title Número de obsercacions per clase\n",
        "# ==============================================================================\n",
        "df2['Tard3'].value_counts().sort_index()"
      ],
      "metadata": {
        "id": "t-LfAvAS6M2u",
        "outputId": "bd6f6784-0531-41c4-aefe-3745532f9d44",
        "colab": {
          "base_uri": "https://localhost:8080/",
          "height": 0
        }
      },
      "execution_count": 149,
      "outputs": [
        {
          "output_type": "execute_result",
          "data": {
            "text/plain": [
              "0    9950\n",
              "1     758\n",
              "Name: Tard3, dtype: int64"
            ]
          },
          "metadata": {},
          "execution_count": 149
        }
      ]
    },
    {
      "cell_type": "code",
      "source": [
        "fig, ax = plt.subplots(figsize=(6, 4))\n",
        "sns.countplot(x='Tard3',data=df2, palette='hls')\n",
        "plt.show()"
      ],
      "metadata": {
        "id": "sM9ogDY50vvt",
        "outputId": "54e2e26d-db78-47fd-917f-bb614ea794a7",
        "colab": {
          "base_uri": "https://localhost:8080/",
          "height": 285
        }
      },
      "execution_count": 348,
      "outputs": [
        {
          "output_type": "display_data",
          "data": {
            "text/plain": [
              "<Figure size 432x288 with 1 Axes>"
            ],
            "image/png": "[encoded data removed]"
          },
          "metadata": {}
        }
      ]
    },
    {
      "cell_type": "markdown",
      "source": [
        "Veiem que les vols que arriben a l'hora v els que arriben tard és totalment desproporcionat, i per això diem que està des-balancejat.\n",
        "\n",
        "\n",
        "---\n",
        "\n",
        "\n"
      ],
      "metadata": {
        "id": "y_cZRUncpYXR"
      }
    },
    {
      "cell_type": "code",
      "source": [
        "df2.columns"
      ],
      "metadata": {
        "id": "iDmG7Pkl8Wrm",
        "outputId": "8bebb2cb-ab4b-4882-fd04-354442369225",
        "colab": {
          "base_uri": "https://localhost:8080/",
          "height": 0
        }
      },
      "execution_count": 151,
      "outputs": [
        {
          "output_type": "execute_result",
          "data": {
            "text/plain": [
              "Index(['Puntualidad1', 'Puntualidad2', 'Puntualidad3', 'E_Despegue',\n",
              "       'E_Despegue2', 'E_Despegue3', 'E_Duracion_Vuelo', 'E_Duracion_Vuelo2',\n",
              "       'E_Duracion_Vuelo3', 'Tard1', 'Tard2', 'Tard3'],\n",
              "      dtype='object')"
            ]
          },
          "metadata": {},
          "execution_count": 151
        }
      ]
    },
    {
      "cell_type": "code",
      "source": [
        "#@title creem df2_sobremostrejat\n",
        "\n",
        "from sklearn.utils import resample\n",
        "\n",
        "\n",
        "# Classes majoritàries i minoritàries separades\n",
        "df_majority = df2[df2.Tard3==0]\n",
        "df_minority = df2[df2.Tard3==1]\n",
        " \n",
        "# Upsample minority class\n",
        "df_minority_sobremostrejat = resample(df_minority, \n",
        "                                 replace=True,     # sample with replacement\n",
        "                                 n_samples=8000,    # to match majority class\n",
        "                                 random_state=123) # reproducible results\n",
        " \n",
        "# Combina la classe majoritària amb la classe minoritària sobremostrejat\n",
        "df2_sobremostrejat = pd.concat([df_majority, df_minority_sobremostrejat])\n",
        "\n",
        "#Mostra els nous recomptes de classes\n",
        "# \n",
        "df2_sobremostrejat.Tard3.value_counts()\n",
        " "
      ],
      "metadata": {
        "id": "BMq9MeEw739R",
        "outputId": "71fe6779-f55e-4d22-ec86-5ff04cc23dd4",
        "colab": {
          "base_uri": "https://localhost:8080/",
          "height": 0
        }
      },
      "execution_count": 152,
      "outputs": [
        {
          "output_type": "execute_result",
          "data": {
            "text/plain": [
              "0    9950\n",
              "1    8000\n",
              "Name: Tard3, dtype: int64"
            ]
          },
          "metadata": {},
          "execution_count": 152
        }
      ]
    },
    {
      "cell_type": "code",
      "source": [
        "#@title  Boxplot Error enlairament 3r salt v Error arribada.\n",
        "\n",
        "fig, ax = plt.subplots(figsize=(6, 3.84))\n",
        "\n",
        "sns.violinplot(\n",
        "        x     = 'Tard3',\n",
        "        y     = 'E_Despegue3',\n",
        "        data  = df2_sobremostrejat,\n",
        "        #color = \"white\",\n",
        "        ax    = ax\n",
        "    )\n",
        "\n",
        "ax.set_title('Boxplot Error enlairament v retard (10-0)');"
      ],
      "metadata": {
        "id": "ywbf7rh-ciCq",
        "outputId": "dbb3de45-68e7-4f2b-9471-b18514f214a6",
        "colab": {
          "base_uri": "https://localhost:8080/",
          "height": 292
        },
        "cellView": "form"
      },
      "execution_count": 153,
      "outputs": [
        {
          "output_type": "display_data",
          "data": {
            "text/plain": [
              "<Figure size 432x276.48 with 1 Axes>"
            ],
            "image/png": "[encoded data removed]"
          },
          "metadata": {}
        }
      ]
    },
    {
      "cell_type": "markdown",
      "source": [
        "Veiem que hi ha correlació si l'avió surt tard en el tercer enlairament, hi haurà un retard en l'arribada.\n",
        "\n",
        "\n",
        "---\n",
        "\n"
      ],
      "metadata": {
        "id": "JT6MxDKOsI2b"
      }
    },
    {
      "cell_type": "code",
      "source": [
        "#@title Boxplot E arribada 3r salt v Error enlairament 2n salt\n",
        "fig, ax = plt.subplots(figsize=(6, 3.84))\n",
        "sns.violinplot(\n",
        "        x     = 'Tard3',\n",
        "        y     = 'E_Despegue2',\n",
        "        data  = df2_sobremostrejat,\n",
        "        #color = \"white\",\n",
        "        ax    = ax\n",
        "    )\n",
        "fig, ax = plt.subplots(figsize=(6, 4))\n",
        "ax.set_title('Boxplot Error enlairament v retard (10-0)');\n"
      ],
      "metadata": {
        "colab": {
          "base_uri": "https://localhost:8080/",
          "height": 543
        },
        "id": "0HhBXQi1217q",
        "outputId": "acc5a4d1-89f1-4c58-deeb-5233c0399d44"
      },
      "execution_count": 347,
      "outputs": [
        {
          "output_type": "display_data",
          "data": {
            "text/plain": [
              "<Figure size 432x276.48 with 1 Axes>"
            ],
            "image/png": "[encoded data removed]"
          },
          "metadata": {}
        },
        {
          "output_type": "display_data",
          "data": {
            "text/plain": [
              "<Figure size 432x288 with 1 Axes>"
            ],
            "image/png": "[encoded data removed]"
          },
          "metadata": {}
        }
      ]
    },
    {
      "cell_type": "markdown",
      "source": [
        "Clarament, veiem que **NO** hi ha correlació clara entre en l'enlairament del 2n salt i el retard que té l'avió en el 3r salt.\n",
        "\n",
        "\n",
        "---\n",
        "\n"
      ],
      "metadata": {
        "id": "Fex_z6Ql3o-f"
      }
    },
    {
      "cell_type": "code",
      "source": [
        "#@title Importo train_test_split function per dividir les dades en Test i Train\n",
        "from sklearn.model_selection import train_test_split\n",
        "\n",
        "\n",
        "#@title Crec la columna X e Y: \n",
        "\n",
        "datos_x= df2_sobremostrejat.loc[:, ['Puntualidad1', 'Puntualidad2',  \n",
        "        'E_Despegue','E_Despegue2','E_Despegue3','E_Duracion_Vuelo','E_Duracion_Vuelo2','E_Duracion_Vuelo3',]].values\n",
        "\n",
        "datos_y = df2_sobremostrejat.loc[:,['Tard3']].values\n",
        "\n",
        "#Dividims el dataset en training set y test set\n",
        "X_train, X_test, y_train, y_test = train_test_split(datos_x, datos_y, test_size=0.3,random_state=109) # 70% training and 30% test\n",
        "\n",
        "\n",
        "# instanciem el model (fem servir els paràmetres predeterminats)\n",
        "logreg = LogisticRegression()\n",
        "\n",
        "# fit el model\n",
        "logreg.fit(X_train,y_train)\n",
        "\n",
        "#\n",
        "y_pred_RLogis=logreg.predict(X_test)\n",
        "\n",
        "scores_RL = cross_val_score(logreg, X_train, y_train, cv=5)\n",
        " \n",
        "print(\"Accuracy: %0.2f (+/- %0.2f)\" % (scores_RL.mean(), scores_RL.std() * 2))\n",
        "\n",
        "\n",
        "MetricasModelo( 'Regr.Log. des-Balancejada', y_test, y_pred_RLogis, scores_RL)\n",
        "\n"
      ],
      "metadata": {
        "id": "aB160m_sc1Ah",
        "outputId": "1a0e1d62-579b-429f-b7c3-283fe51c0a89",
        "colab": {
          "base_uri": "https://localhost:8080/",
          "height": 782
        },
        "cellView": "form"
      },
      "execution_count": 155,
      "outputs": [
        {
          "output_type": "stream",
          "name": "stdout",
          "text": [
            "Accuracy: 1.00 (+/- 0.00)\n",
            "Metodo:  Regr.Log. des-Balancejada\n",
            "RMSE: 0.000000\n",
            "R-Squared:  1.0\n",
            "Accuracy: 1.00 (+/- 0.00)\n",
            "\n",
            "\n",
            "Matriz de Confusión\n",
            "[[3009    0]\n",
            " [   0 2376]]\n"
          ]
        },
        {
          "output_type": "display_data",
          "data": {
            "text/plain": [
              "<Figure size 1080x576 with 2 Axes>"
            ],
            "image/png": "[encoded data removed]"
          },
          "metadata": {}
        }
      ]
    },
    {
      "cell_type": "markdown",
      "source": [
        "Si fiquem tots el parametres de entrada veiem un overfitting.\n",
        "\n",
        "\n",
        "---\n",
        "\n"
      ],
      "metadata": {
        "id": "xa9NsJdRtUsG"
      }
    },
    {
      "cell_type": "markdown",
      "source": [
        "# Regresión logística múltiple"
      ],
      "metadata": {
        "id": "Or4UUnRhh0Nj"
      }
    },
    {
      "cell_type": "code",
      "source": [
        "\n",
        "X_train, X_test, y_train, y_test = train_test_split(\n",
        "                                        datos_x,\n",
        "                                       datos_y,\n",
        "                                        train_size   = 0.8,\n",
        "                                        random_state = 1234,\n",
        "                                        shuffle      = True\n",
        "                                    )"
      ],
      "metadata": {
        "id": "3Nya7dYVf4_L"
      },
      "execution_count": 156,
      "outputs": []
    },
    {
      "cell_type": "code",
      "source": [
        "# Creació del model utilitzant matrius com a scikitlearn\n",
        "# ================================================= =============================\n",
        "# A la matriu de predictors cal afegir una columna de 1s per a l'intercept del model\n",
        "\n",
        "import statsmodels.api as sm\n",
        "\n",
        "# Divisió de les dades en train i test\n",
        "# ==============================================================================\n",
        "datos_x= df2_sobremostrejat.loc[:, ['Puntualidad1', 'Puntualidad2',  \n",
        "        'E_Despegue','E_Despegue2','E_Despegue3',\n",
        "        'E_Duracion_Vuelo','E_Duracion_Vuelo2','E_Duracion_Vuelo3',]].values \n",
        "\n",
        "X_train, X_test, y_train, y_test = train_test_split(\n",
        "                                        datos_x,\n",
        "                                       datos_y,\n",
        "                                        train_size   = 0.8,\n",
        "                                        random_state = 1234,\n",
        "                                        shuffle      = True\n",
        "                                    )\n"
      ],
      "metadata": {
        "id": "X2b51QOFdBwP"
      },
      "execution_count": 157,
      "outputs": []
    },
    {
      "cell_type": "code",
      "source": [
        "#X_train = sm.add_constant(X_train, prepend=True)\n",
        "modelo = sm.Logit(y_train, X_train,)\n",
        "modelo = modelo.fit()\n",
        "print(modelo.summary())"
      ],
      "metadata": {
        "id": "mbx5SRiPwtKy",
        "outputId": "4865c270-368b-414d-cd32-6660f3cb0144",
        "colab": {
          "base_uri": "https://localhost:8080/",
          "height": 0
        }
      },
      "execution_count": 158,
      "outputs": [
        {
          "output_type": "stream",
          "name": "stdout",
          "text": [
            "Warning: Maximum number of iterations has been exceeded.\n",
            "         Current function value: 0.146195\n",
            "         Iterations: 35\n",
            "                           Logit Regression Results                           \n",
            "==============================================================================\n",
            "Dep. Variable:                      y   No. Observations:                14360\n",
            "Model:                          Logit   Df Residuals:                    14354\n",
            "Method:                           MLE   Df Model:                            5\n",
            "Date:                Tue, 04 Oct 2022   Pseudo R-squ.:                  0.7872\n",
            "Time:                        07:55:36   Log-Likelihood:                -2099.4\n",
            "converged:                      False   LL-Null:                       -9865.6\n",
            "Covariance Type:            nonrobust   LLR p-value:                     0.000\n",
            "==============================================================================\n",
            "                 coef    std err          z      P>|z|      [0.025      0.975]\n",
            "------------------------------------------------------------------------------\n",
            "x1             0.0661        nan        nan        nan         nan         nan\n",
            "x2             0.0273        nan        nan        nan         nan         nan\n",
            "x3             0.0230        nan        nan        nan         nan         nan\n",
            "x4            -0.0491      0.005     -9.516      0.000      -0.059      -0.039\n",
            "x5             0.3684      0.007     49.128      0.000       0.354       0.383\n",
            "x6             0.0432        nan        nan        nan         nan         nan\n",
            "x7             0.0765        nan        nan        nan         nan         nan\n",
            "x8             0.3760      0.008     46.538      0.000       0.360       0.392\n",
            "==============================================================================\n"
          ]
        },
        {
          "output_type": "stream",
          "name": "stderr",
          "text": [
            "/usr/local/lib/python3.7/dist-packages/statsmodels/base/model.py:568: ConvergenceWarning: Maximum Likelihood optimization failed to converge. Check mle_retvals\n",
            "  ConvergenceWarning)\n"
          ]
        }
      ]
    },
    {
      "cell_type": "markdown",
      "source": [
        "# 3.- Regresion Logistica Balanceada Binomial"
      ],
      "metadata": {
        "id": "eI7U7L_5zhG_"
      }
    },
    {
      "cell_type": "code",
      "source": [
        "df2_sobremostrejat.shape"
      ],
      "metadata": {
        "id": "EqUme0Sozs_5",
        "outputId": "f27c4016-9952-4696-cfef-9b0fa3b15737",
        "colab": {
          "base_uri": "https://localhost:8080/",
          "height": 0
        }
      },
      "execution_count": 159,
      "outputs": [
        {
          "output_type": "execute_result",
          "data": {
            "text/plain": [
              "(17950, 12)"
            ]
          },
          "metadata": {},
          "execution_count": 159
        }
      ]
    },
    {
      "cell_type": "code",
      "source": [
        "fig, ax = plt.subplots(figsize=(6, 4))\n",
        "sns.countplot(x='Tard3',data=df2_sobremostrejat, palette='hls')\n",
        "plt.show()"
      ],
      "metadata": {
        "id": "ho4CfT9Az6ms",
        "outputId": "fdc99a47-e69a-44b2-9f8e-efb18cfdc92f",
        "colab": {
          "base_uri": "https://localhost:8080/",
          "height": 276
        }
      },
      "execution_count": 346,
      "outputs": [
        {
          "output_type": "display_data",
          "data": {
            "text/plain": [
              "<Figure size 432x276.48 with 1 Axes>"
            ],
            "image/png": "[encoded data removed]"
          },
          "metadata": {}
        }
      ]
    },
    {
      "cell_type": "code",
      "source": [
        "datos_x= df2_sobremostrejat.loc[:, ['Puntualidad1', 'Puntualidad2',  \n",
        "        'E_Despegue','E_Despegue2','E_Despegue3',\n",
        "        'E_Duracion_Vuelo','E_Duracion_Vuelo2','E_Duracion_Vuelo3',]]\n",
        "\n",
        "datos_y = df2_sobremostrejat.loc[:,['Tard3']]"
      ],
      "metadata": {
        "id": "KwCJ79eV1gRr"
      },
      "execution_count": 161,
      "outputs": []
    },
    {
      "cell_type": "markdown",
      "source": [
        "https://www.statsmodels.org/stable/index.html"
      ],
      "metadata": {
        "id": "TA3xBm-L9E0z"
      }
    },
    {
      "cell_type": "code",
      "source": [
        "#@title Creem el model de regressió logística.(totes les variables) per veure quines variables afecten\n",
        "\n",
        "import statsmodels.api as sm\n",
        "\n",
        "logit_model=sm.Logit( datos_y, datos_x)\n",
        "result=logit_model.fit()\n",
        "print(result.summary2())"
      ],
      "metadata": {
        "id": "PlqwZHxY2HGt",
        "outputId": "31b6bb78-4cb7-4321-a821-9c52f13622dc",
        "colab": {
          "base_uri": "https://localhost:8080/",
          "height": 0
        }
      },
      "execution_count": 162,
      "outputs": [
        {
          "output_type": "stream",
          "name": "stdout",
          "text": [
            "Warning: Maximum number of iterations has been exceeded.\n",
            "         Current function value: 0.147017\n",
            "         Iterations: 35\n",
            "                         Results: Logit\n",
            "================================================================\n",
            "Model:              Logit            Pseudo R-squared: 0.786    \n",
            "Dependent Variable: Tard3            AIC:              5289.9023\n",
            "Date:               2022-10-04 07:55 BIC:              5336.6744\n",
            "No. Observations:   17950            Log-Likelihood:   -2639.0  \n",
            "Df Model:           5                LL-Null:          -12336.  \n",
            "Df Residuals:       17944            LLR p-value:      0.0000   \n",
            "Converged:          0.0000           Scale:            1.0000   \n",
            "No. Iterations:     35.0000                                     \n",
            "----------------------------------------------------------------\n",
            "                    Coef.  Std.Err.    z    P>|z|  [0.025 0.975]\n",
            "----------------------------------------------------------------\n",
            "Puntualidad1        0.0653      nan     nan    nan    nan    nan\n",
            "Puntualidad2        0.0276      nan     nan    nan    nan    nan\n",
            "E_Despegue          0.0240      nan     nan    nan    nan    nan\n",
            "E_Despegue2        -0.0475      nan     nan    nan    nan    nan\n",
            "E_Despegue3         0.3673   0.0067 54.9488 0.0000 0.3542 0.3804\n",
            "E_Duracion_Vuelo    0.0413      nan     nan    nan    nan    nan\n",
            "E_Duracion_Vuelo2   0.0751      nan     nan    nan    nan    nan\n",
            "E_Duracion_Vuelo3   0.3770   0.0072 52.1905 0.0000 0.3629 0.3912\n",
            "================================================================\n",
            "\n"
          ]
        },
        {
          "output_type": "stream",
          "name": "stderr",
          "text": [
            "/usr/local/lib/python3.7/dist-packages/statsmodels/base/model.py:568: ConvergenceWarning: Maximum Likelihood optimization failed to converge. Check mle_retvals\n",
            "  ConvergenceWarning)\n"
          ]
        }
      ]
    },
    {
      "cell_type": "markdown",
      "source": [
        "**Qué diferencia** hay entre print(results.summary()) y print(results.summary2())"
      ],
      "metadata": {
        "id": "mV35eA0c9e7T"
      }
    },
    {
      "cell_type": "code",
      "source": [
        "print(result.summary())"
      ],
      "metadata": {
        "id": "6czhBi3T9Wx2",
        "outputId": "4548254c-23df-44d2-d0b7-c6afddddad51",
        "colab": {
          "base_uri": "https://localhost:8080/",
          "height": 0
        }
      },
      "execution_count": 163,
      "outputs": [
        {
          "output_type": "stream",
          "name": "stdout",
          "text": [
            "                           Logit Regression Results                           \n",
            "==============================================================================\n",
            "Dep. Variable:                  Tard3   No. Observations:                17950\n",
            "Model:                          Logit   Df Residuals:                    17944\n",
            "Method:                           MLE   Df Model:                            5\n",
            "Date:                Tue, 04 Oct 2022   Pseudo R-squ.:                  0.7861\n",
            "Time:                        07:55:36   Log-Likelihood:                -2639.0\n",
            "converged:                      False   LL-Null:                       -12336.\n",
            "Covariance Type:            nonrobust   LLR p-value:                     0.000\n",
            "=====================================================================================\n",
            "                        coef    std err          z      P>|z|      [0.025      0.975]\n",
            "-------------------------------------------------------------------------------------\n",
            "Puntualidad1          0.0653        nan        nan        nan         nan         nan\n",
            "Puntualidad2          0.0276        nan        nan        nan         nan         nan\n",
            "E_Despegue            0.0240        nan        nan        nan         nan         nan\n",
            "E_Despegue2          -0.0475        nan        nan        nan         nan         nan\n",
            "E_Despegue3           0.3673      0.007     54.949      0.000       0.354       0.380\n",
            "E_Duracion_Vuelo      0.0413        nan        nan        nan         nan         nan\n",
            "E_Duracion_Vuelo2     0.0751        nan        nan        nan         nan         nan\n",
            "E_Duracion_Vuelo3     0.3770      0.007     52.190      0.000       0.363       0.391\n",
            "=====================================================================================\n"
          ]
        }
      ]
    },
    {
      "cell_type": "markdown",
      "source": [
        "Veiem que només l'error en l'enlairament de l'avió i l'Error en el temps de vol, afecten com factors a la variable de sortida Error en l'arribada.\n",
        "\n",
        "\n",
        "---\n",
        "\n"
      ],
      "metadata": {
        "id": "7420DIrtrRT-"
      }
    },
    {
      "cell_type": "code",
      "source": [
        "#@title model amb 'E_Despegue3', 'E_Duracion_Vuelo3' només.\n",
        "\n",
        "cols=['E_Despegue3', 'E_Duracion_Vuelo3']\n",
        "#cols=['E_Despegue3'] # Per crear una mica error\n",
        "X=datos_x[cols]\n",
        "y=datos_y\n",
        "\n",
        "\n",
        "logit_model=sm.Logit(y,X)\n",
        "result=logit_model.fit()\n",
        "print(result.summary2())"
      ],
      "metadata": {
        "id": "m6Wzp_Lt5Zc6",
        "outputId": "df9b76a1-d99d-482c-b71f-1f89a48fc0be",
        "colab": {
          "base_uri": "https://localhost:8080/",
          "height": 0
        }
      },
      "execution_count": 164,
      "outputs": [
        {
          "output_type": "stream",
          "name": "stdout",
          "text": [
            "Optimization terminated successfully.\n",
            "         Current function value: 0.194775\n",
            "         Iterations 8\n",
            "                         Results: Logit\n",
            "================================================================\n",
            "Model:              Logit            Pseudo R-squared: 0.717    \n",
            "Dependent Variable: Tard3            AIC:              6996.4355\n",
            "Date:               2022-10-04 07:55 BIC:              7012.0262\n",
            "No. Observations:   17950            Log-Likelihood:   -3496.2  \n",
            "Df Model:           1                LL-Null:          -12336.  \n",
            "Df Residuals:       17948            LLR p-value:      0.0000   \n",
            "Converged:          1.0000           Scale:            1.0000   \n",
            "No. Iterations:     8.0000                                      \n",
            "----------------------------------------------------------------\n",
            "                    Coef.  Std.Err.    z    P>|z|  [0.025 0.975]\n",
            "----------------------------------------------------------------\n",
            "E_Despegue3         0.2857   0.0047 61.0477 0.0000 0.2765 0.2948\n",
            "E_Duracion_Vuelo3   0.3126   0.0056 56.2014 0.0000 0.3017 0.3235\n",
            "================================================================\n",
            "\n"
          ]
        }
      ]
    },
    {
      "cell_type": "markdown",
      "source": [
        "Aquest model està explicat amb un 71%"
      ],
      "metadata": {
        "id": "3cEiw3IJsAUj"
      }
    },
    {
      "cell_type": "code",
      "source": [
        "X_train, X_test, y_train, y_test = train_test_split(X, y, test_size=0.3, random_state=0)\n",
        "\n",
        "\n",
        "logit_model=sm.Logit(y_train,X_train)\n",
        "result=logit_model.fit()\n",
        "print(result.summary2())"
      ],
      "metadata": {
        "id": "sD29Ya7v7ynS",
        "outputId": "00f4336d-b152-4c8e-bc05-4f99c545e8a2",
        "colab": {
          "base_uri": "https://localhost:8080/",
          "height": 0
        }
      },
      "execution_count": 165,
      "outputs": [
        {
          "output_type": "stream",
          "name": "stdout",
          "text": [
            "Optimization terminated successfully.\n",
            "         Current function value: 0.193130\n",
            "         Iterations 8\n",
            "                         Results: Logit\n",
            "================================================================\n",
            "Model:              Logit            Pseudo R-squared: 0.719    \n",
            "Dependent Variable: Tard3            AIC:              4857.3689\n",
            "Date:               2022-10-04 07:55 BIC:              4872.2463\n",
            "No. Observations:   12565            Log-Likelihood:   -2426.7  \n",
            "Df Model:           1                LL-Null:          -8626.8  \n",
            "Df Residuals:       12563            LLR p-value:      0.0000   \n",
            "Converged:          1.0000           Scale:            1.0000   \n",
            "No. Iterations:     8.0000                                      \n",
            "----------------------------------------------------------------\n",
            "                    Coef.  Std.Err.    z    P>|z|  [0.025 0.975]\n",
            "----------------------------------------------------------------\n",
            "E_Despegue3         0.2866   0.0056 51.3298 0.0000 0.2756 0.2975\n",
            "E_Duracion_Vuelo3   0.3214   0.0069 46.7525 0.0000 0.3080 0.3349\n",
            "================================================================\n",
            "\n"
          ]
        }
      ]
    },
    {
      "cell_type": "code",
      "source": [
        "# Creación del modelo utilizando matrices como en scikitlearn\n",
        "# ==============================================================================\n",
        "\n",
        "# A la matriz de predictores se le tiene que añadir una columna de 1s para el intercept del modelo\n",
        "\n",
        "X_train = sm.add_constant(X_train, prepend=True)\n",
        "modelo = sm.Logit(endog=y_train, exog=X_train,)\n",
        "modelo = modelo.fit()\n",
        "print(modelo.summary())"
      ],
      "metadata": {
        "colab": {
          "base_uri": "https://localhost:8080/",
          "height": 0
        },
        "id": "t7pbvUD-kYb9",
        "outputId": "86cd43df-ab90-4ab3-c37b-c66cf80c5ebe"
      },
      "execution_count": 166,
      "outputs": [
        {
          "output_type": "stream",
          "name": "stdout",
          "text": [
            "Warning: Maximum number of iterations has been exceeded.\n",
            "         Current function value: 0.000152\n",
            "         Iterations: 35\n",
            "                           Logit Regression Results                           \n",
            "==============================================================================\n",
            "Dep. Variable:                  Tard3   No. Observations:                12565\n",
            "Model:                          Logit   Df Residuals:                    12562\n",
            "Method:                           MLE   Df Model:                            2\n",
            "Date:                Tue, 04 Oct 2022   Pseudo R-squ.:                  0.9998\n",
            "Time:                        07:55:37   Log-Likelihood:                -1.9054\n",
            "converged:                      False   LL-Null:                       -8626.8\n",
            "Covariance Type:            nonrobust   LLR p-value:                     0.000\n",
            "=====================================================================================\n",
            "                        coef    std err          z      P>|z|      [0.025      0.975]\n",
            "-------------------------------------------------------------------------------------\n",
            "const              -101.8221     13.932     -7.309      0.000    -129.128     -74.516\n",
            "E_Despegue3          10.8262      1.460      7.418      0.000       7.966      13.687\n",
            "E_Duracion_Vuelo3    10.8301      1.461      7.415      0.000       7.967      13.693\n",
            "=====================================================================================\n",
            "\n",
            "Possibly complete quasi-separation: A fraction 0.94 of observations can be\n",
            "perfectly predicted. This might indicate that there is complete\n",
            "quasi-separation. In this case some parameters will not be identified.\n"
          ]
        },
        {
          "output_type": "stream",
          "name": "stderr",
          "text": [
            "/usr/local/lib/python3.7/dist-packages/statsmodels/base/model.py:568: ConvergenceWarning: Maximum Likelihood optimization failed to converge. Check mle_retvals\n",
            "  ConvergenceWarning)\n"
          ]
        }
      ]
    },
    {
      "cell_type": "code",
      "source": [
        "# Creación del modelo utilizando matrices como en scikitlearn\n",
        "# ==============================================================================\n",
        "# A la matriz de predictores se le tiene que añadir una columna de 1s para el intercept del modelo\n",
        "X_train = sm.add_constant(X_train, prepend=True)\n",
        "modelo = sm.Logit(endog=y_train, exog=X_train,)\n",
        "modelo = modelo.fit()\n",
        "print(modelo.summary())"
      ],
      "metadata": {
        "colab": {
          "base_uri": "https://localhost:8080/",
          "height": 0
        },
        "id": "BYfQQWfMkgZd",
        "outputId": "dd3411ad-f827-4cf2-8862-44151f1ddf90"
      },
      "execution_count": 167,
      "outputs": [
        {
          "output_type": "stream",
          "name": "stdout",
          "text": [
            "Warning: Maximum number of iterations has been exceeded.\n",
            "         Current function value: 0.000152\n",
            "         Iterations: 35\n",
            "                           Logit Regression Results                           \n",
            "==============================================================================\n",
            "Dep. Variable:                  Tard3   No. Observations:                12565\n",
            "Model:                          Logit   Df Residuals:                    12562\n",
            "Method:                           MLE   Df Model:                            2\n",
            "Date:                Tue, 04 Oct 2022   Pseudo R-squ.:                  0.9998\n",
            "Time:                        07:55:37   Log-Likelihood:                -1.9054\n",
            "converged:                      False   LL-Null:                       -8626.8\n",
            "Covariance Type:            nonrobust   LLR p-value:                     0.000\n",
            "=====================================================================================\n",
            "                        coef    std err          z      P>|z|      [0.025      0.975]\n",
            "-------------------------------------------------------------------------------------\n",
            "const              -101.8221     13.932     -7.309      0.000    -129.128     -74.516\n",
            "E_Despegue3          10.8262      1.460      7.418      0.000       7.966      13.687\n",
            "E_Duracion_Vuelo3    10.8301      1.461      7.415      0.000       7.967      13.693\n",
            "=====================================================================================\n",
            "\n",
            "Possibly complete quasi-separation: A fraction 0.94 of observations can be\n",
            "perfectly predicted. This might indicate that there is complete\n",
            "quasi-separation. In this case some parameters will not be identified.\n"
          ]
        },
        {
          "output_type": "stream",
          "name": "stderr",
          "text": [
            "/usr/local/lib/python3.7/dist-packages/statsmodels/base/model.py:568: ConvergenceWarning: Maximum Likelihood optimization failed to converge. Check mle_retvals\n",
            "  ConvergenceWarning)\n"
          ]
        }
      ]
    },
    {
      "cell_type": "code",
      "source": [
        "# Predicciones con intervalo de confianza \n",
        "# ==============================================================================\n",
        "predicciones = modelo.predict(exog = X_train)\n",
        "\n",
        "# Clasificación predicha\n",
        "# ==============================================================================\n",
        "clasificacion = np.where(predicciones<0.5, 0, 1)\n",
        "clasificacion"
      ],
      "metadata": {
        "colab": {
          "base_uri": "https://localhost:8080/",
          "height": 0
        },
        "id": "AohpxQmqleMn",
        "outputId": "c0db33fc-cd86-4b20-813f-74580aa7f0cb"
      },
      "execution_count": 168,
      "outputs": [
        {
          "output_type": "execute_result",
          "data": {
            "text/plain": [
              "array([0, 0, 0, ..., 0, 1, 0])"
            ]
          },
          "metadata": {},
          "execution_count": 168
        }
      ]
    },
    {
      "cell_type": "code",
      "source": [
        "# Accuracy de test del modelo \n",
        "# ==============================================================================\n",
        "X_test = sm.add_constant(X_test, prepend=True)\n",
        "predicciones = modelo.predict(exog = X_test)\n",
        "clasificacion = np.where(predicciones<0.5, 0, 1)\n",
        "accuracy = accuracy_score(\n",
        "            y_true    = y_test,\n",
        "            y_pred    = clasificacion,\n",
        "            normalize = True\n",
        "           )\n",
        "print(\"\")\n",
        "print(f\"El accuracy de test es: {100*accuracy}%\")"
      ],
      "metadata": {
        "colab": {
          "base_uri": "https://localhost:8080/",
          "height": 0
        },
        "id": "18R4VCGYkPh6",
        "outputId": "fca43960-764c-4916-ad8c-de1f5d706a68"
      },
      "execution_count": 169,
      "outputs": [
        {
          "output_type": "stream",
          "name": "stdout",
          "text": [
            "\n",
            "El accuracy de test es: 100.0%\n"
          ]
        }
      ]
    },
    {
      "cell_type": "code",
      "source": [
        "#@title Matriz de confusión de las predicciones de test\n",
        "# ==============================================================================\n",
        "confusion_matrix = pd.crosstab(\n",
        "    y_test.values.ravel(),\n",
        "    clasificacion,\n",
        "    rownames=['Real'],\n",
        "    colnames=['Predicción']\n",
        ")\n",
        "confusion_matrix"
      ],
      "metadata": {
        "colab": {
          "base_uri": "https://localhost:8080/",
          "height": 143
        },
        "id": "eMwKCiBKkE4m",
        "outputId": "2bd6fe09-048c-448c-b8bf-b4c8ac5ff136"
      },
      "execution_count": 170,
      "outputs": [
        {
          "output_type": "execute_result",
          "data": {
            "text/plain": [
              "Predicción     0     1\n",
              "Real                  \n",
              "0           2948     0\n",
              "1              0  2437"
            ],
            "text/html": [
              "\n",
              "  <div id=\"df-3c4169ec-da7f-4d3f-b148-cb90a04aa6eb\">\n",
              "    <div class=\"colab-df-container\">\n",
              "      <div>\n",
              "<style scoped>\n",
              "    .dataframe tbody tr th:only-of-type {\n",
              "        vertical-align: middle;\n",
              "    }\n",
              "\n",
              "    .dataframe tbody tr th {\n",
              "        vertical-align: top;\n",
              "    }\n",
              "\n",
              "    .dataframe thead th {\n",
              "        text-align: right;\n",
              "    }\n",
              "</style>\n",
              "<table border=\"1\" class=\"dataframe\">\n",
              "  <thead>\n",
              "    <tr style=\"text-align: right;\">\n",
              "      <th>Predicción</th>\n",
              "      <th>0</th>\n",
              "      <th>1</th>\n",
              "    </tr>\n",
              "    <tr>\n",
              "      <th>Real</th>\n",
              "      <th></th>\n",
              "      <th></th>\n",
              "    </tr>\n",
              "  </thead>\n",
              "  <tbody>\n",
              "    <tr>\n",
              "      <th>0</th>\n",
              "      <td>2948</td>\n",
              "      <td>0</td>\n",
              "    </tr>\n",
              "    <tr>\n",
              "      <th>1</th>\n",
              "      <td>0</td>\n",
              "      <td>2437</td>\n",
              "    </tr>\n",
              "  </tbody>\n",
              "</table>\n",
              "</div>\n",
              "      <button class=\"colab-df-convert\" onclick=\"convertToInteractive('df-3c4169ec-da7f-4d3f-b148-cb90a04aa6eb')\"\n",
              "              title=\"Convert this dataframe to an interactive table.\"\n",
              "              style=\"display:none;\">\n",
              "        \n",
              "  <svg xmlns=\"http://www.w3.org/2000/svg\" height=\"24px\"viewBox=\"0 0 24 24\"\n",
              "       width=\"24px\">\n",
              "    <path d=\"M0 0h24v24H0V0z\" fill=\"none\"/>\n",
              "    <path d=\"M18.56 5.44l.94 2.06.94-2.06 2.06-.94-2.06-.94-.94-2.06-.94 2.06-2.06.94zm-11 1L8.5 8.5l.94-2.06 2.06-.94-2.06-.94L8.5 2.5l-.94 2.06-2.06.94zm10 10l.94 2.06.94-2.06 2.06-.94-2.06-.94-.94-2.06-.94 2.06-2.06.94z\"/><path d=\"M17.41 7.96l-1.37-1.37c-.4-.4-.92-.59-1.43-.59-.52 0-1.04.2-1.43.59L10.3 9.45l-7.72 7.72c-.78.78-.78 2.05 0 2.83L4 21.41c.39.39.9.59 1.41.59.51 0 1.02-.2 1.41-.59l7.78-7.78 2.81-2.81c.8-.78.8-2.07 0-2.86zM5.41 20L4 18.59l7.72-7.72 1.47 1.35L5.41 20z\"/>\n",
              "  </svg>\n",
              "      </button>\n",
              "      \n",
              "  <style>\n",
              "    .colab-df-container {\n",
              "      display:flex;\n",
              "      flex-wrap:wrap;\n",
              "      gap: 12px;\n",
              "    }\n",
              "\n",
              "    .colab-df-convert {\n",
              "      background-color: #E8F0FE;\n",
              "      border: none;\n",
              "      border-radius: 50%;\n",
              "      cursor: pointer;\n",
              "      display: none;\n",
              "      fill: #1967D2;\n",
              "      height: 32px;\n",
              "      padding: 0 0 0 0;\n",
              "      width: 32px;\n",
              "    }\n",
              "\n",
              "    .colab-df-convert:hover {\n",
              "      background-color: #E2EBFA;\n",
              "      box-shadow: 0px 1px 2px rgba(60, 64, 67, 0.3), 0px 1px 3px 1px rgba(60, 64, 67, 0.15);\n",
              "      fill: #174EA6;\n",
              "    }\n",
              "\n",
              "    [theme=dark] .colab-df-convert {\n",
              "      background-color: #3B4455;\n",
              "      fill: #D2E3FC;\n",
              "    }\n",
              "\n",
              "    [theme=dark] .colab-df-convert:hover {\n",
              "      background-color: #434B5C;\n",
              "      box-shadow: 0px 1px 3px 1px rgba(0, 0, 0, 0.15);\n",
              "      filter: drop-shadow(0px 1px 2px rgba(0, 0, 0, 0.3));\n",
              "      fill: #FFFFFF;\n",
              "    }\n",
              "  </style>\n",
              "\n",
              "      <script>\n",
              "        const buttonEl =\n",
              "          document.querySelector('#df-3c4169ec-da7f-4d3f-b148-cb90a04aa6eb button.colab-df-convert');\n",
              "        buttonEl.style.display =\n",
              "          google.colab.kernel.accessAllowed ? 'block' : 'none';\n",
              "\n",
              "        async function convertToInteractive(key) {\n",
              "          const element = document.querySelector('#df-3c4169ec-da7f-4d3f-b148-cb90a04aa6eb');\n",
              "          const dataTable =\n",
              "            await google.colab.kernel.invokeFunction('convertToInteractive',\n",
              "                                                     [key], {});\n",
              "          if (!dataTable) return;\n",
              "\n",
              "          const docLinkHtml = 'Like what you see? Visit the ' +\n",
              "            '<a target=\"_blank\" href=https://colab.research.google.com/notebooks/data_table.ipynb>data table notebook</a>'\n",
              "            + ' to learn more about interactive tables.';\n",
              "          element.innerHTML = '';\n",
              "          dataTable['output_type'] = 'display_data';\n",
              "          await google.colab.output.renderOutput(dataTable, element);\n",
              "          const docLink = document.createElement('div');\n",
              "          docLink.innerHTML = docLinkHtml;\n",
              "          element.appendChild(docLink);\n",
              "        }\n",
              "      </script>\n",
              "    </div>\n",
              "  </div>\n",
              "  "
            ]
          },
          "metadata": {},
          "execution_count": 170
        }
      ]
    },
    {
      "cell_type": "markdown",
      "source": [
        "\n",
        "\n",
        "---\n",
        "\n",
        "\n",
        "\n",
        "Busquem la correlacion entre variables 'E_Despegue3' i 'E_Duracion_Vuelo3', i el tamany que és en funció del temps de retard."
      ],
      "metadata": {
        "id": "ZrWit0Zx_UoD"
      }
    },
    {
      "cell_type": "markdown",
      "source": [
        "# Regresión logística simple. 'E_Despegue3','E_Duracion_Vuelo3'"
      ],
      "metadata": {
        "id": "wmt8Xjoo5fjN"
      }
    },
    {
      "cell_type": "code",
      "source": [
        "datos_x= df2_sobremostrejat.loc[:, ['Puntualidad1', 'Puntualidad2',  \n",
        "        'E_Despegue','E_Despegue2','E_Despegue3',\n",
        "        'E_Duracion_Vuelo','E_Duracion_Vuelo2','E_Duracion_Vuelo3',]]\n",
        "\n",
        "datos_y = df2_sobremostrejat.loc[:,['Tard3']]\n",
        "\n",
        "cols=['E_Despegue3','E_Duracion_Vuelo3']\n",
        "#cols=['E_Despegue3'] # Per crear una mica error\n",
        "X=datos_x[cols]\n",
        "y=datos_y\n",
        "\n",
        "\n",
        "logit_model=sm.Logit(y,exog = X)\n",
        "result=logit_model.fit()\n",
        "print(result.summary2())"
      ],
      "metadata": {
        "id": "hA-7aEQz5Rm2",
        "outputId": "c0389e79-b129-45a0-b587-5c2b9b2171f8",
        "colab": {
          "base_uri": "https://localhost:8080/",
          "height": 0
        }
      },
      "execution_count": 184,
      "outputs": [
        {
          "output_type": "stream",
          "name": "stdout",
          "text": [
            "Optimization terminated successfully.\n",
            "         Current function value: 0.194775\n",
            "         Iterations 8\n",
            "                         Results: Logit\n",
            "================================================================\n",
            "Model:              Logit            Pseudo R-squared: 0.717    \n",
            "Dependent Variable: Tard3            AIC:              6996.4355\n",
            "Date:               2022-10-04 08:02 BIC:              7012.0262\n",
            "No. Observations:   17950            Log-Likelihood:   -3496.2  \n",
            "Df Model:           1                LL-Null:          -12336.  \n",
            "Df Residuals:       17948            LLR p-value:      0.0000   \n",
            "Converged:          1.0000           Scale:            1.0000   \n",
            "No. Iterations:     8.0000                                      \n",
            "----------------------------------------------------------------\n",
            "                    Coef.  Std.Err.    z    P>|z|  [0.025 0.975]\n",
            "----------------------------------------------------------------\n",
            "E_Despegue3         0.2857   0.0047 61.0477 0.0000 0.2765 0.2948\n",
            "E_Duracion_Vuelo3   0.3126   0.0056 56.2014 0.0000 0.3017 0.3235\n",
            "================================================================\n",
            "\n"
          ]
        }
      ]
    },
    {
      "cell_type": "code",
      "source": [
        "y_pred = result.predict(X)"
      ],
      "metadata": {
        "id": "4jTBFAEss8w5"
      },
      "execution_count": 185,
      "outputs": []
    },
    {
      "cell_type": "markdown",
      "source": [
        "# Predicció:"
      ],
      "metadata": {
        "id": "D7H85ypTu2JC"
      }
    },
    {
      "cell_type": "markdown",
      "source": [
        "Un cop entrenat el model, es poden obtenir prediccions per a noves dades. Els models de regressió logística de statsmodels tornen la probabilitat de pertànyer a la classe de referència."
      ],
      "metadata": {
        "id": "08xRjXcMu_Uy"
      }
    },
    {
      "cell_type": "code",
      "source": [
        "# Predicción de probabilidades\n",
        "# ==============================================================================\n",
        "predicciones = result.predict(exog = X)\n",
        "predicciones[:4]"
      ],
      "metadata": {
        "id": "NIZVwcybvAFl",
        "outputId": "11d94711-2f45-4343-ed66-656d8cd30dcb",
        "colab": {
          "base_uri": "https://localhost:8080/"
        }
      },
      "execution_count": 311,
      "outputs": [
        {
          "output_type": "execute_result",
          "data": {
            "text/plain": [
              "0    0.173249\n",
              "1    0.219781\n",
              "2    0.043163\n",
              "3    0.001313\n",
              "dtype: float64"
            ]
          },
          "metadata": {},
          "execution_count": 311
        }
      ]
    },
    {
      "cell_type": "code",
      "source": [
        "# Clasificación predicha\n",
        "# ==============================================================================\n",
        "clasificacion = np.where(predicciones<0.5, 0, 1)\n",
        "clasificacion"
      ],
      "metadata": {
        "id": "Pt0jvYMhvM-l",
        "outputId": "a2015391-aedc-4e37-c99f-eeccb2022857",
        "colab": {
          "base_uri": "https://localhost:8080/",
          "height": 0
        }
      },
      "execution_count": 174,
      "outputs": [
        {
          "output_type": "execute_result",
          "data": {
            "text/plain": [
              "array([1, 0, 0, ..., 1, 1, 1])"
            ]
          },
          "metadata": {},
          "execution_count": 174
        }
      ]
    },
    {
      "cell_type": "code",
      "source": [
        "fig, ax = plt.subplots(figsize=(6, 3.84))\n",
        "ax.plot(grid_X['grid_X'], predicciones, color = \"blue\")\n",
        "ax.set_title(\"Modelo regresión logística\")\n",
        "ax.set_ylabel(\"prediccions\")\n",
        "ax.set_xlabel(\"E_Despegue3\");"
      ],
      "metadata": {
        "id": "W_Ll5EavZP17",
        "outputId": "a5b0ea69-271e-4f49-bee5-3b4c717b7be7",
        "colab": {
          "base_uri": "https://localhost:8080/",
          "height": 292
        }
      },
      "execution_count": 316,
      "outputs": [
        {
          "output_type": "display_data",
          "data": {
            "text/plain": [
              "<Figure size 432x276.48 with 1 Axes>"
            ],
            "image/png": "[encoded data removed]"
          },
          "metadata": {}
        }
      ]
    },
    {
      "cell_type": "markdown",
      "source": [
        "Es veu clarament que les probabilitats d'arribar a l'hora és molt alta.\n",
        "\n",
        "---\n",
        "\n"
      ],
      "metadata": {
        "id": "zH4Pq2WoeAil"
      }
    },
    {
      "cell_type": "code",
      "source": [
        "\n",
        "#@title Dibuixem la regressió logística només per E_Despegue3 (error en l'enlairament)\n",
        "\n",
        "cols=['E_Despegue3','E_Duracion_Vuelo3']\n",
        "cols=['E_Despegue3'] # Per crear una mica error\n",
        "X=datos_x[cols]\n",
        "y=datos_y\n",
        "logit_model=sm.Logit(y,exog = X)\n",
        " \n",
        "\n",
        "grid_X = np.linspace(\n",
        "            start = min(X.E_Despegue3),\n",
        "            stop  = max(X.E_Despegue3),\n",
        "            num   =  predicciones.shape[0] #200\n",
        "         ).reshape(-1,1)\n",
        "\n",
        "\n",
        "grid_X=pd.DataFrame(grid_X)\n",
        "predicciones = result.predict(exog = grid_X)\n",
        "\n",
        "fig, ax = plt.subplots(figsize=(6, 3.84))\n",
        "ax.set_title(\"Modelo regresión logística\")\n",
        "ax=sns.scatterplot(data = df2, x = \"E_Despegue3\", y = \"Tard3\", s=100)\n",
        "ax=sns.scatterplot( x = grid_X[0], y = predicciones, s=20, color='black')\n",
        "\n",
        "result=logit_model.fit()\n",
        "print(result.summary2())"
      ],
      "metadata": {
        "id": "VeEmZthQbdGI",
        "outputId": "b0bf312c-76c2-416d-d9c1-943c9788a3cb",
        "colab": {
          "base_uri": "https://localhost:8080/",
          "height": 622
        }
      },
      "execution_count": 345,
      "outputs": [
        {
          "output_type": "stream",
          "name": "stdout",
          "text": [
            "Optimization terminated successfully.\n",
            "         Current function value: 0.476043\n",
            "         Iterations 6\n",
            "                         Results: Logit\n",
            "=================================================================\n",
            "Model:              Logit            Pseudo R-squared: 0.307     \n",
            "Dependent Variable: Tard3            AIC:              17091.9550\n",
            "Date:               2022-10-04 10:07 BIC:              17099.7503\n",
            "No. Observations:   17950            Log-Likelihood:   -8545.0   \n",
            "Df Model:           0                LL-Null:          -12336.   \n",
            "Df Residuals:       17949            LLR p-value:      nan       \n",
            "Converged:          1.0000           Scale:            1.0000    \n",
            "No. Iterations:     6.0000                                       \n",
            "------------------------------------------------------------------\n",
            "                 Coef.   Std.Err.     z     P>|z|   [0.025  0.975]\n",
            "------------------------------------------------------------------\n",
            "E_Despegue3      0.1775    0.0028  62.6566  0.0000  0.1719  0.1830\n",
            "=================================================================\n",
            "\n"
          ]
        },
        {
          "output_type": "display_data",
          "data": {
            "text/plain": [
              "<Figure size 432x276.48 with 1 Axes>"
            ],
            "image/png": "[encoded data removed]"
          },
          "metadata": {}
        }
      ]
    },
    {
      "cell_type": "markdown",
      "source": [
        "**Conclusió:**\n",
        "\n",
        "Clarament, veiem que és una regressió logística, que el seu valor de correlació és baix. En aquest cas és de 0,3, i per això explica molt poc amb una sola variable. \n",
        "\n",
        "Per afirmar bé el model pel retard del 3r salt, hem de fer servir 2 variables (E_Duracion_Vuelo2, E_Despegue3) i arribaré a afirmar en un 0.72 què succeirà.\n",
        "\n",
        "És molt poc i s'arriba a una conclusió lògica, si l'avió surt tard i volan triga més del planificat, arribarà tard. Però és molt important veure que el que ha passat en els 2 salts anteriors no afecta pràcticament res al salt 3r.\n",
        "\n",
        " Independentment de si han surtit o volant, no han tingut una demora superior a 30 minuts que és el que considerem un vol \"normal\", en els 2 salts anteriors.\n",
        "\n"
      ],
      "metadata": {
        "id": "c5ZBHg_IE_yY"
      }
    },
    {
      "cell_type": "markdown",
      "source": [
        "Aquesta asseveració és el punt crític del projecte. \n",
        "\n",
        "Hem demostrat que els salts són independents entre si. Un retard a un avió és degut a moltes causes, que són variables independents que afecten i que moltes són alienes a la mateixa companyia (exògenes)... però el primer salt és el que menys causes té i que pot controlar-les, perquè per exemple no hi ha retards amb altres interconnexions, o passatgers que han de buscar la maleta, canvis de porta que desorienten als passatgers, etc.\n",
        "\n",
        "Llavors el que hem d'analitzar és el valor del primer salt, enlairament 1r i analitzar les causes de per què el 99% dels vols no surten a la seva hora. I sortir a l'hora és sortir a <0 minuts, no a <10 minuts."
      ],
      "metadata": {
        "id": "TTTiG2McHuIZ"
      }
    }
  ]
}