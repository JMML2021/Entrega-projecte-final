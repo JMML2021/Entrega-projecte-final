{
  "nbformat": 4,
  "nbformat_minor": 0,
  "metadata": {
    "colab": {
      "provenance": [],
      "toc_visible": true,
      "authorship_tag": "ABX9TyOG2sKoVP4kL/hWOU/GV2yg",
      "include_colab_link": true
    },
    "kernelspec": {
      "name": "python3",
      "display_name": "Python 3"
    },
    "language_info": {
      "name": "python"
    }
  },
  "cells": [
    {
      "cell_type": "markdown",
      "metadata": {
        "id": "view-in-github",
        "colab_type": "text"
      },
      "source": [
        "<a href=\"https://colab.research.google.com/github/JMML2021/Entrega-projecte-final/blob/main/utilitzar_loggistic_regression_per_mirar_els_coeficients_.ipynb\" target=\"_parent\"><img src=\"https://colab.research.google.com/assets/colab-badge.svg\" alt=\"Open In Colab\"/></a>"
      ]
    },
    {
      "cell_type": "code",
      "execution_count": 67,
      "metadata": {
        "id": "jGh3pHWOKVEe"
      },
      "outputs": [],
      "source": [
        "import numpy as np\n",
        "import matplotlib.pyplot as plt \n",
        "\n",
        "import pandas as pd  \n",
        "import seaborn as sns \n",
        "\n",
        "%matplotlib inline\n",
        "\n",
        "\n",
        "from sklearn.manifold import TSNE\n",
        "from sklearn.decomposition import PCA\n",
        "from sklearn.ensemble import RandomForestClassifier\n",
        "from sklearn.metrics import accuracy_score, confusion_matrix\n",
        "from sklearn.model_selection import train_test_split, cross_val_score\n",
        "\n",
        "import numpy as np\n",
        "import pandas as pd\n",
        "from sklearn.preprocessing import RobustScaler\n",
        "from sklearn.model_selection import train_test_split"
      ]
    },
    {
      "cell_type": "code",
      "source": [
        "# Configuració warnings\n",
        "# ==============================================================================\n",
        "import warnings\n",
        "warnings.filterwarnings('ignore')"
      ],
      "metadata": {
        "id": "xZc7uL_ARh6p"
      },
      "execution_count": 31,
      "outputs": []
    },
    {
      "cell_type": "code",
      "source": [
        "# Activo Google Drive\n",
        "\n",
        "from google.colab import drive\n",
        "drive.mount('/content/drive')"
      ],
      "metadata": {
        "id": "BBXJFZrnKZY-",
        "colab": {
          "base_uri": "https://localhost:8080/"
        },
        "outputId": "342e7dfe-61ff-483c-a796-73d72f7fa6e2"
      },
      "execution_count": 32,
      "outputs": [
        {
          "output_type": "stream",
          "name": "stdout",
          "text": [
            "Mounted at /content/drive\n"
          ]
        }
      ]
    },
    {
      "cell_type": "code",
      "source": [
        "#@title Obrir fitxer creat amb Calculo Vueling 2022 con codigos Rev D.ipynb\n",
        "#path='/content/drive/MyDrive/2022.06.03 2022_delay + cierre puertas CORTO.xlsx'\n",
        "Hoja = 'FLT_2022'\n",
        "path = ('/content/drive/MyDrive/Ficheros de Vueling/2022-09-20 14:39:04.960091 FLT_2022.xlsx')\n",
        "path = ('/content/drive/MyDrive/Ficheros de Vueling/2022-10-10 07:25:00.012463 FLT_2022.xlsx')\n",
        "df = pd.read_excel(path) #, sheet_name=Hoja)\n"
      ],
      "metadata": {
        "id": "KUHVaaBFKcCy"
      },
      "execution_count": 33,
      "outputs": []
    },
    {
      "cell_type": "code",
      "source": [
        "# Para crear una \"logistic regresion\":\n",
        "# 10 minuts és el temps que s'accepta com arribar a l'hora\n",
        "\n",
        "df['Tard1'] = np.where(df['Puntualidad1'] <10, 0, 1)\n",
        "df['Tard2'] = np.where(df['Puntualidad2'] <10, 0, 1)\n",
        "df['Tard3'] = np.where(df['Puntualidad3'] <10, 0, 1)"
      ],
      "metadata": {
        "id": "a-_W_Eq3KfEn"
      },
      "execution_count": 34,
      "outputs": []
    },
    {
      "cell_type": "code",
      "source": [
        "#@title crec el DataFrame df1\n",
        "df1=df[['Puntualidad1', 'Puntualidad2', 'Puntualidad3', \n",
        "        'E_Despegue','E_Despegue2','E_Despegue3',\n",
        "        'E_Duracion_Vuelo','E_Duracion_Vuelo2','E_Duracion_Vuelo3', 'Tard1', 'Tard2', 'Tard3']]"
      ],
      "metadata": {
        "id": "-F1--pZFLDE4"
      },
      "execution_count": 35,
      "outputs": []
    },
    {
      "cell_type": "code",
      "source": [
        "#@#@title Estandarditzar les característiques eliminant la mitjana i escalant a la variància de la unitat.\n",
        "\n",
        "from sklearn_pandas import DataFrameMapper\n",
        "from sklearn.preprocessing import StandardScaler\n",
        "\n",
        "mapper = DataFrameMapper([(df1.columns, StandardScaler())])\n",
        "scaled_features = mapper.fit_transform(df1.copy(), 4)\n",
        "df1_StdScaler= pd.DataFrame(scaled_features, index=df1.index, columns=df1.columns)\n",
        "\n",
        "df1_StdScaler.head()"
      ],
      "metadata": {
        "colab": {
          "base_uri": "https://localhost:8080/",
          "height": 206
        },
        "id": "Rb1jzPFcLKcg",
        "outputId": "02d82f81-96d4-4929-897f-1af35b178edd"
      },
      "execution_count": 36,
      "outputs": [
        {
          "output_type": "execute_result",
          "data": {
            "text/plain": [
              "   Puntualidad1  Puntualidad2  Puntualidad3  E_Despegue  E_Despegue2  \\\n",
              "0      0.661875      0.158984     -0.020942    1.006091     0.398530   \n",
              "1     -0.620447     -0.405877     -0.020942   -0.939568    -0.840450   \n",
              "2      0.245987      0.204173     -0.169253    0.340471     0.133034   \n",
              "3      0.800504      0.000823     -0.525200    1.159696     0.575527   \n",
              "4      0.176672     -0.134744     -0.050604   -0.222746    -0.530705   \n",
              "\n",
              "   E_Despegue3  E_Duracion_Vuelo  E_Duracion_Vuelo2  E_Duracion_Vuelo3  \\\n",
              "0    -0.039738         -0.022665          -0.049533           0.000086   \n",
              "1    -0.655431          0.018437           0.025896           0.365863   \n",
              "2    -0.095710          0.018437           0.151611          -0.132924   \n",
              "3    -0.543487          0.018437          -0.326106          -0.265933   \n",
              "4    -0.263626          0.388352           0.151611           0.099843   \n",
              "\n",
              "      Tard1     Tard2     Tard3  \n",
              "0  2.979681 -0.387587 -0.362741  \n",
              "1 -0.335606 -0.387587 -0.362741  \n",
              "2 -0.335606 -0.387587 -0.362741  \n",
              "3  2.979681 -0.387587 -0.362741  \n",
              "4 -0.335606 -0.387587 -0.362741  "
            ],
            "text/html": [
              "\n",
              "  <div id=\"df-690e7398-5add-4011-a0d8-fc9a790357ae\">\n",
              "    <div class=\"colab-df-container\">\n",
              "      <div>\n",
              "<style scoped>\n",
              "    .dataframe tbody tr th:only-of-type {\n",
              "        vertical-align: middle;\n",
              "    }\n",
              "\n",
              "    .dataframe tbody tr th {\n",
              "        vertical-align: top;\n",
              "    }\n",
              "\n",
              "    .dataframe thead th {\n",
              "        text-align: right;\n",
              "    }\n",
              "</style>\n",
              "<table border=\"1\" class=\"dataframe\">\n",
              "  <thead>\n",
              "    <tr style=\"text-align: right;\">\n",
              "      <th></th>\n",
              "      <th>Puntualidad1</th>\n",
              "      <th>Puntualidad2</th>\n",
              "      <th>Puntualidad3</th>\n",
              "      <th>E_Despegue</th>\n",
              "      <th>E_Despegue2</th>\n",
              "      <th>E_Despegue3</th>\n",
              "      <th>E_Duracion_Vuelo</th>\n",
              "      <th>E_Duracion_Vuelo2</th>\n",
              "      <th>E_Duracion_Vuelo3</th>\n",
              "      <th>Tard1</th>\n",
              "      <th>Tard2</th>\n",
              "      <th>Tard3</th>\n",
              "    </tr>\n",
              "  </thead>\n",
              "  <tbody>\n",
              "    <tr>\n",
              "      <th>0</th>\n",
              "      <td>0.661875</td>\n",
              "      <td>0.158984</td>\n",
              "      <td>-0.020942</td>\n",
              "      <td>1.006091</td>\n",
              "      <td>0.398530</td>\n",
              "      <td>-0.039738</td>\n",
              "      <td>-0.022665</td>\n",
              "      <td>-0.049533</td>\n",
              "      <td>0.000086</td>\n",
              "      <td>2.979681</td>\n",
              "      <td>-0.387587</td>\n",
              "      <td>-0.362741</td>\n",
              "    </tr>\n",
              "    <tr>\n",
              "      <th>1</th>\n",
              "      <td>-0.620447</td>\n",
              "      <td>-0.405877</td>\n",
              "      <td>-0.020942</td>\n",
              "      <td>-0.939568</td>\n",
              "      <td>-0.840450</td>\n",
              "      <td>-0.655431</td>\n",
              "      <td>0.018437</td>\n",
              "      <td>0.025896</td>\n",
              "      <td>0.365863</td>\n",
              "      <td>-0.335606</td>\n",
              "      <td>-0.387587</td>\n",
              "      <td>-0.362741</td>\n",
              "    </tr>\n",
              "    <tr>\n",
              "      <th>2</th>\n",
              "      <td>0.245987</td>\n",
              "      <td>0.204173</td>\n",
              "      <td>-0.169253</td>\n",
              "      <td>0.340471</td>\n",
              "      <td>0.133034</td>\n",
              "      <td>-0.095710</td>\n",
              "      <td>0.018437</td>\n",
              "      <td>0.151611</td>\n",
              "      <td>-0.132924</td>\n",
              "      <td>-0.335606</td>\n",
              "      <td>-0.387587</td>\n",
              "      <td>-0.362741</td>\n",
              "    </tr>\n",
              "    <tr>\n",
              "      <th>3</th>\n",
              "      <td>0.800504</td>\n",
              "      <td>0.000823</td>\n",
              "      <td>-0.525200</td>\n",
              "      <td>1.159696</td>\n",
              "      <td>0.575527</td>\n",
              "      <td>-0.543487</td>\n",
              "      <td>0.018437</td>\n",
              "      <td>-0.326106</td>\n",
              "      <td>-0.265933</td>\n",
              "      <td>2.979681</td>\n",
              "      <td>-0.387587</td>\n",
              "      <td>-0.362741</td>\n",
              "    </tr>\n",
              "    <tr>\n",
              "      <th>4</th>\n",
              "      <td>0.176672</td>\n",
              "      <td>-0.134744</td>\n",
              "      <td>-0.050604</td>\n",
              "      <td>-0.222746</td>\n",
              "      <td>-0.530705</td>\n",
              "      <td>-0.263626</td>\n",
              "      <td>0.388352</td>\n",
              "      <td>0.151611</td>\n",
              "      <td>0.099843</td>\n",
              "      <td>-0.335606</td>\n",
              "      <td>-0.387587</td>\n",
              "      <td>-0.362741</td>\n",
              "    </tr>\n",
              "  </tbody>\n",
              "</table>\n",
              "</div>\n",
              "      <button class=\"colab-df-convert\" onclick=\"convertToInteractive('df-690e7398-5add-4011-a0d8-fc9a790357ae')\"\n",
              "              title=\"Convert this dataframe to an interactive table.\"\n",
              "              style=\"display:none;\">\n",
              "        \n",
              "  <svg xmlns=\"http://www.w3.org/2000/svg\" height=\"24px\"viewBox=\"0 0 24 24\"\n",
              "       width=\"24px\">\n",
              "    <path d=\"M0 0h24v24H0V0z\" fill=\"none\"/>\n",
              "    <path d=\"M18.56 5.44l.94 2.06.94-2.06 2.06-.94-2.06-.94-.94-2.06-.94 2.06-2.06.94zm-11 1L8.5 8.5l.94-2.06 2.06-.94-2.06-.94L8.5 2.5l-.94 2.06-2.06.94zm10 10l.94 2.06.94-2.06 2.06-.94-2.06-.94-.94-2.06-.94 2.06-2.06.94z\"/><path d=\"M17.41 7.96l-1.37-1.37c-.4-.4-.92-.59-1.43-.59-.52 0-1.04.2-1.43.59L10.3 9.45l-7.72 7.72c-.78.78-.78 2.05 0 2.83L4 21.41c.39.39.9.59 1.41.59.51 0 1.02-.2 1.41-.59l7.78-7.78 2.81-2.81c.8-.78.8-2.07 0-2.86zM5.41 20L4 18.59l7.72-7.72 1.47 1.35L5.41 20z\"/>\n",
              "  </svg>\n",
              "      </button>\n",
              "      \n",
              "  <style>\n",
              "    .colab-df-container {\n",
              "      display:flex;\n",
              "      flex-wrap:wrap;\n",
              "      gap: 12px;\n",
              "    }\n",
              "\n",
              "    .colab-df-convert {\n",
              "      background-color: #E8F0FE;\n",
              "      border: none;\n",
              "      border-radius: 50%;\n",
              "      cursor: pointer;\n",
              "      display: none;\n",
              "      fill: #1967D2;\n",
              "      height: 32px;\n",
              "      padding: 0 0 0 0;\n",
              "      width: 32px;\n",
              "    }\n",
              "\n",
              "    .colab-df-convert:hover {\n",
              "      background-color: #E2EBFA;\n",
              "      box-shadow: 0px 1px 2px rgba(60, 64, 67, 0.3), 0px 1px 3px 1px rgba(60, 64, 67, 0.15);\n",
              "      fill: #174EA6;\n",
              "    }\n",
              "\n",
              "    [theme=dark] .colab-df-convert {\n",
              "      background-color: #3B4455;\n",
              "      fill: #D2E3FC;\n",
              "    }\n",
              "\n",
              "    [theme=dark] .colab-df-convert:hover {\n",
              "      background-color: #434B5C;\n",
              "      box-shadow: 0px 1px 3px 1px rgba(0, 0, 0, 0.15);\n",
              "      filter: drop-shadow(0px 1px 2px rgba(0, 0, 0, 0.3));\n",
              "      fill: #FFFFFF;\n",
              "    }\n",
              "  </style>\n",
              "\n",
              "      <script>\n",
              "        const buttonEl =\n",
              "          document.querySelector('#df-690e7398-5add-4011-a0d8-fc9a790357ae button.colab-df-convert');\n",
              "        buttonEl.style.display =\n",
              "          google.colab.kernel.accessAllowed ? 'block' : 'none';\n",
              "\n",
              "        async function convertToInteractive(key) {\n",
              "          const element = document.querySelector('#df-690e7398-5add-4011-a0d8-fc9a790357ae');\n",
              "          const dataTable =\n",
              "            await google.colab.kernel.invokeFunction('convertToInteractive',\n",
              "                                                     [key], {});\n",
              "          if (!dataTable) return;\n",
              "\n",
              "          const docLinkHtml = 'Like what you see? Visit the ' +\n",
              "            '<a target=\"_blank\" href=https://colab.research.google.com/notebooks/data_table.ipynb>data table notebook</a>'\n",
              "            + ' to learn more about interactive tables.';\n",
              "          element.innerHTML = '';\n",
              "          dataTable['output_type'] = 'display_data';\n",
              "          await google.colab.output.renderOutput(dataTable, element);\n",
              "          const docLink = document.createElement('div');\n",
              "          docLink.innerHTML = docLinkHtml;\n",
              "          element.appendChild(docLink);\n",
              "        }\n",
              "      </script>\n",
              "    </div>\n",
              "  </div>\n",
              "  "
            ]
          },
          "metadata": {},
          "execution_count": 36
        }
      ]
    },
    {
      "cell_type": "code",
      "source": [
        "#@title Elimino els outliers. df2\n",
        "df2=df1.copy()\n",
        "\n",
        "dfEliminarOutliers= ((df2['E_Despegue']> -30) & \n",
        "                     (df2['E_Despegue']< 30) & \n",
        "                     (df2['Puntualidad1']< 30) & \n",
        "                     (df2['Puntualidad1']>-30) &\n",
        "                     (df2['Puntualidad2']< 30) & \n",
        "                     (df2['Puntualidad2']>-30)&\n",
        "                     (df2['E_Despegue2']< 30) & \n",
        "                     (df2['E_Despegue2']>-30)&\n",
        "                     (df2['Puntualidad3']< 30) & \n",
        "                     (df2['Puntualidad3']>-30)&\n",
        "                     (df2['E_Despegue3']< 30) & \n",
        "                     (df2['E_Despegue3']>-30))\n",
        "\n",
        "df2 = df2[dfEliminarOutliers]"
      ],
      "metadata": {
        "id": "_8W6y6UWLU_6"
      },
      "execution_count": 37,
      "outputs": []
    },
    {
      "cell_type": "code",
      "source": [
        "#@title Quantitat de outliers que hi ha\n",
        "print(df1.shape)\n",
        "print(df2.shape)\n",
        "percentatje= round((df2.shape[0]-df1.shape[0])/df1.shape[0]*100/3,2)\n",
        "print('quantitat de files afectades per outliers per salt= ', percentatje)"
      ],
      "metadata": {
        "colab": {
          "base_uri": "https://localhost:8080/"
        },
        "id": "5H7yXyDPLZMA",
        "outputId": "53255b45-cb92-46f0-bcb3-64ff3c4fa5bf"
      },
      "execution_count": 38,
      "outputs": [
        {
          "output_type": "stream",
          "name": "stdout",
          "text": [
            "(12358, 12)\n",
            "(10708, 12)\n",
            "quantitat de files afectades per outliers per salt=  -4.45\n"
          ]
        }
      ]
    },
    {
      "cell_type": "code",
      "source": [
        "#@title Creo Subrutina de metricas:\n",
        "\n",
        "#Importo scikit-learn metrics module para el calculo\n",
        "from sklearn import metrics\n",
        "from sklearn.metrics import mean_squared_error\n",
        "from sklearn.metrics import r2_score\n",
        "metricasEjercicio2=[]\n",
        "######################################################################\n",
        " \n",
        "def MetricasModelo(metodo, Y_real, Y_calculado, scores):\n",
        "  print('Metodo: ', metodo)\n",
        "  \n",
        "  #Precisión del modelo: ¿con qué frecuencia es correcto el clasificador?\n",
        "  #accuracy = metrics.accuracy_score(Y_real, Y_calculado)\n",
        "  #print(\"Accuracy:\", accuracy)\n",
        "\n",
        "  rmse = np.sqrt(mean_squared_error(Y_real, Y_calculado,))\n",
        "  print(\"RMSE: %f\" % (rmse))\n",
        "  \n",
        "\n",
        "  R_squared = r2_score(Y_real, Y_calculado,)\n",
        "\n",
        "  print(\"R-Squared: \", np.round(R_squared, 2))\n",
        " \n",
        "  print(\"Accuracy: %0.2f (+/- %0.2f)\" % (scores.mean(), scores.std() * 2))\n",
        "  accuracy = \"Accuracy: %0.2f (+/- %0.2f)\" % (scores.mean(), scores.std() * 2)\n",
        "\n",
        "  # Guardo metricas\n",
        "  metricasEjercicio2.append([metodo, rmse, R_squared, accuracy])  \n",
        "\n",
        "\n",
        "  cnf_matrix_SVM = metrics.confusion_matrix(Y_real, Y_calculado)\n",
        "\n",
        "  print('\\n\\nMatriz de Confusión')\n",
        "  print(cnf_matrix_SVM)\n",
        "\n",
        "\n",
        "  # Creamos la Matriz de Confusion:\n",
        "\n",
        "  class_names=[0,1] # name  of classes\n",
        "  \n",
        "  fig, ax = plt.subplots()\n",
        "  tick_marks = np.arange(len(class_names))\n",
        "  plt.xticks(tick_marks, class_names)\n",
        "  plt.yticks(tick_marks, class_names)\n",
        "\n",
        "  # create heatmap\n",
        "\n",
        "  sns.heatmap(pd.DataFrame(cnf_matrix_SVM), annot=True, cmap=\"gist_ncar\" ,fmt='g')\n",
        "  ax.xaxis.set_label_position(\"top\")\n",
        " \n",
        "\n",
        "  plt.tight_layout()\n",
        "  plt.title('Matriu de confusió', y=1.1)\n",
        "  plt.ylabel('Valor Actual')\n",
        "  plt.xlabel('Valor predit')\n",
        "  plt.Text(1.5,257.44,'Predicció')\n"
      ],
      "metadata": {
        "id": "bhbZ2yoQMc4v"
      },
      "execution_count": 39,
      "outputs": []
    },
    {
      "cell_type": "code",
      "source": [
        "fig, ax = plt.subplots(figsize=(6, 4))\n",
        "sns.countplot(x='Tard3',data=df2, palette='hls')\n",
        "plt.show()"
      ],
      "metadata": {
        "colab": {
          "base_uri": "https://localhost:8080/",
          "height": 279
        },
        "id": "juwBZZTSMpNz",
        "outputId": "73b6ee41-3a70-48ce-9b0c-7fec3fdf12a5"
      },
      "execution_count": 40,
      "outputs": [
        {
          "output_type": "display_data",
          "data": {
            "text/plain": [
              "<Figure size 432x288 with 1 Axes>"
            ],
            "image/png": "[encoded data removed]"
          },
          "metadata": {
            "needs_background": "light"
          }
        }
      ]
    },
    {
      "cell_type": "code",
      "source": [
        "# Creació del model utilitzant matrius com a scikitlearn\n",
        "# ================================================= =============================\n",
        "# A la matriu de predictors cal afegir una columna de 1s per a l'intercept del model\n",
        "\n",
        "import statsmodels.api as sm\n",
        "\n",
        "# Divisió de les dades en train i test\n",
        "# ==============================================================================\n",
        "datos_x= df2.loc[:, ['Puntualidad1', 'Puntualidad2',  \n",
        "        'E_Despegue','E_Despegue2','E_Despegue3',\n",
        "        'E_Duracion_Vuelo','E_Duracion_Vuelo2','E_Duracion_Vuelo3',]].values \n",
        "datos_y = df2.loc[:,['Tard3']]\n",
        "X_train, X_test, y_train, y_test = train_test_split(\n",
        "                                        datos_x,\n",
        "                                       datos_y,\n",
        "                                        train_size   = 0.8,\n",
        "                                        random_state = 1234,\n",
        "                                        shuffle      = True\n",
        "                                    )\n",
        "logit_model=sm.Logit( y_train, X_train)\n",
        "result=logit_model.fit()\n",
        "print(result.summary2())"
      ],
      "metadata": {
        "colab": {
          "base_uri": "https://localhost:8080/"
        },
        "id": "AgCBdCvzM0vz",
        "outputId": "9f5f7bf0-b939-47e4-854e-55c20f166bc4"
      },
      "execution_count": 41,
      "outputs": [
        {
          "output_type": "stream",
          "name": "stdout",
          "text": [
            "Warning: Maximum number of iterations has been exceeded.\n",
            "         Current function value: 0.194613\n",
            "         Iterations: 35\n",
            "                          Results: Logit\n",
            "==================================================================\n",
            "Model:              Logit            Pseudo R-squared: 0.228      \n",
            "Dependent Variable: Tard3            AIC:              3346.1032  \n",
            "Date:               2022-10-12 06:37 BIC:              3388.4365  \n",
            "No. Observations:   8566             Log-Likelihood:   -1667.1    \n",
            "Df Model:           5                LL-Null:          -2158.1    \n",
            "Df Residuals:       8560             LLR p-value:      4.4908e-210\n",
            "Converged:          0.0000           Scale:            1.0000     \n",
            "No. Iterations:     35.0000                                       \n",
            "---------------------------------------------------------------------\n",
            "        Coef.     Std.Err.       z       P>|z|      [0.025     0.975]\n",
            "---------------------------------------------------------------------\n",
            "x1      0.0870         nan        nan       nan        nan        nan\n",
            "x2      0.0369      0.0022    17.0495    0.0000     0.0326     0.0411\n",
            "x3      0.0305         nan        nan       nan        nan        nan\n",
            "x4     -0.0628      0.0111    -5.6456    0.0000    -0.0846    -0.0410\n",
            "x5      0.2537      0.0078    32.4530    0.0000     0.2384     0.2691\n",
            "x6      0.0565         nan        nan       nan        nan        nan\n",
            "x7      0.0996     -0.0000       -inf    0.0000     0.0996     0.0996\n",
            "x8      0.2924      0.0084    34.8372    0.0000     0.2760     0.3089\n",
            "==================================================================\n",
            "\n"
          ]
        }
      ]
    },
    {
      "cell_type": "code",
      "source": [
        "#@title Dades standarizatdes:\n",
        "\n",
        "#@title Estandarditzar les característiques eliminant la mitjana i escalant a la variància de la unitat.\n",
        "\n",
        "from sklearn_pandas import DataFrameMapper\n",
        "from sklearn.preprocessing import StandardScaler\n",
        "\n",
        "\n",
        "mapper = DataFrameMapper([(df2.columns, StandardScaler())])\n",
        "scaled_features = mapper.fit_transform(df2.copy(), 4)\n",
        "df2_StdScaler= pd.DataFrame(scaled_features, index=df2.index, columns=df2.columns)\n",
        "\n",
        "df2_StdScaler.head()\n",
        "\n",
        "datos_x= df2_StdScaler.loc[:, ['Puntualidad1', 'Puntualidad2',  \n",
        "        'E_Despegue','E_Despegue2','E_Despegue3',\n",
        "        'E_Duracion_Vuelo','E_Duracion_Vuelo2','E_Duracion_Vuelo3',]].values \n",
        "datos_y = df2.loc[:,['Tard3']]\n",
        "\n",
        "X_train, X_test, y_train, y_test = train_test_split(\n",
        "                                        datos_x,\n",
        "                                       datos_y,\n",
        "                                        train_size   = 0.8,\n",
        "                                        random_state = 1234,\n",
        "                                        shuffle      = True\n",
        "                                    )\n",
        "\n",
        "logit_model=sm.Logit( y_train, X_train)\n",
        "result=logit_model.fit()\n",
        "print(result.summary2())"
      ],
      "metadata": {
        "colab": {
          "base_uri": "https://localhost:8080/"
        },
        "id": "VcEBM5_hODuM",
        "outputId": "aeee85d1-e9c5-498c-f5c3-1c10c2390fe2"
      },
      "execution_count": 42,
      "outputs": [
        {
          "output_type": "stream",
          "name": "stdout",
          "text": [
            "Warning: Maximum number of iterations has been exceeded.\n",
            "         Current function value: 0.640394\n",
            "         Iterations: 35\n",
            "                         Results: Logit\n",
            "=================================================================\n",
            "Model:              Logit            Pseudo R-squared: -1.542    \n",
            "Dependent Variable: Tard3            AIC:              10983.2350\n",
            "Date:               2022-10-12 06:37 BIC:              11025.5683\n",
            "No. Observations:   8566             Log-Likelihood:   -5485.6   \n",
            "Df Model:           5                LL-Null:          -2158.1   \n",
            "Df Residuals:       8560             LLR p-value:      1.0000    \n",
            "Converged:          0.0000           Scale:            1.0000    \n",
            "No. Iterations:     35.0000                                      \n",
            "-----------------------------------------------------------------\n",
            "    Coef.    Std.Err.      z    P>|z|      [0.025       0.975]   \n",
            "-----------------------------------------------------------------\n",
            "x1 -0.0017 1712852.5986 -0.0000 1.0000 -3357129.4057 3357129.4024\n",
            "x2 -0.0040          nan     nan    nan           nan          nan\n",
            "x3 -0.0060 1178154.9933 -0.0000 1.0000 -2309141.3610 2309141.3491\n",
            "x4 -0.0196          nan     nan    nan           nan          nan\n",
            "x5  0.6088       0.0272 22.3501 0.0000        0.5554       0.6622\n",
            "x6  0.0029 1450176.4491  0.0000 1.0000 -2842293.6086 2842293.6144\n",
            "x7  0.0149          nan     nan    nan           nan          nan\n",
            "x8  0.4669       0.0244 19.1508 0.0000        0.4191       0.5147\n",
            "=================================================================\n",
            "\n"
          ]
        }
      ]
    },
    {
      "cell_type": "code",
      "source": [
        "# Creació del model utilitzant matrius com a scikitlearn\n",
        "# ================================================= =============================\n",
        "# A la matriu de predictors cal afegir una columna de 1s per a l'intercept del model\n",
        "\n",
        "import statsmodels.api as sm\n",
        "\n",
        "# Divisió de les dades en train i test\n",
        "# ==============================================================================\n",
        "datos_x= df2.loc[:, ['Puntualidad1', 'Puntualidad2',  \n",
        "        'E_Despegue','E_Despegue2','E_Despegue3',\n",
        "        'E_Duracion_Vuelo','E_Duracion_Vuelo2','E_Duracion_Vuelo3',]].values \n",
        "datos_y = df2.loc[:,['Tard3']]\n",
        "X_train, X_test, y_train, y_test = train_test_split(\n",
        "                                        datos_x,\n",
        "                                       datos_y,\n",
        "                                        train_size   = 0.8,\n",
        "                                        random_state = 1234,\n",
        "                                        shuffle      = True\n",
        "                                    )\n",
        "logit_model=sm.Logit( y_train, X_train)\n",
        "result=logit_model.fit()\n",
        "print(result.summary2())"
      ],
      "metadata": {
        "colab": {
          "base_uri": "https://localhost:8080/"
        },
        "id": "PfEnJST_PbFm",
        "outputId": "4d8733b8-a55e-43c8-af53-1ea95311a596"
      },
      "execution_count": 43,
      "outputs": [
        {
          "output_type": "stream",
          "name": "stdout",
          "text": [
            "Warning: Maximum number of iterations has been exceeded.\n",
            "         Current function value: 0.194613\n",
            "         Iterations: 35\n",
            "                          Results: Logit\n",
            "==================================================================\n",
            "Model:              Logit            Pseudo R-squared: 0.228      \n",
            "Dependent Variable: Tard3            AIC:              3346.1032  \n",
            "Date:               2022-10-12 06:37 BIC:              3388.4365  \n",
            "No. Observations:   8566             Log-Likelihood:   -1667.1    \n",
            "Df Model:           5                LL-Null:          -2158.1    \n",
            "Df Residuals:       8560             LLR p-value:      4.4908e-210\n",
            "Converged:          0.0000           Scale:            1.0000     \n",
            "No. Iterations:     35.0000                                       \n",
            "---------------------------------------------------------------------\n",
            "        Coef.     Std.Err.       z       P>|z|      [0.025     0.975]\n",
            "---------------------------------------------------------------------\n",
            "x1      0.0870         nan        nan       nan        nan        nan\n",
            "x2      0.0369      0.0022    17.0495    0.0000     0.0326     0.0411\n",
            "x3      0.0305         nan        nan       nan        nan        nan\n",
            "x4     -0.0628      0.0111    -5.6456    0.0000    -0.0846    -0.0410\n",
            "x5      0.2537      0.0078    32.4530    0.0000     0.2384     0.2691\n",
            "x6      0.0565         nan        nan       nan        nan        nan\n",
            "x7      0.0996     -0.0000       -inf    0.0000     0.0996     0.0996\n",
            "x8      0.2924      0.0084    34.8372    0.0000     0.2760     0.3089\n",
            "==================================================================\n",
            "\n"
          ]
        }
      ]
    },
    {
      "cell_type": "code",
      "source": [
        "#@title Importo train_test_split function per dividir les dades en Test i Train\n",
        "from sklearn.model_selection import train_test_split\n",
        "from sklearn.linear_model import LogisticRegression\n",
        "\n",
        "#@title Crec la columna X e Y: \n",
        "\n",
        "datos_x= df2.loc[:, ['Puntualidad1', 'Puntualidad2',  \n",
        "        'E_Despegue','E_Despegue2','E_Despegue3','E_Duracion_Vuelo','E_Duracion_Vuelo2','E_Duracion_Vuelo3',]].values\n",
        "\n",
        "datos_y = df2.loc[:,['Tard3']].values\n",
        "\n",
        "#Dividims el dataset en training set y test set\n",
        "X_train, X_test, y_train, y_test = train_test_split(datos_x, datos_y, test_size=0.3,random_state=109) # 70% training and 30% test\n",
        "\n",
        "\n",
        "# instanciem el model (fem servir els paràmetres predeterminats)\n",
        "logreg = LogisticRegression()\n",
        "\n",
        "# fit el model\n",
        "logreg.fit(X_train,y_train)\n",
        "\n",
        "#\n",
        "y_pred_RLogis=logreg.predict(X_test)\n",
        "\n",
        "scores_RL = cross_val_score(logreg, X_train, y_train, cv=5)\n",
        " \n",
        "print(\"Accuracy: %0.2f (+/- %0.2f)\" % (scores_RL.mean(), scores_RL.std() * 2))\n",
        "\n",
        "\n",
        "MetricasModelo( 'Regr.Log. des-Balancejada', y_test, y_pred_RLogis, scores_RL)"
      ],
      "metadata": {
        "colab": {
          "base_uri": "https://localhost:8080/",
          "height": 498
        },
        "id": "AA_n2hInQdfw",
        "outputId": "a1431f92-aedc-4337-8e7c-fccc8a5985f7"
      },
      "execution_count": 44,
      "outputs": [
        {
          "output_type": "stream",
          "name": "stdout",
          "text": [
            "Accuracy: 1.00 (+/- 0.00)\n",
            "Metodo:  Regr.Log. des-Balancejada\n",
            "RMSE: 0.000000\n",
            "R-Squared:  1.0\n",
            "Accuracy: 1.00 (+/- 0.00)\n",
            "\n",
            "\n",
            "Matriz de Confusión\n",
            "[[2998    0]\n",
            " [   0  215]]\n"
          ]
        },
        {
          "output_type": "display_data",
          "data": {
            "text/plain": [
              "<Figure size 432x288 with 2 Axes>"
            ],
            "image/png": "[encoded data removed]"
          },
          "metadata": {
            "needs_background": "light"
          }
        }
      ]
    },
    {
      "cell_type": "code",
      "source": [],
      "metadata": {
        "id": "Toww7IKoRdnT"
      },
      "execution_count": 44,
      "outputs": []
    },
    {
      "cell_type": "markdown",
      "source": [
        "# Balanceig les dades avants:"
      ],
      "metadata": {
        "id": "8QOcOZSeRquU"
      }
    },
    {
      "cell_type": "code",
      "source": [
        "#@title creem df2_sobremostrejat\n",
        "\n",
        "from sklearn.utils import resample\n",
        "\n",
        "\n",
        "# Classes majoritàries i minoritàries separades\n",
        "df_majority = df2[df2.Tard3==0]\n",
        "df_minority = df2[df2.Tard3==1]\n",
        " \n",
        "# Upsample minority class\n",
        "df_minority_sobremostrejat = resample(df_minority, \n",
        "                                 replace=True,     # sample with replacement\n",
        "                                 n_samples=8000,    # to match majority class\n",
        "                                 random_state=123) # reproducible results\n",
        " \n",
        "# Combina la classe majoritària amb la classe minoritària sobremostrejat\n",
        "df2_sobremostrejat = pd.concat([df_majority, df_minority_sobremostrejat])\n",
        "\n",
        "#Mostra els nous recomptes de classes\n",
        "# \n",
        "df2_sobremostrejat.Tard3.value_counts()"
      ],
      "metadata": {
        "colab": {
          "base_uri": "https://localhost:8080/"
        },
        "id": "8oQuX542Rzvw",
        "outputId": "56432d43-4e4a-4e9e-d12c-099a717d2115"
      },
      "execution_count": 45,
      "outputs": [
        {
          "output_type": "execute_result",
          "data": {
            "text/plain": [
              "0    9950\n",
              "1    8000\n",
              "Name: Tard3, dtype: int64"
            ]
          },
          "metadata": {},
          "execution_count": 45
        }
      ]
    },
    {
      "cell_type": "code",
      "source": [
        "df3= df2_sobremostrejat\n",
        "fig, ax = plt.subplots(figsize=(6, 4))\n",
        "sns.countplot(x='Tard3',data=df3, palette='hls')\n",
        "plt.show()"
      ],
      "metadata": {
        "colab": {
          "base_uri": "https://localhost:8080/",
          "height": 279
        },
        "id": "Jip4TPETR86A",
        "outputId": "bd7b1a5c-99e7-4df9-f4fe-89629e8e5ab1"
      },
      "execution_count": 46,
      "outputs": [
        {
          "output_type": "display_data",
          "data": {
            "text/plain": [
              "<Figure size 432x288 with 1 Axes>"
            ],
            "image/png": "[encoded data removed]"
          },
          "metadata": {
            "needs_background": "light"
          }
        }
      ]
    },
    {
      "cell_type": "code",
      "source": [
        "# Creació del model utilitzant matrius com a scikitlearn\n",
        "# ================================================= =============================\n",
        "# A la matriu de predictors cal afegir una columna de 1s per a l'intercept del model\n",
        "\n",
        "import statsmodels.api as sm\n",
        "\n",
        "# Divisió de les dades en train i test\n",
        "# ==============================================================================\n",
        "datos_x= df3.loc[:, ['Puntualidad1', 'Puntualidad2',  \n",
        "        'E_Despegue','E_Despegue2','E_Despegue3',\n",
        "        'E_Duracion_Vuelo','E_Duracion_Vuelo2','E_Duracion_Vuelo3',]].values \n",
        "datos_y = df3.loc[:,['Tard3']]\n",
        "X_train, X_test, y_train, y_test = train_test_split(\n",
        "                                        datos_x,\n",
        "                                       datos_y,\n",
        "                                        train_size   = 0.8,\n",
        "                                        random_state = 1234,\n",
        "                                        shuffle      = True\n",
        "                                    )\n",
        "logit_model=sm.Logit( y_train, X_train)\n",
        "result=logit_model.fit()\n",
        "print(result.summary2())"
      ],
      "metadata": {
        "colab": {
          "base_uri": "https://localhost:8080/"
        },
        "id": "KseOSJujSJdI",
        "outputId": "2342e33e-14fd-4e18-854c-998ae21b0ce7"
      },
      "execution_count": 47,
      "outputs": [
        {
          "output_type": "stream",
          "name": "stdout",
          "text": [
            "Warning: Maximum number of iterations has been exceeded.\n",
            "         Current function value: 0.146195\n",
            "         Iterations: 35\n",
            "                         Results: Logit\n",
            "================================================================\n",
            "Model:              Logit            Pseudo R-squared: 0.787    \n",
            "Dependent Variable: Tard3            AIC:              4210.7180\n",
            "Date:               2022-10-12 06:37 BIC:              4256.1512\n",
            "No. Observations:   14360            Log-Likelihood:   -2099.4  \n",
            "Df Model:           5                LL-Null:          -9865.6  \n",
            "Df Residuals:       14354            LLR p-value:      0.0000   \n",
            "Converged:          0.0000           Scale:            1.0000   \n",
            "No. Iterations:     35.0000                                     \n",
            "------------------------------------------------------------------\n",
            "          Coef.    Std.Err.      z      P>|z|     [0.025    0.975]\n",
            "------------------------------------------------------------------\n",
            "x1        0.0661        nan       nan      nan       nan       nan\n",
            "x2        0.0273        nan       nan      nan       nan       nan\n",
            "x3        0.0230        nan       nan      nan       nan       nan\n",
            "x4       -0.0491     0.0052   -9.5161   0.0000   -0.0592   -0.0390\n",
            "x5        0.3684     0.0075   49.1283   0.0000    0.3537    0.3831\n",
            "x6        0.0432        nan       nan      nan       nan       nan\n",
            "x7        0.0765        nan       nan      nan       nan       nan\n",
            "x8        0.3760     0.0081   46.5378   0.0000    0.3602    0.3919\n",
            "================================================================\n",
            "\n"
          ]
        }
      ]
    },
    {
      "cell_type": "markdown",
      "source": [
        "# Balanceig les dades després:"
      ],
      "metadata": {
        "id": "yTyo8OZYSp1F"
      }
    },
    {
      "cell_type": "markdown",
      "source": [
        "https://vitalflux.com/handling-class-imbalance-sklearn-resample-python/"
      ],
      "metadata": {
        "id": "3BKt1x-8q4TZ"
      }
    },
    {
      "cell_type": "code",
      "source": [
        "# Creació del model utilitzant matrius com a scikitlearn\n",
        "# ================================================= =============================\n",
        "# A la matriu de predictors cal afegir una columna de 1s per a l'intercept del model\n",
        "\n",
        "import statsmodels.api as sm\n",
        "\n",
        "# Divisió de les dades en train i test\n",
        "# ==============================================================================\n",
        "datos_x= df2.loc[:, ['Puntualidad1', 'Puntualidad2',  \n",
        "        'E_Despegue','E_Despegue2','E_Despegue3',\n",
        "        'E_Duracion_Vuelo','E_Duracion_Vuelo2','E_Duracion_Vuelo3',]].values \n",
        "datos_y = df2.loc[:,['Tard3']]\n",
        "X_train, X_test, y_train, y_test = train_test_split(\n",
        "                                        datos_x,\n",
        "                                       datos_y,\n",
        "                                        train_size   = 0.8,\n",
        "                                        random_state = 1234,\n",
        "                                        shuffle      = True\n",
        "                                    )\n",
        "\n",
        "# procés de balanceig del SPLI\n",
        "\n",
        "# Classes majoritàries i minoritàries separades\n",
        "df_majority = X_train[X_train.Tard3==0]\n",
        "df_minority = X_train[X_train.Tard3==1]\n",
        " \n",
        "# Upsample minority class\n",
        "df_minority_sobremostrejat = resample(df_minority, \n",
        "                                 replace=True,     # sample with replacement\n",
        "                                 n_samples=8000,    # to match majority class\n",
        "                                 random_state=123) # reproducible results\n",
        " \n",
        "# Combina la classe majoritària amb la classe minoritària sobremostrejat\n",
        "df2_sobremostrejat = pd.concat([df_majority, df_minority_sobremostrejat])\n",
        "\n",
        "#Mostra els nous recomptes de classes\n",
        "# \n",
        "df2_sobremostrejat.Tard3.value_counts(\n",
        "\n",
        "\n",
        "\n",
        "\n",
        "\n",
        "\n",
        "logit_model=sm.Logit( y_train, X_train)\n",
        "result=logit_model.fit()\n",
        "print(result.summary2())"
      ],
      "metadata": {
        "colab": {
          "base_uri": "https://localhost:8080/",
          "height": 131
        },
        "id": "7u_rxHv6S09u",
        "outputId": "62bcf9db-1111-4b99-8fac-ccfe0e1c30fc"
      },
      "execution_count": 48,
      "outputs": [
        {
          "output_type": "error",
          "ename": "SyntaxError",
          "evalue": "ignored",
          "traceback": [
            "\u001b[0;36m  File \u001b[0;32m\"<ipython-input-48-4e614ac8d9bd>\"\u001b[0;36m, line \u001b[0;32m46\u001b[0m\n\u001b[0;31m    result=logit_model.fit()\u001b[0m\n\u001b[0m         ^\u001b[0m\n\u001b[0;31mSyntaxError\u001b[0m\u001b[0;31m:\u001b[0m invalid syntax\n"
          ]
        }
      ]
    },
    {
      "cell_type": "code",
      "source": [
        "\n",
        "https://www.kaggle.com/code/eikedehling/exploring-class-imbalance-resampling-and-weights/notebook"
      ],
      "metadata": {
        "id": "UzPypO9D_WI8"
      },
      "execution_count": null,
      "outputs": []
    },
    {
      "cell_type": "code",
      "source": [
        "import statsmodels.api as sm\n",
        "from sklearn.metrics import confusion_matrix, classification_report\n",
        "from mlxtend.plotting import plot_decision_regions, plot_confusion_matrix\n",
        "#@title Exploring class imbalance, resampling and weights\n",
        "# https://www.kaggle.com/code/eikedehling/exploring-class-imbalance-resampling-and-weights/notebook\n",
        "# Divisió de les dades en train i test\n",
        "# ==============================================================================\n",
        "datos_x= df2.loc[:, ['Puntualidad1', 'Puntualidad2',  \n",
        "        'E_Despegue','E_Despegue2','E_Despegue3',\n",
        "        'E_Duracion_Vuelo','E_Duracion_Vuelo2','E_Duracion_Vuelo3',]].values \n",
        "datos_y = df2.loc[:,['Tard3']]\n",
        "X_train, X_test, y_train, y_test = train_test_split(\n",
        "                                        datos_x,\n",
        "                                       datos_y,\n",
        "                                        train_size   = 0.8,\n",
        "                                        random_state = 1234,\n",
        "                                        shuffle      = True\n",
        "                                    )\n",
        "\n",
        "lr = LogisticRegression()\n",
        "\n",
        "# Fit..\n",
        "lr.fit(X_train, y_train)\n",
        "\n",
        "# Predict..\n",
        "y_pred = lr.predict(X_test)\n",
        "\n",
        "# Evaluate the model\n",
        "print(classification_report(y_test, y_pred))\n",
        "plot_confusion_matrix(confusion_matrix(y_test, y_pred))"
      ],
      "metadata": {
        "colab": {
          "base_uri": "https://localhost:8080/",
          "height": 470
        },
        "id": "jshgUKO96K3n",
        "outputId": "f4e70992-129a-4d23-d611-bbbc39e31655"
      },
      "execution_count": 68,
      "outputs": [
        {
          "output_type": "stream",
          "name": "stdout",
          "text": [
            "              precision    recall  f1-score   support\n",
            "\n",
            "           0       1.00      1.00      1.00      1978\n",
            "           1       1.00      1.00      1.00       164\n",
            "\n",
            "    accuracy                           1.00      2142\n",
            "   macro avg       1.00      1.00      1.00      2142\n",
            "weighted avg       1.00      1.00      1.00      2142\n",
            "\n"
          ]
        },
        {
          "output_type": "execute_result",
          "data": {
            "text/plain": [
              "(<Figure size 432x288 with 1 Axes>,\n",
              " <matplotlib.axes._subplots.AxesSubplot at 0x7f7769342950>)"
            ]
          },
          "metadata": {},
          "execution_count": 68
        },
        {
          "output_type": "display_data",
          "data": {
            "text/plain": [
              "<Figure size 432x288 with 1 Axes>"
            ],
            "image/png": "[encoded data removed]"
          },
          "metadata": {
            "needs_background": "light"
          }
        }
      ]
    },
    {
      "cell_type": "code",
      "source": [],
      "metadata": {
        "id": "H4yuUV35_1ZF"
      },
      "execution_count": null,
      "outputs": []
    },
    {
      "cell_type": "code",
      "source": [
        "#@title Scaling..\n",
        "datos_x= df2.loc[:, ['Puntualidad1', 'Puntualidad2',  \n",
        "        'E_Despegue','E_Despegue2','E_Despegue3',\n",
        "        'E_Duracion_Vuelo','E_Duracion_Vuelo2','E_Duracion_Vuelo3',]].values \n",
        "y = df2.loc[:,['Tard3']]\n",
        "\n",
        "scaler = RobustScaler()\n",
        "X = scaler.fit_transform(datos_x)\n",
        "\n",
        "# Split into train/test set\n",
        "X_train, X_test, y_train, y_test = train_test_split(X, y, test_size=0.2)\n",
        "\n",
        "\n",
        "X_train, X_test, y_train, y_test = train_test_split(\n",
        "                                        datos_x,\n",
        "                                       datos_y,\n",
        "                                        train_size   = 0.8,\n",
        "                                        random_state = 1234,\n",
        "                                        shuffle      = True\n",
        "                                    )\n",
        "\n",
        "lr = LogisticRegression()\n",
        "\n",
        "# Fit..\n",
        "lr.fit(X_train, y_train)\n",
        "\n",
        "# Predict..\n",
        "y_pred = lr.predict(X_test)\n",
        "\n",
        "# Evaluate the model\n",
        "print(classification_report(y_test, y_pred))\n",
        "plot_confusion_matrix(confusion_matrix(y_test, y_pred))\n",
        "\n"
      ],
      "metadata": {
        "colab": {
          "base_uri": "https://localhost:8080/",
          "height": 470
        },
        "id": "o2gbHY548x0W",
        "outputId": "965d29e7-4030-42e7-c795-b836ac625a66"
      },
      "execution_count": 70,
      "outputs": [
        {
          "output_type": "stream",
          "name": "stdout",
          "text": [
            "              precision    recall  f1-score   support\n",
            "\n",
            "           0       1.00      1.00      1.00      1978\n",
            "           1       1.00      1.00      1.00       164\n",
            "\n",
            "    accuracy                           1.00      2142\n",
            "   macro avg       1.00      1.00      1.00      2142\n",
            "weighted avg       1.00      1.00      1.00      2142\n",
            "\n"
          ]
        },
        {
          "output_type": "execute_result",
          "data": {
            "text/plain": [
              "(<Figure size 432x288 with 1 Axes>,\n",
              " <matplotlib.axes._subplots.AxesSubplot at 0x7f776933c090>)"
            ]
          },
          "metadata": {},
          "execution_count": 70
        },
        {
          "output_type": "display_data",
          "data": {
            "text/plain": [
              "<Figure size 432x288 with 1 Axes>"
            ],
            "image/png": "[encoded data removed]"
          },
          "metadata": {
            "needs_background": "light"
          }
        }
      ]
    },
    {
      "cell_type": "code",
      "source": [
        "# example of random oversampling to balance the class distribution\n",
        "from collections import Counter\n",
        "from sklearn.datasets import make_classification\n",
        "from imblearn.over_sampling import RandomOverSampler\n",
        "\n",
        "# define oversampling strategy\n",
        "oversample = RandomOverSampler(sampling_strategy='minority')\n",
        "# fit and apply the transform\n",
        "X_over, y_over = oversample.fit_resample(X, y)\n",
        "# summarize class distribution\n",
        "print(Counter(y_over))\n",
        "y_over\n",
        "\n",
        "#df3= df2_sobremostrejat\n",
        "fig, ax = plt.subplots(figsize=(6, 4))\n",
        "sns.countplot(x='Tard3',data=y_over, palette='hls')\n",
        "plt.show()"
      ],
      "metadata": {
        "colab": {
          "base_uri": "https://localhost:8080/",
          "height": 296
        },
        "id": "g_tw_xAq80y_",
        "outputId": "b728d196-de77-4208-8909-6dedbc55f30c"
      },
      "execution_count": 74,
      "outputs": [
        {
          "output_type": "stream",
          "name": "stdout",
          "text": [
            "Counter({'Tard3': 1})\n"
          ]
        },
        {
          "output_type": "display_data",
          "data": {
            "text/plain": [
              "<Figure size 432x288 with 1 Axes>"
            ],
            "image/png": "[encoded data removed]"
          },
          "metadata": {
            "needs_background": "light"
          }
        }
      ]
    },
    {
      "cell_type": "code",
      "source": [
        "#@title Balancejan despres el X_train i el y_train\n",
        "\n",
        "\n",
        "datos_x= df2.loc[:, ['Puntualidad1', 'Puntualidad2',  \n",
        "        'E_Despegue','E_Despegue2','E_Despegue3',\n",
        "        'E_Duracion_Vuelo','E_Duracion_Vuelo2','E_Duracion_Vuelo3',]].values \n",
        "\n",
        "datos_y = df2.loc[:,['Tard3']]\n",
        "X_train, X_test, y_train, y_test = train_test_split(\n",
        "                                        datos_x,\n",
        "                                       datos_y,\n",
        "                                        train_size   = 0.8,\n",
        "                                        random_state = 1234,\n",
        "                                        shuffle      = True\n",
        "                                    )\n",
        "\n",
        "oversample = RandomOverSampler(sampling_strategy='minority')\n",
        "# fit and apply the transform\n",
        "X_over, y_over = oversample.fit_resample(X_train, y_train)\n",
        "\n",
        "logit_model=sm.Logit( y_over, X_over)\n",
        "result=logit_model.fit()\n",
        "print(result.summary2())\n",
        "print(result.summary())"
      ],
      "metadata": {
        "colab": {
          "base_uri": "https://localhost:8080/"
        },
        "id": "MSoI-jWlrvWz",
        "outputId": "97b2454a-7ff3-40b0-be7a-6b4e1ab2cb98"
      },
      "execution_count": 100,
      "outputs": [
        {
          "output_type": "stream",
          "name": "stdout",
          "text": [
            "Warning: Maximum number of iterations has been exceeded.\n",
            "         Current function value: 0.135609\n",
            "         Iterations: 35\n",
            "                         Results: Logit\n",
            "================================================================\n",
            "Model:              Logit            Pseudo R-squared: 0.804    \n",
            "Dependent Variable: Tard3            AIC:              4336.3122\n",
            "Date:               2022-10-12 07:39 BIC:              4382.3732\n",
            "No. Observations:   15944            Log-Likelihood:   -2162.2  \n",
            "Df Model:           5                LL-Null:          -11052.  \n",
            "Df Residuals:       15938            LLR p-value:      0.0000   \n",
            "Converged:          0.0000           Scale:            1.0000   \n",
            "No. Iterations:     35.0000                                     \n",
            "-------------------------------------------------------------------\n",
            "        Coef.     Std.Err.       z       P>|z|     [0.025    0.975]\n",
            "-------------------------------------------------------------------\n",
            "x1      0.0613         nan        nan       nan       nan       nan\n",
            "x2      0.0327         nan        nan       nan       nan       nan\n",
            "x3      0.0201         nan        nan       nan       nan       nan\n",
            "x4     -0.0420         nan        nan       nan       nan       nan\n",
            "x5      0.3796      0.0075    50.2898    0.0000    0.3648    0.3944\n",
            "x6      0.0413         nan        nan       nan       nan       nan\n",
            "x7      0.0748         nan        nan       nan       nan       nan\n",
            "x8      0.3919      0.0082    47.6943    0.0000    0.3758    0.4080\n",
            "================================================================\n",
            "\n",
            "                           Logit Regression Results                           \n",
            "==============================================================================\n",
            "Dep. Variable:                  Tard3   No. Observations:                15944\n",
            "Model:                          Logit   Df Residuals:                    15938\n",
            "Method:                           MLE   Df Model:                            5\n",
            "Date:                Wed, 12 Oct 2022   Pseudo R-squ.:                  0.8044\n",
            "Time:                        07:39:44   Log-Likelihood:                -2162.2\n",
            "converged:                      False   LL-Null:                       -11052.\n",
            "Covariance Type:            nonrobust   LLR p-value:                     0.000\n",
            "==============================================================================\n",
            "                 coef    std err          z      P>|z|      [0.025      0.975]\n",
            "------------------------------------------------------------------------------\n",
            "x1             0.0613        nan        nan        nan         nan         nan\n",
            "x2             0.0327        nan        nan        nan         nan         nan\n",
            "x3             0.0201        nan        nan        nan         nan         nan\n",
            "x4            -0.0420        nan        nan        nan         nan         nan\n",
            "x5             0.3796      0.008     50.290      0.000       0.365       0.394\n",
            "x6             0.0413        nan        nan        nan         nan         nan\n",
            "x7             0.0748        nan        nan        nan         nan         nan\n",
            "x8             0.3919      0.008     47.694      0.000       0.376       0.408\n",
            "==============================================================================\n"
          ]
        }
      ]
    },
    {
      "cell_type": "code",
      "source": [
        "prediction = list(map(round, y_pred))\n",
        "prediction\n",
        "print(classification_report(y_test, prediction))\n",
        "plot_confusion_matrix(confusion_matrix(y_test, prediction))"
      ],
      "metadata": {
        "id": "uLnu5npdI1_V",
        "outputId": "27a344e8-018a-414f-e401-a8ce12be729b",
        "colab": {
          "base_uri": "https://localhost:8080/",
          "height": 470
        }
      },
      "execution_count": 105,
      "outputs": [
        {
          "output_type": "stream",
          "name": "stdout",
          "text": [
            "              precision    recall  f1-score   support\n",
            "\n",
            "           0       0.99      0.91      0.95      1978\n",
            "           1       0.45      0.91      0.60       164\n",
            "\n",
            "    accuracy                           0.91      2142\n",
            "   macro avg       0.72      0.91      0.78      2142\n",
            "weighted avg       0.95      0.91      0.92      2142\n",
            "\n"
          ]
        },
        {
          "output_type": "execute_result",
          "data": {
            "text/plain": [
              "(<Figure size 432x288 with 1 Axes>,\n",
              " <matplotlib.axes._subplots.AxesSubplot at 0x7f776930ce50>)"
            ]
          },
          "metadata": {},
          "execution_count": 105
        },
        {
          "output_type": "display_data",
          "data": {
            "text/plain": [
              "<Figure size 432x288 with 1 Axes>"
            ],
            "image/png": "[encoded data removed]"
          },
          "metadata": {
            "needs_background": "light"
          }
        }
      ]
    },
    {
      "cell_type": "markdown",
      "source": [
        "https://michael-fuchs-python.netlify.app/2019/10/31/introduction-to-logistic-regression/"
      ],
      "metadata": {
        "id": "h6qjQL8QKGAc"
      }
    }
  ]
}