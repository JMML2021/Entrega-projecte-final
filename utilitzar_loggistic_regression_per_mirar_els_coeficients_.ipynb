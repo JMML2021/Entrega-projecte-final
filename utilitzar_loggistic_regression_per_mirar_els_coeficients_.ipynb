{
  "nbformat": 4,
  "nbformat_minor": 0,
  "metadata": {
    "colab": {
      "provenance": [],
      "toc_visible": true,
      "authorship_tag": "ABX9TyPF8xG5TVrk/ROSX9XRfUzp",
      "include_colab_link": true
    },
    "kernelspec": {
      "name": "python3",
      "display_name": "Python 3"
    },
    "language_info": {
      "name": "python"
    }
  },
  "cells": [
    {
      "cell_type": "markdown",
      "metadata": {
        "id": "view-in-github",
        "colab_type": "text"
      },
      "source": [
        "<a href=\"https://colab.research.google.com/github/JMML2021/Entrega-projecte-final/blob/main/utilitzar_loggistic_regression_per_mirar_els_coeficients_.ipynb\" target=\"_parent\"><img src=\"https://colab.research.google.com/assets/colab-badge.svg\" alt=\"Open In Colab\"/></a>"
      ]
    },
    {
      "cell_type": "code",
      "execution_count": 111,
      "metadata": {
        "id": "jGh3pHWOKVEe"
      },
      "outputs": [],
      "source": [
        "import numpy as np\n",
        "import matplotlib.pyplot as plt \n",
        "\n",
        "import pandas as pd  \n",
        "import seaborn as sns \n",
        "\n",
        "%matplotlib inline\n",
        "\n",
        "\n",
        "from sklearn.manifold import TSNE\n",
        "from sklearn.decomposition import PCA\n",
        "from sklearn.ensemble import RandomForestClassifier\n",
        "from sklearn.metrics import accuracy_score, confusion_matrix\n",
        "from sklearn.model_selection import train_test_split, cross_val_score\n",
        "\n",
        "import numpy as np\n",
        "import pandas as pd\n",
        "from sklearn.preprocessing import RobustScaler\n",
        "from sklearn.model_selection import train_test_split\n",
        "from sklearn.metrics import accuracy_score, f1_score, precision_score, recall_score, classification_report, confusion_matrix\n"
      ]
    },
    {
      "cell_type": "code",
      "source": [
        "# Configuració warnings\n",
        "# ==============================================================================\n",
        "import warnings\n",
        "warnings.filterwarnings('ignore')"
      ],
      "metadata": {
        "id": "xZc7uL_ARh6p"
      },
      "execution_count": 112,
      "outputs": []
    },
    {
      "cell_type": "code",
      "source": [
        "# Activo Google Drive\n",
        "\n",
        "from google.colab import drive\n",
        "drive.mount('/content/drive')"
      ],
      "metadata": {
        "id": "BBXJFZrnKZY-",
        "colab": {
          "base_uri": "https://localhost:8080/"
        },
        "outputId": "495e6f87-76f0-422e-dd84-74465a9e128e"
      },
      "execution_count": 113,
      "outputs": [
        {
          "output_type": "stream",
          "name": "stdout",
          "text": [
            "Drive already mounted at /content/drive; to attempt to forcibly remount, call drive.mount(\"/content/drive\", force_remount=True).\n"
          ]
        }
      ]
    },
    {
      "cell_type": "code",
      "source": [
        "#@title Obrir fitxer creat amb Calculo Vueling 2022 con codigos Rev D.ipynb\n",
        "#path='/content/drive/MyDrive/2022.06.03 2022_delay + cierre puertas CORTO.xlsx'\n",
        "Hoja = 'FLT_2022'\n",
        "path = ('/content/drive/MyDrive/Ficheros de Vueling/2022-09-20 14:39:04.960091 FLT_2022.xlsx')\n",
        "path = ('/content/drive/MyDrive/Ficheros de Vueling/2022-10-10 07:25:00.012463 FLT_2022.xlsx')\n",
        "df = pd.read_excel(path) #, sheet_name=Hoja)\n"
      ],
      "metadata": {
        "id": "KUHVaaBFKcCy"
      },
      "execution_count": 114,
      "outputs": []
    },
    {
      "cell_type": "code",
      "source": [
        "# Para crear una \"logistic regresion\":\n",
        "# 10 minuts és el temps que s'accepta com arribar a l'hora\n",
        "\n",
        "df['Tard1'] = np.where(df['Puntualidad1'] <10, 0, 1)\n",
        "df['Tard2'] = np.where(df['Puntualidad2'] <10, 0, 1)\n",
        "df['Tard3'] = np.where(df['Puntualidad3'] <10, 0, 1)"
      ],
      "metadata": {
        "id": "a-_W_Eq3KfEn"
      },
      "execution_count": 115,
      "outputs": []
    },
    {
      "cell_type": "code",
      "source": [
        "#@title crec el DataFrame df1\n",
        "df1=df[['Puntualidad1', 'Puntualidad2', 'Puntualidad3', \n",
        "        'E_Despegue','E_Despegue2','E_Despegue3',\n",
        "        'E_Duracion_Vuelo','E_Duracion_Vuelo2','E_Duracion_Vuelo3', 'Tard1', 'Tard2', 'Tard3']]"
      ],
      "metadata": {
        "id": "-F1--pZFLDE4"
      },
      "execution_count": 116,
      "outputs": []
    },
    {
      "cell_type": "code",
      "source": [
        "#@#@title Estandarditzar les característiques eliminant la mitjana i escalant a la variància de la unitat.\n",
        "\n",
        "from sklearn_pandas import DataFrameMapper\n",
        "from sklearn.preprocessing import StandardScaler\n",
        "\n",
        "mapper = DataFrameMapper([(df1.columns, StandardScaler())])\n",
        "scaled_features = mapper.fit_transform(df1.copy(), 4)\n",
        "df1_StdScaler= pd.DataFrame(scaled_features, index=df1.index, columns=df1.columns)\n",
        "\n",
        "df1_StdScaler.head()"
      ],
      "metadata": {
        "colab": {
          "base_uri": "https://localhost:8080/",
          "height": 206
        },
        "id": "Rb1jzPFcLKcg",
        "outputId": "7b2d1856-df4e-46b3-af87-9d599e54633e"
      },
      "execution_count": 117,
      "outputs": [
        {
          "output_type": "execute_result",
          "data": {
            "text/plain": [
              "   Puntualidad1  Puntualidad2  Puntualidad3  E_Despegue  E_Despegue2  \\\n",
              "0      0.661875      0.158984     -0.020942    1.006091     0.398530   \n",
              "1     -0.620447     -0.405877     -0.020942   -0.939568    -0.840450   \n",
              "2      0.245987      0.204173     -0.169253    0.340471     0.133034   \n",
              "3      0.800504      0.000823     -0.525200    1.159696     0.575527   \n",
              "4      0.176672     -0.134744     -0.050604   -0.222746    -0.530705   \n",
              "\n",
              "   E_Despegue3  E_Duracion_Vuelo  E_Duracion_Vuelo2  E_Duracion_Vuelo3  \\\n",
              "0    -0.039738         -0.022665          -0.049533           0.000086   \n",
              "1    -0.655431          0.018437           0.025896           0.365863   \n",
              "2    -0.095710          0.018437           0.151611          -0.132924   \n",
              "3    -0.543487          0.018437          -0.326106          -0.265933   \n",
              "4    -0.263626          0.388352           0.151611           0.099843   \n",
              "\n",
              "      Tard1     Tard2     Tard3  \n",
              "0  2.979681 -0.387587 -0.362741  \n",
              "1 -0.335606 -0.387587 -0.362741  \n",
              "2 -0.335606 -0.387587 -0.362741  \n",
              "3  2.979681 -0.387587 -0.362741  \n",
              "4 -0.335606 -0.387587 -0.362741  "
            ],
            "text/html": [
              "\n",
              "  <div id=\"df-80bb9795-5875-4f1f-8671-323debf41877\">\n",
              "    <div class=\"colab-df-container\">\n",
              "      <div>\n",
              "<style scoped>\n",
              "    .dataframe tbody tr th:only-of-type {\n",
              "        vertical-align: middle;\n",
              "    }\n",
              "\n",
              "    .dataframe tbody tr th {\n",
              "        vertical-align: top;\n",
              "    }\n",
              "\n",
              "    .dataframe thead th {\n",
              "        text-align: right;\n",
              "    }\n",
              "</style>\n",
              "<table border=\"1\" class=\"dataframe\">\n",
              "  <thead>\n",
              "    <tr style=\"text-align: right;\">\n",
              "      <th></th>\n",
              "      <th>Puntualidad1</th>\n",
              "      <th>Puntualidad2</th>\n",
              "      <th>Puntualidad3</th>\n",
              "      <th>E_Despegue</th>\n",
              "      <th>E_Despegue2</th>\n",
              "      <th>E_Despegue3</th>\n",
              "      <th>E_Duracion_Vuelo</th>\n",
              "      <th>E_Duracion_Vuelo2</th>\n",
              "      <th>E_Duracion_Vuelo3</th>\n",
              "      <th>Tard1</th>\n",
              "      <th>Tard2</th>\n",
              "      <th>Tard3</th>\n",
              "    </tr>\n",
              "  </thead>\n",
              "  <tbody>\n",
              "    <tr>\n",
              "      <th>0</th>\n",
              "      <td>0.661875</td>\n",
              "      <td>0.158984</td>\n",
              "      <td>-0.020942</td>\n",
              "      <td>1.006091</td>\n",
              "      <td>0.398530</td>\n",
              "      <td>-0.039738</td>\n",
              "      <td>-0.022665</td>\n",
              "      <td>-0.049533</td>\n",
              "      <td>0.000086</td>\n",
              "      <td>2.979681</td>\n",
              "      <td>-0.387587</td>\n",
              "      <td>-0.362741</td>\n",
              "    </tr>\n",
              "    <tr>\n",
              "      <th>1</th>\n",
              "      <td>-0.620447</td>\n",
              "      <td>-0.405877</td>\n",
              "      <td>-0.020942</td>\n",
              "      <td>-0.939568</td>\n",
              "      <td>-0.840450</td>\n",
              "      <td>-0.655431</td>\n",
              "      <td>0.018437</td>\n",
              "      <td>0.025896</td>\n",
              "      <td>0.365863</td>\n",
              "      <td>-0.335606</td>\n",
              "      <td>-0.387587</td>\n",
              "      <td>-0.362741</td>\n",
              "    </tr>\n",
              "    <tr>\n",
              "      <th>2</th>\n",
              "      <td>0.245987</td>\n",
              "      <td>0.204173</td>\n",
              "      <td>-0.169253</td>\n",
              "      <td>0.340471</td>\n",
              "      <td>0.133034</td>\n",
              "      <td>-0.095710</td>\n",
              "      <td>0.018437</td>\n",
              "      <td>0.151611</td>\n",
              "      <td>-0.132924</td>\n",
              "      <td>-0.335606</td>\n",
              "      <td>-0.387587</td>\n",
              "      <td>-0.362741</td>\n",
              "    </tr>\n",
              "    <tr>\n",
              "      <th>3</th>\n",
              "      <td>0.800504</td>\n",
              "      <td>0.000823</td>\n",
              "      <td>-0.525200</td>\n",
              "      <td>1.159696</td>\n",
              "      <td>0.575527</td>\n",
              "      <td>-0.543487</td>\n",
              "      <td>0.018437</td>\n",
              "      <td>-0.326106</td>\n",
              "      <td>-0.265933</td>\n",
              "      <td>2.979681</td>\n",
              "      <td>-0.387587</td>\n",
              "      <td>-0.362741</td>\n",
              "    </tr>\n",
              "    <tr>\n",
              "      <th>4</th>\n",
              "      <td>0.176672</td>\n",
              "      <td>-0.134744</td>\n",
              "      <td>-0.050604</td>\n",
              "      <td>-0.222746</td>\n",
              "      <td>-0.530705</td>\n",
              "      <td>-0.263626</td>\n",
              "      <td>0.388352</td>\n",
              "      <td>0.151611</td>\n",
              "      <td>0.099843</td>\n",
              "      <td>-0.335606</td>\n",
              "      <td>-0.387587</td>\n",
              "      <td>-0.362741</td>\n",
              "    </tr>\n",
              "  </tbody>\n",
              "</table>\n",
              "</div>\n",
              "      <button class=\"colab-df-convert\" onclick=\"convertToInteractive('df-80bb9795-5875-4f1f-8671-323debf41877')\"\n",
              "              title=\"Convert this dataframe to an interactive table.\"\n",
              "              style=\"display:none;\">\n",
              "        \n",
              "  <svg xmlns=\"http://www.w3.org/2000/svg\" height=\"24px\"viewBox=\"0 0 24 24\"\n",
              "       width=\"24px\">\n",
              "    <path d=\"M0 0h24v24H0V0z\" fill=\"none\"/>\n",
              "    <path d=\"M18.56 5.44l.94 2.06.94-2.06 2.06-.94-2.06-.94-.94-2.06-.94 2.06-2.06.94zm-11 1L8.5 8.5l.94-2.06 2.06-.94-2.06-.94L8.5 2.5l-.94 2.06-2.06.94zm10 10l.94 2.06.94-2.06 2.06-.94-2.06-.94-.94-2.06-.94 2.06-2.06.94z\"/><path d=\"M17.41 7.96l-1.37-1.37c-.4-.4-.92-.59-1.43-.59-.52 0-1.04.2-1.43.59L10.3 9.45l-7.72 7.72c-.78.78-.78 2.05 0 2.83L4 21.41c.39.39.9.59 1.41.59.51 0 1.02-.2 1.41-.59l7.78-7.78 2.81-2.81c.8-.78.8-2.07 0-2.86zM5.41 20L4 18.59l7.72-7.72 1.47 1.35L5.41 20z\"/>\n",
              "  </svg>\n",
              "      </button>\n",
              "      \n",
              "  <style>\n",
              "    .colab-df-container {\n",
              "      display:flex;\n",
              "      flex-wrap:wrap;\n",
              "      gap: 12px;\n",
              "    }\n",
              "\n",
              "    .colab-df-convert {\n",
              "      background-color: #E8F0FE;\n",
              "      border: none;\n",
              "      border-radius: 50%;\n",
              "      cursor: pointer;\n",
              "      display: none;\n",
              "      fill: #1967D2;\n",
              "      height: 32px;\n",
              "      padding: 0 0 0 0;\n",
              "      width: 32px;\n",
              "    }\n",
              "\n",
              "    .colab-df-convert:hover {\n",
              "      background-color: #E2EBFA;\n",
              "      box-shadow: 0px 1px 2px rgba(60, 64, 67, 0.3), 0px 1px 3px 1px rgba(60, 64, 67, 0.15);\n",
              "      fill: #174EA6;\n",
              "    }\n",
              "\n",
              "    [theme=dark] .colab-df-convert {\n",
              "      background-color: #3B4455;\n",
              "      fill: #D2E3FC;\n",
              "    }\n",
              "\n",
              "    [theme=dark] .colab-df-convert:hover {\n",
              "      background-color: #434B5C;\n",
              "      box-shadow: 0px 1px 3px 1px rgba(0, 0, 0, 0.15);\n",
              "      filter: drop-shadow(0px 1px 2px rgba(0, 0, 0, 0.3));\n",
              "      fill: #FFFFFF;\n",
              "    }\n",
              "  </style>\n",
              "\n",
              "      <script>\n",
              "        const buttonEl =\n",
              "          document.querySelector('#df-80bb9795-5875-4f1f-8671-323debf41877 button.colab-df-convert');\n",
              "        buttonEl.style.display =\n",
              "          google.colab.kernel.accessAllowed ? 'block' : 'none';\n",
              "\n",
              "        async function convertToInteractive(key) {\n",
              "          const element = document.querySelector('#df-80bb9795-5875-4f1f-8671-323debf41877');\n",
              "          const dataTable =\n",
              "            await google.colab.kernel.invokeFunction('convertToInteractive',\n",
              "                                                     [key], {});\n",
              "          if (!dataTable) return;\n",
              "\n",
              "          const docLinkHtml = 'Like what you see? Visit the ' +\n",
              "            '<a target=\"_blank\" href=https://colab.research.google.com/notebooks/data_table.ipynb>data table notebook</a>'\n",
              "            + ' to learn more about interactive tables.';\n",
              "          element.innerHTML = '';\n",
              "          dataTable['output_type'] = 'display_data';\n",
              "          await google.colab.output.renderOutput(dataTable, element);\n",
              "          const docLink = document.createElement('div');\n",
              "          docLink.innerHTML = docLinkHtml;\n",
              "          element.appendChild(docLink);\n",
              "        }\n",
              "      </script>\n",
              "    </div>\n",
              "  </div>\n",
              "  "
            ]
          },
          "metadata": {},
          "execution_count": 117
        }
      ]
    },
    {
      "cell_type": "code",
      "source": [
        "#@title Elimino els outliers. df2\n",
        "df2=df1.copy()\n",
        "\n",
        "dfEliminarOutliers= ((df2['E_Despegue']> -30) & \n",
        "                     (df2['E_Despegue']< 30) & \n",
        "                     (df2['Puntualidad1']< 30) & \n",
        "                     (df2['Puntualidad1']>-30) &\n",
        "                     (df2['Puntualidad2']< 30) & \n",
        "                     (df2['Puntualidad2']>-30)&\n",
        "                     (df2['E_Despegue2']< 30) & \n",
        "                     (df2['E_Despegue2']>-30)&\n",
        "                     (df2['Puntualidad3']< 30) & \n",
        "                     (df2['Puntualidad3']>-30)&\n",
        "                     (df2['E_Despegue3']< 30) & \n",
        "                     (df2['E_Despegue3']>-30))\n",
        "\n",
        "df2 = df2[dfEliminarOutliers]"
      ],
      "metadata": {
        "id": "_8W6y6UWLU_6"
      },
      "execution_count": 118,
      "outputs": []
    },
    {
      "cell_type": "code",
      "source": [
        "#@title Quantitat de outliers que hi ha\n",
        "print(df1.shape)\n",
        "print(df2.shape)\n",
        "percentatje= round((df2.shape[0]-df1.shape[0])/df1.shape[0]*100/3,2)\n",
        "print('quantitat de files afectades per outliers per salt= ', percentatje)"
      ],
      "metadata": {
        "colab": {
          "base_uri": "https://localhost:8080/"
        },
        "id": "5H7yXyDPLZMA",
        "outputId": "579d23b0-e1ed-4be8-cf5b-c642e785b16a"
      },
      "execution_count": 119,
      "outputs": [
        {
          "output_type": "stream",
          "name": "stdout",
          "text": [
            "(12358, 12)\n",
            "(10708, 12)\n",
            "quantitat de files afectades per outliers per salt=  -4.45\n"
          ]
        }
      ]
    },
    {
      "cell_type": "code",
      "source": [
        "#@title Creo Subrutina de metricas:\n",
        "\n",
        "#Importo scikit-learn metrics module para el calculo\n",
        "from sklearn import metrics\n",
        "from sklearn.metrics import mean_squared_error\n",
        "from sklearn.metrics import r2_score\n",
        "metricasEjercicio2=[]\n",
        "######################################################################\n",
        " \n",
        "def MetricasModelo(metodo, Y_real, Y_calculado, scores):\n",
        "  print('Metodo: ', metodo)\n",
        "  \n",
        "  #Precisión del modelo: ¿con qué frecuencia es correcto el clasificador?\n",
        "  #accuracy = metrics.accuracy_score(Y_real, Y_calculado)\n",
        "  #print(\"Accuracy:\", accuracy)\n",
        "\n",
        "  rmse = np.sqrt(mean_squared_error(Y_real, Y_calculado,))\n",
        "  print(\"RMSE: %f\" % (rmse))\n",
        "  \n",
        "\n",
        "  R_squared = r2_score(Y_real, Y_calculado,)\n",
        "\n",
        "  print(\"R-Squared: \", np.round(R_squared, 2))\n",
        " \n",
        "  print(\"Accuracy: %0.2f (+/- %0.2f)\" % (scores.mean(), scores.std() * 2))\n",
        "  accuracy = \"Accuracy: %0.2f (+/- %0.2f)\" % (scores.mean(), scores.std() * 2)\n",
        "\n",
        "  # Guardo metricas\n",
        "  metricasEjercicio2.append([metodo, rmse, R_squared, accuracy])  \n",
        "\n",
        "\n",
        "  cnf_matrix_SVM = metrics.confusion_matrix(Y_real, Y_calculado)\n",
        "\n",
        "  print('\\n\\nMatriz de Confusión')\n",
        "  print(cnf_matrix_SVM)\n",
        "\n",
        "\n",
        "  # Creamos la Matriz de Confusion:\n",
        "\n",
        "  class_names=[0,1] # name  of classes\n",
        "  \n",
        "  fig, ax = plt.subplots()\n",
        "  tick_marks = np.arange(len(class_names))\n",
        "  plt.xticks(tick_marks, class_names)\n",
        "  plt.yticks(tick_marks, class_names)\n",
        "\n",
        "  # create heatmap\n",
        "\n",
        "  sns.heatmap(pd.DataFrame(cnf_matrix_SVM), annot=True, cmap=\"gist_ncar\" ,fmt='g')\n",
        "  ax.xaxis.set_label_position(\"top\")\n",
        " \n",
        "\n",
        "  plt.tight_layout()\n",
        "  plt.title('Matriu de confusió', y=1.1)\n",
        "  plt.ylabel('Valor Actual')\n",
        "  plt.xlabel('Valor predit')\n",
        "  plt.Text(1.5,257.44,'Predicció')\n"
      ],
      "metadata": {
        "id": "bhbZ2yoQMc4v"
      },
      "execution_count": 120,
      "outputs": []
    },
    {
      "cell_type": "code",
      "source": [
        "fig, ax = plt.subplots(figsize=(6, 4))\n",
        "sns.countplot(x='Tard3',data=df2, palette='hls')\n",
        "plt.show()"
      ],
      "metadata": {
        "colab": {
          "base_uri": "https://localhost:8080/",
          "height": 279
        },
        "id": "juwBZZTSMpNz",
        "outputId": "788f3b9a-d9f5-42b1-d296-f2d028405c26"
      },
      "execution_count": 121,
      "outputs": [
        {
          "output_type": "display_data",
          "data": {
            "text/plain": [
              "<Figure size 432x288 with 1 Axes>"
            ],
            "image/png": "[encoded data removed]"
          },
          "metadata": {
            "needs_background": "light"
          }
        }
      ]
    },
    {
      "cell_type": "code",
      "source": [
        "# Creació del model utilitzant matrius com a scikitlearn\n",
        "# ================================================= =============================\n",
        "# A la matriu de predictors cal afegir una columna de 1s per a l'intercept del model\n",
        "\n",
        "import statsmodels.api as sm\n",
        "\n",
        "# Divisió de les dades en train i test\n",
        "# ==============================================================================\n",
        "datos_x= df2.loc[:, ['Puntualidad1', 'Puntualidad2',  \n",
        "        'E_Despegue','E_Despegue2','E_Despegue3',\n",
        "        'E_Duracion_Vuelo','E_Duracion_Vuelo2','E_Duracion_Vuelo3',]].values \n",
        "datos_y = df2.loc[:,['Tard3']]\n",
        "X_train, X_test, y_train, y_test = train_test_split(\n",
        "                                        datos_x,\n",
        "                                       datos_y,\n",
        "                                        train_size   = 0.8,\n",
        "                                        random_state = 1234,\n",
        "                                        shuffle      = True\n",
        "                                    )\n",
        "logit_model=sm.Logit( y_train, X_train)\n",
        "result=logit_model.fit()\n",
        "print(result.summary2())"
      ],
      "metadata": {
        "colab": {
          "base_uri": "https://localhost:8080/"
        },
        "id": "AgCBdCvzM0vz",
        "outputId": "34db0174-1a5f-4b71-92b5-6ac9eea713ed"
      },
      "execution_count": 122,
      "outputs": [
        {
          "output_type": "stream",
          "name": "stdout",
          "text": [
            "Warning: Maximum number of iterations has been exceeded.\n",
            "         Current function value: 0.194613\n",
            "         Iterations: 35\n",
            "                          Results: Logit\n",
            "==================================================================\n",
            "Model:              Logit            Pseudo R-squared: 0.228      \n",
            "Dependent Variable: Tard3            AIC:              3346.1032  \n",
            "Date:               2022-10-12 07:55 BIC:              3388.4365  \n",
            "No. Observations:   8566             Log-Likelihood:   -1667.1    \n",
            "Df Model:           5                LL-Null:          -2158.1    \n",
            "Df Residuals:       8560             LLR p-value:      4.4908e-210\n",
            "Converged:          0.0000           Scale:            1.0000     \n",
            "No. Iterations:     35.0000                                       \n",
            "---------------------------------------------------------------------\n",
            "        Coef.     Std.Err.       z       P>|z|      [0.025     0.975]\n",
            "---------------------------------------------------------------------\n",
            "x1      0.0870         nan        nan       nan        nan        nan\n",
            "x2      0.0369      0.0022    17.0495    0.0000     0.0326     0.0411\n",
            "x3      0.0305         nan        nan       nan        nan        nan\n",
            "x4     -0.0628      0.0111    -5.6456    0.0000    -0.0846    -0.0410\n",
            "x5      0.2537      0.0078    32.4530    0.0000     0.2384     0.2691\n",
            "x6      0.0565         nan        nan       nan        nan        nan\n",
            "x7      0.0996     -0.0000       -inf    0.0000     0.0996     0.0996\n",
            "x8      0.2924      0.0084    34.8372    0.0000     0.2760     0.3089\n",
            "==================================================================\n",
            "\n"
          ]
        }
      ]
    },
    {
      "cell_type": "code",
      "source": [
        "#@title Dades standarizatdes:\n",
        "\n",
        "#@title Estandarditzar les característiques eliminant la mitjana i escalant a la variància de la unitat.\n",
        "\n",
        "from sklearn_pandas import DataFrameMapper\n",
        "from sklearn.preprocessing import StandardScaler\n",
        "\n",
        "\n",
        "mapper = DataFrameMapper([(df2.columns, StandardScaler())])\n",
        "scaled_features = mapper.fit_transform(df2.copy(), 4)\n",
        "df2_StdScaler= pd.DataFrame(scaled_features, index=df2.index, columns=df2.columns)\n",
        "\n",
        "df2_StdScaler.head()\n",
        "\n",
        "datos_x= df2_StdScaler.loc[:, ['Puntualidad1', 'Puntualidad2',  \n",
        "        'E_Despegue','E_Despegue2','E_Despegue3',\n",
        "        'E_Duracion_Vuelo','E_Duracion_Vuelo2','E_Duracion_Vuelo3',]].values \n",
        "datos_y = df2.loc[:,['Tard3']]\n",
        "\n",
        "X_train, X_test, y_train, y_test = train_test_split(\n",
        "                                        datos_x,\n",
        "                                       datos_y,\n",
        "                                        train_size   = 0.8,\n",
        "                                        random_state = 1234,\n",
        "                                        shuffle      = True\n",
        "                                    )\n",
        "\n",
        "logit_model=sm.Logit( y_train, X_train)\n",
        "result=logit_model.fit()\n",
        "print(result.summary2())"
      ],
      "metadata": {
        "colab": {
          "base_uri": "https://localhost:8080/"
        },
        "id": "VcEBM5_hODuM",
        "outputId": "b78c237b-6504-4c21-86fd-b17c82df8b50"
      },
      "execution_count": 123,
      "outputs": [
        {
          "output_type": "stream",
          "name": "stdout",
          "text": [
            "Warning: Maximum number of iterations has been exceeded.\n",
            "         Current function value: 0.640394\n",
            "         Iterations: 35\n",
            "                         Results: Logit\n",
            "=================================================================\n",
            "Model:              Logit            Pseudo R-squared: -1.542    \n",
            "Dependent Variable: Tard3            AIC:              10983.2350\n",
            "Date:               2022-10-12 07:55 BIC:              11025.5683\n",
            "No. Observations:   8566             Log-Likelihood:   -5485.6   \n",
            "Df Model:           5                LL-Null:          -2158.1   \n",
            "Df Residuals:       8560             LLR p-value:      1.0000    \n",
            "Converged:          0.0000           Scale:            1.0000    \n",
            "No. Iterations:     35.0000                                      \n",
            "-----------------------------------------------------------------\n",
            "    Coef.    Std.Err.      z    P>|z|      [0.025       0.975]   \n",
            "-----------------------------------------------------------------\n",
            "x1 -0.0017 1712852.5986 -0.0000 1.0000 -3357129.4057 3357129.4024\n",
            "x2 -0.0040          nan     nan    nan           nan          nan\n",
            "x3 -0.0060 1178154.9933 -0.0000 1.0000 -2309141.3610 2309141.3491\n",
            "x4 -0.0196          nan     nan    nan           nan          nan\n",
            "x5  0.6088       0.0272 22.3501 0.0000        0.5554       0.6622\n",
            "x6  0.0029 1450176.4491  0.0000 1.0000 -2842293.6086 2842293.6144\n",
            "x7  0.0149          nan     nan    nan           nan          nan\n",
            "x8  0.4669       0.0244 19.1508 0.0000        0.4191       0.5147\n",
            "=================================================================\n",
            "\n"
          ]
        }
      ]
    },
    {
      "cell_type": "code",
      "source": [
        "# Creació del model utilitzant matrius com a scikitlearn\n",
        "# ================================================= =============================\n",
        "# A la matriu de predictors cal afegir una columna de 1s per a l'intercept del model\n",
        "\n",
        "import statsmodels.api as sm\n",
        "\n",
        "# Divisió de les dades en train i test\n",
        "# ==============================================================================\n",
        "datos_x= df2.loc[:, ['Puntualidad1', 'Puntualidad2',  \n",
        "        'E_Despegue','E_Despegue2','E_Despegue3',\n",
        "        'E_Duracion_Vuelo','E_Duracion_Vuelo2','E_Duracion_Vuelo3',]].values \n",
        "datos_y = df2.loc[:,['Tard3']]\n",
        "X_train, X_test, y_train, y_test = train_test_split(\n",
        "                                        datos_x,\n",
        "                                       datos_y,\n",
        "                                        train_size   = 0.8,\n",
        "                                        random_state = 1234,\n",
        "                                        shuffle      = True\n",
        "                                    )\n",
        "logit_model=sm.Logit( y_train, X_train)\n",
        "result=logit_model.fit()\n",
        "print(result.summary2())"
      ],
      "metadata": {
        "colab": {
          "base_uri": "https://localhost:8080/"
        },
        "id": "PfEnJST_PbFm",
        "outputId": "1b36d733-dc53-409a-dca8-2cda2cbe1c33"
      },
      "execution_count": 124,
      "outputs": [
        {
          "output_type": "stream",
          "name": "stdout",
          "text": [
            "Warning: Maximum number of iterations has been exceeded.\n",
            "         Current function value: 0.194613\n",
            "         Iterations: 35\n",
            "                          Results: Logit\n",
            "==================================================================\n",
            "Model:              Logit            Pseudo R-squared: 0.228      \n",
            "Dependent Variable: Tard3            AIC:              3346.1032  \n",
            "Date:               2022-10-12 07:55 BIC:              3388.4365  \n",
            "No. Observations:   8566             Log-Likelihood:   -1667.1    \n",
            "Df Model:           5                LL-Null:          -2158.1    \n",
            "Df Residuals:       8560             LLR p-value:      4.4908e-210\n",
            "Converged:          0.0000           Scale:            1.0000     \n",
            "No. Iterations:     35.0000                                       \n",
            "---------------------------------------------------------------------\n",
            "        Coef.     Std.Err.       z       P>|z|      [0.025     0.975]\n",
            "---------------------------------------------------------------------\n",
            "x1      0.0870         nan        nan       nan        nan        nan\n",
            "x2      0.0369      0.0022    17.0495    0.0000     0.0326     0.0411\n",
            "x3      0.0305         nan        nan       nan        nan        nan\n",
            "x4     -0.0628      0.0111    -5.6456    0.0000    -0.0846    -0.0410\n",
            "x5      0.2537      0.0078    32.4530    0.0000     0.2384     0.2691\n",
            "x6      0.0565         nan        nan       nan        nan        nan\n",
            "x7      0.0996     -0.0000       -inf    0.0000     0.0996     0.0996\n",
            "x8      0.2924      0.0084    34.8372    0.0000     0.2760     0.3089\n",
            "==================================================================\n",
            "\n"
          ]
        }
      ]
    },
    {
      "cell_type": "code",
      "source": [
        "#@title Importo train_test_split function per dividir les dades en Test i Train\n",
        "from sklearn.model_selection import train_test_split\n",
        "from sklearn.linear_model import LogisticRegression\n",
        "\n",
        "#@title Crec la columna X e Y: \n",
        "\n",
        "datos_x= df2.loc[:, ['Puntualidad1', 'Puntualidad2',  \n",
        "        'E_Despegue','E_Despegue2','E_Despegue3','E_Duracion_Vuelo','E_Duracion_Vuelo2','E_Duracion_Vuelo3',]].values\n",
        "\n",
        "datos_y = df2.loc[:,['Tard3']].values\n",
        "\n",
        "#Dividims el dataset en training set y test set\n",
        "X_train, X_test, y_train, y_test = train_test_split(datos_x, datos_y, test_size=0.3,random_state=109) # 70% training and 30% test\n",
        "\n",
        "\n",
        "# instanciem el model (fem servir els paràmetres predeterminats)\n",
        "logreg = LogisticRegression()\n",
        "\n",
        "# fit el model\n",
        "logreg.fit(X_train,y_train)\n",
        "\n",
        "#\n",
        "y_pred_RLogis=logreg.predict(X_test)\n",
        "\n",
        "scores_RL = cross_val_score(logreg, X_train, y_train, cv=5)\n",
        " \n",
        "print(\"Accuracy: %0.2f (+/- %0.2f)\" % (scores_RL.mean(), scores_RL.std() * 2))\n",
        "\n",
        "\n",
        "MetricasModelo( 'Regr.Log. des-Balancejada', y_test, y_pred_RLogis, scores_RL)"
      ],
      "metadata": {
        "colab": {
          "base_uri": "https://localhost:8080/",
          "height": 498
        },
        "id": "AA_n2hInQdfw",
        "outputId": "066d8a36-4926-4344-83dd-b769e57f9fba"
      },
      "execution_count": 125,
      "outputs": [
        {
          "output_type": "stream",
          "name": "stdout",
          "text": [
            "Accuracy: 1.00 (+/- 0.00)\n",
            "Metodo:  Regr.Log. des-Balancejada\n",
            "RMSE: 0.000000\n",
            "R-Squared:  1.0\n",
            "Accuracy: 1.00 (+/- 0.00)\n",
            "\n",
            "\n",
            "Matriz de Confusión\n",
            "[[2998    0]\n",
            " [   0  215]]\n"
          ]
        },
        {
          "output_type": "display_data",
          "data": {
            "text/plain": [
              "<Figure size 432x288 with 2 Axes>"
            ],
            "image/png": "[encoded data removed]"
          },
          "metadata": {
            "needs_background": "light"
          }
        }
      ]
    },
    {
      "cell_type": "markdown",
      "source": [
        "# Balanceig les dades avants:"
      ],
      "metadata": {
        "id": "8QOcOZSeRquU"
      }
    },
    {
      "cell_type": "code",
      "source": [
        "#@title creem df2_sobremostrejat\n",
        "\n",
        "from sklearn.utils import resample\n",
        "\n",
        "\n",
        "# Classes majoritàries i minoritàries separades\n",
        "df_majority = df2[df2.Tard3==0]\n",
        "df_minority = df2[df2.Tard3==1]\n",
        " \n",
        "# Upsample minority class\n",
        "df_minority_sobremostrejat = resample(df_minority, \n",
        "                                 replace=True,     # sample with replacement\n",
        "                                 n_samples=8000,    # to match majority class\n",
        "                                 random_state=123) # reproducible results\n",
        " \n",
        "# Combina la classe majoritària amb la classe minoritària sobremostrejat\n",
        "df2_sobremostrejat = pd.concat([df_majority, df_minority_sobremostrejat])\n",
        "\n",
        "#Mostra els nous recomptes de classes\n",
        "# \n",
        "df2_sobremostrejat.Tard3.value_counts()"
      ],
      "metadata": {
        "colab": {
          "base_uri": "https://localhost:8080/"
        },
        "id": "8oQuX542Rzvw",
        "outputId": "58703161-e42b-47d4-beb4-846418df308d"
      },
      "execution_count": 126,
      "outputs": [
        {
          "output_type": "execute_result",
          "data": {
            "text/plain": [
              "0    9950\n",
              "1    8000\n",
              "Name: Tard3, dtype: int64"
            ]
          },
          "metadata": {},
          "execution_count": 126
        }
      ]
    },
    {
      "cell_type": "code",
      "source": [
        "df3= df2_sobremostrejat\n",
        "fig, ax = plt.subplots(figsize=(6, 4))\n",
        "sns.countplot(x='Tard3',data=df3, palette='hls')\n",
        "plt.show()"
      ],
      "metadata": {
        "colab": {
          "base_uri": "https://localhost:8080/",
          "height": 279
        },
        "id": "Jip4TPETR86A",
        "outputId": "4474ca07-bc6b-4b11-985b-c8a7e7c09c2b"
      },
      "execution_count": 127,
      "outputs": [
        {
          "output_type": "display_data",
          "data": {
            "text/plain": [
              "<Figure size 432x288 with 1 Axes>"
            ],
            "image/png": "[encoded data removed]"
          },
          "metadata": {
            "needs_background": "light"
          }
        }
      ]
    },
    {
      "cell_type": "code",
      "source": [
        "# Creació del model utilitzant matrius com a scikitlearn\n",
        "# ================================================= =============================\n",
        "# A la matriu de predictors cal afegir una columna de 1s per a l'intercept del model\n",
        "\n",
        "import statsmodels.api as sm\n",
        "\n",
        "# Divisió de les dades en train i test\n",
        "# ==============================================================================\n",
        "datos_x= df3.loc[:, ['Puntualidad1', 'Puntualidad2',  \n",
        "        'E_Despegue','E_Despegue2','E_Despegue3',\n",
        "        'E_Duracion_Vuelo','E_Duracion_Vuelo2','E_Duracion_Vuelo3',]].values \n",
        "datos_y = df3.loc[:,['Tard3']]\n",
        "X_train, X_test, y_train, y_test = train_test_split(\n",
        "                                        datos_x,\n",
        "                                       datos_y,\n",
        "                                        train_size   = 0.8,\n",
        "                                        random_state = 1234,\n",
        "                                        shuffle      = True\n",
        "                                    )\n",
        "logit_model=sm.Logit( y_train, X_train)\n",
        "result=logit_model.fit()\n",
        "print(result.summary2())"
      ],
      "metadata": {
        "colab": {
          "base_uri": "https://localhost:8080/"
        },
        "id": "KseOSJujSJdI",
        "outputId": "dc30fb7e-4dbb-4faa-f37f-a70c29b217e3"
      },
      "execution_count": 128,
      "outputs": [
        {
          "output_type": "stream",
          "name": "stdout",
          "text": [
            "Warning: Maximum number of iterations has been exceeded.\n",
            "         Current function value: 0.146195\n",
            "         Iterations: 35\n",
            "                         Results: Logit\n",
            "================================================================\n",
            "Model:              Logit            Pseudo R-squared: 0.787    \n",
            "Dependent Variable: Tard3            AIC:              4210.7180\n",
            "Date:               2022-10-12 07:55 BIC:              4256.1512\n",
            "No. Observations:   14360            Log-Likelihood:   -2099.4  \n",
            "Df Model:           5                LL-Null:          -9865.6  \n",
            "Df Residuals:       14354            LLR p-value:      0.0000   \n",
            "Converged:          0.0000           Scale:            1.0000   \n",
            "No. Iterations:     35.0000                                     \n",
            "------------------------------------------------------------------\n",
            "          Coef.    Std.Err.      z      P>|z|     [0.025    0.975]\n",
            "------------------------------------------------------------------\n",
            "x1        0.0661        nan       nan      nan       nan       nan\n",
            "x2        0.0273        nan       nan      nan       nan       nan\n",
            "x3        0.0230        nan       nan      nan       nan       nan\n",
            "x4       -0.0491     0.0052   -9.5161   0.0000   -0.0592   -0.0390\n",
            "x5        0.3684     0.0075   49.1283   0.0000    0.3537    0.3831\n",
            "x6        0.0432        nan       nan      nan       nan       nan\n",
            "x7        0.0765        nan       nan      nan       nan       nan\n",
            "x8        0.3760     0.0081   46.5378   0.0000    0.3602    0.3919\n",
            "================================================================\n",
            "\n"
          ]
        }
      ]
    },
    {
      "cell_type": "markdown",
      "source": [
        "# Balanceig les dades després:"
      ],
      "metadata": {
        "id": "yTyo8OZYSp1F"
      }
    },
    {
      "cell_type": "markdown",
      "source": [
        "https://vitalflux.com/handling-class-imbalance-sklearn-resample-python/"
      ],
      "metadata": {
        "id": "3BKt1x-8q4TZ"
      }
    },
    {
      "cell_type": "markdown",
      "source": [
        "\n",
        "https://www.kaggle.com/code/eikedehling/exploring-class-imbalance-resampling-and-weights/notebook"
      ],
      "metadata": {
        "id": "-XsMnWqnMfYk"
      }
    },
    {
      "cell_type": "code",
      "source": [
        "import statsmodels.api as sm\n",
        "from sklearn.metrics import confusion_matrix, classification_report\n",
        "from mlxtend.plotting import plot_decision_regions, plot_confusion_matrix\n",
        "#@title Exploring class imbalance, resampling and weights\n",
        "# https://www.kaggle.com/code/eikedehling/exploring-class-imbalance-resampling-and-weights/notebook\n",
        "# Divisió de les dades en train i test\n",
        "# ==============================================================================\n",
        "datos_x= df2.loc[:, ['Puntualidad1', 'Puntualidad2',  \n",
        "        'E_Despegue','E_Despegue2','E_Despegue3',\n",
        "        'E_Duracion_Vuelo','E_Duracion_Vuelo2','E_Duracion_Vuelo3',]].values \n",
        "datos_y = df2.loc[:,['Tard3']]\n",
        "X_train, X_test, y_train, y_test = train_test_split(\n",
        "                                        datos_x,\n",
        "                                       datos_y,\n",
        "                                        train_size   = 0.8,\n",
        "                                        random_state = 1234,\n",
        "                                        shuffle      = True\n",
        "                                    )\n",
        "\n",
        "lr = LogisticRegression()\n",
        "\n",
        "# Fit..\n",
        "lr.fit(X_train, y_train)\n",
        "\n",
        "# Predict..\n",
        "y_pred = lr.predict(X_test)\n",
        "\n",
        "# Evaluate the model\n",
        "print(classification_report(y_test, y_pred))\n",
        "plot_confusion_matrix(confusion_matrix(y_test, y_pred))"
      ],
      "metadata": {
        "colab": {
          "base_uri": "https://localhost:8080/",
          "height": 470
        },
        "id": "jshgUKO96K3n",
        "outputId": "eb4e526c-045e-42ef-87bb-6160d389c62f"
      },
      "execution_count": 131,
      "outputs": [
        {
          "output_type": "stream",
          "name": "stdout",
          "text": [
            "              precision    recall  f1-score   support\n",
            "\n",
            "           0       1.00      1.00      1.00      1978\n",
            "           1       1.00      1.00      1.00       164\n",
            "\n",
            "    accuracy                           1.00      2142\n",
            "   macro avg       1.00      1.00      1.00      2142\n",
            "weighted avg       1.00      1.00      1.00      2142\n",
            "\n"
          ]
        },
        {
          "output_type": "execute_result",
          "data": {
            "text/plain": [
              "(<Figure size 432x288 with 1 Axes>,\n",
              " <matplotlib.axes._subplots.AxesSubplot at 0x7f7769249d50>)"
            ]
          },
          "metadata": {},
          "execution_count": 131
        },
        {
          "output_type": "display_data",
          "data": {
            "text/plain": [
              "<Figure size 432x288 with 1 Axes>"
            ],
            "image/png": "[encoded data removed]"
          },
          "metadata": {
            "needs_background": "light"
          }
        }
      ]
    },
    {
      "cell_type": "code",
      "source": [
        "#@title Scaling..\n",
        "datos_x= df2.loc[:, ['Puntualidad1', 'Puntualidad2',  \n",
        "        'E_Despegue','E_Despegue2','E_Despegue3',\n",
        "        'E_Duracion_Vuelo','E_Duracion_Vuelo2','E_Duracion_Vuelo3',]].values \n",
        "y = df2.loc[:,['Tard3']]\n",
        "\n",
        "scaler = RobustScaler()\n",
        "X = scaler.fit_transform(datos_x)\n",
        "\n",
        "# Split into train/test set\n",
        "X_train, X_test, y_train, y_test = train_test_split(X, y, test_size=0.2)\n",
        "\n",
        "\n",
        "X_train, X_test, y_train, y_test = train_test_split(\n",
        "                                        datos_x,\n",
        "                                       datos_y,\n",
        "                                        train_size   = 0.8,\n",
        "                                        random_state = 1234,\n",
        "                                        shuffle      = True\n",
        "                                    )\n",
        "\n",
        "lr = LogisticRegression()\n",
        "\n",
        "# Fit..\n",
        "lr.fit(X_train, y_train)\n",
        "\n",
        "# Predict..\n",
        "y_pred = lr.predict(X_test)\n",
        "\n",
        "# Evaluate the model\n",
        "print(classification_report(y_test, y_pred))\n",
        "plot_confusion_matrix(confusion_matrix(y_test, y_pred))\n",
        "\n"
      ],
      "metadata": {
        "colab": {
          "base_uri": "https://localhost:8080/",
          "height": 470
        },
        "id": "o2gbHY548x0W",
        "outputId": "db2a27c1-aa4c-4f80-c23a-323d804beae6"
      },
      "execution_count": 132,
      "outputs": [
        {
          "output_type": "stream",
          "name": "stdout",
          "text": [
            "              precision    recall  f1-score   support\n",
            "\n",
            "           0       1.00      1.00      1.00      1978\n",
            "           1       1.00      1.00      1.00       164\n",
            "\n",
            "    accuracy                           1.00      2142\n",
            "   macro avg       1.00      1.00      1.00      2142\n",
            "weighted avg       1.00      1.00      1.00      2142\n",
            "\n"
          ]
        },
        {
          "output_type": "execute_result",
          "data": {
            "text/plain": [
              "(<Figure size 432x288 with 1 Axes>,\n",
              " <matplotlib.axes._subplots.AxesSubplot at 0x7f7769237410>)"
            ]
          },
          "metadata": {},
          "execution_count": 132
        },
        {
          "output_type": "display_data",
          "data": {
            "text/plain": [
              "<Figure size 432x288 with 1 Axes>"
            ],
            "image/png": "[encoded data removed]"
          },
          "metadata": {
            "needs_background": "light"
          }
        }
      ]
    },
    {
      "cell_type": "code",
      "source": [
        "# example of random oversampling to balance the class distribution\n",
        "from collections import Counter\n",
        "from sklearn.datasets import make_classification\n",
        "from imblearn.over_sampling import RandomOverSampler\n",
        "\n",
        "# define oversampling strategy\n",
        "oversample = RandomOverSampler(sampling_strategy='minority')\n",
        "# fit and apply the transform\n",
        "X_over, y_over = oversample.fit_resample(X, y)\n",
        "# summarize class distribution\n",
        "print(Counter(y_over))\n",
        "y_over\n",
        "\n",
        "#df3= df2_sobremostrejat\n",
        "fig, ax = plt.subplots(figsize=(6, 4))\n",
        "sns.countplot(x='Tard3',data=y_over, palette='hls')\n",
        "plt.show()"
      ],
      "metadata": {
        "colab": {
          "base_uri": "https://localhost:8080/",
          "height": 296
        },
        "id": "g_tw_xAq80y_",
        "outputId": "4375f12a-5e75-4c37-d00d-de27e36adb94"
      },
      "execution_count": 133,
      "outputs": [
        {
          "output_type": "stream",
          "name": "stdout",
          "text": [
            "Counter({'Tard3': 1})\n"
          ]
        },
        {
          "output_type": "display_data",
          "data": {
            "text/plain": [
              "<Figure size 432x288 with 1 Axes>"
            ],
            "image/png": "[encoded data removed]"
          },
          "metadata": {
            "needs_background": "light"
          }
        }
      ]
    },
    {
      "cell_type": "code",
      "source": [
        "#@title Balancejan despres el X_train i el y_train\n",
        "\n",
        "\n",
        "datos_x= df2.loc[:, ['Puntualidad1', 'Puntualidad2',  \n",
        "        'E_Despegue','E_Despegue2','E_Despegue3',\n",
        "        'E_Duracion_Vuelo','E_Duracion_Vuelo2','E_Duracion_Vuelo3',]].values \n",
        "\n",
        "datos_y = df2.loc[:,['Tard3']]\n",
        "X_train, X_test, y_train, y_test = train_test_split(\n",
        "                                        datos_x,\n",
        "                                       datos_y,\n",
        "                                        train_size   = 0.8,\n",
        "                                        random_state = 1234,\n",
        "                                        shuffle      = True\n",
        "                                    )\n",
        "\n",
        "oversample = RandomOverSampler(sampling_strategy='minority')\n",
        "# fit and apply the transform\n",
        "X_over, y_over = oversample.fit_resample(X_train, y_train)\n",
        "\n",
        "logit_model=sm.Logit( y_over, X_over)\n",
        "result=logit_model.fit()\n",
        "print(result.summary2())\n",
        "print(result.summary())"
      ],
      "metadata": {
        "colab": {
          "base_uri": "https://localhost:8080/"
        },
        "id": "MSoI-jWlrvWz",
        "outputId": "a8277dea-03fa-4007-a188-30f03d15c9ad"
      },
      "execution_count": 134,
      "outputs": [
        {
          "output_type": "stream",
          "name": "stdout",
          "text": [
            "Warning: Maximum number of iterations has been exceeded.\n",
            "         Current function value: 0.135792\n",
            "         Iterations: 35\n",
            "                         Results: Logit\n",
            "================================================================\n",
            "Model:              Logit            Pseudo R-squared: 0.804    \n",
            "Dependent Variable: Tard3            AIC:              4342.1423\n",
            "Date:               2022-10-12 07:55 BIC:              4388.2034\n",
            "No. Observations:   15944            Log-Likelihood:   -2165.1  \n",
            "Df Model:           5                LL-Null:          -11052.  \n",
            "Df Residuals:       15938            LLR p-value:      0.0000   \n",
            "Converged:          0.0000           Scale:            1.0000   \n",
            "No. Iterations:     35.0000                                     \n",
            "----------------------------------------------------------------\n",
            "     Coef.    Std.Err.     z     P>|z|     [0.025       0.975]  \n",
            "----------------------------------------------------------------\n",
            "x1   0.0621 336133.0685   0.0000 1.0000 -658808.6461 658808.7703\n",
            "x2   0.0325         nan      nan    nan          nan         nan\n",
            "x3   0.0209 336133.0685   0.0000 1.0000 -658808.6873 658808.7291\n",
            "x4  -0.0417      0.0034 -12.1553 0.0000      -0.0484     -0.0350\n",
            "x5   0.3806      0.0076  50.2943 0.0000       0.3658      0.3954\n",
            "x6   0.0413 336133.0685   0.0000 1.0000 -658808.6670 658808.7495\n",
            "x7   0.0742      0.0029  25.8603 0.0000       0.0685      0.0798\n",
            "x8   0.3922      0.0082  47.7921 0.0000       0.3761      0.4083\n",
            "================================================================\n",
            "\n",
            "                           Logit Regression Results                           \n",
            "==============================================================================\n",
            "Dep. Variable:                  Tard3   No. Observations:                15944\n",
            "Model:                          Logit   Df Residuals:                    15938\n",
            "Method:                           MLE   Df Model:                            5\n",
            "Date:                Wed, 12 Oct 2022   Pseudo R-squ.:                  0.8041\n",
            "Time:                        07:56:00   Log-Likelihood:                -2165.1\n",
            "converged:                      False   LL-Null:                       -11052.\n",
            "Covariance Type:            nonrobust   LLR p-value:                     0.000\n",
            "==============================================================================\n",
            "                 coef    std err          z      P>|z|      [0.025      0.975]\n",
            "------------------------------------------------------------------------------\n",
            "x1             0.0621   3.36e+05   1.85e-07      1.000   -6.59e+05    6.59e+05\n",
            "x2             0.0325        nan        nan        nan         nan         nan\n",
            "x3             0.0209   3.36e+05   6.21e-08      1.000   -6.59e+05    6.59e+05\n",
            "x4            -0.0417      0.003    -12.155      0.000      -0.048      -0.035\n",
            "x5             0.3806      0.008     50.294      0.000       0.366       0.395\n",
            "x6             0.0413   3.36e+05   1.23e-07      1.000   -6.59e+05    6.59e+05\n",
            "x7             0.0742      0.003     25.860      0.000       0.069       0.080\n",
            "x8             0.3922      0.008     47.792      0.000       0.376       0.408\n",
            "==============================================================================\n"
          ]
        }
      ]
    },
    {
      "cell_type": "code",
      "source": [
        "\n",
        "\n",
        "sns.set(style=\"white\")\n",
        "sns.set(style=\"whitegrid\", color_codes=True)\n",
        "\n",
        "prediction = list(map(round, y_pred))\n",
        "prediction\n",
        "print(classification_report(y_test, prediction))\n",
        "plot_confusion_matrix(confusion_matrix(y_test, prediction))"
      ],
      "metadata": {
        "colab": {
          "base_uri": "https://localhost:8080/",
          "height": 476
        },
        "id": "uLnu5npdI1_V",
        "outputId": "0f9ce49e-1a2a-46ab-b679-e128b5368afd"
      },
      "execution_count": 141,
      "outputs": [
        {
          "output_type": "stream",
          "name": "stdout",
          "text": [
            "              precision    recall  f1-score   support\n",
            "\n",
            "           0       1.00      1.00      1.00      1978\n",
            "           1       1.00      1.00      1.00       164\n",
            "\n",
            "    accuracy                           1.00      2142\n",
            "   macro avg       1.00      1.00      1.00      2142\n",
            "weighted avg       1.00      1.00      1.00      2142\n",
            "\n"
          ]
        },
        {
          "output_type": "execute_result",
          "data": {
            "text/plain": [
              "(<Figure size 432x288 with 1 Axes>,\n",
              " <matplotlib.axes._subplots.AxesSubplot at 0x7f77690e4a90>)"
            ]
          },
          "metadata": {},
          "execution_count": 141
        },
        {
          "output_type": "display_data",
          "data": {
            "text/plain": [
              "<Figure size 432x288 with 1 Axes>"
            ],
            "image/png": "[encoded data removed]"
          },
          "metadata": {}
        }
      ]
    },
    {
      "cell_type": "markdown",
      "source": [
        "https://michael-fuchs-python.netlify.app/2019/10/31/introduction-to-logistic-regression/"
      ],
      "metadata": {
        "id": "h6qjQL8QKGAc"
      }
    },
    {
      "cell_type": "code",
      "source": [
        "print('Accuracy: {:.2f}'.format(accuracy_score(y_test, prediction)))\n",
        "print('Error rate: {:.2f}'.format(1 - accuracy_score(y_test, prediction)))\n",
        "print('Precision: {:.2f}'.format(precision_score(y_test, prediction)))\n",
        "print('Recall: {:.2f}'.format(recall_score(y_test, prediction)))\n",
        "print('f1_score: {:.2f}'.format(f1_score(y_test, prediction)))"
      ],
      "metadata": {
        "colab": {
          "base_uri": "https://localhost:8080/"
        },
        "id": "q3ybkW7lK8SY",
        "outputId": "e34422a1-373e-4aec-d62f-2b171e01e134"
      },
      "execution_count": 136,
      "outputs": [
        {
          "output_type": "stream",
          "name": "stdout",
          "text": [
            "Accuracy: 1.00\n",
            "Error rate: 0.00\n",
            "Precision: 1.00\n",
            "Recall: 1.00\n",
            "f1_score: 1.00\n"
          ]
        }
      ]
    },
    {
      "cell_type": "markdown",
      "source": [
        "**Accuracy** is the fraction of predictions our model got right.\n",
        "\n",
        "**Error rate** is the fraction of predictions our model got wrong.\n",
        "\n",
        "The **precision** is intuitively the ability of the classifier to not label a sample as positive if it is negative.\n",
        "\n",
        "**The recall** is intuitively the ability of the classifier to find all the positive samples.\n",
        "\n",
        "The **F1 score** can be interpreted as a weighted average of the precision and recall, where an F1 score reaches its best value at 1 and worst score at 0."
      ],
      "metadata": {
        "id": "ITB2GiWpLad3"
      }
    },
    {
      "cell_type": "code",
      "source": [
        "\n",
        "from sklearn.metrics import roc_auc_score\n",
        "from sklearn.metrics import roc_curve\n",
        "from sklearn.tree import DecisionTreeClassifier\n",
        "from sklearn.ensemble import RandomForestClassifier\n",
        "from sklearn.metrics import plot_roc_curve\n",
        "\n",
        "\n",
        "\n",
        "logit_roc_auc = roc_auc_score(y_test, prediction)\n",
        "fpr, tpr, thresholds = roc_curve(y_test, logreg.predict_proba(X_test)[:,1])\n",
        "plt.figure()\n",
        "plt.plot(fpr, tpr, label='Logistic Regression (area = %0.2f)' % logit_roc_auc)\n",
        "plt.plot([0, 1], [0, 1],'r--')\n",
        "plt.xlim([0.0, 1.0])\n",
        "plt.ylim([0.0, 1.05])\n",
        "plt.xlabel('False Positive Rate')\n",
        "plt.ylabel('True Positive Rate')\n",
        "plt.title('Receiver operating characteristic ROC')\n",
        "plt.legend(loc=\"lower right\")\n",
        "\n",
        "plt.show()"
      ],
      "metadata": {
        "colab": {
          "base_uri": "https://localhost:8080/",
          "height": 301
        },
        "id": "qqSCNfBkLgoc",
        "outputId": "e825a8fd-6dae-4687-9fab-13efbd0688c9"
      },
      "execution_count": 144,
      "outputs": [
        {
          "output_type": "display_data",
          "data": {
            "text/plain": [
              "<Figure size 432x288 with 1 Axes>"
            ],
            "image/png": "[encoded data removed]"
          },
          "metadata": {}
        }
      ]
    }
  ]
}