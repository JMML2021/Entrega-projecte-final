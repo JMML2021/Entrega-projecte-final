{
  "nbformat": 4,
  "nbformat_minor": 0,
  "metadata": {
    "colab": {
      "provenance": [],
      "toc_visible": true,
      "authorship_tag": "ABX9TyOX6JaYRNfcHd88AG98Q+3W",
      "include_colab_link": true
    },
    "kernelspec": {
      "name": "python3",
      "display_name": "Python 3"
    },
    "language_info": {
      "name": "python"
    }
  },
  "cells": [
    {
      "cell_type": "markdown",
      "metadata": {
        "id": "view-in-github",
        "colab_type": "text"
      },
      "source": [
        "<a href=\"https://colab.research.google.com/github/JMML2021/Entrega-projecte-final/blob/main/utilitzar_loggistic_regression_per_mirar_els_coeficients_.ipynb\" target=\"_parent\"><img src=\"https://colab.research.google.com/assets/colab-badge.svg\" alt=\"Open In Colab\"/></a>"
      ]
    },
    {
      "cell_type": "code",
      "execution_count": 2,
      "metadata": {
        "id": "jGh3pHWOKVEe"
      },
      "outputs": [],
      "source": [
        "import numpy as np\n",
        "import matplotlib.pyplot as plt \n",
        "\n",
        "import pandas as pd  \n",
        "import seaborn as sns \n",
        "\n",
        "%matplotlib inline\n",
        "\n",
        "\n",
        "from sklearn.manifold import TSNE\n",
        "from sklearn.decomposition import PCA\n",
        "from sklearn.ensemble import RandomForestClassifier\n",
        "from sklearn.metrics import accuracy_score, confusion_matrix\n",
        "from sklearn.model_selection import train_test_split, cross_val_score\n",
        "\n",
        "import numpy as np\n",
        "import pandas as pd\n",
        "from sklearn.preprocessing import RobustScaler\n",
        "from sklearn.model_selection import train_test_split\n",
        "from sklearn.metrics import accuracy_score, f1_score, precision_score, recall_score, classification_report, confusion_matrix\n"
      ]
    },
    {
      "cell_type": "code",
      "source": [
        "# Configuració warnings\n",
        "# ==============================================================================\n",
        "import warnings\n",
        "warnings.filterwarnings('ignore')"
      ],
      "metadata": {
        "id": "xZc7uL_ARh6p"
      },
      "execution_count": 3,
      "outputs": []
    },
    {
      "cell_type": "code",
      "source": [
        "# Activo Google Drive\n",
        "\n",
        "from google.colab import drive\n",
        "drive.mount('/content/drive')"
      ],
      "metadata": {
        "id": "BBXJFZrnKZY-",
        "colab": {
          "base_uri": "https://localhost:8080/"
        },
        "outputId": "154667f5-c1a7-493b-9081-8860bb7525a6"
      },
      "execution_count": 4,
      "outputs": [
        {
          "output_type": "stream",
          "name": "stdout",
          "text": [
            "Mounted at /content/drive\n"
          ]
        }
      ]
    },
    {
      "cell_type": "code",
      "source": [
        "#@title Obrir fitxer creat amb Calculo Vueling 2022 con codigos Rev D.ipynb\n",
        "#path='/content/drive/MyDrive/2022.06.03 2022_delay + cierre puertas CORTO.xlsx'\n",
        "Hoja = 'FLT_2022'\n",
        "path = ('/content/drive/MyDrive/Ficheros de Vueling/2022-09-20 14:39:04.960091 FLT_2022.xlsx')\n",
        "path = ('/content/drive/MyDrive/Ficheros de Vueling/2022-10-10 07:25:00.012463 FLT_2022.xlsx')\n",
        "df = pd.read_excel(path) #, sheet_name=Hoja)\n",
        "\n",
        "\n"
      ],
      "metadata": {
        "id": "KUHVaaBFKcCy"
      },
      "execution_count": 44,
      "outputs": []
    },
    {
      "cell_type": "code",
      "source": [
        "# Para crear una \"logistic regresion\":\n",
        "# 10 minuts és el temps que s'accepta com arribar a l'hora\n",
        "\n",
        "df['Tard1'] = np.where(df['Puntualidad1'] <10, 0, 1)\n",
        "df['Tard2'] = np.where(df['Puntualidad2'] <10, 0, 1)\n",
        "df['Tard3'] = np.where(df['Puntualidad3'] <10, 0, 1)\n",
        "\n",
        "accuracy=[]"
      ],
      "metadata": {
        "id": "a-_W_Eq3KfEn"
      },
      "execution_count": 95,
      "outputs": []
    },
    {
      "cell_type": "code",
      "source": [
        "#@title crec el DataFrame df1\n",
        "df1=df[['Puntualidad1', 'Puntualidad2', 'Puntualidad3', \n",
        "        'E_Despegue','E_Despegue2','E_Despegue3',\n",
        "        'E_Duracion_Vuelo','E_Duracion_Vuelo2','E_Duracion_Vuelo3', 'Tard1', 'Tard2', 'Tard3']]"
      ],
      "metadata": {
        "id": "-F1--pZFLDE4",
        "cellView": "form"
      },
      "execution_count": 96,
      "outputs": []
    },
    {
      "cell_type": "code",
      "source": [
        "#@title Elimino els outliers. df2\n",
        "df2=df1.copy()\n",
        "\n",
        "dfEliminarOutliers= ((df2['E_Despegue']> -30) & \n",
        "                     (df2['E_Despegue']< 30) & \n",
        "                     (df2['Puntualidad1']< 30) & \n",
        "                     (df2['Puntualidad1']>-30) &\n",
        "                     (df2['Puntualidad2']< 30) & \n",
        "                     (df2['Puntualidad2']>-30)&\n",
        "                     (df2['E_Despegue2']< 30) & \n",
        "                     (df2['E_Despegue2']>-30)&\n",
        "                     (df2['Puntualidad3']< 30) & \n",
        "                     (df2['Puntualidad3']>-30)&\n",
        "                     (df2['E_Despegue3']< 30) & \n",
        "                     (df2['E_Despegue3']>-30))\n",
        "\n",
        "df2 = df2[dfEliminarOutliers]"
      ],
      "metadata": {
        "id": "_8W6y6UWLU_6",
        "cellView": "form"
      },
      "execution_count": 97,
      "outputs": []
    },
    {
      "cell_type": "code",
      "source": [
        "#@title Quantitat de outliers que hi ha\n",
        "print(df1.shape)\n",
        "print(df2.shape)\n",
        "percentatje= round((df2.shape[0]-df1.shape[0])/df1.shape[0]*100/3,2)\n",
        "print('quantitat de files afectades per outliers per salt= ', percentatje)"
      ],
      "metadata": {
        "colab": {
          "base_uri": "https://localhost:8080/"
        },
        "id": "5H7yXyDPLZMA",
        "outputId": "f9a42fab-cc3d-4825-8380-12e0d04f7aca"
      },
      "execution_count": 98,
      "outputs": [
        {
          "output_type": "stream",
          "name": "stdout",
          "text": [
            "(12358, 12)\n",
            "(10708, 12)\n",
            "quantitat de files afectades per outliers per salt=  -4.45\n"
          ]
        }
      ]
    },
    {
      "cell_type": "code",
      "source": [
        "#@title Creo Subrutina de metricas:\n",
        "\n",
        "#Importo scikit-learn metrics module para el calculo\n",
        "from sklearn import metrics\n",
        "from sklearn.metrics import mean_squared_error\n",
        "from sklearn.metrics import r2_score\n",
        "metricasEjercicio2=[]\n",
        "######################################################################\n",
        " \n",
        "def MetricasModelo(metodo, Y_real, Y_calculado, scores):\n",
        "  print('Metodo: ', metodo)\n",
        "  \n",
        "  #Precisión del modelo: ¿con qué frecuencia es correcto el clasificador?\n",
        "  #accuracy = metrics.accuracy_score(Y_real, Y_calculado)\n",
        "  #print(\"Accuracy:\", accuracy)\n",
        "\n",
        "  rmse = np.sqrt(mean_squared_error(Y_real, Y_calculado,))\n",
        "  print(\"RMSE: %f\" % (rmse))\n",
        "  \n",
        "\n",
        "  R_squared = r2_score(Y_real, Y_calculado,)\n",
        "\n",
        "  print(\"R-Squared: \", np.round(R_squared, 2))\n",
        " \n",
        "  print(\"Accuracy: %0.2f (+/- %0.2f)\" % (scores.mean(), scores.std() * 2))\n",
        "  accuracy = \"Accuracy: %0.2f (+/- %0.2f)\" % (scores.mean(), scores.std() * 2)\n",
        "\n",
        "  # Guardo metricas\n",
        "  metricasEjercicio2.append([metodo, rmse, R_squared, accuracy])  \n",
        "\n",
        "\n",
        "  cnf_matrix_SVM = metrics.confusion_matrix(Y_real, Y_calculado)\n",
        "\n",
        "  print('\\n\\nMatriz de Confusión')\n",
        "  print(cnf_matrix_SVM)\n",
        "\n",
        "\n",
        "  # Creamos la Matriz de Confusion:\n",
        "\n",
        "  class_names=[0,1] # name  of classes\n",
        "  \n",
        "  fig, ax = plt.subplots()\n",
        "  tick_marks = np.arange(len(class_names))\n",
        "  plt.xticks(tick_marks, class_names)\n",
        "  plt.yticks(tick_marks, class_names)\n",
        "\n",
        "  # create heatmap\n",
        "\n",
        "  sns.heatmap(pd.DataFrame(cnf_matrix_SVM), annot=True, cmap=\"gist_ncar\" ,fmt='g')\n",
        "  ax.xaxis.set_label_position(\"top\")\n",
        " \n",
        "\n",
        "  plt.tight_layout()\n",
        "  plt.title('Matriu de confusió', y=1.1)\n",
        "  plt.ylabel('Valor Actual')\n",
        "  plt.xlabel('Valor predit')\n",
        "  plt.Text(1.5,257.44,'Predicció')\n"
      ],
      "metadata": {
        "id": "bhbZ2yoQMc4v",
        "cellView": "form"
      },
      "execution_count": 99,
      "outputs": []
    },
    {
      "cell_type": "code",
      "source": [
        "#@title Identificació del Desbalanceig\n",
        "fig, ax = plt.subplots(figsize=(6, 4))\n",
        "sns.countplot(x='Tard3',data=df2, palette='hls')\n",
        "plt.show()"
      ],
      "metadata": {
        "colab": {
          "base_uri": "https://localhost:8080/",
          "height": 285
        },
        "id": "juwBZZTSMpNz",
        "outputId": "49082b4d-fe94-4877-b0b0-149ed8fac77e",
        "cellView": "form"
      },
      "execution_count": 100,
      "outputs": [
        {
          "output_type": "display_data",
          "data": {
            "text/plain": [
              "<Figure size 432x288 with 1 Axes>"
            ],
            "image/png": "[encoded data removed]"
          },
          "metadata": {}
        }
      ]
    },
    {
      "cell_type": "code",
      "source": [
        "#@title Creació del model utilitzant matrius com a scikitlearn BORRAR\n",
        "# ================================================= =============================\n",
        "# A la matriu de predictors cal afegir una columna de 1s per a l'intercept del model\n",
        "\n",
        "import statsmodels.api as sm\n",
        "\n",
        "# Divisió de les dades en train i test\n",
        "# ==============================================================================\n",
        "datos_x= df2.loc[:, ['Puntualidad1', 'Puntualidad2',  \n",
        "        'E_Despegue','E_Despegue2','E_Despegue3',\n",
        "        'E_Duracion_Vuelo','E_Duracion_Vuelo2','E_Duracion_Vuelo3',]].values \n",
        "datos_y = df2.loc[:,['Tard3']]\n",
        "X_train, X_test, y_train, y_test = train_test_split(\n",
        "                                        datos_x,\n",
        "                                       datos_y,\n",
        "                                        train_size   = 0.8,\n",
        "                                        random_state = 1234,\n",
        "                                        shuffle      = True\n",
        "                                    )\n",
        "logit_model=sm.Logit( y_train, X_train)\n",
        "result=logit_model.fit()\n",
        "print(result.summary2())"
      ],
      "metadata": {
        "colab": {
          "base_uri": "https://localhost:8080/"
        },
        "id": "AgCBdCvzM0vz",
        "outputId": "e7983763-ff3c-4d6c-b95e-e8b6321fd1e6",
        "cellView": "form"
      },
      "execution_count": 101,
      "outputs": [
        {
          "output_type": "stream",
          "name": "stdout",
          "text": [
            "Warning: Maximum number of iterations has been exceeded.\n",
            "         Current function value: 0.194613\n",
            "         Iterations: 35\n",
            "                          Results: Logit\n",
            "==================================================================\n",
            "Model:              Logit            Pseudo R-squared: 0.228      \n",
            "Dependent Variable: Tard3            AIC:              3346.1032  \n",
            "Date:               2022-10-12 19:37 BIC:              3388.4365  \n",
            "No. Observations:   8566             Log-Likelihood:   -1667.1    \n",
            "Df Model:           5                LL-Null:          -2158.1    \n",
            "Df Residuals:       8560             LLR p-value:      4.4908e-210\n",
            "Converged:          0.0000           Scale:            1.0000     \n",
            "No. Iterations:     35.0000                                       \n",
            "---------------------------------------------------------------------\n",
            "        Coef.     Std.Err.       z       P>|z|      [0.025     0.975]\n",
            "---------------------------------------------------------------------\n",
            "x1      0.0870         nan        nan       nan        nan        nan\n",
            "x2      0.0369      0.0022    17.0495    0.0000     0.0326     0.0411\n",
            "x3      0.0305         nan        nan       nan        nan        nan\n",
            "x4     -0.0628      0.0111    -5.6456    0.0000    -0.0846    -0.0410\n",
            "x5      0.2537      0.0078    32.4530    0.0000     0.2384     0.2691\n",
            "x6      0.0565         nan        nan       nan        nan        nan\n",
            "x7      0.0996     -0.0000       -inf    0.0000     0.0996     0.0996\n",
            "x8      0.2924      0.0084    34.8372    0.0000     0.2760     0.3089\n",
            "==================================================================\n",
            "\n"
          ]
        },
        {
          "output_type": "stream",
          "name": "stderr",
          "text": [
            "/usr/local/lib/python3.7/dist-packages/statsmodels/base/model.py:568: ConvergenceWarning: Maximum Likelihood optimization failed to converge. Check mle_retvals\n",
            "  ConvergenceWarning)\n"
          ]
        }
      ]
    },
    {
      "cell_type": "code",
      "source": [
        "#@title Dades standarizatdes:\n",
        "\n",
        "#@title Estandarditzar les característiques eliminant la mitjana i escalant a la variància de la unitat.\n",
        "\n",
        "from sklearn_pandas import DataFrameMapper\n",
        "from sklearn.preprocessing import StandardScaler\n",
        "\n",
        "\n",
        "mapper = DataFrameMapper([(df2.columns, StandardScaler())])\n",
        "scaled_features = mapper.fit_transform(df2.copy(), 4)\n",
        "df2_StdScaler= pd.DataFrame(scaled_features, index=df2.index, columns=df2.columns)\n",
        "\n",
        "df2_StdScaler.head()\n",
        "\n",
        "datos_x= df2_StdScaler.loc[:, ['Puntualidad1', 'Puntualidad2',  \n",
        "        'E_Despegue','E_Despegue2','E_Despegue3',\n",
        "        'E_Duracion_Vuelo','E_Duracion_Vuelo2','E_Duracion_Vuelo3',]].values \n",
        "datos_y = df2.loc[:,['Tard3']]\n",
        "\n",
        "X_train, X_test, y_train, y_test = train_test_split(\n",
        "                                        datos_x,\n",
        "                                       datos_y,\n",
        "                                        train_size   = 0.8,\n",
        "                                        random_state = 1234,\n",
        "                                        shuffle      = True\n",
        "                                    )\n",
        "\n",
        "logit_model=sm.Logit( y_train, X_train)\n",
        "result=logit_model.fit()\n",
        "print(result.summary2())"
      ],
      "metadata": {
        "colab": {
          "base_uri": "https://localhost:8080/"
        },
        "id": "VcEBM5_hODuM",
        "outputId": "9fe24df1-ef48-4d7e-d2f1-4dd369c8bfdd",
        "cellView": "form"
      },
      "execution_count": 102,
      "outputs": [
        {
          "output_type": "stream",
          "name": "stdout",
          "text": [
            "Warning: Maximum number of iterations has been exceeded.\n",
            "         Current function value: 0.640394\n",
            "         Iterations: 35\n",
            "                         Results: Logit\n",
            "=================================================================\n",
            "Model:              Logit            Pseudo R-squared: -1.542    \n",
            "Dependent Variable: Tard3            AIC:              10983.2350\n",
            "Date:               2022-10-12 19:37 BIC:              11025.5683\n",
            "No. Observations:   8566             Log-Likelihood:   -5485.6   \n",
            "Df Model:           5                LL-Null:          -2158.1   \n",
            "Df Residuals:       8560             LLR p-value:      1.0000    \n",
            "Converged:          0.0000           Scale:            1.0000    \n",
            "No. Iterations:     35.0000                                      \n",
            "-----------------------------------------------------------------\n",
            "    Coef.    Std.Err.      z    P>|z|      [0.025       0.975]   \n",
            "-----------------------------------------------------------------\n",
            "x1 -0.0017 1712852.5986 -0.0000 1.0000 -3357129.4057 3357129.4024\n",
            "x2 -0.0040          nan     nan    nan           nan          nan\n",
            "x3 -0.0060 1178154.9933 -0.0000 1.0000 -2309141.3610 2309141.3491\n",
            "x4 -0.0196          nan     nan    nan           nan          nan\n",
            "x5  0.6088       0.0272 22.3501 0.0000        0.5554       0.6622\n",
            "x6  0.0029 1450176.4491  0.0000 1.0000 -2842293.6086 2842293.6144\n",
            "x7  0.0149          nan     nan    nan           nan          nan\n",
            "x8  0.4669       0.0244 19.1508 0.0000        0.4191       0.5147\n",
            "=================================================================\n",
            "\n"
          ]
        },
        {
          "output_type": "stream",
          "name": "stderr",
          "text": [
            "/usr/local/lib/python3.7/dist-packages/statsmodels/base/model.py:568: ConvergenceWarning: Maximum Likelihood optimization failed to converge. Check mle_retvals\n",
            "  ConvergenceWarning)\n"
          ]
        }
      ]
    },
    {
      "cell_type": "code",
      "source": [
        "#@title Creació del model utilitzant matrius com a scikitlearn\n",
        "# ================================================= =============================\n",
        "# A la matriu de predictors cal afegir una columna de 1s per a l'intercept del model\n",
        "\n",
        "import statsmodels.api as sm\n",
        "\n",
        "# Divisió de les dades en train i test\n",
        "# ==============================================================================\n",
        "datos_x= df2.loc[:, ['Puntualidad1', 'Puntualidad2',  \n",
        "        'E_Despegue','E_Despegue2','E_Despegue3',\n",
        "        'E_Duracion_Vuelo','E_Duracion_Vuelo2','E_Duracion_Vuelo3',]].values \n",
        "datos_y = df2.loc[:,['Tard3']]\n",
        "X_train, X_test, y_train, y_test = train_test_split(\n",
        "                                        datos_x,\n",
        "                                       datos_y,\n",
        "                                        train_size   = 0.8,\n",
        "                                        random_state = 1234,\n",
        "                                        shuffle      = True\n",
        "                                    )\n",
        "logit_model=sm.Logit( y_train, X_train)\n",
        "result=logit_model.fit()\n",
        "print(result.summary2())"
      ],
      "metadata": {
        "colab": {
          "base_uri": "https://localhost:8080/"
        },
        "id": "PfEnJST_PbFm",
        "outputId": "745dcc92-a759-41fc-fc81-712ff496260f",
        "cellView": "form"
      },
      "execution_count": 103,
      "outputs": [
        {
          "output_type": "stream",
          "name": "stdout",
          "text": [
            "Warning: Maximum number of iterations has been exceeded.\n",
            "         Current function value: 0.194613\n",
            "         Iterations: 35\n",
            "                          Results: Logit\n",
            "==================================================================\n",
            "Model:              Logit            Pseudo R-squared: 0.228      \n",
            "Dependent Variable: Tard3            AIC:              3346.1032  \n",
            "Date:               2022-10-12 19:37 BIC:              3388.4365  \n",
            "No. Observations:   8566             Log-Likelihood:   -1667.1    \n",
            "Df Model:           5                LL-Null:          -2158.1    \n",
            "Df Residuals:       8560             LLR p-value:      4.4908e-210\n",
            "Converged:          0.0000           Scale:            1.0000     \n",
            "No. Iterations:     35.0000                                       \n",
            "---------------------------------------------------------------------\n",
            "        Coef.     Std.Err.       z       P>|z|      [0.025     0.975]\n",
            "---------------------------------------------------------------------\n",
            "x1      0.0870         nan        nan       nan        nan        nan\n",
            "x2      0.0369      0.0022    17.0495    0.0000     0.0326     0.0411\n",
            "x3      0.0305         nan        nan       nan        nan        nan\n",
            "x4     -0.0628      0.0111    -5.6456    0.0000    -0.0846    -0.0410\n",
            "x5      0.2537      0.0078    32.4530    0.0000     0.2384     0.2691\n",
            "x6      0.0565         nan        nan       nan        nan        nan\n",
            "x7      0.0996     -0.0000       -inf    0.0000     0.0996     0.0996\n",
            "x8      0.2924      0.0084    34.8372    0.0000     0.2760     0.3089\n",
            "==================================================================\n",
            "\n"
          ]
        },
        {
          "output_type": "stream",
          "name": "stderr",
          "text": [
            "/usr/local/lib/python3.7/dist-packages/statsmodels/base/model.py:568: ConvergenceWarning: Maximum Likelihood optimization failed to converge. Check mle_retvals\n",
            "  ConvergenceWarning)\n"
          ]
        }
      ]
    },
    {
      "cell_type": "code",
      "source": [
        "#@title Importo train_test_split function per dividir les dades en Test i Train\n",
        "from sklearn.model_selection import train_test_split\n",
        "from sklearn.linear_model import LogisticRegression\n",
        "\n",
        "#@title Crec la columna X e Y: \n",
        "\n",
        "datos_x= df2.loc[:, ['Puntualidad1', 'Puntualidad2',  \n",
        "        'E_Despegue','E_Despegue2','E_Despegue3','E_Duracion_Vuelo','E_Duracion_Vuelo2','E_Duracion_Vuelo3',]].values\n",
        "\n",
        "datos_y = df2.loc[:,['Tard3']].values\n",
        "\n",
        "#Dividims el dataset en training set y test set\n",
        "X_train, X_test, y_train, y_test = train_test_split(datos_x, datos_y, test_size=0.3,random_state=109) # 70% training and 30% test\n",
        "\n",
        "\n",
        "# instanciem el model (fem servir els paràmetres predeterminats)\n",
        "logreg = LogisticRegression()\n",
        "\n",
        "# fit el model\n",
        "logreg.fit(X_train,y_train)\n",
        "\n",
        "#\n",
        "y_pred_RLogis=logreg.predict(X_test)\n",
        "\n",
        "scores_RL = cross_val_score(logreg, X_train, y_train, cv=5)\n",
        " \n",
        "print(\"Accuracy: %0.2f (+/- %0.2f)\" % (scores_RL.mean(), scores_RL.std() * 2))\n",
        "\n",
        "\n",
        "MetricasModelo( 'Regr.Log. des-Balancejada', y_test, y_pred_RLogis, scores_RL)"
      ],
      "metadata": {
        "colab": {
          "base_uri": "https://localhost:8080/",
          "height": 497
        },
        "id": "AA_n2hInQdfw",
        "outputId": "abf1a805-a3de-46ad-9084-210529cb8439",
        "cellView": "form"
      },
      "execution_count": 104,
      "outputs": [
        {
          "output_type": "stream",
          "name": "stdout",
          "text": [
            "Accuracy: 1.00 (+/- 0.00)\n",
            "Metodo:  Regr.Log. des-Balancejada\n",
            "RMSE: 0.000000\n",
            "R-Squared:  1.0\n",
            "Accuracy: 1.00 (+/- 0.00)\n",
            "\n",
            "\n",
            "Matriz de Confusión\n",
            "[[2998    0]\n",
            " [   0  215]]\n"
          ]
        },
        {
          "output_type": "display_data",
          "data": {
            "text/plain": [
              "<Figure size 432x288 with 2 Axes>"
            ],
            "image/png": "[encoded data removed]"
          },
          "metadata": {}
        }
      ]
    },
    {
      "cell_type": "code",
      "source": [
        "#@title creem df2_sobremostrejat\n",
        "\n",
        "from sklearn.utils import resample\n",
        "\n",
        "\n",
        "# Classes majoritàries i minoritàries separades\n",
        "df_majority = df2[df2.Tard3==0]\n",
        "df_minority = df2[df2.Tard3==1]\n",
        " \n",
        "# Upsample minority class\n",
        "df_minority_sobremostrejat = resample(df_minority, \n",
        "                                 replace=True,     # sample with replacement\n",
        "                                 n_samples=8000,    # to match majority class\n",
        "                                 random_state=123) # reproducible results\n",
        " \n",
        "# Combina la classe majoritària amb la classe minoritària sobremostrejat\n",
        "df2_sobremostrejat = pd.concat([df_majority, df_minority_sobremostrejat])\n",
        "\n",
        "#Mostra els nous recomptes de classes\n",
        "# \n",
        "df2_sobremostrejat.Tard3.value_counts()"
      ],
      "metadata": {
        "colab": {
          "base_uri": "https://localhost:8080/"
        },
        "id": "8oQuX542Rzvw",
        "outputId": "2774f278-c858-4d4b-a955-169e0fc5f177"
      },
      "execution_count": 105,
      "outputs": [
        {
          "output_type": "execute_result",
          "data": {
            "text/plain": [
              "0    9950\n",
              "1    8000\n",
              "Name: Tard3, dtype: int64"
            ]
          },
          "metadata": {},
          "execution_count": 105
        }
      ]
    },
    {
      "cell_type": "code",
      "source": [
        "df3= df2_sobremostrejat\n",
        "fig, ax = plt.subplots(figsize=(6, 4))\n",
        "sns.countplot(x='Tard3',data=df3, palette='hls')\n",
        "plt.show()"
      ],
      "metadata": {
        "colab": {
          "base_uri": "https://localhost:8080/",
          "height": 285
        },
        "id": "Jip4TPETR86A",
        "outputId": "9ba3aa4b-2383-4b98-df76-67d2a21b5041"
      },
      "execution_count": 106,
      "outputs": [
        {
          "output_type": "display_data",
          "data": {
            "text/plain": [
              "<Figure size 432x288 with 1 Axes>"
            ],
            "image/png": "[encoded data removed]"
          },
          "metadata": {}
        }
      ]
    },
    {
      "cell_type": "code",
      "source": [
        "#@title 05.-Logistic regresion reSAMPLE tot\n",
        "# Creació del model utilitzant matrius com a scikitlearn\n",
        "# ================================================= =============================\n",
        "# A la matriu de predictors cal afegir una columna de 1s per a l'intercept del model\n",
        "\n",
        "import statsmodels.api as sm\n",
        "\n",
        "# Divisió de les dades en train i test\n",
        "# ==============================================================================\n",
        "datos_x= df3.loc[:, ['Puntualidad1', 'Puntualidad2',  \n",
        "        'E_Despegue','E_Despegue2','E_Despegue3',\n",
        "        'E_Duracion_Vuelo','E_Duracion_Vuelo2','E_Duracion_Vuelo3',]].values \n",
        "datos_y = df3.loc[:,['Tard3']]\n",
        "X_train, X_test, y_train, y_test = train_test_split(\n",
        "                                        datos_x,\n",
        "                                       datos_y,\n",
        "                                        train_size   = 0.8,\n",
        "                                        random_state = 1234,\n",
        "                                        shuffle      = True\n",
        "                                    )\n",
        "logit_model=sm.Logit( y_train, X_train)\n",
        "result=logit_model.fit()\n",
        "print(result.summary2())\n",
        "\n",
        "\n",
        "y_pred = result.predict(X_test)\n",
        "prediction = list(map(round, y_pred))\n",
        "prediction\n",
        "\n",
        "print(Counter(y_over))\n",
        "\n",
        "\n",
        "print('classification_report')\n",
        "print(classification_report(y_test, prediction))\n",
        "print('confusion_matrix')\n",
        "\n",
        "cf_matrix=plot_confusion_matrix(confusion_matrix(y_test, prediction), cmap='jet')\n",
        "\n",
        "precision=round(accuracy_score(y_test, prediction),2)\n",
        "accuracy.append(['8_Variables_Desbalanceado', precision])\n",
        "\n",
        "print('Accuracy: {:.2f}'.format(accuracy_score(y_test, prediction)))\n",
        "print('Error rate: {:.2f}'.format(1 - accuracy_score(y_test, prediction)))\n",
        "print('Precision: {:.2f}'.format(precision_score(y_test, prediction)))\n",
        "print('Recall: {:.2f}'.format(recall_score(y_test, prediction)))\n",
        "print('f1_score: {:.2f}'.format(f1_score(y_test, prediction)))\n",
        "\n",
        "\n"
      ],
      "metadata": {
        "colab": {
          "base_uri": "https://localhost:8080/",
          "height": 1000
        },
        "id": "KseOSJujSJdI",
        "outputId": "ee61221e-e17d-4f44-d642-d5de8b6d752e"
      },
      "execution_count": 126,
      "outputs": [
        {
          "output_type": "stream",
          "name": "stdout",
          "text": [
            "Warning: Maximum number of iterations has been exceeded.\n",
            "         Current function value: 0.146195\n",
            "         Iterations: 35\n",
            "                         Results: Logit\n",
            "================================================================\n",
            "Model:              Logit            Pseudo R-squared: 0.787    \n",
            "Dependent Variable: Tard3            AIC:              4210.7180\n",
            "Date:               2022-10-12 19:44 BIC:              4256.1512\n",
            "No. Observations:   14360            Log-Likelihood:   -2099.4  \n",
            "Df Model:           5                LL-Null:          -9865.6  \n",
            "Df Residuals:       14354            LLR p-value:      0.0000   \n",
            "Converged:          0.0000           Scale:            1.0000   \n",
            "No. Iterations:     35.0000                                     \n",
            "------------------------------------------------------------------\n",
            "          Coef.    Std.Err.      z      P>|z|     [0.025    0.975]\n",
            "------------------------------------------------------------------\n",
            "x1        0.0661        nan       nan      nan       nan       nan\n",
            "x2        0.0273        nan       nan      nan       nan       nan\n",
            "x3        0.0230        nan       nan      nan       nan       nan\n",
            "x4       -0.0491     0.0052   -9.5161   0.0000   -0.0592   -0.0390\n",
            "x5        0.3684     0.0075   49.1283   0.0000    0.3537    0.3831\n",
            "x6        0.0432        nan       nan      nan       nan       nan\n",
            "x7        0.0765        nan       nan      nan       nan       nan\n",
            "x8        0.3760     0.0081   46.5378   0.0000    0.3602    0.3919\n",
            "================================================================\n",
            "\n",
            "Counter({'Tard3': 1})\n",
            "classification_report\n",
            "              precision    recall  f1-score   support\n",
            "\n",
            "           0       1.00      0.89      0.94      1976\n",
            "           1       0.88      1.00      0.94      1614\n",
            "\n",
            "    accuracy                           0.94      3590\n",
            "   macro avg       0.94      0.94      0.94      3590\n",
            "weighted avg       0.95      0.94      0.94      3590\n",
            "\n",
            "confusion_matrix\n",
            "Accuracy: 0.94\n",
            "Error rate: 0.06\n",
            "Precision: 0.88\n",
            "Recall: 1.00\n"
          ]
        },
        {
          "output_type": "stream",
          "name": "stderr",
          "text": [
            "/usr/local/lib/python3.7/dist-packages/statsmodels/base/model.py:568: ConvergenceWarning: Maximum Likelihood optimization failed to converge. Check mle_retvals\n",
            "  ConvergenceWarning)\n"
          ]
        },
        {
          "output_type": "stream",
          "name": "stdout",
          "text": [
            "f1_score: 0.94\n"
          ]
        },
        {
          "output_type": "display_data",
          "data": {
            "text/plain": [
              "<Figure size 432x288 with 1 Axes>"
            ],
            "image/png": "[encoded data removed]"
          },
          "metadata": {}
        }
      ]
    },
    {
      "cell_type": "markdown",
      "source": [
        "https://vitalflux.com/handling-class-imbalance-sklearn-resample-python/"
      ],
      "metadata": {
        "id": "3BKt1x-8q4TZ"
      }
    },
    {
      "cell_type": "markdown",
      "source": [
        "\n",
        "https://www.kaggle.com/code/eikedehling/exploring-class-imbalance-resampling-and-weights/notebook"
      ],
      "metadata": {
        "id": "-XsMnWqnMfYk"
      }
    },
    {
      "cell_type": "code",
      "source": [
        "import statsmodels.api as sm\n",
        "from sklearn.metrics import confusion_matrix, classification_report\n",
        "from mlxtend.plotting import plot_decision_regions, plot_confusion_matrix\n",
        "#@title Exploring class imbalance, resampling and weights\n",
        "# https://www.kaggle.com/code/eikedehling/exploring-class-imbalance-resampling-and-weights/notebook\n",
        "# Divisió de les dades en train i test\n",
        "# ==============================================================================\n",
        "datos_x= df2.loc[:, ['Puntualidad1', 'Puntualidad2',  \n",
        "        'E_Despegue','E_Despegue2','E_Despegue3',\n",
        "        'E_Duracion_Vuelo','E_Duracion_Vuelo2','E_Duracion_Vuelo3',]].values \n",
        "datos_y = df2.loc[:,['Tard3']]\n",
        "X_train, X_test, y_train, y_test = train_test_split(\n",
        "                                        datos_x,\n",
        "                                       datos_y,\n",
        "                                        train_size   = 0.8,\n",
        "                                        random_state = 1234,\n",
        "                                        shuffle      = True\n",
        "                                    )\n",
        "\n",
        "lr = LogisticRegression()\n",
        "\n",
        "# Fit..\n",
        "lr.fit(X_train, y_train)\n",
        "\n",
        "# Predict..\n",
        "y_pred = lr.predict(X_test)\n",
        "\n",
        "# Evaluate the model\n",
        "print(classification_report(y_test, y_pred))\n",
        "plot_confusion_matrix(confusion_matrix(y_test, y_pred), cmap='cool')"
      ],
      "metadata": {
        "colab": {
          "base_uri": "https://localhost:8080/",
          "height": 476
        },
        "id": "jshgUKO96K3n",
        "outputId": "efdb61ea-5706-4124-b244-37121f0305c5"
      },
      "execution_count": 108,
      "outputs": [
        {
          "output_type": "stream",
          "name": "stdout",
          "text": [
            "              precision    recall  f1-score   support\n",
            "\n",
            "           0       1.00      1.00      1.00      1978\n",
            "           1       1.00      1.00      1.00       164\n",
            "\n",
            "    accuracy                           1.00      2142\n",
            "   macro avg       1.00      1.00      1.00      2142\n",
            "weighted avg       1.00      1.00      1.00      2142\n",
            "\n"
          ]
        },
        {
          "output_type": "execute_result",
          "data": {
            "text/plain": [
              "(<Figure size 432x288 with 1 Axes>,\n",
              " <matplotlib.axes._subplots.AxesSubplot at 0x7fb342763810>)"
            ]
          },
          "metadata": {},
          "execution_count": 108
        },
        {
          "output_type": "display_data",
          "data": {
            "text/plain": [
              "<Figure size 432x288 with 1 Axes>"
            ],
            "image/png": "[encoded data removed]"
          },
          "metadata": {}
        }
      ]
    },
    {
      "cell_type": "code",
      "source": [
        "#@title Scaling..\n",
        "datos_x= df2.loc[:, ['Puntualidad1', 'Puntualidad2',  \n",
        "        'E_Despegue','E_Despegue2','E_Despegue3',\n",
        "        'E_Duracion_Vuelo','E_Duracion_Vuelo2','E_Duracion_Vuelo3',]].values \n",
        "y = df2.loc[:,['Tard3']]\n",
        "\n",
        "scaler = RobustScaler()\n",
        "X = scaler.fit_transform(datos_x)\n",
        "\n",
        "# Split into train/test set\n",
        "X_train, X_test, y_train, y_test = train_test_split(X, y, test_size=0.2)\n",
        "\n",
        "\n",
        "X_train, X_test, y_train, y_test = train_test_split(\n",
        "                                        datos_x,\n",
        "                                       datos_y,\n",
        "                                        train_size   = 0.8,\n",
        "                                        random_state = 1234,\n",
        "                                        shuffle      = True\n",
        "                                    )\n",
        "\n",
        "lr = LogisticRegression()\n",
        "\n",
        "# Fit..\n",
        "lr.fit(X_train, y_train)\n",
        "\n",
        "# Predict..\n",
        "y_pred = lr.predict(X_test)\n",
        "\n",
        "# Evaluate the model\n",
        "print(classification_report(y_test, y_pred))\n",
        "plot_confusion_matrix(confusion_matrix(y_test, y_pred))\n",
        "\n"
      ],
      "metadata": {
        "colab": {
          "base_uri": "https://localhost:8080/",
          "height": 476
        },
        "id": "o2gbHY548x0W",
        "outputId": "bd7902fd-00f2-47b1-e925-dcf3bd7b483c"
      },
      "execution_count": 109,
      "outputs": [
        {
          "output_type": "stream",
          "name": "stdout",
          "text": [
            "              precision    recall  f1-score   support\n",
            "\n",
            "           0       1.00      1.00      1.00      1978\n",
            "           1       1.00      1.00      1.00       164\n",
            "\n",
            "    accuracy                           1.00      2142\n",
            "   macro avg       1.00      1.00      1.00      2142\n",
            "weighted avg       1.00      1.00      1.00      2142\n",
            "\n"
          ]
        },
        {
          "output_type": "execute_result",
          "data": {
            "text/plain": [
              "(<Figure size 432x288 with 1 Axes>,\n",
              " <matplotlib.axes._subplots.AxesSubplot at 0x7fb3429aa290>)"
            ]
          },
          "metadata": {},
          "execution_count": 109
        },
        {
          "output_type": "display_data",
          "data": {
            "text/plain": [
              "<Figure size 432x288 with 1 Axes>"
            ],
            "image/png": "[encoded data removed]"
          },
          "metadata": {}
        }
      ]
    },
    {
      "cell_type": "code",
      "source": [
        "# example of random oversampling to balance the class distribution\n",
        "from collections import Counter\n",
        "from sklearn.datasets import make_classification\n",
        "from imblearn.over_sampling import RandomOverSampler\n",
        "\n",
        "# define oversampling strategy\n",
        "oversample = RandomOverSampler(sampling_strategy='minority')\n",
        "# fit and apply the transform\n",
        "X_over, y_over = oversample.fit_resample(X, y)\n",
        "# summarize class distribution\n",
        "print(Counter(y_over))\n",
        "y_over\n",
        "\n",
        "#df3= df2_sobremostrejat\n",
        "fig, ax = plt.subplots(figsize=(6, 4))\n",
        "sns.countplot(x='Tard3',data=y_over, palette='hls')\n",
        "plt.show()"
      ],
      "metadata": {
        "colab": {
          "base_uri": "https://localhost:8080/",
          "height": 302
        },
        "id": "g_tw_xAq80y_",
        "outputId": "84c0335d-8771-4f13-fca2-8b6b6a1e4e3b"
      },
      "execution_count": 110,
      "outputs": [
        {
          "output_type": "stream",
          "name": "stdout",
          "text": [
            "Counter({'Tard3': 1})\n"
          ]
        },
        {
          "output_type": "display_data",
          "data": {
            "text/plain": [
              "<Figure size 432x288 with 1 Axes>"
            ],
            "image/png": "[encoded data removed]"
          },
          "metadata": {}
        }
      ]
    },
    {
      "cell_type": "code",
      "source": [
        "#@title 06 Balancejan despres el X_train i el y_train\n",
        "\n",
        "exog_names = ['Puntualidad1', 'Puntualidad2',  \n",
        "        'E_Despegue','E_Despegue2','E_Despegue3',\n",
        "        'E_Duracion_Vuelo','E_Duracion_Vuelo2','E_Duracion_Vuelo3',]\n",
        "\n",
        "mapper = DataFrameMapper([(exog_names, StandardScaler())])\n",
        "scaled_features = mapper.fit_transform(df2.copy(), 4)\n",
        "datos_x= pd.DataFrame(scaled_features, index=df2.index, columns=exog_names)\n",
        "\n",
        "datos_x= df2.loc[:, exog_names].values \n",
        "\n",
        "datos_y = df2.loc[:,['Tard3']]\n",
        "X_train, X_test, y_train, y_test = train_test_split(\n",
        "                                        datos_x,\n",
        "                                       datos_y,\n",
        "                                        train_size   = 0.8,\n",
        "                                        random_state = 1234,\n",
        "                                        shuffle      = True\n",
        "                                    )\n",
        "\n",
        "oversample = RandomOverSampler(sampling_strategy='minority')\n",
        "# fit and apply the transform\n",
        "X_over, y_over = oversample.fit_resample(X_train, y_train)\n",
        "\n",
        "logit_model=sm.Logit( y_over, X_over)\n",
        "result=logit_model.fit()\n",
        "print(result.summary2())\n",
        "print(result.summary())"
      ],
      "metadata": {
        "colab": {
          "base_uri": "https://localhost:8080/"
        },
        "id": "MSoI-jWlrvWz",
        "outputId": "383444c4-ffb1-42e4-d263-7c918c033479"
      },
      "execution_count": 176,
      "outputs": [
        {
          "output_type": "stream",
          "name": "stdout",
          "text": [
            "Warning: Maximum number of iterations has been exceeded.\n",
            "         Current function value: 0.135943\n",
            "         Iterations: 35\n",
            "                         Results: Logit\n",
            "================================================================\n",
            "Model:              Logit            Pseudo R-squared: 0.804    \n",
            "Dependent Variable: Tard3            AIC:              4346.9530\n",
            "Date:               2022-10-12 20:31 BIC:              4393.0140\n",
            "No. Observations:   15944            Log-Likelihood:   -2167.5  \n",
            "Df Model:           5                LL-Null:          -11052.  \n",
            "Df Residuals:       15938            LLR p-value:      0.0000   \n",
            "Converged:          0.0000           Scale:            1.0000   \n",
            "No. Iterations:     35.0000                                     \n",
            "-------------------------------------------------------------------\n",
            "        Coef.     Std.Err.       z       P>|z|     [0.025    0.975]\n",
            "-------------------------------------------------------------------\n",
            "x1      0.0619         nan        nan       nan       nan       nan\n",
            "x2      0.0311         nan        nan       nan       nan       nan\n",
            "x3      0.0199         nan        nan       nan       nan       nan\n",
            "x4     -0.0436         nan        nan       nan       nan       nan\n",
            "x5      0.3813      0.0076    50.3833    0.0000    0.3664    0.3961\n",
            "x6      0.0420         nan        nan       nan       nan       nan\n",
            "x7      0.0747         nan        nan       nan       nan       nan\n",
            "x8      0.3906      0.0082    47.8188    0.0000    0.3746    0.4066\n",
            "================================================================\n",
            "\n",
            "                           Logit Regression Results                           \n",
            "==============================================================================\n",
            "Dep. Variable:                  Tard3   No. Observations:                15944\n",
            "Model:                          Logit   Df Residuals:                    15938\n",
            "Method:                           MLE   Df Model:                            5\n",
            "Date:                Wed, 12 Oct 2022   Pseudo R-squ.:                  0.8039\n",
            "Time:                        20:31:58   Log-Likelihood:                -2167.5\n",
            "converged:                      False   LL-Null:                       -11052.\n",
            "Covariance Type:            nonrobust   LLR p-value:                     0.000\n",
            "==============================================================================\n",
            "                 coef    std err          z      P>|z|      [0.025      0.975]\n",
            "------------------------------------------------------------------------------\n",
            "x1             0.0619        nan        nan        nan         nan         nan\n",
            "x2             0.0311        nan        nan        nan         nan         nan\n",
            "x3             0.0199        nan        nan        nan         nan         nan\n",
            "x4            -0.0436        nan        nan        nan         nan         nan\n",
            "x5             0.3813      0.008     50.383      0.000       0.366       0.396\n",
            "x6             0.0420        nan        nan        nan         nan         nan\n",
            "x7             0.0747        nan        nan        nan         nan         nan\n",
            "x8             0.3906      0.008     47.819      0.000       0.375       0.407\n",
            "==============================================================================\n"
          ]
        },
        {
          "output_type": "stream",
          "name": "stderr",
          "text": [
            "/usr/local/lib/python3.7/dist-packages/statsmodels/base/model.py:568: ConvergenceWarning: Maximum Likelihood optimization failed to converge. Check mle_retvals\n",
            "  ConvergenceWarning)\n"
          ]
        }
      ]
    },
    {
      "cell_type": "code",
      "source": [
        "\n",
        "\n",
        "sns.set(style=\"white\")\n",
        "sns.set(style=\"whitegrid\", color_codes=True)\n",
        "\n",
        "prediction = list(map(round, y_pred))\n",
        "prediction\n",
        "print(classification_report(y_test, prediction))\n",
        "plot_confusion_matrix(confusion_matrix(y_test, prediction))"
      ],
      "metadata": {
        "colab": {
          "base_uri": "https://localhost:8080/",
          "height": 476
        },
        "id": "uLnu5npdI1_V",
        "outputId": "b56c04c2-34b4-4960-d320-821c3d335225"
      },
      "execution_count": 172,
      "outputs": [
        {
          "output_type": "stream",
          "name": "stdout",
          "text": [
            "              precision    recall  f1-score   support\n",
            "\n",
            "           0       1.00      0.87      0.93      1978\n",
            "           1       0.39      1.00      0.57       164\n",
            "\n",
            "    accuracy                           0.88      2142\n",
            "   macro avg       0.70      0.94      0.75      2142\n",
            "weighted avg       0.95      0.88      0.90      2142\n",
            "\n"
          ]
        },
        {
          "output_type": "execute_result",
          "data": {
            "text/plain": [
              "(<Figure size 432x288 with 1 Axes>,\n",
              " <matplotlib.axes._subplots.AxesSubplot at 0x7fb34185cd10>)"
            ]
          },
          "metadata": {},
          "execution_count": 172
        },
        {
          "output_type": "display_data",
          "data": {
            "text/plain": [
              "<Figure size 432x288 with 1 Axes>"
            ],
            "image/png": "[encoded data removed]"
          },
          "metadata": {}
        }
      ]
    },
    {
      "cell_type": "markdown",
      "source": [
        "https://michael-fuchs-python.netlify.app/2019/10/31/introduction-to-logistic-regression/"
      ],
      "metadata": {
        "id": "h6qjQL8QKGAc"
      }
    },
    {
      "cell_type": "code",
      "source": [
        "print('Accuracy: {:.2f}'.format(accuracy_score(y_test, prediction)))\n",
        "print('Error rate: {:.2f}'.format(1 - accuracy_score(y_test, prediction)))\n",
        "print('Precision: {:.2f}'.format(precision_score(y_test, prediction)))\n",
        "print('Recall: {:.2f}'.format(recall_score(y_test, prediction)))\n",
        "print('f1_score: {:.2f}'.format(f1_score(y_test, prediction)))"
      ],
      "metadata": {
        "colab": {
          "base_uri": "https://localhost:8080/"
        },
        "id": "q3ybkW7lK8SY",
        "outputId": "1d63bea1-e413-48c1-93e9-47c6cdfe70bc"
      },
      "execution_count": 173,
      "outputs": [
        {
          "output_type": "stream",
          "name": "stdout",
          "text": [
            "Accuracy: 0.88\n",
            "Error rate: 0.12\n",
            "Precision: 0.39\n",
            "Recall: 1.00\n",
            "f1_score: 0.57\n"
          ]
        }
      ]
    },
    {
      "cell_type": "markdown",
      "source": [
        "**Accuracy** is the fraction of predictions our model got right.\n",
        "\n",
        "**Error rate** is the fraction of predictions our model got wrong.\n",
        "\n",
        "The **precision** is intuitively the ability of the classifier to not label a sample as positive if it is negative.\n",
        "\n",
        "**The recall** is intuitively the ability of the classifier to find all the positive samples.\n",
        "\n",
        "The **F1 score** can be interpreted as a weighted average of the precision and recall, where an F1 score reaches its best value at 1 and worst score at 0."
      ],
      "metadata": {
        "id": "ITB2GiWpLad3"
      }
    },
    {
      "cell_type": "code",
      "source": [
        "print(result.params)\n",
        "parametros = pd.DataFrame(result.params)\n",
        "\n",
        "parametros.columns=['Coeficiente']\n",
        "parametros = parametros.rename_axis('Variable').reset_index()\n",
        "parametros\n",
        "sns.barplot(y='Variable', x=\"Coeficiente\", data=parametros)"
      ],
      "metadata": {
        "id": "-HvRMbbq40pf",
        "outputId": "1fb15bfa-9f9d-4670-a551-4e80a3e475d4",
        "colab": {
          "base_uri": "https://localhost:8080/",
          "height": 459
        }
      },
      "execution_count": 174,
      "outputs": [
        {
          "output_type": "stream",
          "name": "stdout",
          "text": [
            "x1    0.066129\n",
            "x2    0.027339\n",
            "x3    0.022951\n",
            "x4   -0.049130\n",
            "x5    0.368434\n",
            "x6    0.043182\n",
            "x7    0.076474\n",
            "x8    0.376047\n",
            "dtype: float64\n"
          ]
        },
        {
          "output_type": "execute_result",
          "data": {
            "text/plain": [
              "<matplotlib.axes._subplots.AxesSubplot at 0x7fb34185b710>"
            ]
          },
          "metadata": {},
          "execution_count": 174
        },
        {
          "output_type": "display_data",
          "data": {
            "text/plain": [
              "<Figure size 432x288 with 1 Axes>"
            ],
            "image/png": "[encoded data removed]"
          },
          "metadata": {}
        }
      ]
    },
    {
      "cell_type": "code",
      "source": [
        "\n",
        "from sklearn.metrics import roc_auc_score\n",
        "from sklearn.metrics import roc_curve\n",
        "from sklearn.tree import DecisionTreeClassifier\n",
        "from sklearn.ensemble import RandomForestClassifier\n",
        "from sklearn.metrics import plot_roc_curve\n",
        "\n",
        "\n",
        "\n",
        "logit_roc_auc = roc_auc_score(y_test, prediction)\n",
        "fpr, tpr, thresholds = roc_curve(y_test, logreg.predict_proba(X_test)[:,1])\n",
        "plt.figure()\n",
        "plt.plot(fpr, tpr, label='Logistic Regression (area = %0.2f)' % logit_roc_auc)\n",
        "plt.plot([0, 1], [0, 1],'r--')\n",
        "plt.xlim([0.0, 1.0])\n",
        "plt.ylim([0.0, 1.05])\n",
        "plt.xlabel('False Positive Rate')\n",
        "plt.ylabel('True Positive Rate')\n",
        "plt.title('Receiver operating characteristic ROC')\n",
        "plt.legend(loc=\"lower right\")\n",
        "\n",
        "plt.show()"
      ],
      "metadata": {
        "colab": {
          "base_uri": "https://localhost:8080/",
          "height": 301
        },
        "id": "qqSCNfBkLgoc",
        "outputId": "e76ef546-648b-4c7b-f712-e9f4c1b40f50"
      },
      "execution_count": 114,
      "outputs": [
        {
          "output_type": "display_data",
          "data": {
            "text/plain": [
              "<Figure size 432x288 with 1 Axes>"
            ],
            "image/png": "[encoded data removed]"
          },
          "metadata": {}
        }
      ]
    },
    {
      "cell_type": "code",
      "source": [],
      "metadata": {
        "id": "R35ZxipMOkVY"
      },
      "execution_count": 114,
      "outputs": []
    },
    {
      "cell_type": "code",
      "source": [],
      "metadata": {
        "id": "bhpm6j7YOkeJ"
      },
      "execution_count": 114,
      "outputs": []
    },
    {
      "cell_type": "code",
      "source": [
        "#@title 01.- Logistic Regression with the statsmodel library. Umbanaced\n",
        "\n",
        "\n",
        "df2=pd.DataFrame(df2)\n",
        "datos_x= df2.loc[:, ['Puntualidad1', 'Puntualidad2',  \n",
        "        'E_Despegue','E_Despegue2','E_Despegue3',\n",
        "        'E_Duracion_Vuelo','E_Duracion_Vuelo2','E_Duracion_Vuelo3',]].values \n",
        "\n",
        " \n",
        "datos_y = df2.loc[:,['Tard3']]\n",
        "X_train, X_test, y_train, y_test = train_test_split(\n",
        "                                        datos_x,\n",
        "                                       datos_y,\n",
        "                                        train_size   = 0.8,\n",
        "                                        random_state = 1234,\n",
        "                                        shuffle      = True\n",
        "                                    )\n",
        "\n",
        "\n",
        "model = sm.Logit(y_train, X_train)\n",
        "\n",
        "model.exog_names[:] = ['Puntualidad1', 'Puntualidad2',  \n",
        "        'E_Despegue','E_Despegue2','E_Despegue3',\n",
        "        'E_Duracion_Vuelo','E_Duracion_Vuelo2','E_Duracion_Vuelo3',]\n",
        " \n",
        "endog_name = model.endog_names\n",
        "\n",
        "\n",
        "model_fit = model.fit()\n",
        "\n",
        "print(model_fit.summary())\n",
        "\n",
        "fig, ax = plt.subplots(figsize=(6, 4))\n",
        "sns.countplot(x='Tard3',data=y_train, palette='hls')\n",
        "plt.show()\n",
        "\n",
        "\n",
        "# Predict..\n",
        "y_pred = lr.predict(X_test)\n",
        "\n",
        "prediction = list(map(round, y_pred))\n",
        "prediction\n",
        "print(classification_report(y_test, prediction))\n",
        "plot_confusion_matrix(confusion_matrix(y_test, prediction))\n",
        "\n",
        "precision=round(accuracy_score(y_test, prediction),2)\n",
        "accuracy.append(['8_Variables_Unbalance', precision])\n",
        "\n",
        "print('Accuracy: {:.2f}'.format(accuracy_score(y_test, prediction)))\n",
        "print('Error rate: {:.2f}'.format(1 - accuracy_score(y_test, prediction)))\n",
        "print('Precision: {:.2f}'.format(precision_score(y_test, prediction)))\n",
        "print('Recall: {:.2f}'.format(recall_score(y_test, prediction)))\n",
        "print('f1_score: {:.2f}'.format(f1_score(y_test, prediction)))"
      ],
      "metadata": {
        "colab": {
          "base_uri": "https://localhost:8080/",
          "height": 1000
        },
        "id": "zmfK8UYzOkmb",
        "outputId": "f929c36e-d9dc-40fc-ae40-f67d6f5f7dfa"
      },
      "execution_count": 115,
      "outputs": [
        {
          "output_type": "stream",
          "name": "stdout",
          "text": [
            "Warning: Maximum number of iterations has been exceeded.\n",
            "         Current function value: 0.194613\n",
            "         Iterations: 35\n",
            "                           Logit Regression Results                           \n",
            "==============================================================================\n",
            "Dep. Variable:                  Tard3   No. Observations:                 8566\n",
            "Model:                          Logit   Df Residuals:                     8560\n",
            "Method:                           MLE   Df Model:                            5\n",
            "Date:                Wed, 12 Oct 2022   Pseudo R-squ.:                  0.2275\n",
            "Time:                        19:37:17   Log-Likelihood:                -1667.1\n",
            "converged:                      False   LL-Null:                       -2158.1\n",
            "Covariance Type:            nonrobust   LLR p-value:                4.491e-210\n",
            "=====================================================================================\n",
            "                        coef    std err          z      P>|z|      [0.025      0.975]\n",
            "-------------------------------------------------------------------------------------\n",
            "Puntualidad1          0.0870        nan        nan        nan         nan         nan\n",
            "Puntualidad2          0.0369      0.002     17.050      0.000       0.033       0.041\n",
            "E_Despegue            0.0305        nan        nan        nan         nan         nan\n",
            "E_Despegue2          -0.0628      0.011     -5.646      0.000      -0.085      -0.041\n",
            "E_Despegue3           0.2537      0.008     32.453      0.000       0.238       0.269\n",
            "E_Duracion_Vuelo      0.0565        nan        nan        nan         nan         nan\n",
            "E_Duracion_Vuelo2     0.0996         -0       -inf      0.000       0.100       0.100\n",
            "E_Duracion_Vuelo3     0.2924      0.008     34.837      0.000       0.276       0.309\n",
            "=====================================================================================\n"
          ]
        },
        {
          "output_type": "stream",
          "name": "stderr",
          "text": [
            "/usr/local/lib/python3.7/dist-packages/statsmodels/base/model.py:568: ConvergenceWarning: Maximum Likelihood optimization failed to converge. Check mle_retvals\n",
            "  ConvergenceWarning)\n"
          ]
        },
        {
          "output_type": "display_data",
          "data": {
            "text/plain": [
              "<Figure size 432x288 with 1 Axes>"
            ],
            "image/png": "[encoded data removed]"
          },
          "metadata": {}
        },
        {
          "output_type": "stream",
          "name": "stdout",
          "text": [
            "              precision    recall  f1-score   support\n",
            "\n",
            "           0       1.00      1.00      1.00      1978\n",
            "           1       1.00      1.00      1.00       164\n",
            "\n",
            "    accuracy                           1.00      2142\n",
            "   macro avg       1.00      1.00      1.00      2142\n",
            "weighted avg       1.00      1.00      1.00      2142\n",
            "\n",
            "Accuracy: 1.00\n",
            "Error rate: 0.00\n",
            "Precision: 1.00\n",
            "Recall: 1.00\n",
            "f1_score: 1.00\n"
          ]
        },
        {
          "output_type": "display_data",
          "data": {
            "text/plain": [
              "<Figure size 432x288 with 1 Axes>"
            ],
            "image/png": "[encoded data removed]"
          },
          "metadata": {}
        }
      ]
    },
    {
      "cell_type": "code",
      "source": [
        "#@title 02 Logistic Regression with the statsmodel library. Balanced\n",
        "\n",
        "datos_x= df2.loc[:, [ 'Puntualidad2', 'E_Despegue2','E_Despegue3', 'E_Duracion_Vuelo2','E_Duracion_Vuelo3',]].values \n",
        "datos_y = df2.loc[:,['Tard3']]\n",
        "\n",
        "X_train, X_test, y_train, y_test = train_test_split(datos_x,\n",
        "                                       datos_y,\n",
        "                                        train_size   = 0.8,\n",
        "                                        random_state = 1234,\n",
        "                                        shuffle      = True )\n",
        "\n",
        "oversample = RandomOverSampler(sampling_strategy='minority')\n",
        "# fit and apply the transform\n",
        "X_over, y_over = oversample.fit_resample(X_train, y_train)\n",
        "\n",
        "model = sm.Logit(y_over, X_over)\n",
        "\n",
        "\n",
        "model_fit = model.fit()\n",
        "\n",
        "print(model_fit.summary())\n",
        "\n",
        "\n",
        "y_pred = model_fit.predict(X_test)\n",
        "prediction = list(map(round, y_pred))\n",
        "prediction\n",
        "\n",
        "print(Counter(y_over))\n",
        "\n",
        "fig, ax = plt.subplots(figsize=(6, 4))\n",
        "sns.countplot(x='Tard3',data=y_over, palette='hls')\n",
        "plt.show()\n",
        "\n",
        "print(classification_report(y_test, prediction))\n",
        "plot_confusion_matrix(confusion_matrix(y_test, prediction), cmap='flag')\n",
        "\n",
        "precision=round(accuracy_score(y_test, prediction),2)\n",
        "accuracy.append(['6Variables_balanceadoTrain_escalado', precision])\n",
        "\n",
        "print('Accuracy: {:.2f}'.format(accuracy_score(y_test, prediction)))\n",
        "print('Error rate: {:.2f}'.format(1 - accuracy_score(y_test, prediction)))\n",
        "print('Precision: {:.2f}'.format(precision_score(y_test, prediction)))\n",
        "print('Recall: {:.2f}'.format(recall_score(y_test, prediction)))\n",
        "print('f1_score: {:.2f}'.format(f1_score(y_test, prediction)))\n"
      ],
      "metadata": {
        "colab": {
          "base_uri": "https://localhost:8080/",
          "height": 1000
        },
        "id": "wi3eT9M3SPx_",
        "outputId": "b6a8357a-f481-4cb0-e9f4-9cc6e7efe8aa"
      },
      "execution_count": 170,
      "outputs": [
        {
          "output_type": "stream",
          "name": "stdout",
          "text": [
            "Warning: Maximum number of iterations has been exceeded.\n",
            "         Current function value: 0.154033\n",
            "         Iterations: 35\n",
            "                           Logit Regression Results                           \n",
            "==============================================================================\n",
            "Dep. Variable:                  Tard3   No. Observations:                15944\n",
            "Model:                          Logit   Df Residuals:                    15940\n",
            "Method:                           MLE   Df Model:                            3\n",
            "Date:                Wed, 12 Oct 2022   Pseudo R-squ.:                  0.7778\n",
            "Time:                        20:28:44   Log-Likelihood:                -2455.9\n",
            "converged:                      False   LL-Null:                       -11052.\n",
            "Covariance Type:            nonrobust   LLR p-value:                     0.000\n",
            "==============================================================================\n",
            "                 coef    std err          z      P>|z|      [0.025      0.975]\n",
            "------------------------------------------------------------------------------\n",
            "x1             0.0515   1.88e+05   2.74e-07      1.000   -3.68e+05    3.68e+05\n",
            "x2            -0.0083   1.88e+05  -4.44e-08      1.000   -3.68e+05    3.68e+05\n",
            "x3             0.3214      0.006     54.288      0.000       0.310       0.333\n",
            "x4             0.0599   1.88e+05   3.19e-07      1.000   -3.68e+05    3.68e+05\n",
            "x5             0.3528      0.007     49.714      0.000       0.339       0.367\n",
            "==============================================================================\n",
            "Counter({'Tard3': 1})\n"
          ]
        },
        {
          "output_type": "stream",
          "name": "stderr",
          "text": [
            "/usr/local/lib/python3.7/dist-packages/statsmodels/base/model.py:568: ConvergenceWarning: Maximum Likelihood optimization failed to converge. Check mle_retvals\n",
            "  ConvergenceWarning)\n"
          ]
        },
        {
          "output_type": "display_data",
          "data": {
            "text/plain": [
              "<Figure size 432x288 with 1 Axes>"
            ],
            "image/png": "[encoded data removed]"
          },
          "metadata": {}
        },
        {
          "output_type": "stream",
          "name": "stdout",
          "text": [
            "              precision    recall  f1-score   support\n",
            "\n",
            "           0       1.00      0.87      0.93      1978\n",
            "           1       0.39      1.00      0.57       164\n",
            "\n",
            "    accuracy                           0.88      2142\n",
            "   macro avg       0.70      0.94      0.75      2142\n",
            "weighted avg       0.95      0.88      0.90      2142\n",
            "\n",
            "Accuracy: 0.88\n",
            "Error rate: 0.12\n",
            "Precision: 0.39\n",
            "Recall: 1.00\n",
            "f1_score: 0.57\n"
          ]
        },
        {
          "output_type": "display_data",
          "data": {
            "text/plain": [
              "<Figure size 432x288 with 1 Axes>"
            ],
            "image/png": "[encoded data removed]"
          },
          "metadata": {}
        }
      ]
    },
    {
      "cell_type": "code",
      "source": [
        "print(model_fit.params)\n",
        "parametros = pd.DataFrame(model_fit.params)\n",
        "\n",
        "parametros.columns=['Coeficiente']\n",
        "parametros = parametros.rename_axis('Variable').reset_index()\n",
        "parametros\n",
        "sns.barplot(y='Variable', x=\"Coeficiente\", data=parametros)"
      ],
      "metadata": {
        "id": "iOGv-4VF4mlx",
        "outputId": "198db553-c946-48c8-92fe-037c7e5899a6",
        "colab": {
          "base_uri": "https://localhost:8080/",
          "height": 407
        }
      },
      "execution_count": 171,
      "outputs": [
        {
          "output_type": "stream",
          "name": "stdout",
          "text": [
            "x1    0.051451\n",
            "x2   -0.008349\n",
            "x3    0.321440\n",
            "x4    0.059921\n",
            "x5    0.352789\n",
            "dtype: float64\n"
          ]
        },
        {
          "output_type": "execute_result",
          "data": {
            "text/plain": [
              "<matplotlib.axes._subplots.AxesSubplot at 0x7fb3418d9250>"
            ]
          },
          "metadata": {},
          "execution_count": 171
        },
        {
          "output_type": "display_data",
          "data": {
            "text/plain": [
              "<Figure size 432x288 with 1 Axes>"
            ],
            "image/png": "[encoded data removed]"
          },
          "metadata": {}
        }
      ]
    },
    {
      "cell_type": "code",
      "source": [
        "#@title Feature Importance in Logistic Regression for Machine Learning Interpretability\n",
        "\n",
        "exog_names = ['E_Despegue3','E_Duracion_Vuelo3',]\n",
        "model = LogisticRegression(random_state=0).fit(df2[exog_names].values, df2['Tard3'].values)\n",
        "\n",
        "score = model.score(df2[exog_names].values, df2['Tard3'].values)\n",
        "print(score)\n",
        "\n",
        "\n",
        "w0 = model.intercept_[0]\n",
        "print('w0',w0)\n",
        "#w1 = model.intercept_[1]\n",
        "#print('w1',w1)\n",
        "#w1, w2, w3, w4 = model.coef_[0]\n",
        "print(model.coef_[0])\n",
        "a, b = model.coef_[0]\n",
        "print(a, b)"
      ],
      "metadata": {
        "id": "bTeZpQC-x_Ab",
        "outputId": "e8039d9d-bb01-445b-c941-a6f6473f4560",
        "colab": {
          "base_uri": "https://localhost:8080/"
        }
      },
      "execution_count": 144,
      "outputs": [
        {
          "output_type": "stream",
          "name": "stdout",
          "text": [
            "1.0\n",
            "w0 -43.73590125695266\n",
            "[4.59634506 4.59960306]\n",
            "4.596345058713527 4.599603056983022\n"
          ]
        }
      ]
    },
    {
      "cell_type": "code",
      "source": [
        "#@title 03 Logistic Regression with the statsmodel library. Balanced\n",
        "\n",
        "exog_names = ['E_Despegue2','E_Despegue3', 'E_Duracion_Vuelo2','E_Duracion_Vuelo3',]\n",
        "\n",
        "datos_x= df2.loc[:, exog_names].values \n",
        "\n",
        "datos_y = df2.loc[:,['Tard3']]\n",
        "X_train, X_test, y_train, y_test = train_test_split(\n",
        "                                        datos_x,\n",
        "                                       datos_y,\n",
        "                                        train_size   = 0.8,\n",
        "                                        random_state = 1234,\n",
        "                                        shuffle      = True)\n",
        "\n",
        "oversample = RandomOverSampler(sampling_strategy='minority')\n",
        "X_over, y_over = oversample.fit_resample(X_train, y_train)\n",
        "\n",
        "model = sm.Logit(y_over, X_over)\n",
        "model.exog_names[:] = exog_names \n",
        "endog_name = model.endog_names\n",
        "\n",
        "model_fit = model.fit()\n",
        "\n",
        "print(model_fit.summary())\n",
        "\n",
        "y_pred = model_fit.predict(X_test)\n",
        "prediction = list(map(round, y_pred))\n",
        "prediction\n",
        "\n",
        "print(Counter(y_over))\n",
        "\n",
        "fig, ax = plt.subplots(figsize=(6, 4))\n",
        "sns.countplot(x='Tard3',data=y_over, palette='hls')\n",
        "plt.show()\n",
        "\n",
        "print('classification_report')\n",
        "print(classification_report(y_test, prediction))\n",
        "print('confusion_matrix')\n",
        "plot_confusion_matrix(confusion_matrix(y_test, prediction), cmap='flag')\n",
        "\n",
        "\n",
        "print('Accuracy: {:.2f}'.format(accuracy_score(y_test, prediction)))\n",
        "print('Error rate: {:.2f}'.format(1 - accuracy_score(y_test, prediction)))\n",
        "print('Precision: {:.2f}'.format(precision_score(y_test, prediction)))\n",
        "print('Recall: {:.2f}'.format(recall_score(y_test, prediction)))\n",
        "print('f1_score: {:.2f}'.format(f1_score(y_test, prediction)))\n"
      ],
      "metadata": {
        "id": "zzsMCm5MWOqk",
        "outputId": "724d43b4-808a-496c-ff3e-6756eb52addd",
        "colab": {
          "base_uri": "https://localhost:8080/",
          "height": 1000
        }
      },
      "execution_count": 168,
      "outputs": [
        {
          "output_type": "stream",
          "name": "stdout",
          "text": [
            "Optimization terminated successfully.\n",
            "         Current function value: 0.154280\n",
            "         Iterations 8\n",
            "                           Logit Regression Results                           \n",
            "==============================================================================\n",
            "Dep. Variable:                  Tard3   No. Observations:                15944\n",
            "Model:                          Logit   Df Residuals:                    15940\n",
            "Method:                           MLE   Df Model:                            3\n",
            "Date:                Wed, 12 Oct 2022   Pseudo R-squ.:                  0.7774\n",
            "Time:                        20:27:58   Log-Likelihood:                -2459.8\n",
            "converged:                       True   LL-Null:                       -11052.\n",
            "Covariance Type:            nonrobust   LLR p-value:                     0.000\n",
            "=====================================================================================\n",
            "                        coef    std err          z      P>|z|      [0.025      0.975]\n",
            "-------------------------------------------------------------------------------------\n",
            "E_Despegue2           0.0432      0.004      9.789      0.000       0.035       0.052\n",
            "E_Despegue3           0.3219      0.006     54.271      0.000       0.310       0.334\n",
            "E_Duracion_Vuelo2     0.1111      0.005     24.685      0.000       0.102       0.120\n",
            "E_Duracion_Vuelo3     0.3540      0.007     50.009      0.000       0.340       0.368\n",
            "=====================================================================================\n",
            "Counter({'Tard3': 1})\n"
          ]
        },
        {
          "output_type": "display_data",
          "data": {
            "text/plain": [
              "<Figure size 432x288 with 1 Axes>"
            ],
            "image/png": "[encoded data removed]"
          },
          "metadata": {}
        },
        {
          "output_type": "stream",
          "name": "stdout",
          "text": [
            "classification_report\n",
            "              precision    recall  f1-score   support\n",
            "\n",
            "           0       1.00      0.87      0.93      1978\n",
            "           1       0.39      1.00      0.57       164\n",
            "\n",
            "    accuracy                           0.88      2142\n",
            "   macro avg       0.70      0.94      0.75      2142\n",
            "weighted avg       0.95      0.88      0.90      2142\n",
            "\n",
            "confusion_matrix\n",
            "Accuracy: 0.88\n",
            "Error rate: 0.12\n",
            "Precision: 0.39\n",
            "Recall: 1.00\n",
            "f1_score: 0.57\n"
          ]
        },
        {
          "output_type": "display_data",
          "data": {
            "text/plain": [
              "<Figure size 432x288 with 1 Axes>"
            ],
            "image/png": "[encoded data removed]"
          },
          "metadata": {}
        }
      ]
    },
    {
      "cell_type": "code",
      "source": [
        "print(model_fit.params)\n",
        "parametros = pd.DataFrame(model_fit.params)\n",
        "\n",
        "parametros.columns=['Coeficiente']\n",
        "parametros = parametros.rename_axis('Variable').reset_index()\n",
        "parametros\n",
        "sns.barplot(y='Variable', x=\"Coeficiente\", data=parametros)"
      ],
      "metadata": {
        "id": "FtwGXkxL4Y8x",
        "outputId": "a51971b6-b19c-4c81-a6f8-16ce19df4b94",
        "colab": {
          "base_uri": "https://localhost:8080/",
          "height": 389
        }
      },
      "execution_count": 169,
      "outputs": [
        {
          "output_type": "stream",
          "name": "stdout",
          "text": [
            "E_Despegue2          0.043218\n",
            "E_Despegue3          0.321913\n",
            "E_Duracion_Vuelo2    0.111108\n",
            "E_Duracion_Vuelo3    0.354017\n",
            "dtype: float64\n"
          ]
        },
        {
          "output_type": "execute_result",
          "data": {
            "text/plain": [
              "<matplotlib.axes._subplots.AxesSubplot at 0x7fb3419e4fd0>"
            ]
          },
          "metadata": {},
          "execution_count": 169
        },
        {
          "output_type": "display_data",
          "data": {
            "text/plain": [
              "<Figure size 432x288 with 1 Axes>"
            ],
            "image/png": "[encoded data removed]"
          },
          "metadata": {}
        }
      ]
    },
    {
      "cell_type": "code",
      "source": [
        "#@title 04 StandardScale, Regresion Logistic, oversample\n",
        "\n",
        "exog_names = ['E_Despegue2','E_Despegue3', 'E_Duracion_Vuelo2','E_Duracion_Vuelo3',]\n",
        "\n",
        "mapper = DataFrameMapper([(exog_names, StandardScaler())])\n",
        "scaled_features = mapper.fit_transform(df2.copy(), 4)\n",
        "datos_x= pd.DataFrame(scaled_features, index=df2.index, columns=exog_names)\n",
        "\n",
        "\n",
        "#exog_names = ['E_Despegue2','E_Despegue3', 'E_Duracion_Vuelo2','E_Duracion_Vuelo3',]\n",
        " \n",
        "datos_y = df2.loc[:,['Tard3']]\n",
        "\n",
        "X_train, X_test, y_train, y_test = train_test_split(\n",
        "                                        datos_x,\n",
        "                                       datos_y,\n",
        "                                        train_size   = 0.85,\n",
        "                                        random_state = 1234,\n",
        "                                        shuffle      = True\n",
        "                                    )\n",
        "\n",
        "oversample = RandomOverSampler(sampling_strategy='minority')\n",
        "# fit and apply the transform\n",
        "X_over, y_over = oversample.fit_resample(X_train, y_train)\n",
        "\n",
        "\n",
        "model = sm.Logit(y_over, X_over)\n",
        "model.exog_names[:] = exog_names \n",
        "endog_name = model.endog_names\n",
        "\n",
        "\n",
        "model_fit = model.fit()\n",
        "\n",
        "print(model_fit.summary())\n",
        "\n",
        "# Predict..\n",
        "y_pred = model_fit.predict(X_test)\n",
        "prediction = list(map(round, y_pred))\n",
        "prediction\n",
        "\n",
        "print(Counter(y_over))\n",
        "\n",
        "fig, ax = plt.subplots(figsize=(6, 4))\n",
        "sns.countplot(x='Tard3',data=y_over, palette='hls')\n",
        "plt.show()\n",
        "\n",
        "print('classification_report')\n",
        "print(classification_report(y_test, prediction))\n",
        "print('confusion_matrix')\n",
        "\n",
        "cf_matrix=plot_confusion_matrix(confusion_matrix(y_test, prediction), cmap='jet')\n",
        "\n",
        "precision=round(accuracy_score(y_test, prediction),2)\n",
        "accuracy.append(['4Variables_balanceado_StandardScale', precision])\n",
        "\n",
        "print('Accuracy: {:.2f}'.format(accuracy_score(y_test, prediction)))\n",
        "print('Error rate: {:.2f}'.format(1 - accuracy_score(y_test, prediction)))\n",
        "print('Precision: {:.2f}'.format(precision_score(y_test, prediction)))\n",
        "print('Recall: {:.2f}'.format(recall_score(y_test, prediction)))\n",
        "print('f1_score: {:.2f}'.format(f1_score(y_test, prediction)))\n"
      ],
      "metadata": {
        "id": "r7eMKxSrUoAU",
        "outputId": "65525ae1-ae1a-4364-ac90-bf864d41fa62",
        "colab": {
          "base_uri": "https://localhost:8080/",
          "height": 1000
        }
      },
      "execution_count": 167,
      "outputs": [
        {
          "output_type": "stream",
          "name": "stdout",
          "text": [
            "Optimization terminated successfully.\n",
            "         Current function value: 0.385578\n",
            "         Iterations 7\n",
            "                           Logit Regression Results                           \n",
            "==============================================================================\n",
            "Dep. Variable:                  Tard3   No. Observations:                16920\n",
            "Model:                          Logit   Df Residuals:                    16916\n",
            "Method:                           MLE   Df Model:                            3\n",
            "Date:                Wed, 12 Oct 2022   Pseudo R-squ.:                  0.4437\n",
            "Time:                        20:27:18   Log-Likelihood:                -6524.0\n",
            "converged:                       True   LL-Null:                       -11728.\n",
            "Covariance Type:            nonrobust   LLR p-value:                     0.000\n",
            "=====================================================================================\n",
            "                        coef    std err          z      P>|z|      [0.025      0.975]\n",
            "-------------------------------------------------------------------------------------\n",
            "E_Despegue2          -0.0375      0.023     -1.621      0.105      -0.083       0.008\n",
            "E_Despegue3           1.1399      0.022     50.716      0.000       1.096       1.184\n",
            "E_Duracion_Vuelo2     0.0086      0.022      0.384      0.701      -0.035       0.053\n",
            "E_Duracion_Vuelo3     0.9564      0.020     48.423      0.000       0.918       0.995\n",
            "=====================================================================================\n",
            "Counter({'Tard3': 1})\n"
          ]
        },
        {
          "output_type": "display_data",
          "data": {
            "text/plain": [
              "<Figure size 432x288 with 1 Axes>"
            ],
            "image/png": "[encoded data removed]"
          },
          "metadata": {}
        },
        {
          "output_type": "stream",
          "name": "stdout",
          "text": [
            "classification_report\n",
            "              precision    recall  f1-score   support\n",
            "\n",
            "           0       1.00      0.57      0.73      1490\n",
            "           1       0.16      1.00      0.27       117\n",
            "\n",
            "    accuracy                           0.60      1607\n",
            "   macro avg       0.58      0.79      0.50      1607\n",
            "weighted avg       0.94      0.60      0.70      1607\n",
            "\n",
            "confusion_matrix\n",
            "Accuracy: 0.60\n",
            "Error rate: 0.40\n",
            "Precision: 0.16\n",
            "Recall: 1.00\n",
            "f1_score: 0.27\n"
          ]
        },
        {
          "output_type": "display_data",
          "data": {
            "text/plain": [
              "<Figure size 432x288 with 1 Axes>"
            ],
            "image/png": "[encoded data removed]"
          },
          "metadata": {}
        }
      ]
    },
    {
      "cell_type": "code",
      "source": [
        "print(model_fit.params)\n",
        "parametros = pd.DataFrame(model_fit.params)\n",
        "\n",
        "parametros.columns=['Coeficiente']\n",
        "parametros = parametros.rename_axis('Variable').reset_index()\n",
        "parametros\n",
        "sns.barplot(y='Variable', x=\"Coeficiente\", data=parametros)"
      ],
      "metadata": {
        "id": "wpExo8Zj1S3p",
        "outputId": "812629c4-04c0-49b1-d8e7-12d20291a589",
        "colab": {
          "base_uri": "https://localhost:8080/",
          "height": 389
        }
      },
      "execution_count": 165,
      "outputs": [
        {
          "output_type": "stream",
          "name": "stdout",
          "text": [
            "E_Despegue2         -0.032480\n",
            "E_Despegue3          1.138696\n",
            "E_Duracion_Vuelo2    0.012307\n",
            "E_Duracion_Vuelo3    0.953306\n",
            "dtype: float64\n"
          ]
        },
        {
          "output_type": "execute_result",
          "data": {
            "text/plain": [
              "<matplotlib.axes._subplots.AxesSubplot at 0x7fb3419d2dd0>"
            ]
          },
          "metadata": {},
          "execution_count": 165
        },
        {
          "output_type": "display_data",
          "data": {
            "text/plain": [
              "<Figure size 432x288 with 1 Axes>"
            ],
            "image/png": "[encoded data removed]"
          },
          "metadata": {}
        }
      ]
    },
    {
      "cell_type": "code",
      "source": [
        "feature_importance = pd.DataFrame(feature_names, columns = [\"feature\"])\n",
        "feature_importance[\"importance\"] = pow(math.e, w)\n",
        "feature_importance = feature_importance.sort_values(by = [\"importance\"], ascending=False)\n",
        " \n",
        "from sklearn.linear_model import LogisticRegression\n",
        "ax = feature_importance.plot.barh(x='feature', y='importance')\n",
        "plt.show()"
      ],
      "metadata": {
        "id": "xOQS7EB1z_mc"
      },
      "execution_count": null,
      "outputs": []
    },
    {
      "cell_type": "code",
      "source": [
        "#@title Comparativa Accuracy\n",
        "#accuracy\n",
        "accuracy=pd.DataFrame(accuracy)\n",
        "accuracy.columns=['Metodo', 'Accuracy']\n",
        "sns.barplot(y='Metodo', x=\"Accuracy\", data=accuracy)\n",
        "#accuracy"
      ],
      "metadata": {
        "colab": {
          "base_uri": "https://localhost:8080/",
          "height": 302
        },
        "id": "z9y-kXEFpTNS",
        "outputId": "cdf504b4-8586-4f7e-e1b4-3b1c3fa546b1"
      },
      "execution_count": 145,
      "outputs": [
        {
          "output_type": "execute_result",
          "data": {
            "text/plain": [
              "<matplotlib.axes._subplots.AxesSubplot at 0x7fb341ab08d0>"
            ]
          },
          "metadata": {},
          "execution_count": 145
        },
        {
          "output_type": "display_data",
          "data": {
            "text/plain": [
              "<Figure size 432x288 with 1 Axes>"
            ],
            "image/png": "[encoded data removed]"
          },
          "metadata": {}
        }
      ]
    }
  ]
}