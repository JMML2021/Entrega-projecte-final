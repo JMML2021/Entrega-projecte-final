{
  "nbformat": 4,
  "nbformat_minor": 0,
  "metadata": {
    "colab": {
      "provenance": [],
      "toc_visible": true,
      "authorship_tag": "ABX9TyPMurxOp6q7CCSKfXzm+2wG",
      "include_colab_link": true
    },
    "kernelspec": {
      "name": "python3",
      "display_name": "Python 3"
    },
    "language_info": {
      "name": "python"
    }
  },
  "cells": [
    {
      "cell_type": "markdown",
      "metadata": {
        "id": "view-in-github",
        "colab_type": "text"
      },
      "source": [
        "<a href=\"https://colab.research.google.com/github/JMML2021/Entrega-projecte-final/blob/main/utilitzar_loggistic_regression_per_mirar_els_coeficients_.ipynb\" target=\"_parent\"><img src=\"https://colab.research.google.com/assets/colab-badge.svg\" alt=\"Open In Colab\"/></a>"
      ]
    },
    {
      "cell_type": "code",
      "execution_count": 1,
      "metadata": {
        "id": "jGh3pHWOKVEe"
      },
      "outputs": [],
      "source": [
        "import numpy as np\n",
        "import matplotlib.pyplot as plt \n",
        "\n",
        "import pandas as pd  \n",
        "import seaborn as sns \n",
        "\n",
        "%matplotlib inline\n",
        "\n",
        "\n",
        "from sklearn.manifold import TSNE\n",
        "from sklearn.decomposition import PCA\n",
        "from sklearn.ensemble import RandomForestClassifier\n",
        "from sklearn.metrics import accuracy_score, confusion_matrix\n",
        "from sklearn.model_selection import train_test_split, cross_val_score"
      ]
    },
    {
      "cell_type": "code",
      "source": [
        "# Activo Google Drive\n",
        "\n",
        "from google.colab import drive\n",
        "drive.mount('/content/drive')"
      ],
      "metadata": {
        "id": "BBXJFZrnKZY-",
        "outputId": "8d469d91-3fd8-47cc-d85a-cfc2dd223a1e",
        "colab": {
          "base_uri": "https://localhost:8080/"
        }
      },
      "execution_count": 2,
      "outputs": [
        {
          "output_type": "stream",
          "name": "stdout",
          "text": [
            "Mounted at /content/drive\n"
          ]
        }
      ]
    },
    {
      "cell_type": "code",
      "source": [
        "#@title Obrir fitxer creat amb Calculo Vueling 2022 con codigos Rev D.ipynb\n",
        "#path='/content/drive/MyDrive/2022.06.03 2022_delay + cierre puertas CORTO.xlsx'\n",
        "Hoja = 'FLT_2022'\n",
        "path = ('/content/drive/MyDrive/Ficheros de Vueling/2022-09-20 14:39:04.960091 FLT_2022.xlsx')\n",
        "path = ('/content/drive/MyDrive/Ficheros de Vueling/2022-10-10 07:25:00.012463 FLT_2022.xlsx')\n",
        "df = pd.read_excel(path) #, sheet_name=Hoja)\n"
      ],
      "metadata": {
        "id": "KUHVaaBFKcCy"
      },
      "execution_count": 3,
      "outputs": []
    },
    {
      "cell_type": "code",
      "source": [
        "# Para crear una \"logistic regresion\":\n",
        "# 10 minuts és el temps que s'accepta com arribar a l'hora\n",
        "\n",
        "df['Tard1'] = np.where(df['Puntualidad1'] <10, 0, 1)\n",
        "df['Tard2'] = np.where(df['Puntualidad2'] <10, 0, 1)\n",
        "df['Tard3'] = np.where(df['Puntualidad3'] <10, 0, 1)"
      ],
      "metadata": {
        "id": "a-_W_Eq3KfEn"
      },
      "execution_count": 4,
      "outputs": []
    },
    {
      "cell_type": "code",
      "source": [
        "#@title crec el DataFrame df1\n",
        "df1=df[['Puntualidad1', 'Puntualidad2', 'Puntualidad3', \n",
        "        'E_Despegue','E_Despegue2','E_Despegue3',\n",
        "        'E_Duracion_Vuelo','E_Duracion_Vuelo2','E_Duracion_Vuelo3', 'Tard1', 'Tard2', 'Tard3']]"
      ],
      "metadata": {
        "id": "-F1--pZFLDE4"
      },
      "execution_count": 6,
      "outputs": []
    },
    {
      "cell_type": "code",
      "source": [
        "#@#@title Estandarditzar les característiques eliminant la mitjana i escalant a la variància de la unitat.\n",
        "\n",
        "from sklearn_pandas import DataFrameMapper\n",
        "from sklearn.preprocessing import StandardScaler\n",
        "\n",
        "mapper = DataFrameMapper([(df1.columns, StandardScaler())])\n",
        "scaled_features = mapper.fit_transform(df1.copy(), 4)\n",
        "df1_StdScaler= pd.DataFrame(scaled_features, index=df1.index, columns=df1.columns)\n",
        "\n",
        "df1_StdScaler.head()"
      ],
      "metadata": {
        "id": "Rb1jzPFcLKcg",
        "outputId": "40d92b37-d4dc-4af1-9bf4-57ec08789722",
        "colab": {
          "base_uri": "https://localhost:8080/",
          "height": 206
        }
      },
      "execution_count": 7,
      "outputs": [
        {
          "output_type": "execute_result",
          "data": {
            "text/plain": [
              "   Puntualidad1  Puntualidad2  Puntualidad3  E_Despegue  E_Despegue2  \\\n",
              "0      0.661875      0.158984     -0.020942    1.006091     0.398530   \n",
              "1     -0.620447     -0.405877     -0.020942   -0.939568    -0.840450   \n",
              "2      0.245987      0.204173     -0.169253    0.340471     0.133034   \n",
              "3      0.800504      0.000823     -0.525200    1.159696     0.575527   \n",
              "4      0.176672     -0.134744     -0.050604   -0.222746    -0.530705   \n",
              "\n",
              "   E_Despegue3  E_Duracion_Vuelo  E_Duracion_Vuelo2  E_Duracion_Vuelo3  \\\n",
              "0    -0.039738         -0.022665          -0.049533           0.000086   \n",
              "1    -0.655431          0.018437           0.025896           0.365863   \n",
              "2    -0.095710          0.018437           0.151611          -0.132924   \n",
              "3    -0.543487          0.018437          -0.326106          -0.265933   \n",
              "4    -0.263626          0.388352           0.151611           0.099843   \n",
              "\n",
              "      Tard1     Tard2     Tard3  \n",
              "0  2.979681 -0.387587 -0.362741  \n",
              "1 -0.335606 -0.387587 -0.362741  \n",
              "2 -0.335606 -0.387587 -0.362741  \n",
              "3  2.979681 -0.387587 -0.362741  \n",
              "4 -0.335606 -0.387587 -0.362741  "
            ],
            "text/html": [
              "\n",
              "  <div id=\"df-a6931d1a-10a9-45d1-b6af-1e7bc07142ab\">\n",
              "    <div class=\"colab-df-container\">\n",
              "      <div>\n",
              "<style scoped>\n",
              "    .dataframe tbody tr th:only-of-type {\n",
              "        vertical-align: middle;\n",
              "    }\n",
              "\n",
              "    .dataframe tbody tr th {\n",
              "        vertical-align: top;\n",
              "    }\n",
              "\n",
              "    .dataframe thead th {\n",
              "        text-align: right;\n",
              "    }\n",
              "</style>\n",
              "<table border=\"1\" class=\"dataframe\">\n",
              "  <thead>\n",
              "    <tr style=\"text-align: right;\">\n",
              "      <th></th>\n",
              "      <th>Puntualidad1</th>\n",
              "      <th>Puntualidad2</th>\n",
              "      <th>Puntualidad3</th>\n",
              "      <th>E_Despegue</th>\n",
              "      <th>E_Despegue2</th>\n",
              "      <th>E_Despegue3</th>\n",
              "      <th>E_Duracion_Vuelo</th>\n",
              "      <th>E_Duracion_Vuelo2</th>\n",
              "      <th>E_Duracion_Vuelo3</th>\n",
              "      <th>Tard1</th>\n",
              "      <th>Tard2</th>\n",
              "      <th>Tard3</th>\n",
              "    </tr>\n",
              "  </thead>\n",
              "  <tbody>\n",
              "    <tr>\n",
              "      <th>0</th>\n",
              "      <td>0.661875</td>\n",
              "      <td>0.158984</td>\n",
              "      <td>-0.020942</td>\n",
              "      <td>1.006091</td>\n",
              "      <td>0.398530</td>\n",
              "      <td>-0.039738</td>\n",
              "      <td>-0.022665</td>\n",
              "      <td>-0.049533</td>\n",
              "      <td>0.000086</td>\n",
              "      <td>2.979681</td>\n",
              "      <td>-0.387587</td>\n",
              "      <td>-0.362741</td>\n",
              "    </tr>\n",
              "    <tr>\n",
              "      <th>1</th>\n",
              "      <td>-0.620447</td>\n",
              "      <td>-0.405877</td>\n",
              "      <td>-0.020942</td>\n",
              "      <td>-0.939568</td>\n",
              "      <td>-0.840450</td>\n",
              "      <td>-0.655431</td>\n",
              "      <td>0.018437</td>\n",
              "      <td>0.025896</td>\n",
              "      <td>0.365863</td>\n",
              "      <td>-0.335606</td>\n",
              "      <td>-0.387587</td>\n",
              "      <td>-0.362741</td>\n",
              "    </tr>\n",
              "    <tr>\n",
              "      <th>2</th>\n",
              "      <td>0.245987</td>\n",
              "      <td>0.204173</td>\n",
              "      <td>-0.169253</td>\n",
              "      <td>0.340471</td>\n",
              "      <td>0.133034</td>\n",
              "      <td>-0.095710</td>\n",
              "      <td>0.018437</td>\n",
              "      <td>0.151611</td>\n",
              "      <td>-0.132924</td>\n",
              "      <td>-0.335606</td>\n",
              "      <td>-0.387587</td>\n",
              "      <td>-0.362741</td>\n",
              "    </tr>\n",
              "    <tr>\n",
              "      <th>3</th>\n",
              "      <td>0.800504</td>\n",
              "      <td>0.000823</td>\n",
              "      <td>-0.525200</td>\n",
              "      <td>1.159696</td>\n",
              "      <td>0.575527</td>\n",
              "      <td>-0.543487</td>\n",
              "      <td>0.018437</td>\n",
              "      <td>-0.326106</td>\n",
              "      <td>-0.265933</td>\n",
              "      <td>2.979681</td>\n",
              "      <td>-0.387587</td>\n",
              "      <td>-0.362741</td>\n",
              "    </tr>\n",
              "    <tr>\n",
              "      <th>4</th>\n",
              "      <td>0.176672</td>\n",
              "      <td>-0.134744</td>\n",
              "      <td>-0.050604</td>\n",
              "      <td>-0.222746</td>\n",
              "      <td>-0.530705</td>\n",
              "      <td>-0.263626</td>\n",
              "      <td>0.388352</td>\n",
              "      <td>0.151611</td>\n",
              "      <td>0.099843</td>\n",
              "      <td>-0.335606</td>\n",
              "      <td>-0.387587</td>\n",
              "      <td>-0.362741</td>\n",
              "    </tr>\n",
              "  </tbody>\n",
              "</table>\n",
              "</div>\n",
              "      <button class=\"colab-df-convert\" onclick=\"convertToInteractive('df-a6931d1a-10a9-45d1-b6af-1e7bc07142ab')\"\n",
              "              title=\"Convert this dataframe to an interactive table.\"\n",
              "              style=\"display:none;\">\n",
              "        \n",
              "  <svg xmlns=\"http://www.w3.org/2000/svg\" height=\"24px\"viewBox=\"0 0 24 24\"\n",
              "       width=\"24px\">\n",
              "    <path d=\"M0 0h24v24H0V0z\" fill=\"none\"/>\n",
              "    <path d=\"M18.56 5.44l.94 2.06.94-2.06 2.06-.94-2.06-.94-.94-2.06-.94 2.06-2.06.94zm-11 1L8.5 8.5l.94-2.06 2.06-.94-2.06-.94L8.5 2.5l-.94 2.06-2.06.94zm10 10l.94 2.06.94-2.06 2.06-.94-2.06-.94-.94-2.06-.94 2.06-2.06.94z\"/><path d=\"M17.41 7.96l-1.37-1.37c-.4-.4-.92-.59-1.43-.59-.52 0-1.04.2-1.43.59L10.3 9.45l-7.72 7.72c-.78.78-.78 2.05 0 2.83L4 21.41c.39.39.9.59 1.41.59.51 0 1.02-.2 1.41-.59l7.78-7.78 2.81-2.81c.8-.78.8-2.07 0-2.86zM5.41 20L4 18.59l7.72-7.72 1.47 1.35L5.41 20z\"/>\n",
              "  </svg>\n",
              "      </button>\n",
              "      \n",
              "  <style>\n",
              "    .colab-df-container {\n",
              "      display:flex;\n",
              "      flex-wrap:wrap;\n",
              "      gap: 12px;\n",
              "    }\n",
              "\n",
              "    .colab-df-convert {\n",
              "      background-color: #E8F0FE;\n",
              "      border: none;\n",
              "      border-radius: 50%;\n",
              "      cursor: pointer;\n",
              "      display: none;\n",
              "      fill: #1967D2;\n",
              "      height: 32px;\n",
              "      padding: 0 0 0 0;\n",
              "      width: 32px;\n",
              "    }\n",
              "\n",
              "    .colab-df-convert:hover {\n",
              "      background-color: #E2EBFA;\n",
              "      box-shadow: 0px 1px 2px rgba(60, 64, 67, 0.3), 0px 1px 3px 1px rgba(60, 64, 67, 0.15);\n",
              "      fill: #174EA6;\n",
              "    }\n",
              "\n",
              "    [theme=dark] .colab-df-convert {\n",
              "      background-color: #3B4455;\n",
              "      fill: #D2E3FC;\n",
              "    }\n",
              "\n",
              "    [theme=dark] .colab-df-convert:hover {\n",
              "      background-color: #434B5C;\n",
              "      box-shadow: 0px 1px 3px 1px rgba(0, 0, 0, 0.15);\n",
              "      filter: drop-shadow(0px 1px 2px rgba(0, 0, 0, 0.3));\n",
              "      fill: #FFFFFF;\n",
              "    }\n",
              "  </style>\n",
              "\n",
              "      <script>\n",
              "        const buttonEl =\n",
              "          document.querySelector('#df-a6931d1a-10a9-45d1-b6af-1e7bc07142ab button.colab-df-convert');\n",
              "        buttonEl.style.display =\n",
              "          google.colab.kernel.accessAllowed ? 'block' : 'none';\n",
              "\n",
              "        async function convertToInteractive(key) {\n",
              "          const element = document.querySelector('#df-a6931d1a-10a9-45d1-b6af-1e7bc07142ab');\n",
              "          const dataTable =\n",
              "            await google.colab.kernel.invokeFunction('convertToInteractive',\n",
              "                                                     [key], {});\n",
              "          if (!dataTable) return;\n",
              "\n",
              "          const docLinkHtml = 'Like what you see? Visit the ' +\n",
              "            '<a target=\"_blank\" href=https://colab.research.google.com/notebooks/data_table.ipynb>data table notebook</a>'\n",
              "            + ' to learn more about interactive tables.';\n",
              "          element.innerHTML = '';\n",
              "          dataTable['output_type'] = 'display_data';\n",
              "          await google.colab.output.renderOutput(dataTable, element);\n",
              "          const docLink = document.createElement('div');\n",
              "          docLink.innerHTML = docLinkHtml;\n",
              "          element.appendChild(docLink);\n",
              "        }\n",
              "      </script>\n",
              "    </div>\n",
              "  </div>\n",
              "  "
            ]
          },
          "metadata": {},
          "execution_count": 7
        }
      ]
    },
    {
      "cell_type": "code",
      "source": [
        "#@title Elimino els outliers. df2\n",
        "df2=df1.copy()\n",
        "\n",
        "dfEliminarOutliers= ((df2['E_Despegue']> -30) & \n",
        "                     (df2['E_Despegue']< 30) & \n",
        "                     (df2['Puntualidad1']< 30) & \n",
        "                     (df2['Puntualidad1']>-30) &\n",
        "                     (df2['Puntualidad2']< 30) & \n",
        "                     (df2['Puntualidad2']>-30)&\n",
        "                     (df2['E_Despegue2']< 30) & \n",
        "                     (df2['E_Despegue2']>-30)&\n",
        "                     (df2['Puntualidad3']< 30) & \n",
        "                     (df2['Puntualidad3']>-30)&\n",
        "                     (df2['E_Despegue3']< 30) & \n",
        "                     (df2['E_Despegue3']>-30))\n",
        "\n",
        "df2 = df2[dfEliminarOutliers]"
      ],
      "metadata": {
        "id": "_8W6y6UWLU_6"
      },
      "execution_count": 8,
      "outputs": []
    },
    {
      "cell_type": "code",
      "source": [
        "#@title Quantitat de outliers que hi ha\n",
        "print(df1.shape)\n",
        "print(df2.shape)\n",
        "percentatje= round((df2.shape[0]-df1.shape[0])/df1.shape[0]*100/3,2)\n",
        "print('quantitat de files afectades per outliers per salt= ', percentatje)"
      ],
      "metadata": {
        "id": "5H7yXyDPLZMA",
        "outputId": "39898c17-5f84-4e30-b347-c367beab816b",
        "colab": {
          "base_uri": "https://localhost:8080/"
        }
      },
      "execution_count": 14,
      "outputs": [
        {
          "output_type": "stream",
          "name": "stdout",
          "text": [
            "(12358, 12)\n",
            "(10708, 12)\n",
            "quantitat de files afecatdes=  -4.45\n"
          ]
        }
      ]
    },
    {
      "cell_type": "code",
      "source": [
        "#@title Creo Subrutina de metricas:\n",
        "\n",
        "#Importo scikit-learn metrics module para el calculo\n",
        "from sklearn import metrics\n",
        "from sklearn.metrics import mean_squared_error\n",
        "from sklearn.metrics import r2_score\n",
        "metricasEjercicio2=[]\n",
        "######################################################################\n",
        " \n",
        "def MetricasModelo(metodo, Y_real, Y_calculado, scores):\n",
        "  print('Metodo: ', metodo)\n",
        "  \n",
        "  #Precisión del modelo: ¿con qué frecuencia es correcto el clasificador?\n",
        "  #accuracy = metrics.accuracy_score(Y_real, Y_calculado)\n",
        "  #print(\"Accuracy:\", accuracy)\n",
        "\n",
        "  rmse = np.sqrt(mean_squared_error(Y_real, Y_calculado,))\n",
        "  print(\"RMSE: %f\" % (rmse))\n",
        "  \n",
        "\n",
        "  R_squared = r2_score(Y_real, Y_calculado,)\n",
        "\n",
        "  print(\"R-Squared: \", np.round(R_squared, 2))\n",
        " \n",
        "  print(\"Accuracy: %0.2f (+/- %0.2f)\" % (scores.mean(), scores.std() * 2))\n",
        "  accuracy = \"Accuracy: %0.2f (+/- %0.2f)\" % (scores.mean(), scores.std() * 2)\n",
        "\n",
        "  # Guardo metricas\n",
        "  metricasEjercicio2.append([metodo, rmse, R_squared, accuracy])  \n",
        "\n",
        "\n",
        "  cnf_matrix_SVM = metrics.confusion_matrix(Y_real, Y_calculado)\n",
        "\n",
        "  print('\\n\\nMatriz de Confusión')\n",
        "  print(cnf_matrix_SVM)\n",
        "\n",
        "\n",
        "  # Creamos la Matriz de Confusion:\n",
        "\n",
        "  class_names=[0,1] # name  of classes\n",
        "  \n",
        "  fig, ax = plt.subplots()\n",
        "  tick_marks = np.arange(len(class_names))\n",
        "  plt.xticks(tick_marks, class_names)\n",
        "  plt.yticks(tick_marks, class_names)\n",
        "\n",
        "  # create heatmap\n",
        "\n",
        "  sns.heatmap(pd.DataFrame(cnf_matrix_SVM), annot=True, cmap=\"gist_ncar\" ,fmt='g')\n",
        "  ax.xaxis.set_label_position(\"top\")\n",
        " \n",
        "\n",
        "  plt.tight_layout()\n",
        "  plt.title('Matriu de confusió', y=1.1)\n",
        "  plt.ylabel('Valor Actual')\n",
        "  plt.xlabel('Valor predit')\n",
        "  plt.Text(1.5,257.44,'Predicció')\n"
      ],
      "metadata": {
        "id": "bhbZ2yoQMc4v"
      },
      "execution_count": 15,
      "outputs": []
    },
    {
      "cell_type": "code",
      "source": [
        "fig, ax = plt.subplots(figsize=(6, 4))\n",
        "sns.countplot(x='Tard3',data=df2, palette='hls')\n",
        "plt.show()"
      ],
      "metadata": {
        "id": "juwBZZTSMpNz",
        "outputId": "12d8e90a-7130-49e2-dc81-4ab8b6fa1662",
        "colab": {
          "base_uri": "https://localhost:8080/",
          "height": 279
        }
      },
      "execution_count": 16,
      "outputs": [
        {
          "output_type": "display_data",
          "data": {
            "text/plain": [
              "<Figure size 432x288 with 1 Axes>"
            ],
            "image/png": "[encoded data removed]"
          },
          "metadata": {
            "needs_background": "light"
          }
        }
      ]
    },
    {
      "cell_type": "code",
      "source": [
        "# Creació del model utilitzant matrius com a scikitlearn\n",
        "# ================================================= =============================\n",
        "# A la matriu de predictors cal afegir una columna de 1s per a l'intercept del model\n",
        "\n",
        "import statsmodels.api as sm\n",
        "\n",
        "# Divisió de les dades en train i test\n",
        "# ==============================================================================\n",
        "datos_x= df2.loc[:, ['Puntualidad1', 'Puntualidad2',  \n",
        "        'E_Despegue','E_Despegue2','E_Despegue3',\n",
        "        'E_Duracion_Vuelo','E_Duracion_Vuelo2','E_Duracion_Vuelo3',]].values \n",
        "datos_y = df2.loc[:,['Tard3']]\n",
        "X_train, X_test, y_train, y_test = train_test_split(\n",
        "                                        datos_x,\n",
        "                                       datos_y,\n",
        "                                        train_size   = 0.8,\n",
        "                                        random_state = 1234,\n",
        "                                        shuffle      = True\n",
        "                                    )\n",
        "logit_model=sm.Logit( y_train, X_train)\n",
        "result=logit_model.fit()\n",
        "print(result.summary2())"
      ],
      "metadata": {
        "id": "AgCBdCvzM0vz",
        "outputId": "a2d4d3f5-e93b-4cf0-b3fa-8de5a2b976c0",
        "colab": {
          "base_uri": "https://localhost:8080/"
        }
      },
      "execution_count": 30,
      "outputs": [
        {
          "output_type": "stream",
          "name": "stdout",
          "text": [
            "Warning: Maximum number of iterations has been exceeded.\n",
            "         Current function value: 0.194613\n",
            "         Iterations: 35\n",
            "                          Results: Logit\n",
            "==================================================================\n",
            "Model:              Logit            Pseudo R-squared: 0.228      \n",
            "Dependent Variable: Tard3            AIC:              3346.1032  \n",
            "Date:               2022-10-10 23:33 BIC:              3388.4365  \n",
            "No. Observations:   8566             Log-Likelihood:   -1667.1    \n",
            "Df Model:           5                LL-Null:          -2158.1    \n",
            "Df Residuals:       8560             LLR p-value:      4.4908e-210\n",
            "Converged:          0.0000           Scale:            1.0000     \n",
            "No. Iterations:     35.0000                                       \n",
            "---------------------------------------------------------------------\n",
            "        Coef.     Std.Err.       z       P>|z|      [0.025     0.975]\n",
            "---------------------------------------------------------------------\n",
            "x1      0.0870         nan        nan       nan        nan        nan\n",
            "x2      0.0369      0.0022    17.0495    0.0000     0.0326     0.0411\n",
            "x3      0.0305         nan        nan       nan        nan        nan\n",
            "x4     -0.0628      0.0111    -5.6456    0.0000    -0.0846    -0.0410\n",
            "x5      0.2537      0.0078    32.4530    0.0000     0.2384     0.2691\n",
            "x6      0.0565         nan        nan       nan        nan        nan\n",
            "x7      0.0996     -0.0000       -inf    0.0000     0.0996     0.0996\n",
            "x8      0.2924      0.0084    34.8372    0.0000     0.2760     0.3089\n",
            "==================================================================\n",
            "\n"
          ]
        },
        {
          "output_type": "stream",
          "name": "stderr",
          "text": [
            "/usr/local/lib/python3.7/dist-packages/statsmodels/base/model.py:568: ConvergenceWarning: Maximum Likelihood optimization failed to converge. Check mle_retvals\n",
            "  ConvergenceWarning)\n"
          ]
        }
      ]
    },
    {
      "cell_type": "code",
      "source": [
        "#@title Dades standarizatdes:\n",
        "\n",
        "#@title Estandarditzar les característiques eliminant la mitjana i escalant a la variància de la unitat.\n",
        "\n",
        "from sklearn_pandas import DataFrameMapper\n",
        "from sklearn.preprocessing import StandardScaler\n",
        "\n",
        "\n",
        "mapper = DataFrameMapper([(df2.columns, StandardScaler())])\n",
        "scaled_features = mapper.fit_transform(df2.copy(), 4)\n",
        "df2_StdScaler= pd.DataFrame(scaled_features, index=df2.index, columns=df2.columns)\n",
        "\n",
        "df2_StdScaler.head()\n",
        "\n",
        "datos_x= df2_StdScaler.loc[:, ['Puntualidad1', 'Puntualidad2',  \n",
        "        'E_Despegue','E_Despegue2','E_Despegue3',\n",
        "        'E_Duracion_Vuelo','E_Duracion_Vuelo2','E_Duracion_Vuelo3',]].values \n",
        "datos_y = df2.loc[:,['Tard3']]\n",
        "\n",
        "X_train, X_test, y_train, y_test = train_test_split(\n",
        "                                        datos_x,\n",
        "                                       datos_y,\n",
        "                                        train_size   = 0.8,\n",
        "                                        random_state = 1234,\n",
        "                                        shuffle      = True\n",
        "                                    )\n",
        "\n",
        "logit_model=sm.Logit( y_train, X_train)\n",
        "result=logit_model.fit()\n",
        "print(result.summary2())"
      ],
      "metadata": {
        "id": "VcEBM5_hODuM",
        "outputId": "4baa5928-11b7-4a64-d0c6-bc49f774bd41",
        "colab": {
          "base_uri": "https://localhost:8080/"
        }
      },
      "execution_count": 31,
      "outputs": [
        {
          "output_type": "stream",
          "name": "stdout",
          "text": [
            "Warning: Maximum number of iterations has been exceeded.\n",
            "         Current function value: 0.640394\n",
            "         Iterations: 35\n",
            "                         Results: Logit\n",
            "=================================================================\n",
            "Model:              Logit            Pseudo R-squared: -1.542    \n",
            "Dependent Variable: Tard3            AIC:              10983.2350\n",
            "Date:               2022-10-10 23:33 BIC:              11025.5683\n",
            "No. Observations:   8566             Log-Likelihood:   -5485.6   \n",
            "Df Model:           5                LL-Null:          -2158.1   \n",
            "Df Residuals:       8560             LLR p-value:      1.0000    \n",
            "Converged:          0.0000           Scale:            1.0000    \n",
            "No. Iterations:     35.0000                                      \n",
            "-----------------------------------------------------------------\n",
            "    Coef.    Std.Err.      z    P>|z|      [0.025       0.975]   \n",
            "-----------------------------------------------------------------\n",
            "x1 -0.0017 1712852.5986 -0.0000 1.0000 -3357129.4057 3357129.4024\n",
            "x2 -0.0040          nan     nan    nan           nan          nan\n",
            "x3 -0.0060 1178154.9933 -0.0000 1.0000 -2309141.3610 2309141.3491\n",
            "x4 -0.0196          nan     nan    nan           nan          nan\n",
            "x5  0.6088       0.0272 22.3501 0.0000        0.5554       0.6622\n",
            "x6  0.0029 1450176.4491  0.0000 1.0000 -2842293.6086 2842293.6144\n",
            "x7  0.0149          nan     nan    nan           nan          nan\n",
            "x8  0.4669       0.0244 19.1508 0.0000        0.4191       0.5147\n",
            "=================================================================\n",
            "\n"
          ]
        },
        {
          "output_type": "stream",
          "name": "stderr",
          "text": [
            "/usr/local/lib/python3.7/dist-packages/statsmodels/base/model.py:568: ConvergenceWarning: Maximum Likelihood optimization failed to converge. Check mle_retvals\n",
            "  ConvergenceWarning)\n"
          ]
        }
      ]
    },
    {
      "cell_type": "code",
      "source": [
        "# Creació del model utilitzant matrius com a scikitlearn\n",
        "# ================================================= =============================\n",
        "# A la matriu de predictors cal afegir una columna de 1s per a l'intercept del model\n",
        "\n",
        "import statsmodels.api as sm\n",
        "\n",
        "# Divisió de les dades en train i test\n",
        "# ==============================================================================\n",
        "datos_x= df2.loc[:, ['Puntualidad1', 'Puntualidad2',  \n",
        "        'E_Despegue','E_Despegue2','E_Despegue3',\n",
        "        'E_Duracion_Vuelo','E_Duracion_Vuelo2','E_Duracion_Vuelo3',]].values \n",
        "datos_y = df2.loc[:,['Tard3']]\n",
        "X_train, X_test, y_train, y_test = train_test_split(\n",
        "                                        datos_x,\n",
        "                                       datos_y,\n",
        "                                        train_size   = 0.8,\n",
        "                                        random_state = 1234,\n",
        "                                        shuffle      = True\n",
        "                                    )\n",
        "logit_model=sm.Logit( y_train, X_train)\n",
        "result=logit_model.fit()\n",
        "print(result.summary2())"
      ],
      "metadata": {
        "id": "PfEnJST_PbFm",
        "outputId": "0c195cfc-5da8-44dd-d93d-ead7f1fc3edf",
        "colab": {
          "base_uri": "https://localhost:8080/"
        }
      },
      "execution_count": 32,
      "outputs": [
        {
          "output_type": "stream",
          "name": "stdout",
          "text": [
            "Warning: Maximum number of iterations has been exceeded.\n",
            "         Current function value: 0.194613\n",
            "         Iterations: 35\n",
            "                          Results: Logit\n",
            "==================================================================\n",
            "Model:              Logit            Pseudo R-squared: 0.228      \n",
            "Dependent Variable: Tard3            AIC:              3346.1032  \n",
            "Date:               2022-10-10 23:33 BIC:              3388.4365  \n",
            "No. Observations:   8566             Log-Likelihood:   -1667.1    \n",
            "Df Model:           5                LL-Null:          -2158.1    \n",
            "Df Residuals:       8560             LLR p-value:      4.4908e-210\n",
            "Converged:          0.0000           Scale:            1.0000     \n",
            "No. Iterations:     35.0000                                       \n",
            "---------------------------------------------------------------------\n",
            "        Coef.     Std.Err.       z       P>|z|      [0.025     0.975]\n",
            "---------------------------------------------------------------------\n",
            "x1      0.0870         nan        nan       nan        nan        nan\n",
            "x2      0.0369      0.0022    17.0495    0.0000     0.0326     0.0411\n",
            "x3      0.0305         nan        nan       nan        nan        nan\n",
            "x4     -0.0628      0.0111    -5.6456    0.0000    -0.0846    -0.0410\n",
            "x5      0.2537      0.0078    32.4530    0.0000     0.2384     0.2691\n",
            "x6      0.0565         nan        nan       nan        nan        nan\n",
            "x7      0.0996     -0.0000       -inf    0.0000     0.0996     0.0996\n",
            "x8      0.2924      0.0084    34.8372    0.0000     0.2760     0.3089\n",
            "==================================================================\n",
            "\n"
          ]
        },
        {
          "output_type": "stream",
          "name": "stderr",
          "text": [
            "/usr/local/lib/python3.7/dist-packages/statsmodels/base/model.py:568: ConvergenceWarning: Maximum Likelihood optimization failed to converge. Check mle_retvals\n",
            "  ConvergenceWarning)\n"
          ]
        }
      ]
    }
  ]
}