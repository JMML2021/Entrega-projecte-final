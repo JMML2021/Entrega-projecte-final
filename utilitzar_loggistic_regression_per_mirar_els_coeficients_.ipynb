{
  "nbformat": 4,
  "nbformat_minor": 0,
  "metadata": {
    "colab": {
      "provenance": [],
      "toc_visible": true,
      "authorship_tag": "ABX9TyMbsHmbaRKjq9/Rzby7esF8",
      "include_colab_link": true
    },
    "kernelspec": {
      "name": "python3",
      "display_name": "Python 3"
    },
    "language_info": {
      "name": "python"
    }
  },
  "cells": [
    {
      "cell_type": "markdown",
      "metadata": {
        "id": "view-in-github",
        "colab_type": "text"
      },
      "source": [
        "<a href=\"https://colab.research.google.com/github/JMML2021/Entrega-projecte-final/blob/main/utilitzar_loggistic_regression_per_mirar_els_coeficients_.ipynb\" target=\"_parent\"><img src=\"https://colab.research.google.com/assets/colab-badge.svg\" alt=\"Open In Colab\"/></a>"
      ]
    },
    {
      "cell_type": "code",
      "execution_count": 18,
      "metadata": {
        "id": "jGh3pHWOKVEe",
        "cellView": "form"
      },
      "outputs": [],
      "source": [
        " \n",
        "#@title importació\n",
        "import numpy as np\n",
        "import matplotlib.pyplot as plt \n",
        "\n",
        "import pandas as pd  \n",
        "import seaborn as sns \n",
        "\n",
        "%matplotlib inline\n",
        "\n",
        "\n",
        "from sklearn.manifold import TSNE\n",
        "from sklearn.decomposition import PCA\n",
        "from sklearn.ensemble import RandomForestClassifier\n",
        "from sklearn.metrics import accuracy_score, confusion_matrix\n",
        "from sklearn.model_selection import train_test_split, cross_val_score\n",
        "\n",
        "import numpy as np\n",
        "import pandas as pd\n",
        "from sklearn.preprocessing import RobustScaler\n",
        "from sklearn.model_selection import train_test_split\n",
        "from sklearn.metrics import accuracy_score, f1_score, precision_score, recall_score, classification_report, confusion_matrix\n",
        "import statsmodels.api as sm\n",
        "from sklearn.metrics import confusion_matrix, classification_report\n",
        "from mlxtend.plotting import plot_decision_regions, plot_confusion_matrix"
      ]
    },
    {
      "cell_type": "code",
      "source": [
        "#@title Configuració warnings\n",
        "# ==============================================================================\n",
        "import warnings\n",
        "warnings.filterwarnings('ignore')"
      ],
      "metadata": {
        "id": "xZc7uL_ARh6p",
        "cellView": "form"
      },
      "execution_count": 2,
      "outputs": []
    },
    {
      "cell_type": "code",
      "source": [
        "#@title Activo Google Drive\n",
        "\n",
        "from google.colab import drive\n",
        "drive.mount('/content/drive')"
      ],
      "metadata": {
        "id": "BBXJFZrnKZY-",
        "colab": {
          "base_uri": "https://localhost:8080/"
        },
        "outputId": "84099a43-bdca-41a7-9202-dcda051b9963",
        "cellView": "form"
      },
      "execution_count": 3,
      "outputs": [
        {
          "output_type": "stream",
          "name": "stdout",
          "text": [
            "Mounted at /content/drive\n"
          ]
        }
      ]
    },
    {
      "cell_type": "code",
      "source": [
        "#@title Obrir fitxer creat amb Calculo Vueling 2022 con codigos Rev D.ipynb\n",
        "#path='/content/drive/MyDrive/2022.06.03 2022_delay + cierre puertas CORTO.xlsx'\n",
        "Hoja = 'FLT_2022'\n",
        "path = ('/content/drive/MyDrive/Ficheros de Vueling/2022-09-20 14:39:04.960091 FLT_2022.xlsx')\n",
        "path = ('/content/drive/MyDrive/Ficheros de Vueling/2022-10-10 07:25:00.012463 FLT_2022.xlsx')\n",
        "df = pd.read_excel(path) #, sheet_name=Hoja)\n",
        "\n",
        "\n"
      ],
      "metadata": {
        "id": "KUHVaaBFKcCy"
      },
      "execution_count": 4,
      "outputs": []
    },
    {
      "cell_type": "code",
      "source": [
        "# Para crear una \"logistic regresion\":\n",
        "# 10 minuts és el temps que s'accepta com arribar a l'hora\n",
        "\n",
        "df['Tard1'] = np.where(df['Puntualidad1'] <10, 0, 1)\n",
        "df['Tard2'] = np.where(df['Puntualidad2'] <10, 0, 1)\n",
        "df['Tard3'] = np.where(df['Puntualidad3'] <10, 0, 1)\n",
        "\n",
        "accuracy=[]"
      ],
      "metadata": {
        "id": "a-_W_Eq3KfEn"
      },
      "execution_count": 77,
      "outputs": []
    },
    {
      "cell_type": "code",
      "source": [
        "#@title crec el DataFrame df1\n",
        "df1=df[['Puntualidad1', 'Puntualidad2', 'Puntualidad3', \n",
        "        'E_Despegue','E_Despegue2','E_Despegue3',\n",
        "        'E_Duracion_Vuelo','E_Duracion_Vuelo2','E_Duracion_Vuelo3', 'Tard1', 'Tard2', 'Tard3']]"
      ],
      "metadata": {
        "id": "-F1--pZFLDE4",
        "cellView": "form"
      },
      "execution_count": 78,
      "outputs": []
    },
    {
      "cell_type": "code",
      "source": [
        "#@title Elimino els outliers. df2\n",
        "df2=df1.copy()\n",
        "\n",
        "dfEliminarOutliers= ((df2['E_Despegue']> -30) & \n",
        "                     (df2['E_Despegue']< 30) & \n",
        "                     (df2['Puntualidad1']< 30) & \n",
        "                     (df2['Puntualidad1']>-30) &\n",
        "                     (df2['Puntualidad2']< 30) & \n",
        "                     (df2['Puntualidad2']>-30)&\n",
        "                     (df2['E_Despegue2']< 30) & \n",
        "                     (df2['E_Despegue2']>-30)&\n",
        "                     (df2['Puntualidad3']< 30) & \n",
        "                     (df2['Puntualidad3']>-30)&\n",
        "                     (df2['E_Despegue3']< 30) & \n",
        "                     (df2['E_Despegue3']>-30))\n",
        "\n",
        "df2 = df2[dfEliminarOutliers]"
      ],
      "metadata": {
        "id": "_8W6y6UWLU_6",
        "cellView": "form"
      },
      "execution_count": 79,
      "outputs": []
    },
    {
      "cell_type": "code",
      "source": [
        "#@title Quantitat de outliers que hi ha\n",
        "print(df1.shape)\n",
        "print(df2.shape)\n",
        "percentatje= round((df2.shape[0]-df1.shape[0])/df1.shape[0]*100/3,2)\n",
        "print('quantitat de files afectades per outliers per salt= ', percentatje)"
      ],
      "metadata": {
        "colab": {
          "base_uri": "https://localhost:8080/"
        },
        "id": "5H7yXyDPLZMA",
        "outputId": "9f35da2b-11da-47a5-b89f-2026b10b5a5a"
      },
      "execution_count": 80,
      "outputs": [
        {
          "output_type": "stream",
          "name": "stdout",
          "text": [
            "(12358, 12)\n",
            "(10708, 12)\n",
            "quantitat de files afectades per outliers per salt=  -4.45\n"
          ]
        }
      ]
    },
    {
      "cell_type": "code",
      "source": [
        "#@title Creo Subrutina de metricas:\n",
        "\n",
        "#Importo scikit-learn metrics module para el calculo\n",
        "from sklearn import metrics\n",
        "from sklearn.metrics import mean_squared_error\n",
        "from sklearn.metrics import r2_score\n",
        "metricasEjercicio2=[]\n",
        "######################################################################\n",
        " \n",
        "def MetricasModelo(metodo, Y_real, Y_calculado, scores):\n",
        "  print('Metodo: ', metodo)\n",
        "  \n",
        "  #Precisión del modelo: ¿con qué frecuencia es correcto el clasificador?\n",
        "  #accuracy = metrics.accuracy_score(Y_real, Y_calculado)\n",
        "  #print(\"Accuracy:\", accuracy)\n",
        "\n",
        "  rmse = np.sqrt(mean_squared_error(Y_real, Y_calculado,))\n",
        "  print(\"RMSE: %f\" % (rmse))\n",
        "  \n",
        "\n",
        "  R_squared = r2_score(Y_real, Y_calculado,)\n",
        "\n",
        "  print(\"R-Squared: \", np.round(R_squared, 2))\n",
        " \n",
        "  print(\"Accuracy: %0.2f (+/- %0.2f)\" % (scores.mean(), scores.std() * 2))\n",
        "  accuracy = \"Accuracy: %0.2f (+/- %0.2f)\" % (scores.mean(), scores.std() * 2)\n",
        "\n",
        "  # Guardo metricas\n",
        "  metricasEjercicio2.append([metodo, rmse, R_squared, accuracy])  \n",
        "\n",
        "\n",
        "  cnf_matrix_SVM = metrics.confusion_matrix(Y_real, Y_calculado)\n",
        "\n",
        "  print('\\n\\nMatriz de Confusión')\n",
        "  print(cnf_matrix_SVM)\n",
        "\n",
        "\n",
        "  # Creamos la Matriz de Confusion:\n",
        "\n",
        "  class_names=[0,1] # name  of classes\n",
        "  \n",
        "  fig, ax = plt.subplots()\n",
        "  tick_marks = np.arange(len(class_names))\n",
        "  plt.xticks(tick_marks, class_names)\n",
        "  plt.yticks(tick_marks, class_names)\n",
        "\n",
        "  # create heatmap\n",
        "\n",
        "  sns.heatmap(pd.DataFrame(cnf_matrix_SVM), annot=True, cmap=\"gist_ncar\" ,fmt='g')\n",
        "  ax.xaxis.set_label_position(\"top\")\n",
        " \n",
        "\n",
        "  plt.tight_layout()\n",
        "  plt.title('Matriu de confusió', y=1.1)\n",
        "  plt.ylabel('Valor Actual')\n",
        "  plt.xlabel('Valor predit')\n",
        "  plt.Text(1.5,257.44,'Predicció')\n"
      ],
      "metadata": {
        "id": "bhbZ2yoQMc4v",
        "cellView": "form"
      },
      "execution_count": 81,
      "outputs": []
    },
    {
      "cell_type": "code",
      "source": [
        "#@title Identificació del Desbalanceig\n",
        "fig, ax = plt.subplots(figsize=(6, 4))\n",
        "sns.countplot(x='Tard3',data=df2, palette='hls')\n",
        "plt.show()"
      ],
      "metadata": {
        "colab": {
          "base_uri": "https://localhost:8080/",
          "height": 285
        },
        "id": "juwBZZTSMpNz",
        "outputId": "0f9b65d3-3830-4814-90bf-a57a3b7dcbd8",
        "cellView": "form"
      },
      "execution_count": 82,
      "outputs": [
        {
          "output_type": "display_data",
          "data": {
            "text/plain": [
              "<Figure size 432x288 with 1 Axes>"
            ],
            "image/png": "[encoded data removed]"
          },
          "metadata": {}
        }
      ]
    },
    {
      "cell_type": "code",
      "source": [
        "#@title Dades standarizatdes:\n",
        "\n",
        "#@title Estandarditzar les característiques eliminant la mitjana i escalant a la variància de la unitat.\n",
        "\n",
        "from sklearn_pandas import DataFrameMapper\n",
        "from sklearn.preprocessing import StandardScaler\n",
        "\n",
        "\n",
        "mapper = DataFrameMapper([(df2.columns, StandardScaler())])\n",
        "scaled_features = mapper.fit_transform(df2.copy(), 4)\n",
        "df2_StdScaler= pd.DataFrame(scaled_features, index=df2.index, columns=df2.columns)\n",
        "\n",
        "df2_StdScaler.head()\n",
        "\n",
        "datos_x= df2_StdScaler.loc[:, ['Puntualidad1', 'Puntualidad2',  \n",
        "        'E_Despegue','E_Despegue2','E_Despegue3',\n",
        "        'E_Duracion_Vuelo','E_Duracion_Vuelo2','E_Duracion_Vuelo3',]].values \n",
        "datos_y = df2.loc[:,['Tard3']]\n",
        "\n",
        "X_train, X_test, y_train, y_test = train_test_split(\n",
        "                                        datos_x,\n",
        "                                       datos_y,\n",
        "                                        train_size   = 0.8,\n",
        "                                        random_state = 1234,\n",
        "                                        shuffle      = True\n",
        "                                    )\n",
        "\n",
        "logit_model=sm.Logit( y_train, X_train)\n",
        "result=logit_model.fit()\n",
        "print(result.summary2())"
      ],
      "metadata": {
        "colab": {
          "base_uri": "https://localhost:8080/"
        },
        "id": "VcEBM5_hODuM",
        "outputId": "8d3b6c40-9c80-446c-cbf2-8754d5cd709b",
        "cellView": "form"
      },
      "execution_count": 83,
      "outputs": [
        {
          "output_type": "stream",
          "name": "stdout",
          "text": [
            "Warning: Maximum number of iterations has been exceeded.\n",
            "         Current function value: 0.640394\n",
            "         Iterations: 35\n",
            "                         Results: Logit\n",
            "=================================================================\n",
            "Model:              Logit            Pseudo R-squared: -1.542    \n",
            "Dependent Variable: Tard3            AIC:              10983.2350\n",
            "Date:               2022-10-13 08:05 BIC:              11025.5683\n",
            "No. Observations:   8566             Log-Likelihood:   -5485.6   \n",
            "Df Model:           5                LL-Null:          -2158.1   \n",
            "Df Residuals:       8560             LLR p-value:      1.0000    \n",
            "Converged:          0.0000           Scale:            1.0000    \n",
            "No. Iterations:     35.0000                                      \n",
            "-----------------------------------------------------------------\n",
            "    Coef.    Std.Err.      z    P>|z|      [0.025       0.975]   \n",
            "-----------------------------------------------------------------\n",
            "x1 -0.0017 1712852.5986 -0.0000 1.0000 -3357129.4057 3357129.4024\n",
            "x2 -0.0040          nan     nan    nan           nan          nan\n",
            "x3 -0.0060 1178154.9933 -0.0000 1.0000 -2309141.3610 2309141.3491\n",
            "x4 -0.0196          nan     nan    nan           nan          nan\n",
            "x5  0.6088       0.0272 22.3501 0.0000        0.5554       0.6622\n",
            "x6  0.0029 1450176.4491  0.0000 1.0000 -2842293.6086 2842293.6144\n",
            "x7  0.0149          nan     nan    nan           nan          nan\n",
            "x8  0.4669       0.0244 19.1508 0.0000        0.4191       0.5147\n",
            "=================================================================\n",
            "\n"
          ]
        },
        {
          "output_type": "stream",
          "name": "stderr",
          "text": [
            "/usr/local/lib/python3.7/dist-packages/statsmodels/base/model.py:568: ConvergenceWarning: Maximum Likelihood optimization failed to converge. Check mle_retvals\n",
            "  ConvergenceWarning)\n"
          ]
        }
      ]
    },
    {
      "cell_type": "code",
      "source": [
        "#@title Creació del model utilitzant matrius com a scikitlearn\n",
        "# ================================================= =============================\n",
        "# A la matriu de predictors cal afegir una columna de 1s per a l'intercept del model\n",
        "\n",
        "import statsmodels.api as sm\n",
        "\n",
        "# Divisió de les dades en train i test\n",
        "# ==============================================================================\n",
        "datos_x= df2.loc[:, ['Puntualidad1', 'Puntualidad2',  \n",
        "        'E_Despegue','E_Despegue2','E_Despegue3',\n",
        "        'E_Duracion_Vuelo','E_Duracion_Vuelo2','E_Duracion_Vuelo3',]].values \n",
        "datos_y = df2.loc[:,['Tard3']]\n",
        "X_train, X_test, y_train, y_test = train_test_split(\n",
        "                                        datos_x,\n",
        "                                       datos_y,\n",
        "                                        train_size   = 0.8,\n",
        "                                        random_state = 1234,\n",
        "                                        shuffle      = True\n",
        "                                    )\n",
        "logit_model=sm.Logit( y_train, X_train)\n",
        "result=logit_model.fit()\n",
        "print(result.summary2())"
      ],
      "metadata": {
        "colab": {
          "base_uri": "https://localhost:8080/"
        },
        "id": "PfEnJST_PbFm",
        "outputId": "ed933ddc-cb9a-4578-9518-70a5e4e030d1",
        "cellView": "form"
      },
      "execution_count": 84,
      "outputs": [
        {
          "output_type": "stream",
          "name": "stdout",
          "text": [
            "Warning: Maximum number of iterations has been exceeded.\n",
            "         Current function value: 0.194613\n",
            "         Iterations: 35\n"
          ]
        },
        {
          "output_type": "stream",
          "name": "stderr",
          "text": [
            "/usr/local/lib/python3.7/dist-packages/statsmodels/base/model.py:568: ConvergenceWarning: Maximum Likelihood optimization failed to converge. Check mle_retvals\n",
            "  ConvergenceWarning)\n"
          ]
        },
        {
          "output_type": "stream",
          "name": "stdout",
          "text": [
            "                          Results: Logit\n",
            "==================================================================\n",
            "Model:              Logit            Pseudo R-squared: 0.228      \n",
            "Dependent Variable: Tard3            AIC:              3346.1032  \n",
            "Date:               2022-10-13 08:05 BIC:              3388.4365  \n",
            "No. Observations:   8566             Log-Likelihood:   -1667.1    \n",
            "Df Model:           5                LL-Null:          -2158.1    \n",
            "Df Residuals:       8560             LLR p-value:      4.4908e-210\n",
            "Converged:          0.0000           Scale:            1.0000     \n",
            "No. Iterations:     35.0000                                       \n",
            "---------------------------------------------------------------------\n",
            "        Coef.     Std.Err.       z       P>|z|      [0.025     0.975]\n",
            "---------------------------------------------------------------------\n",
            "x1      0.0870         nan        nan       nan        nan        nan\n",
            "x2      0.0369      0.0022    17.0495    0.0000     0.0326     0.0411\n",
            "x3      0.0305         nan        nan       nan        nan        nan\n",
            "x4     -0.0628      0.0111    -5.6456    0.0000    -0.0846    -0.0410\n",
            "x5      0.2537      0.0078    32.4530    0.0000     0.2384     0.2691\n",
            "x6      0.0565         nan        nan       nan        nan        nan\n",
            "x7      0.0996     -0.0000       -inf    0.0000     0.0996     0.0996\n",
            "x8      0.2924      0.0084    34.8372    0.0000     0.2760     0.3089\n",
            "==================================================================\n",
            "\n"
          ]
        }
      ]
    },
    {
      "cell_type": "code",
      "source": [
        "#@title Importo train_test_split function per dividir les dades en Test i Train\n",
        "from sklearn.model_selection import train_test_split\n",
        "from sklearn.linear_model import LogisticRegression\n",
        "\n",
        "#@title Crec la columna X e Y: \n",
        "\n",
        "datos_x= df2.loc[:, ['Puntualidad1', 'Puntualidad2',  \n",
        "        'E_Despegue','E_Despegue2','E_Despegue3','E_Duracion_Vuelo','E_Duracion_Vuelo2','E_Duracion_Vuelo3',]].values\n",
        "\n",
        "datos_y = df2.loc[:,['Tard3']].values\n",
        "\n",
        "#Dividims el dataset en training set y test set\n",
        "X_train, X_test, y_train, y_test = train_test_split(datos_x, datos_y, test_size=0.3,random_state=109) # 70% training and 30% test\n",
        "\n",
        "\n",
        "# instanciem el model (fem servir els paràmetres predeterminats)\n",
        "logreg = LogisticRegression()\n",
        "\n",
        "# fit el model\n",
        "logreg.fit(X_train,y_train)\n",
        "\n",
        "#\n",
        "y_pred_RLogis=logreg.predict(X_test)\n",
        "\n",
        "scores_RL = cross_val_score(logreg, X_train, y_train, cv=5)\n",
        " \n",
        "print(\"Accuracy: %0.2f (+/- %0.2f)\" % (scores_RL.mean(), scores_RL.std() * 2))\n",
        "\n",
        "\n",
        "MetricasModelo( 'Regr.Log. des-Balancejada', y_test, y_pred_RLogis, scores_RL)"
      ],
      "metadata": {
        "colab": {
          "base_uri": "https://localhost:8080/",
          "height": 496
        },
        "id": "AA_n2hInQdfw",
        "outputId": "89b3d58d-b5c2-4251-c519-c0d275494887",
        "cellView": "form"
      },
      "execution_count": 85,
      "outputs": [
        {
          "output_type": "stream",
          "name": "stdout",
          "text": [
            "Accuracy: 1.00 (+/- 0.00)\n",
            "Metodo:  Regr.Log. des-Balancejada\n",
            "RMSE: 0.000000\n",
            "R-Squared:  1.0\n",
            "Accuracy: 1.00 (+/- 0.00)\n",
            "\n",
            "\n",
            "Matriz de Confusión\n",
            "[[2998    0]\n",
            " [   0  215]]\n"
          ]
        },
        {
          "output_type": "display_data",
          "data": {
            "text/plain": [
              "<Figure size 432x288 with 2 Axes>"
            ],
            "image/png": "[encoded data removed]"
          },
          "metadata": {}
        }
      ]
    },
    {
      "cell_type": "code",
      "source": [
        "#@title creem df2_sobremostrejat\n",
        "\n",
        "from sklearn.utils import resample\n",
        "\n",
        "\n",
        "# Classes majoritàries i minoritàries separades\n",
        "df_majority = df2[df2.Tard3==0]\n",
        "df_minority = df2[df2.Tard3==1]\n",
        " \n",
        "# Upsample minority class\n",
        "df_minority_sobremostrejat = resample(df_minority, \n",
        "                                 replace=True,     # sample with replacement\n",
        "                                 n_samples=8000,    # to match majority class\n",
        "                                 random_state=123) # reproducible results\n",
        " \n",
        "# Combina la classe majoritària amb la classe minoritària sobremostrejat\n",
        "df2_sobremostrejat = pd.concat([df_majority, df_minority_sobremostrejat])\n",
        "\n",
        "#Mostra els nous recomptes de classes\n",
        "# \n",
        "df2_sobremostrejat.Tard3.value_counts()"
      ],
      "metadata": {
        "colab": {
          "base_uri": "https://localhost:8080/"
        },
        "id": "8oQuX542Rzvw",
        "outputId": "a5803b53-9ccf-409a-803e-db6f6ac908b4",
        "cellView": "form"
      },
      "execution_count": 86,
      "outputs": [
        {
          "output_type": "execute_result",
          "data": {
            "text/plain": [
              "0    9950\n",
              "1    8000\n",
              "Name: Tard3, dtype: int64"
            ]
          },
          "metadata": {},
          "execution_count": 86
        }
      ]
    },
    {
      "cell_type": "code",
      "source": [
        "#@title df3= sobremostrejat\n",
        "df3= df2_sobremostrejat\n",
        "fig, ax = plt.subplots(figsize=(6, 4))\n",
        "sns.countplot(x='Tard3',data=df3, palette='hls')\n",
        "plt.show()"
      ],
      "metadata": {
        "colab": {
          "base_uri": "https://localhost:8080/",
          "height": 285
        },
        "id": "Jip4TPETR86A",
        "outputId": "e9800792-af3a-4647-92bb-76e5842ce4a0"
      },
      "execution_count": 87,
      "outputs": [
        {
          "output_type": "display_data",
          "data": {
            "text/plain": [
              "<Figure size 432x288 with 1 Axes>"
            ],
            "image/png": "[encoded data removed]"
          },
          "metadata": {}
        }
      ]
    },
    {
      "cell_type": "code",
      "source": [
        "#@title 05.-Logistic regresion reSAMPLE tot\n",
        " \n",
        "import statsmodels.api as sm\n",
        "\n",
        "# Divisió de les dades en train i test\n",
        "# ==============================================================================\n",
        "datos_x= df3.loc[:, ['Puntualidad1', 'Puntualidad2',  \n",
        "        'E_Despegue','E_Despegue2','E_Despegue3',\n",
        "        'E_Duracion_Vuelo','E_Duracion_Vuelo2','E_Duracion_Vuelo3',]].values \n",
        "datos_y = df3.loc[:,['Tard3']]\n",
        "X_train, X_test, y_train, y_test = train_test_split(\n",
        "                                        datos_x,\n",
        "                                       datos_y,\n",
        "                                        train_size   = 0.8,\n",
        "                                        random_state = 1234,\n",
        "                                        shuffle      = True\n",
        "                                    )\n",
        "logit_model=sm.Logit( y_train, X_train)\n",
        "result=logit_model.fit()\n",
        "print(result.summary2())\n",
        "\n",
        "\n",
        "y_pred = result.predict(X_test)\n",
        "prediction = list(map(round, y_pred))\n",
        "prediction\n",
        "\n",
        "#print(Counter(y_over))\n",
        "\n",
        "\n",
        "print('classification_report')\n",
        "print(classification_report(y_test, prediction))\n",
        "print('confusion_matrix')\n",
        "\n",
        "cf_matrix=plot_confusion_matrix(confusion_matrix(y_test, prediction), cmap='jet')\n",
        "\n",
        "precision=round(accuracy_score(y_test, prediction),2)\n",
        "accuracy.append(['8_Variables_Balanceado_TODO', precision])\n",
        "\n",
        "print('Accuracy: {:.2f}'.format(accuracy_score(y_test, prediction)))\n",
        "print('Error rate: {:.2f}'.format(1 - accuracy_score(y_test, prediction)))\n",
        "print('Precision: {:.2f}'.format(precision_score(y_test, prediction)))\n",
        "print('Recall: {:.2f}'.format(recall_score(y_test, prediction)))\n",
        "print('f1_score: {:.2f}'.format(f1_score(y_test, prediction)))\n",
        "\n",
        "\n",
        "fig, ax = plt.subplots(figsize=(6, 4))\n",
        "sns.countplot(x='Tard3',data=y_train, palette='hls')\n",
        "plt.show()"
      ],
      "metadata": {
        "colab": {
          "base_uri": "https://localhost:8080/",
          "height": 1000
        },
        "id": "KseOSJujSJdI",
        "outputId": "1da1e32d-e5b6-43eb-e5db-ae579bbd9fdb",
        "cellView": "form"
      },
      "execution_count": 88,
      "outputs": [
        {
          "output_type": "stream",
          "name": "stdout",
          "text": [
            "Warning: Maximum number of iterations has been exceeded.\n",
            "         Current function value: 0.146195\n",
            "         Iterations: 35\n",
            "                         Results: Logit\n",
            "================================================================\n",
            "Model:              Logit            Pseudo R-squared: 0.787    \n",
            "Dependent Variable: Tard3            AIC:              4210.7180\n",
            "Date:               2022-10-13 08:05 BIC:              4256.1512\n",
            "No. Observations:   14360            Log-Likelihood:   -2099.4  \n",
            "Df Model:           5                LL-Null:          -9865.6  \n",
            "Df Residuals:       14354            LLR p-value:      0.0000   \n",
            "Converged:          0.0000           Scale:            1.0000   \n",
            "No. Iterations:     35.0000                                     \n",
            "------------------------------------------------------------------\n",
            "          Coef.    Std.Err.      z      P>|z|     [0.025    0.975]\n",
            "------------------------------------------------------------------\n",
            "x1        0.0661        nan       nan      nan       nan       nan\n",
            "x2        0.0273        nan       nan      nan       nan       nan\n",
            "x3        0.0230        nan       nan      nan       nan       nan\n",
            "x4       -0.0491     0.0052   -9.5161   0.0000   -0.0592   -0.0390\n",
            "x5        0.3684     0.0075   49.1283   0.0000    0.3537    0.3831\n",
            "x6        0.0432        nan       nan      nan       nan       nan\n",
            "x7        0.0765        nan       nan      nan       nan       nan\n",
            "x8        0.3760     0.0081   46.5378   0.0000    0.3602    0.3919\n",
            "================================================================\n",
            "\n",
            "classification_report\n",
            "              precision    recall  f1-score   support\n",
            "\n",
            "           0       1.00      0.89      0.94      1976\n",
            "           1       0.88      1.00      0.94      1614\n",
            "\n",
            "    accuracy                           0.94      3590\n",
            "   macro avg       0.94      0.94      0.94      3590\n",
            "weighted avg       0.95      0.94      0.94      3590\n",
            "\n",
            "confusion_matrix\n",
            "Accuracy: 0.94\n",
            "Error rate: 0.06\n",
            "Precision: 0.88\n",
            "Recall: 1.00\n",
            "f1_score: 0.94\n"
          ]
        },
        {
          "output_type": "stream",
          "name": "stderr",
          "text": [
            "/usr/local/lib/python3.7/dist-packages/statsmodels/base/model.py:568: ConvergenceWarning: Maximum Likelihood optimization failed to converge. Check mle_retvals\n",
            "  ConvergenceWarning)\n"
          ]
        },
        {
          "output_type": "display_data",
          "data": {
            "text/plain": [
              "<Figure size 432x288 with 1 Axes>"
            ],
            "image/png": "[encoded data removed]"
          },
          "metadata": {}
        },
        {
          "output_type": "display_data",
          "data": {
            "text/plain": [
              "<Figure size 432x288 with 1 Axes>"
            ],
            "image/png": "[encoded data removed]"
          },
          "metadata": {}
        }
      ]
    },
    {
      "cell_type": "code",
      "source": [
        "#@title Identificar parametres importants.\n",
        "print(result.params)\n",
        "parametros = pd.DataFrame(result.params)\n",
        "\n",
        "parametros.columns=['Coeficiente']\n",
        "parametros = parametros.rename_axis('Variable').reset_index()\n",
        "parametros\n",
        "sns.barplot(y='Variable', x=\"Coeficiente\", data=parametros)"
      ],
      "metadata": {
        "colab": {
          "base_uri": "https://localhost:8080/",
          "height": 458
        },
        "cellView": "form",
        "id": "76Ejy0tVMgfK",
        "outputId": "233ecdb2-9424-4a7f-dae7-2b60ea0a0adf"
      },
      "execution_count": 89,
      "outputs": [
        {
          "output_type": "stream",
          "name": "stdout",
          "text": [
            "x1    0.066129\n",
            "x2    0.027339\n",
            "x3    0.022951\n",
            "x4   -0.049130\n",
            "x5    0.368434\n",
            "x6    0.043182\n",
            "x7    0.076474\n",
            "x8    0.376047\n",
            "dtype: float64\n"
          ]
        },
        {
          "output_type": "execute_result",
          "data": {
            "text/plain": [
              "<matplotlib.axes._subplots.AxesSubplot at 0x7f58e163ced0>"
            ]
          },
          "metadata": {},
          "execution_count": 89
        },
        {
          "output_type": "display_data",
          "data": {
            "text/plain": [
              "<Figure size 432x288 with 1 Axes>"
            ],
            "image/png": "[encoded data removed]"
          },
          "metadata": {}
        }
      ]
    },
    {
      "cell_type": "code",
      "source": [
        "#@title 07.- Model balancejat \"totes les dades\", std, però només 2 variables importants:\n",
        "\n",
        "exog_names = ['E_Despegue3','E_Duracion_Vuelo3']\n",
        "\n",
        "mapper = DataFrameMapper([(exog_names, StandardScaler())])\n",
        "scaled_features = mapper.fit_transform(df3.copy(), 4)\n",
        "datos_x= pd.DataFrame(scaled_features, index=df3.index, columns=exog_names)\n",
        " \n",
        "datos_y = df3.loc[:,['Tard3']]\n",
        "X_train, X_test, y_train, y_test = train_test_split(\n",
        "                                        datos_x,\n",
        "                                       datos_y,\n",
        "                                        train_size   = 0.8,\n",
        "                                        random_state = 1234,\n",
        "                                        shuffle      = True\n",
        "                                    )\n",
        "logit_model=sm.Logit( y_train, X_train)\n",
        "result=logit_model.fit()\n",
        "print(result.summary2())\n",
        "\n",
        "y_pred = result.predict(X_test)\n",
        "prediction = list(map(round, y_pred))\n",
        "prediction\n",
        "\n",
        "print('classification_report')\n",
        "print(classification_report(y_test, prediction))\n",
        "print('confusion_matrix')\n",
        "\n",
        "cf_matrix=plot_confusion_matrix(confusion_matrix(y_test, prediction), cmap='cool')\n",
        "\n",
        "precision=round(accuracy_score(y_test, prediction),2)\n",
        "accuracy.append(['2_Variables_Balanceado_TODO_antes', precision])\n",
        "\n",
        "print('Accuracy: {:.2f}'.format(accuracy_score(y_test, prediction)))\n",
        "print('Error rate: {:.2f}'.format(1 - accuracy_score(y_test, prediction)))\n",
        "print('Precision: {:.2f}'.format(precision_score(y_test, prediction)))\n",
        "print('Recall: {:.2f}'.format(recall_score(y_test, prediction)))\n",
        "print('f1_score: {:.2f}'.format(f1_score(y_test, prediction)))\n",
        "\n",
        "\n",
        "fig, ax = plt.subplots(figsize=(6, 4))\n",
        "sns.countplot(x='Tard3',data=y_train, palette='hls')\n",
        "plt.show()"
      ],
      "metadata": {
        "colab": {
          "base_uri": "https://localhost:8080/",
          "height": 1000
        },
        "id": "ntN3xHs6Mr5L",
        "outputId": "dab3a653-233f-46ad-f4a6-9edc3385a43e"
      },
      "execution_count": 90,
      "outputs": [
        {
          "output_type": "stream",
          "name": "stdout",
          "text": [
            "Optimization terminated successfully.\n",
            "         Current function value: 0.134800\n",
            "         Iterations 9\n",
            "                         Results: Logit\n",
            "================================================================\n",
            "Model:              Logit            Pseudo R-squared: 0.804    \n",
            "Dependent Variable: Tard3            AIC:              3875.4456\n",
            "Date:               2022-10-13 08:05 BIC:              3890.5900\n",
            "No. Observations:   14360            Log-Likelihood:   -1935.7  \n",
            "Df Model:           1                LL-Null:          -9865.6  \n",
            "Df Residuals:       14358            LLR p-value:      0.0000   \n",
            "Converged:          1.0000           Scale:            1.0000   \n",
            "No. Iterations:     9.0000                                      \n",
            "----------------------------------------------------------------\n",
            "                    Coef.  Std.Err.    z    P>|z|  [0.025 0.975]\n",
            "----------------------------------------------------------------\n",
            "E_Despegue3         4.3323   0.0880 49.2224 0.0000 4.1598 4.5048\n",
            "E_Duracion_Vuelo3   3.6735   0.0774 47.4818 0.0000 3.5219 3.8251\n",
            "================================================================\n",
            "\n",
            "classification_report\n",
            "              precision    recall  f1-score   support\n",
            "\n",
            "           0       1.00      0.89      0.94      1976\n",
            "           1       0.88      1.00      0.94      1614\n",
            "\n",
            "    accuracy                           0.94      3590\n",
            "   macro avg       0.94      0.95      0.94      3590\n",
            "weighted avg       0.95      0.94      0.94      3590\n",
            "\n",
            "confusion_matrix\n",
            "Accuracy: 0.94\n",
            "Error rate: 0.06\n",
            "Precision: 0.88\n",
            "Recall: 1.00\n",
            "f1_score: 0.94\n"
          ]
        },
        {
          "output_type": "display_data",
          "data": {
            "text/plain": [
              "<Figure size 432x288 with 1 Axes>"
            ],
            "image/png": "[encoded data removed]"
          },
          "metadata": {}
        },
        {
          "output_type": "display_data",
          "data": {
            "text/plain": [
              "<Figure size 432x288 with 1 Axes>"
            ],
            "image/png": "[encoded data removed]"
          },
          "metadata": {}
        }
      ]
    },
    {
      "cell_type": "markdown",
      "source": [
        "https://vitalflux.com/handling-class-imbalance-sklearn-resample-python/"
      ],
      "metadata": {
        "id": "3BKt1x-8q4TZ"
      }
    },
    {
      "cell_type": "markdown",
      "source": [
        "\n",
        "https://www.kaggle.com/code/eikedehling/exploring-class-imbalance-resampling-and-weights/notebook"
      ],
      "metadata": {
        "id": "-XsMnWqnMfYk"
      }
    },
    {
      "cell_type": "code",
      "source": [
        "\n",
        "#@title Desbalancejat, LR\n",
        "# ==============================================================================\n",
        "datos_x= df2.loc[:, ['Puntualidad1', 'Puntualidad2',  \n",
        "        'E_Despegue','E_Despegue2','E_Despegue3',\n",
        "        'E_Duracion_Vuelo','E_Duracion_Vuelo2','E_Duracion_Vuelo3',]].values \n",
        "datos_y = df2.loc[:,['Tard3']]\n",
        "X_train, X_test, y_train, y_test = train_test_split(\n",
        "                                        datos_x,\n",
        "                                       datos_y,\n",
        "                                        train_size   = 0.8,\n",
        "                                        random_state = 1234,\n",
        "                                        shuffle      = True\n",
        "                                    )\n",
        "\n",
        "lr = LogisticRegression()\n",
        "\n",
        "# Fit..\n",
        "lr.fit(X_train, y_train)\n",
        "\n",
        "# Predict..\n",
        "y_pred = lr.predict(X_test)\n",
        "\n",
        "# Evaluate the model\n",
        "print(classification_report(y_test, y_pred))\n",
        "plot_confusion_matrix(confusion_matrix(y_test, y_pred), cmap='cool')"
      ],
      "metadata": {
        "colab": {
          "base_uri": "https://localhost:8080/",
          "height": 476
        },
        "id": "jshgUKO96K3n",
        "outputId": "987edfc6-efad-4477-b5ba-95c7771f5416",
        "cellView": "form"
      },
      "execution_count": 91,
      "outputs": [
        {
          "output_type": "stream",
          "name": "stdout",
          "text": [
            "              precision    recall  f1-score   support\n",
            "\n",
            "           0       1.00      1.00      1.00      1978\n",
            "           1       1.00      1.00      1.00       164\n",
            "\n",
            "    accuracy                           1.00      2142\n",
            "   macro avg       1.00      1.00      1.00      2142\n",
            "weighted avg       1.00      1.00      1.00      2142\n",
            "\n"
          ]
        },
        {
          "output_type": "execute_result",
          "data": {
            "text/plain": [
              "(<Figure size 432x288 with 1 Axes>,\n",
              " <matplotlib.axes._subplots.AxesSubplot at 0x7f58e1487110>)"
            ]
          },
          "metadata": {},
          "execution_count": 91
        },
        {
          "output_type": "display_data",
          "data": {
            "text/plain": [
              "<Figure size 432x288 with 1 Axes>"
            ],
            "image/png": "[encoded data removed]"
          },
          "metadata": {}
        }
      ]
    },
    {
      "cell_type": "code",
      "source": [
        "#@title Scaling..\n",
        "datos_x= df2.loc[:, ['Puntualidad1', 'Puntualidad2',  \n",
        "        'E_Despegue','E_Despegue2','E_Despegue3',\n",
        "        'E_Duracion_Vuelo','E_Duracion_Vuelo2','E_Duracion_Vuelo3',]].values \n",
        "y = df2.loc[:,['Tard3']]\n",
        "\n",
        "scaler = RobustScaler()\n",
        "X = scaler.fit_transform(datos_x)\n",
        "\n",
        "# Split into train/test set\n",
        "X_train, X_test, y_train, y_test = train_test_split(X, y, test_size=0.2)\n",
        "\n",
        "\n",
        "X_train, X_test, y_train, y_test = train_test_split(\n",
        "                                        datos_x,\n",
        "                                       datos_y,\n",
        "                                        train_size   = 0.8,\n",
        "                                        random_state = 1234,\n",
        "                                        shuffle      = True\n",
        "                                    )\n",
        "\n",
        "lr = LogisticRegression()\n",
        "\n",
        "# Fit..\n",
        "lr.fit(X_train, y_train)\n",
        "\n",
        "# Predict..\n",
        "y_pred = lr.predict(X_test)\n",
        "\n",
        "# Evaluate the model\n",
        "print(classification_report(y_test, y_pred))\n",
        "plot_confusion_matrix(confusion_matrix(y_test, y_pred))\n",
        "\n"
      ],
      "metadata": {
        "colab": {
          "base_uri": "https://localhost:8080/",
          "height": 476
        },
        "id": "o2gbHY548x0W",
        "outputId": "381f08f5-1f9a-4283-cad8-22e3a23172df"
      },
      "execution_count": 92,
      "outputs": [
        {
          "output_type": "stream",
          "name": "stdout",
          "text": [
            "              precision    recall  f1-score   support\n",
            "\n",
            "           0       1.00      1.00      1.00      1978\n",
            "           1       1.00      1.00      1.00       164\n",
            "\n",
            "    accuracy                           1.00      2142\n",
            "   macro avg       1.00      1.00      1.00      2142\n",
            "weighted avg       1.00      1.00      1.00      2142\n",
            "\n"
          ]
        },
        {
          "output_type": "execute_result",
          "data": {
            "text/plain": [
              "(<Figure size 432x288 with 1 Axes>,\n",
              " <matplotlib.axes._subplots.AxesSubplot at 0x7f58e1373ed0>)"
            ]
          },
          "metadata": {},
          "execution_count": 92
        },
        {
          "output_type": "display_data",
          "data": {
            "text/plain": [
              "<Figure size 432x288 with 1 Axes>"
            ],
            "image/png": "[encoded data removed]"
          },
          "metadata": {}
        }
      ]
    },
    {
      "cell_type": "code",
      "source": [
        "#@title Metodo de balanceig por \"minority\"\n",
        "# example of random oversampling to balance the class distribution\n",
        "from collections import Counter\n",
        "from sklearn.datasets import make_classification\n",
        "from imblearn.over_sampling import RandomOverSampler\n",
        "\n",
        "# define oversampling strategy\n",
        "oversample = RandomOverSampler(sampling_strategy='minority')\n",
        "# fit and apply the transform\n",
        "X_over, y_over = oversample.fit_resample(X, y)\n",
        "# summarize class distribution\n",
        "print(Counter(y_over))\n",
        "y_over\n",
        "\n",
        "#df3= df2_sobremostrejat\n",
        "fig, ax = plt.subplots(figsize=(6, 4))\n",
        "sns.countplot(x='Tard3',data=y_over, palette='hls')\n",
        "plt.show()"
      ],
      "metadata": {
        "colab": {
          "base_uri": "https://localhost:8080/",
          "height": 302
        },
        "id": "g_tw_xAq80y_",
        "outputId": "727db95c-f391-4dda-d789-812f0d6bea62",
        "cellView": "form"
      },
      "execution_count": 93,
      "outputs": [
        {
          "output_type": "stream",
          "name": "stdout",
          "text": [
            "Counter({'Tard3': 1})\n"
          ]
        },
        {
          "output_type": "display_data",
          "data": {
            "text/plain": [
              "<Figure size 432x288 with 1 Axes>"
            ],
            "image/png": "[encoded data removed]"
          },
          "metadata": {}
        }
      ]
    },
    {
      "cell_type": "code",
      "source": [
        "#@title 06 Balancejan despres el X_train i el y_train\n",
        "\n",
        "exog_names = ['Puntualidad1', 'Puntualidad2',  \n",
        "        'E_Despegue','E_Despegue2','E_Despegue3',\n",
        "        'E_Duracion_Vuelo','E_Duracion_Vuelo2','E_Duracion_Vuelo3',]\n",
        "\n",
        "mapper = DataFrameMapper([(exog_names, StandardScaler())])\n",
        "scaled_features = mapper.fit_transform(df2.copy(), 4)\n",
        "datos_x= pd.DataFrame(scaled_features, index=df2.index, columns=exog_names)\n",
        "\n",
        "#datos_x= df2.loc[:, exog_names].values \n",
        "\n",
        "datos_y = df2.loc[:,['Tard3']]\n",
        "X_train, X_test, y_train, y_test = train_test_split(\n",
        "                                        datos_x,\n",
        "                                       datos_y,\n",
        "                                        train_size   = 0.8,\n",
        "                                        random_state = 1234,\n",
        "                                        shuffle      = True\n",
        "                                    )\n",
        "\n",
        "oversample = RandomOverSampler(sampling_strategy='minority')\n",
        "# fit and apply the transform\n",
        "X_over, y_over = oversample.fit_resample(X_train, y_train)\n",
        "\n",
        "logit_model=sm.Logit( y_over, X_over)\n",
        "result=logit_model.fit()\n",
        "print(result.summary2())\n",
        "print(result.summary())"
      ],
      "metadata": {
        "colab": {
          "base_uri": "https://localhost:8080/"
        },
        "id": "MSoI-jWlrvWz",
        "outputId": "c74e914d-ac35-48eb-ccc7-1c0c1b5d662f"
      },
      "execution_count": 94,
      "outputs": [
        {
          "output_type": "stream",
          "name": "stdout",
          "text": [
            "Warning: Maximum number of iterations has been exceeded.\n",
            "         Current function value: 0.386345\n",
            "         Iterations: 35\n",
            "                         Results: Logit\n",
            "=================================================================\n",
            "Model:              Logit            Pseudo R-squared: 0.443     \n",
            "Dependent Variable: Tard3            AIC:              12331.7587\n",
            "Date:               2022-10-13 08:05 BIC:              12377.8198\n",
            "No. Observations:   15944            Log-Likelihood:   -6159.9   \n",
            "Df Model:           5                LL-Null:          -11052.   \n",
            "Df Residuals:       15938            LLR p-value:      0.0000    \n",
            "Converged:          0.0000           Scale:            1.0000    \n",
            "No. Iterations:     35.0000                                      \n",
            "-----------------------------------------------------------------\n",
            "                     Coef.  Std.Err.    z    P>|z|  [0.025 0.975]\n",
            "-----------------------------------------------------------------\n",
            "Puntualidad1        -0.0072      nan     nan    nan    nan    nan\n",
            "Puntualidad2        -0.0010      nan     nan    nan    nan    nan\n",
            "E_Despegue          -0.0138      nan     nan    nan    nan    nan\n",
            "E_Despegue2         -0.0196      nan     nan    nan    nan    nan\n",
            "E_Despegue3          1.1246   0.0231 48.6877 0.0000 1.0793 1.1698\n",
            "E_Duracion_Vuelo     0.0027      nan     nan    nan    nan    nan\n",
            "E_Duracion_Vuelo2    0.0186      nan     nan    nan    nan    nan\n",
            "E_Duracion_Vuelo3    0.9487   0.0203 46.7125 0.0000 0.9089 0.9885\n",
            "=================================================================\n",
            "\n",
            "                           Logit Regression Results                           \n",
            "==============================================================================\n",
            "Dep. Variable:                  Tard3   No. Observations:                15944\n",
            "Model:                          Logit   Df Residuals:                    15938\n",
            "Method:                           MLE   Df Model:                            5\n",
            "Date:                Thu, 13 Oct 2022   Pseudo R-squ.:                  0.4426\n",
            "Time:                        08:05:24   Log-Likelihood:                -6159.9\n",
            "converged:                      False   LL-Null:                       -11052.\n",
            "Covariance Type:            nonrobust   LLR p-value:                     0.000\n",
            "=====================================================================================\n",
            "                        coef    std err          z      P>|z|      [0.025      0.975]\n",
            "-------------------------------------------------------------------------------------\n",
            "Puntualidad1         -0.0072        nan        nan        nan         nan         nan\n",
            "Puntualidad2         -0.0010        nan        nan        nan         nan         nan\n",
            "E_Despegue           -0.0138        nan        nan        nan         nan         nan\n",
            "E_Despegue2          -0.0196        nan        nan        nan         nan         nan\n",
            "E_Despegue3           1.1246      0.023     48.688      0.000       1.079       1.170\n",
            "E_Duracion_Vuelo      0.0027        nan        nan        nan         nan         nan\n",
            "E_Duracion_Vuelo2     0.0186        nan        nan        nan         nan         nan\n",
            "E_Duracion_Vuelo3     0.9487      0.020     46.712      0.000       0.909       0.989\n",
            "=====================================================================================\n"
          ]
        },
        {
          "output_type": "stream",
          "name": "stderr",
          "text": [
            "/usr/local/lib/python3.7/dist-packages/statsmodels/base/model.py:568: ConvergenceWarning: Maximum Likelihood optimization failed to converge. Check mle_retvals\n",
            "  ConvergenceWarning)\n"
          ]
        }
      ]
    },
    {
      "cell_type": "code",
      "source": [
        "\n",
        "\n",
        "sns.set(style=\"white\")\n",
        "sns.set(style=\"whitegrid\", color_codes=True)\n",
        "\n",
        "prediction = list(map(round, y_pred))\n",
        "prediction\n",
        "print(classification_report(y_test, prediction))\n",
        "plot_confusion_matrix(confusion_matrix(y_test, prediction))"
      ],
      "metadata": {
        "colab": {
          "base_uri": "https://localhost:8080/",
          "height": 476
        },
        "id": "uLnu5npdI1_V",
        "outputId": "1b647825-a34e-4ff1-e1e9-7952adde4d59"
      },
      "execution_count": 95,
      "outputs": [
        {
          "output_type": "stream",
          "name": "stdout",
          "text": [
            "              precision    recall  f1-score   support\n",
            "\n",
            "           0       1.00      1.00      1.00      1978\n",
            "           1       1.00      1.00      1.00       164\n",
            "\n",
            "    accuracy                           1.00      2142\n",
            "   macro avg       1.00      1.00      1.00      2142\n",
            "weighted avg       1.00      1.00      1.00      2142\n",
            "\n"
          ]
        },
        {
          "output_type": "execute_result",
          "data": {
            "text/plain": [
              "(<Figure size 432x288 with 1 Axes>,\n",
              " <matplotlib.axes._subplots.AxesSubplot at 0x7f58e14291d0>)"
            ]
          },
          "metadata": {},
          "execution_count": 95
        },
        {
          "output_type": "display_data",
          "data": {
            "text/plain": [
              "<Figure size 432x288 with 1 Axes>"
            ],
            "image/png": "[encoded data removed]"
          },
          "metadata": {}
        }
      ]
    },
    {
      "cell_type": "markdown",
      "source": [
        "https://michael-fuchs-python.netlify.app/2019/10/31/introduction-to-logistic-regression/"
      ],
      "metadata": {
        "id": "h6qjQL8QKGAc"
      }
    },
    {
      "cell_type": "code",
      "source": [
        "print('Accuracy: {:.2f}'.format(accuracy_score(y_test, prediction)))\n",
        "print('Error rate: {:.2f}'.format(1 - accuracy_score(y_test, prediction)))\n",
        "print('Precision: {:.2f}'.format(precision_score(y_test, prediction)))\n",
        "print('Recall: {:.2f}'.format(recall_score(y_test, prediction)))\n",
        "print('f1_score: {:.2f}'.format(f1_score(y_test, prediction)))"
      ],
      "metadata": {
        "colab": {
          "base_uri": "https://localhost:8080/"
        },
        "id": "q3ybkW7lK8SY",
        "outputId": "c0ef07a0-dc0d-46ea-a595-2e1931efe957"
      },
      "execution_count": 96,
      "outputs": [
        {
          "output_type": "stream",
          "name": "stdout",
          "text": [
            "Accuracy: 1.00\n",
            "Error rate: 0.00\n",
            "Precision: 1.00\n",
            "Recall: 1.00\n",
            "f1_score: 1.00\n"
          ]
        }
      ]
    },
    {
      "cell_type": "markdown",
      "source": [
        "**Accuracy** is the fraction of predictions our model got right.\n",
        "\n",
        "**Error rate** is the fraction of predictions our model got wrong.\n",
        "\n",
        "The **precision** is intuitively the ability of the classifier to not label a sample as positive if it is negative.\n",
        "\n",
        "**The recall** is intuitively the ability of the classifier to find all the positive samples.\n",
        "\n",
        "The **F1 score** can be interpreted as a weighted average of the precision and recall, where an F1 score reaches its best value at 1 and worst score at 0."
      ],
      "metadata": {
        "id": "ITB2GiWpLad3"
      }
    },
    {
      "cell_type": "code",
      "source": [
        "#@title Identificar parametres importants.\n",
        "print(result.params)\n",
        "parametros = pd.DataFrame(result.params)\n",
        "\n",
        "parametros.columns=['Coeficiente']\n",
        "parametros = parametros.rename_axis('Variable').reset_index()\n",
        "parametros\n",
        "sns.barplot(y='Variable', x=\"Coeficiente\", data=parametros)"
      ],
      "metadata": {
        "colab": {
          "base_uri": "https://localhost:8080/",
          "height": 458
        },
        "id": "-HvRMbbq40pf",
        "outputId": "5918a8a7-9c8b-4256-f290-3c01b64e3df2"
      },
      "execution_count": 97,
      "outputs": [
        {
          "output_type": "stream",
          "name": "stdout",
          "text": [
            "Puntualidad1        -0.007250\n",
            "Puntualidad2        -0.001047\n",
            "E_Despegue          -0.013813\n",
            "E_Despegue2         -0.019594\n",
            "E_Despegue3          1.124564\n",
            "E_Duracion_Vuelo     0.002665\n",
            "E_Duracion_Vuelo2    0.018632\n",
            "E_Duracion_Vuelo3    0.948724\n",
            "dtype: float64\n"
          ]
        },
        {
          "output_type": "execute_result",
          "data": {
            "text/plain": [
              "<matplotlib.axes._subplots.AxesSubplot at 0x7f58e15f4a50>"
            ]
          },
          "metadata": {},
          "execution_count": 97
        },
        {
          "output_type": "display_data",
          "data": {
            "text/plain": [
              "<Figure size 432x288 with 1 Axes>"
            ],
            "image/png": "[encoded data removed]"
          },
          "metadata": {}
        }
      ]
    },
    {
      "cell_type": "code",
      "source": [
        "#@title 01.- Logistic Regression with the statsmodel library. Umbanaced\n",
        "\n",
        "\n",
        "df2=pd.DataFrame(df2)\n",
        "datos_x= df2.loc[:, ['Puntualidad1', 'Puntualidad2',  \n",
        "        'E_Despegue','E_Despegue2','E_Despegue3',\n",
        "        'E_Duracion_Vuelo','E_Duracion_Vuelo2','E_Duracion_Vuelo3',]].values \n",
        "\n",
        " \n",
        "datos_y = df2.loc[:,['Tard3']]\n",
        "X_train, X_test, y_train, y_test = train_test_split(\n",
        "                                        datos_x,\n",
        "                                       datos_y,\n",
        "                                        train_size   = 0.8,\n",
        "                                        random_state = 1234,\n",
        "                                        shuffle      = True\n",
        "                                    )\n",
        "\n",
        "\n",
        "model = sm.Logit(y_train, X_train)\n",
        "\n",
        "model.exog_names[:] = ['Puntualidad1', 'Puntualidad2',  \n",
        "        'E_Despegue','E_Despegue2','E_Despegue3',\n",
        "        'E_Duracion_Vuelo','E_Duracion_Vuelo2','E_Duracion_Vuelo3',]\n",
        " \n",
        "endog_name = model.endog_names\n",
        "\n",
        "\n",
        "model_fit = model.fit()\n",
        "\n",
        "print(model_fit.summary())\n",
        "\n",
        "fig, ax = plt.subplots(figsize=(6, 4))\n",
        "sns.countplot(x='Tard3',data=y_train, palette='hls')\n",
        "plt.show()\n",
        "\n",
        "\n",
        "# Predict..\n",
        "y_pred = lr.predict(X_test)\n",
        "\n",
        "prediction = list(map(round, y_pred))\n",
        "prediction\n",
        "print(classification_report(y_test, prediction))\n",
        "plot_confusion_matrix(confusion_matrix(y_test, prediction))\n",
        "\n",
        "precision=round(accuracy_score(y_test, prediction),2)\n",
        "accuracy.append(['8_Variables_Unbalance', precision])\n",
        "\n",
        "print('Accuracy: {:.2f}'.format(accuracy_score(y_test, prediction)))\n",
        "print('Error rate: {:.2f}'.format(1 - accuracy_score(y_test, prediction)))\n",
        "print('Precision: {:.2f}'.format(precision_score(y_test, prediction)))\n",
        "print('Recall: {:.2f}'.format(recall_score(y_test, prediction)))\n",
        "print('f1_score: {:.2f}'.format(f1_score(y_test, prediction)))"
      ],
      "metadata": {
        "colab": {
          "base_uri": "https://localhost:8080/",
          "height": 1000
        },
        "id": "zmfK8UYzOkmb",
        "outputId": "4ead320d-e381-4e4f-93b5-646546fe5a5a",
        "cellView": "form"
      },
      "execution_count": 98,
      "outputs": [
        {
          "output_type": "stream",
          "name": "stdout",
          "text": [
            "Warning: Maximum number of iterations has been exceeded.\n",
            "         Current function value: 0.194613\n",
            "         Iterations: 35\n",
            "                           Logit Regression Results                           \n",
            "==============================================================================\n",
            "Dep. Variable:                  Tard3   No. Observations:                 8566\n",
            "Model:                          Logit   Df Residuals:                     8560\n",
            "Method:                           MLE   Df Model:                            5\n",
            "Date:                Thu, 13 Oct 2022   Pseudo R-squ.:                  0.2275\n",
            "Time:                        08:05:25   Log-Likelihood:                -1667.1\n",
            "converged:                      False   LL-Null:                       -2158.1\n",
            "Covariance Type:            nonrobust   LLR p-value:                4.491e-210\n",
            "=====================================================================================\n",
            "                        coef    std err          z      P>|z|      [0.025      0.975]\n",
            "-------------------------------------------------------------------------------------\n",
            "Puntualidad1          0.0870        nan        nan        nan         nan         nan\n",
            "Puntualidad2          0.0369      0.002     17.050      0.000       0.033       0.041\n",
            "E_Despegue            0.0305        nan        nan        nan         nan         nan\n",
            "E_Despegue2          -0.0628      0.011     -5.646      0.000      -0.085      -0.041\n",
            "E_Despegue3           0.2537      0.008     32.453      0.000       0.238       0.269\n",
            "E_Duracion_Vuelo      0.0565        nan        nan        nan         nan         nan\n",
            "E_Duracion_Vuelo2     0.0996         -0       -inf      0.000       0.100       0.100\n",
            "E_Duracion_Vuelo3     0.2924      0.008     34.837      0.000       0.276       0.309\n",
            "=====================================================================================\n"
          ]
        },
        {
          "output_type": "stream",
          "name": "stderr",
          "text": [
            "/usr/local/lib/python3.7/dist-packages/statsmodels/base/model.py:568: ConvergenceWarning: Maximum Likelihood optimization failed to converge. Check mle_retvals\n",
            "  ConvergenceWarning)\n"
          ]
        },
        {
          "output_type": "display_data",
          "data": {
            "text/plain": [
              "<Figure size 432x288 with 1 Axes>"
            ],
            "image/png": "[encoded data removed]"
          },
          "metadata": {}
        },
        {
          "output_type": "stream",
          "name": "stdout",
          "text": [
            "              precision    recall  f1-score   support\n",
            "\n",
            "           0       1.00      1.00      1.00      1978\n",
            "           1       1.00      1.00      1.00       164\n",
            "\n",
            "    accuracy                           1.00      2142\n",
            "   macro avg       1.00      1.00      1.00      2142\n",
            "weighted avg       1.00      1.00      1.00      2142\n",
            "\n",
            "Accuracy: 1.00\n",
            "Error rate: 0.00\n",
            "Precision: 1.00\n",
            "Recall: 1.00\n",
            "f1_score: 1.00\n"
          ]
        },
        {
          "output_type": "display_data",
          "data": {
            "text/plain": [
              "<Figure size 432x288 with 1 Axes>"
            ],
            "image/png": "[encoded data removed]"
          },
          "metadata": {}
        }
      ]
    },
    {
      "cell_type": "code",
      "source": [
        "print(model_fit.params)\n",
        "parametros = pd.DataFrame(model_fit.params)\n",
        "\n",
        "parametros.columns=['Coeficiente']\n",
        "parametros = parametros.rename_axis('Variable').reset_index()\n",
        "parametros\n",
        "sns.barplot(y='Variable', x=\"Coeficiente\", data=parametros)"
      ],
      "metadata": {
        "id": "2WW6FSP76TAp",
        "outputId": "2aa2064f-2fdb-4782-be3a-cd4551d1b0eb",
        "colab": {
          "base_uri": "https://localhost:8080/",
          "height": 458
        }
      },
      "execution_count": 99,
      "outputs": [
        {
          "output_type": "stream",
          "name": "stdout",
          "text": [
            "Puntualidad1         0.086985\n",
            "Puntualidad2         0.036853\n",
            "E_Despegue           0.030480\n",
            "E_Despegue2         -0.062765\n",
            "E_Despegue3          0.253739\n",
            "E_Duracion_Vuelo     0.056519\n",
            "E_Duracion_Vuelo2    0.099612\n",
            "E_Duracion_Vuelo3    0.292412\n",
            "dtype: float64\n"
          ]
        },
        {
          "output_type": "execute_result",
          "data": {
            "text/plain": [
              "<matplotlib.axes._subplots.AxesSubplot at 0x7f58e1cad750>"
            ]
          },
          "metadata": {},
          "execution_count": 99
        },
        {
          "output_type": "display_data",
          "data": {
            "text/plain": [
              "<Figure size 432x288 with 1 Axes>"
            ],
            "image/png": "[encoded data removed]"
          },
          "metadata": {}
        }
      ]
    },
    {
      "cell_type": "code",
      "source": [
        "#@title 02 Logistic Regression with the statsmodel library. Balanced\n",
        "\n",
        "datos_x= df2.loc[:, [ 'Puntualidad2', 'E_Despegue2','E_Despegue3', 'E_Duracion_Vuelo2','E_Duracion_Vuelo3',]].values \n",
        "datos_y = df2.loc[:,['Tard3']]\n",
        "\n",
        "X_train, X_test, y_train, y_test = train_test_split(datos_x,\n",
        "                                       datos_y,\n",
        "                                        train_size   = 0.8,\n",
        "                                        random_state = 1234,\n",
        "                                        shuffle      = True )\n",
        "\n",
        "oversample = RandomOverSampler(sampling_strategy='minority')\n",
        "# fit and apply the transform\n",
        "X_over, y_over = oversample.fit_resample(X_train, y_train)\n",
        "\n",
        "model = sm.Logit(y_over, X_over)\n",
        "\n",
        "\n",
        "model_fit = model.fit()\n",
        "\n",
        "print(model_fit.summary())\n",
        "\n",
        "\n",
        "y_pred = model_fit.predict(X_test)\n",
        "prediction = list(map(round, y_pred))\n",
        "prediction\n",
        "\n",
        "print(Counter(y_over))\n",
        "\n",
        "fig, ax = plt.subplots(figsize=(6, 4))\n",
        "sns.countplot(x='Tard3',data=y_over, palette='hls')\n",
        "plt.show()\n",
        "\n",
        "print(classification_report(y_test, prediction))\n",
        "plot_confusion_matrix(confusion_matrix(y_test, prediction), cmap='flag')\n",
        "\n",
        "precision=round(accuracy_score(y_test, prediction),2)\n",
        "accuracy.append(['6Variables_balanceadoTrain_escalado', precision])\n",
        "\n",
        "print('Accuracy: {:.2f}'.format(accuracy_score(y_test, prediction)))\n",
        "print('Error rate: {:.2f}'.format(1 - accuracy_score(y_test, prediction)))\n",
        "print('Precision: {:.2f}'.format(precision_score(y_test, prediction)))\n",
        "print('Recall: {:.2f}'.format(recall_score(y_test, prediction)))\n",
        "print('f1_score: {:.2f}'.format(f1_score(y_test, prediction)))\n"
      ],
      "metadata": {
        "colab": {
          "base_uri": "https://localhost:8080/",
          "height": 1000
        },
        "id": "wi3eT9M3SPx_",
        "outputId": "939f27de-1bc9-44a3-ce9c-ae0239260ded",
        "cellView": "form"
      },
      "execution_count": 100,
      "outputs": [
        {
          "output_type": "stream",
          "name": "stdout",
          "text": [
            "Warning: Maximum number of iterations has been exceeded.\n",
            "         Current function value: 0.154371\n",
            "         Iterations: 35\n",
            "                           Logit Regression Results                           \n",
            "==============================================================================\n",
            "Dep. Variable:                  Tard3   No. Observations:                15944\n",
            "Model:                          Logit   Df Residuals:                    15940\n",
            "Method:                           MLE   Df Model:                            3\n",
            "Date:                Thu, 13 Oct 2022   Pseudo R-squ.:                  0.7773\n",
            "Time:                        08:05:26   Log-Likelihood:                -2461.3\n",
            "converged:                      False   LL-Null:                       -11052.\n",
            "Covariance Type:            nonrobust   LLR p-value:                     0.000\n",
            "==============================================================================\n",
            "                 coef    std err          z      P>|z|      [0.025      0.975]\n",
            "------------------------------------------------------------------------------\n",
            "x1             0.0506        nan        nan        nan         nan         nan\n",
            "x2            -0.0083        nan        nan        nan         nan         nan\n",
            "x3             0.3208      0.006     54.001      0.000       0.309       0.332\n",
            "x4             0.0589        nan        nan        nan         nan         nan\n",
            "x5             0.3535      0.007     50.089      0.000       0.340       0.367\n",
            "==============================================================================\n",
            "Counter({'Tard3': 1})\n"
          ]
        },
        {
          "output_type": "stream",
          "name": "stderr",
          "text": [
            "/usr/local/lib/python3.7/dist-packages/statsmodels/base/model.py:568: ConvergenceWarning: Maximum Likelihood optimization failed to converge. Check mle_retvals\n",
            "  ConvergenceWarning)\n"
          ]
        },
        {
          "output_type": "display_data",
          "data": {
            "text/plain": [
              "<Figure size 432x288 with 1 Axes>"
            ],
            "image/png": "[encoded data removed]"
          },
          "metadata": {}
        },
        {
          "output_type": "stream",
          "name": "stdout",
          "text": [
            "              precision    recall  f1-score   support\n",
            "\n",
            "           0       1.00      0.87      0.93      1978\n",
            "           1       0.39      1.00      0.56       164\n",
            "\n",
            "    accuracy                           0.88      2142\n",
            "   macro avg       0.70      0.94      0.75      2142\n",
            "weighted avg       0.95      0.88      0.90      2142\n",
            "\n",
            "Accuracy: 0.88\n",
            "Error rate: 0.12\n",
            "Precision: 0.39\n",
            "Recall: 1.00\n",
            "f1_score: 0.56\n"
          ]
        },
        {
          "output_type": "display_data",
          "data": {
            "text/plain": [
              "<Figure size 432x288 with 1 Axes>"
            ],
            "image/png": "[encoded data removed]"
          },
          "metadata": {}
        }
      ]
    },
    {
      "cell_type": "code",
      "source": [
        "#@title Identificar parametres importants.\n",
        "print(model_fit.params)\n",
        "parametros = pd.DataFrame(model_fit.params)\n",
        "\n",
        "parametros.columns=['Coeficiente']\n",
        "parametros = parametros.rename_axis('Variable').reset_index()\n",
        "parametros\n",
        "sns.barplot(y='Variable', x=\"Coeficiente\", data=parametros)"
      ],
      "metadata": {
        "colab": {
          "base_uri": "https://localhost:8080/",
          "height": 406
        },
        "id": "iOGv-4VF4mlx",
        "outputId": "de2755cb-3915-493c-c9d3-32f18857d0f7"
      },
      "execution_count": 101,
      "outputs": [
        {
          "output_type": "stream",
          "name": "stdout",
          "text": [
            "x1    0.050588\n",
            "x2   -0.008276\n",
            "x3    0.320846\n",
            "x4    0.058872\n",
            "x5    0.353534\n",
            "dtype: float64\n"
          ]
        },
        {
          "output_type": "execute_result",
          "data": {
            "text/plain": [
              "<matplotlib.axes._subplots.AxesSubplot at 0x7f58e1d28850>"
            ]
          },
          "metadata": {},
          "execution_count": 101
        },
        {
          "output_type": "display_data",
          "data": {
            "text/plain": [
              "<Figure size 432x288 with 1 Axes>"
            ],
            "image/png": "[encoded data removed]"
          },
          "metadata": {}
        }
      ]
    },
    {
      "cell_type": "code",
      "source": [
        "#@title 03 RL, balancejat el Train\n",
        "\n",
        "exog_names = ['E_Despegue2','E_Despegue3', 'E_Duracion_Vuelo2','E_Duracion_Vuelo3',]\n",
        "\n",
        "datos_x= df2.loc[:, exog_names].values\n",
        "datos_y = df2.loc[:,['Tard3']]\n",
        "X_train, X_test, y_train, y_test = train_test_split(\n",
        "                                        datos_x,\n",
        "                                       datos_y,\n",
        "                                        train_size   = 0.8,\n",
        "                                        random_state = 1234,\n",
        "                                        shuffle      = True)\n",
        "\n",
        "oversample = RandomOverSampler(sampling_strategy='minority')\n",
        "X_over, y_over = oversample.fit_resample(X_train, y_train)\n",
        "\n",
        "model = sm.Logit(y_over, X_over)\n",
        "model.exog_names[:] = exog_names \n",
        "endog_name = model.endog_names\n",
        "\n",
        "model_fit = model.fit()\n",
        "\n",
        "print(model_fit.summary())\n",
        "\n",
        "y_pred = model_fit.predict(X_test)\n",
        "prediction = list(map(round, y_pred))\n",
        "prediction\n",
        "\n",
        "print(Counter(y_over))\n",
        "\n",
        "fig, ax = plt.subplots(figsize=(6, 4))\n",
        "sns.countplot(x='Tard3',data=y_over, palette='hls')\n",
        "plt.show()\n",
        "\n",
        "print('classification_report')\n",
        "print(classification_report(y_test, prediction))\n",
        "print('confusion_matrix')\n",
        "plot_confusion_matrix(confusion_matrix(y_test, prediction), cmap='flag')\n",
        "\n",
        "\n",
        "print('Accuracy: {:.2f}'.format(accuracy_score(y_test, prediction)))\n",
        "print('Error rate: {:.2f}'.format(1 - accuracy_score(y_test, prediction)))\n",
        "print('Precision: {:.2f}'.format(precision_score(y_test, prediction)))\n",
        "print('Recall: {:.2f}'.format(recall_score(y_test, prediction)))\n",
        "print('f1_score: {:.2f}'.format(f1_score(y_test, prediction)))\n"
      ],
      "metadata": {
        "id": "zzsMCm5MWOqk",
        "outputId": "f89dee94-565a-496d-9e4c-e30a6d487190",
        "colab": {
          "base_uri": "https://localhost:8080/",
          "height": 1000
        },
        "cellView": "form"
      },
      "execution_count": 102,
      "outputs": [
        {
          "output_type": "stream",
          "name": "stdout",
          "text": [
            "Optimization terminated successfully.\n",
            "         Current function value: 0.154494\n",
            "         Iterations 8\n",
            "                           Logit Regression Results                           \n",
            "==============================================================================\n",
            "Dep. Variable:                  Tard3   No. Observations:                15944\n",
            "Model:                          Logit   Df Residuals:                    15940\n",
            "Method:                           MLE   Df Model:                            3\n",
            "Date:                Thu, 13 Oct 2022   Pseudo R-squ.:                  0.7771\n",
            "Time:                        08:05:26   Log-Likelihood:                -2463.3\n",
            "converged:                       True   LL-Null:                       -11052.\n",
            "Covariance Type:            nonrobust   LLR p-value:                     0.000\n",
            "=====================================================================================\n",
            "                        coef    std err          z      P>|z|      [0.025      0.975]\n",
            "-------------------------------------------------------------------------------------\n",
            "E_Despegue2           0.0425      0.004      9.712      0.000       0.034       0.051\n",
            "E_Despegue3           0.3226      0.006     54.233      0.000       0.311       0.334\n",
            "E_Duracion_Vuelo2     0.1101      0.004     24.531      0.000       0.101       0.119\n",
            "E_Duracion_Vuelo3     0.3542      0.007     50.132      0.000       0.340       0.368\n",
            "=====================================================================================\n",
            "Counter({'Tard3': 1})\n"
          ]
        },
        {
          "output_type": "display_data",
          "data": {
            "text/plain": [
              "<Figure size 432x288 with 1 Axes>"
            ],
            "image/png": "[encoded data removed]"
          },
          "metadata": {}
        },
        {
          "output_type": "stream",
          "name": "stdout",
          "text": [
            "classification_report\n",
            "              precision    recall  f1-score   support\n",
            "\n",
            "           0       1.00      0.87      0.93      1978\n",
            "           1       0.39      1.00      0.56       164\n",
            "\n",
            "    accuracy                           0.88      2142\n",
            "   macro avg       0.70      0.94      0.75      2142\n",
            "weighted avg       0.95      0.88      0.90      2142\n",
            "\n",
            "confusion_matrix\n",
            "Accuracy: 0.88\n",
            "Error rate: 0.12\n",
            "Precision: 0.39\n",
            "Recall: 1.00\n",
            "f1_score: 0.56\n"
          ]
        },
        {
          "output_type": "display_data",
          "data": {
            "text/plain": [
              "<Figure size 432x288 with 1 Axes>"
            ],
            "image/png": "[encoded data removed]"
          },
          "metadata": {}
        }
      ]
    },
    {
      "cell_type": "code",
      "source": [
        "#@title 03 Identificar parametres importants.\n",
        "print(model_fit.params)\n",
        "parametros = pd.DataFrame(model_fit.params)\n",
        "\n",
        "parametros.columns=['Coeficiente']\n",
        "parametros = parametros.rename_axis('Variable').reset_index()\n",
        "parametros\n",
        "sns.barplot(y='Variable', x=\"Coeficiente\", data=parametros)"
      ],
      "metadata": {
        "colab": {
          "base_uri": "https://localhost:8080/",
          "height": 389
        },
        "id": "FtwGXkxL4Y8x",
        "outputId": "a68799ee-e658-418b-d46c-7d4d58a66ed9"
      },
      "execution_count": 103,
      "outputs": [
        {
          "output_type": "stream",
          "name": "stdout",
          "text": [
            "E_Despegue2          0.042466\n",
            "E_Despegue3          0.322572\n",
            "E_Duracion_Vuelo2    0.110079\n",
            "E_Duracion_Vuelo3    0.354232\n",
            "dtype: float64\n"
          ]
        },
        {
          "output_type": "execute_result",
          "data": {
            "text/plain": [
              "<matplotlib.axes._subplots.AxesSubplot at 0x7f58e1dc4110>"
            ]
          },
          "metadata": {},
          "execution_count": 103
        },
        {
          "output_type": "display_data",
          "data": {
            "text/plain": [
              "<Figure size 432x288 with 1 Axes>"
            ],
            "image/png": "[encoded data removed]"
          },
          "metadata": {}
        }
      ]
    },
    {
      "cell_type": "code",
      "source": [
        "#@title 04 StandardScale, RL, oversample\n",
        "\n",
        "exog_names = ['E_Despegue3', 'E_Duracion_Vuelo3',]\n",
        "\n",
        "mapper = DataFrameMapper([(exog_names, StandardScaler())])\n",
        "scaled_features = mapper.fit_transform(df2.copy(), 4)\n",
        "datos_x= pd.DataFrame(scaled_features, index=df2.index, columns=exog_names)\n",
        "\n",
        "datos_y = df2.loc[:,['Tard3']]\n",
        "\n",
        "X_train, X_test, y_train, y_test = train_test_split(\n",
        "                                        datos_x,\n",
        "                                       datos_y,\n",
        "                                        train_size   = 0.85,\n",
        "                                        random_state = 1234,\n",
        "                                        shuffle      = True\n",
        "                                    )\n",
        "\n",
        "oversample = RandomOverSampler(sampling_strategy='minority')\n",
        "# fit and apply the transform\n",
        "X_over, y_over = oversample.fit_resample(X_train, y_train)\n",
        "\n",
        "\n",
        "model = sm.Logit(y_over, X_over)\n",
        "model.exog_names[:] = exog_names \n",
        "endog_name = model.endog_names\n",
        "\n",
        "\n",
        "model_fit = model.fit()\n",
        "\n",
        "print(model_fit.summary())\n",
        "\n",
        "# Predict..\n",
        "y_pred = model_fit.predict(X_test)\n",
        "prediction = list(map(round, y_pred))\n",
        "prediction\n",
        "\n",
        "print(Counter(y_over))\n",
        "\n",
        "fig, ax = plt.subplots(figsize=(6, 4))\n",
        "sns.countplot(x='Tard3',data=y_over, palette='hls')\n",
        "plt.show()\n",
        "\n",
        "print('classification_report')\n",
        "print(classification_report(y_test, prediction))\n",
        "print('confusion_matrix')\n",
        "\n",
        "cf_matrix=plot_confusion_matrix(confusion_matrix(y_test, prediction), cmap='jet')\n",
        "\n",
        "precision=round(accuracy_score(y_test, prediction),2)\n",
        "accuracy.append(['2_Variables_balanceado_StandardScale', precision])\n",
        "\n",
        "print('Accuracy: {:.2f}'.format(accuracy_score(y_test, prediction)))\n",
        "print('Error rate: {:.2f}'.format(1 - accuracy_score(y_test, prediction)))\n",
        "print('Precision: {:.2f}'.format(precision_score(y_test, prediction)))\n",
        "print('Recall: {:.2f}'.format(recall_score(y_test, prediction)))\n",
        "print('f1_score: {:.2f}'.format(f1_score(y_test, prediction)))\n"
      ],
      "metadata": {
        "id": "r7eMKxSrUoAU",
        "outputId": "2e11d778-3fd3-4ffb-c338-b05dac5cadc4",
        "colab": {
          "base_uri": "https://localhost:8080/",
          "height": 1000
        }
      },
      "execution_count": 104,
      "outputs": [
        {
          "output_type": "stream",
          "name": "stdout",
          "text": [
            "Optimization terminated successfully.\n",
            "         Current function value: 0.385708\n",
            "         Iterations 7\n",
            "                           Logit Regression Results                           \n",
            "==============================================================================\n",
            "Dep. Variable:                  Tard3   No. Observations:                16920\n",
            "Model:                          Logit   Df Residuals:                    16918\n",
            "Method:                           MLE   Df Model:                            1\n",
            "Date:                Thu, 13 Oct 2022   Pseudo R-squ.:                  0.4435\n",
            "Time:                        08:05:27   Log-Likelihood:                -6526.2\n",
            "converged:                       True   LL-Null:                       -11728.\n",
            "Covariance Type:            nonrobust   LLR p-value:                     0.000\n",
            "=====================================================================================\n",
            "                        coef    std err          z      P>|z|      [0.025      0.975]\n",
            "-------------------------------------------------------------------------------------\n",
            "E_Despegue3           1.1304      0.021     53.754      0.000       1.089       1.172\n",
            "E_Duracion_Vuelo3     0.9563      0.020     48.498      0.000       0.918       0.995\n",
            "=====================================================================================\n",
            "Counter({'Tard3': 1})\n"
          ]
        },
        {
          "output_type": "display_data",
          "data": {
            "text/plain": [
              "<Figure size 432x288 with 1 Axes>"
            ],
            "image/png": "[encoded data removed]"
          },
          "metadata": {}
        },
        {
          "output_type": "stream",
          "name": "stdout",
          "text": [
            "classification_report\n",
            "              precision    recall  f1-score   support\n",
            "\n",
            "           0       1.00      0.57      0.73      1490\n",
            "           1       0.16      1.00      0.27       117\n",
            "\n",
            "    accuracy                           0.60      1607\n",
            "   macro avg       0.58      0.79      0.50      1607\n",
            "weighted avg       0.94      0.60      0.69      1607\n",
            "\n",
            "confusion_matrix\n",
            "Accuracy: 0.60\n",
            "Error rate: 0.40\n",
            "Precision: 0.16\n",
            "Recall: 1.00\n",
            "f1_score: 0.27\n"
          ]
        },
        {
          "output_type": "display_data",
          "data": {
            "text/plain": [
              "<Figure size 432x288 with 1 Axes>"
            ],
            "image/png": "[encoded data removed]"
          },
          "metadata": {}
        }
      ]
    },
    {
      "cell_type": "code",
      "source": [
        "#@title 04 Identificar parametres importants.\n",
        "print(model_fit.params)\n",
        "parametros = pd.DataFrame(model_fit.params)\n",
        "\n",
        "parametros.columns=['Coeficiente']\n",
        "parametros = parametros.rename_axis('Variable').reset_index()\n",
        "parametros\n",
        "sns.barplot(y='Variable', x=\"Coeficiente\", data=parametros)"
      ],
      "metadata": {
        "colab": {
          "base_uri": "https://localhost:8080/",
          "height": 354
        },
        "id": "wpExo8Zj1S3p",
        "outputId": "01f19d64-d530-499e-8cd6-a3428d062c03"
      },
      "execution_count": 105,
      "outputs": [
        {
          "output_type": "stream",
          "name": "stdout",
          "text": [
            "E_Despegue3          1.130385\n",
            "E_Duracion_Vuelo3    0.956275\n",
            "dtype: float64\n"
          ]
        },
        {
          "output_type": "execute_result",
          "data": {
            "text/plain": [
              "<matplotlib.axes._subplots.AxesSubplot at 0x7f58e168e950>"
            ]
          },
          "metadata": {},
          "execution_count": 105
        },
        {
          "output_type": "display_data",
          "data": {
            "text/plain": [
              "<Figure size 432x288 with 1 Axes>"
            ],
            "image/png": "[encoded data removed]"
          },
          "metadata": {}
        }
      ]
    },
    {
      "cell_type": "code",
      "source": [
        "#@title Comparativa Accuracy\n",
        "#accuracy\n",
        "accuracy=pd.DataFrame(accuracy)\n",
        "accuracy.columns=['Metodo', 'Accuracy']\n",
        "ax= sns.barplot(y='Metodo', x=\"Accuracy\", data=accuracy)\n"
      ],
      "metadata": {
        "colab": {
          "base_uri": "https://localhost:8080/",
          "height": 285
        },
        "id": "z9y-kXEFpTNS",
        "outputId": "96cce9ed-ef88-490d-b50c-ea7df3617886"
      },
      "execution_count": 106,
      "outputs": [
        {
          "output_type": "display_data",
          "data": {
            "text/plain": [
              "<Figure size 432x288 with 1 Axes>"
            ],
            "image/png": "[encoded data removed]"
          },
          "metadata": {}
        }
      ]
    },
    {
      "cell_type": "markdown",
      "source": [
        "**Conclusió:**\n",
        "\n",
        "Per fer correctament una regressió logística este que fer:\n",
        "\n",
        "1.- Veure si les dades estan balancejades. Si no lo estan, es tindrà que balancejar. \n",
        "\n",
        "2.- Les dades es separen en train i test.\n",
        "\n",
        "3.- Les dades de train es balanceja’n i estandaritzen.\n",
        "\n",
        "4.- Es crea el model de regressió logística(rl).\n",
        "\n",
        "5.- Es demana el summary de la rl:\n",
        "\n",
        "6.- Identifiquem els paràmetres importants dintre del summary mirant els p-vàlues. Tenim que agafar el valors més petits de 0.05. I seran el valor “estadísticament” importants.\n",
        "\n",
        "7.- Ara mirarem quins valors són “pràcticament” importants i això ens fixarem en el valors dels coeficients.\n",
        "\n",
        "8.- tornarem a corra el model però només amb els factors identificats com important en el pas 5, 6,7.\n",
        "\n",
        "9.- Tindrem el valor Accuracy que explica el model definitiu.\n",
        "\n",
        "\n",
        "La **Accuracy** més baixa la tindrem quan només tenim 2 variables, hem estandarditzat els valors, i hem “balancejat” les dades després del \"split\""
      ],
      "metadata": {
        "id": "OVJSiiAKO7sF"
      }
    }
  ]
}