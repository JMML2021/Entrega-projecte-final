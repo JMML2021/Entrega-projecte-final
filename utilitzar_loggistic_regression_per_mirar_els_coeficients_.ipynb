{
  "nbformat": 4,
  "nbformat_minor": 0,
  "metadata": {
    "colab": {
      "provenance": [],
      "toc_visible": true,
      "authorship_tag": "ABX9TyOZ7LRtV4zcnUuJgPTd7ddD",
      "include_colab_link": true
    },
    "kernelspec": {
      "name": "python3",
      "display_name": "Python 3"
    },
    "language_info": {
      "name": "python"
    }
  },
  "cells": [
    {
      "cell_type": "markdown",
      "metadata": {
        "id": "view-in-github",
        "colab_type": "text"
      },
      "source": [
        "<a href=\"https://colab.research.google.com/github/JMML2021/Entrega-projecte-final/blob/main/utilitzar_loggistic_regression_per_mirar_els_coeficients_.ipynb\" target=\"_parent\"><img src=\"https://colab.research.google.com/assets/colab-badge.svg\" alt=\"Open In Colab\"/></a>"
      ]
    },
    {
      "cell_type": "code",
      "execution_count": 18,
      "metadata": {
        "id": "jGh3pHWOKVEe"
      },
      "outputs": [],
      "source": [
        "import numpy as np\n",
        "import matplotlib.pyplot as plt \n",
        "\n",
        "import pandas as pd  \n",
        "import seaborn as sns \n",
        "\n",
        "%matplotlib inline\n",
        "\n",
        "\n",
        "from sklearn.manifold import TSNE\n",
        "from sklearn.decomposition import PCA\n",
        "from sklearn.ensemble import RandomForestClassifier\n",
        "from sklearn.metrics import accuracy_score, confusion_matrix\n",
        "from sklearn.model_selection import train_test_split, cross_val_score\n",
        "\n",
        "import numpy as np\n",
        "import pandas as pd\n",
        "from sklearn.preprocessing import RobustScaler\n",
        "from sklearn.model_selection import train_test_split\n",
        "from sklearn.metrics import accuracy_score, f1_score, precision_score, recall_score, classification_report, confusion_matrix\n",
        "import statsmodels.api as sm\n",
        "from sklearn.metrics import confusion_matrix, classification_report\n",
        "from mlxtend.plotting import plot_decision_regions, plot_confusion_matrix"
      ]
    },
    {
      "cell_type": "code",
      "source": [
        "# Configuració warnings\n",
        "# ==============================================================================\n",
        "import warnings\n",
        "warnings.filterwarnings('ignore')"
      ],
      "metadata": {
        "id": "xZc7uL_ARh6p"
      },
      "execution_count": 2,
      "outputs": []
    },
    {
      "cell_type": "code",
      "source": [
        "# Activo Google Drive\n",
        "\n",
        "from google.colab import drive\n",
        "drive.mount('/content/drive')"
      ],
      "metadata": {
        "id": "BBXJFZrnKZY-",
        "colab": {
          "base_uri": "https://localhost:8080/"
        },
        "outputId": "84099a43-bdca-41a7-9202-dcda051b9963"
      },
      "execution_count": 3,
      "outputs": [
        {
          "output_type": "stream",
          "name": "stdout",
          "text": [
            "Mounted at /content/drive\n"
          ]
        }
      ]
    },
    {
      "cell_type": "code",
      "source": [
        "#@title Obrir fitxer creat amb Calculo Vueling 2022 con codigos Rev D.ipynb\n",
        "#path='/content/drive/MyDrive/2022.06.03 2022_delay + cierre puertas CORTO.xlsx'\n",
        "Hoja = 'FLT_2022'\n",
        "path = ('/content/drive/MyDrive/Ficheros de Vueling/2022-09-20 14:39:04.960091 FLT_2022.xlsx')\n",
        "path = ('/content/drive/MyDrive/Ficheros de Vueling/2022-10-10 07:25:00.012463 FLT_2022.xlsx')\n",
        "df = pd.read_excel(path) #, sheet_name=Hoja)\n",
        "\n",
        "\n"
      ],
      "metadata": {
        "id": "KUHVaaBFKcCy"
      },
      "execution_count": 4,
      "outputs": []
    },
    {
      "cell_type": "code",
      "source": [
        "# Para crear una \"logistic regresion\":\n",
        "# 10 minuts és el temps que s'accepta com arribar a l'hora\n",
        "\n",
        "df['Tard1'] = np.where(df['Puntualidad1'] <10, 0, 1)\n",
        "df['Tard2'] = np.where(df['Puntualidad2'] <10, 0, 1)\n",
        "df['Tard3'] = np.where(df['Puntualidad3'] <10, 0, 1)\n",
        "\n",
        "accuracy=[]"
      ],
      "metadata": {
        "id": "a-_W_Eq3KfEn"
      },
      "execution_count": 44,
      "outputs": []
    },
    {
      "cell_type": "code",
      "source": [
        "#@title crec el DataFrame df1\n",
        "df1=df[['Puntualidad1', 'Puntualidad2', 'Puntualidad3', \n",
        "        'E_Despegue','E_Despegue2','E_Despegue3',\n",
        "        'E_Duracion_Vuelo','E_Duracion_Vuelo2','E_Duracion_Vuelo3', 'Tard1', 'Tard2', 'Tard3']]"
      ],
      "metadata": {
        "id": "-F1--pZFLDE4",
        "cellView": "form"
      },
      "execution_count": 45,
      "outputs": []
    },
    {
      "cell_type": "code",
      "source": [
        "#@title Elimino els outliers. df2\n",
        "df2=df1.copy()\n",
        "\n",
        "dfEliminarOutliers= ((df2['E_Despegue']> -30) & \n",
        "                     (df2['E_Despegue']< 30) & \n",
        "                     (df2['Puntualidad1']< 30) & \n",
        "                     (df2['Puntualidad1']>-30) &\n",
        "                     (df2['Puntualidad2']< 30) & \n",
        "                     (df2['Puntualidad2']>-30)&\n",
        "                     (df2['E_Despegue2']< 30) & \n",
        "                     (df2['E_Despegue2']>-30)&\n",
        "                     (df2['Puntualidad3']< 30) & \n",
        "                     (df2['Puntualidad3']>-30)&\n",
        "                     (df2['E_Despegue3']< 30) & \n",
        "                     (df2['E_Despegue3']>-30))\n",
        "\n",
        "df2 = df2[dfEliminarOutliers]"
      ],
      "metadata": {
        "id": "_8W6y6UWLU_6",
        "cellView": "form"
      },
      "execution_count": 46,
      "outputs": []
    },
    {
      "cell_type": "code",
      "source": [
        "#@title Quantitat de outliers que hi ha\n",
        "print(df1.shape)\n",
        "print(df2.shape)\n",
        "percentatje= round((df2.shape[0]-df1.shape[0])/df1.shape[0]*100/3,2)\n",
        "print('quantitat de files afectades per outliers per salt= ', percentatje)"
      ],
      "metadata": {
        "colab": {
          "base_uri": "https://localhost:8080/"
        },
        "id": "5H7yXyDPLZMA",
        "outputId": "fd07e3f1-5aab-452c-a7fd-4f4300505230"
      },
      "execution_count": 47,
      "outputs": [
        {
          "output_type": "stream",
          "name": "stdout",
          "text": [
            "(12358, 12)\n",
            "(10708, 12)\n",
            "quantitat de files afectades per outliers per salt=  -4.45\n"
          ]
        }
      ]
    },
    {
      "cell_type": "code",
      "source": [
        "#@title Creo Subrutina de metricas:\n",
        "\n",
        "#Importo scikit-learn metrics module para el calculo\n",
        "from sklearn import metrics\n",
        "from sklearn.metrics import mean_squared_error\n",
        "from sklearn.metrics import r2_score\n",
        "metricasEjercicio2=[]\n",
        "######################################################################\n",
        " \n",
        "def MetricasModelo(metodo, Y_real, Y_calculado, scores):\n",
        "  print('Metodo: ', metodo)\n",
        "  \n",
        "  #Precisión del modelo: ¿con qué frecuencia es correcto el clasificador?\n",
        "  #accuracy = metrics.accuracy_score(Y_real, Y_calculado)\n",
        "  #print(\"Accuracy:\", accuracy)\n",
        "\n",
        "  rmse = np.sqrt(mean_squared_error(Y_real, Y_calculado,))\n",
        "  print(\"RMSE: %f\" % (rmse))\n",
        "  \n",
        "\n",
        "  R_squared = r2_score(Y_real, Y_calculado,)\n",
        "\n",
        "  print(\"R-Squared: \", np.round(R_squared, 2))\n",
        " \n",
        "  print(\"Accuracy: %0.2f (+/- %0.2f)\" % (scores.mean(), scores.std() * 2))\n",
        "  accuracy = \"Accuracy: %0.2f (+/- %0.2f)\" % (scores.mean(), scores.std() * 2)\n",
        "\n",
        "  # Guardo metricas\n",
        "  metricasEjercicio2.append([metodo, rmse, R_squared, accuracy])  \n",
        "\n",
        "\n",
        "  cnf_matrix_SVM = metrics.confusion_matrix(Y_real, Y_calculado)\n",
        "\n",
        "  print('\\n\\nMatriz de Confusión')\n",
        "  print(cnf_matrix_SVM)\n",
        "\n",
        "\n",
        "  # Creamos la Matriz de Confusion:\n",
        "\n",
        "  class_names=[0,1] # name  of classes\n",
        "  \n",
        "  fig, ax = plt.subplots()\n",
        "  tick_marks = np.arange(len(class_names))\n",
        "  plt.xticks(tick_marks, class_names)\n",
        "  plt.yticks(tick_marks, class_names)\n",
        "\n",
        "  # create heatmap\n",
        "\n",
        "  sns.heatmap(pd.DataFrame(cnf_matrix_SVM), annot=True, cmap=\"gist_ncar\" ,fmt='g')\n",
        "  ax.xaxis.set_label_position(\"top\")\n",
        " \n",
        "\n",
        "  plt.tight_layout()\n",
        "  plt.title('Matriu de confusió', y=1.1)\n",
        "  plt.ylabel('Valor Actual')\n",
        "  plt.xlabel('Valor predit')\n",
        "  plt.Text(1.5,257.44,'Predicció')\n"
      ],
      "metadata": {
        "id": "bhbZ2yoQMc4v",
        "cellView": "form"
      },
      "execution_count": 48,
      "outputs": []
    },
    {
      "cell_type": "code",
      "source": [
        "#@title Identificació del Desbalanceig\n",
        "fig, ax = plt.subplots(figsize=(6, 4))\n",
        "sns.countplot(x='Tard3',data=df2, palette='hls')\n",
        "plt.show()"
      ],
      "metadata": {
        "colab": {
          "base_uri": "https://localhost:8080/",
          "height": 285
        },
        "id": "juwBZZTSMpNz",
        "outputId": "93ff8aec-06a4-4c44-a384-0c63e9247c26",
        "cellView": "form"
      },
      "execution_count": 49,
      "outputs": [
        {
          "output_type": "display_data",
          "data": {
            "text/plain": [
              "<Figure size 432x288 with 1 Axes>"
            ],
            "image/png": "[encoded data removed]"
          },
          "metadata": {}
        }
      ]
    },
    {
      "cell_type": "code",
      "source": [
        "#@title Creació del model utilitzant matrius com a scikitlearn BORRAR\n",
        "# ================================================= =============================\n",
        "# A la matriu de predictors cal afegir una columna de 1s per a l'intercept del model\n",
        "\n",
        "import statsmodels.api as sm\n",
        "\n",
        "# Divisió de les dades en train i test\n",
        "# ==============================================================================\n",
        "datos_x= df2.loc[:, ['Puntualidad1', 'Puntualidad2',  \n",
        "        'E_Despegue','E_Despegue2','E_Despegue3',\n",
        "        'E_Duracion_Vuelo','E_Duracion_Vuelo2','E_Duracion_Vuelo3',]].values \n",
        "datos_y = df2.loc[:,['Tard3']]\n",
        "X_train, X_test, y_train, y_test = train_test_split(\n",
        "                                        datos_x,\n",
        "                                       datos_y,\n",
        "                                        train_size   = 0.8,\n",
        "                                        random_state = 1234,\n",
        "                                        shuffle      = True\n",
        "                                    )\n",
        "logit_model=sm.Logit( y_train, X_train)\n",
        "result=logit_model.fit()\n",
        "print(result.summary2())"
      ],
      "metadata": {
        "colab": {
          "base_uri": "https://localhost:8080/"
        },
        "id": "AgCBdCvzM0vz",
        "outputId": "ece89769-506d-4c6b-db97-234014658ee2",
        "cellView": "form"
      },
      "execution_count": 50,
      "outputs": [
        {
          "output_type": "stream",
          "name": "stdout",
          "text": [
            "Warning: Maximum number of iterations has been exceeded.\n",
            "         Current function value: 0.194613\n",
            "         Iterations: 35\n",
            "                          Results: Logit\n",
            "==================================================================\n",
            "Model:              Logit            Pseudo R-squared: 0.228      \n",
            "Dependent Variable: Tard3            AIC:              3346.1032  \n",
            "Date:               2022-10-13 07:23 BIC:              3388.4365  \n",
            "No. Observations:   8566             Log-Likelihood:   -1667.1    \n",
            "Df Model:           5                LL-Null:          -2158.1    \n",
            "Df Residuals:       8560             LLR p-value:      4.4908e-210\n",
            "Converged:          0.0000           Scale:            1.0000     \n",
            "No. Iterations:     35.0000                                       \n",
            "---------------------------------------------------------------------\n",
            "        Coef.     Std.Err.       z       P>|z|      [0.025     0.975]\n",
            "---------------------------------------------------------------------\n",
            "x1      0.0870         nan        nan       nan        nan        nan\n",
            "x2      0.0369      0.0022    17.0495    0.0000     0.0326     0.0411\n",
            "x3      0.0305         nan        nan       nan        nan        nan\n",
            "x4     -0.0628      0.0111    -5.6456    0.0000    -0.0846    -0.0410\n",
            "x5      0.2537      0.0078    32.4530    0.0000     0.2384     0.2691\n",
            "x6      0.0565         nan        nan       nan        nan        nan\n",
            "x7      0.0996     -0.0000       -inf    0.0000     0.0996     0.0996\n",
            "x8      0.2924      0.0084    34.8372    0.0000     0.2760     0.3089\n",
            "==================================================================\n",
            "\n"
          ]
        },
        {
          "output_type": "stream",
          "name": "stderr",
          "text": [
            "/usr/local/lib/python3.7/dist-packages/statsmodels/base/model.py:568: ConvergenceWarning: Maximum Likelihood optimization failed to converge. Check mle_retvals\n",
            "  ConvergenceWarning)\n"
          ]
        }
      ]
    },
    {
      "cell_type": "code",
      "source": [
        "#@title Dades standarizatdes:\n",
        "\n",
        "#@title Estandarditzar les característiques eliminant la mitjana i escalant a la variància de la unitat.\n",
        "\n",
        "from sklearn_pandas import DataFrameMapper\n",
        "from sklearn.preprocessing import StandardScaler\n",
        "\n",
        "\n",
        "mapper = DataFrameMapper([(df2.columns, StandardScaler())])\n",
        "scaled_features = mapper.fit_transform(df2.copy(), 4)\n",
        "df2_StdScaler= pd.DataFrame(scaled_features, index=df2.index, columns=df2.columns)\n",
        "\n",
        "df2_StdScaler.head()\n",
        "\n",
        "datos_x= df2_StdScaler.loc[:, ['Puntualidad1', 'Puntualidad2',  \n",
        "        'E_Despegue','E_Despegue2','E_Despegue3',\n",
        "        'E_Duracion_Vuelo','E_Duracion_Vuelo2','E_Duracion_Vuelo3',]].values \n",
        "datos_y = df2.loc[:,['Tard3']]\n",
        "\n",
        "X_train, X_test, y_train, y_test = train_test_split(\n",
        "                                        datos_x,\n",
        "                                       datos_y,\n",
        "                                        train_size   = 0.8,\n",
        "                                        random_state = 1234,\n",
        "                                        shuffle      = True\n",
        "                                    )\n",
        "\n",
        "logit_model=sm.Logit( y_train, X_train)\n",
        "result=logit_model.fit()\n",
        "print(result.summary2())"
      ],
      "metadata": {
        "colab": {
          "base_uri": "https://localhost:8080/"
        },
        "id": "VcEBM5_hODuM",
        "outputId": "929425ea-d5c1-41e7-b4ff-296d98018722",
        "cellView": "form"
      },
      "execution_count": 51,
      "outputs": [
        {
          "output_type": "stream",
          "name": "stdout",
          "text": [
            "Warning: Maximum number of iterations has been exceeded.\n",
            "         Current function value: 0.640394\n",
            "         Iterations: 35\n"
          ]
        },
        {
          "output_type": "stream",
          "name": "stderr",
          "text": [
            "/usr/local/lib/python3.7/dist-packages/statsmodels/base/model.py:568: ConvergenceWarning: Maximum Likelihood optimization failed to converge. Check mle_retvals\n",
            "  ConvergenceWarning)\n"
          ]
        },
        {
          "output_type": "stream",
          "name": "stdout",
          "text": [
            "                         Results: Logit\n",
            "=================================================================\n",
            "Model:              Logit            Pseudo R-squared: -1.542    \n",
            "Dependent Variable: Tard3            AIC:              10983.2350\n",
            "Date:               2022-10-13 07:23 BIC:              11025.5683\n",
            "No. Observations:   8566             Log-Likelihood:   -5485.6   \n",
            "Df Model:           5                LL-Null:          -2158.1   \n",
            "Df Residuals:       8560             LLR p-value:      1.0000    \n",
            "Converged:          0.0000           Scale:            1.0000    \n",
            "No. Iterations:     35.0000                                      \n",
            "-----------------------------------------------------------------\n",
            "    Coef.    Std.Err.      z    P>|z|      [0.025       0.975]   \n",
            "-----------------------------------------------------------------\n",
            "x1 -0.0017 1712852.5986 -0.0000 1.0000 -3357129.4057 3357129.4024\n",
            "x2 -0.0040          nan     nan    nan           nan          nan\n",
            "x3 -0.0060 1178154.9933 -0.0000 1.0000 -2309141.3610 2309141.3491\n",
            "x4 -0.0196          nan     nan    nan           nan          nan\n",
            "x5  0.6088       0.0272 22.3501 0.0000        0.5554       0.6622\n",
            "x6  0.0029 1450176.4491  0.0000 1.0000 -2842293.6086 2842293.6144\n",
            "x7  0.0149          nan     nan    nan           nan          nan\n",
            "x8  0.4669       0.0244 19.1508 0.0000        0.4191       0.5147\n",
            "=================================================================\n",
            "\n"
          ]
        }
      ]
    },
    {
      "cell_type": "code",
      "source": [
        "#@title Creació del model utilitzant matrius com a scikitlearn\n",
        "# ================================================= =============================\n",
        "# A la matriu de predictors cal afegir una columna de 1s per a l'intercept del model\n",
        "\n",
        "import statsmodels.api as sm\n",
        "\n",
        "# Divisió de les dades en train i test\n",
        "# ==============================================================================\n",
        "datos_x= df2.loc[:, ['Puntualidad1', 'Puntualidad2',  \n",
        "        'E_Despegue','E_Despegue2','E_Despegue3',\n",
        "        'E_Duracion_Vuelo','E_Duracion_Vuelo2','E_Duracion_Vuelo3',]].values \n",
        "datos_y = df2.loc[:,['Tard3']]\n",
        "X_train, X_test, y_train, y_test = train_test_split(\n",
        "                                        datos_x,\n",
        "                                       datos_y,\n",
        "                                        train_size   = 0.8,\n",
        "                                        random_state = 1234,\n",
        "                                        shuffle      = True\n",
        "                                    )\n",
        "logit_model=sm.Logit( y_train, X_train)\n",
        "result=logit_model.fit()\n",
        "print(result.summary2())"
      ],
      "metadata": {
        "colab": {
          "base_uri": "https://localhost:8080/"
        },
        "id": "PfEnJST_PbFm",
        "outputId": "9b1dc75a-46ea-4d24-e49c-5c68c189b2bf",
        "cellView": "form"
      },
      "execution_count": 52,
      "outputs": [
        {
          "output_type": "stream",
          "name": "stdout",
          "text": [
            "Warning: Maximum number of iterations has been exceeded.\n",
            "         Current function value: 0.194613\n",
            "         Iterations: 35\n"
          ]
        },
        {
          "output_type": "stream",
          "name": "stderr",
          "text": [
            "/usr/local/lib/python3.7/dist-packages/statsmodels/base/model.py:568: ConvergenceWarning: Maximum Likelihood optimization failed to converge. Check mle_retvals\n",
            "  ConvergenceWarning)\n"
          ]
        },
        {
          "output_type": "stream",
          "name": "stdout",
          "text": [
            "                          Results: Logit\n",
            "==================================================================\n",
            "Model:              Logit            Pseudo R-squared: 0.228      \n",
            "Dependent Variable: Tard3            AIC:              3346.1032  \n",
            "Date:               2022-10-13 07:23 BIC:              3388.4365  \n",
            "No. Observations:   8566             Log-Likelihood:   -1667.1    \n",
            "Df Model:           5                LL-Null:          -2158.1    \n",
            "Df Residuals:       8560             LLR p-value:      4.4908e-210\n",
            "Converged:          0.0000           Scale:            1.0000     \n",
            "No. Iterations:     35.0000                                       \n",
            "---------------------------------------------------------------------\n",
            "        Coef.     Std.Err.       z       P>|z|      [0.025     0.975]\n",
            "---------------------------------------------------------------------\n",
            "x1      0.0870         nan        nan       nan        nan        nan\n",
            "x2      0.0369      0.0022    17.0495    0.0000     0.0326     0.0411\n",
            "x3      0.0305         nan        nan       nan        nan        nan\n",
            "x4     -0.0628      0.0111    -5.6456    0.0000    -0.0846    -0.0410\n",
            "x5      0.2537      0.0078    32.4530    0.0000     0.2384     0.2691\n",
            "x6      0.0565         nan        nan       nan        nan        nan\n",
            "x7      0.0996     -0.0000       -inf    0.0000     0.0996     0.0996\n",
            "x8      0.2924      0.0084    34.8372    0.0000     0.2760     0.3089\n",
            "==================================================================\n",
            "\n"
          ]
        }
      ]
    },
    {
      "cell_type": "code",
      "source": [
        "#@title Importo train_test_split function per dividir les dades en Test i Train\n",
        "from sklearn.model_selection import train_test_split\n",
        "from sklearn.linear_model import LogisticRegression\n",
        "\n",
        "#@title Crec la columna X e Y: \n",
        "\n",
        "datos_x= df2.loc[:, ['Puntualidad1', 'Puntualidad2',  \n",
        "        'E_Despegue','E_Despegue2','E_Despegue3','E_Duracion_Vuelo','E_Duracion_Vuelo2','E_Duracion_Vuelo3',]].values\n",
        "\n",
        "datos_y = df2.loc[:,['Tard3']].values\n",
        "\n",
        "#Dividims el dataset en training set y test set\n",
        "X_train, X_test, y_train, y_test = train_test_split(datos_x, datos_y, test_size=0.3,random_state=109) # 70% training and 30% test\n",
        "\n",
        "\n",
        "# instanciem el model (fem servir els paràmetres predeterminats)\n",
        "logreg = LogisticRegression()\n",
        "\n",
        "# fit el model\n",
        "logreg.fit(X_train,y_train)\n",
        "\n",
        "#\n",
        "y_pred_RLogis=logreg.predict(X_test)\n",
        "\n",
        "scores_RL = cross_val_score(logreg, X_train, y_train, cv=5)\n",
        " \n",
        "print(\"Accuracy: %0.2f (+/- %0.2f)\" % (scores_RL.mean(), scores_RL.std() * 2))\n",
        "\n",
        "\n",
        "MetricasModelo( 'Regr.Log. des-Balancejada', y_test, y_pred_RLogis, scores_RL)"
      ],
      "metadata": {
        "colab": {
          "base_uri": "https://localhost:8080/",
          "height": 496
        },
        "id": "AA_n2hInQdfw",
        "outputId": "c55c8b06-6ca7-4e4d-b85c-00e36a4a16c0",
        "cellView": "form"
      },
      "execution_count": 53,
      "outputs": [
        {
          "output_type": "stream",
          "name": "stdout",
          "text": [
            "Accuracy: 1.00 (+/- 0.00)\n",
            "Metodo:  Regr.Log. des-Balancejada\n",
            "RMSE: 0.000000\n",
            "R-Squared:  1.0\n",
            "Accuracy: 1.00 (+/- 0.00)\n",
            "\n",
            "\n",
            "Matriz de Confusión\n",
            "[[2998    0]\n",
            " [   0  215]]\n"
          ]
        },
        {
          "output_type": "display_data",
          "data": {
            "text/plain": [
              "<Figure size 432x288 with 2 Axes>"
            ],
            "image/png": "[encoded data removed]"
          },
          "metadata": {}
        }
      ]
    },
    {
      "cell_type": "code",
      "source": [
        "#@title creem df2_sobremostrejat\n",
        "\n",
        "from sklearn.utils import resample\n",
        "\n",
        "\n",
        "# Classes majoritàries i minoritàries separades\n",
        "df_majority = df2[df2.Tard3==0]\n",
        "df_minority = df2[df2.Tard3==1]\n",
        " \n",
        "# Upsample minority class\n",
        "df_minority_sobremostrejat = resample(df_minority, \n",
        "                                 replace=True,     # sample with replacement\n",
        "                                 n_samples=8000,    # to match majority class\n",
        "                                 random_state=123) # reproducible results\n",
        " \n",
        "# Combina la classe majoritària amb la classe minoritària sobremostrejat\n",
        "df2_sobremostrejat = pd.concat([df_majority, df_minority_sobremostrejat])\n",
        "\n",
        "#Mostra els nous recomptes de classes\n",
        "# \n",
        "df2_sobremostrejat.Tard3.value_counts()"
      ],
      "metadata": {
        "colab": {
          "base_uri": "https://localhost:8080/"
        },
        "id": "8oQuX542Rzvw",
        "outputId": "639787e6-d47a-4d8a-f2ed-0044f7be24af",
        "cellView": "form"
      },
      "execution_count": 54,
      "outputs": [
        {
          "output_type": "execute_result",
          "data": {
            "text/plain": [
              "0    9950\n",
              "1    8000\n",
              "Name: Tard3, dtype: int64"
            ]
          },
          "metadata": {},
          "execution_count": 54
        }
      ]
    },
    {
      "cell_type": "code",
      "source": [
        "df3= df2_sobremostrejat\n",
        "fig, ax = plt.subplots(figsize=(6, 4))\n",
        "sns.countplot(x='Tard3',data=df3, palette='hls')\n",
        "plt.show()"
      ],
      "metadata": {
        "colab": {
          "base_uri": "https://localhost:8080/",
          "height": 285
        },
        "id": "Jip4TPETR86A",
        "outputId": "f011e187-3578-42bd-d969-e9d5be0af4c8"
      },
      "execution_count": 55,
      "outputs": [
        {
          "output_type": "display_data",
          "data": {
            "text/plain": [
              "<Figure size 432x288 with 1 Axes>"
            ],
            "image/png": "[encoded data removed]"
          },
          "metadata": {}
        }
      ]
    },
    {
      "cell_type": "code",
      "source": [
        "#@title 05.-Logistic regresion reSAMPLE tot\n",
        " \n",
        "import statsmodels.api as sm\n",
        "\n",
        "# Divisió de les dades en train i test\n",
        "# ==============================================================================\n",
        "datos_x= df3.loc[:, ['Puntualidad1', 'Puntualidad2',  \n",
        "        'E_Despegue','E_Despegue2','E_Despegue3',\n",
        "        'E_Duracion_Vuelo','E_Duracion_Vuelo2','E_Duracion_Vuelo3',]].values \n",
        "datos_y = df3.loc[:,['Tard3']]\n",
        "X_train, X_test, y_train, y_test = train_test_split(\n",
        "                                        datos_x,\n",
        "                                       datos_y,\n",
        "                                        train_size   = 0.8,\n",
        "                                        random_state = 1234,\n",
        "                                        shuffle      = True\n",
        "                                    )\n",
        "logit_model=sm.Logit( y_train, X_train)\n",
        "result=logit_model.fit()\n",
        "print(result.summary2())\n",
        "\n",
        "\n",
        "y_pred = result.predict(X_test)\n",
        "prediction = list(map(round, y_pred))\n",
        "prediction\n",
        "\n",
        "#print(Counter(y_over))\n",
        "\n",
        "\n",
        "print('classification_report')\n",
        "print(classification_report(y_test, prediction))\n",
        "print('confusion_matrix')\n",
        "\n",
        "cf_matrix=plot_confusion_matrix(confusion_matrix(y_test, prediction), cmap='jet')\n",
        "\n",
        "precision=round(accuracy_score(y_test, prediction),2)\n",
        "accuracy.append(['8_Variables_Balanceado_TODO', precision])\n",
        "\n",
        "print('Accuracy: {:.2f}'.format(accuracy_score(y_test, prediction)))\n",
        "print('Error rate: {:.2f}'.format(1 - accuracy_score(y_test, prediction)))\n",
        "print('Precision: {:.2f}'.format(precision_score(y_test, prediction)))\n",
        "print('Recall: {:.2f}'.format(recall_score(y_test, prediction)))\n",
        "print('f1_score: {:.2f}'.format(f1_score(y_test, prediction)))\n",
        "\n",
        "\n",
        "fig, ax = plt.subplots(figsize=(6, 4))\n",
        "sns.countplot(x='Tard3',data=y_train, palette='hls')\n",
        "plt.show()"
      ],
      "metadata": {
        "colab": {
          "base_uri": "https://localhost:8080/",
          "height": 1000
        },
        "id": "KseOSJujSJdI",
        "outputId": "0fe52544-c3f6-47d3-8ca3-775108e28420",
        "cellView": "form"
      },
      "execution_count": 56,
      "outputs": [
        {
          "output_type": "stream",
          "name": "stdout",
          "text": [
            "Warning: Maximum number of iterations has been exceeded.\n",
            "         Current function value: 0.146195\n",
            "         Iterations: 35\n",
            "                         Results: Logit\n",
            "================================================================\n",
            "Model:              Logit            Pseudo R-squared: 0.787    \n",
            "Dependent Variable: Tard3            AIC:              4210.7180\n",
            "Date:               2022-10-13 07:23 BIC:              4256.1512\n",
            "No. Observations:   14360            Log-Likelihood:   -2099.4  \n",
            "Df Model:           5                LL-Null:          -9865.6  \n",
            "Df Residuals:       14354            LLR p-value:      0.0000   \n",
            "Converged:          0.0000           Scale:            1.0000   \n",
            "No. Iterations:     35.0000                                     \n",
            "------------------------------------------------------------------\n",
            "          Coef.    Std.Err.      z      P>|z|     [0.025    0.975]\n",
            "------------------------------------------------------------------\n",
            "x1        0.0661        nan       nan      nan       nan       nan\n",
            "x2        0.0273        nan       nan      nan       nan       nan\n",
            "x3        0.0230        nan       nan      nan       nan       nan\n",
            "x4       -0.0491     0.0052   -9.5161   0.0000   -0.0592   -0.0390\n",
            "x5        0.3684     0.0075   49.1283   0.0000    0.3537    0.3831\n",
            "x6        0.0432        nan       nan      nan       nan       nan\n",
            "x7        0.0765        nan       nan      nan       nan       nan\n",
            "x8        0.3760     0.0081   46.5378   0.0000    0.3602    0.3919\n",
            "================================================================\n",
            "\n",
            "classification_report\n",
            "              precision    recall  f1-score   support\n",
            "\n",
            "           0       1.00      0.89      0.94      1976\n",
            "           1       0.88      1.00      0.94      1614\n",
            "\n",
            "    accuracy                           0.94      3590\n",
            "   macro avg       0.94      0.94      0.94      3590\n",
            "weighted avg       0.95      0.94      0.94      3590\n",
            "\n",
            "confusion_matrix\n",
            "Accuracy: 0.94\n",
            "Error rate: 0.06\n",
            "Precision: 0.88\n",
            "Recall: 1.00\n",
            "f1_score: 0.94\n"
          ]
        },
        {
          "output_type": "stream",
          "name": "stderr",
          "text": [
            "/usr/local/lib/python3.7/dist-packages/statsmodels/base/model.py:568: ConvergenceWarning: Maximum Likelihood optimization failed to converge. Check mle_retvals\n",
            "  ConvergenceWarning)\n"
          ]
        },
        {
          "output_type": "display_data",
          "data": {
            "text/plain": [
              "<Figure size 432x288 with 1 Axes>"
            ],
            "image/png": "[encoded data removed]"
          },
          "metadata": {}
        },
        {
          "output_type": "display_data",
          "data": {
            "text/plain": [
              "<Figure size 432x288 with 1 Axes>"
            ],
            "image/png": "[encoded data removed]"
          },
          "metadata": {}
        }
      ]
    },
    {
      "cell_type": "code",
      "source": [
        "#@title Identificar parametres importants.\n",
        "print(result.params)\n",
        "parametros = pd.DataFrame(result.params)\n",
        "\n",
        "parametros.columns=['Coeficiente']\n",
        "parametros = parametros.rename_axis('Variable').reset_index()\n",
        "parametros\n",
        "sns.barplot(y='Variable', x=\"Coeficiente\", data=parametros)"
      ],
      "metadata": {
        "colab": {
          "base_uri": "https://localhost:8080/",
          "height": 458
        },
        "id": "76Ejy0tVMgfK",
        "outputId": "73532ee7-3978-4a50-e5e0-4a3feee648ef"
      },
      "execution_count": 57,
      "outputs": [
        {
          "output_type": "stream",
          "name": "stdout",
          "text": [
            "x1    0.066129\n",
            "x2    0.027339\n",
            "x3    0.022951\n",
            "x4   -0.049130\n",
            "x5    0.368434\n",
            "x6    0.043182\n",
            "x7    0.076474\n",
            "x8    0.376047\n",
            "dtype: float64\n"
          ]
        },
        {
          "output_type": "execute_result",
          "data": {
            "text/plain": [
              "<matplotlib.axes._subplots.AxesSubplot at 0x7f58e1d29410>"
            ]
          },
          "metadata": {},
          "execution_count": 57
        },
        {
          "output_type": "display_data",
          "data": {
            "text/plain": [
              "<Figure size 432x288 with 1 Axes>"
            ],
            "image/png": "[encoded data removed]"
          },
          "metadata": {}
        }
      ]
    },
    {
      "cell_type": "code",
      "source": [
        "#@title 07.- Model balñancejat \"totes les dades\", però només 2 variables importants:\n",
        "\n",
        "# Divisió de les dades en train i test\n",
        "# ==\n",
        "exog_names = ['E_Despegue3','E_Duracion_Vuelo3']\n",
        "mapper = DataFrameMapper([(exog_names, StandardScaler())])\n",
        "scaled_features = mapper.fit_transform(df3.copy(), 4)\n",
        "datos_x= pd.DataFrame(scaled_features, index=df3.index, columns=exog_names)\n",
        " \n",
        "datos_y = df3.loc[:,['Tard3']]\n",
        "X_train, X_test, y_train, y_test = train_test_split(\n",
        "                                        datos_x,\n",
        "                                       datos_y,\n",
        "                                        train_size   = 0.8,\n",
        "                                        random_state = 1234,\n",
        "                                        shuffle      = True\n",
        "                                    )\n",
        "logit_model=sm.Logit( y_train, X_train)\n",
        "result=logit_model.fit()\n",
        "print(result.summary2())\n",
        "\n",
        "\n",
        "y_pred = result.predict(X_test)\n",
        "prediction = list(map(round, y_pred))\n",
        "prediction\n",
        "\n",
        "#print(Counter(y_over))\n",
        "\n",
        "\n",
        "print('classification_report')\n",
        "print(classification_report(y_test, prediction))\n",
        "print('confusion_matrix')\n",
        "\n",
        "cf_matrix=plot_confusion_matrix(confusion_matrix(y_test, prediction), cmap='cool')\n",
        "\n",
        "precision=round(accuracy_score(y_test, prediction),2)\n",
        "accuracy.append(['2_Variables_Balanceado_TODO', precision])\n",
        "\n",
        "print('Accuracy: {:.2f}'.format(accuracy_score(y_test, prediction)))\n",
        "print('Error rate: {:.2f}'.format(1 - accuracy_score(y_test, prediction)))\n",
        "print('Precision: {:.2f}'.format(precision_score(y_test, prediction)))\n",
        "print('Recall: {:.2f}'.format(recall_score(y_test, prediction)))\n",
        "print('f1_score: {:.2f}'.format(f1_score(y_test, prediction)))\n",
        "\n",
        "\n",
        "fig, ax = plt.subplots(figsize=(6, 4))\n",
        "sns.countplot(x='Tard3',data=y_train, palette='hls')\n",
        "plt.show()"
      ],
      "metadata": {
        "cellView": "form",
        "colab": {
          "base_uri": "https://localhost:8080/",
          "height": 1000
        },
        "id": "ntN3xHs6Mr5L",
        "outputId": "47be0a61-269d-4fa8-e364-179ca11c0306"
      },
      "execution_count": 58,
      "outputs": [
        {
          "output_type": "stream",
          "name": "stdout",
          "text": [
            "Optimization terminated successfully.\n",
            "         Current function value: 0.134800\n",
            "         Iterations 9\n",
            "                         Results: Logit\n",
            "================================================================\n",
            "Model:              Logit            Pseudo R-squared: 0.804    \n",
            "Dependent Variable: Tard3            AIC:              3875.4456\n",
            "Date:               2022-10-13 07:23 BIC:              3890.5900\n",
            "No. Observations:   14360            Log-Likelihood:   -1935.7  \n",
            "Df Model:           1                LL-Null:          -9865.6  \n",
            "Df Residuals:       14358            LLR p-value:      0.0000   \n",
            "Converged:          1.0000           Scale:            1.0000   \n",
            "No. Iterations:     9.0000                                      \n",
            "----------------------------------------------------------------\n",
            "                    Coef.  Std.Err.    z    P>|z|  [0.025 0.975]\n",
            "----------------------------------------------------------------\n",
            "E_Despegue3         4.3323   0.0880 49.2224 0.0000 4.1598 4.5048\n",
            "E_Duracion_Vuelo3   3.6735   0.0774 47.4818 0.0000 3.5219 3.8251\n",
            "================================================================\n",
            "\n",
            "classification_report\n",
            "              precision    recall  f1-score   support\n",
            "\n",
            "           0       1.00      0.89      0.94      1976\n",
            "           1       0.88      1.00      0.94      1614\n",
            "\n",
            "    accuracy                           0.94      3590\n",
            "   macro avg       0.94      0.95      0.94      3590\n",
            "weighted avg       0.95      0.94      0.94      3590\n",
            "\n",
            "confusion_matrix\n",
            "Accuracy: 0.94\n",
            "Error rate: 0.06\n",
            "Precision: 0.88\n",
            "Recall: 1.00\n",
            "f1_score: 0.94\n"
          ]
        },
        {
          "output_type": "display_data",
          "data": {
            "text/plain": [
              "<Figure size 432x288 with 1 Axes>"
            ],
            "image/png": "[encoded data removed]"
          },
          "metadata": {}
        },
        {
          "output_type": "display_data",
          "data": {
            "text/plain": [
              "<Figure size 432x288 with 1 Axes>"
            ],
            "image/png": "[encoded data removed]"
          },
          "metadata": {}
        }
      ]
    },
    {
      "cell_type": "markdown",
      "source": [
        "https://vitalflux.com/handling-class-imbalance-sklearn-resample-python/"
      ],
      "metadata": {
        "id": "3BKt1x-8q4TZ"
      }
    },
    {
      "cell_type": "markdown",
      "source": [
        "\n",
        "https://www.kaggle.com/code/eikedehling/exploring-class-imbalance-resampling-and-weights/notebook"
      ],
      "metadata": {
        "id": "-XsMnWqnMfYk"
      }
    },
    {
      "cell_type": "code",
      "source": [
        "\n",
        "#@title Exploring class imbalance, resampling and weights\n",
        "# https://www.kaggle.com/code/eikedehling/exploring-class-imbalance-resampling-and-weights/notebook\n",
        "# Divisió de les dades en train i test\n",
        "# ==============================================================================\n",
        "datos_x= df2.loc[:, ['Puntualidad1', 'Puntualidad2',  \n",
        "        'E_Despegue','E_Despegue2','E_Despegue3',\n",
        "        'E_Duracion_Vuelo','E_Duracion_Vuelo2','E_Duracion_Vuelo3',]].values \n",
        "datos_y = df2.loc[:,['Tard3']]\n",
        "X_train, X_test, y_train, y_test = train_test_split(\n",
        "                                        datos_x,\n",
        "                                       datos_y,\n",
        "                                        train_size   = 0.8,\n",
        "                                        random_state = 1234,\n",
        "                                        shuffle      = True\n",
        "                                    )\n",
        "\n",
        "lr = LogisticRegression()\n",
        "\n",
        "# Fit..\n",
        "lr.fit(X_train, y_train)\n",
        "\n",
        "# Predict..\n",
        "y_pred = lr.predict(X_test)\n",
        "\n",
        "# Evaluate the model\n",
        "print(classification_report(y_test, y_pred))\n",
        "plot_confusion_matrix(confusion_matrix(y_test, y_pred), cmap='cool')"
      ],
      "metadata": {
        "colab": {
          "base_uri": "https://localhost:8080/",
          "height": 476
        },
        "id": "jshgUKO96K3n",
        "outputId": "3b74c57a-266e-4389-d6cd-b82aad21a5e1"
      },
      "execution_count": 59,
      "outputs": [
        {
          "output_type": "stream",
          "name": "stdout",
          "text": [
            "              precision    recall  f1-score   support\n",
            "\n",
            "           0       1.00      1.00      1.00      1978\n",
            "           1       1.00      1.00      1.00       164\n",
            "\n",
            "    accuracy                           1.00      2142\n",
            "   macro avg       1.00      1.00      1.00      2142\n",
            "weighted avg       1.00      1.00      1.00      2142\n",
            "\n"
          ]
        },
        {
          "output_type": "execute_result",
          "data": {
            "text/plain": [
              "(<Figure size 432x288 with 1 Axes>,\n",
              " <matplotlib.axes._subplots.AxesSubplot at 0x7f58e1c7cf10>)"
            ]
          },
          "metadata": {},
          "execution_count": 59
        },
        {
          "output_type": "display_data",
          "data": {
            "text/plain": [
              "<Figure size 432x288 with 1 Axes>"
            ],
            "image/png": "[encoded data removed]"
          },
          "metadata": {}
        }
      ]
    },
    {
      "cell_type": "code",
      "source": [
        "#@title Scaling..\n",
        "datos_x= df2.loc[:, ['Puntualidad1', 'Puntualidad2',  \n",
        "        'E_Despegue','E_Despegue2','E_Despegue3',\n",
        "        'E_Duracion_Vuelo','E_Duracion_Vuelo2','E_Duracion_Vuelo3',]].values \n",
        "y = df2.loc[:,['Tard3']]\n",
        "\n",
        "scaler = RobustScaler()\n",
        "X = scaler.fit_transform(datos_x)\n",
        "\n",
        "# Split into train/test set\n",
        "X_train, X_test, y_train, y_test = train_test_split(X, y, test_size=0.2)\n",
        "\n",
        "\n",
        "X_train, X_test, y_train, y_test = train_test_split(\n",
        "                                        datos_x,\n",
        "                                       datos_y,\n",
        "                                        train_size   = 0.8,\n",
        "                                        random_state = 1234,\n",
        "                                        shuffle      = True\n",
        "                                    )\n",
        "\n",
        "lr = LogisticRegression()\n",
        "\n",
        "# Fit..\n",
        "lr.fit(X_train, y_train)\n",
        "\n",
        "# Predict..\n",
        "y_pred = lr.predict(X_test)\n",
        "\n",
        "# Evaluate the model\n",
        "print(classification_report(y_test, y_pred))\n",
        "plot_confusion_matrix(confusion_matrix(y_test, y_pred))\n",
        "\n"
      ],
      "metadata": {
        "colab": {
          "base_uri": "https://localhost:8080/",
          "height": 476
        },
        "id": "o2gbHY548x0W",
        "outputId": "741d5d0d-c141-46fa-9634-8a08fb231b32",
        "cellView": "form"
      },
      "execution_count": 60,
      "outputs": [
        {
          "output_type": "stream",
          "name": "stdout",
          "text": [
            "              precision    recall  f1-score   support\n",
            "\n",
            "           0       1.00      1.00      1.00      1978\n",
            "           1       1.00      1.00      1.00       164\n",
            "\n",
            "    accuracy                           1.00      2142\n",
            "   macro avg       1.00      1.00      1.00      2142\n",
            "weighted avg       1.00      1.00      1.00      2142\n",
            "\n"
          ]
        },
        {
          "output_type": "execute_result",
          "data": {
            "text/plain": [
              "(<Figure size 432x288 with 1 Axes>,\n",
              " <matplotlib.axes._subplots.AxesSubplot at 0x7f58e1e4ed50>)"
            ]
          },
          "metadata": {},
          "execution_count": 60
        },
        {
          "output_type": "display_data",
          "data": {
            "text/plain": [
              "<Figure size 432x288 with 1 Axes>"
            ],
            "image/png": "[encoded data removed]"
          },
          "metadata": {}
        }
      ]
    },
    {
      "cell_type": "code",
      "source": [
        "#@title Metodo de balanceig por \"minority\"\n",
        "# example of random oversampling to balance the class distribution\n",
        "from collections import Counter\n",
        "from sklearn.datasets import make_classification\n",
        "from imblearn.over_sampling import RandomOverSampler\n",
        "\n",
        "# define oversampling strategy\n",
        "oversample = RandomOverSampler(sampling_strategy='minority')\n",
        "# fit and apply the transform\n",
        "X_over, y_over = oversample.fit_resample(X, y)\n",
        "# summarize class distribution\n",
        "print(Counter(y_over))\n",
        "y_over\n",
        "\n",
        "#df3= df2_sobremostrejat\n",
        "fig, ax = plt.subplots(figsize=(6, 4))\n",
        "sns.countplot(x='Tard3',data=y_over, palette='hls')\n",
        "plt.show()"
      ],
      "metadata": {
        "colab": {
          "base_uri": "https://localhost:8080/",
          "height": 302
        },
        "id": "g_tw_xAq80y_",
        "outputId": "77a11848-e3f3-46ac-f7b0-960126515922",
        "cellView": "form"
      },
      "execution_count": 61,
      "outputs": [
        {
          "output_type": "stream",
          "name": "stdout",
          "text": [
            "Counter({'Tard3': 1})\n"
          ]
        },
        {
          "output_type": "display_data",
          "data": {
            "text/plain": [
              "<Figure size 432x288 with 1 Axes>"
            ],
            "image/png": "[encoded data removed]"
          },
          "metadata": {}
        }
      ]
    },
    {
      "cell_type": "code",
      "source": [
        "#@title 06 Balancejan despres el X_train i el y_train\n",
        "\n",
        "exog_names = ['Puntualidad1', 'Puntualidad2',  \n",
        "        'E_Despegue','E_Despegue2','E_Despegue3',\n",
        "        'E_Duracion_Vuelo','E_Duracion_Vuelo2','E_Duracion_Vuelo3',]\n",
        "\n",
        "mapper = DataFrameMapper([(exog_names, StandardScaler())])\n",
        "scaled_features = mapper.fit_transform(df2.copy(), 4)\n",
        "datos_x= pd.DataFrame(scaled_features, index=df2.index, columns=exog_names)\n",
        "\n",
        "#datos_x= df2.loc[:, exog_names].values \n",
        "\n",
        "datos_y = df2.loc[:,['Tard3']]\n",
        "X_train, X_test, y_train, y_test = train_test_split(\n",
        "                                        datos_x,\n",
        "                                       datos_y,\n",
        "                                        train_size   = 0.8,\n",
        "                                        random_state = 1234,\n",
        "                                        shuffle      = True\n",
        "                                    )\n",
        "\n",
        "oversample = RandomOverSampler(sampling_strategy='minority')\n",
        "# fit and apply the transform\n",
        "X_over, y_over = oversample.fit_resample(X_train, y_train)\n",
        "\n",
        "logit_model=sm.Logit( y_over, X_over)\n",
        "result=logit_model.fit()\n",
        "print(result.summary2())\n",
        "print(result.summary())"
      ],
      "metadata": {
        "colab": {
          "base_uri": "https://localhost:8080/"
        },
        "id": "MSoI-jWlrvWz",
        "outputId": "04a1783c-3b61-4ae9-9491-7859c769743e"
      },
      "execution_count": 62,
      "outputs": [
        {
          "output_type": "stream",
          "name": "stdout",
          "text": [
            "Warning: Maximum number of iterations has been exceeded.\n",
            "         Current function value: 0.386923\n",
            "         Iterations: 35\n",
            "                                 Results: Logit\n",
            "================================================================================\n",
            "Model:                   Logit                 Pseudo R-squared:      0.442     \n",
            "Dependent Variable:      Tard3                 AIC:                   12350.1885\n",
            "Date:                    2022-10-13 07:23      BIC:                   12396.2495\n",
            "No. Observations:        15944                 Log-Likelihood:        -6169.1   \n",
            "Df Model:                5                     LL-Null:               -11052.   \n",
            "Df Residuals:            15938                 LLR p-value:           0.0000    \n",
            "Converged:               0.0000                Scale:                 1.0000    \n",
            "No. Iterations:          35.0000                                                \n",
            "--------------------------------------------------------------------------------\n",
            "                   Coef.    Std.Err.      z    P>|z|      [0.025       0.975]   \n",
            "--------------------------------------------------------------------------------\n",
            "Puntualidad1      -0.0084          nan     nan    nan           nan          nan\n",
            "Puntualidad2      -0.0005 1470122.3552 -0.0000 1.0000 -2881386.8696 2881386.8685\n",
            "E_Despegue        -0.0176          nan     nan    nan           nan          nan\n",
            "E_Despegue2       -0.0172 1189788.1114 -0.0000 1.0000 -2331941.8647 2331941.8303\n",
            "E_Despegue3        1.1323       0.0230 49.2265 0.0000        1.0872       1.1774\n",
            "E_Duracion_Vuelo   0.0044          nan     nan    nan           nan          nan\n",
            "E_Duracion_Vuelo2  0.0168 1168771.1569  0.0000 1.0000 -2290749.3568 2290749.3905\n",
            "E_Duracion_Vuelo3  0.9489       0.0203 46.6330 0.0000        0.9090       0.9888\n",
            "================================================================================\n",
            "\n",
            "                           Logit Regression Results                           \n",
            "==============================================================================\n",
            "Dep. Variable:                  Tard3   No. Observations:                15944\n",
            "Model:                          Logit   Df Residuals:                    15938\n",
            "Method:                           MLE   Df Model:                            5\n",
            "Date:                Thu, 13 Oct 2022   Pseudo R-squ.:                  0.4418\n",
            "Time:                        07:23:55   Log-Likelihood:                -6169.1\n",
            "converged:                      False   LL-Null:                       -11052.\n",
            "Covariance Type:            nonrobust   LLR p-value:                     0.000\n",
            "=====================================================================================\n",
            "                        coef    std err          z      P>|z|      [0.025      0.975]\n",
            "-------------------------------------------------------------------------------------\n",
            "Puntualidad1         -0.0084        nan        nan        nan         nan         nan\n",
            "Puntualidad2         -0.0005   1.47e+06   -3.6e-10      1.000   -2.88e+06    2.88e+06\n",
            "E_Despegue           -0.0176        nan        nan        nan         nan         nan\n",
            "E_Despegue2          -0.0172   1.19e+06  -1.44e-08      1.000   -2.33e+06    2.33e+06\n",
            "E_Despegue3           1.1323      0.023     49.226      0.000       1.087       1.177\n",
            "E_Duracion_Vuelo      0.0044        nan        nan        nan         nan         nan\n",
            "E_Duracion_Vuelo2     0.0168   1.17e+06   1.44e-08      1.000   -2.29e+06    2.29e+06\n",
            "E_Duracion_Vuelo3     0.9489      0.020     46.633      0.000       0.909       0.989\n",
            "=====================================================================================\n"
          ]
        },
        {
          "output_type": "stream",
          "name": "stderr",
          "text": [
            "/usr/local/lib/python3.7/dist-packages/statsmodels/base/model.py:568: ConvergenceWarning: Maximum Likelihood optimization failed to converge. Check mle_retvals\n",
            "  ConvergenceWarning)\n"
          ]
        }
      ]
    },
    {
      "cell_type": "code",
      "source": [
        "\n",
        "\n",
        "sns.set(style=\"white\")\n",
        "sns.set(style=\"whitegrid\", color_codes=True)\n",
        "\n",
        "prediction = list(map(round, y_pred))\n",
        "prediction\n",
        "print(classification_report(y_test, prediction))\n",
        "plot_confusion_matrix(confusion_matrix(y_test, prediction))"
      ],
      "metadata": {
        "colab": {
          "base_uri": "https://localhost:8080/",
          "height": 476
        },
        "id": "uLnu5npdI1_V",
        "outputId": "e57e5fa4-9407-4e9c-b4b8-c893b1f97d32"
      },
      "execution_count": 63,
      "outputs": [
        {
          "output_type": "stream",
          "name": "stdout",
          "text": [
            "              precision    recall  f1-score   support\n",
            "\n",
            "           0       1.00      1.00      1.00      1978\n",
            "           1       1.00      1.00      1.00       164\n",
            "\n",
            "    accuracy                           1.00      2142\n",
            "   macro avg       1.00      1.00      1.00      2142\n",
            "weighted avg       1.00      1.00      1.00      2142\n",
            "\n"
          ]
        },
        {
          "output_type": "execute_result",
          "data": {
            "text/plain": [
              "(<Figure size 432x288 with 1 Axes>,\n",
              " <matplotlib.axes._subplots.AxesSubplot at 0x7f58e211f650>)"
            ]
          },
          "metadata": {},
          "execution_count": 63
        },
        {
          "output_type": "display_data",
          "data": {
            "text/plain": [
              "<Figure size 432x288 with 1 Axes>"
            ],
            "image/png": "[encoded data removed]"
          },
          "metadata": {}
        }
      ]
    },
    {
      "cell_type": "markdown",
      "source": [
        "https://michael-fuchs-python.netlify.app/2019/10/31/introduction-to-logistic-regression/"
      ],
      "metadata": {
        "id": "h6qjQL8QKGAc"
      }
    },
    {
      "cell_type": "code",
      "source": [
        "print('Accuracy: {:.2f}'.format(accuracy_score(y_test, prediction)))\n",
        "print('Error rate: {:.2f}'.format(1 - accuracy_score(y_test, prediction)))\n",
        "print('Precision: {:.2f}'.format(precision_score(y_test, prediction)))\n",
        "print('Recall: {:.2f}'.format(recall_score(y_test, prediction)))\n",
        "print('f1_score: {:.2f}'.format(f1_score(y_test, prediction)))"
      ],
      "metadata": {
        "colab": {
          "base_uri": "https://localhost:8080/"
        },
        "id": "q3ybkW7lK8SY",
        "outputId": "dbcd1abf-8a0c-4e78-9f3d-b3d03e1d2c71"
      },
      "execution_count": 64,
      "outputs": [
        {
          "output_type": "stream",
          "name": "stdout",
          "text": [
            "Accuracy: 1.00\n",
            "Error rate: 0.00\n",
            "Precision: 1.00\n",
            "Recall: 1.00\n",
            "f1_score: 1.00\n"
          ]
        }
      ]
    },
    {
      "cell_type": "markdown",
      "source": [
        "**Accuracy** is the fraction of predictions our model got right.\n",
        "\n",
        "**Error rate** is the fraction of predictions our model got wrong.\n",
        "\n",
        "The **precision** is intuitively the ability of the classifier to not label a sample as positive if it is negative.\n",
        "\n",
        "**The recall** is intuitively the ability of the classifier to find all the positive samples.\n",
        "\n",
        "The **F1 score** can be interpreted as a weighted average of the precision and recall, where an F1 score reaches its best value at 1 and worst score at 0."
      ],
      "metadata": {
        "id": "ITB2GiWpLad3"
      }
    },
    {
      "cell_type": "code",
      "source": [
        "#@title Identificar parametres importants.\n",
        "print(result.params)\n",
        "parametros = pd.DataFrame(result.params)\n",
        "\n",
        "parametros.columns=['Coeficiente']\n",
        "parametros = parametros.rename_axis('Variable').reset_index()\n",
        "parametros\n",
        "sns.barplot(y='Variable', x=\"Coeficiente\", data=parametros)"
      ],
      "metadata": {
        "colab": {
          "base_uri": "https://localhost:8080/",
          "height": 458
        },
        "id": "-HvRMbbq40pf",
        "outputId": "da50bbe8-7d3d-4501-f2db-01dc11aacd66"
      },
      "execution_count": 65,
      "outputs": [
        {
          "output_type": "stream",
          "name": "stdout",
          "text": [
            "Puntualidad1        -0.008448\n",
            "Puntualidad2        -0.000529\n",
            "E_Despegue          -0.017647\n",
            "E_Despegue2         -0.017190\n",
            "E_Despegue3          1.132319\n",
            "E_Duracion_Vuelo     0.004363\n",
            "E_Duracion_Vuelo2    0.016836\n",
            "E_Duracion_Vuelo3    0.948897\n",
            "dtype: float64\n"
          ]
        },
        {
          "output_type": "execute_result",
          "data": {
            "text/plain": [
              "<matplotlib.axes._subplots.AxesSubplot at 0x7f58e1fb8710>"
            ]
          },
          "metadata": {},
          "execution_count": 65
        },
        {
          "output_type": "display_data",
          "data": {
            "text/plain": [
              "<Figure size 432x288 with 1 Axes>"
            ],
            "image/png": "[encoded data removed]"
          },
          "metadata": {}
        }
      ]
    },
    {
      "cell_type": "code",
      "source": [
        "#@title 01.- Logistic Regression with the statsmodel library. Umbanaced\n",
        "\n",
        "\n",
        "df2=pd.DataFrame(df2)\n",
        "datos_x= df2.loc[:, ['Puntualidad1', 'Puntualidad2',  \n",
        "        'E_Despegue','E_Despegue2','E_Despegue3',\n",
        "        'E_Duracion_Vuelo','E_Duracion_Vuelo2','E_Duracion_Vuelo3',]].values \n",
        "\n",
        " \n",
        "datos_y = df2.loc[:,['Tard3']]\n",
        "X_train, X_test, y_train, y_test = train_test_split(\n",
        "                                        datos_x,\n",
        "                                       datos_y,\n",
        "                                        train_size   = 0.8,\n",
        "                                        random_state = 1234,\n",
        "                                        shuffle      = True\n",
        "                                    )\n",
        "\n",
        "\n",
        "model = sm.Logit(y_train, X_train)\n",
        "\n",
        "model.exog_names[:] = ['Puntualidad1', 'Puntualidad2',  \n",
        "        'E_Despegue','E_Despegue2','E_Despegue3',\n",
        "        'E_Duracion_Vuelo','E_Duracion_Vuelo2','E_Duracion_Vuelo3',]\n",
        " \n",
        "endog_name = model.endog_names\n",
        "\n",
        "\n",
        "model_fit = model.fit()\n",
        "\n",
        "print(model_fit.summary())\n",
        "\n",
        "fig, ax = plt.subplots(figsize=(6, 4))\n",
        "sns.countplot(x='Tard3',data=y_train, palette='hls')\n",
        "plt.show()\n",
        "\n",
        "\n",
        "# Predict..\n",
        "y_pred = lr.predict(X_test)\n",
        "\n",
        "prediction = list(map(round, y_pred))\n",
        "prediction\n",
        "print(classification_report(y_test, prediction))\n",
        "plot_confusion_matrix(confusion_matrix(y_test, prediction))\n",
        "\n",
        "precision=round(accuracy_score(y_test, prediction),2)\n",
        "accuracy.append(['8_Variables_Unbalance', precision])\n",
        "\n",
        "print('Accuracy: {:.2f}'.format(accuracy_score(y_test, prediction)))\n",
        "print('Error rate: {:.2f}'.format(1 - accuracy_score(y_test, prediction)))\n",
        "print('Precision: {:.2f}'.format(precision_score(y_test, prediction)))\n",
        "print('Recall: {:.2f}'.format(recall_score(y_test, prediction)))\n",
        "print('f1_score: {:.2f}'.format(f1_score(y_test, prediction)))"
      ],
      "metadata": {
        "colab": {
          "base_uri": "https://localhost:8080/",
          "height": 1000
        },
        "id": "zmfK8UYzOkmb",
        "outputId": "03585c72-b10c-4ff0-88db-6c5000ebd69e",
        "cellView": "form"
      },
      "execution_count": 66,
      "outputs": [
        {
          "output_type": "stream",
          "name": "stdout",
          "text": [
            "Warning: Maximum number of iterations has been exceeded.\n",
            "         Current function value: 0.194613\n",
            "         Iterations: 35\n",
            "                           Logit Regression Results                           \n",
            "==============================================================================\n",
            "Dep. Variable:                  Tard3   No. Observations:                 8566\n",
            "Model:                          Logit   Df Residuals:                     8560\n",
            "Method:                           MLE   Df Model:                            5\n",
            "Date:                Thu, 13 Oct 2022   Pseudo R-squ.:                  0.2275\n",
            "Time:                        07:23:55   Log-Likelihood:                -1667.1\n",
            "converged:                      False   LL-Null:                       -2158.1\n",
            "Covariance Type:            nonrobust   LLR p-value:                4.491e-210\n",
            "=====================================================================================\n",
            "                        coef    std err          z      P>|z|      [0.025      0.975]\n",
            "-------------------------------------------------------------------------------------\n",
            "Puntualidad1          0.0870        nan        nan        nan         nan         nan\n",
            "Puntualidad2          0.0369      0.002     17.050      0.000       0.033       0.041\n",
            "E_Despegue            0.0305        nan        nan        nan         nan         nan\n",
            "E_Despegue2          -0.0628      0.011     -5.646      0.000      -0.085      -0.041\n",
            "E_Despegue3           0.2537      0.008     32.453      0.000       0.238       0.269\n",
            "E_Duracion_Vuelo      0.0565        nan        nan        nan         nan         nan\n",
            "E_Duracion_Vuelo2     0.0996         -0       -inf      0.000       0.100       0.100\n",
            "E_Duracion_Vuelo3     0.2924      0.008     34.837      0.000       0.276       0.309\n",
            "=====================================================================================\n"
          ]
        },
        {
          "output_type": "stream",
          "name": "stderr",
          "text": [
            "/usr/local/lib/python3.7/dist-packages/statsmodels/base/model.py:568: ConvergenceWarning: Maximum Likelihood optimization failed to converge. Check mle_retvals\n",
            "  ConvergenceWarning)\n"
          ]
        },
        {
          "output_type": "display_data",
          "data": {
            "text/plain": [
              "<Figure size 432x288 with 1 Axes>"
            ],
            "image/png": "[encoded data removed]"
          },
          "metadata": {}
        },
        {
          "output_type": "stream",
          "name": "stdout",
          "text": [
            "              precision    recall  f1-score   support\n",
            "\n",
            "           0       1.00      1.00      1.00      1978\n",
            "           1       1.00      1.00      1.00       164\n",
            "\n",
            "    accuracy                           1.00      2142\n",
            "   macro avg       1.00      1.00      1.00      2142\n",
            "weighted avg       1.00      1.00      1.00      2142\n",
            "\n",
            "Accuracy: 1.00\n",
            "Error rate: 0.00\n",
            "Precision: 1.00\n",
            "Recall: 1.00\n",
            "f1_score: 1.00\n"
          ]
        },
        {
          "output_type": "display_data",
          "data": {
            "text/plain": [
              "<Figure size 432x288 with 1 Axes>"
            ],
            "image/png": "[encoded data removed]"
          },
          "metadata": {}
        }
      ]
    },
    {
      "cell_type": "code",
      "source": [
        "print(model_fit.params)\n",
        "parametros = pd.DataFrame(model_fit.params)\n",
        "\n",
        "parametros.columns=['Coeficiente']\n",
        "parametros = parametros.rename_axis('Variable').reset_index()\n",
        "parametros\n",
        "sns.barplot(y='Variable', x=\"Coeficiente\", data=parametros)"
      ],
      "metadata": {
        "id": "2WW6FSP76TAp",
        "outputId": "1febdca2-c0d8-4d8f-904a-4050cc8eff5a",
        "colab": {
          "base_uri": "https://localhost:8080/",
          "height": 458
        }
      },
      "execution_count": 67,
      "outputs": [
        {
          "output_type": "stream",
          "name": "stdout",
          "text": [
            "Puntualidad1         0.086985\n",
            "Puntualidad2         0.036853\n",
            "E_Despegue           0.030480\n",
            "E_Despegue2         -0.062765\n",
            "E_Despegue3          0.253739\n",
            "E_Duracion_Vuelo     0.056519\n",
            "E_Duracion_Vuelo2    0.099612\n",
            "E_Duracion_Vuelo3    0.292412\n",
            "dtype: float64\n"
          ]
        },
        {
          "output_type": "execute_result",
          "data": {
            "text/plain": [
              "<matplotlib.axes._subplots.AxesSubplot at 0x7f58e17cdc10>"
            ]
          },
          "metadata": {},
          "execution_count": 67
        },
        {
          "output_type": "display_data",
          "data": {
            "text/plain": [
              "<Figure size 432x288 with 1 Axes>"
            ],
            "image/png": "[encoded data removed]"
          },
          "metadata": {}
        }
      ]
    },
    {
      "cell_type": "code",
      "source": [
        "#@title 02 Logistic Regression with the statsmodel library. Balanced\n",
        "\n",
        "datos_x= df2.loc[:, [ 'Puntualidad2', 'E_Despegue2','E_Despegue3', 'E_Duracion_Vuelo2','E_Duracion_Vuelo3',]].values \n",
        "datos_y = df2.loc[:,['Tard3']]\n",
        "\n",
        "X_train, X_test, y_train, y_test = train_test_split(datos_x,\n",
        "                                       datos_y,\n",
        "                                        train_size   = 0.8,\n",
        "                                        random_state = 1234,\n",
        "                                        shuffle      = True )\n",
        "\n",
        "oversample = RandomOverSampler(sampling_strategy='minority')\n",
        "# fit and apply the transform\n",
        "X_over, y_over = oversample.fit_resample(X_train, y_train)\n",
        "\n",
        "model = sm.Logit(y_over, X_over)\n",
        "\n",
        "\n",
        "model_fit = model.fit()\n",
        "\n",
        "print(model_fit.summary())\n",
        "\n",
        "\n",
        "y_pred = model_fit.predict(X_test)\n",
        "prediction = list(map(round, y_pred))\n",
        "prediction\n",
        "\n",
        "print(Counter(y_over))\n",
        "\n",
        "fig, ax = plt.subplots(figsize=(6, 4))\n",
        "sns.countplot(x='Tard3',data=y_over, palette='hls')\n",
        "plt.show()\n",
        "\n",
        "print(classification_report(y_test, prediction))\n",
        "plot_confusion_matrix(confusion_matrix(y_test, prediction), cmap='flag')\n",
        "\n",
        "precision=round(accuracy_score(y_test, prediction),2)\n",
        "accuracy.append(['6Variables_balanceadoTrain_escalado', precision])\n",
        "\n",
        "print('Accuracy: {:.2f}'.format(accuracy_score(y_test, prediction)))\n",
        "print('Error rate: {:.2f}'.format(1 - accuracy_score(y_test, prediction)))\n",
        "print('Precision: {:.2f}'.format(precision_score(y_test, prediction)))\n",
        "print('Recall: {:.2f}'.format(recall_score(y_test, prediction)))\n",
        "print('f1_score: {:.2f}'.format(f1_score(y_test, prediction)))\n"
      ],
      "metadata": {
        "colab": {
          "base_uri": "https://localhost:8080/",
          "height": 1000
        },
        "id": "wi3eT9M3SPx_",
        "outputId": "b2305937-5c9c-4e98-a33e-ab14d8158f38",
        "cellView": "form"
      },
      "execution_count": 68,
      "outputs": [
        {
          "output_type": "stream",
          "name": "stdout",
          "text": [
            "Warning: Maximum number of iterations has been exceeded.\n",
            "         Current function value: 0.154610\n",
            "         Iterations: 35\n",
            "                           Logit Regression Results                           \n",
            "==============================================================================\n",
            "Dep. Variable:                  Tard3   No. Observations:                15944\n",
            "Model:                          Logit   Df Residuals:                    15940\n",
            "Method:                           MLE   Df Model:                            3\n",
            "Date:                Thu, 13 Oct 2022   Pseudo R-squ.:                  0.7769\n",
            "Time:                        07:23:56   Log-Likelihood:                -2465.1\n",
            "converged:                      False   LL-Null:                       -11052.\n",
            "Covariance Type:            nonrobust   LLR p-value:                     0.000\n",
            "==============================================================================\n",
            "                 coef    std err          z      P>|z|      [0.025      0.975]\n",
            "------------------------------------------------------------------------------\n",
            "x1             0.0512        nan        nan        nan         nan         nan\n",
            "x2            -0.0086        nan        nan        nan         nan         nan\n",
            "x3             0.3238      0.006     54.446      0.000       0.312       0.335\n",
            "x4             0.0598        nan        nan        nan         nan         nan\n",
            "x5             0.3540      0.007     49.937      0.000       0.340       0.368\n",
            "==============================================================================\n",
            "Counter({'Tard3': 1})\n"
          ]
        },
        {
          "output_type": "stream",
          "name": "stderr",
          "text": [
            "/usr/local/lib/python3.7/dist-packages/statsmodels/base/model.py:568: ConvergenceWarning: Maximum Likelihood optimization failed to converge. Check mle_retvals\n",
            "  ConvergenceWarning)\n"
          ]
        },
        {
          "output_type": "display_data",
          "data": {
            "text/plain": [
              "<Figure size 432x288 with 1 Axes>"
            ],
            "image/png": "[encoded data removed]"
          },
          "metadata": {}
        },
        {
          "output_type": "stream",
          "name": "stdout",
          "text": [
            "              precision    recall  f1-score   support\n",
            "\n",
            "           0       1.00      0.87      0.93      1978\n",
            "           1       0.39      1.00      0.56       164\n",
            "\n",
            "    accuracy                           0.88      2142\n",
            "   macro avg       0.70      0.94      0.75      2142\n",
            "weighted avg       0.95      0.88      0.90      2142\n",
            "\n",
            "Accuracy: 0.88\n",
            "Error rate: 0.12\n",
            "Precision: 0.39\n",
            "Recall: 1.00\n",
            "f1_score: 0.56\n"
          ]
        },
        {
          "output_type": "display_data",
          "data": {
            "text/plain": [
              "<Figure size 432x288 with 1 Axes>"
            ],
            "image/png": "[encoded data removed]"
          },
          "metadata": {}
        }
      ]
    },
    {
      "cell_type": "code",
      "source": [
        "#@title Identificar parametres importants.\n",
        "print(model_fit.params)\n",
        "parametros = pd.DataFrame(model_fit.params)\n",
        "\n",
        "parametros.columns=['Coeficiente']\n",
        "parametros = parametros.rename_axis('Variable').reset_index()\n",
        "parametros\n",
        "sns.barplot(y='Variable', x=\"Coeficiente\", data=parametros)"
      ],
      "metadata": {
        "colab": {
          "base_uri": "https://localhost:8080/",
          "height": 406
        },
        "id": "iOGv-4VF4mlx",
        "outputId": "bc1de233-4ade-41e6-feed-8a32142a2620"
      },
      "execution_count": 69,
      "outputs": [
        {
          "output_type": "stream",
          "name": "stdout",
          "text": [
            "x1    0.051158\n",
            "x2   -0.008613\n",
            "x3    0.323765\n",
            "x4    0.059848\n",
            "x5    0.354000\n",
            "dtype: float64\n"
          ]
        },
        {
          "output_type": "execute_result",
          "data": {
            "text/plain": [
              "<matplotlib.axes._subplots.AxesSubplot at 0x7f58e1837310>"
            ]
          },
          "metadata": {},
          "execution_count": 69
        },
        {
          "output_type": "display_data",
          "data": {
            "text/plain": [
              "<Figure size 432x288 with 1 Axes>"
            ],
            "image/png": "[encoded data removed]"
          },
          "metadata": {}
        }
      ]
    },
    {
      "cell_type": "code",
      "source": [
        "#@title 03 RL, balancejat el Train\n",
        "\n",
        "exog_names = ['E_Despegue2','E_Despegue3', 'E_Duracion_Vuelo2','E_Duracion_Vuelo3',]\n",
        "\n",
        "datos_x= df2.loc[:, exog_names].values\n",
        "datos_y = df2.loc[:,['Tard3']]\n",
        "X_train, X_test, y_train, y_test = train_test_split(\n",
        "                                        datos_x,\n",
        "                                       datos_y,\n",
        "                                        train_size   = 0.8,\n",
        "                                        random_state = 1234,\n",
        "                                        shuffle      = True)\n",
        "\n",
        "oversample = RandomOverSampler(sampling_strategy='minority')\n",
        "X_over, y_over = oversample.fit_resample(X_train, y_train)\n",
        "\n",
        "model = sm.Logit(y_over, X_over)\n",
        "model.exog_names[:] = exog_names \n",
        "endog_name = model.endog_names\n",
        "\n",
        "model_fit = model.fit()\n",
        "\n",
        "print(model_fit.summary())\n",
        "\n",
        "y_pred = model_fit.predict(X_test)\n",
        "prediction = list(map(round, y_pred))\n",
        "prediction\n",
        "\n",
        "print(Counter(y_over))\n",
        "\n",
        "fig, ax = plt.subplots(figsize=(6, 4))\n",
        "sns.countplot(x='Tard3',data=y_over, palette='hls')\n",
        "plt.show()\n",
        "\n",
        "print('classification_report')\n",
        "print(classification_report(y_test, prediction))\n",
        "print('confusion_matrix')\n",
        "plot_confusion_matrix(confusion_matrix(y_test, prediction), cmap='flag')\n",
        "\n",
        "\n",
        "print('Accuracy: {:.2f}'.format(accuracy_score(y_test, prediction)))\n",
        "print('Error rate: {:.2f}'.format(1 - accuracy_score(y_test, prediction)))\n",
        "print('Precision: {:.2f}'.format(precision_score(y_test, prediction)))\n",
        "print('Recall: {:.2f}'.format(recall_score(y_test, prediction)))\n",
        "print('f1_score: {:.2f}'.format(f1_score(y_test, prediction)))\n"
      ],
      "metadata": {
        "id": "zzsMCm5MWOqk",
        "outputId": "53cf67bf-0e8c-4cec-814f-46f07b2b7cfe",
        "colab": {
          "base_uri": "https://localhost:8080/",
          "height": 1000
        },
        "cellView": "form"
      },
      "execution_count": 70,
      "outputs": [
        {
          "output_type": "stream",
          "name": "stdout",
          "text": [
            "Optimization terminated successfully.\n",
            "         Current function value: 0.154386\n",
            "         Iterations 8\n",
            "                           Logit Regression Results                           \n",
            "==============================================================================\n",
            "Dep. Variable:                  Tard3   No. Observations:                15944\n",
            "Model:                          Logit   Df Residuals:                    15940\n",
            "Method:                           MLE   Df Model:                            3\n",
            "Date:                Thu, 13 Oct 2022   Pseudo R-squ.:                  0.7773\n",
            "Time:                        07:23:57   Log-Likelihood:                -2461.5\n",
            "converged:                       True   LL-Null:                       -11052.\n",
            "Covariance Type:            nonrobust   LLR p-value:                     0.000\n",
            "=====================================================================================\n",
            "                        coef    std err          z      P>|z|      [0.025      0.975]\n",
            "-------------------------------------------------------------------------------------\n",
            "E_Despegue2           0.0425      0.004      9.696      0.000       0.034       0.051\n",
            "E_Despegue3           0.3223      0.006     54.321      0.000       0.311       0.334\n",
            "E_Duracion_Vuelo2     0.1108      0.004     24.669      0.000       0.102       0.120\n",
            "E_Duracion_Vuelo3     0.3527      0.007     49.974      0.000       0.339       0.367\n",
            "=====================================================================================\n",
            "Counter({'Tard3': 1})\n"
          ]
        },
        {
          "output_type": "display_data",
          "data": {
            "text/plain": [
              "<Figure size 432x288 with 1 Axes>"
            ],
            "image/png": "[encoded data removed]"
          },
          "metadata": {}
        },
        {
          "output_type": "stream",
          "name": "stdout",
          "text": [
            "classification_report\n",
            "              precision    recall  f1-score   support\n",
            "\n",
            "           0       1.00      0.87      0.93      1978\n",
            "           1       0.39      1.00      0.56       164\n",
            "\n",
            "    accuracy                           0.88      2142\n",
            "   macro avg       0.70      0.94      0.75      2142\n",
            "weighted avg       0.95      0.88      0.90      2142\n",
            "\n",
            "confusion_matrix\n",
            "Accuracy: 0.88\n",
            "Error rate: 0.12\n",
            "Precision: 0.39\n",
            "Recall: 1.00\n",
            "f1_score: 0.56\n"
          ]
        },
        {
          "output_type": "display_data",
          "data": {
            "text/plain": [
              "<Figure size 432x288 with 1 Axes>"
            ],
            "image/png": "[encoded data removed]"
          },
          "metadata": {}
        }
      ]
    },
    {
      "cell_type": "code",
      "source": [
        "#@title 03 Identificar parametres importants.\n",
        "print(model_fit.params)\n",
        "parametros = pd.DataFrame(model_fit.params)\n",
        "\n",
        "parametros.columns=['Coeficiente']\n",
        "parametros = parametros.rename_axis('Variable').reset_index()\n",
        "parametros\n",
        "sns.barplot(y='Variable', x=\"Coeficiente\", data=parametros)"
      ],
      "metadata": {
        "colab": {
          "base_uri": "https://localhost:8080/",
          "height": 389
        },
        "id": "FtwGXkxL4Y8x",
        "outputId": "e269347d-a899-48e8-f988-fc6cbf64df98"
      },
      "execution_count": 71,
      "outputs": [
        {
          "output_type": "stream",
          "name": "stdout",
          "text": [
            "E_Despegue2          0.042455\n",
            "E_Despegue3          0.322291\n",
            "E_Duracion_Vuelo2    0.110791\n",
            "E_Duracion_Vuelo3    0.352712\n",
            "dtype: float64\n"
          ]
        },
        {
          "output_type": "execute_result",
          "data": {
            "text/plain": [
              "<matplotlib.axes._subplots.AxesSubplot at 0x7f58e2109c50>"
            ]
          },
          "metadata": {},
          "execution_count": 71
        },
        {
          "output_type": "display_data",
          "data": {
            "text/plain": [
              "<Figure size 432x288 with 1 Axes>"
            ],
            "image/png": "[encoded data removed]"
          },
          "metadata": {}
        }
      ]
    },
    {
      "cell_type": "code",
      "source": [
        "#@title 04 StandardScale, RL, oversample\n",
        "\n",
        "exog_names = ['E_Despegue3', 'E_Duracion_Vuelo3',]\n",
        "\n",
        "mapper = DataFrameMapper([(exog_names, StandardScaler())])\n",
        "scaled_features = mapper.fit_transform(df2.copy(), 4)\n",
        "datos_x= pd.DataFrame(scaled_features, index=df2.index, columns=exog_names)\n",
        "\n",
        "\n",
        "#exog_names = ['E_Despegue2','E_Despegue3', 'E_Duracion_Vuelo2','E_Duracion_Vuelo3',]\n",
        " \n",
        "datos_y = df2.loc[:,['Tard3']]\n",
        "\n",
        "X_train, X_test, y_train, y_test = train_test_split(\n",
        "                                        datos_x,\n",
        "                                       datos_y,\n",
        "                                        train_size   = 0.85,\n",
        "                                        random_state = 1234,\n",
        "                                        shuffle      = True\n",
        "                                    )\n",
        "\n",
        "oversample = RandomOverSampler(sampling_strategy='minority')\n",
        "# fit and apply the transform\n",
        "X_over, y_over = oversample.fit_resample(X_train, y_train)\n",
        "\n",
        "\n",
        "model = sm.Logit(y_over, X_over)\n",
        "model.exog_names[:] = exog_names \n",
        "endog_name = model.endog_names\n",
        "\n",
        "\n",
        "model_fit = model.fit()\n",
        "\n",
        "print(model_fit.summary())\n",
        "\n",
        "# Predict..\n",
        "y_pred = model_fit.predict(X_test)\n",
        "prediction = list(map(round, y_pred))\n",
        "prediction\n",
        "\n",
        "print(Counter(y_over))\n",
        "\n",
        "fig, ax = plt.subplots(figsize=(6, 4))\n",
        "sns.countplot(x='Tard3',data=y_over, palette='hls')\n",
        "plt.show()\n",
        "\n",
        "print('classification_report')\n",
        "print(classification_report(y_test, prediction))\n",
        "print('confusion_matrix')\n",
        "\n",
        "cf_matrix=plot_confusion_matrix(confusion_matrix(y_test, prediction), cmap='jet')\n",
        "\n",
        "precision=round(accuracy_score(y_test, prediction),2)\n",
        "accuracy.append(['2_Variables_balanceado_StandardScale', precision])\n",
        "\n",
        "print('Accuracy: {:.2f}'.format(accuracy_score(y_test, prediction)))\n",
        "print('Error rate: {:.2f}'.format(1 - accuracy_score(y_test, prediction)))\n",
        "print('Precision: {:.2f}'.format(precision_score(y_test, prediction)))\n",
        "print('Recall: {:.2f}'.format(recall_score(y_test, prediction)))\n",
        "print('f1_score: {:.2f}'.format(f1_score(y_test, prediction)))\n"
      ],
      "metadata": {
        "id": "r7eMKxSrUoAU",
        "outputId": "bb1563b4-0fc4-4b9d-b0b8-3bbca48caa90",
        "colab": {
          "base_uri": "https://localhost:8080/",
          "height": 1000
        }
      },
      "execution_count": 72,
      "outputs": [
        {
          "output_type": "stream",
          "name": "stdout",
          "text": [
            "Optimization terminated successfully.\n",
            "         Current function value: 0.385475\n",
            "         Iterations 7\n",
            "                           Logit Regression Results                           \n",
            "==============================================================================\n",
            "Dep. Variable:                  Tard3   No. Observations:                16920\n",
            "Model:                          Logit   Df Residuals:                    16918\n",
            "Method:                           MLE   Df Model:                            1\n",
            "Date:                Thu, 13 Oct 2022   Pseudo R-squ.:                  0.4439\n",
            "Time:                        07:23:58   Log-Likelihood:                -6522.2\n",
            "converged:                       True   LL-Null:                       -11728.\n",
            "Covariance Type:            nonrobust   LLR p-value:                     0.000\n",
            "=====================================================================================\n",
            "                        coef    std err          z      P>|z|      [0.025      0.975]\n",
            "-------------------------------------------------------------------------------------\n",
            "E_Despegue3           1.1291      0.021     53.718      0.000       1.088       1.170\n",
            "E_Duracion_Vuelo3     0.9540      0.020     48.313      0.000       0.915       0.993\n",
            "=====================================================================================\n",
            "Counter({'Tard3': 1})\n"
          ]
        },
        {
          "output_type": "display_data",
          "data": {
            "text/plain": [
              "<Figure size 432x288 with 1 Axes>"
            ],
            "image/png": "[encoded data removed]"
          },
          "metadata": {}
        },
        {
          "output_type": "stream",
          "name": "stdout",
          "text": [
            "classification_report\n",
            "              precision    recall  f1-score   support\n",
            "\n",
            "           0       1.00      0.57      0.73      1490\n",
            "           1       0.16      1.00      0.27       117\n",
            "\n",
            "    accuracy                           0.60      1607\n",
            "   macro avg       0.58      0.79      0.50      1607\n",
            "weighted avg       0.94      0.60      0.69      1607\n",
            "\n",
            "confusion_matrix\n",
            "Accuracy: 0.60\n",
            "Error rate: 0.40\n",
            "Precision: 0.16\n",
            "Recall: 1.00\n",
            "f1_score: 0.27\n"
          ]
        },
        {
          "output_type": "display_data",
          "data": {
            "text/plain": [
              "<Figure size 432x288 with 1 Axes>"
            ],
            "image/png": "[encoded data removed]"
          },
          "metadata": {}
        }
      ]
    },
    {
      "cell_type": "code",
      "source": [
        "#@title 04 Identificar parametres importants.\n",
        "print(model_fit.params)\n",
        "parametros = pd.DataFrame(model_fit.params)\n",
        "\n",
        "parametros.columns=['Coeficiente']\n",
        "parametros = parametros.rename_axis('Variable').reset_index()\n",
        "parametros\n",
        "sns.barplot(y='Variable', x=\"Coeficiente\", data=parametros)"
      ],
      "metadata": {
        "colab": {
          "base_uri": "https://localhost:8080/",
          "height": 354
        },
        "id": "wpExo8Zj1S3p",
        "outputId": "f4116e38-d116-456a-b721-061192264ebc"
      },
      "execution_count": 73,
      "outputs": [
        {
          "output_type": "stream",
          "name": "stdout",
          "text": [
            "E_Despegue3          1.129125\n",
            "E_Duracion_Vuelo3    0.954012\n",
            "dtype: float64\n"
          ]
        },
        {
          "output_type": "execute_result",
          "data": {
            "text/plain": [
              "<matplotlib.axes._subplots.AxesSubplot at 0x7f58e1cefcd0>"
            ]
          },
          "metadata": {},
          "execution_count": 73
        },
        {
          "output_type": "display_data",
          "data": {
            "text/plain": [
              "<Figure size 432x288 with 1 Axes>"
            ],
            "image/png": "[encoded data removed]"
          },
          "metadata": {}
        }
      ]
    },
    {
      "cell_type": "code",
      "source": [
        "#@title Comparativa Accuracy\n",
        "#accuracy\n",
        "accuracy=pd.DataFrame(accuracy)\n",
        "accuracy.columns=['Metodo', 'Accuracy']\n",
        "ax= sns.barplot(y='Metodo', x=\"Accuracy\", data=accuracy)\n"
      ],
      "metadata": {
        "colab": {
          "base_uri": "https://localhost:8080/",
          "height": 285
        },
        "id": "z9y-kXEFpTNS",
        "outputId": "e39329e7-7aa6-4d36-ad23-d2315d0a4613"
      },
      "execution_count": 74,
      "outputs": [
        {
          "output_type": "display_data",
          "data": {
            "text/plain": [
              "<Figure size 432x288 with 1 Axes>"
            ],
            "image/png": "[encoded data removed]"
          },
          "metadata": {}
        }
      ]
    },
    {
      "cell_type": "markdown",
      "source": [
        "**Conclusió:**\n",
        "\n",
        "Per fer correctament una regressió logística este que fer:\n",
        "\n",
        "1.- Veure si les dades estan balancejades. Si no lo estan, es tindrà que balancejar. \n",
        "\n",
        "2.- Les dades es separen en train i test.\n",
        "\n",
        "3.- Les dades de train es balanceja’n i estandaritzen.\n",
        "\n",
        "4.- Es crea el model de regressió logística(rl).\n",
        "\n",
        "5.- Es demana el summary de la rl:\n",
        "\n",
        "6.- Identifiquem els paràmetres importants dintre del summary mirant els p-vàlues. Tenim que agafar el valors més petits de 0.05. I seran el valor “estadísticament” importants.\n",
        "\n",
        "7.- Ara mirarem quins valors són “pràcticament” importants i això ens fixarem en el valors dels coeficients.\n",
        "\n",
        "8.- tornarem a corra el model però només amb els factors identificats com important en el pas 5, 6,7.\n",
        "\n",
        "9.- Tindrem el valor Accuracy que explica el model definitiu.\n",
        "\n",
        "\n",
        "La **Accuracy** més baixa la tindrem quan només tenim 2 variables, hem estandarditzat els valors, i hem “balancejat” les dades després del \"split\""
      ],
      "metadata": {
        "id": "OVJSiiAKO7sF"
      }
    }
  ]
}