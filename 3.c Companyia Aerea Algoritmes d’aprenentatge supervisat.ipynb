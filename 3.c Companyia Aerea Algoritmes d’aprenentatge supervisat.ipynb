{
  "nbformat": 4,
  "nbformat_minor": 0,
  "metadata": {
    "colab": {
      "provenance": [],
      "toc_visible": true,
      "authorship_tag": "ABX9TyNDdKxkAVVBNL9d63rH9PdH",
      "include_colab_link": true
    },
    "kernelspec": {
      "name": "python3",
      "display_name": "Python 3"
    },
    "language_info": {
      "name": "python"
    }
  },
  "cells": [
    {
      "cell_type": "markdown",
      "metadata": {
        "id": "view-in-github",
        "colab_type": "text"
      },
      "source": [
        "<a href=\"https://colab.research.google.com/github/JMML2021/Entrega-projecte-final/blob/main/3.c%20Companyia%20Aerea%20Algoritmes%20d%E2%80%99aprenentatge%20supervisat.ipynb\" target=\"_parent\"><img src=\"https://colab.research.google.com/assets/colab-badge.svg\" alt=\"Open In Colab\"/></a>"
      ]
    },
    {
      "cell_type": "markdown",
      "source": [
        "/content/drive/MyDrive/Ficheros de Vueling/2022-09-20 14:39:04.960091 FLT_2022.xlsx"
      ],
      "metadata": {
        "id": "GfljkzgUWh8T"
      }
    },
    {
      "cell_type": "code",
      "source": [
        "import numpy as np\n",
        "import matplotlib.pyplot as plt \n",
        "\n",
        "import pandas as pd  \n",
        "import seaborn as sns \n",
        "\n",
        "%matplotlib inline\n",
        "\n",
        "\n",
        "from sklearn.manifold import TSNE\n",
        "from sklearn.decomposition import PCA\n",
        "from sklearn.ensemble import RandomForestClassifier\n",
        "from sklearn.metrics import accuracy_score, confusion_matrix\n",
        "from sklearn.model_selection import train_test_split, cross_val_score"
      ],
      "metadata": {
        "id": "R3JyLfVYWkFt"
      },
      "execution_count": 1,
      "outputs": []
    },
    {
      "cell_type": "code",
      "source": [
        "# Configuración warnings\n",
        "# ==============================================================================\n",
        "import warnings\n",
        "warnings.filterwarnings('ignore')"
      ],
      "metadata": {
        "id": "4Z4jHg8-WlDZ"
      },
      "execution_count": 2,
      "outputs": []
    },
    {
      "cell_type": "code",
      "source": [
        "# Activo Google Drive\n",
        "\n",
        "from google.colab import drive\n",
        "drive.mount('/content/drive')"
      ],
      "metadata": {
        "colab": {
          "base_uri": "https://localhost:8080/"
        },
        "id": "BqoqEb8nWmsH",
        "outputId": "37e41409-55b5-4200-e9cb-861364ae8ab3"
      },
      "execution_count": 3,
      "outputs": [
        {
          "output_type": "stream",
          "name": "stdout",
          "text": [
            "Mounted at /content/drive\n"
          ]
        }
      ]
    },
    {
      "cell_type": "code",
      "source": [
        "# Abro el fichero\n",
        "''' \n",
        "path = ('/content/drive/MyDrive/Ficheros de Vueling/2022-09-20 14:39:04.960091 FLT_2022.xlsx')\n",
        "\n",
        "    \n",
        "df=  pd.read_csv(path, sep=',', encoding=\"latin-1\")\n",
        "df.shape\n",
        "\n",
        "nRow, nCol = df.shape\n",
        "print(f'Hay  {nRow} filas con {nCol} columnas')\n",
        "df1=df.copy()\n",
        "print('\\nImprimo el primer registro, solo para ver como es:\\n')\n",
        "df1.iloc[0]\n",
        "'''"
      ],
      "metadata": {
        "colab": {
          "base_uri": "https://localhost:8080/",
          "height": 53
        },
        "id": "lMOemQkuWqG9",
        "outputId": "deb7aeb4-9de2-48c8-87ce-3735412c16a9"
      },
      "execution_count": 4,
      "outputs": [
        {
          "output_type": "execute_result",
          "data": {
            "text/plain": [
              "' \\npath = (\\'/content/drive/MyDrive/Ficheros de Vueling/2022-09-20 14:39:04.960091 FLT_2022.xlsx\\')\\n\\n    \\ndf=  pd.read_csv(path, sep=\\',\\', encoding=\"latin-1\")\\ndf.shape\\n\\nnRow, nCol = df.shape\\nprint(f\\'Hay  {nRow} filas con {nCol} columnas\\')\\ndf1=df.copy()\\nprint(\\'\\nImprimo el primer registro, solo para ver como es:\\n\\')\\ndf1.iloc[0]\\n'"
            ],
            "application/vnd.google.colaboratory.intrinsic+json": {
              "type": "string"
            }
          },
          "metadata": {},
          "execution_count": 4
        }
      ]
    },
    {
      "cell_type": "code",
      "source": [
        "# Abrir fichero de Github.\n",
        "#path='/content/drive/MyDrive/2022.06.03 2022_delay + cierre puertas CORTO.xlsx'\n",
        "Hoja = 'FLT_2022'\n",
        "path = ('/content/drive/MyDrive/Ficheros de Vueling/2022-09-20 14:39:04.960091 FLT_2022.xlsx')\n",
        "\n",
        "df = pd.read_excel(path) #, sheet_name=Hoja)\n"
      ],
      "metadata": {
        "id": "XeUq-egmW20a"
      },
      "execution_count": 5,
      "outputs": []
    },
    {
      "cell_type": "code",
      "source": [
        "# Para crear una logistic regresion:\n",
        "\n",
        "df['Tard1'] = np.where(df['Puntualidad1'] <10, 0, 1)\n",
        "df['Tard2'] = np.where(df['Puntualidad2'] <10, 0, 1)\n",
        "df['Tard3'] = np.where(df['Puntualidad3'] <10, 0, 1)"
      ],
      "metadata": {
        "id": "S-LI-nnxWx5l"
      },
      "execution_count": 6,
      "outputs": []
    },
    {
      "cell_type": "code",
      "source": [
        "df.info()"
      ],
      "metadata": {
        "colab": {
          "base_uri": "https://localhost:8080/"
        },
        "id": "W7Ou3ksAXSLB",
        "outputId": "3b7c1ff8-ea10-4f9e-a8eb-bfe771b9aeb4"
      },
      "execution_count": 7,
      "outputs": [
        {
          "output_type": "stream",
          "name": "stdout",
          "text": [
            "<class 'pandas.core.frame.DataFrame'>\n",
            "RangeIndex: 12358 entries, 0 to 12357\n",
            "Data columns (total 97 columns):\n",
            " #   Column                           Non-Null Count  Dtype         \n",
            "---  ------                           --------------  -----         \n",
            " 0   Unnamed: 0                       12358 non-null  int64         \n",
            " 1   DATE                             12358 non-null  datetime64[ns]\n",
            " 2   FLT                              12358 non-null  object        \n",
            " 3   REG                              12358 non-null  object        \n",
            " 4   AC                               12358 non-null  object        \n",
            " 5   DEP                              12358 non-null  object        \n",
            " 6   ARR                              12358 non-null  object        \n",
            " 7   STD                              12358 non-null  datetime64[ns]\n",
            " 8   STA                              12358 non-null  datetime64[ns]\n",
            " 9   TKof                             12358 non-null  datetime64[ns]\n",
            " 10  TDwn                             12358 non-null  datetime64[ns]\n",
            " 11  ATD                              12358 non-null  datetime64[ns]\n",
            " 12  ATA                              12357 non-null  datetime64[ns]\n",
            " 13  BLOCK                            12358 non-null  datetime64[ns]\n",
            " 14  FLThr                            12358 non-null  datetime64[ns]\n",
            " 15  DStand                           12358 non-null  object        \n",
            " 16  AStand                           12358 non-null  object        \n",
            " 17  ACT PAX                          12358 non-null  int64         \n",
            " 18  LF                               12358 non-null  int64         \n",
            " 19  Taxi-out                         12358 non-null  object        \n",
            " 20  Taxi-In                          12358 non-null  object        \n",
            " 21  SLOT                             12358 non-null  object        \n",
            " 22  C1                               12358 non-null  object        \n",
            " 23  DLY1                             12358 non-null  object        \n",
            " 24  Sub1                             12358 non-null  object        \n",
            " 25  C2                               12358 non-null  object        \n",
            " 26  DLY2                             12358 non-null  object        \n",
            " 27  Sub2                             12358 non-null  object        \n",
            " 28  C3                               12358 non-null  object        \n",
            " 29  DLY3                             12358 non-null  object        \n",
            " 30  Sub3                             12358 non-null  object        \n",
            " 31  C4                               12358 non-null  object        \n",
            " 32  DLY4                             12358 non-null  object        \n",
            " 33  Sub4                             12358 non-null  object        \n",
            " 34  C1Arr                            12358 non-null  object        \n",
            " 35  DLY1Arr                          2989 non-null   object        \n",
            " 36  Close Pax Door                   12247 non-null  datetime64[ns]\n",
            " 37  Close Cargo Door                 12247 non-null  datetime64[ns]\n",
            " 38  Open Cargo/Pax Door              11094 non-null  datetime64[ns]\n",
            " 39  close pax door2                  12247 non-null  datetime64[ns]\n",
            " 40  close cargo door2                12247 non-null  datetime64[ns]\n",
            " 41  open cargo/pax door2             11094 non-null  object        \n",
            " 42  Secuencia                        12358 non-null  int64         \n",
            " 43  MES                              12358 non-null  int64         \n",
            " 44  Setmana                          12358 non-null  int64         \n",
            " 45  DiaSetmana                       12358 non-null  int64         \n",
            " 46  DiaSetmanaName                   12358 non-null  object        \n",
            " 47  Aeropuerto_Key                   12358 non-null  object        \n",
            " 48  AeropuertoKey1                   12358 non-null  object        \n",
            " 49  t_ClosePax                       12247 non-null  float64       \n",
            " 50  t_Close_Cargo_Door               12247 non-null  float64       \n",
            " 51  t_Entre_Puertas                  12247 non-null  float64       \n",
            " 52  Retardo_Abrir_Puerta_Pax         11093 non-null  float64       \n",
            " 53  Trayecto                         12358 non-null  object        \n",
            " 54  E_Despegue                       12358 non-null  int64         \n",
            " 55  lag_STD                          12358 non-null  datetime64[ns]\n",
            " 56  lag_ATD                          12358 non-null  datetime64[ns]\n",
            " 57  lag_STA                          12358 non-null  datetime64[ns]\n",
            " 58  lag_ATA                          12358 non-null  datetime64[ns]\n",
            " 59  lag_ACT PAX                      12358 non-null  int64         \n",
            " 60  lag_Secuencia                    12358 non-null  int64         \n",
            " 61  lag_REG                          12358 non-null  object        \n",
            " 62  T_teoricoTierra1                 12358 non-null  int64         \n",
            " 63  T_RealTierra1                    12357 non-null  float64       \n",
            " 64  E_tierra1                        12357 non-null  float64       \n",
            " 65  Puntualidad1                     12357 non-null  float64       \n",
            " 66  Total_PAX_Boarding               12358 non-null  int64         \n",
            " 67  T_Medio_Boarding                 12356 non-null  float64       \n",
            " 68  Taxi_Despegue                    12358 non-null  int64         \n",
            " 69  Taxi_Aterrizaje                  12357 non-null  float64       \n",
            " 70  DuracionVueloTeorico             12358 non-null  int64         \n",
            " 71  DuracionVueloReal                12357 non-null  float64       \n",
            " 72  E_Duracion_Vuelo                 12357 non-null  float64       \n",
            " 73  E_Despegue2                      12358 non-null  int64         \n",
            " 74  E_Despegue3                      12357 non-null  float64       \n",
            " 75  E_Despegue4                      12358 non-null  int64         \n",
            " 76  E_Duracion_Vuelo2                12358 non-null  int64         \n",
            " 77  E_Duracion_Vuelo3                12357 non-null  float64       \n",
            " 78  E_Duracion_Vuelo4                12358 non-null  int64         \n",
            " 79  E_tierra2                        12357 non-null  float64       \n",
            " 80  E_tierra3                        12358 non-null  int64         \n",
            " 81  E_tierra4                        12358 non-null  int64         \n",
            " 82  Aeropuerto_Key2                  12358 non-null  object        \n",
            " 83  Aeropuerto_Key3                  12358 non-null  object        \n",
            " 84  Aeropuerto_Key4                  12358 non-null  object        \n",
            " 85  Puntualidad2                     12358 non-null  int64         \n",
            " 86  Puntualidad3                     12358 non-null  int64         \n",
            " 87  Puntualidad4                     12358 non-null  int64         \n",
            " 88  E_Despegue_Total                 12357 non-null  float64       \n",
            " 89  E_Duracion_Vuelo_Total           12356 non-null  float64       \n",
            " 90  E_tierra_Total                   12356 non-null  float64       \n",
            " 91  E_acumulado_Total                12356 non-null  float64       \n",
            " 92  Trajecto                         12343 non-null  object        \n",
            " 93  retardoOperturaPuertaAterrizaje  11093 non-null  float64       \n",
            " 94  Tard1                            12358 non-null  int64         \n",
            " 95  Tard2                            12358 non-null  int64         \n",
            " 96  Tard3                            12358 non-null  int64         \n",
            "dtypes: datetime64[ns](18), float64(19), int64(26), object(34)\n",
            "memory usage: 9.1+ MB\n"
          ]
        }
      ]
    },
    {
      "cell_type": "code",
      "source": [
        "df[['Puntualidad1','Tard1']][:3]"
      ],
      "metadata": {
        "id": "pufQdp1TXE0e",
        "outputId": "eaaf2c0d-c661-495b-ddb2-698c01c68747",
        "colab": {
          "base_uri": "https://localhost:8080/",
          "height": 144
        }
      },
      "execution_count": 8,
      "outputs": [
        {
          "output_type": "execute_result",
          "data": {
            "text/plain": [
              "   Puntualidad1  Tard1\n",
              "0          15.0      1\n",
              "1         -22.0      0\n",
              "2           3.0      0"
            ],
            "text/html": [
              "\n",
              "  <div id=\"df-bdc20b8a-76b7-42f9-80c5-5b35247a0b09\">\n",
              "    <div class=\"colab-df-container\">\n",
              "      <div>\n",
              "<style scoped>\n",
              "    .dataframe tbody tr th:only-of-type {\n",
              "        vertical-align: middle;\n",
              "    }\n",
              "\n",
              "    .dataframe tbody tr th {\n",
              "        vertical-align: top;\n",
              "    }\n",
              "\n",
              "    .dataframe thead th {\n",
              "        text-align: right;\n",
              "    }\n",
              "</style>\n",
              "<table border=\"1\" class=\"dataframe\">\n",
              "  <thead>\n",
              "    <tr style=\"text-align: right;\">\n",
              "      <th></th>\n",
              "      <th>Puntualidad1</th>\n",
              "      <th>Tard1</th>\n",
              "    </tr>\n",
              "  </thead>\n",
              "  <tbody>\n",
              "    <tr>\n",
              "      <th>0</th>\n",
              "      <td>15.0</td>\n",
              "      <td>1</td>\n",
              "    </tr>\n",
              "    <tr>\n",
              "      <th>1</th>\n",
              "      <td>-22.0</td>\n",
              "      <td>0</td>\n",
              "    </tr>\n",
              "    <tr>\n",
              "      <th>2</th>\n",
              "      <td>3.0</td>\n",
              "      <td>0</td>\n",
              "    </tr>\n",
              "  </tbody>\n",
              "</table>\n",
              "</div>\n",
              "      <button class=\"colab-df-convert\" onclick=\"convertToInteractive('df-bdc20b8a-76b7-42f9-80c5-5b35247a0b09')\"\n",
              "              title=\"Convert this dataframe to an interactive table.\"\n",
              "              style=\"display:none;\">\n",
              "        \n",
              "  <svg xmlns=\"http://www.w3.org/2000/svg\" height=\"24px\"viewBox=\"0 0 24 24\"\n",
              "       width=\"24px\">\n",
              "    <path d=\"M0 0h24v24H0V0z\" fill=\"none\"/>\n",
              "    <path d=\"M18.56 5.44l.94 2.06.94-2.06 2.06-.94-2.06-.94-.94-2.06-.94 2.06-2.06.94zm-11 1L8.5 8.5l.94-2.06 2.06-.94-2.06-.94L8.5 2.5l-.94 2.06-2.06.94zm10 10l.94 2.06.94-2.06 2.06-.94-2.06-.94-.94-2.06-.94 2.06-2.06.94z\"/><path d=\"M17.41 7.96l-1.37-1.37c-.4-.4-.92-.59-1.43-.59-.52 0-1.04.2-1.43.59L10.3 9.45l-7.72 7.72c-.78.78-.78 2.05 0 2.83L4 21.41c.39.39.9.59 1.41.59.51 0 1.02-.2 1.41-.59l7.78-7.78 2.81-2.81c.8-.78.8-2.07 0-2.86zM5.41 20L4 18.59l7.72-7.72 1.47 1.35L5.41 20z\"/>\n",
              "  </svg>\n",
              "      </button>\n",
              "      \n",
              "  <style>\n",
              "    .colab-df-container {\n",
              "      display:flex;\n",
              "      flex-wrap:wrap;\n",
              "      gap: 12px;\n",
              "    }\n",
              "\n",
              "    .colab-df-convert {\n",
              "      background-color: #E8F0FE;\n",
              "      border: none;\n",
              "      border-radius: 50%;\n",
              "      cursor: pointer;\n",
              "      display: none;\n",
              "      fill: #1967D2;\n",
              "      height: 32px;\n",
              "      padding: 0 0 0 0;\n",
              "      width: 32px;\n",
              "    }\n",
              "\n",
              "    .colab-df-convert:hover {\n",
              "      background-color: #E2EBFA;\n",
              "      box-shadow: 0px 1px 2px rgba(60, 64, 67, 0.3), 0px 1px 3px 1px rgba(60, 64, 67, 0.15);\n",
              "      fill: #174EA6;\n",
              "    }\n",
              "\n",
              "    [theme=dark] .colab-df-convert {\n",
              "      background-color: #3B4455;\n",
              "      fill: #D2E3FC;\n",
              "    }\n",
              "\n",
              "    [theme=dark] .colab-df-convert:hover {\n",
              "      background-color: #434B5C;\n",
              "      box-shadow: 0px 1px 3px 1px rgba(0, 0, 0, 0.15);\n",
              "      filter: drop-shadow(0px 1px 2px rgba(0, 0, 0, 0.3));\n",
              "      fill: #FFFFFF;\n",
              "    }\n",
              "  </style>\n",
              "\n",
              "      <script>\n",
              "        const buttonEl =\n",
              "          document.querySelector('#df-bdc20b8a-76b7-42f9-80c5-5b35247a0b09 button.colab-df-convert');\n",
              "        buttonEl.style.display =\n",
              "          google.colab.kernel.accessAllowed ? 'block' : 'none';\n",
              "\n",
              "        async function convertToInteractive(key) {\n",
              "          const element = document.querySelector('#df-bdc20b8a-76b7-42f9-80c5-5b35247a0b09');\n",
              "          const dataTable =\n",
              "            await google.colab.kernel.invokeFunction('convertToInteractive',\n",
              "                                                     [key], {});\n",
              "          if (!dataTable) return;\n",
              "\n",
              "          const docLinkHtml = 'Like what you see? Visit the ' +\n",
              "            '<a target=\"_blank\" href=https://colab.research.google.com/notebooks/data_table.ipynb>data table notebook</a>'\n",
              "            + ' to learn more about interactive tables.';\n",
              "          element.innerHTML = '';\n",
              "          dataTable['output_type'] = 'display_data';\n",
              "          await google.colab.output.renderOutput(dataTable, element);\n",
              "          const docLink = document.createElement('div');\n",
              "          docLink.innerHTML = docLinkHtml;\n",
              "          element.appendChild(docLink);\n",
              "        }\n",
              "      </script>\n",
              "    </div>\n",
              "  </div>\n",
              "  "
            ]
          },
          "metadata": {},
          "execution_count": 8
        }
      ]
    },
    {
      "cell_type": "code",
      "source": [
        "df1=df[['Puntualidad1', 'Puntualidad2', 'Puntualidad3', \n",
        "        'E_Despegue','E_Despegue2','E_Despegue3',\n",
        "        'E_Duracion_Vuelo','E_Duracion_Vuelo2','E_Duracion_Vuelo3', 'Tard1', 'Tard2', 'Tard3']]"
      ],
      "metadata": {
        "id": "y75xi3QA6nwX"
      },
      "execution_count": 9,
      "outputs": []
    },
    {
      "cell_type": "code",
      "source": [
        "# Creo la matriz de correlacion entre todos los factores.\n",
        "\n",
        "correlation_matrix = df1.corr().round(2) \n",
        "sns.set(rc = {'figure.figsize':(15,8)})\n",
        "sns.heatmap(data=correlation_matrix, annot=True)"
      ],
      "metadata": {
        "colab": {
          "base_uri": "https://localhost:8080/",
          "height": 601
        },
        "id": "1z5dSIKd6hJi",
        "outputId": "78603fdb-f7db-4b3b-e871-2c33d29097e6"
      },
      "execution_count": 10,
      "outputs": [
        {
          "output_type": "execute_result",
          "data": {
            "text/plain": [
              "<matplotlib.axes._subplots.AxesSubplot at 0x7f3bc82eebd0>"
            ]
          },
          "metadata": {},
          "execution_count": 10
        },
        {
          "output_type": "display_data",
          "data": {
            "text/plain": [
              "<Figure size 1080x576 with 2 Axes>"
            ],
            "image/png": "[encoded data removed]"
          },
          "metadata": {}
        }
      ]
    },
    {
      "cell_type": "code",
      "source": [
        "from sklearn_pandas import DataFrameMapper\n",
        "from sklearn.preprocessing import StandardScaler\n",
        "\n",
        "mapper = DataFrameMapper([(df1.columns, StandardScaler())])\n",
        "scaled_features = mapper.fit_transform(df1.copy(), 4)\n",
        "df1_StdScaler= pd.DataFrame(scaled_features, index=df1.index, columns=df1.columns)\n",
        "\n",
        "df1_StdScaler.head()"
      ],
      "metadata": {
        "colab": {
          "base_uri": "https://localhost:8080/",
          "height": 206
        },
        "id": "Z_CSbmg17_bH",
        "outputId": "de3d769d-eb14-4320-bb7c-3c9ce2052b1e"
      },
      "execution_count": 11,
      "outputs": [
        {
          "output_type": "execute_result",
          "data": {
            "text/plain": [
              "   Puntualidad1  Puntualidad2  Puntualidad3  E_Despegue  E_Despegue2  \\\n",
              "0      0.661875      0.158984     -0.020942    1.006091     0.398530   \n",
              "1     -0.620447     -0.405877     -0.020942   -0.939568    -0.840450   \n",
              "2      0.245987      0.204173     -0.169253    0.340471     0.133034   \n",
              "3      0.800504      0.000823     -0.525200    1.159696     0.575527   \n",
              "4      0.176672     -0.134744     -0.050604   -0.222746    -0.530705   \n",
              "\n",
              "   E_Despegue3  E_Duracion_Vuelo  E_Duracion_Vuelo2  E_Duracion_Vuelo3  \\\n",
              "0    -0.039738         -0.022665          -0.049533           0.000086   \n",
              "1    -0.655431          0.018437           0.025896           0.365863   \n",
              "2    -0.095710          0.018437           0.151611          -0.132924   \n",
              "3    -0.543487          0.018437          -0.326106          -0.265933   \n",
              "4    -0.263626          0.388352           0.151611           0.099843   \n",
              "\n",
              "      Tard1     Tard2     Tard3  \n",
              "0  2.979681 -0.387587 -0.362741  \n",
              "1 -0.335606 -0.387587 -0.362741  \n",
              "2 -0.335606 -0.387587 -0.362741  \n",
              "3  2.979681 -0.387587 -0.362741  \n",
              "4 -0.335606 -0.387587 -0.362741  "
            ],
            "text/html": [
              "\n",
              "  <div id=\"df-18f6ea74-4783-4c79-957e-b221f8436139\">\n",
              "    <div class=\"colab-df-container\">\n",
              "      <div>\n",
              "<style scoped>\n",
              "    .dataframe tbody tr th:only-of-type {\n",
              "        vertical-align: middle;\n",
              "    }\n",
              "\n",
              "    .dataframe tbody tr th {\n",
              "        vertical-align: top;\n",
              "    }\n",
              "\n",
              "    .dataframe thead th {\n",
              "        text-align: right;\n",
              "    }\n",
              "</style>\n",
              "<table border=\"1\" class=\"dataframe\">\n",
              "  <thead>\n",
              "    <tr style=\"text-align: right;\">\n",
              "      <th></th>\n",
              "      <th>Puntualidad1</th>\n",
              "      <th>Puntualidad2</th>\n",
              "      <th>Puntualidad3</th>\n",
              "      <th>E_Despegue</th>\n",
              "      <th>E_Despegue2</th>\n",
              "      <th>E_Despegue3</th>\n",
              "      <th>E_Duracion_Vuelo</th>\n",
              "      <th>E_Duracion_Vuelo2</th>\n",
              "      <th>E_Duracion_Vuelo3</th>\n",
              "      <th>Tard1</th>\n",
              "      <th>Tard2</th>\n",
              "      <th>Tard3</th>\n",
              "    </tr>\n",
              "  </thead>\n",
              "  <tbody>\n",
              "    <tr>\n",
              "      <th>0</th>\n",
              "      <td>0.661875</td>\n",
              "      <td>0.158984</td>\n",
              "      <td>-0.020942</td>\n",
              "      <td>1.006091</td>\n",
              "      <td>0.398530</td>\n",
              "      <td>-0.039738</td>\n",
              "      <td>-0.022665</td>\n",
              "      <td>-0.049533</td>\n",
              "      <td>0.000086</td>\n",
              "      <td>2.979681</td>\n",
              "      <td>-0.387587</td>\n",
              "      <td>-0.362741</td>\n",
              "    </tr>\n",
              "    <tr>\n",
              "      <th>1</th>\n",
              "      <td>-0.620447</td>\n",
              "      <td>-0.405877</td>\n",
              "      <td>-0.020942</td>\n",
              "      <td>-0.939568</td>\n",
              "      <td>-0.840450</td>\n",
              "      <td>-0.655431</td>\n",
              "      <td>0.018437</td>\n",
              "      <td>0.025896</td>\n",
              "      <td>0.365863</td>\n",
              "      <td>-0.335606</td>\n",
              "      <td>-0.387587</td>\n",
              "      <td>-0.362741</td>\n",
              "    </tr>\n",
              "    <tr>\n",
              "      <th>2</th>\n",
              "      <td>0.245987</td>\n",
              "      <td>0.204173</td>\n",
              "      <td>-0.169253</td>\n",
              "      <td>0.340471</td>\n",
              "      <td>0.133034</td>\n",
              "      <td>-0.095710</td>\n",
              "      <td>0.018437</td>\n",
              "      <td>0.151611</td>\n",
              "      <td>-0.132924</td>\n",
              "      <td>-0.335606</td>\n",
              "      <td>-0.387587</td>\n",
              "      <td>-0.362741</td>\n",
              "    </tr>\n",
              "    <tr>\n",
              "      <th>3</th>\n",
              "      <td>0.800504</td>\n",
              "      <td>0.000823</td>\n",
              "      <td>-0.525200</td>\n",
              "      <td>1.159696</td>\n",
              "      <td>0.575527</td>\n",
              "      <td>-0.543487</td>\n",
              "      <td>0.018437</td>\n",
              "      <td>-0.326106</td>\n",
              "      <td>-0.265933</td>\n",
              "      <td>2.979681</td>\n",
              "      <td>-0.387587</td>\n",
              "      <td>-0.362741</td>\n",
              "    </tr>\n",
              "    <tr>\n",
              "      <th>4</th>\n",
              "      <td>0.176672</td>\n",
              "      <td>-0.134744</td>\n",
              "      <td>-0.050604</td>\n",
              "      <td>-0.222746</td>\n",
              "      <td>-0.530705</td>\n",
              "      <td>-0.263626</td>\n",
              "      <td>0.388352</td>\n",
              "      <td>0.151611</td>\n",
              "      <td>0.099843</td>\n",
              "      <td>-0.335606</td>\n",
              "      <td>-0.387587</td>\n",
              "      <td>-0.362741</td>\n",
              "    </tr>\n",
              "  </tbody>\n",
              "</table>\n",
              "</div>\n",
              "      <button class=\"colab-df-convert\" onclick=\"convertToInteractive('df-18f6ea74-4783-4c79-957e-b221f8436139')\"\n",
              "              title=\"Convert this dataframe to an interactive table.\"\n",
              "              style=\"display:none;\">\n",
              "        \n",
              "  <svg xmlns=\"http://www.w3.org/2000/svg\" height=\"24px\"viewBox=\"0 0 24 24\"\n",
              "       width=\"24px\">\n",
              "    <path d=\"M0 0h24v24H0V0z\" fill=\"none\"/>\n",
              "    <path d=\"M18.56 5.44l.94 2.06.94-2.06 2.06-.94-2.06-.94-.94-2.06-.94 2.06-2.06.94zm-11 1L8.5 8.5l.94-2.06 2.06-.94-2.06-.94L8.5 2.5l-.94 2.06-2.06.94zm10 10l.94 2.06.94-2.06 2.06-.94-2.06-.94-.94-2.06-.94 2.06-2.06.94z\"/><path d=\"M17.41 7.96l-1.37-1.37c-.4-.4-.92-.59-1.43-.59-.52 0-1.04.2-1.43.59L10.3 9.45l-7.72 7.72c-.78.78-.78 2.05 0 2.83L4 21.41c.39.39.9.59 1.41.59.51 0 1.02-.2 1.41-.59l7.78-7.78 2.81-2.81c.8-.78.8-2.07 0-2.86zM5.41 20L4 18.59l7.72-7.72 1.47 1.35L5.41 20z\"/>\n",
              "  </svg>\n",
              "      </button>\n",
              "      \n",
              "  <style>\n",
              "    .colab-df-container {\n",
              "      display:flex;\n",
              "      flex-wrap:wrap;\n",
              "      gap: 12px;\n",
              "    }\n",
              "\n",
              "    .colab-df-convert {\n",
              "      background-color: #E8F0FE;\n",
              "      border: none;\n",
              "      border-radius: 50%;\n",
              "      cursor: pointer;\n",
              "      display: none;\n",
              "      fill: #1967D2;\n",
              "      height: 32px;\n",
              "      padding: 0 0 0 0;\n",
              "      width: 32px;\n",
              "    }\n",
              "\n",
              "    .colab-df-convert:hover {\n",
              "      background-color: #E2EBFA;\n",
              "      box-shadow: 0px 1px 2px rgba(60, 64, 67, 0.3), 0px 1px 3px 1px rgba(60, 64, 67, 0.15);\n",
              "      fill: #174EA6;\n",
              "    }\n",
              "\n",
              "    [theme=dark] .colab-df-convert {\n",
              "      background-color: #3B4455;\n",
              "      fill: #D2E3FC;\n",
              "    }\n",
              "\n",
              "    [theme=dark] .colab-df-convert:hover {\n",
              "      background-color: #434B5C;\n",
              "      box-shadow: 0px 1px 3px 1px rgba(0, 0, 0, 0.15);\n",
              "      filter: drop-shadow(0px 1px 2px rgba(0, 0, 0, 0.3));\n",
              "      fill: #FFFFFF;\n",
              "    }\n",
              "  </style>\n",
              "\n",
              "      <script>\n",
              "        const buttonEl =\n",
              "          document.querySelector('#df-18f6ea74-4783-4c79-957e-b221f8436139 button.colab-df-convert');\n",
              "        buttonEl.style.display =\n",
              "          google.colab.kernel.accessAllowed ? 'block' : 'none';\n",
              "\n",
              "        async function convertToInteractive(key) {\n",
              "          const element = document.querySelector('#df-18f6ea74-4783-4c79-957e-b221f8436139');\n",
              "          const dataTable =\n",
              "            await google.colab.kernel.invokeFunction('convertToInteractive',\n",
              "                                                     [key], {});\n",
              "          if (!dataTable) return;\n",
              "\n",
              "          const docLinkHtml = 'Like what you see? Visit the ' +\n",
              "            '<a target=\"_blank\" href=https://colab.research.google.com/notebooks/data_table.ipynb>data table notebook</a>'\n",
              "            + ' to learn more about interactive tables.';\n",
              "          element.innerHTML = '';\n",
              "          dataTable['output_type'] = 'display_data';\n",
              "          await google.colab.output.renderOutput(dataTable, element);\n",
              "          const docLink = document.createElement('div');\n",
              "          docLink.innerHTML = docLinkHtml;\n",
              "          element.appendChild(docLink);\n",
              "        }\n",
              "      </script>\n",
              "    </div>\n",
              "  </div>\n",
              "  "
            ]
          },
          "metadata": {},
          "execution_count": 11
        }
      ]
    },
    {
      "cell_type": "code",
      "source": [
        "# Creo la matriz de correlacion entre todos los factores.\n",
        "\n",
        "correlation_matrix = df1_StdScaler.corr().round(2) \n",
        "sns.set(rc = {'figure.figsize':(15,8)})\n",
        "sns.heatmap(data=correlation_matrix, annot=True)"
      ],
      "metadata": {
        "colab": {
          "base_uri": "https://localhost:8080/",
          "height": 601
        },
        "id": "e2dA9Zto8Z5u",
        "outputId": "20eaf344-9458-4380-d779-13ff42924e38"
      },
      "execution_count": 12,
      "outputs": [
        {
          "output_type": "execute_result",
          "data": {
            "text/plain": [
              "<matplotlib.axes._subplots.AxesSubplot at 0x7f3bc828aa10>"
            ]
          },
          "metadata": {},
          "execution_count": 12
        },
        {
          "output_type": "display_data",
          "data": {
            "text/plain": [
              "<Figure size 1080x576 with 2 Axes>"
            ],
            "image/png": "[encoded data removed]"
          },
          "metadata": {}
        }
      ]
    },
    {
      "cell_type": "code",
      "source": [
        "# Con los datos transformados veo si ha cambiado mucho la forma de cada variable\n",
        "df1_StdScaler[df1_StdScaler.columns].hist(figsize=(18,10))"
      ],
      "metadata": {
        "colab": {
          "base_uri": "https://localhost:8080/",
          "height": 836
        },
        "id": "7rAHflnn8n60",
        "outputId": "3a1c4298-1709-44dd-f472-e9761f3f76d3"
      },
      "execution_count": 13,
      "outputs": [
        {
          "output_type": "execute_result",
          "data": {
            "text/plain": [
              "array([[<matplotlib.axes._subplots.AxesSubplot object at 0x7f3bc8248bd0>,\n",
              "        <matplotlib.axes._subplots.AxesSubplot object at 0x7f3bc8201f10>,\n",
              "        <matplotlib.axes._subplots.AxesSubplot object at 0x7f3bc81b0610>],\n",
              "       [<matplotlib.axes._subplots.AxesSubplot object at 0x7f3bc81ce9d0>,\n",
              "        <matplotlib.axes._subplots.AxesSubplot object at 0x7f3bc81b3690>,\n",
              "        <matplotlib.axes._subplots.AxesSubplot object at 0x7f3bc81924d0>],\n",
              "       [<matplotlib.axes._subplots.AxesSubplot object at 0x7f3bc81a5110>,\n",
              "        <matplotlib.axes._subplots.AxesSubplot object at 0x7f3bc81adb10>,\n",
              "        <matplotlib.axes._subplots.AxesSubplot object at 0x7f3bc812b290>],\n",
              "       [<matplotlib.axes._subplots.AxesSubplot object at 0x7f3bc8190250>,\n",
              "        <matplotlib.axes._subplots.AxesSubplot object at 0x7f3bc818c6d0>,\n",
              "        <matplotlib.axes._subplots.AxesSubplot object at 0x7f3bc8186550>]],\n",
              "      dtype=object)"
            ]
          },
          "metadata": {},
          "execution_count": 13
        },
        {
          "output_type": "display_data",
          "data": {
            "text/plain": [
              "<Figure size 1296x720 with 12 Axes>"
            ],
            "image/png": "[encoded data removed]"
          },
          "metadata": {}
        }
      ]
    },
    {
      "cell_type": "markdown",
      "source": [
        "# Trec els outliers"
      ],
      "metadata": {
        "id": "e7IrTwpW-S5_"
      }
    },
    {
      "cell_type": "code",
      "source": [
        "df1.head()"
      ],
      "metadata": {
        "id": "cxj6pUOHBfyA",
        "outputId": "27ac15e9-3132-4a2d-e49b-7633e9c5c78a",
        "colab": {
          "base_uri": "https://localhost:8080/",
          "height": 206
        }
      },
      "execution_count": 14,
      "outputs": [
        {
          "output_type": "execute_result",
          "data": {
            "text/plain": [
              "   Puntualidad1  Puntualidad2  Puntualidad3  E_Despegue  E_Despegue2  \\\n",
              "0          15.0             4            -5          20           11   \n",
              "1         -22.0           -21            -5         -18          -17   \n",
              "2           3.0             6           -10           7            5   \n",
              "3          19.0            -3           -22          23           15   \n",
              "4           1.0            -9            -6          -4          -10   \n",
              "\n",
              "   E_Despegue3  E_Duracion_Vuelo  E_Duracion_Vuelo2  E_Duracion_Vuelo3  Tard1  \\\n",
              "0          0.0              -5.0                 -7               -5.0      1   \n",
              "1        -11.0              -4.0                 -4                6.0      0   \n",
              "2         -1.0              -4.0                  1               -9.0      0   \n",
              "3         -9.0              -4.0                -18              -13.0      1   \n",
              "4         -4.0               5.0                  1               -2.0      0   \n",
              "\n",
              "   Tard2  Tard3  \n",
              "0      0      0  \n",
              "1      0      0  \n",
              "2      0      0  \n",
              "3      0      0  \n",
              "4      0      0  "
            ],
            "text/html": [
              "\n",
              "  <div id=\"df-7192f953-ca4c-46cf-9203-83c8a7704a49\">\n",
              "    <div class=\"colab-df-container\">\n",
              "      <div>\n",
              "<style scoped>\n",
              "    .dataframe tbody tr th:only-of-type {\n",
              "        vertical-align: middle;\n",
              "    }\n",
              "\n",
              "    .dataframe tbody tr th {\n",
              "        vertical-align: top;\n",
              "    }\n",
              "\n",
              "    .dataframe thead th {\n",
              "        text-align: right;\n",
              "    }\n",
              "</style>\n",
              "<table border=\"1\" class=\"dataframe\">\n",
              "  <thead>\n",
              "    <tr style=\"text-align: right;\">\n",
              "      <th></th>\n",
              "      <th>Puntualidad1</th>\n",
              "      <th>Puntualidad2</th>\n",
              "      <th>Puntualidad3</th>\n",
              "      <th>E_Despegue</th>\n",
              "      <th>E_Despegue2</th>\n",
              "      <th>E_Despegue3</th>\n",
              "      <th>E_Duracion_Vuelo</th>\n",
              "      <th>E_Duracion_Vuelo2</th>\n",
              "      <th>E_Duracion_Vuelo3</th>\n",
              "      <th>Tard1</th>\n",
              "      <th>Tard2</th>\n",
              "      <th>Tard3</th>\n",
              "    </tr>\n",
              "  </thead>\n",
              "  <tbody>\n",
              "    <tr>\n",
              "      <th>0</th>\n",
              "      <td>15.0</td>\n",
              "      <td>4</td>\n",
              "      <td>-5</td>\n",
              "      <td>20</td>\n",
              "      <td>11</td>\n",
              "      <td>0.0</td>\n",
              "      <td>-5.0</td>\n",
              "      <td>-7</td>\n",
              "      <td>-5.0</td>\n",
              "      <td>1</td>\n",
              "      <td>0</td>\n",
              "      <td>0</td>\n",
              "    </tr>\n",
              "    <tr>\n",
              "      <th>1</th>\n",
              "      <td>-22.0</td>\n",
              "      <td>-21</td>\n",
              "      <td>-5</td>\n",
              "      <td>-18</td>\n",
              "      <td>-17</td>\n",
              "      <td>-11.0</td>\n",
              "      <td>-4.0</td>\n",
              "      <td>-4</td>\n",
              "      <td>6.0</td>\n",
              "      <td>0</td>\n",
              "      <td>0</td>\n",
              "      <td>0</td>\n",
              "    </tr>\n",
              "    <tr>\n",
              "      <th>2</th>\n",
              "      <td>3.0</td>\n",
              "      <td>6</td>\n",
              "      <td>-10</td>\n",
              "      <td>7</td>\n",
              "      <td>5</td>\n",
              "      <td>-1.0</td>\n",
              "      <td>-4.0</td>\n",
              "      <td>1</td>\n",
              "      <td>-9.0</td>\n",
              "      <td>0</td>\n",
              "      <td>0</td>\n",
              "      <td>0</td>\n",
              "    </tr>\n",
              "    <tr>\n",
              "      <th>3</th>\n",
              "      <td>19.0</td>\n",
              "      <td>-3</td>\n",
              "      <td>-22</td>\n",
              "      <td>23</td>\n",
              "      <td>15</td>\n",
              "      <td>-9.0</td>\n",
              "      <td>-4.0</td>\n",
              "      <td>-18</td>\n",
              "      <td>-13.0</td>\n",
              "      <td>1</td>\n",
              "      <td>0</td>\n",
              "      <td>0</td>\n",
              "    </tr>\n",
              "    <tr>\n",
              "      <th>4</th>\n",
              "      <td>1.0</td>\n",
              "      <td>-9</td>\n",
              "      <td>-6</td>\n",
              "      <td>-4</td>\n",
              "      <td>-10</td>\n",
              "      <td>-4.0</td>\n",
              "      <td>5.0</td>\n",
              "      <td>1</td>\n",
              "      <td>-2.0</td>\n",
              "      <td>0</td>\n",
              "      <td>0</td>\n",
              "      <td>0</td>\n",
              "    </tr>\n",
              "  </tbody>\n",
              "</table>\n",
              "</div>\n",
              "      <button class=\"colab-df-convert\" onclick=\"convertToInteractive('df-7192f953-ca4c-46cf-9203-83c8a7704a49')\"\n",
              "              title=\"Convert this dataframe to an interactive table.\"\n",
              "              style=\"display:none;\">\n",
              "        \n",
              "  <svg xmlns=\"http://www.w3.org/2000/svg\" height=\"24px\"viewBox=\"0 0 24 24\"\n",
              "       width=\"24px\">\n",
              "    <path d=\"M0 0h24v24H0V0z\" fill=\"none\"/>\n",
              "    <path d=\"M18.56 5.44l.94 2.06.94-2.06 2.06-.94-2.06-.94-.94-2.06-.94 2.06-2.06.94zm-11 1L8.5 8.5l.94-2.06 2.06-.94-2.06-.94L8.5 2.5l-.94 2.06-2.06.94zm10 10l.94 2.06.94-2.06 2.06-.94-2.06-.94-.94-2.06-.94 2.06-2.06.94z\"/><path d=\"M17.41 7.96l-1.37-1.37c-.4-.4-.92-.59-1.43-.59-.52 0-1.04.2-1.43.59L10.3 9.45l-7.72 7.72c-.78.78-.78 2.05 0 2.83L4 21.41c.39.39.9.59 1.41.59.51 0 1.02-.2 1.41-.59l7.78-7.78 2.81-2.81c.8-.78.8-2.07 0-2.86zM5.41 20L4 18.59l7.72-7.72 1.47 1.35L5.41 20z\"/>\n",
              "  </svg>\n",
              "      </button>\n",
              "      \n",
              "  <style>\n",
              "    .colab-df-container {\n",
              "      display:flex;\n",
              "      flex-wrap:wrap;\n",
              "      gap: 12px;\n",
              "    }\n",
              "\n",
              "    .colab-df-convert {\n",
              "      background-color: #E8F0FE;\n",
              "      border: none;\n",
              "      border-radius: 50%;\n",
              "      cursor: pointer;\n",
              "      display: none;\n",
              "      fill: #1967D2;\n",
              "      height: 32px;\n",
              "      padding: 0 0 0 0;\n",
              "      width: 32px;\n",
              "    }\n",
              "\n",
              "    .colab-df-convert:hover {\n",
              "      background-color: #E2EBFA;\n",
              "      box-shadow: 0px 1px 2px rgba(60, 64, 67, 0.3), 0px 1px 3px 1px rgba(60, 64, 67, 0.15);\n",
              "      fill: #174EA6;\n",
              "    }\n",
              "\n",
              "    [theme=dark] .colab-df-convert {\n",
              "      background-color: #3B4455;\n",
              "      fill: #D2E3FC;\n",
              "    }\n",
              "\n",
              "    [theme=dark] .colab-df-convert:hover {\n",
              "      background-color: #434B5C;\n",
              "      box-shadow: 0px 1px 3px 1px rgba(0, 0, 0, 0.15);\n",
              "      filter: drop-shadow(0px 1px 2px rgba(0, 0, 0, 0.3));\n",
              "      fill: #FFFFFF;\n",
              "    }\n",
              "  </style>\n",
              "\n",
              "      <script>\n",
              "        const buttonEl =\n",
              "          document.querySelector('#df-7192f953-ca4c-46cf-9203-83c8a7704a49 button.colab-df-convert');\n",
              "        buttonEl.style.display =\n",
              "          google.colab.kernel.accessAllowed ? 'block' : 'none';\n",
              "\n",
              "        async function convertToInteractive(key) {\n",
              "          const element = document.querySelector('#df-7192f953-ca4c-46cf-9203-83c8a7704a49');\n",
              "          const dataTable =\n",
              "            await google.colab.kernel.invokeFunction('convertToInteractive',\n",
              "                                                     [key], {});\n",
              "          if (!dataTable) return;\n",
              "\n",
              "          const docLinkHtml = 'Like what you see? Visit the ' +\n",
              "            '<a target=\"_blank\" href=https://colab.research.google.com/notebooks/data_table.ipynb>data table notebook</a>'\n",
              "            + ' to learn more about interactive tables.';\n",
              "          element.innerHTML = '';\n",
              "          dataTable['output_type'] = 'display_data';\n",
              "          await google.colab.output.renderOutput(dataTable, element);\n",
              "          const docLink = document.createElement('div');\n",
              "          docLink.innerHTML = docLinkHtml;\n",
              "          element.appendChild(docLink);\n",
              "        }\n",
              "      </script>\n",
              "    </div>\n",
              "  </div>\n",
              "  "
            ]
          },
          "metadata": {},
          "execution_count": 14
        }
      ]
    },
    {
      "cell_type": "code",
      "source": [
        "# Elimino els outliers\n",
        "df2=df1.copy()\n",
        "\n",
        "dfEliminarOutliers= ((df2['E_Despegue']> -30) & \n",
        "                     (df2['E_Despegue']< 30) & \n",
        "                     (df2['Puntualidad1']< 30) & \n",
        "                     (df2['Puntualidad1']>-30) &\n",
        "                     (df2['Puntualidad2']< 30) & \n",
        "                     (df2['Puntualidad2']>-30)&\n",
        "                     (df2['E_Despegue2']< 30) & \n",
        "                     (df2['E_Despegue2']>-30)&\n",
        "                     (df2['Puntualidad3']< 30) & \n",
        "                     (df2['Puntualidad3']>-30)&\n",
        "                     (df2['E_Despegue3']< 30) & \n",
        "                     (df2['E_Despegue3']>-30))\n",
        "\n",
        "df2 = df2[dfEliminarOutliers]"
      ],
      "metadata": {
        "id": "cx07AUeg-NeZ"
      },
      "execution_count": 15,
      "outputs": []
    },
    {
      "cell_type": "code",
      "source": [],
      "metadata": {
        "id": "vGqW3TZxAyzB"
      },
      "execution_count": 15,
      "outputs": []
    },
    {
      "cell_type": "code",
      "source": [
        "df2.info()"
      ],
      "metadata": {
        "colab": {
          "base_uri": "https://localhost:8080/"
        },
        "id": "Z1ZYSIYJ-gVC",
        "outputId": "3deb2cdd-bab9-475e-c447-44dbdf4c74c5"
      },
      "execution_count": 16,
      "outputs": [
        {
          "output_type": "stream",
          "name": "stdout",
          "text": [
            "<class 'pandas.core.frame.DataFrame'>\n",
            "Int64Index: 10708 entries, 0 to 12357\n",
            "Data columns (total 12 columns):\n",
            " #   Column             Non-Null Count  Dtype  \n",
            "---  ------             --------------  -----  \n",
            " 0   Puntualidad1       10708 non-null  float64\n",
            " 1   Puntualidad2       10708 non-null  int64  \n",
            " 2   Puntualidad3       10708 non-null  int64  \n",
            " 3   E_Despegue         10708 non-null  int64  \n",
            " 4   E_Despegue2        10708 non-null  int64  \n",
            " 5   E_Despegue3        10708 non-null  float64\n",
            " 6   E_Duracion_Vuelo   10708 non-null  float64\n",
            " 7   E_Duracion_Vuelo2  10708 non-null  int64  \n",
            " 8   E_Duracion_Vuelo3  10708 non-null  float64\n",
            " 9   Tard1              10708 non-null  int64  \n",
            " 10  Tard2              10708 non-null  int64  \n",
            " 11  Tard3              10708 non-null  int64  \n",
            "dtypes: float64(4), int64(8)\n",
            "memory usage: 1.1 MB\n"
          ]
        }
      ]
    },
    {
      "cell_type": "code",
      "source": [
        "# Amb les dades transformades veig si ha canviat molt la forma de cada variable\n",
        "\n",
        "ax= df2[df2.columns[:-3]].hist(figsize=(18,10))\n",
        " "
      ],
      "metadata": {
        "colab": {
          "base_uri": "https://localhost:8080/",
          "height": 610
        },
        "id": "73Qd_rxV_2SB",
        "outputId": "f2402d02-9ee3-4e16-b8f0-16fb0b8a1c92"
      },
      "execution_count": 17,
      "outputs": [
        {
          "output_type": "display_data",
          "data": {
            "text/plain": [
              "<Figure size 1296x720 with 9 Axes>"
            ],
            "image/png": "[encoded data removed]"
          },
          "metadata": {}
        }
      ]
    },
    {
      "cell_type": "markdown",
      "source": [
        "Jose Manuel Castaño.\n",
        "\n",
        "desbanceado = sampling \n",
        "Diferencia de accuracy y precision.\n",
        "\n",
        "RobustScaler dummies\n",
        "gradien boosting clasificaier\n",
        "aplicar el cross validation\n",
        "random forest e sbueno para los desbalanceados"
      ],
      "metadata": {
        "id": "9Syb1DBcFVeg"
      }
    },
    {
      "cell_type": "markdown",
      "source": [
        "finaldf= pd.concat([principal_Df,df[['target']]],axis=1)"
      ],
      "metadata": {
        "id": "n4wFW_yIaWmy"
      }
    },
    {
      "cell_type": "markdown",
      "source": [
        "# Unir de nuevo la variable objetivo\n",
        "\n",
        "finalDf = pd.concat([principalDf, data[['target']]], axis = 1)\n",
        "finalDf.head()"
      ],
      "metadata": {
        "id": "nkJ03v9M_vUD"
      }
    },
    {
      "cell_type": "code",
      "source": [
        "# Vull veure quines variables tenen més correlació respecte al target\n",
        "\n",
        "columns_sorted = df2.corr().abs().nlargest(4, 'Puntualidad3').index\n",
        "correlation_sorted = np.corrcoef(df2[columns_sorted].values.T)\n",
        "\n",
        "f, ax = plt.subplots(figsize = (9,7.5))\n",
        "hm = sns.heatmap(abs(correlation_sorted), annot=True, square=True, fmt='.2f', annot_kws={'size': 10}, yticklabels=columns_sorted.values, xticklabels=columns_sorted.values, cmap='summer')\n",
        "plt.show()"
      ],
      "metadata": {
        "id": "kfTJTxkxe7-n",
        "outputId": "7712bab4-6fe1-4b03-dcc8-1684b292e1d1",
        "colab": {
          "base_uri": "https://localhost:8080/",
          "height": 0
        }
      },
      "execution_count": 18,
      "outputs": [
        {
          "output_type": "display_data",
          "data": {
            "text/plain": [
              "<Figure size 648x540 with 2 Axes>"
            ],
            "image/png": "[encoded data removed]"
          },
          "metadata": {}
        }
      ]
    },
    {
      "cell_type": "code",
      "source": [],
      "metadata": {
        "id": "VqYXehzRgQvQ"
      },
      "execution_count": 18,
      "outputs": []
    },
    {
      "cell_type": "code",
      "source": [
        "# Creo Subrutina de metricas:\n",
        "\n",
        "#Importo scikit-learn metrics module para el calculo\n",
        "from sklearn import metrics\n",
        "from sklearn.metrics import mean_squared_error\n",
        "from sklearn.metrics import r2_score\n",
        "metricasEjercicio2=[]\n",
        "######################################################################\n",
        " \n",
        "def MetricasModelo(metodo, Y_real, Y_calculado, scores):\n",
        "  print('Metodo: ', metodo)\n",
        "  \n",
        "  #Precisión del modelo: ¿con qué frecuencia es correcto el clasificador?\n",
        "  #accuracy = metrics.accuracy_score(Y_real, Y_calculado)\n",
        "  #print(\"Accuracy:\", accuracy)\n",
        "\n",
        "  rmse = np.sqrt(mean_squared_error(Y_real, Y_calculado,))\n",
        "  print(\"RMSE: %f\" % (rmse))\n",
        "  \n",
        "\n",
        "  R_squared = r2_score(Y_real, Y_calculado,)\n",
        "\n",
        "  print(\"R-Squared: \", np.round(R_squared, 2))\n",
        " \n",
        "  print(\"Accuracy: %0.2f (+/- %0.2f)\" % (scores.mean(), scores.std() * 2))\n",
        "  accuracy = \"Accuracy: %0.2f (+/- %0.2f)\" % (scores.mean(), scores.std() * 2)\n",
        "\n",
        "  # Guardo metricas\n",
        "  metricasEjercicio2.append([metodo, rmse, R_squared, accuracy])  \n",
        "\n",
        "\n",
        "  cnf_matrix_SVM = metrics.confusion_matrix(Y_real, Y_calculado)\n",
        "\n",
        "  print('\\n\\nMatriz de Confusión')\n",
        "  print(cnf_matrix_SVM)\n",
        "\n",
        "\n",
        "  # Creamos la Matriz de Confusion:\n",
        "\n",
        "  class_names=[0,1] # name  of classes\n",
        "  \n",
        "  fig, ax = plt.subplots()\n",
        "  tick_marks = np.arange(len(class_names))\n",
        "  plt.xticks(tick_marks, class_names)\n",
        "  plt.yticks(tick_marks, class_names)\n",
        "\n",
        "  # create heatmap\n",
        "\n",
        "  sns.heatmap(pd.DataFrame(cnf_matrix_SVM), annot=True, cmap=\"gist_ncar\" ,fmt='g')\n",
        "  ax.xaxis.set_label_position(\"top\")\n",
        " \n",
        "\n",
        "  plt.tight_layout()\n",
        "  plt.title('Matriu de confusió', y=1.1)\n",
        "  plt.ylabel('Valor Actual')\n",
        "  plt.xlabel('Valor predit')\n",
        "  plt.Text(1.5,257.44,'Predicció')\n"
      ],
      "metadata": {
        "id": "Rb4T0O7DlB82"
      },
      "execution_count": 19,
      "outputs": []
    },
    {
      "cell_type": "markdown",
      "source": [
        "# Creo les dates train i Test"
      ],
      "metadata": {
        "id": "ixsYrSw3rydV"
      }
    },
    {
      "cell_type": "code",
      "source": [
        "df2"
      ],
      "metadata": {
        "id": "fTyyrFqDApRk",
        "outputId": "3f475c4e-5ef1-4ca2-ec72-50da800ffdb8",
        "colab": {
          "base_uri": "https://localhost:8080/",
          "height": 0
        }
      },
      "execution_count": 20,
      "outputs": [
        {
          "output_type": "execute_result",
          "data": {
            "text/plain": [
              "       Puntualidad1  Puntualidad2  Puntualidad3  E_Despegue  E_Despegue2  \\\n",
              "0              15.0             4            -5          20           11   \n",
              "1             -22.0           -21            -5         -18          -17   \n",
              "2               3.0             6           -10           7            5   \n",
              "3              19.0            -3           -22          23           15   \n",
              "4               1.0            -9            -6          -4          -10   \n",
              "...             ...           ...           ...         ...          ...   \n",
              "12353         -17.0            -6           -18         -11           -2   \n",
              "12354         -10.0           -23             5          -5           -9   \n",
              "12355          -4.0             3            -8           0            0   \n",
              "12356           7.0             7           -10           5           16   \n",
              "12357         -14.0            -3             2          -2            7   \n",
              "\n",
              "       E_Despegue3  E_Duracion_Vuelo  E_Duracion_Vuelo2  E_Duracion_Vuelo3  \\\n",
              "0              0.0              -5.0                 -7               -5.0   \n",
              "1            -11.0              -4.0                 -4                6.0   \n",
              "2             -1.0              -4.0                  1               -9.0   \n",
              "3             -9.0              -4.0                -18              -13.0   \n",
              "4             -4.0               5.0                  1               -2.0   \n",
              "...            ...               ...                ...                ...   \n",
              "12353         -8.0              -6.0                 -4              -10.0   \n",
              "12354          2.0              -5.0                -14                3.0   \n",
              "12355         -2.0              -4.0                  3               -6.0   \n",
              "12356         -6.0               2.0                 -9               -4.0   \n",
              "12357          0.0             -12.0                -10                2.0   \n",
              "\n",
              "       Tard1  Tard2  Tard3  \n",
              "0          1      0      0  \n",
              "1          0      0      0  \n",
              "2          0      0      0  \n",
              "3          1      0      0  \n",
              "4          0      0      0  \n",
              "...      ...    ...    ...  \n",
              "12353      0      0      0  \n",
              "12354      0      0      0  \n",
              "12355      0      0      0  \n",
              "12356      0      0      0  \n",
              "12357      0      0      0  \n",
              "\n",
              "[10708 rows x 12 columns]"
            ],
            "text/html": [
              "\n",
              "  <div id=\"df-35081aeb-88d9-443d-bc80-edcf471c90c5\">\n",
              "    <div class=\"colab-df-container\">\n",
              "      <div>\n",
              "<style scoped>\n",
              "    .dataframe tbody tr th:only-of-type {\n",
              "        vertical-align: middle;\n",
              "    }\n",
              "\n",
              "    .dataframe tbody tr th {\n",
              "        vertical-align: top;\n",
              "    }\n",
              "\n",
              "    .dataframe thead th {\n",
              "        text-align: right;\n",
              "    }\n",
              "</style>\n",
              "<table border=\"1\" class=\"dataframe\">\n",
              "  <thead>\n",
              "    <tr style=\"text-align: right;\">\n",
              "      <th></th>\n",
              "      <th>Puntualidad1</th>\n",
              "      <th>Puntualidad2</th>\n",
              "      <th>Puntualidad3</th>\n",
              "      <th>E_Despegue</th>\n",
              "      <th>E_Despegue2</th>\n",
              "      <th>E_Despegue3</th>\n",
              "      <th>E_Duracion_Vuelo</th>\n",
              "      <th>E_Duracion_Vuelo2</th>\n",
              "      <th>E_Duracion_Vuelo3</th>\n",
              "      <th>Tard1</th>\n",
              "      <th>Tard2</th>\n",
              "      <th>Tard3</th>\n",
              "    </tr>\n",
              "  </thead>\n",
              "  <tbody>\n",
              "    <tr>\n",
              "      <th>0</th>\n",
              "      <td>15.0</td>\n",
              "      <td>4</td>\n",
              "      <td>-5</td>\n",
              "      <td>20</td>\n",
              "      <td>11</td>\n",
              "      <td>0.0</td>\n",
              "      <td>-5.0</td>\n",
              "      <td>-7</td>\n",
              "      <td>-5.0</td>\n",
              "      <td>1</td>\n",
              "      <td>0</td>\n",
              "      <td>0</td>\n",
              "    </tr>\n",
              "    <tr>\n",
              "      <th>1</th>\n",
              "      <td>-22.0</td>\n",
              "      <td>-21</td>\n",
              "      <td>-5</td>\n",
              "      <td>-18</td>\n",
              "      <td>-17</td>\n",
              "      <td>-11.0</td>\n",
              "      <td>-4.0</td>\n",
              "      <td>-4</td>\n",
              "      <td>6.0</td>\n",
              "      <td>0</td>\n",
              "      <td>0</td>\n",
              "      <td>0</td>\n",
              "    </tr>\n",
              "    <tr>\n",
              "      <th>2</th>\n",
              "      <td>3.0</td>\n",
              "      <td>6</td>\n",
              "      <td>-10</td>\n",
              "      <td>7</td>\n",
              "      <td>5</td>\n",
              "      <td>-1.0</td>\n",
              "      <td>-4.0</td>\n",
              "      <td>1</td>\n",
              "      <td>-9.0</td>\n",
              "      <td>0</td>\n",
              "      <td>0</td>\n",
              "      <td>0</td>\n",
              "    </tr>\n",
              "    <tr>\n",
              "      <th>3</th>\n",
              "      <td>19.0</td>\n",
              "      <td>-3</td>\n",
              "      <td>-22</td>\n",
              "      <td>23</td>\n",
              "      <td>15</td>\n",
              "      <td>-9.0</td>\n",
              "      <td>-4.0</td>\n",
              "      <td>-18</td>\n",
              "      <td>-13.0</td>\n",
              "      <td>1</td>\n",
              "      <td>0</td>\n",
              "      <td>0</td>\n",
              "    </tr>\n",
              "    <tr>\n",
              "      <th>4</th>\n",
              "      <td>1.0</td>\n",
              "      <td>-9</td>\n",
              "      <td>-6</td>\n",
              "      <td>-4</td>\n",
              "      <td>-10</td>\n",
              "      <td>-4.0</td>\n",
              "      <td>5.0</td>\n",
              "      <td>1</td>\n",
              "      <td>-2.0</td>\n",
              "      <td>0</td>\n",
              "      <td>0</td>\n",
              "      <td>0</td>\n",
              "    </tr>\n",
              "    <tr>\n",
              "      <th>...</th>\n",
              "      <td>...</td>\n",
              "      <td>...</td>\n",
              "      <td>...</td>\n",
              "      <td>...</td>\n",
              "      <td>...</td>\n",
              "      <td>...</td>\n",
              "      <td>...</td>\n",
              "      <td>...</td>\n",
              "      <td>...</td>\n",
              "      <td>...</td>\n",
              "      <td>...</td>\n",
              "      <td>...</td>\n",
              "    </tr>\n",
              "    <tr>\n",
              "      <th>12353</th>\n",
              "      <td>-17.0</td>\n",
              "      <td>-6</td>\n",
              "      <td>-18</td>\n",
              "      <td>-11</td>\n",
              "      <td>-2</td>\n",
              "      <td>-8.0</td>\n",
              "      <td>-6.0</td>\n",
              "      <td>-4</td>\n",
              "      <td>-10.0</td>\n",
              "      <td>0</td>\n",
              "      <td>0</td>\n",
              "      <td>0</td>\n",
              "    </tr>\n",
              "    <tr>\n",
              "      <th>12354</th>\n",
              "      <td>-10.0</td>\n",
              "      <td>-23</td>\n",
              "      <td>5</td>\n",
              "      <td>-5</td>\n",
              "      <td>-9</td>\n",
              "      <td>2.0</td>\n",
              "      <td>-5.0</td>\n",
              "      <td>-14</td>\n",
              "      <td>3.0</td>\n",
              "      <td>0</td>\n",
              "      <td>0</td>\n",
              "      <td>0</td>\n",
              "    </tr>\n",
              "    <tr>\n",
              "      <th>12355</th>\n",
              "      <td>-4.0</td>\n",
              "      <td>3</td>\n",
              "      <td>-8</td>\n",
              "      <td>0</td>\n",
              "      <td>0</td>\n",
              "      <td>-2.0</td>\n",
              "      <td>-4.0</td>\n",
              "      <td>3</td>\n",
              "      <td>-6.0</td>\n",
              "      <td>0</td>\n",
              "      <td>0</td>\n",
              "      <td>0</td>\n",
              "    </tr>\n",
              "    <tr>\n",
              "      <th>12356</th>\n",
              "      <td>7.0</td>\n",
              "      <td>7</td>\n",
              "      <td>-10</td>\n",
              "      <td>5</td>\n",
              "      <td>16</td>\n",
              "      <td>-6.0</td>\n",
              "      <td>2.0</td>\n",
              "      <td>-9</td>\n",
              "      <td>-4.0</td>\n",
              "      <td>0</td>\n",
              "      <td>0</td>\n",
              "      <td>0</td>\n",
              "    </tr>\n",
              "    <tr>\n",
              "      <th>12357</th>\n",
              "      <td>-14.0</td>\n",
              "      <td>-3</td>\n",
              "      <td>2</td>\n",
              "      <td>-2</td>\n",
              "      <td>7</td>\n",
              "      <td>0.0</td>\n",
              "      <td>-12.0</td>\n",
              "      <td>-10</td>\n",
              "      <td>2.0</td>\n",
              "      <td>0</td>\n",
              "      <td>0</td>\n",
              "      <td>0</td>\n",
              "    </tr>\n",
              "  </tbody>\n",
              "</table>\n",
              "<p>10708 rows × 12 columns</p>\n",
              "</div>\n",
              "      <button class=\"colab-df-convert\" onclick=\"convertToInteractive('df-35081aeb-88d9-443d-bc80-edcf471c90c5')\"\n",
              "              title=\"Convert this dataframe to an interactive table.\"\n",
              "              style=\"display:none;\">\n",
              "        \n",
              "  <svg xmlns=\"http://www.w3.org/2000/svg\" height=\"24px\"viewBox=\"0 0 24 24\"\n",
              "       width=\"24px\">\n",
              "    <path d=\"M0 0h24v24H0V0z\" fill=\"none\"/>\n",
              "    <path d=\"M18.56 5.44l.94 2.06.94-2.06 2.06-.94-2.06-.94-.94-2.06-.94 2.06-2.06.94zm-11 1L8.5 8.5l.94-2.06 2.06-.94-2.06-.94L8.5 2.5l-.94 2.06-2.06.94zm10 10l.94 2.06.94-2.06 2.06-.94-2.06-.94-.94-2.06-.94 2.06-2.06.94z\"/><path d=\"M17.41 7.96l-1.37-1.37c-.4-.4-.92-.59-1.43-.59-.52 0-1.04.2-1.43.59L10.3 9.45l-7.72 7.72c-.78.78-.78 2.05 0 2.83L4 21.41c.39.39.9.59 1.41.59.51 0 1.02-.2 1.41-.59l7.78-7.78 2.81-2.81c.8-.78.8-2.07 0-2.86zM5.41 20L4 18.59l7.72-7.72 1.47 1.35L5.41 20z\"/>\n",
              "  </svg>\n",
              "      </button>\n",
              "      \n",
              "  <style>\n",
              "    .colab-df-container {\n",
              "      display:flex;\n",
              "      flex-wrap:wrap;\n",
              "      gap: 12px;\n",
              "    }\n",
              "\n",
              "    .colab-df-convert {\n",
              "      background-color: #E8F0FE;\n",
              "      border: none;\n",
              "      border-radius: 50%;\n",
              "      cursor: pointer;\n",
              "      display: none;\n",
              "      fill: #1967D2;\n",
              "      height: 32px;\n",
              "      padding: 0 0 0 0;\n",
              "      width: 32px;\n",
              "    }\n",
              "\n",
              "    .colab-df-convert:hover {\n",
              "      background-color: #E2EBFA;\n",
              "      box-shadow: 0px 1px 2px rgba(60, 64, 67, 0.3), 0px 1px 3px 1px rgba(60, 64, 67, 0.15);\n",
              "      fill: #174EA6;\n",
              "    }\n",
              "\n",
              "    [theme=dark] .colab-df-convert {\n",
              "      background-color: #3B4455;\n",
              "      fill: #D2E3FC;\n",
              "    }\n",
              "\n",
              "    [theme=dark] .colab-df-convert:hover {\n",
              "      background-color: #434B5C;\n",
              "      box-shadow: 0px 1px 3px 1px rgba(0, 0, 0, 0.15);\n",
              "      filter: drop-shadow(0px 1px 2px rgba(0, 0, 0, 0.3));\n",
              "      fill: #FFFFFF;\n",
              "    }\n",
              "  </style>\n",
              "\n",
              "      <script>\n",
              "        const buttonEl =\n",
              "          document.querySelector('#df-35081aeb-88d9-443d-bc80-edcf471c90c5 button.colab-df-convert');\n",
              "        buttonEl.style.display =\n",
              "          google.colab.kernel.accessAllowed ? 'block' : 'none';\n",
              "\n",
              "        async function convertToInteractive(key) {\n",
              "          const element = document.querySelector('#df-35081aeb-88d9-443d-bc80-edcf471c90c5');\n",
              "          const dataTable =\n",
              "            await google.colab.kernel.invokeFunction('convertToInteractive',\n",
              "                                                     [key], {});\n",
              "          if (!dataTable) return;\n",
              "\n",
              "          const docLinkHtml = 'Like what you see? Visit the ' +\n",
              "            '<a target=\"_blank\" href=https://colab.research.google.com/notebooks/data_table.ipynb>data table notebook</a>'\n",
              "            + ' to learn more about interactive tables.';\n",
              "          element.innerHTML = '';\n",
              "          dataTable['output_type'] = 'display_data';\n",
              "          await google.colab.output.renderOutput(dataTable, element);\n",
              "          const docLink = document.createElement('div');\n",
              "          docLink.innerHTML = docLinkHtml;\n",
              "          element.appendChild(docLink);\n",
              "        }\n",
              "      </script>\n",
              "    </div>\n",
              "  </div>\n",
              "  "
            ]
          },
          "metadata": {},
          "execution_count": 20
        }
      ]
    },
    {
      "cell_type": "markdown",
      "source": [
        "# Regresió logística"
      ],
      "metadata": {
        "id": "s60Viv90k-98"
      }
    },
    {
      "cell_type": "code",
      "source": [
        "# Importo train_test_split function para dividir los datos en Test y Train\n",
        "from sklearn.model_selection import train_test_split\n",
        "\n",
        "\n",
        "datos_x= df2.loc[:, ['Puntualidad1', 'Puntualidad2', 'Puntualidad3', \n",
        "        'E_Despegue','E_Despegue2','E_Despegue3',\n",
        "        'E_Duracion_Vuelo','E_Duracion_Vuelo2','E_Duracion_Vuelo3', ]].values\n",
        "        \n",
        "datos_y = df2.loc[:,['Tard3']].values\n",
        "\n",
        "#Dividimos el dataset en training set y test set\n",
        "X_train, X_test, y_train, y_test = train_test_split(datos_x, datos_y, test_size=0.3,random_state=109) # 70% training and 30% test"
      ],
      "metadata": {
        "id": "qucQRC0hgq_H"
      },
      "execution_count": 21,
      "outputs": []
    },
    {
      "cell_type": "code",
      "source": [
        "# importar la libreria de regresion logistica \n",
        "from sklearn.linear_model import LogisticRegression\n",
        "\n",
        "# instanciar el modelo (usando los parámetros predeterminados)\n",
        "logreg = LogisticRegression()\n",
        "\n",
        "# fit el modelo\n",
        "logreg.fit(X_train,y_train)\n",
        "\n",
        "#\n",
        "y_pred_RLogis=logreg.predict(X_test)"
      ],
      "metadata": {
        "id": "VvA3VrX1kW5c"
      },
      "execution_count": 22,
      "outputs": []
    },
    {
      "cell_type": "code",
      "source": [
        "# Borrar\n",
        "print(y_pred_RLogis)"
      ],
      "metadata": {
        "id": "WPoiBh-0kQyt",
        "outputId": "062ce4b7-1b03-47ec-e3ae-32e334783e68",
        "colab": {
          "base_uri": "https://localhost:8080/"
        }
      },
      "execution_count": 23,
      "outputs": [
        {
          "output_type": "stream",
          "name": "stdout",
          "text": [
            "[0 0 0 ... 0 0 0]\n"
          ]
        }
      ]
    },
    {
      "cell_type": "code",
      "source": [
        "#clf = LogisticRegression(solver='newton-cg', multi_class='multinomial')\n",
        "scores_RL = cross_val_score(logreg, X_train, y_train, cv=5)\n",
        " \n",
        "print(\"Accuracy: %0.2f (+/- %0.2f)\" % (scores_RL.mean(), scores_RL.std() * 2))"
      ],
      "metadata": {
        "id": "buFTvfajkcRN",
        "outputId": "84aff3d8-5c2b-4396-ff54-eef32ebb7c80",
        "colab": {
          "base_uri": "https://localhost:8080/"
        }
      },
      "execution_count": 24,
      "outputs": [
        {
          "output_type": "stream",
          "name": "stdout",
          "text": [
            "Accuracy: 1.00 (+/- 0.00)\n"
          ]
        }
      ]
    },
    {
      "cell_type": "code",
      "source": [
        "MetricasModelo( 'Regresion Logistica', y_test, y_pred_RLogis, scores_RL)"
      ],
      "metadata": {
        "id": "Y4g-finikq9c",
        "outputId": "71c14898-ed11-48cf-d47d-a67a6f29296d",
        "colab": {
          "base_uri": "https://localhost:8080/",
          "height": 0
        }
      },
      "execution_count": 25,
      "outputs": [
        {
          "output_type": "stream",
          "name": "stdout",
          "text": [
            "Metodo:  Regresion Logistica\n",
            "RMSE: 0.000000\n",
            "R-Squared:  1.0\n",
            "Accuracy: 1.00 (+/- 0.00)\n",
            "\n",
            "\n",
            "Matriz de Confusión\n",
            "[[2998    0]\n",
            " [   0  215]]\n"
          ]
        },
        {
          "output_type": "display_data",
          "data": {
            "text/plain": [
              "<Figure size 1080x576 with 2 Axes>"
            ],
            "image/png": "[encoded data removed]"
          },
          "metadata": {}
        }
      ]
    },
    {
      "cell_type": "code",
      "source": [
        "df2.info()"
      ],
      "metadata": {
        "colab": {
          "base_uri": "https://localhost:8080/"
        },
        "id": "lukM9Qo9iLcz",
        "outputId": "faa16a95-b6cc-4008-e9a5-c9d7eb10c8e3"
      },
      "execution_count": 26,
      "outputs": [
        {
          "output_type": "stream",
          "name": "stdout",
          "text": [
            "<class 'pandas.core.frame.DataFrame'>\n",
            "Int64Index: 10708 entries, 0 to 12357\n",
            "Data columns (total 12 columns):\n",
            " #   Column             Non-Null Count  Dtype  \n",
            "---  ------             --------------  -----  \n",
            " 0   Puntualidad1       10708 non-null  float64\n",
            " 1   Puntualidad2       10708 non-null  int64  \n",
            " 2   Puntualidad3       10708 non-null  int64  \n",
            " 3   E_Despegue         10708 non-null  int64  \n",
            " 4   E_Despegue2        10708 non-null  int64  \n",
            " 5   E_Despegue3        10708 non-null  float64\n",
            " 6   E_Duracion_Vuelo   10708 non-null  float64\n",
            " 7   E_Duracion_Vuelo2  10708 non-null  int64  \n",
            " 8   E_Duracion_Vuelo3  10708 non-null  float64\n",
            " 9   Tard1              10708 non-null  int64  \n",
            " 10  Tard2              10708 non-null  int64  \n",
            " 11  Tard3              10708 non-null  int64  \n",
            "dtypes: float64(4), int64(8)\n",
            "memory usage: 1.1 MB\n"
          ]
        }
      ]
    },
    {
      "cell_type": "markdown",
      "source": [
        "# Regresión logística con Python\n",
        "\n",
        "https://www.cienciadedatos.net/documentos/py17-regresion-logistica-python.html"
      ],
      "metadata": {
        "id": "vP8eFDAXkjvv"
      }
    },
    {
      "cell_type": "code",
      "source": [
        "# Número de obsercaciones por clase\n",
        "# ==============================================================================\n",
        "df2['Tard3'].value_counts().sort_index()"
      ],
      "metadata": {
        "colab": {
          "base_uri": "https://localhost:8080/"
        },
        "id": "0gwrUvadivlr",
        "outputId": "711872f8-58b1-4e07-abdb-e894c05ab35f"
      },
      "execution_count": 27,
      "outputs": [
        {
          "output_type": "execute_result",
          "data": {
            "text/plain": [
              "0    9950\n",
              "1     758\n",
              "Name: Tard3, dtype: int64"
            ]
          },
          "metadata": {},
          "execution_count": 27
        }
      ]
    },
    {
      "cell_type": "code",
      "source": [
        "# Gráfico\n",
        "# ==============================================================================\n",
        "fig, ax = plt.subplots(figsize=(6, 3.84))\n",
        "\n",
        "sns.violinplot(\n",
        "        x     = 'Tard3',\n",
        "        y     = 'E_Despegue2',\n",
        "        data  = df2,\n",
        "        #color = \"white\",\n",
        "        ax    = ax\n",
        "    )\n",
        "\n",
        "ax.set_title('Distribución notas de matemáticas por clase');"
      ],
      "metadata": {
        "colab": {
          "base_uri": "https://localhost:8080/",
          "height": 292
        },
        "id": "hXg-3hWBh4yw",
        "outputId": "8ea9deaf-3807-4fb6-c163-4eb09afadc36"
      },
      "execution_count": 28,
      "outputs": [
        {
          "output_type": "display_data",
          "data": {
            "text/plain": [
              "<Figure size 432x276.48 with 1 Axes>"
            ],
            "image/png": "[encoded data removed]"
          },
          "metadata": {}
        }
      ]
    },
    {
      "cell_type": "code",
      "source": [
        "# T-test entre clases\n",
        "# ==============================================================================\n",
        "from statsmodels.stats.weightstats import ttest_ind\n",
        "\n",
        "\n",
        "res_ttest = ttest_ind(\n",
        "                x1 = df2[df2['Tard3'] == 0],\n",
        "                x2 = df2[df2['Tard3'] == 1],\n",
        "                alternative='two-sided'\n",
        "            )\n",
        "print(f\"t={res_ttest[0]}, p-value={res_ttest[1]}\")"
      ],
      "metadata": {
        "colab": {
          "base_uri": "https://localhost:8080/"
        },
        "id": "NKiXGKKQjjiP",
        "outputId": "92813722-10d0-4198-a0e9-2b2cff43251b"
      },
      "execution_count": 29,
      "outputs": [
        {
          "output_type": "stream",
          "name": "stdout",
          "text": [
            "t=[ -5.77871343 -16.04917848 -80.11127391  -5.19027346 -12.28435799\n",
            " -53.68011655  -2.60424274  -7.55066723 -38.44225611  -4.00824651\n",
            " -17.32743028         -inf], p-value=[7.73746383e-009 2.69313280e-057 0.00000000e+000 2.13832877e-007\n",
            " 1.87447616e-034 0.00000000e+000 9.22047058e-003 4.68288738e-014\n",
            " 5.53412092e-303 6.15859083e-005 2.33861384e-066 0.00000000e+000]\n"
          ]
        }
      ]
    },
    {
      "cell_type": "code",
      "source": [
        "logreg = LogisticRegression()\n",
        "\n",
        "# fit el modelo\n",
        "logreg.fit(X_train,y_train)\n",
        "\n",
        "#\n",
        "y_pred_RLogis=logreg.predict(X_test)"
      ],
      "metadata": {
        "id": "DMBzuQRWthBL"
      },
      "execution_count": 30,
      "outputs": []
    },
    {
      "cell_type": "code",
      "source": [
        "# Importo train_test_split function para dividir los datos en Test y Train\n",
        "from sklearn.model_selection import train_test_split\n",
        "\n",
        "datos_x= df2.loc[:, ['E_Despegue2']].values\n",
        "datos_y = df2.loc[:,['Tard3']].values\n",
        "\n",
        "#Dividimos el dataset en training set y test set\n",
        "X_train, X_test, y_train, y_test = train_test_split(datos_x, datos_y, test_size=0.3,random_state=109) # 70% training and 30% test"
      ],
      "metadata": {
        "id": "QlwmyigSwx3i"
      },
      "execution_count": 31,
      "outputs": []
    },
    {
      "cell_type": "code",
      "source": [],
      "metadata": {
        "id": "2ANpHugQyj8r"
      },
      "execution_count": 31,
      "outputs": []
    },
    {
      "cell_type": "code",
      "source": [],
      "metadata": {
        "id": "F4yDnagEykER"
      },
      "execution_count": 31,
      "outputs": []
    },
    {
      "cell_type": "code",
      "source": [],
      "metadata": {
        "id": "YPKKgXmmykJl"
      },
      "execution_count": 31,
      "outputs": []
    },
    {
      "cell_type": "code",
      "source": [
        "import statsmodels.api as sm\n",
        "\n",
        "modelo = sm.Logit(endog=y_train, exog=X_train,)\n",
        "modelo = modelo.fit()\n",
        "print(modelo.summary())"
      ],
      "metadata": {
        "id": "rr4arrlDvZW-",
        "outputId": "6d942b02-94e8-4c7c-e895-6e72a34a50ae",
        "colab": {
          "base_uri": "https://localhost:8080/"
        }
      },
      "execution_count": 32,
      "outputs": [
        {
          "output_type": "stream",
          "name": "stdout",
          "text": [
            "Optimization terminated successfully.\n",
            "         Current function value: 0.660201\n",
            "         Iterations 5\n",
            "                           Logit Regression Results                           \n",
            "==============================================================================\n",
            "Dep. Variable:                      y   No. Observations:                 7495\n",
            "Model:                          Logit   Df Residuals:                     7494\n",
            "Method:                           MLE   Df Model:                            0\n",
            "Date:                Mon, 03 Oct 2022   Pseudo R-squ.:                  -1.540\n",
            "Time:                        11:01:02   Log-Likelihood:                -4948.2\n",
            "converged:                       True   LL-Null:                       -1948.1\n",
            "Covariance Type:            nonrobust   LLR p-value:                       nan\n",
            "==============================================================================\n",
            "                 coef    std err          z      P>|z|      [0.025      0.975]\n",
            "------------------------------------------------------------------------------\n",
            "x1             0.0633      0.003     21.044      0.000       0.057       0.069\n",
            "==============================================================================\n"
          ]
        }
      ]
    },
    {
      "cell_type": "code",
      "source": [
        "# Predicción de probabilidades\n",
        "# ==============================================================================\n",
        "predicciones = modelo.predict(exog = X_train)\n",
        "predicciones[:4]"
      ],
      "metadata": {
        "id": "DII8QkfZwEzT",
        "outputId": "40aca921-64cb-4f52-be8c-4a4b4d1c7abf",
        "colab": {
          "base_uri": "https://localhost:8080/"
        }
      },
      "execution_count": 33,
      "outputs": [
        {
          "output_type": "execute_result",
          "data": {
            "text/plain": [
              "array([0.4841688 , 0.42147291, 0.60907408, 0.53163069])"
            ]
          },
          "metadata": {},
          "execution_count": 33
        }
      ]
    },
    {
      "cell_type": "code",
      "source": [
        "# instanciar el modelo (usando los parámetros predeterminados)\n",
        "logreg = LogisticRegression()\n",
        "\n",
        "# fit el modelo\n",
        "logreg.fit(X_train,y_train)\n",
        "\n",
        "#\n",
        "y_pred_RLogis=logreg.predict(X_test)"
      ],
      "metadata": {
        "id": "gEb92ShlwMeb"
      },
      "execution_count": 34,
      "outputs": []
    },
    {
      "cell_type": "code",
      "source": [
        "#clf = LogisticRegression(solver='newton-cg', multi_class='multinomial')\n",
        "scores_RL = cross_val_score(logreg, X_train, y_train, cv=5)\n",
        " \n",
        "print(\"Accuracy: %0.2f (+/- %0.2f)\" % (scores_RL.mean(), scores_RL.std() * 2))"
      ],
      "metadata": {
        "id": "nGmZlItCyraE",
        "outputId": "77d7302f-c7f1-4641-98b5-aebd68232367",
        "colab": {
          "base_uri": "https://localhost:8080/"
        }
      },
      "execution_count": 35,
      "outputs": [
        {
          "output_type": "stream",
          "name": "stdout",
          "text": [
            "Accuracy: 0.93 (+/- 0.00)\n"
          ]
        }
      ]
    },
    {
      "cell_type": "code",
      "source": [
        "X_train= pd.DataFrame(X_train)\n",
        "ax= X_train.hist(figsize=(8,5))"
      ],
      "metadata": {
        "id": "4aN2KHv6zKc8",
        "outputId": "5b910466-808a-4218-c8f3-e04660e99794",
        "colab": {
          "base_uri": "https://localhost:8080/",
          "height": 338
        }
      },
      "execution_count": 36,
      "outputs": [
        {
          "output_type": "display_data",
          "data": {
            "text/plain": [
              "<Figure size 576x360 with 1 Axes>"
            ],
            "image/png": "[encoded data removed]"
          },
          "metadata": {}
        }
      ]
    },
    {
      "cell_type": "code",
      "source": [
        "X_test.shape"
      ],
      "metadata": {
        "id": "IQRpGlxmzKn3",
        "outputId": "bf8feeca-57c1-410d-bb21-f6273f19fbab",
        "colab": {
          "base_uri": "https://localhost:8080/"
        }
      },
      "execution_count": 37,
      "outputs": [
        {
          "output_type": "execute_result",
          "data": {
            "text/plain": [
              "(3213, 1)"
            ]
          },
          "metadata": {},
          "execution_count": 37
        }
      ]
    },
    {
      "cell_type": "code",
      "source": [
        "# NO FUNCIONA\n",
        "\n",
        "\n",
        "# Accuracy de test del model\n",
        "# ==============================================================================\n",
        "#X_test = sm.add_constant(X_test, prepend=True)\n",
        "predicciones = modelo.predict(exog = X_test)\n",
        "clasificacion = np.where(predicciones<0.5, 0, 1)\n",
        "accuracy = accuracy_score(\n",
        "            y_true    = y_test,\n",
        "            y_pred    = clasificacion,\n",
        "            normalize = True\n",
        "           )\n",
        "print(\"\")\n",
        "print(f\"El accuracy de test es: {100*accuracy}%\")"
      ],
      "metadata": {
        "id": "5JDBAJ9LyrkE",
        "outputId": "8d5b6c3d-3726-4c16-e345-91c959a3d5b9",
        "colab": {
          "base_uri": "https://localhost:8080/"
        }
      },
      "execution_count": 38,
      "outputs": [
        {
          "output_type": "stream",
          "name": "stdout",
          "text": [
            "\n",
            "El accuracy de test es: 66.69779022720199%\n"
          ]
        }
      ]
    },
    {
      "cell_type": "code",
      "source": [
        "#Borrar\n",
        "X_train, X_test, y_train, y_test = train_test_split(datos_x, datos_y, test_size=0.3,random_state=109) # 70% training and 30% test\n",
        "# instanciar el modelo (usando los parámetros predeterminados)\n",
        "logreg = LogisticRegression()\n",
        "\n",
        "# fit el modelo\n",
        "logreg.fit(X_train,y_train)\n",
        "\n",
        "#\n",
        "y_pred_RLogis=logreg.predict(X_test)"
      ],
      "metadata": {
        "id": "_Z64TeouytwL"
      },
      "execution_count": 39,
      "outputs": []
    },
    {
      "cell_type": "code",
      "source": [
        "# Predicciones en todo el rango de X\n",
        "# ==============================================================================\n",
        "# Se crea un vector con nuevos valores interpolados en el rango de observaciones.\n",
        "\n",
        "grid_X = np.linspace(\n",
        "            start = min(df2.E_Despegue2),\n",
        "            stop  = max(df2.E_Despegue2),\n",
        "            num   = 200\n",
        "         ).reshape(-1,1)\n",
        "\n",
        "grid_X = sm.add_constant(grid_X, prepend=True)\n",
        "predicciones = modelo.predict()"
      ],
      "metadata": {
        "id": "WD6qI9a6wQRh"
      },
      "execution_count": 40,
      "outputs": []
    },
    {
      "cell_type": "code",
      "source": [
        " grid_X.shape"
      ],
      "metadata": {
        "id": "zh5m9Rx91wP9",
        "outputId": "13359c60-1870-47e9-8215-377f50c0fe34",
        "colab": {
          "base_uri": "https://localhost:8080/"
        }
      },
      "execution_count": 41,
      "outputs": [
        {
          "output_type": "execute_result",
          "data": {
            "text/plain": [
              "(200, 2)"
            ]
          },
          "metadata": {},
          "execution_count": 41
        }
      ]
    },
    {
      "cell_type": "code",
      "source": [],
      "metadata": {
        "id": "Rdok2i1B38nU"
      },
      "execution_count": 41,
      "outputs": []
    },
    {
      "cell_type": "markdown",
      "source": [
        "borrar\n",
        "\n",
        "y_pred_RLogis=logreg.predict(X_test)"
      ],
      "metadata": {
        "id": "RgyBC7EE2Yfk"
      }
    },
    {
      "cell_type": "code",
      "source": [
        "# Creación del modelo\n",
        "# ==============================================================================\n",
        "# Para no incluir ningún tipo de regularización en el modelo se indica\n",
        "# penalty='none'\n",
        "\n",
        "modelo = logreg.predict(X_test)\n",
        "#modelo.fit(X = X_train.reshape(-1, 1), y = y_train)"
      ],
      "metadata": {
        "id": "gPnwdmHgsiz9"
      },
      "execution_count": 42,
      "outputs": []
    },
    {
      "cell_type": "code",
      "source": [
        "X_test.shape"
      ],
      "metadata": {
        "id": "LFEYqSNl3FHC",
        "outputId": "2eaebef2-cf8f-4c0b-dbfa-5c62afd8ad30",
        "colab": {
          "base_uri": "https://localhost:8080/"
        }
      },
      "execution_count": 43,
      "outputs": [
        {
          "output_type": "execute_result",
          "data": {
            "text/plain": [
              "(3213, 1)"
            ]
          },
          "metadata": {},
          "execution_count": 43
        }
      ]
    },
    {
      "cell_type": "code",
      "source": [
        "# BORRAR son pruebas\n",
        "fig, ax = plt.subplots(figsize=(6, 3.84))\n",
        "ax.scatter(\n",
        "   modelo,y_test)"
      ],
      "metadata": {
        "id": "VrSbJlgs2tDM",
        "outputId": "931229a8-f317-400d-d291-cdcce62c8186",
        "colab": {
          "base_uri": "https://localhost:8080/",
          "height": 276
        }
      },
      "execution_count": 44,
      "outputs": [
        {
          "output_type": "execute_result",
          "data": {
            "text/plain": [
              "<matplotlib.collections.PathCollection at 0x7f3bc7aa7350>"
            ]
          },
          "metadata": {},
          "execution_count": 44
        },
        {
          "output_type": "display_data",
          "data": {
            "text/plain": [
              "<Figure size 432x276.48 with 1 Axes>"
            ],
            "image/png": "[encoded data removed]"
          },
          "metadata": {}
        }
      ]
    },
    {
      "cell_type": "code",
      "source": [
        "fig, ax = plt.subplots(figsize=(6, 3.84))\n",
        "ax.scatter(\n",
        "   grid_X,y_test)\n",
        "    #y_train)"
      ],
      "metadata": {
        "id": "cspmlwNAx1dI",
        "outputId": "02953bd9-ec1c-4c42-d715-ddd29fdf83f1",
        "colab": {
          "base_uri": "https://localhost:8080/",
          "height": 609
        }
      },
      "execution_count": 45,
      "outputs": [
        {
          "output_type": "error",
          "ename": "ValueError",
          "evalue": "ignored",
          "traceback": [
            "\u001b[0;31m---------------------------------------------------------------------------\u001b[0m",
            "\u001b[0;31mValueError\u001b[0m                                Traceback (most recent call last)",
            "\u001b[0;32m<ipython-input-45-030f156aacb3>\u001b[0m in \u001b[0;36m<module>\u001b[0;34m\u001b[0m\n\u001b[1;32m      1\u001b[0m \u001b[0mfig\u001b[0m\u001b[0;34m,\u001b[0m \u001b[0max\u001b[0m \u001b[0;34m=\u001b[0m \u001b[0mplt\u001b[0m\u001b[0;34m.\u001b[0m\u001b[0msubplots\u001b[0m\u001b[0;34m(\u001b[0m\u001b[0mfigsize\u001b[0m\u001b[0;34m=\u001b[0m\u001b[0;34m(\u001b[0m\u001b[0;36m6\u001b[0m\u001b[0;34m,\u001b[0m \u001b[0;36m3.84\u001b[0m\u001b[0;34m)\u001b[0m\u001b[0;34m)\u001b[0m\u001b[0;34m\u001b[0m\u001b[0;34m\u001b[0m\u001b[0m\n\u001b[1;32m      2\u001b[0m ax.scatter(\n\u001b[0;32m----> 3\u001b[0;31m    grid_X,y_test)\n\u001b[0m\u001b[1;32m      4\u001b[0m     \u001b[0;31m#y_train)\u001b[0m\u001b[0;34m\u001b[0m\u001b[0;34m\u001b[0m\u001b[0;34m\u001b[0m\u001b[0m\n",
            "\u001b[0;32m/usr/local/lib/python3.7/dist-packages/matplotlib/__init__.py\u001b[0m in \u001b[0;36minner\u001b[0;34m(ax, data, *args, **kwargs)\u001b[0m\n\u001b[1;32m   1563\u001b[0m     \u001b[0;32mdef\u001b[0m \u001b[0minner\u001b[0m\u001b[0;34m(\u001b[0m\u001b[0max\u001b[0m\u001b[0;34m,\u001b[0m \u001b[0;34m*\u001b[0m\u001b[0margs\u001b[0m\u001b[0;34m,\u001b[0m \u001b[0mdata\u001b[0m\u001b[0;34m=\u001b[0m\u001b[0;32mNone\u001b[0m\u001b[0;34m,\u001b[0m \u001b[0;34m**\u001b[0m\u001b[0mkwargs\u001b[0m\u001b[0;34m)\u001b[0m\u001b[0;34m:\u001b[0m\u001b[0;34m\u001b[0m\u001b[0;34m\u001b[0m\u001b[0m\n\u001b[1;32m   1564\u001b[0m         \u001b[0;32mif\u001b[0m \u001b[0mdata\u001b[0m \u001b[0;32mis\u001b[0m \u001b[0;32mNone\u001b[0m\u001b[0;34m:\u001b[0m\u001b[0;34m\u001b[0m\u001b[0;34m\u001b[0m\u001b[0m\n\u001b[0;32m-> 1565\u001b[0;31m             \u001b[0;32mreturn\u001b[0m \u001b[0mfunc\u001b[0m\u001b[0;34m(\u001b[0m\u001b[0max\u001b[0m\u001b[0;34m,\u001b[0m \u001b[0;34m*\u001b[0m\u001b[0mmap\u001b[0m\u001b[0;34m(\u001b[0m\u001b[0msanitize_sequence\u001b[0m\u001b[0;34m,\u001b[0m \u001b[0margs\u001b[0m\u001b[0;34m)\u001b[0m\u001b[0;34m,\u001b[0m \u001b[0;34m**\u001b[0m\u001b[0mkwargs\u001b[0m\u001b[0;34m)\u001b[0m\u001b[0;34m\u001b[0m\u001b[0;34m\u001b[0m\u001b[0m\n\u001b[0m\u001b[1;32m   1566\u001b[0m \u001b[0;34m\u001b[0m\u001b[0m\n\u001b[1;32m   1567\u001b[0m         \u001b[0mbound\u001b[0m \u001b[0;34m=\u001b[0m \u001b[0mnew_sig\u001b[0m\u001b[0;34m.\u001b[0m\u001b[0mbind\u001b[0m\u001b[0;34m(\u001b[0m\u001b[0max\u001b[0m\u001b[0;34m,\u001b[0m \u001b[0;34m*\u001b[0m\u001b[0margs\u001b[0m\u001b[0;34m,\u001b[0m \u001b[0;34m**\u001b[0m\u001b[0mkwargs\u001b[0m\u001b[0;34m)\u001b[0m\u001b[0;34m\u001b[0m\u001b[0;34m\u001b[0m\u001b[0m\n",
            "\u001b[0;32m/usr/local/lib/python3.7/dist-packages/matplotlib/cbook/deprecation.py\u001b[0m in \u001b[0;36mwrapper\u001b[0;34m(*args, **kwargs)\u001b[0m\n\u001b[1;32m    356\u001b[0m                 \u001b[0;34mf\"%(removal)s.  If any parameter follows {name!r}, they \"\u001b[0m\u001b[0;34m\u001b[0m\u001b[0;34m\u001b[0m\u001b[0m\n\u001b[1;32m    357\u001b[0m                 f\"should be pass as keyword, not positionally.\")\n\u001b[0;32m--> 358\u001b[0;31m         \u001b[0;32mreturn\u001b[0m \u001b[0mfunc\u001b[0m\u001b[0;34m(\u001b[0m\u001b[0;34m*\u001b[0m\u001b[0margs\u001b[0m\u001b[0;34m,\u001b[0m \u001b[0;34m**\u001b[0m\u001b[0mkwargs\u001b[0m\u001b[0;34m)\u001b[0m\u001b[0;34m\u001b[0m\u001b[0;34m\u001b[0m\u001b[0m\n\u001b[0m\u001b[1;32m    359\u001b[0m \u001b[0;34m\u001b[0m\u001b[0m\n\u001b[1;32m    360\u001b[0m     \u001b[0;32mreturn\u001b[0m \u001b[0mwrapper\u001b[0m\u001b[0;34m\u001b[0m\u001b[0;34m\u001b[0m\u001b[0m\n",
            "\u001b[0;32m/usr/local/lib/python3.7/dist-packages/matplotlib/axes/_axes.py\u001b[0m in \u001b[0;36mscatter\u001b[0;34m(self, x, y, s, c, marker, cmap, norm, vmin, vmax, alpha, linewidths, verts, edgecolors, plotnonfinite, **kwargs)\u001b[0m\n\u001b[1;32m   4389\u001b[0m         \u001b[0my\u001b[0m \u001b[0;34m=\u001b[0m \u001b[0mnp\u001b[0m\u001b[0;34m.\u001b[0m\u001b[0mma\u001b[0m\u001b[0;34m.\u001b[0m\u001b[0mravel\u001b[0m\u001b[0;34m(\u001b[0m\u001b[0my\u001b[0m\u001b[0;34m)\u001b[0m\u001b[0;34m\u001b[0m\u001b[0;34m\u001b[0m\u001b[0m\n\u001b[1;32m   4390\u001b[0m         \u001b[0;32mif\u001b[0m \u001b[0mx\u001b[0m\u001b[0;34m.\u001b[0m\u001b[0msize\u001b[0m \u001b[0;34m!=\u001b[0m \u001b[0my\u001b[0m\u001b[0;34m.\u001b[0m\u001b[0msize\u001b[0m\u001b[0;34m:\u001b[0m\u001b[0;34m\u001b[0m\u001b[0;34m\u001b[0m\u001b[0m\n\u001b[0;32m-> 4391\u001b[0;31m             \u001b[0;32mraise\u001b[0m \u001b[0mValueError\u001b[0m\u001b[0;34m(\u001b[0m\u001b[0;34m\"x and y must be the same size\"\u001b[0m\u001b[0;34m)\u001b[0m\u001b[0;34m\u001b[0m\u001b[0;34m\u001b[0m\u001b[0m\n\u001b[0m\u001b[1;32m   4392\u001b[0m \u001b[0;34m\u001b[0m\u001b[0m\n\u001b[1;32m   4393\u001b[0m         \u001b[0;32mif\u001b[0m \u001b[0ms\u001b[0m \u001b[0;32mis\u001b[0m \u001b[0;32mNone\u001b[0m\u001b[0;34m:\u001b[0m\u001b[0;34m\u001b[0m\u001b[0;34m\u001b[0m\u001b[0m\n",
            "\u001b[0;31mValueError\u001b[0m: x and y must be the same size"
          ]
        },
        {
          "output_type": "display_data",
          "data": {
            "text/plain": [
              "<Figure size 432x276.48 with 1 Axes>"
            ],
            "image/png": "[encoded data removed]"
          },
          "metadata": {}
        }
      ]
    },
    {
      "cell_type": "code",
      "source": [
        "# Gráfico del modelo\n",
        "# ==============================================================================\n",
        "fig, ax = plt.subplots(figsize=(6, 3.84))\n",
        "\n",
        "ax.scatter(\n",
        "    X_train[(y_train == 1).flatten(), 1],\n",
        "    y_train[(y_train == 1).flatten()].flatten()\n",
        ")\n",
        "ax.scatter(\n",
        "    X_train[(y_train == 0).flatten(), 1],\n",
        "    y_train[(y_train == 0).flatten()].flatten()\n",
        ")\n",
        "ax.plot(grid_X[:, 1], predicciones, color = \"gray\")\n",
        "ax.set_title(\"Modelo regresión logística\")\n",
        "ax.set_ylabel(\"P(matrícula = 1 | matemáticas)\")\n",
        "ax.set_xlabel(\"Nota matemáticas\");"
      ],
      "metadata": {
        "id": "Y7bPkdfyxoN5"
      },
      "execution_count": null,
      "outputs": []
    },
    {
      "cell_type": "code",
      "source": [
        "# Gráfico del modelo\n",
        "# ==============================================================================\n",
        "fig, ax = plt.subplots(figsize=(6, 3.84))\n",
        "\n",
        "ax.scatter(\n",
        "    X_train[(y_train == 1).flatten(), 1],\n",
        "    y_train[(y_train == 1).flatten()].flatten()\n",
        ")\n",
        "ax.scatter(\n",
        "    X_train[(y_train == 0).flatten(), 1],\n",
        "    y_train[(y_train == 0).flatten()].flatten()\n",
        ")\n",
        "ax.plot(grid_X[:, 1], predicciones, color = \"gray\")\n",
        "ax.set_title(\"Modelo regresión logística\")\n",
        "ax.set_ylabel(\"P(matrícula = 1 | matemáticas)\")\n",
        "ax.set_xlabel(\"Nota matemáticas\");"
      ],
      "metadata": {
        "id": "wcFEanImlCQ-"
      },
      "execution_count": null,
      "outputs": []
    },
    {
      "cell_type": "code",
      "source": [
        "datos_x_2= df2.loc[:, ['E_Despegue3', 'E_Duracion_Vuelo3', 'Puntualidad2', 'Puntualidad3' ]].values\n",
        "\n",
        "\n",
        "#Dividimos el dataset en training set y test set\n",
        "X_train_2, X_test_2, y_train_2, y_test_2 = train_test_split(datos_x_2, datos_y, test_size=0.3,random_state=109) # 70% training and 30% test\n",
        "\n",
        "# fit el modelo\n",
        "logreg.fit(X_train_2,y_train_2)\n",
        "\n",
        "#\n",
        "y_pred_RLogis=logreg.predict(X_test_2)\n",
        "\n",
        "#clf = LogisticRegression(solver='newton-cg', multi_class='multinomial')\n",
        "scores_RL = cross_val_score(logreg, X_train_2, y_train, cv=5)\n",
        " \n",
        "print(\"Accuracy: %0.2f (+/- %0.2f)\" % (scores_RL.mean(), scores_RL.std() * 2))\n",
        "MetricasModelo( 'Regre Log sin datos 1º salto', y_test, y_pred_RLogis, scores_RL)\n"
      ],
      "metadata": {
        "id": "kRTTFweZllCO"
      },
      "execution_count": null,
      "outputs": []
    },
    {
      "cell_type": "code",
      "source": [
        "X_train_2=pd.DataFrame(X_train_2)\n",
        "X_train_2.info()"
      ],
      "metadata": {
        "id": "0rUnH60fn32n"
      },
      "execution_count": null,
      "outputs": []
    },
    {
      "cell_type": "code",
      "source": [
        "X_train_2.head()"
      ],
      "metadata": {
        "id": "JJObQX8EoLYX"
      },
      "execution_count": null,
      "outputs": []
    },
    {
      "cell_type": "markdown",
      "source": [
        "# 2.- XGBoost "
      ],
      "metadata": {
        "id": "2U4eAxvVrNsa"
      }
    },
    {
      "cell_type": "code",
      "source": [
        "#scatter plots \n",
        "df3=df2[[   'E_Despegue3', 'E_Duracion_Vuelo3', 'Puntualidad2', 'Puntualidad3', 'Tard1?']]\n",
        " \n",
        "g=sns.pairplot(df3,hue='Tard1?', palette='deep')\n",
        "for ax in g.axes.ravel():\n",
        "    ax.axvline(x=0, ls='--', linewidth=2, c='red') \n",
        "    ax.axvline(x=10, ls='-.', linewidth=1, c='green')"
      ],
      "metadata": {
        "id": "gu8b6BsFoZ_t"
      },
      "execution_count": null,
      "outputs": []
    },
    {
      "cell_type": "code",
      "source": [
        "import xgboost as xgb\n",
        "from sklearn.metrics import mean_squared_error\n",
        "from sklearn.metrics import r2_score\n",
        " \n",
        "# X_train, X_test, y_train, y_test\n",
        "data_dmatrix = xgb.DMatrix(data=X_train,label=y_train)"
      ],
      "metadata": {
        "id": "uPQ7MOZjrVHz"
      },
      "execution_count": null,
      "outputs": []
    },
    {
      "cell_type": "code",
      "source": [
        "\n",
        "datos_x= df2.loc[:, ['Puntualidad1', 'Puntualidad2', 'E_Despegue','E_Despegue2','E_Despegue3',\n",
        "        'E_Duracion_Vuelo','E_Duracion_Vuelo2','E_Duracion_Vuelo3', ]].values\n",
        "datos_y = df2.loc[:,['Puntualidad3']].values\n",
        "\n",
        "#Dividimos el dataset en training set y test set\n",
        "X_train, X_test, y_train, y_test = train_test_split(datos_x, datos_y, test_size=0.3,random_state=109) # 70% training and 30% test"
      ],
      "metadata": {
        "id": "bB4IMUUdsADM"
      },
      "execution_count": null,
      "outputs": []
    },
    {
      "cell_type": "code",
      "source": [
        "# Creo el modelo:\n",
        " \n",
        "xg_reg = xgb.XGBClassifier(objective=\"multi:softprob\",  n_classes=3)\n",
        "\n",
        "xg_reg.fit(X_train,y_train)\n",
        "\n",
        "y_preds_XGBoost = xg_reg.predict(X_test)\n",
        "y_preds_XGBoost "
      ],
      "metadata": {
        "id": "awDiIuU_rZnD"
      },
      "execution_count": null,
      "outputs": []
    },
    {
      "cell_type": "code",
      "source": [
        "scores_SGB = cross_val_score(xg_reg, X_train, y_train, cv=5)\n",
        "MetricasModelo( 'XGBoost', y_test, y_preds_XGBoost, scores_SGB)"
      ],
      "metadata": {
        "id": "gCM2q9SIsSe0"
      },
      "execution_count": null,
      "outputs": []
    },
    {
      "cell_type": "markdown",
      "source": [
        "## 4.- Utilizando Multinomial logistic regression"
      ],
      "metadata": {
        "id": "hjoO6yWXF3hE"
      }
    },
    {
      "cell_type": "code",
      "source": [
        "log_reg = LogisticRegression(solver='newton-cg', multi_class='multinomial')\n",
        "log_reg.fit(X_train, y_train)\n",
        "y_pred_MLR = log_reg.predict(X_test)"
      ],
      "metadata": {
        "id": "2-UJ793AF-Qn"
      },
      "execution_count": null,
      "outputs": []
    },
    {
      "cell_type": "code",
      "source": [
        "scores_RLM = cross_val_score(log_reg, X_train, y_train, cv=5)"
      ],
      "metadata": {
        "id": "rHweW18oGA5G"
      },
      "execution_count": null,
      "outputs": []
    },
    {
      "cell_type": "code",
      "source": [
        "MetricasModelo( 'Mult. logistic regression', y_test, y_pred_MLR, scores_RLM )"
      ],
      "metadata": {
        "id": "bWXpwmd9GCpI"
      },
      "execution_count": null,
      "outputs": []
    },
    {
      "cell_type": "code",
      "source": [],
      "metadata": {
        "id": "VYGkVKFD6B42"
      },
      "execution_count": null,
      "outputs": []
    },
    {
      "cell_type": "markdown",
      "source": [
        "# 3.- Gestió unbalance dataset"
      ],
      "metadata": {
        "id": "1IYi99it7HII"
      }
    },
    {
      "cell_type": "markdown",
      "source": [
        "https://elitedatascience.com/imbalanced-classes"
      ],
      "metadata": {
        "id": "DcKhunuU7flu"
      }
    },
    {
      "cell_type": "markdown",
      "source": [
        "## Regressió Logística Balanceada"
      ],
      "metadata": {
        "id": "8VnYdSNh6FXz"
      }
    },
    {
      "cell_type": "code",
      "source": [
        "# Número de obsercaciones por clase\n",
        "# ==============================================================================\n",
        "df2['Tard3'].value_counts().sort_index()"
      ],
      "metadata": {
        "id": "t-LfAvAS6M2u",
        "outputId": "c67e54ba-5ad8-403b-805b-e464e715ddd2",
        "colab": {
          "base_uri": "https://localhost:8080/"
        }
      },
      "execution_count": 46,
      "outputs": [
        {
          "output_type": "execute_result",
          "data": {
            "text/plain": [
              "0    9950\n",
              "1     758\n",
              "Name: Tard3, dtype: int64"
            ]
          },
          "metadata": {},
          "execution_count": 46
        }
      ]
    },
    {
      "cell_type": "code",
      "source": [
        "sns.countplot(x='Tard3',data=df2, palette='hls')\n",
        "plt.show()"
      ],
      "metadata": {
        "id": "sM9ogDY50vvt",
        "outputId": "a04e6ef2-58cb-4884-e541-bf58b2610049",
        "colab": {
          "base_uri": "https://localhost:8080/",
          "height": 502
        }
      },
      "execution_count": 47,
      "outputs": [
        {
          "output_type": "display_data",
          "data": {
            "text/plain": [
              "<Figure size 1080x576 with 1 Axes>"
            ],
            "image/png": "[encoded data removed]"
          },
          "metadata": {}
        }
      ]
    },
    {
      "cell_type": "code",
      "source": [
        "df2.columns"
      ],
      "metadata": {
        "id": "iDmG7Pkl8Wrm",
        "outputId": "7ecf8437-2113-425d-fae8-73cb25bb448e",
        "colab": {
          "base_uri": "https://localhost:8080/"
        }
      },
      "execution_count": 48,
      "outputs": [
        {
          "output_type": "execute_result",
          "data": {
            "text/plain": [
              "Index(['Puntualidad1', 'Puntualidad2', 'Puntualidad3', 'E_Despegue',\n",
              "       'E_Despegue2', 'E_Despegue3', 'E_Duracion_Vuelo', 'E_Duracion_Vuelo2',\n",
              "       'E_Duracion_Vuelo3', 'Tard1', 'Tard2', 'Tard3'],\n",
              "      dtype='object')"
            ]
          },
          "metadata": {},
          "execution_count": 48
        }
      ]
    },
    {
      "cell_type": "code",
      "source": [
        "#@title creem df2_sobremostrejat\n",
        "\n",
        "from sklearn.utils import resample\n",
        "\n",
        "\n",
        "\n",
        "# Separate majority and minority classes\n",
        "df_majority = df2[df2.Tard3==0]\n",
        "df_minority = df2[df2.Tard3==1]\n",
        " \n",
        "# Upsample minority class\n",
        "df_minority_sobremostrejat = resample(df_minority, \n",
        "                                 replace=True,     # sample with replacement\n",
        "                                 n_samples=8000,    # to match majority class\n",
        "                                 random_state=123) # reproducible results\n",
        " \n",
        "# Combine majority class with sobremostrejat minority class\n",
        "df2_sobremostrejat = pd.concat([df_majority, df_minority_sobremostrejat])\n",
        " \n",
        "# Display new class counts\n",
        "df2_sobremostrejat.Tard3.value_counts()\n",
        "# 1    576\n",
        "# 0    576\n",
        "# Name: balance, dtype: int64"
      ],
      "metadata": {
        "id": "BMq9MeEw739R",
        "outputId": "8a703b05-a70e-45b4-dca5-38066880413d",
        "colab": {
          "base_uri": "https://localhost:8080/"
        }
      },
      "execution_count": 66,
      "outputs": [
        {
          "output_type": "execute_result",
          "data": {
            "text/plain": [
              "0    9950\n",
              "1    8000\n",
              "Name: Tard3, dtype: int64"
            ]
          },
          "metadata": {},
          "execution_count": 66
        }
      ]
    },
    {
      "cell_type": "code",
      "source": [
        "fig, ax = plt.subplots(figsize=(6, 3.84))\n",
        "\n",
        "sns.violinplot(\n",
        "        x     = 'Tard3',\n",
        "        y     = 'E_Despegue2',\n",
        "        data  = df2_sobremostrejat,\n",
        "        #color = \"white\",\n",
        "        ax    = ax\n",
        "    )\n",
        "\n",
        "ax.set_title('Distribución notas de matemáticas por clase');"
      ],
      "metadata": {
        "id": "ywbf7rh-ciCq",
        "outputId": "6775dbdf-68b2-4e64-f948-7c56f4dd732f",
        "colab": {
          "base_uri": "https://localhost:8080/",
          "height": 292
        }
      },
      "execution_count": 50,
      "outputs": [
        {
          "output_type": "display_data",
          "data": {
            "text/plain": [
              "<Figure size 432x276.48 with 1 Axes>"
            ],
            "image/png": "[encoded data removed]"
          },
          "metadata": {}
        }
      ]
    },
    {
      "cell_type": "code",
      "source": [
        "# Importo train_test_split function para dividir los datos en Test y Train\n",
        "from sklearn.model_selection import train_test_split\n",
        "\n",
        "\n",
        "# Creo la columna X e Y:\n",
        "#datos_x = df2.loc[:,data.columns != 'target'].values\n",
        "\n",
        "datos_x= df2_sobremostrejat.loc[:, ['Puntualidad1', 'Puntualidad2',  \n",
        "        'E_Despegue','E_Despegue2','E_Despegue3','E_Duracion_Vuelo','E_Duracion_Vuelo2','E_Duracion_Vuelo3',]].values\n",
        "\n",
        "datos_y = df2_sobremostrejat.loc[:,['Tard3']].values\n",
        "\n",
        "#Dividimos el dataset en training set y test set\n",
        "X_train, X_test, y_train, y_test = train_test_split(datos_x, datos_y, test_size=0.3,random_state=109) # 70% training and 30% test\n",
        "\n",
        "\n",
        "# instanciar el modelo (usando los parámetros predeterminados)\n",
        "logreg = LogisticRegression()\n",
        "\n",
        "# fit el modelo\n",
        "logreg.fit(X_train,y_train)\n",
        "\n",
        "#\n",
        "y_pred_RLogis=logreg.predict(X_test)\n",
        "\n",
        "scores_RL = cross_val_score(logreg, X_train, y_train, cv=5)\n",
        " \n",
        "print(\"Accuracy: %0.2f (+/- %0.2f)\" % (scores_RL.mean(), scores_RL.std() * 2))\n",
        "\n",
        "\n",
        "MetricasModelo( 'Regr.Log. Balanceada', y_test, y_pred_RLogis, scores_RL)\n",
        "\n"
      ],
      "metadata": {
        "id": "aB160m_sc1Ah",
        "outputId": "3aa193bf-20d5-48c4-f09d-812378b78175",
        "colab": {
          "base_uri": "https://localhost:8080/",
          "height": 782
        }
      },
      "execution_count": 51,
      "outputs": [
        {
          "output_type": "stream",
          "name": "stdout",
          "text": [
            "Accuracy: 1.00 (+/- 0.00)\n",
            "Metodo:  Regr.Log. Balanceada\n",
            "RMSE: 0.000000\n",
            "R-Squared:  1.0\n",
            "Accuracy: 1.00 (+/- 0.00)\n",
            "\n",
            "\n",
            "Matriz de Confusión\n",
            "[[3009    0]\n",
            " [   0 2376]]\n"
          ]
        },
        {
          "output_type": "display_data",
          "data": {
            "text/plain": [
              "<Figure size 1080x576 with 2 Axes>"
            ],
            "image/png": "[encoded data removed]"
          },
          "metadata": {}
        }
      ]
    },
    {
      "cell_type": "code",
      "source": [
        "a = datos_y.reshape(-1,1)\n",
        "a"
      ],
      "metadata": {
        "id": "1F89bZeyf76N",
        "outputId": "74d4d38a-cc0e-460a-aa02-ba8c9a400a9c",
        "colab": {
          "base_uri": "https://localhost:8080/"
        }
      },
      "execution_count": 52,
      "outputs": [
        {
          "output_type": "execute_result",
          "data": {
            "text/plain": [
              "array([[0],\n",
              "       [0],\n",
              "       [0],\n",
              "       ...,\n",
              "       [1],\n",
              "       [1],\n",
              "       [1]])"
            ]
          },
          "metadata": {},
          "execution_count": 52
        }
      ]
    },
    {
      "cell_type": "markdown",
      "source": [
        "## regresión logística múltiple"
      ],
      "metadata": {
        "id": "Or4UUnRhh0Nj"
      }
    },
    {
      "cell_type": "code",
      "source": [],
      "metadata": {
        "id": "rrO34bWj1MYT"
      },
      "execution_count": 52,
      "outputs": []
    },
    {
      "cell_type": "code",
      "source": [
        "\n",
        "X_train, X_test, y_train, y_test = train_test_split(\n",
        "                                        datos_x,\n",
        "                                       datos_y,\n",
        "                                        train_size   = 0.8,\n",
        "                                        random_state = 1234,\n",
        "                                        shuffle      = True\n",
        "                                    )"
      ],
      "metadata": {
        "id": "3Nya7dYVf4_L"
      },
      "execution_count": 69,
      "outputs": []
    },
    {
      "cell_type": "code",
      "source": [
        "# Creación del modelo utilizando matrices como en scikitlearn\n",
        "# ==============================================================================\n",
        "# A la matriz de predictores se le tiene que añadir una columna de 1s para el intercept del modelo\n",
        "\n",
        "import statsmodels.api as sm\n",
        "\n",
        "# División de los datos en train y test\n",
        "# ==============================================================================\n",
        "datos_x= df2_sobremostrejat.loc[:, ['Puntualidad1', 'Puntualidad2',  \n",
        "        'E_Despegue','E_Despegue2','E_Despegue3',\n",
        "        'E_Duracion_Vuelo','E_Duracion_Vuelo2','E_Duracion_Vuelo3',]].values \n",
        "\n",
        "X_train, X_test, y_train, y_test = train_test_split(\n",
        "                                        datos_x,\n",
        "                                       datos_y,\n",
        "                                        train_size   = 0.8,\n",
        "                                        random_state = 1234,\n",
        "                                        shuffle      = True\n",
        "                                    )\n",
        "\n",
        "# datos_y.reshape(-1,1)\n",
        "\n",
        "\n",
        "# Creación del modelo utilizando matrices como en scikitlearn\n",
        "# ==============================================================================\n",
        "# A la matriz de predictores se le tiene que añadir una columna de 1s para el intercept del modelo\n",
        "\n"
      ],
      "metadata": {
        "id": "X2b51QOFdBwP"
      },
      "execution_count": 136,
      "outputs": []
    },
    {
      "cell_type": "code",
      "source": [
        "#X_train = sm.add_constant(X_train, prepend=True)\n",
        "modelo = sm.Logit(y_train, X_train,)\n",
        "modelo = modelo.fit()\n",
        "print(modelo.summary())"
      ],
      "metadata": {
        "id": "mbx5SRiPwtKy",
        "outputId": "8339fab1-a8d1-4589-d44e-9df88d42bcdb",
        "colab": {
          "base_uri": "https://localhost:8080/"
        }
      },
      "execution_count": 137,
      "outputs": [
        {
          "output_type": "stream",
          "name": "stdout",
          "text": [
            "Warning: Maximum number of iterations has been exceeded.\n",
            "         Current function value: 0.146195\n",
            "         Iterations: 35\n",
            "                           Logit Regression Results                           \n",
            "==============================================================================\n",
            "Dep. Variable:                  Tard3   No. Observations:                14360\n",
            "Model:                          Logit   Df Residuals:                    14354\n",
            "Method:                           MLE   Df Model:                            5\n",
            "Date:                Mon, 03 Oct 2022   Pseudo R-squ.:                  0.7872\n",
            "Time:                        11:32:21   Log-Likelihood:                -2099.4\n",
            "converged:                      False   LL-Null:                       -9865.6\n",
            "Covariance Type:            nonrobust   LLR p-value:                     0.000\n",
            "==============================================================================\n",
            "                 coef    std err          z      P>|z|      [0.025      0.975]\n",
            "------------------------------------------------------------------------------\n",
            "x1             0.0661        nan        nan        nan         nan         nan\n",
            "x2             0.0273        nan        nan        nan         nan         nan\n",
            "x3             0.0230        nan        nan        nan         nan         nan\n",
            "x4            -0.0491      0.005     -9.516      0.000      -0.059      -0.039\n",
            "x5             0.3684      0.007     49.128      0.000       0.354       0.383\n",
            "x6             0.0432        nan        nan        nan         nan         nan\n",
            "x7             0.0765        nan        nan        nan         nan         nan\n",
            "x8             0.3760      0.008     46.538      0.000       0.360       0.392\n",
            "==============================================================================\n"
          ]
        },
        {
          "output_type": "stream",
          "name": "stderr",
          "text": [
            "/usr/local/lib/python3.7/dist-packages/statsmodels/base/model.py:568: ConvergenceWarning: Maximum Likelihood optimization failed to converge. Check mle_retvals\n",
            "  ConvergenceWarning)\n"
          ]
        }
      ]
    },
    {
      "cell_type": "code",
      "source": [],
      "metadata": {
        "id": "4zK9sufVg7r7"
      },
      "execution_count": null,
      "outputs": []
    },
    {
      "cell_type": "markdown",
      "source": [
        "# 3.- Regresion Logistica Balanceada Binomial"
      ],
      "metadata": {
        "id": "eI7U7L_5zhG_"
      }
    },
    {
      "cell_type": "code",
      "source": [
        "df2_sobremostrejat.shape"
      ],
      "metadata": {
        "id": "EqUme0Sozs_5",
        "outputId": "5586ca3f-b219-4695-887d-b5fe3c092adf",
        "colab": {
          "base_uri": "https://localhost:8080/"
        }
      },
      "execution_count": 138,
      "outputs": [
        {
          "output_type": "execute_result",
          "data": {
            "text/plain": [
              "(17950, 12)"
            ]
          },
          "metadata": {},
          "execution_count": 138
        }
      ]
    },
    {
      "cell_type": "code",
      "source": [
        "sns.countplot(x='Tard3',data=df2_sobremostrejat, palette='hls')\n",
        "plt.show()"
      ],
      "metadata": {
        "id": "ho4CfT9Az6ms",
        "outputId": "7844da03-4a1a-4067-d99b-e35224358e82",
        "colab": {
          "base_uri": "https://localhost:8080/",
          "height": 502
        }
      },
      "execution_count": 139,
      "outputs": [
        {
          "output_type": "display_data",
          "data": {
            "text/plain": [
              "<Figure size 1080x576 with 1 Axes>"
            ],
            "image/png": "[encoded data removed]"
          },
          "metadata": {}
        }
      ]
    },
    {
      "cell_type": "code",
      "source": [
        "datos_x= df2_sobremostrejat.loc[:, ['Puntualidad1', 'Puntualidad2',  \n",
        "        'E_Despegue','E_Despegue2','E_Despegue3',\n",
        "        'E_Duracion_Vuelo','E_Duracion_Vuelo2','E_Duracion_Vuelo3',]]\n",
        "\n",
        "datos_y = df2_sobremostrejat.loc[:,['Tard3']]"
      ],
      "metadata": {
        "id": "KwCJ79eV1gRr"
      },
      "execution_count": 140,
      "outputs": []
    },
    {
      "cell_type": "markdown",
      "source": [
        "https://www.statsmodels.org/stable/index.html"
      ],
      "metadata": {
        "id": "TA3xBm-L9E0z"
      }
    },
    {
      "cell_type": "code",
      "source": [
        "import statsmodels.api as sm\n",
        "\n",
        "logit_model=sm.Logit( datos_y, datos_x)\n",
        "result=logit_model.fit()\n",
        "print(result.summary2())"
      ],
      "metadata": {
        "id": "PlqwZHxY2HGt",
        "outputId": "caab6afb-33c8-486e-cfaa-55a1184a7cb9",
        "colab": {
          "base_uri": "https://localhost:8080/"
        }
      },
      "execution_count": 141,
      "outputs": [
        {
          "output_type": "stream",
          "name": "stdout",
          "text": [
            "Warning: Maximum number of iterations has been exceeded.\n",
            "         Current function value: 0.147017\n",
            "         Iterations: 35\n",
            "                         Results: Logit\n",
            "================================================================\n",
            "Model:              Logit            Pseudo R-squared: 0.786    \n",
            "Dependent Variable: Tard3            AIC:              5289.9023\n",
            "Date:               2022-10-03 11:32 BIC:              5336.6744\n",
            "No. Observations:   17950            Log-Likelihood:   -2639.0  \n",
            "Df Model:           5                LL-Null:          -12336.  \n",
            "Df Residuals:       17944            LLR p-value:      0.0000   \n",
            "Converged:          0.0000           Scale:            1.0000   \n",
            "No. Iterations:     35.0000                                     \n",
            "----------------------------------------------------------------\n",
            "                    Coef.  Std.Err.    z    P>|z|  [0.025 0.975]\n",
            "----------------------------------------------------------------\n",
            "Puntualidad1        0.0653      nan     nan    nan    nan    nan\n",
            "Puntualidad2        0.0276      nan     nan    nan    nan    nan\n",
            "E_Despegue          0.0240      nan     nan    nan    nan    nan\n",
            "E_Despegue2        -0.0475      nan     nan    nan    nan    nan\n",
            "E_Despegue3         0.3673   0.0067 54.9488 0.0000 0.3542 0.3804\n",
            "E_Duracion_Vuelo    0.0413      nan     nan    nan    nan    nan\n",
            "E_Duracion_Vuelo2   0.0751      nan     nan    nan    nan    nan\n",
            "E_Duracion_Vuelo3   0.3770   0.0072 52.1905 0.0000 0.3629 0.3912\n",
            "================================================================\n",
            "\n"
          ]
        },
        {
          "output_type": "stream",
          "name": "stderr",
          "text": [
            "/usr/local/lib/python3.7/dist-packages/statsmodels/base/model.py:568: ConvergenceWarning: Maximum Likelihood optimization failed to converge. Check mle_retvals\n",
            "  ConvergenceWarning)\n"
          ]
        }
      ]
    },
    {
      "cell_type": "markdown",
      "source": [
        "**Qué diferencia** hay entre print(results.summary()) y print(results.summary2())"
      ],
      "metadata": {
        "id": "mV35eA0c9e7T"
      }
    },
    {
      "cell_type": "code",
      "source": [
        "print(result.summary())"
      ],
      "metadata": {
        "id": "6czhBi3T9Wx2",
        "outputId": "e30d0aac-a446-4a61-fa94-b83f714597ef",
        "colab": {
          "base_uri": "https://localhost:8080/"
        }
      },
      "execution_count": 142,
      "outputs": [
        {
          "output_type": "stream",
          "name": "stdout",
          "text": [
            "                           Logit Regression Results                           \n",
            "==============================================================================\n",
            "Dep. Variable:                  Tard3   No. Observations:                17950\n",
            "Model:                          Logit   Df Residuals:                    17944\n",
            "Method:                           MLE   Df Model:                            5\n",
            "Date:                Mon, 03 Oct 2022   Pseudo R-squ.:                  0.7861\n",
            "Time:                        11:32:47   Log-Likelihood:                -2639.0\n",
            "converged:                      False   LL-Null:                       -12336.\n",
            "Covariance Type:            nonrobust   LLR p-value:                     0.000\n",
            "=====================================================================================\n",
            "                        coef    std err          z      P>|z|      [0.025      0.975]\n",
            "-------------------------------------------------------------------------------------\n",
            "Puntualidad1          0.0653        nan        nan        nan         nan         nan\n",
            "Puntualidad2          0.0276        nan        nan        nan         nan         nan\n",
            "E_Despegue            0.0240        nan        nan        nan         nan         nan\n",
            "E_Despegue2          -0.0475        nan        nan        nan         nan         nan\n",
            "E_Despegue3           0.3673      0.007     54.949      0.000       0.354       0.380\n",
            "E_Duracion_Vuelo      0.0413        nan        nan        nan         nan         nan\n",
            "E_Duracion_Vuelo2     0.0751        nan        nan        nan         nan         nan\n",
            "E_Duracion_Vuelo3     0.3770      0.007     52.190      0.000       0.363       0.391\n",
            "=====================================================================================\n"
          ]
        }
      ]
    },
    {
      "cell_type": "code",
      "source": [
        "cols=['E_Despegue2', 'E_Duracion_Vuelo2']\n",
        "#cols=['E_Despegue3'] # Per crear una mica error\n",
        "X=datos_x[cols]\n",
        "y=datos_y\n",
        "\n",
        "\n",
        "logit_model=sm.Logit(y,X)\n",
        "result=logit_model.fit()\n",
        "print(result.summary2())"
      ],
      "metadata": {
        "id": "m6Wzp_Lt5Zc6",
        "outputId": "bc4a3cac-9e27-4711-b303-26103edbd8c7",
        "colab": {
          "base_uri": "https://localhost:8080/"
        }
      },
      "execution_count": 143,
      "outputs": [
        {
          "output_type": "stream",
          "name": "stdout",
          "text": [
            "Optimization terminated successfully.\n",
            "         Current function value: 0.653214\n",
            "         Iterations 4\n",
            "                          Results: Logit\n",
            "==================================================================\n",
            "Model:              Logit            Pseudo R-squared: 0.050      \n",
            "Dependent Variable: Tard3            AIC:              23454.3699 \n",
            "Date:               2022-10-03 11:33 BIC:              23469.9606 \n",
            "No. Observations:   17950            Log-Likelihood:   -11725.    \n",
            "Df Model:           1                LL-Null:          -12336.    \n",
            "Df Residuals:       17948            LLR p-value:      1.3929e-267\n",
            "Converged:          1.0000           Scale:            1.0000     \n",
            "No. Iterations:     4.0000                                        \n",
            "------------------------------------------------------------------\n",
            "                      Coef.  Std.Err.    z    P>|z|  [0.025 0.975]\n",
            "------------------------------------------------------------------\n",
            "E_Despegue2           0.0526   0.0017 30.1965 0.0000 0.0492 0.0560\n",
            "E_Duracion_Vuelo2     0.0399   0.0016 24.6486 0.0000 0.0367 0.0430\n",
            "==================================================================\n",
            "\n"
          ]
        }
      ]
    },
    {
      "cell_type": "code",
      "source": [],
      "metadata": {
        "id": "B5fYJLJ37yix"
      },
      "execution_count": null,
      "outputs": []
    },
    {
      "cell_type": "code",
      "source": [
        "X_train, X_test, y_train, y_test = train_test_split(X, y, test_size=0.3, random_state=0)\n",
        "#logreg = LogisticRegression()\n",
        "#logit_model.fit(X_train, y_train)\n",
        "\n",
        "\n",
        "logit_model=sm.Logit(y_train,X_train)\n",
        "result=logit_model.fit()\n",
        "print(result.summary2())\n",
        "\n",
        "\n"
      ],
      "metadata": {
        "id": "sD29Ya7v7ynS",
        "outputId": "a35facc8-022e-46d3-9ba1-98761423f326",
        "colab": {
          "base_uri": "https://localhost:8080/"
        }
      },
      "execution_count": 144,
      "outputs": [
        {
          "output_type": "stream",
          "name": "stdout",
          "text": [
            "Optimization terminated successfully.\n",
            "         Current function value: 0.652436\n",
            "         Iterations 4\n",
            "                          Results: Logit\n",
            "==================================================================\n",
            "Model:              Logit            Pseudo R-squared: 0.050      \n",
            "Dependent Variable: Tard3            AIC:              16399.7107 \n",
            "Date:               2022-10-03 11:33 BIC:              16414.5881 \n",
            "No. Observations:   12565            Log-Likelihood:   -8197.9    \n",
            "Df Model:           1                LL-Null:          -8626.8    \n",
            "Df Residuals:       12563            LLR p-value:      1.3830e-188\n",
            "Converged:          1.0000           Scale:            1.0000     \n",
            "No. Iterations:     4.0000                                        \n",
            "------------------------------------------------------------------\n",
            "                      Coef.  Std.Err.    z    P>|z|  [0.025 0.975]\n",
            "------------------------------------------------------------------\n",
            "E_Despegue2           0.0524   0.0021 25.1695 0.0000 0.0483 0.0565\n",
            "E_Duracion_Vuelo2     0.0409   0.0019 21.1313 0.0000 0.0371 0.0446\n",
            "==================================================================\n",
            "\n"
          ]
        }
      ]
    },
    {
      "cell_type": "code",
      "source": [
        "# Creación del modelo utilizando matrices como en scikitlearn\n",
        "# ==============================================================================\n",
        "# A la matriz de predictores se le tiene que añadir una columna de 1s para el intercept del modelo\n",
        "X_train = sm.add_constant(X_train, prepend=True)\n",
        "modelo = sm.Logit(endog=y_train, exog=X_train,)\n",
        "modelo = modelo.fit()\n",
        "print(modelo.summary())"
      ],
      "metadata": {
        "id": "t7pbvUD-kYb9",
        "outputId": "b75701ef-a699-4df5-97d7-68d7c5c6c929",
        "colab": {
          "base_uri": "https://localhost:8080/"
        }
      },
      "execution_count": 127,
      "outputs": [
        {
          "output_type": "stream",
          "name": "stdout",
          "text": [
            "Optimization terminated successfully.\n",
            "         Current function value: 0.440512\n",
            "         Iterations 6\n",
            "                           Logit Regression Results                           \n",
            "==============================================================================\n",
            "Dep. Variable:                  Tard3   No. Observations:                12565\n",
            "Model:                          Logit   Df Residuals:                    12561\n",
            "Method:                           MLE   Df Model:                            3\n",
            "Date:                Mon, 03 Oct 2022   Pseudo R-squ.:                  0.3584\n",
            "Time:                        11:30:27   Log-Likelihood:                -5535.0\n",
            "converged:                       True   LL-Null:                       -8626.8\n",
            "Covariance Type:            nonrobust   LLR p-value:                     0.000\n",
            "=====================================================================================\n",
            "                        coef    std err          z      P>|z|      [0.025      0.975]\n",
            "-------------------------------------------------------------------------------------\n",
            "const                -0.6905      0.028    -24.503      0.000      -0.746      -0.635\n",
            "E_Despegue2          -0.0007      0.003     -0.238      0.812      -0.006       0.005\n",
            "E_Duracion_Vuelo2     0.0108      0.003      3.856      0.000       0.005       0.016\n",
            "E_Despegue3           0.1829      0.003     53.730      0.000       0.176       0.190\n",
            "=====================================================================================\n"
          ]
        }
      ]
    },
    {
      "cell_type": "code",
      "source": [
        "# Creación del modelo utilizando matrices como en scikitlearn\n",
        "# ==============================================================================\n",
        "# A la matriz de predictores se le tiene que añadir una columna de 1s para el intercept del modelo\n",
        "X_train = sm.add_constant(X_train, prepend=True)\n",
        "modelo = sm.Logit(endog=y_train, exog=X_train,)\n",
        "modelo = modelo.fit()\n",
        "print(modelo.summary())"
      ],
      "metadata": {
        "id": "BYfQQWfMkgZd",
        "outputId": "ffd24b42-c561-4bf4-b9ae-2bc864782cdc",
        "colab": {
          "base_uri": "https://localhost:8080/"
        }
      },
      "execution_count": 128,
      "outputs": [
        {
          "output_type": "stream",
          "name": "stdout",
          "text": [
            "Optimization terminated successfully.\n",
            "         Current function value: 0.440512\n",
            "         Iterations 6\n",
            "                           Logit Regression Results                           \n",
            "==============================================================================\n",
            "Dep. Variable:                  Tard3   No. Observations:                12565\n",
            "Model:                          Logit   Df Residuals:                    12561\n",
            "Method:                           MLE   Df Model:                            3\n",
            "Date:                Mon, 03 Oct 2022   Pseudo R-squ.:                  0.3584\n",
            "Time:                        11:30:29   Log-Likelihood:                -5535.0\n",
            "converged:                       True   LL-Null:                       -8626.8\n",
            "Covariance Type:            nonrobust   LLR p-value:                     0.000\n",
            "=====================================================================================\n",
            "                        coef    std err          z      P>|z|      [0.025      0.975]\n",
            "-------------------------------------------------------------------------------------\n",
            "const                -0.6905      0.028    -24.503      0.000      -0.746      -0.635\n",
            "E_Despegue2          -0.0007      0.003     -0.238      0.812      -0.006       0.005\n",
            "E_Duracion_Vuelo2     0.0108      0.003      3.856      0.000       0.005       0.016\n",
            "E_Despegue3           0.1829      0.003     53.730      0.000       0.176       0.190\n",
            "=====================================================================================\n"
          ]
        }
      ]
    },
    {
      "cell_type": "code",
      "source": [
        "# Predicciones con intervalo de confianza \n",
        "# ==============================================================================\n",
        "predicciones = modelo.predict(exog = X_train)\n",
        "\n",
        "# Clasificación predicha\n",
        "# ==============================================================================\n",
        "clasificacion = np.where(predicciones<0.5, 0, 1)\n",
        "clasificacion"
      ],
      "metadata": {
        "id": "AohpxQmqleMn",
        "outputId": "28da9de9-d727-4616-dd1e-e6bcf2787fac",
        "colab": {
          "base_uri": "https://localhost:8080/"
        }
      },
      "execution_count": 129,
      "outputs": [
        {
          "output_type": "execute_result",
          "data": {
            "text/plain": [
              "array([0, 0, 0, ..., 0, 1, 0])"
            ]
          },
          "metadata": {},
          "execution_count": 129
        }
      ]
    },
    {
      "cell_type": "code",
      "source": [
        "# Accuracy de test del modelo \n",
        "# ==============================================================================\n",
        "X_test = sm.add_constant(X_test, prepend=True)\n",
        "predicciones = modelo.predict(exog = X_test)\n",
        "clasificacion = np.where(predicciones<0.5, 0, 1)\n",
        "accuracy = accuracy_score(\n",
        "            y_true    = y_test,\n",
        "            y_pred    = clasificacion,\n",
        "            normalize = True\n",
        "           )\n",
        "print(\"\")\n",
        "print(f\"El accuracy de test es: {100*accuracy}%\")"
      ],
      "metadata": {
        "id": "18R4VCGYkPh6",
        "outputId": "5c820ab2-2a95-4c03-8cb8-85e06739a787",
        "colab": {
          "base_uri": "https://localhost:8080/"
        }
      },
      "execution_count": 130,
      "outputs": [
        {
          "output_type": "stream",
          "name": "stdout",
          "text": [
            "\n",
            "El accuracy de test es: 80.35283194057567%\n"
          ]
        }
      ]
    },
    {
      "cell_type": "code",
      "source": [
        "# Matriz de confusión de las predicciones de test\n",
        "# ==============================================================================\n",
        "confusion_matrix = pd.crosstab(\n",
        "    y_test.values.ravel(),\n",
        "    clasificacion,\n",
        "    rownames=['Real'],\n",
        "    colnames=['Predicción']\n",
        ")\n",
        "confusion_matrix"
      ],
      "metadata": {
        "id": "eMwKCiBKkE4m",
        "outputId": "8dcdece3-ee1d-4b84-9883-a26fd288e3d3",
        "colab": {
          "base_uri": "https://localhost:8080/",
          "height": 144
        }
      },
      "execution_count": 131,
      "outputs": [
        {
          "output_type": "execute_result",
          "data": {
            "text/plain": [
              "Predicción     0     1\n",
              "Real                  \n",
              "0           2603   345\n",
              "1            713  1724"
            ],
            "text/html": [
              "\n",
              "  <div id=\"df-1b9f417e-80ce-4e71-a593-75e1f3086013\">\n",
              "    <div class=\"colab-df-container\">\n",
              "      <div>\n",
              "<style scoped>\n",
              "    .dataframe tbody tr th:only-of-type {\n",
              "        vertical-align: middle;\n",
              "    }\n",
              "\n",
              "    .dataframe tbody tr th {\n",
              "        vertical-align: top;\n",
              "    }\n",
              "\n",
              "    .dataframe thead th {\n",
              "        text-align: right;\n",
              "    }\n",
              "</style>\n",
              "<table border=\"1\" class=\"dataframe\">\n",
              "  <thead>\n",
              "    <tr style=\"text-align: right;\">\n",
              "      <th>Predicción</th>\n",
              "      <th>0</th>\n",
              "      <th>1</th>\n",
              "    </tr>\n",
              "    <tr>\n",
              "      <th>Real</th>\n",
              "      <th></th>\n",
              "      <th></th>\n",
              "    </tr>\n",
              "  </thead>\n",
              "  <tbody>\n",
              "    <tr>\n",
              "      <th>0</th>\n",
              "      <td>2603</td>\n",
              "      <td>345</td>\n",
              "    </tr>\n",
              "    <tr>\n",
              "      <th>1</th>\n",
              "      <td>713</td>\n",
              "      <td>1724</td>\n",
              "    </tr>\n",
              "  </tbody>\n",
              "</table>\n",
              "</div>\n",
              "      <button class=\"colab-df-convert\" onclick=\"convertToInteractive('df-1b9f417e-80ce-4e71-a593-75e1f3086013')\"\n",
              "              title=\"Convert this dataframe to an interactive table.\"\n",
              "              style=\"display:none;\">\n",
              "        \n",
              "  <svg xmlns=\"http://www.w3.org/2000/svg\" height=\"24px\"viewBox=\"0 0 24 24\"\n",
              "       width=\"24px\">\n",
              "    <path d=\"M0 0h24v24H0V0z\" fill=\"none\"/>\n",
              "    <path d=\"M18.56 5.44l.94 2.06.94-2.06 2.06-.94-2.06-.94-.94-2.06-.94 2.06-2.06.94zm-11 1L8.5 8.5l.94-2.06 2.06-.94-2.06-.94L8.5 2.5l-.94 2.06-2.06.94zm10 10l.94 2.06.94-2.06 2.06-.94-2.06-.94-.94-2.06-.94 2.06-2.06.94z\"/><path d=\"M17.41 7.96l-1.37-1.37c-.4-.4-.92-.59-1.43-.59-.52 0-1.04.2-1.43.59L10.3 9.45l-7.72 7.72c-.78.78-.78 2.05 0 2.83L4 21.41c.39.39.9.59 1.41.59.51 0 1.02-.2 1.41-.59l7.78-7.78 2.81-2.81c.8-.78.8-2.07 0-2.86zM5.41 20L4 18.59l7.72-7.72 1.47 1.35L5.41 20z\"/>\n",
              "  </svg>\n",
              "      </button>\n",
              "      \n",
              "  <style>\n",
              "    .colab-df-container {\n",
              "      display:flex;\n",
              "      flex-wrap:wrap;\n",
              "      gap: 12px;\n",
              "    }\n",
              "\n",
              "    .colab-df-convert {\n",
              "      background-color: #E8F0FE;\n",
              "      border: none;\n",
              "      border-radius: 50%;\n",
              "      cursor: pointer;\n",
              "      display: none;\n",
              "      fill: #1967D2;\n",
              "      height: 32px;\n",
              "      padding: 0 0 0 0;\n",
              "      width: 32px;\n",
              "    }\n",
              "\n",
              "    .colab-df-convert:hover {\n",
              "      background-color: #E2EBFA;\n",
              "      box-shadow: 0px 1px 2px rgba(60, 64, 67, 0.3), 0px 1px 3px 1px rgba(60, 64, 67, 0.15);\n",
              "      fill: #174EA6;\n",
              "    }\n",
              "\n",
              "    [theme=dark] .colab-df-convert {\n",
              "      background-color: #3B4455;\n",
              "      fill: #D2E3FC;\n",
              "    }\n",
              "\n",
              "    [theme=dark] .colab-df-convert:hover {\n",
              "      background-color: #434B5C;\n",
              "      box-shadow: 0px 1px 3px 1px rgba(0, 0, 0, 0.15);\n",
              "      filter: drop-shadow(0px 1px 2px rgba(0, 0, 0, 0.3));\n",
              "      fill: #FFFFFF;\n",
              "    }\n",
              "  </style>\n",
              "\n",
              "      <script>\n",
              "        const buttonEl =\n",
              "          document.querySelector('#df-1b9f417e-80ce-4e71-a593-75e1f3086013 button.colab-df-convert');\n",
              "        buttonEl.style.display =\n",
              "          google.colab.kernel.accessAllowed ? 'block' : 'none';\n",
              "\n",
              "        async function convertToInteractive(key) {\n",
              "          const element = document.querySelector('#df-1b9f417e-80ce-4e71-a593-75e1f3086013');\n",
              "          const dataTable =\n",
              "            await google.colab.kernel.invokeFunction('convertToInteractive',\n",
              "                                                     [key], {});\n",
              "          if (!dataTable) return;\n",
              "\n",
              "          const docLinkHtml = 'Like what you see? Visit the ' +\n",
              "            '<a target=\"_blank\" href=https://colab.research.google.com/notebooks/data_table.ipynb>data table notebook</a>'\n",
              "            + ' to learn more about interactive tables.';\n",
              "          element.innerHTML = '';\n",
              "          dataTable['output_type'] = 'display_data';\n",
              "          await google.colab.output.renderOutput(dataTable, element);\n",
              "          const docLink = document.createElement('div');\n",
              "          docLink.innerHTML = docLinkHtml;\n",
              "          element.appendChild(docLink);\n",
              "        }\n",
              "      </script>\n",
              "    </div>\n",
              "  </div>\n",
              "  "
            ]
          },
          "metadata": {},
          "execution_count": 131
        }
      ]
    },
    {
      "cell_type": "code",
      "source": [
        "# Clasificación predicha\n",
        "# ==============================================================================\n",
        "clasificacion = np.where(predicciones<0.5, 0, 1)\n",
        "clasificacion"
      ],
      "metadata": {
        "id": "EmK_1pT4k5d0",
        "outputId": "02bc608d-41ce-4b44-8dee-5d9a36ea566f",
        "colab": {
          "base_uri": "https://localhost:8080/"
        }
      },
      "execution_count": 132,
      "outputs": [
        {
          "output_type": "execute_result",
          "data": {
            "text/plain": [
              "array([0, 1, 0, ..., 1, 0, 0])"
            ]
          },
          "metadata": {},
          "execution_count": 132
        }
      ]
    },
    {
      "cell_type": "code",
      "source": [
        "# Predicciones en todo el rango de X\n",
        "# ==============================================================================\n",
        "# Se crea un vector con nuevos valores interpolados en el rango de observaciones.\n",
        "grid_X = np.linspace(\n",
        "            start = min(X),\n",
        "            stop  = max(X),\n",
        "            num   = 200\n",
        "         ).reshape(-1,1)\n",
        "\n",
        "grid_X = sm.add_constant(grid_X, prepend=True)\n",
        "predicciones = modelo.predict(exog = grid_X)"
      ],
      "metadata": {
        "id": "v-a_3vvHk-Qq",
        "outputId": "7b170f7b-dada-4cab-d37e-270d468326d1",
        "colab": {
          "base_uri": "https://localhost:8080/",
          "height": 391
        }
      },
      "execution_count": 133,
      "outputs": [
        {
          "output_type": "error",
          "ename": "UFuncTypeError",
          "evalue": "ignored",
          "traceback": [
            "\u001b[0;31m---------------------------------------------------------------------------\u001b[0m",
            "\u001b[0;31mUFuncTypeError\u001b[0m                            Traceback (most recent call last)",
            "\u001b[0;32m<ipython-input-133-dc8b4f0a10b2>\u001b[0m in \u001b[0;36m<module>\u001b[0;34m\u001b[0m\n\u001b[1;32m      5\u001b[0m             \u001b[0mstart\u001b[0m \u001b[0;34m=\u001b[0m \u001b[0mmin\u001b[0m\u001b[0;34m(\u001b[0m\u001b[0mX\u001b[0m\u001b[0;34m)\u001b[0m\u001b[0;34m,\u001b[0m\u001b[0;34m\u001b[0m\u001b[0;34m\u001b[0m\u001b[0m\n\u001b[1;32m      6\u001b[0m             \u001b[0mstop\u001b[0m  \u001b[0;34m=\u001b[0m \u001b[0mmax\u001b[0m\u001b[0;34m(\u001b[0m\u001b[0mX\u001b[0m\u001b[0;34m)\u001b[0m\u001b[0;34m,\u001b[0m\u001b[0;34m\u001b[0m\u001b[0;34m\u001b[0m\u001b[0m\n\u001b[0;32m----> 7\u001b[0;31m             \u001b[0mnum\u001b[0m   \u001b[0;34m=\u001b[0m \u001b[0;36m200\u001b[0m\u001b[0;34m\u001b[0m\u001b[0;34m\u001b[0m\u001b[0m\n\u001b[0m\u001b[1;32m      8\u001b[0m          ).reshape(-1,1)\n\u001b[1;32m      9\u001b[0m \u001b[0;34m\u001b[0m\u001b[0m\n",
            "\u001b[0;32m<__array_function__ internals>\u001b[0m in \u001b[0;36mlinspace\u001b[0;34m(*args, **kwargs)\u001b[0m\n",
            "\u001b[0;32m/usr/local/lib/python3.7/dist-packages/numpy/core/function_base.py\u001b[0m in \u001b[0;36mlinspace\u001b[0;34m(start, stop, num, endpoint, retstep, dtype, axis)\u001b[0m\n\u001b[1;32m    125\u001b[0m     \u001b[0;31m# Convert float/complex array scalars to float, gh-3504\u001b[0m\u001b[0;34m\u001b[0m\u001b[0;34m\u001b[0m\u001b[0;34m\u001b[0m\u001b[0m\n\u001b[1;32m    126\u001b[0m     \u001b[0;31m# and make sure one can use variables that have an __array_interface__, gh-6634\u001b[0m\u001b[0;34m\u001b[0m\u001b[0;34m\u001b[0m\u001b[0;34m\u001b[0m\u001b[0m\n\u001b[0;32m--> 127\u001b[0;31m     \u001b[0mstart\u001b[0m \u001b[0;34m=\u001b[0m \u001b[0masanyarray\u001b[0m\u001b[0;34m(\u001b[0m\u001b[0mstart\u001b[0m\u001b[0;34m)\u001b[0m \u001b[0;34m*\u001b[0m \u001b[0;36m1.0\u001b[0m\u001b[0;34m\u001b[0m\u001b[0;34m\u001b[0m\u001b[0m\n\u001b[0m\u001b[1;32m    128\u001b[0m     \u001b[0mstop\u001b[0m  \u001b[0;34m=\u001b[0m \u001b[0masanyarray\u001b[0m\u001b[0;34m(\u001b[0m\u001b[0mstop\u001b[0m\u001b[0;34m)\u001b[0m  \u001b[0;34m*\u001b[0m \u001b[0;36m1.0\u001b[0m\u001b[0;34m\u001b[0m\u001b[0;34m\u001b[0m\u001b[0m\n\u001b[1;32m    129\u001b[0m \u001b[0;34m\u001b[0m\u001b[0m\n",
            "\u001b[0;31mUFuncTypeError\u001b[0m: ufunc 'multiply' did not contain a loop with signature matching types (dtype('<U11'), dtype('float64')) -> None"
          ]
        }
      ]
    },
    {
      "cell_type": "code",
      "source": [
        "# Predicciones en todo el rango de X\n",
        "# ==============================================================================\n",
        "# Se crea un vector con nuevos valores interpolados en el rango de observaciones.\n",
        "grid_X = np.linspace(\n",
        "            start = min(X.E_Despegue3),\n",
        "            stop  = max(X.E_Despegue3),\n",
        "            num   = 200\n",
        "         ).reshape(-1,1)\n",
        "\n",
        "grid_X = sm.add_constant(grid_X, prepend=True)\n",
        "predicciones = logit_model.predict(exog = grid_X)"
      ],
      "metadata": {
        "id": "Accmy_TEjLEU",
        "outputId": "633a09f4-690b-4c77-ed19-f5708022cc43",
        "colab": {
          "base_uri": "https://localhost:8080/",
          "height": 200
        }
      },
      "execution_count": 90,
      "outputs": [
        {
          "output_type": "error",
          "ename": "TypeError",
          "evalue": "ignored",
          "traceback": [
            "\u001b[0;31m---------------------------------------------------------------------------\u001b[0m",
            "\u001b[0;31mTypeError\u001b[0m                                 Traceback (most recent call last)",
            "\u001b[0;32m<ipython-input-90-f50020c9e80f>\u001b[0m in \u001b[0;36m<module>\u001b[0;34m\u001b[0m\n\u001b[1;32m      9\u001b[0m \u001b[0;34m\u001b[0m\u001b[0m\n\u001b[1;32m     10\u001b[0m \u001b[0mgrid_X\u001b[0m \u001b[0;34m=\u001b[0m \u001b[0msm\u001b[0m\u001b[0;34m.\u001b[0m\u001b[0madd_constant\u001b[0m\u001b[0;34m(\u001b[0m\u001b[0mgrid_X\u001b[0m\u001b[0;34m,\u001b[0m \u001b[0mprepend\u001b[0m\u001b[0;34m=\u001b[0m\u001b[0;32mTrue\u001b[0m\u001b[0;34m)\u001b[0m\u001b[0;34m\u001b[0m\u001b[0;34m\u001b[0m\u001b[0m\n\u001b[0;32m---> 11\u001b[0;31m \u001b[0mpredicciones\u001b[0m \u001b[0;34m=\u001b[0m \u001b[0mlogit_model\u001b[0m\u001b[0;34m.\u001b[0m\u001b[0mpredict\u001b[0m\u001b[0;34m(\u001b[0m\u001b[0mexog\u001b[0m \u001b[0;34m=\u001b[0m \u001b[0mgrid_X\u001b[0m\u001b[0;34m)\u001b[0m\u001b[0;34m\u001b[0m\u001b[0;34m\u001b[0m\u001b[0m\n\u001b[0m",
            "\u001b[0;31mTypeError\u001b[0m: predict() missing 1 required positional argument: 'params'"
          ]
        }
      ]
    },
    {
      "cell_type": "code",
      "source": [],
      "metadata": {
        "id": "Bayj9_S-jM6C"
      },
      "execution_count": null,
      "outputs": []
    },
    {
      "cell_type": "code",
      "source": [],
      "metadata": {
        "id": "dCdQbK36jNAq"
      },
      "execution_count": null,
      "outputs": []
    },
    {
      "cell_type": "code",
      "source": [],
      "metadata": {
        "id": "vdvN3Au-jNEO"
      },
      "execution_count": null,
      "outputs": []
    },
    {
      "cell_type": "code",
      "source": [],
      "metadata": {
        "id": "Q1tl4dQCjNIm"
      },
      "execution_count": null,
      "outputs": []
    },
    {
      "cell_type": "code",
      "source": [],
      "metadata": {
        "id": "dLkxqardjLIH"
      },
      "execution_count": null,
      "outputs": []
    },
    {
      "cell_type": "code",
      "source": [],
      "metadata": {
        "id": "efFQcipVjLLo"
      },
      "execution_count": null,
      "outputs": []
    },
    {
      "cell_type": "code",
      "source": [],
      "metadata": {
        "id": "n9vh7K2djLOn"
      },
      "execution_count": null,
      "outputs": []
    },
    {
      "cell_type": "code",
      "source": [],
      "metadata": {
        "id": "lC293SNy7yuZ"
      },
      "execution_count": null,
      "outputs": []
    },
    {
      "cell_type": "code",
      "source": [
        "# Borrar\n",
        "\n",
        "\n",
        "from sklearn.metrics import confusion_matrix\n",
        "confusion_matrix = confusion_matrix(y_test, )\n",
        "print(confusion_matrix)"
      ],
      "metadata": {
        "id": "S9yMe7fk7yxq"
      },
      "execution_count": null,
      "outputs": []
    },
    {
      "cell_type": "code",
      "source": [
        "y_test.shape"
      ],
      "metadata": {
        "id": "C0f1hvyv7y0f",
        "outputId": "eff58826-2ac5-4560-8c39-0c8cec7c65dc",
        "colab": {
          "base_uri": "https://localhost:8080/"
        }
      },
      "execution_count": 84,
      "outputs": [
        {
          "output_type": "execute_result",
          "data": {
            "text/plain": [
              "(5385, 1)"
            ]
          },
          "metadata": {},
          "execution_count": 84
        }
      ]
    },
    {
      "cell_type": "code",
      "source": [
        "result.shape"
      ],
      "metadata": {
        "id": "DRSE_6F17y3V",
        "outputId": "e1c75109-68fa-48ff-eb42-e68b7ce29c2a",
        "colab": {
          "base_uri": "https://localhost:8080/",
          "height": 287
        }
      },
      "execution_count": 85,
      "outputs": [
        {
          "output_type": "error",
          "ename": "AttributeError",
          "evalue": "ignored",
          "traceback": [
            "\u001b[0;31m---------------------------------------------------------------------------\u001b[0m",
            "\u001b[0;31mAttributeError\u001b[0m                            Traceback (most recent call last)",
            "\u001b[0;32m<ipython-input-85-4a99d8abe300>\u001b[0m in \u001b[0;36m<module>\u001b[0;34m\u001b[0m\n\u001b[0;32m----> 1\u001b[0;31m \u001b[0mresult\u001b[0m\u001b[0;34m.\u001b[0m\u001b[0mshape\u001b[0m\u001b[0;34m\u001b[0m\u001b[0;34m\u001b[0m\u001b[0m\n\u001b[0m",
            "\u001b[0;32m/usr/local/lib/python3.7/dist-packages/statsmodels/base/wrapper.py\u001b[0m in \u001b[0;36m__getattribute__\u001b[0;34m(self, attr)\u001b[0m\n\u001b[1;32m     32\u001b[0m             \u001b[0;32mpass\u001b[0m\u001b[0;34m\u001b[0m\u001b[0;34m\u001b[0m\u001b[0m\n\u001b[1;32m     33\u001b[0m \u001b[0;34m\u001b[0m\u001b[0m\n\u001b[0;32m---> 34\u001b[0;31m         \u001b[0mobj\u001b[0m \u001b[0;34m=\u001b[0m \u001b[0mgetattr\u001b[0m\u001b[0;34m(\u001b[0m\u001b[0mresults\u001b[0m\u001b[0;34m,\u001b[0m \u001b[0mattr\u001b[0m\u001b[0;34m)\u001b[0m\u001b[0;34m\u001b[0m\u001b[0;34m\u001b[0m\u001b[0m\n\u001b[0m\u001b[1;32m     35\u001b[0m         \u001b[0mdata\u001b[0m \u001b[0;34m=\u001b[0m \u001b[0mresults\u001b[0m\u001b[0;34m.\u001b[0m\u001b[0mmodel\u001b[0m\u001b[0;34m.\u001b[0m\u001b[0mdata\u001b[0m\u001b[0;34m\u001b[0m\u001b[0;34m\u001b[0m\u001b[0m\n\u001b[1;32m     36\u001b[0m         \u001b[0mhow\u001b[0m \u001b[0;34m=\u001b[0m \u001b[0mself\u001b[0m\u001b[0;34m.\u001b[0m\u001b[0m_wrap_attrs\u001b[0m\u001b[0;34m.\u001b[0m\u001b[0mget\u001b[0m\u001b[0;34m(\u001b[0m\u001b[0mattr\u001b[0m\u001b[0;34m)\u001b[0m\u001b[0;34m\u001b[0m\u001b[0;34m\u001b[0m\u001b[0m\n",
            "\u001b[0;31mAttributeError\u001b[0m: 'LogitResults' object has no attribute 'shape'"
          ]
        }
      ]
    },
    {
      "cell_type": "code",
      "source": [],
      "metadata": {
        "id": "Kn4dlZ617y6o"
      },
      "execution_count": null,
      "outputs": []
    },
    {
      "cell_type": "markdown",
      "source": [
        "### Confusion Matrix"
      ],
      "metadata": {
        "id": "kKziLNZQ7BTy"
      }
    },
    {
      "cell_type": "code",
      "source": [
        "from sklearn.metrics import confusion_matrix\n",
        "confusion_matrix = confusion_matrix(y_test, y_pred)\n",
        "print(confusion_matrix)"
      ],
      "metadata": {
        "id": "-QONpuON7FnS",
        "outputId": "762519d9-5c18-4468-eba5-40785f4ed9ed",
        "colab": {
          "base_uri": "https://localhost:8080/",
          "height": 346
        }
      },
      "execution_count": 83,
      "outputs": [
        {
          "output_type": "error",
          "ename": "TypeError",
          "evalue": "ignored",
          "traceback": [
            "\u001b[0;31m---------------------------------------------------------------------------\u001b[0m",
            "\u001b[0;31mTypeError\u001b[0m                                 Traceback (most recent call last)",
            "\u001b[0;32m<ipython-input-83-72699da033b5>\u001b[0m in \u001b[0;36m<module>\u001b[0;34m\u001b[0m\n\u001b[1;32m      1\u001b[0m \u001b[0;32mfrom\u001b[0m \u001b[0msklearn\u001b[0m\u001b[0;34m.\u001b[0m\u001b[0mmetrics\u001b[0m \u001b[0;32mimport\u001b[0m \u001b[0mconfusion_matrix\u001b[0m\u001b[0;34m\u001b[0m\u001b[0;34m\u001b[0m\u001b[0m\n\u001b[0;32m----> 2\u001b[0;31m \u001b[0mconfusion_matrix\u001b[0m \u001b[0;34m=\u001b[0m \u001b[0mconfusion_matrix\u001b[0m\u001b[0;34m(\u001b[0m\u001b[0my_test\u001b[0m\u001b[0;34m,\u001b[0m \u001b[0mresult\u001b[0m\u001b[0;34m)\u001b[0m\u001b[0;34m\u001b[0m\u001b[0;34m\u001b[0m\u001b[0m\n\u001b[0m\u001b[1;32m      3\u001b[0m \u001b[0mprint\u001b[0m\u001b[0;34m(\u001b[0m\u001b[0mconfusion_matrix\u001b[0m\u001b[0;34m)\u001b[0m\u001b[0;34m\u001b[0m\u001b[0;34m\u001b[0m\u001b[0m\n",
            "\u001b[0;32m/usr/local/lib/python3.7/dist-packages/sklearn/metrics/_classification.py\u001b[0m in \u001b[0;36mconfusion_matrix\u001b[0;34m(y_true, y_pred, labels, sample_weight, normalize)\u001b[0m\n\u001b[1;32m    305\u001b[0m     \u001b[0;34m(\u001b[0m\u001b[0;36m0\u001b[0m\u001b[0;34m,\u001b[0m \u001b[0;36m2\u001b[0m\u001b[0;34m,\u001b[0m \u001b[0;36m1\u001b[0m\u001b[0;34m,\u001b[0m \u001b[0;36m1\u001b[0m\u001b[0;34m)\u001b[0m\u001b[0;34m\u001b[0m\u001b[0;34m\u001b[0m\u001b[0m\n\u001b[1;32m    306\u001b[0m     \"\"\"\n\u001b[0;32m--> 307\u001b[0;31m     \u001b[0my_type\u001b[0m\u001b[0;34m,\u001b[0m \u001b[0my_true\u001b[0m\u001b[0;34m,\u001b[0m \u001b[0my_pred\u001b[0m \u001b[0;34m=\u001b[0m \u001b[0m_check_targets\u001b[0m\u001b[0;34m(\u001b[0m\u001b[0my_true\u001b[0m\u001b[0;34m,\u001b[0m \u001b[0my_pred\u001b[0m\u001b[0;34m)\u001b[0m\u001b[0;34m\u001b[0m\u001b[0;34m\u001b[0m\u001b[0m\n\u001b[0m\u001b[1;32m    308\u001b[0m     \u001b[0;32mif\u001b[0m \u001b[0my_type\u001b[0m \u001b[0;32mnot\u001b[0m \u001b[0;32min\u001b[0m \u001b[0;34m(\u001b[0m\u001b[0;34m\"binary\"\u001b[0m\u001b[0;34m,\u001b[0m \u001b[0;34m\"multiclass\"\u001b[0m\u001b[0;34m)\u001b[0m\u001b[0;34m:\u001b[0m\u001b[0;34m\u001b[0m\u001b[0;34m\u001b[0m\u001b[0m\n\u001b[1;32m    309\u001b[0m         \u001b[0;32mraise\u001b[0m \u001b[0mValueError\u001b[0m\u001b[0;34m(\u001b[0m\u001b[0;34m\"%s is not supported\"\u001b[0m \u001b[0;34m%\u001b[0m \u001b[0my_type\u001b[0m\u001b[0;34m)\u001b[0m\u001b[0;34m\u001b[0m\u001b[0;34m\u001b[0m\u001b[0m\n",
            "\u001b[0;32m/usr/local/lib/python3.7/dist-packages/sklearn/metrics/_classification.py\u001b[0m in \u001b[0;36m_check_targets\u001b[0;34m(y_true, y_pred)\u001b[0m\n\u001b[1;32m     82\u001b[0m     \u001b[0my_pred\u001b[0m \u001b[0;34m:\u001b[0m \u001b[0marray\u001b[0m \u001b[0;32mor\u001b[0m \u001b[0mindicator\u001b[0m \u001b[0mmatrix\u001b[0m\u001b[0;34m\u001b[0m\u001b[0;34m\u001b[0m\u001b[0m\n\u001b[1;32m     83\u001b[0m     \"\"\"\n\u001b[0;32m---> 84\u001b[0;31m     \u001b[0mcheck_consistent_length\u001b[0m\u001b[0;34m(\u001b[0m\u001b[0my_true\u001b[0m\u001b[0;34m,\u001b[0m \u001b[0my_pred\u001b[0m\u001b[0;34m)\u001b[0m\u001b[0;34m\u001b[0m\u001b[0;34m\u001b[0m\u001b[0m\n\u001b[0m\u001b[1;32m     85\u001b[0m     \u001b[0mtype_true\u001b[0m \u001b[0;34m=\u001b[0m \u001b[0mtype_of_target\u001b[0m\u001b[0;34m(\u001b[0m\u001b[0my_true\u001b[0m\u001b[0;34m)\u001b[0m\u001b[0;34m\u001b[0m\u001b[0;34m\u001b[0m\u001b[0m\n\u001b[1;32m     86\u001b[0m     \u001b[0mtype_pred\u001b[0m \u001b[0;34m=\u001b[0m \u001b[0mtype_of_target\u001b[0m\u001b[0;34m(\u001b[0m\u001b[0my_pred\u001b[0m\u001b[0;34m)\u001b[0m\u001b[0;34m\u001b[0m\u001b[0;34m\u001b[0m\u001b[0m\n",
            "\u001b[0;32m/usr/local/lib/python3.7/dist-packages/sklearn/utils/validation.py\u001b[0m in \u001b[0;36mcheck_consistent_length\u001b[0;34m(*arrays)\u001b[0m\n\u001b[1;32m    327\u001b[0m     \"\"\"\n\u001b[1;32m    328\u001b[0m \u001b[0;34m\u001b[0m\u001b[0m\n\u001b[0;32m--> 329\u001b[0;31m     \u001b[0mlengths\u001b[0m \u001b[0;34m=\u001b[0m \u001b[0;34m[\u001b[0m\u001b[0m_num_samples\u001b[0m\u001b[0;34m(\u001b[0m\u001b[0mX\u001b[0m\u001b[0;34m)\u001b[0m \u001b[0;32mfor\u001b[0m \u001b[0mX\u001b[0m \u001b[0;32min\u001b[0m \u001b[0marrays\u001b[0m \u001b[0;32mif\u001b[0m \u001b[0mX\u001b[0m \u001b[0;32mis\u001b[0m \u001b[0;32mnot\u001b[0m \u001b[0;32mNone\u001b[0m\u001b[0;34m]\u001b[0m\u001b[0;34m\u001b[0m\u001b[0;34m\u001b[0m\u001b[0m\n\u001b[0m\u001b[1;32m    330\u001b[0m     \u001b[0muniques\u001b[0m \u001b[0;34m=\u001b[0m \u001b[0mnp\u001b[0m\u001b[0;34m.\u001b[0m\u001b[0munique\u001b[0m\u001b[0;34m(\u001b[0m\u001b[0mlengths\u001b[0m\u001b[0;34m)\u001b[0m\u001b[0;34m\u001b[0m\u001b[0;34m\u001b[0m\u001b[0m\n\u001b[1;32m    331\u001b[0m     \u001b[0;32mif\u001b[0m \u001b[0mlen\u001b[0m\u001b[0;34m(\u001b[0m\u001b[0muniques\u001b[0m\u001b[0;34m)\u001b[0m \u001b[0;34m>\u001b[0m \u001b[0;36m1\u001b[0m\u001b[0;34m:\u001b[0m\u001b[0;34m\u001b[0m\u001b[0;34m\u001b[0m\u001b[0m\n",
            "\u001b[0;32m/usr/local/lib/python3.7/dist-packages/sklearn/utils/validation.py\u001b[0m in \u001b[0;36m<listcomp>\u001b[0;34m(.0)\u001b[0m\n\u001b[1;32m    327\u001b[0m     \"\"\"\n\u001b[1;32m    328\u001b[0m \u001b[0;34m\u001b[0m\u001b[0m\n\u001b[0;32m--> 329\u001b[0;31m     \u001b[0mlengths\u001b[0m \u001b[0;34m=\u001b[0m \u001b[0;34m[\u001b[0m\u001b[0m_num_samples\u001b[0m\u001b[0;34m(\u001b[0m\u001b[0mX\u001b[0m\u001b[0;34m)\u001b[0m \u001b[0;32mfor\u001b[0m \u001b[0mX\u001b[0m \u001b[0;32min\u001b[0m \u001b[0marrays\u001b[0m \u001b[0;32mif\u001b[0m \u001b[0mX\u001b[0m \u001b[0;32mis\u001b[0m \u001b[0;32mnot\u001b[0m \u001b[0;32mNone\u001b[0m\u001b[0;34m]\u001b[0m\u001b[0;34m\u001b[0m\u001b[0;34m\u001b[0m\u001b[0m\n\u001b[0m\u001b[1;32m    330\u001b[0m     \u001b[0muniques\u001b[0m \u001b[0;34m=\u001b[0m \u001b[0mnp\u001b[0m\u001b[0;34m.\u001b[0m\u001b[0munique\u001b[0m\u001b[0;34m(\u001b[0m\u001b[0mlengths\u001b[0m\u001b[0;34m)\u001b[0m\u001b[0;34m\u001b[0m\u001b[0;34m\u001b[0m\u001b[0m\n\u001b[1;32m    331\u001b[0m     \u001b[0;32mif\u001b[0m \u001b[0mlen\u001b[0m\u001b[0;34m(\u001b[0m\u001b[0muniques\u001b[0m\u001b[0;34m)\u001b[0m \u001b[0;34m>\u001b[0m \u001b[0;36m1\u001b[0m\u001b[0;34m:\u001b[0m\u001b[0;34m\u001b[0m\u001b[0;34m\u001b[0m\u001b[0m\n",
            "\u001b[0;32m/usr/local/lib/python3.7/dist-packages/sklearn/utils/validation.py\u001b[0m in \u001b[0;36m_num_samples\u001b[0;34m(x)\u001b[0m\n\u001b[1;32m    263\u001b[0m             \u001b[0mx\u001b[0m \u001b[0;34m=\u001b[0m \u001b[0mnp\u001b[0m\u001b[0;34m.\u001b[0m\u001b[0masarray\u001b[0m\u001b[0;34m(\u001b[0m\u001b[0mx\u001b[0m\u001b[0;34m)\u001b[0m\u001b[0;34m\u001b[0m\u001b[0;34m\u001b[0m\u001b[0m\n\u001b[1;32m    264\u001b[0m         \u001b[0;32melse\u001b[0m\u001b[0;34m:\u001b[0m\u001b[0;34m\u001b[0m\u001b[0;34m\u001b[0m\u001b[0m\n\u001b[0;32m--> 265\u001b[0;31m             \u001b[0;32mraise\u001b[0m \u001b[0mTypeError\u001b[0m\u001b[0;34m(\u001b[0m\u001b[0mmessage\u001b[0m\u001b[0;34m)\u001b[0m\u001b[0;34m\u001b[0m\u001b[0;34m\u001b[0m\u001b[0m\n\u001b[0m\u001b[1;32m    266\u001b[0m \u001b[0;34m\u001b[0m\u001b[0m\n\u001b[1;32m    267\u001b[0m     \u001b[0;32mif\u001b[0m \u001b[0mhasattr\u001b[0m\u001b[0;34m(\u001b[0m\u001b[0mx\u001b[0m\u001b[0;34m,\u001b[0m \u001b[0;34m\"shape\"\u001b[0m\u001b[0;34m)\u001b[0m \u001b[0;32mand\u001b[0m \u001b[0mx\u001b[0m\u001b[0;34m.\u001b[0m\u001b[0mshape\u001b[0m \u001b[0;32mis\u001b[0m \u001b[0;32mnot\u001b[0m \u001b[0;32mNone\u001b[0m\u001b[0;34m:\u001b[0m\u001b[0;34m\u001b[0m\u001b[0;34m\u001b[0m\u001b[0m\n",
            "\u001b[0;31mTypeError\u001b[0m: Expected sequence or array-like, got <class 'statsmodels.discrete.discrete_model.BinaryResultsWrapper'>"
          ]
        }
      ]
    },
    {
      "cell_type": "code",
      "source": [
        "from sklearn.metrics import classification_report\n",
        "print(classification_report(y_test, y_pred))"
      ],
      "metadata": {
        "id": "YPR8zUVB7Kxr",
        "outputId": "2ed59faf-4aad-40f8-8027-70b6cbeed0ff",
        "colab": {
          "base_uri": "https://localhost:8080/",
          "height": 183
        }
      },
      "execution_count": 64,
      "outputs": [
        {
          "output_type": "error",
          "ename": "NameError",
          "evalue": "ignored",
          "traceback": [
            "\u001b[0;31m---------------------------------------------------------------------------\u001b[0m",
            "\u001b[0;31mNameError\u001b[0m                                 Traceback (most recent call last)",
            "\u001b[0;32m<ipython-input-64-8860b0a83ec5>\u001b[0m in \u001b[0;36m<module>\u001b[0;34m\u001b[0m\n\u001b[1;32m      1\u001b[0m \u001b[0;32mfrom\u001b[0m \u001b[0msklearn\u001b[0m\u001b[0;34m.\u001b[0m\u001b[0mmetrics\u001b[0m \u001b[0;32mimport\u001b[0m \u001b[0mclassification_report\u001b[0m\u001b[0;34m\u001b[0m\u001b[0;34m\u001b[0m\u001b[0m\n\u001b[0;32m----> 2\u001b[0;31m \u001b[0mprint\u001b[0m\u001b[0;34m(\u001b[0m\u001b[0mclassification_report\u001b[0m\u001b[0;34m(\u001b[0m\u001b[0my_test\u001b[0m\u001b[0;34m,\u001b[0m \u001b[0my_pred\u001b[0m\u001b[0;34m)\u001b[0m\u001b[0;34m)\u001b[0m\u001b[0;34m\u001b[0m\u001b[0;34m\u001b[0m\u001b[0m\n\u001b[0m",
            "\u001b[0;31mNameError\u001b[0m: name 'y_pred' is not defined"
          ]
        }
      ]
    },
    {
      "cell_type": "code",
      "source": [
        "#@title roc_auc_score\n",
        "from sklearn.metrics import roc_auc_score\n",
        "from sklearn.metrics import roc_curve\n",
        "\n",
        "\n",
        "logit_roc_auc = roc_auc_score(y_test, logreg.predict(X_test))\n",
        "fpr, tpr, thresholds = roc_curve(y_test, logreg.predict_proba(X_test)[:,1])\n",
        "plt.figure()\n",
        "plt.plot(fpr, tpr, label='Logistic Regression (area = %0.2f)' % logit_roc_auc)\n",
        "plt.plot([0, 1], [0, 1],'r--')\n",
        "plt.xlim([0.0, 1.0])\n",
        "plt.ylim([0.0, 1.05])\n",
        "plt.xlabel('False Positive Rate')\n",
        "plt.ylabel('True Positive Rate')\n",
        "plt.title('Receiver operating characteristic')\n",
        "plt.legend(loc=\"lower right\")\n",
        "plt.savefig('Log_ROC')\n",
        "plt.show()"
      ],
      "metadata": {
        "id": "IJ4eylk57gz_"
      },
      "execution_count": null,
      "outputs": []
    },
    {
      "cell_type": "code",
      "source": [
        "MetricasModelo( 'Regr.Log. Balanceada Binomial', y_test, y_pred_RLogis, scores_RL)"
      ],
      "metadata": {
        "id": "QwhisKt_8jDt"
      },
      "execution_count": null,
      "outputs": []
    },
    {
      "cell_type": "markdown",
      "source": [
        "\n",
        "\n",
        "---\n",
        "\n",
        "\n",
        "\n",
        "Busquem la correlacion entre variables 'E_Despegue3' i 'E_Duracion_Vuelo3', i el tamany que és en funció del temps de retard."
      ],
      "metadata": {
        "id": "ZrWit0Zx_UoD"
      }
    },
    {
      "cell_type": "code",
      "source": [
        "ax= sns.scatterplot(data = df2_sobremostrejat, x = 'E_Despegue3',  y = 'E_Duracion_Vuelo3', hue = \"Tard3\", size ='Puntualidad3')\n",
        "ax.axvline(0, color='red')\n",
        "ax.axhline(0, color='red')"
      ],
      "metadata": {
        "id": "VgdQX7yy-hdH"
      },
      "execution_count": null,
      "outputs": []
    }
  ]
}