{
  "nbformat": 4,
  "nbformat_minor": 0,
  "metadata": {
    "colab": {
      "provenance": [],
      "toc_visible": true,
      "authorship_tag": "ABX9TyM8yYBAiEUrMfOtUwJmVOq7",
      "include_colab_link": true
    },
    "kernelspec": {
      "name": "python3",
      "display_name": "Python 3"
    },
    "language_info": {
      "name": "python"
    }
  },
  "cells": [
    {
      "cell_type": "markdown",
      "metadata": {
        "id": "view-in-github",
        "colab_type": "text"
      },
      "source": [
        "<a href=\"https://colab.research.google.com/github/JMML2021/Entrega-projecte-final/blob/main/Calculo_Ryainair2019ipynb.ipynb\" target=\"_parent\"><img src=\"https://colab.research.google.com/assets/colab-badge.svg\" alt=\"Open In Colab\"/></a>"
      ]
    },
    {
      "cell_type": "code",
      "source": [
        "\n",
        "from google.colab import drive\n",
        "drive.mount('/content/drive')"
      ],
      "metadata": {
        "colab": {
          "base_uri": "https://localhost:8080/"
        },
        "id": "EAWm5lQjzs4J",
        "outputId": "cda9fea0-f830-458a-c976-895ca4cb2ae8"
      },
      "execution_count": 1,
      "outputs": [
        {
          "output_type": "stream",
          "name": "stdout",
          "text": [
            "Mounted at /content/drive\n"
          ]
        }
      ]
    },
    {
      "cell_type": "code",
      "execution_count": 2,
      "metadata": {
        "id": "JR55EsvjzZ6T"
      },
      "outputs": [],
      "source": [
        "# Importar librerias:\n",
        "\n",
        "import numpy as np\n",
        "import matplotlib as plt\n",
        "import pandas as pd\n",
        "import csv\n",
        "import seaborn as sns\n",
        "import datetime\n",
        "from datetime import timedelta\n",
        "\n",
        "import matplotlib.pyplot as plt\n",
        " "
      ]
    },
    {
      "cell_type": "code",
      "source": [
        "path= '/content/drive/MyDrive/Ficheros de Vueling/2019RyanairCORTO.xlsx'\n",
        "path= '/content/drive/MyDrive/Ficheros de Vueling/2019Ryanair.xlsx'"
      ],
      "metadata": {
        "id": "r1_jzbl-zxKi"
      },
      "execution_count": 50,
      "outputs": []
    },
    {
      "cell_type": "code",
      "source": [
        "\n"
      ],
      "metadata": {
        "id": "dztN_s_rJYHJ"
      },
      "execution_count": null,
      "outputs": []
    },
    {
      "cell_type": "code",
      "source": [],
      "metadata": {
        "id": "in9wrY7WJ-Uj"
      },
      "execution_count": null,
      "outputs": []
    },
    {
      "cell_type": "code",
      "source": [
        "# Abrir fichero de Github. \n",
        "\n",
        "Hoja = '2019Ryamair'\n",
        "df = pd.read_excel(path, sheet_name=Hoja)\n"
      ],
      "metadata": {
        "id": "0SNK_cALz0lg"
      },
      "execution_count": 51,
      "outputs": []
    },
    {
      "cell_type": "code",
      "source": [
        "df.info()"
      ],
      "metadata": {
        "colab": {
          "base_uri": "https://localhost:8080/"
        },
        "id": "NIrPV5Ma-gPq",
        "outputId": "4123bd24-b643-4d0c-b9f4-e14a5f0f6328"
      },
      "execution_count": 52,
      "outputs": [
        {
          "output_type": "stream",
          "name": "stdout",
          "text": [
            "<class 'pandas.core.frame.DataFrame'>\n",
            "RangeIndex: 750954 entries, 0 to 750953\n",
            "Data columns (total 8 columns):\n",
            " #   Column                                       Non-Null Count   Dtype         \n",
            "---  ------                                       --------------   -----         \n",
            " 0   Mes, Día, Año de Flight_Date_Calculated_TST  750954 non-null  object        \n",
            " 1   scheduled_gate_departure                     750946 non-null  datetime64[ns]\n",
            " 2   scheduled_gate_arrival                       750951 non-null  datetime64[ns]\n",
            " 3   actual_gate_departure                        721061 non-null  datetime64[ns]\n",
            " 4   actual_gate_arrival                          726993 non-null  datetime64[ns]\n",
            " 5   tail_number                                  746797 non-null  object        \n",
            " 6   departure_airport_id                         750954 non-null  object        \n",
            " 7   arrival_at_cd_airport                        746917 non-null  object        \n",
            "dtypes: datetime64[ns](4), object(4)\n",
            "memory usage: 45.8+ MB\n"
          ]
        }
      ]
    },
    {
      "cell_type": "code",
      "source": [
        "# Los nombre de las columnas tienen muchos espacios en blanco\n",
        "\n",
        "nombreColumnas= df.columns\n",
        "nombreColumnas"
      ],
      "metadata": {
        "colab": {
          "base_uri": "https://localhost:8080/"
        },
        "id": "fRFHA19J-uYf",
        "outputId": "87770998-8bc4-41d1-a287-73090058bcf8"
      },
      "execution_count": 53,
      "outputs": [
        {
          "output_type": "execute_result",
          "data": {
            "text/plain": [
              "Index(['Mes, Día, Año de Flight_Date_Calculated_TST',\n",
              "       'scheduled_gate_departure', 'scheduled_gate_arrival',\n",
              "       'actual_gate_departure', 'actual_gate_arrival', 'tail_number',\n",
              "       'departure_airport_id', 'arrival_at_cd_airport'],\n",
              "      dtype='object')"
            ]
          },
          "metadata": {},
          "execution_count": 53
        }
      ]
    },
    {
      "cell_type": "code",
      "source": [
        "# Aqui corrijo los nombre de las columnas\n",
        "nombreColumnaCorregido= ['DATE', 'STD', 'STA', 'ATD','ATA', 'REG', 'DEP', 'ARR']\n",
        " \n",
        "                         \n",
        "# Proceso para cambiar el nombre de las columnas por un bucle FOR\n",
        "for n, m in enumerate(nombreColumnas):\n",
        "  print(n, m,'*',nombreColumnaCorregido[n],'-')\n",
        "  df.rename({m: nombreColumnaCorregido[n]}, axis=1, inplace=True)\n",
        "\n",
        "df.head()"
      ],
      "metadata": {
        "colab": {
          "base_uri": "https://localhost:8080/",
          "height": 345
        },
        "id": "yukvvRqJ-5my",
        "outputId": "806e9377-9cac-4430-a9eb-cc64e7d2d005"
      },
      "execution_count": 54,
      "outputs": [
        {
          "output_type": "stream",
          "name": "stdout",
          "text": [
            "0 Mes, Día, Año de Flight_Date_Calculated_TST * DATE -\n",
            "1 scheduled_gate_departure * STD -\n",
            "2 scheduled_gate_arrival * STA -\n",
            "3 actual_gate_departure * ATD -\n",
            "4 actual_gate_arrival * ATA -\n",
            "5 tail_number * REG -\n",
            "6 departure_airport_id * DEP -\n",
            "7 arrival_at_cd_airport * ARR -\n"
          ]
        },
        {
          "output_type": "execute_result",
          "data": {
            "text/plain": [
              "                 DATE                 STD                 STA  \\\n",
              "0  1 de abril de 2019 2019-04-01 10:30:00 2019-04-01 12:50:00   \n",
              "1  1 de abril de 2019 2019-04-01 13:20:00 2019-04-01 15:45:00   \n",
              "2  1 de abril de 2019 2019-04-01 16:10:00 2019-04-01 18:00:00   \n",
              "3  1 de abril de 2019 2019-04-01 18:45:00 2019-04-01 20:35:00   \n",
              "4  1 de abril de 2019 2019-04-01 05:30:00 2019-04-01 07:20:00   \n",
              "\n",
              "                  ATD                 ATA     REG  DEP  ARR  \n",
              "0 2019-04-01 10:43:00 2019-04-01 12:55:00  EI-DAC  MXP  OTP  \n",
              "1 2019-04-01 13:40:00 2019-04-01 16:03:00  EI-DAC  OTP  MXP  \n",
              "2 2019-04-01 16:40:00 2019-04-01 18:20:00  EI-DAC  MXP  PMO  \n",
              "3 2019-04-01 18:58:00 2019-04-01 20:35:00  EI-DAC  PMO  MXP  \n",
              "4 2019-04-01 05:30:00 2019-04-01 07:25:00  EI-DAD  OPO  BCN  "
            ],
            "text/html": [
              "\n",
              "  <div id=\"df-c22f6e38-e980-46d9-a4cb-ceb0e4148cd1\">\n",
              "    <div class=\"colab-df-container\">\n",
              "      <div>\n",
              "<style scoped>\n",
              "    .dataframe tbody tr th:only-of-type {\n",
              "        vertical-align: middle;\n",
              "    }\n",
              "\n",
              "    .dataframe tbody tr th {\n",
              "        vertical-align: top;\n",
              "    }\n",
              "\n",
              "    .dataframe thead th {\n",
              "        text-align: right;\n",
              "    }\n",
              "</style>\n",
              "<table border=\"1\" class=\"dataframe\">\n",
              "  <thead>\n",
              "    <tr style=\"text-align: right;\">\n",
              "      <th></th>\n",
              "      <th>DATE</th>\n",
              "      <th>STD</th>\n",
              "      <th>STA</th>\n",
              "      <th>ATD</th>\n",
              "      <th>ATA</th>\n",
              "      <th>REG</th>\n",
              "      <th>DEP</th>\n",
              "      <th>ARR</th>\n",
              "    </tr>\n",
              "  </thead>\n",
              "  <tbody>\n",
              "    <tr>\n",
              "      <th>0</th>\n",
              "      <td>1 de abril de 2019</td>\n",
              "      <td>2019-04-01 10:30:00</td>\n",
              "      <td>2019-04-01 12:50:00</td>\n",
              "      <td>2019-04-01 10:43:00</td>\n",
              "      <td>2019-04-01 12:55:00</td>\n",
              "      <td>EI-DAC</td>\n",
              "      <td>MXP</td>\n",
              "      <td>OTP</td>\n",
              "    </tr>\n",
              "    <tr>\n",
              "      <th>1</th>\n",
              "      <td>1 de abril de 2019</td>\n",
              "      <td>2019-04-01 13:20:00</td>\n",
              "      <td>2019-04-01 15:45:00</td>\n",
              "      <td>2019-04-01 13:40:00</td>\n",
              "      <td>2019-04-01 16:03:00</td>\n",
              "      <td>EI-DAC</td>\n",
              "      <td>OTP</td>\n",
              "      <td>MXP</td>\n",
              "    </tr>\n",
              "    <tr>\n",
              "      <th>2</th>\n",
              "      <td>1 de abril de 2019</td>\n",
              "      <td>2019-04-01 16:10:00</td>\n",
              "      <td>2019-04-01 18:00:00</td>\n",
              "      <td>2019-04-01 16:40:00</td>\n",
              "      <td>2019-04-01 18:20:00</td>\n",
              "      <td>EI-DAC</td>\n",
              "      <td>MXP</td>\n",
              "      <td>PMO</td>\n",
              "    </tr>\n",
              "    <tr>\n",
              "      <th>3</th>\n",
              "      <td>1 de abril de 2019</td>\n",
              "      <td>2019-04-01 18:45:00</td>\n",
              "      <td>2019-04-01 20:35:00</td>\n",
              "      <td>2019-04-01 18:58:00</td>\n",
              "      <td>2019-04-01 20:35:00</td>\n",
              "      <td>EI-DAC</td>\n",
              "      <td>PMO</td>\n",
              "      <td>MXP</td>\n",
              "    </tr>\n",
              "    <tr>\n",
              "      <th>4</th>\n",
              "      <td>1 de abril de 2019</td>\n",
              "      <td>2019-04-01 05:30:00</td>\n",
              "      <td>2019-04-01 07:20:00</td>\n",
              "      <td>2019-04-01 05:30:00</td>\n",
              "      <td>2019-04-01 07:25:00</td>\n",
              "      <td>EI-DAD</td>\n",
              "      <td>OPO</td>\n",
              "      <td>BCN</td>\n",
              "    </tr>\n",
              "  </tbody>\n",
              "</table>\n",
              "</div>\n",
              "      <button class=\"colab-df-convert\" onclick=\"convertToInteractive('df-c22f6e38-e980-46d9-a4cb-ceb0e4148cd1')\"\n",
              "              title=\"Convert this dataframe to an interactive table.\"\n",
              "              style=\"display:none;\">\n",
              "        \n",
              "  <svg xmlns=\"http://www.w3.org/2000/svg\" height=\"24px\"viewBox=\"0 0 24 24\"\n",
              "       width=\"24px\">\n",
              "    <path d=\"M0 0h24v24H0V0z\" fill=\"none\"/>\n",
              "    <path d=\"M18.56 5.44l.94 2.06.94-2.06 2.06-.94-2.06-.94-.94-2.06-.94 2.06-2.06.94zm-11 1L8.5 8.5l.94-2.06 2.06-.94-2.06-.94L8.5 2.5l-.94 2.06-2.06.94zm10 10l.94 2.06.94-2.06 2.06-.94-2.06-.94-.94-2.06-.94 2.06-2.06.94z\"/><path d=\"M17.41 7.96l-1.37-1.37c-.4-.4-.92-.59-1.43-.59-.52 0-1.04.2-1.43.59L10.3 9.45l-7.72 7.72c-.78.78-.78 2.05 0 2.83L4 21.41c.39.39.9.59 1.41.59.51 0 1.02-.2 1.41-.59l7.78-7.78 2.81-2.81c.8-.78.8-2.07 0-2.86zM5.41 20L4 18.59l7.72-7.72 1.47 1.35L5.41 20z\"/>\n",
              "  </svg>\n",
              "      </button>\n",
              "      \n",
              "  <style>\n",
              "    .colab-df-container {\n",
              "      display:flex;\n",
              "      flex-wrap:wrap;\n",
              "      gap: 12px;\n",
              "    }\n",
              "\n",
              "    .colab-df-convert {\n",
              "      background-color: #E8F0FE;\n",
              "      border: none;\n",
              "      border-radius: 50%;\n",
              "      cursor: pointer;\n",
              "      display: none;\n",
              "      fill: #1967D2;\n",
              "      height: 32px;\n",
              "      padding: 0 0 0 0;\n",
              "      width: 32px;\n",
              "    }\n",
              "\n",
              "    .colab-df-convert:hover {\n",
              "      background-color: #E2EBFA;\n",
              "      box-shadow: 0px 1px 2px rgba(60, 64, 67, 0.3), 0px 1px 3px 1px rgba(60, 64, 67, 0.15);\n",
              "      fill: #174EA6;\n",
              "    }\n",
              "\n",
              "    [theme=dark] .colab-df-convert {\n",
              "      background-color: #3B4455;\n",
              "      fill: #D2E3FC;\n",
              "    }\n",
              "\n",
              "    [theme=dark] .colab-df-convert:hover {\n",
              "      background-color: #434B5C;\n",
              "      box-shadow: 0px 1px 3px 1px rgba(0, 0, 0, 0.15);\n",
              "      filter: drop-shadow(0px 1px 2px rgba(0, 0, 0, 0.3));\n",
              "      fill: #FFFFFF;\n",
              "    }\n",
              "  </style>\n",
              "\n",
              "      <script>\n",
              "        const buttonEl =\n",
              "          document.querySelector('#df-c22f6e38-e980-46d9-a4cb-ceb0e4148cd1 button.colab-df-convert');\n",
              "        buttonEl.style.display =\n",
              "          google.colab.kernel.accessAllowed ? 'block' : 'none';\n",
              "\n",
              "        async function convertToInteractive(key) {\n",
              "          const element = document.querySelector('#df-c22f6e38-e980-46d9-a4cb-ceb0e4148cd1');\n",
              "          const dataTable =\n",
              "            await google.colab.kernel.invokeFunction('convertToInteractive',\n",
              "                                                     [key], {});\n",
              "          if (!dataTable) return;\n",
              "\n",
              "          const docLinkHtml = 'Like what you see? Visit the ' +\n",
              "            '<a target=\"_blank\" href=https://colab.research.google.com/notebooks/data_table.ipynb>data table notebook</a>'\n",
              "            + ' to learn more about interactive tables.';\n",
              "          element.innerHTML = '';\n",
              "          dataTable['output_type'] = 'display_data';\n",
              "          await google.colab.output.renderOutput(dataTable, element);\n",
              "          const docLink = document.createElement('div');\n",
              "          docLink.innerHTML = docLinkHtml;\n",
              "          element.appendChild(docLink);\n",
              "        }\n",
              "      </script>\n",
              "    </div>\n",
              "  </div>\n",
              "  "
            ]
          },
          "metadata": {},
          "execution_count": 54
        }
      ]
    },
    {
      "cell_type": "code",
      "source": [
        "df['MES'] = df['STD'].dt.month\n",
        "df['Setmana'] = df['STD'].dt.week\n",
        "df['DiaSetmana'] = df['STD'].dt.dayofweek\n",
        "df['DiaSetmanaName'] = df['STD'].dt.day_name()\n",
        "df['Hour'] = df['STD'].dt.hour\n",
        "df.head()"
      ],
      "metadata": {
        "colab": {
          "base_uri": "https://localhost:8080/",
          "height": 241
        },
        "id": "kDS2c1YEhQUZ",
        "outputId": "d6b1028b-079f-41c1-e0e4-9e5b78fb8fe6"
      },
      "execution_count": 55,
      "outputs": [
        {
          "output_type": "stream",
          "name": "stderr",
          "text": [
            "/usr/local/lib/python3.7/dist-packages/ipykernel_launcher.py:2: FutureWarning: Series.dt.weekofyear and Series.dt.week have been deprecated.  Please use Series.dt.isocalendar().week instead.\n",
            "  \n"
          ]
        },
        {
          "output_type": "execute_result",
          "data": {
            "text/plain": [
              "                 DATE                 STD                 STA  \\\n",
              "0  1 de abril de 2019 2019-04-01 10:30:00 2019-04-01 12:50:00   \n",
              "1  1 de abril de 2019 2019-04-01 13:20:00 2019-04-01 15:45:00   \n",
              "2  1 de abril de 2019 2019-04-01 16:10:00 2019-04-01 18:00:00   \n",
              "3  1 de abril de 2019 2019-04-01 18:45:00 2019-04-01 20:35:00   \n",
              "4  1 de abril de 2019 2019-04-01 05:30:00 2019-04-01 07:20:00   \n",
              "\n",
              "                  ATD                 ATA     REG  DEP  ARR  MES  Setmana  \\\n",
              "0 2019-04-01 10:43:00 2019-04-01 12:55:00  EI-DAC  MXP  OTP  4.0     14.0   \n",
              "1 2019-04-01 13:40:00 2019-04-01 16:03:00  EI-DAC  OTP  MXP  4.0     14.0   \n",
              "2 2019-04-01 16:40:00 2019-04-01 18:20:00  EI-DAC  MXP  PMO  4.0     14.0   \n",
              "3 2019-04-01 18:58:00 2019-04-01 20:35:00  EI-DAC  PMO  MXP  4.0     14.0   \n",
              "4 2019-04-01 05:30:00 2019-04-01 07:25:00  EI-DAD  OPO  BCN  4.0     14.0   \n",
              "\n",
              "   DiaSetmana DiaSetmanaName  Hour  \n",
              "0         0.0         Monday  10.0  \n",
              "1         0.0         Monday  13.0  \n",
              "2         0.0         Monday  16.0  \n",
              "3         0.0         Monday  18.0  \n",
              "4         0.0         Monday   5.0  "
            ],
            "text/html": [
              "\n",
              "  <div id=\"df-e2dd6bfa-3326-4ca2-a971-bc36209db5ea\">\n",
              "    <div class=\"colab-df-container\">\n",
              "      <div>\n",
              "<style scoped>\n",
              "    .dataframe tbody tr th:only-of-type {\n",
              "        vertical-align: middle;\n",
              "    }\n",
              "\n",
              "    .dataframe tbody tr th {\n",
              "        vertical-align: top;\n",
              "    }\n",
              "\n",
              "    .dataframe thead th {\n",
              "        text-align: right;\n",
              "    }\n",
              "</style>\n",
              "<table border=\"1\" class=\"dataframe\">\n",
              "  <thead>\n",
              "    <tr style=\"text-align: right;\">\n",
              "      <th></th>\n",
              "      <th>DATE</th>\n",
              "      <th>STD</th>\n",
              "      <th>STA</th>\n",
              "      <th>ATD</th>\n",
              "      <th>ATA</th>\n",
              "      <th>REG</th>\n",
              "      <th>DEP</th>\n",
              "      <th>ARR</th>\n",
              "      <th>MES</th>\n",
              "      <th>Setmana</th>\n",
              "      <th>DiaSetmana</th>\n",
              "      <th>DiaSetmanaName</th>\n",
              "      <th>Hour</th>\n",
              "    </tr>\n",
              "  </thead>\n",
              "  <tbody>\n",
              "    <tr>\n",
              "      <th>0</th>\n",
              "      <td>1 de abril de 2019</td>\n",
              "      <td>2019-04-01 10:30:00</td>\n",
              "      <td>2019-04-01 12:50:00</td>\n",
              "      <td>2019-04-01 10:43:00</td>\n",
              "      <td>2019-04-01 12:55:00</td>\n",
              "      <td>EI-DAC</td>\n",
              "      <td>MXP</td>\n",
              "      <td>OTP</td>\n",
              "      <td>4.0</td>\n",
              "      <td>14.0</td>\n",
              "      <td>0.0</td>\n",
              "      <td>Monday</td>\n",
              "      <td>10.0</td>\n",
              "    </tr>\n",
              "    <tr>\n",
              "      <th>1</th>\n",
              "      <td>1 de abril de 2019</td>\n",
              "      <td>2019-04-01 13:20:00</td>\n",
              "      <td>2019-04-01 15:45:00</td>\n",
              "      <td>2019-04-01 13:40:00</td>\n",
              "      <td>2019-04-01 16:03:00</td>\n",
              "      <td>EI-DAC</td>\n",
              "      <td>OTP</td>\n",
              "      <td>MXP</td>\n",
              "      <td>4.0</td>\n",
              "      <td>14.0</td>\n",
              "      <td>0.0</td>\n",
              "      <td>Monday</td>\n",
              "      <td>13.0</td>\n",
              "    </tr>\n",
              "    <tr>\n",
              "      <th>2</th>\n",
              "      <td>1 de abril de 2019</td>\n",
              "      <td>2019-04-01 16:10:00</td>\n",
              "      <td>2019-04-01 18:00:00</td>\n",
              "      <td>2019-04-01 16:40:00</td>\n",
              "      <td>2019-04-01 18:20:00</td>\n",
              "      <td>EI-DAC</td>\n",
              "      <td>MXP</td>\n",
              "      <td>PMO</td>\n",
              "      <td>4.0</td>\n",
              "      <td>14.0</td>\n",
              "      <td>0.0</td>\n",
              "      <td>Monday</td>\n",
              "      <td>16.0</td>\n",
              "    </tr>\n",
              "    <tr>\n",
              "      <th>3</th>\n",
              "      <td>1 de abril de 2019</td>\n",
              "      <td>2019-04-01 18:45:00</td>\n",
              "      <td>2019-04-01 20:35:00</td>\n",
              "      <td>2019-04-01 18:58:00</td>\n",
              "      <td>2019-04-01 20:35:00</td>\n",
              "      <td>EI-DAC</td>\n",
              "      <td>PMO</td>\n",
              "      <td>MXP</td>\n",
              "      <td>4.0</td>\n",
              "      <td>14.0</td>\n",
              "      <td>0.0</td>\n",
              "      <td>Monday</td>\n",
              "      <td>18.0</td>\n",
              "    </tr>\n",
              "    <tr>\n",
              "      <th>4</th>\n",
              "      <td>1 de abril de 2019</td>\n",
              "      <td>2019-04-01 05:30:00</td>\n",
              "      <td>2019-04-01 07:20:00</td>\n",
              "      <td>2019-04-01 05:30:00</td>\n",
              "      <td>2019-04-01 07:25:00</td>\n",
              "      <td>EI-DAD</td>\n",
              "      <td>OPO</td>\n",
              "      <td>BCN</td>\n",
              "      <td>4.0</td>\n",
              "      <td>14.0</td>\n",
              "      <td>0.0</td>\n",
              "      <td>Monday</td>\n",
              "      <td>5.0</td>\n",
              "    </tr>\n",
              "  </tbody>\n",
              "</table>\n",
              "</div>\n",
              "      <button class=\"colab-df-convert\" onclick=\"convertToInteractive('df-e2dd6bfa-3326-4ca2-a971-bc36209db5ea')\"\n",
              "              title=\"Convert this dataframe to an interactive table.\"\n",
              "              style=\"display:none;\">\n",
              "        \n",
              "  <svg xmlns=\"http://www.w3.org/2000/svg\" height=\"24px\"viewBox=\"0 0 24 24\"\n",
              "       width=\"24px\">\n",
              "    <path d=\"M0 0h24v24H0V0z\" fill=\"none\"/>\n",
              "    <path d=\"M18.56 5.44l.94 2.06.94-2.06 2.06-.94-2.06-.94-.94-2.06-.94 2.06-2.06.94zm-11 1L8.5 8.5l.94-2.06 2.06-.94-2.06-.94L8.5 2.5l-.94 2.06-2.06.94zm10 10l.94 2.06.94-2.06 2.06-.94-2.06-.94-.94-2.06-.94 2.06-2.06.94z\"/><path d=\"M17.41 7.96l-1.37-1.37c-.4-.4-.92-.59-1.43-.59-.52 0-1.04.2-1.43.59L10.3 9.45l-7.72 7.72c-.78.78-.78 2.05 0 2.83L4 21.41c.39.39.9.59 1.41.59.51 0 1.02-.2 1.41-.59l7.78-7.78 2.81-2.81c.8-.78.8-2.07 0-2.86zM5.41 20L4 18.59l7.72-7.72 1.47 1.35L5.41 20z\"/>\n",
              "  </svg>\n",
              "      </button>\n",
              "      \n",
              "  <style>\n",
              "    .colab-df-container {\n",
              "      display:flex;\n",
              "      flex-wrap:wrap;\n",
              "      gap: 12px;\n",
              "    }\n",
              "\n",
              "    .colab-df-convert {\n",
              "      background-color: #E8F0FE;\n",
              "      border: none;\n",
              "      border-radius: 50%;\n",
              "      cursor: pointer;\n",
              "      display: none;\n",
              "      fill: #1967D2;\n",
              "      height: 32px;\n",
              "      padding: 0 0 0 0;\n",
              "      width: 32px;\n",
              "    }\n",
              "\n",
              "    .colab-df-convert:hover {\n",
              "      background-color: #E2EBFA;\n",
              "      box-shadow: 0px 1px 2px rgba(60, 64, 67, 0.3), 0px 1px 3px 1px rgba(60, 64, 67, 0.15);\n",
              "      fill: #174EA6;\n",
              "    }\n",
              "\n",
              "    [theme=dark] .colab-df-convert {\n",
              "      background-color: #3B4455;\n",
              "      fill: #D2E3FC;\n",
              "    }\n",
              "\n",
              "    [theme=dark] .colab-df-convert:hover {\n",
              "      background-color: #434B5C;\n",
              "      box-shadow: 0px 1px 3px 1px rgba(0, 0, 0, 0.15);\n",
              "      filter: drop-shadow(0px 1px 2px rgba(0, 0, 0, 0.3));\n",
              "      fill: #FFFFFF;\n",
              "    }\n",
              "  </style>\n",
              "\n",
              "      <script>\n",
              "        const buttonEl =\n",
              "          document.querySelector('#df-e2dd6bfa-3326-4ca2-a971-bc36209db5ea button.colab-df-convert');\n",
              "        buttonEl.style.display =\n",
              "          google.colab.kernel.accessAllowed ? 'block' : 'none';\n",
              "\n",
              "        async function convertToInteractive(key) {\n",
              "          const element = document.querySelector('#df-e2dd6bfa-3326-4ca2-a971-bc36209db5ea');\n",
              "          const dataTable =\n",
              "            await google.colab.kernel.invokeFunction('convertToInteractive',\n",
              "                                                     [key], {});\n",
              "          if (!dataTable) return;\n",
              "\n",
              "          const docLinkHtml = 'Like what you see? Visit the ' +\n",
              "            '<a target=\"_blank\" href=https://colab.research.google.com/notebooks/data_table.ipynb>data table notebook</a>'\n",
              "            + ' to learn more about interactive tables.';\n",
              "          element.innerHTML = '';\n",
              "          dataTable['output_type'] = 'display_data';\n",
              "          await google.colab.output.renderOutput(dataTable, element);\n",
              "          const docLink = document.createElement('div');\n",
              "          docLink.innerHTML = docLinkHtml;\n",
              "          element.appendChild(docLink);\n",
              "        }\n",
              "      </script>\n",
              "    </div>\n",
              "  </div>\n",
              "  "
            ]
          },
          "metadata": {},
          "execution_count": 55
        }
      ]
    },
    {
      "cell_type": "code",
      "source": [
        "# Calculo tiempo de vuelo teorico Real y error\n",
        "\n",
        "df['DuracionVueloTeorico1']= (df['STA'] - df['STD'])/  np.timedelta64(1, 'm') \n",
        "df['DuracionVueloReal1'] = (df['ATA'] - df['ATD']) /  np.timedelta64(1, 'm') \n",
        "df['E_Duracion_Vuelo1']= df['DuracionVueloReal1']-df['DuracionVueloTeorico1']\n",
        "df['E_Duracion_Vuelo1'].head(3)\n",
        "\n",
        "media = round(df['E_Duracion_Vuelo1'].mean(),2)\n",
        "\n",
        "print('\\n\\nError medio en tiempo de vuelo',media)"
      ],
      "metadata": {
        "colab": {
          "base_uri": "https://localhost:8080/"
        },
        "id": "9zhKPdf3wkTi",
        "outputId": "04b4d903-22b8-43aa-bf5e-cfcf38fe30be"
      },
      "execution_count": 56,
      "outputs": [
        {
          "output_type": "stream",
          "name": "stdout",
          "text": [
            "\n",
            "\n",
            "Error medio en tiempo de vuelo -6.24\n"
          ]
        }
      ]
    },
    {
      "cell_type": "code",
      "source": [
        "#Calculo error arrivada:\n",
        "\n",
        "df['E_Puntualidad1'] = (df['ATA']- df['STA']) /  np.timedelta64(1, 'm')"
      ],
      "metadata": {
        "id": "_ztk5ceSjVn2"
      },
      "execution_count": 57,
      "outputs": []
    },
    {
      "cell_type": "code",
      "source": [
        "#Calculo error enlairament:\n",
        "df['E_Despegue1'] = (df['ATD']- df['STD']) /  np.timedelta64(1, 'm')\n"
      ],
      "metadata": {
        "id": "pxGrNuhqui4Q"
      },
      "execution_count": 58,
      "outputs": []
    },
    {
      "cell_type": "markdown",
      "source": [
        "## Calcul sequencia del vol per dia"
      ],
      "metadata": {
        "id": "4pAhGV7tK0Ls"
      }
    },
    {
      "cell_type": "code",
      "source": [
        "df['Secuencia'] = df.groupby(['DATE', 'REG'])['STD'].rank()\n",
        "print(df[['Secuencia','REG','STD', 'ARR']][25:45])"
      ],
      "metadata": {
        "colab": {
          "base_uri": "https://localhost:8080/"
        },
        "id": "-SCeT3XwARPM",
        "outputId": "3a5ba58b-f6e1-4d5e-ceb5-f5978ea432b2"
      },
      "execution_count": 82,
      "outputs": [
        {
          "output_type": "stream",
          "name": "stdout",
          "text": [
            "    Secuencia     REG                 STD  ARR\n",
            "25        6.0  EI-DAG 2019-04-01 14:55:00  DUB\n",
            "26        7.0  EI-DAG 2019-04-01 18:00:00  AMS\n",
            "27        8.0  EI-DAG 2019-04-01 20:05:00  DUB\n",
            "28        1.0  EI-DAH 2019-04-01 04:40:00  CGN\n",
            "29        2.0  EI-DAH 2019-04-01 06:35:00  BGY\n",
            "30        3.0  EI-DAH 2019-04-01 08:45:00  NAP\n",
            "31        4.0  EI-DAH 2019-04-01 10:35:00  BGY\n",
            "32        5.0  EI-DAH 2019-04-01 12:50:00  BRQ\n",
            "33        6.0  EI-DAH 2019-04-01 14:40:00  BGY\n",
            "34        7.0  EI-DAH 2019-04-01 16:30:00  CPH\n",
            "35        8.0  EI-DAH 2019-04-01 18:55:00  BGY\n",
            "36        1.0  EI-DAI 2019-04-01 04:20:00  ATH\n",
            "37        2.0  EI-DAI 2019-04-01 06:40:00  CIA\n",
            "38        3.0  EI-DAI 2019-04-01 09:00:00  CPH\n",
            "39        4.0  EI-DAI 2019-04-01 11:55:00  CIA\n",
            "40        5.0  EI-DAI 2019-04-01 15:15:00  MAD\n",
            "41        6.0  EI-DAI 2019-04-01 18:25:00  CIA\n",
            "42        1.0  EI-DAJ 2019-04-01 06:50:00  HAM\n",
            "43        2.0  EI-DAJ 2019-04-01 09:15:00  DUB\n",
            "44        3.0  EI-DAJ 2019-04-01 14:30:00  AMS\n"
          ]
        }
      ]
    },
    {
      "cell_type": "code",
      "source": [
        "df1=df.copy()\n",
        "df1.head()"
      ],
      "metadata": {
        "colab": {
          "base_uri": "https://localhost:8080/",
          "height": 206
        },
        "id": "gCOihM4h-7NF",
        "outputId": "f2c199d4-1962-4345-df47-c0b1fb4f4b95"
      },
      "execution_count": 60,
      "outputs": [
        {
          "output_type": "execute_result",
          "data": {
            "text/plain": [
              "                 DATE                 STD                 STA  \\\n",
              "0  1 de abril de 2019 2019-04-01 10:30:00 2019-04-01 12:50:00   \n",
              "1  1 de abril de 2019 2019-04-01 13:20:00 2019-04-01 15:45:00   \n",
              "2  1 de abril de 2019 2019-04-01 16:10:00 2019-04-01 18:00:00   \n",
              "3  1 de abril de 2019 2019-04-01 18:45:00 2019-04-01 20:35:00   \n",
              "4  1 de abril de 2019 2019-04-01 05:30:00 2019-04-01 07:20:00   \n",
              "\n",
              "                  ATD                 ATA     REG  DEP  ARR  MES  Setmana  \\\n",
              "0 2019-04-01 10:43:00 2019-04-01 12:55:00  EI-DAC  MXP  OTP  4.0     14.0   \n",
              "1 2019-04-01 13:40:00 2019-04-01 16:03:00  EI-DAC  OTP  MXP  4.0     14.0   \n",
              "2 2019-04-01 16:40:00 2019-04-01 18:20:00  EI-DAC  MXP  PMO  4.0     14.0   \n",
              "3 2019-04-01 18:58:00 2019-04-01 20:35:00  EI-DAC  PMO  MXP  4.0     14.0   \n",
              "4 2019-04-01 05:30:00 2019-04-01 07:25:00  EI-DAD  OPO  BCN  4.0     14.0   \n",
              "\n",
              "   DiaSetmana DiaSetmanaName  Hour  DuracionVueloTeorico1  DuracionVueloReal1  \\\n",
              "0         0.0         Monday  10.0                  140.0               132.0   \n",
              "1         0.0         Monday  13.0                  145.0               143.0   \n",
              "2         0.0         Monday  16.0                  110.0               100.0   \n",
              "3         0.0         Monday  18.0                  110.0                97.0   \n",
              "4         0.0         Monday   5.0                  110.0               115.0   \n",
              "\n",
              "   E_Duracion_Vuelo1  E_Puntualidad1  E_Despegue1  Secuencia  \n",
              "0               -8.0             5.0         13.0        1.0  \n",
              "1               -2.0            18.0         20.0        2.0  \n",
              "2              -10.0            20.0         30.0        3.0  \n",
              "3              -13.0             0.0         13.0        4.0  \n",
              "4                5.0             5.0          0.0        1.0  "
            ],
            "text/html": [
              "\n",
              "  <div id=\"df-35068079-ea1a-4056-9a96-41f6f9bc89a9\">\n",
              "    <div class=\"colab-df-container\">\n",
              "      <div>\n",
              "<style scoped>\n",
              "    .dataframe tbody tr th:only-of-type {\n",
              "        vertical-align: middle;\n",
              "    }\n",
              "\n",
              "    .dataframe tbody tr th {\n",
              "        vertical-align: top;\n",
              "    }\n",
              "\n",
              "    .dataframe thead th {\n",
              "        text-align: right;\n",
              "    }\n",
              "</style>\n",
              "<table border=\"1\" class=\"dataframe\">\n",
              "  <thead>\n",
              "    <tr style=\"text-align: right;\">\n",
              "      <th></th>\n",
              "      <th>DATE</th>\n",
              "      <th>STD</th>\n",
              "      <th>STA</th>\n",
              "      <th>ATD</th>\n",
              "      <th>ATA</th>\n",
              "      <th>REG</th>\n",
              "      <th>DEP</th>\n",
              "      <th>ARR</th>\n",
              "      <th>MES</th>\n",
              "      <th>Setmana</th>\n",
              "      <th>DiaSetmana</th>\n",
              "      <th>DiaSetmanaName</th>\n",
              "      <th>Hour</th>\n",
              "      <th>DuracionVueloTeorico1</th>\n",
              "      <th>DuracionVueloReal1</th>\n",
              "      <th>E_Duracion_Vuelo1</th>\n",
              "      <th>E_Puntualidad1</th>\n",
              "      <th>E_Despegue1</th>\n",
              "      <th>Secuencia</th>\n",
              "    </tr>\n",
              "  </thead>\n",
              "  <tbody>\n",
              "    <tr>\n",
              "      <th>0</th>\n",
              "      <td>1 de abril de 2019</td>\n",
              "      <td>2019-04-01 10:30:00</td>\n",
              "      <td>2019-04-01 12:50:00</td>\n",
              "      <td>2019-04-01 10:43:00</td>\n",
              "      <td>2019-04-01 12:55:00</td>\n",
              "      <td>EI-DAC</td>\n",
              "      <td>MXP</td>\n",
              "      <td>OTP</td>\n",
              "      <td>4.0</td>\n",
              "      <td>14.0</td>\n",
              "      <td>0.0</td>\n",
              "      <td>Monday</td>\n",
              "      <td>10.0</td>\n",
              "      <td>140.0</td>\n",
              "      <td>132.0</td>\n",
              "      <td>-8.0</td>\n",
              "      <td>5.0</td>\n",
              "      <td>13.0</td>\n",
              "      <td>1.0</td>\n",
              "    </tr>\n",
              "    <tr>\n",
              "      <th>1</th>\n",
              "      <td>1 de abril de 2019</td>\n",
              "      <td>2019-04-01 13:20:00</td>\n",
              "      <td>2019-04-01 15:45:00</td>\n",
              "      <td>2019-04-01 13:40:00</td>\n",
              "      <td>2019-04-01 16:03:00</td>\n",
              "      <td>EI-DAC</td>\n",
              "      <td>OTP</td>\n",
              "      <td>MXP</td>\n",
              "      <td>4.0</td>\n",
              "      <td>14.0</td>\n",
              "      <td>0.0</td>\n",
              "      <td>Monday</td>\n",
              "      <td>13.0</td>\n",
              "      <td>145.0</td>\n",
              "      <td>143.0</td>\n",
              "      <td>-2.0</td>\n",
              "      <td>18.0</td>\n",
              "      <td>20.0</td>\n",
              "      <td>2.0</td>\n",
              "    </tr>\n",
              "    <tr>\n",
              "      <th>2</th>\n",
              "      <td>1 de abril de 2019</td>\n",
              "      <td>2019-04-01 16:10:00</td>\n",
              "      <td>2019-04-01 18:00:00</td>\n",
              "      <td>2019-04-01 16:40:00</td>\n",
              "      <td>2019-04-01 18:20:00</td>\n",
              "      <td>EI-DAC</td>\n",
              "      <td>MXP</td>\n",
              "      <td>PMO</td>\n",
              "      <td>4.0</td>\n",
              "      <td>14.0</td>\n",
              "      <td>0.0</td>\n",
              "      <td>Monday</td>\n",
              "      <td>16.0</td>\n",
              "      <td>110.0</td>\n",
              "      <td>100.0</td>\n",
              "      <td>-10.0</td>\n",
              "      <td>20.0</td>\n",
              "      <td>30.0</td>\n",
              "      <td>3.0</td>\n",
              "    </tr>\n",
              "    <tr>\n",
              "      <th>3</th>\n",
              "      <td>1 de abril de 2019</td>\n",
              "      <td>2019-04-01 18:45:00</td>\n",
              "      <td>2019-04-01 20:35:00</td>\n",
              "      <td>2019-04-01 18:58:00</td>\n",
              "      <td>2019-04-01 20:35:00</td>\n",
              "      <td>EI-DAC</td>\n",
              "      <td>PMO</td>\n",
              "      <td>MXP</td>\n",
              "      <td>4.0</td>\n",
              "      <td>14.0</td>\n",
              "      <td>0.0</td>\n",
              "      <td>Monday</td>\n",
              "      <td>18.0</td>\n",
              "      <td>110.0</td>\n",
              "      <td>97.0</td>\n",
              "      <td>-13.0</td>\n",
              "      <td>0.0</td>\n",
              "      <td>13.0</td>\n",
              "      <td>4.0</td>\n",
              "    </tr>\n",
              "    <tr>\n",
              "      <th>4</th>\n",
              "      <td>1 de abril de 2019</td>\n",
              "      <td>2019-04-01 05:30:00</td>\n",
              "      <td>2019-04-01 07:20:00</td>\n",
              "      <td>2019-04-01 05:30:00</td>\n",
              "      <td>2019-04-01 07:25:00</td>\n",
              "      <td>EI-DAD</td>\n",
              "      <td>OPO</td>\n",
              "      <td>BCN</td>\n",
              "      <td>4.0</td>\n",
              "      <td>14.0</td>\n",
              "      <td>0.0</td>\n",
              "      <td>Monday</td>\n",
              "      <td>5.0</td>\n",
              "      <td>110.0</td>\n",
              "      <td>115.0</td>\n",
              "      <td>5.0</td>\n",
              "      <td>5.0</td>\n",
              "      <td>0.0</td>\n",
              "      <td>1.0</td>\n",
              "    </tr>\n",
              "  </tbody>\n",
              "</table>\n",
              "</div>\n",
              "      <button class=\"colab-df-convert\" onclick=\"convertToInteractive('df-35068079-ea1a-4056-9a96-41f6f9bc89a9')\"\n",
              "              title=\"Convert this dataframe to an interactive table.\"\n",
              "              style=\"display:none;\">\n",
              "        \n",
              "  <svg xmlns=\"http://www.w3.org/2000/svg\" height=\"24px\"viewBox=\"0 0 24 24\"\n",
              "       width=\"24px\">\n",
              "    <path d=\"M0 0h24v24H0V0z\" fill=\"none\"/>\n",
              "    <path d=\"M18.56 5.44l.94 2.06.94-2.06 2.06-.94-2.06-.94-.94-2.06-.94 2.06-2.06.94zm-11 1L8.5 8.5l.94-2.06 2.06-.94-2.06-.94L8.5 2.5l-.94 2.06-2.06.94zm10 10l.94 2.06.94-2.06 2.06-.94-2.06-.94-.94-2.06-.94 2.06-2.06.94z\"/><path d=\"M17.41 7.96l-1.37-1.37c-.4-.4-.92-.59-1.43-.59-.52 0-1.04.2-1.43.59L10.3 9.45l-7.72 7.72c-.78.78-.78 2.05 0 2.83L4 21.41c.39.39.9.59 1.41.59.51 0 1.02-.2 1.41-.59l7.78-7.78 2.81-2.81c.8-.78.8-2.07 0-2.86zM5.41 20L4 18.59l7.72-7.72 1.47 1.35L5.41 20z\"/>\n",
              "  </svg>\n",
              "      </button>\n",
              "      \n",
              "  <style>\n",
              "    .colab-df-container {\n",
              "      display:flex;\n",
              "      flex-wrap:wrap;\n",
              "      gap: 12px;\n",
              "    }\n",
              "\n",
              "    .colab-df-convert {\n",
              "      background-color: #E8F0FE;\n",
              "      border: none;\n",
              "      border-radius: 50%;\n",
              "      cursor: pointer;\n",
              "      display: none;\n",
              "      fill: #1967D2;\n",
              "      height: 32px;\n",
              "      padding: 0 0 0 0;\n",
              "      width: 32px;\n",
              "    }\n",
              "\n",
              "    .colab-df-convert:hover {\n",
              "      background-color: #E2EBFA;\n",
              "      box-shadow: 0px 1px 2px rgba(60, 64, 67, 0.3), 0px 1px 3px 1px rgba(60, 64, 67, 0.15);\n",
              "      fill: #174EA6;\n",
              "    }\n",
              "\n",
              "    [theme=dark] .colab-df-convert {\n",
              "      background-color: #3B4455;\n",
              "      fill: #D2E3FC;\n",
              "    }\n",
              "\n",
              "    [theme=dark] .colab-df-convert:hover {\n",
              "      background-color: #434B5C;\n",
              "      box-shadow: 0px 1px 3px 1px rgba(0, 0, 0, 0.15);\n",
              "      filter: drop-shadow(0px 1px 2px rgba(0, 0, 0, 0.3));\n",
              "      fill: #FFFFFF;\n",
              "    }\n",
              "  </style>\n",
              "\n",
              "      <script>\n",
              "        const buttonEl =\n",
              "          document.querySelector('#df-35068079-ea1a-4056-9a96-41f6f9bc89a9 button.colab-df-convert');\n",
              "        buttonEl.style.display =\n",
              "          google.colab.kernel.accessAllowed ? 'block' : 'none';\n",
              "\n",
              "        async function convertToInteractive(key) {\n",
              "          const element = document.querySelector('#df-35068079-ea1a-4056-9a96-41f6f9bc89a9');\n",
              "          const dataTable =\n",
              "            await google.colab.kernel.invokeFunction('convertToInteractive',\n",
              "                                                     [key], {});\n",
              "          if (!dataTable) return;\n",
              "\n",
              "          const docLinkHtml = 'Like what you see? Visit the ' +\n",
              "            '<a target=\"_blank\" href=https://colab.research.google.com/notebooks/data_table.ipynb>data table notebook</a>'\n",
              "            + ' to learn more about interactive tables.';\n",
              "          element.innerHTML = '';\n",
              "          dataTable['output_type'] = 'display_data';\n",
              "          await google.colab.output.renderOutput(dataTable, element);\n",
              "          const docLink = document.createElement('div');\n",
              "          docLink.innerHTML = docLinkHtml;\n",
              "          element.appendChild(docLink);\n",
              "        }\n",
              "      </script>\n",
              "    </div>\n",
              "  </div>\n",
              "  "
            ]
          },
          "metadata": {},
          "execution_count": 60
        }
      ]
    },
    {
      "cell_type": "code",
      "source": [],
      "metadata": {
        "id": "b1l8WLaMv2su"
      },
      "execution_count": 60,
      "outputs": []
    },
    {
      "cell_type": "code",
      "source": [
        "df1=df.copy()\n",
        "df1.shape"
      ],
      "metadata": {
        "colab": {
          "base_uri": "https://localhost:8080/"
        },
        "id": "B5r2_CTsAJkR",
        "outputId": "9ce1d387-36e1-47b0-93db-633e6e271e6f"
      },
      "execution_count": 61,
      "outputs": [
        {
          "output_type": "execute_result",
          "data": {
            "text/plain": [
              "(750954, 19)"
            ]
          },
          "metadata": {},
          "execution_count": 61
        }
      ]
    },
    {
      "cell_type": "code",
      "source": [
        "AeropuertosCantidad = df1['ARR'].copy()\n",
        "AeropuertosCantidad['cantitat'] = df1['ARR'].value_counts()\n",
        "AeropuertosCantidad[1:3]"
      ],
      "metadata": {
        "colab": {
          "base_uri": "https://localhost:8080/"
        },
        "id": "wLIRRRjbDDoj",
        "outputId": "e1ccdedb-47e6-494b-ed34-77f9f8e99e30"
      },
      "execution_count": 62,
      "outputs": [
        {
          "output_type": "execute_result",
          "data": {
            "text/plain": [
              "1    MXP\n",
              "2    PMO\n",
              "Name: ARR, dtype: object"
            ]
          },
          "metadata": {},
          "execution_count": 62
        }
      ]
    },
    {
      "cell_type": "code",
      "source": [
        "AeropuertosCantidad = df1['ARR'].copy()\n",
        "AeropuertosCantidad=pd.DataFrame(AeropuertosCantidad)\n",
        "AeropuertosCantidad.columns=(['ARR'])\n",
        "AeropuertosCantidad = df1['ARR'].value_counts()\n",
        "AeropuertosCantidad.columns=[ 'ARR', 'Cantidad']\n",
        "AeropuertosCantidad=pd.DataFrame(AeropuertosCantidad)\n",
        "AeropuertosCantidad.columns"
      ],
      "metadata": {
        "colab": {
          "base_uri": "https://localhost:8080/"
        },
        "id": "nbCarMHPZcQq",
        "outputId": "93ee289b-bc6d-475d-ca4a-1c0e42630b2a"
      },
      "execution_count": 63,
      "outputs": [
        {
          "output_type": "execute_result",
          "data": {
            "text/plain": [
              "Index(['ARR'], dtype='object')"
            ]
          },
          "metadata": {},
          "execution_count": 63
        }
      ]
    },
    {
      "cell_type": "code",
      "source": [
        "AeropuertosCantidad = df1['ARR']\n",
        "AeropuertosCantidad"
      ],
      "metadata": {
        "colab": {
          "base_uri": "https://localhost:8080/"
        },
        "id": "koTVGsEOKqbJ",
        "outputId": "2ecdb98e-20b9-4057-b6de-3b0539a745b6"
      },
      "execution_count": 64,
      "outputs": [
        {
          "output_type": "execute_result",
          "data": {
            "text/plain": [
              "0         OTP\n",
              "1         MXP\n",
              "2         PMO\n",
              "3         MXP\n",
              "4         BCN\n",
              "         ... \n",
              "750949    CTA\n",
              "750950    SVQ\n",
              "750951    LGW\n",
              "750952    SVQ\n",
              "750953    BRI\n",
              "Name: ARR, Length: 750954, dtype: object"
            ]
          },
          "metadata": {},
          "execution_count": 64
        }
      ]
    },
    {
      "cell_type": "code",
      "source": [
        "# Sapigue quants vols han sortit de cada aeroport \n",
        "AeropuertosCantidad = df1['ARR']\n",
        "AeropuertosCantidad['cantitat'] = df1['ARR'].value_counts()\n",
        "\n",
        "AeropuertosCantidad['cantitat'].sort_values\n",
        "#AeropuertosCantidad=AeropuertosCantidad.sample(n=6, replace=True)\n",
        "AeropuertosCantidad.columns=['Aeroport', 'cantitat']\n"
      ],
      "metadata": {
        "colab": {
          "base_uri": "https://localhost:8080/"
        },
        "id": "ajSQh-K6CqaV",
        "outputId": "5b96481e-3d22-4359-998e-fc2a75911f6d"
      },
      "execution_count": 65,
      "outputs": [
        {
          "output_type": "stream",
          "name": "stderr",
          "text": [
            "/usr/local/lib/python3.7/dist-packages/ipykernel_launcher.py:3: SettingWithCopyWarning: \n",
            "A value is trying to be set on a copy of a slice from a DataFrame\n",
            "\n",
            "See the caveats in the documentation: https://pandas.pydata.org/pandas-docs/stable/user_guide/indexing.html#returning-a-view-versus-a-copy\n",
            "  This is separate from the ipykernel package so we can avoid doing imports until\n"
          ]
        }
      ]
    },
    {
      "cell_type": "code",
      "source": [
        "AeropuertosCantidad.shape"
      ],
      "metadata": {
        "colab": {
          "base_uri": "https://localhost:8080/"
        },
        "id": "Pk70EdW9I7lT",
        "outputId": "d0721aae-f399-49e4-d1bc-95d844861923"
      },
      "execution_count": 66,
      "outputs": [
        {
          "output_type": "execute_result",
          "data": {
            "text/plain": [
              "(750955,)"
            ]
          },
          "metadata": {},
          "execution_count": 66
        }
      ]
    },
    {
      "cell_type": "code",
      "source": [
        "AeropuertosCantidad.head()"
      ],
      "metadata": {
        "colab": {
          "base_uri": "https://localhost:8080/"
        },
        "id": "grctkhfWDfP8",
        "outputId": "f483635a-a621-4435-ae65-036f2ace9d21"
      },
      "execution_count": 67,
      "outputs": [
        {
          "output_type": "execute_result",
          "data": {
            "text/plain": [
              "0    OTP\n",
              "1    MXP\n",
              "2    PMO\n",
              "3    MXP\n",
              "4    BCN\n",
              "Name: ARR, dtype: object"
            ]
          },
          "metadata": {},
          "execution_count": 67
        }
      ]
    },
    {
      "cell_type": "code",
      "source": [
        "# Filtre primer enlairament a BArcelona\n",
        "\n",
        "vuelosPrimerDespegue= ((df1['Secuencia']== 1) & (df1['DEP']=='BCN'))\n",
        "df2 = df1[vuelosPrimerDespegue]\n",
        "print(df2[['DATE','REG', 'Secuencia','STD']][0:8])"
      ],
      "metadata": {
        "colab": {
          "base_uri": "https://localhost:8080/"
        },
        "id": "etZWUPEJD1XQ",
        "outputId": "b61cf331-fef4-4ccf-b3fe-0aa835c417ab"
      },
      "execution_count": 68,
      "outputs": [
        {
          "output_type": "stream",
          "name": "stdout",
          "text": [
            "                    DATE     REG  Secuencia                 STD\n",
            "193   1 de abril de 2019  EI-DHF        1.0 2019-04-01 04:05:00\n",
            "214   1 de abril de 2019  EI-DHR        1.0 2019-04-01 04:00:00\n",
            "294   1 de abril de 2019  EI-DLJ        1.0 2019-04-01 04:15:00\n",
            "528   1 de abril de 2019  EI-DWM        1.0 2019-04-01 04:20:00\n",
            "774   1 de abril de 2019  EI-EBW        1.0 2019-04-01 06:40:00\n",
            "947   1 de abril de 2019  EI-EKN        1.0 2019-04-01 06:30:00\n",
            "1554  1 de abril de 2019  EI-FOK        1.0 2019-04-01 04:30:00\n",
            "1566  1 de abril de 2019  EI-FOM        1.0 2019-04-01 05:50:00\n"
          ]
        }
      ]
    },
    {
      "cell_type": "code",
      "source": [
        "plt.figure(figsize = (15,8))\n",
        "p= sns.histplot(data= df2.E_Despegue1, kde= True)\n",
        "p.axvline(x = 0, ymin=0, ymax= 12, color='red', linestyle= 'dashdot') # Objetivo\n",
        "p.set_title('Distribució Error 1r enlairament', fontsize=25, color='green')\n",
        "p.set_xlabel(\"Error (minuts)\", fontsize = 20)"
      ],
      "metadata": {
        "colab": {
          "base_uri": "https://localhost:8080/",
          "height": 550
        },
        "id": "InEAGxaFEWKc",
        "outputId": "cd35f30c-05dc-446d-d8cf-60a5f58278f3"
      },
      "execution_count": 69,
      "outputs": [
        {
          "output_type": "execute_result",
          "data": {
            "text/plain": [
              "Text(0.5, 0, 'Error (minuts)')"
            ]
          },
          "metadata": {},
          "execution_count": 69
        },
        {
          "output_type": "display_data",
          "data": {
            "text/plain": [
              "<Figure size 1080x576 with 1 Axes>"
            ],
            "image/png": "[encoded data removed]"
          },
          "metadata": {}
        }
      ]
    },
    {
      "cell_type": "code",
      "source": [
        "# Eliminar los outliers\n",
        "df2=df2.copy()\n",
        "dfEliminarOutliers= ((df2['Secuencia']== 1) & (df2['E_Despegue1']< 30) & (df2['E_Despegue1']> -30))\n",
        "\n",
        "df2 = df2[dfEliminarOutliers]\n",
        "#\n",
        "plt.figure(figsize = (15,8))\n",
        "p= sns.histplot(data= df2.E_Despegue1, kde= True)\n",
        "p.set_title(\"Error d'enlairament 1r salt, filtrat a BCN\", fontsize=25, color='green')\n",
        "mediaFiltrada = round(df2['E_Despegue1'].mean(),2)\n",
        "p.axvline(mediaFiltrada, 0,12, color = 'green')                       # Media real\n",
        "p.axvline(x = 0, ymin=0, ymax= 12, color='red', linestyle= 'dashdot') # Objetivo\n",
        "print()\n",
        "print('Mitjana filtrada = ', mediaFiltrada, 'minuts')\n",
        "#print(df2[['Secuencia', 'E_Despegue', 'AeropuertoKey1' ]]) \n",
        "p.set_xlabel(\"Error (minuts)\", fontsize = 20)"
      ],
      "metadata": {
        "colab": {
          "base_uri": "https://localhost:8080/",
          "height": 585
        },
        "id": "yBrPFQ7oEu_I",
        "outputId": "14f1529b-8191-4ed3-fc72-436a1ac76aaa"
      },
      "execution_count": 70,
      "outputs": [
        {
          "output_type": "stream",
          "name": "stdout",
          "text": [
            "\n",
            "Mitjana filtrada =  2.05 minuts\n"
          ]
        },
        {
          "output_type": "execute_result",
          "data": {
            "text/plain": [
              "Text(0.5, 0, 'Error (minuts)')"
            ]
          },
          "metadata": {},
          "execution_count": 70
        },
        {
          "output_type": "display_data",
          "data": {
            "text/plain": [
              "<Figure size 1080x576 with 1 Axes>"
            ],
            "image/png": "[encoded data removed]"
          },
          "metadata": {}
        }
      ]
    },
    {
      "cell_type": "code",
      "source": [
        "# Intervalos de Confianza por aeropuerto\n",
        "\n",
        "sns.set_theme(style=\"darkgrid\")\n",
        "#tips = sns.df1(\"tips\")\n",
        "sns.set(rc = {'figure.figsize':(15,8)})      \n",
        "# Tamaño de la imagen\n",
        "ax = sns.pointplot(x='Hour', y = \"E_Despegue1\", data= df2, scale=.1, kind = \"point\", capsize=0.13)\n",
        "\n",
        "puntualidadBCN = round((df2['E_Despegue1'].mean()),2)#\n",
        "\n",
        "ax.axhline(puntualidadBCN, color=\"red\", linestyle = '--', label=\"ooas\")       # Linea 0 verde\n",
        "ax.axhline(0, color=\"green\", linestyle = '--')\n",
        "\n",
        "\n",
        "textoBCN = \"BCN puntualitat mitja\"+ str(puntualidadBCN) + ' minut.'\n",
        "ax.text(puntualidadBCN ,puntualidadBCN , textoBCN, backgroundcolor='w')\n",
        "\n",
        "ax.set_title('Puntualitat enlairament per hora del dia:', fontsize = 24, color= 'green')"
      ],
      "metadata": {
        "colab": {
          "base_uri": "https://localhost:8080/",
          "height": 544
        },
        "id": "CZy8VJprFqzD",
        "outputId": "931ba47d-305a-455b-9d5e-7eb6a08c5222"
      },
      "execution_count": 71,
      "outputs": [
        {
          "output_type": "execute_result",
          "data": {
            "text/plain": [
              "Text(0.5, 1.0, 'Puntualitat enlairament per hora del dia:')"
            ]
          },
          "metadata": {},
          "execution_count": 71
        },
        {
          "output_type": "display_data",
          "data": {
            "text/plain": [
              "<Figure size 1080x576 with 1 Axes>"
            ],
            "image/png": "[encoded data removed]"
          },
          "metadata": {}
        }
      ]
    },
    {
      "cell_type": "code",
      "source": [
        "df1"
      ],
      "metadata": {
        "colab": {
          "base_uri": "https://localhost:8080/",
          "height": 424
        },
        "id": "prFKbVuOdx5M",
        "outputId": "0fd319b0-c0bb-4934-d018-47a727df3212"
      },
      "execution_count": 72,
      "outputs": [
        {
          "output_type": "execute_result",
          "data": {
            "text/plain": [
              "                           DATE                 STD                 STA  \\\n",
              "0            1 de abril de 2019 2019-04-01 10:30:00 2019-04-01 12:50:00   \n",
              "1            1 de abril de 2019 2019-04-01 13:20:00 2019-04-01 15:45:00   \n",
              "2            1 de abril de 2019 2019-04-01 16:10:00 2019-04-01 18:00:00   \n",
              "3            1 de abril de 2019 2019-04-01 18:45:00 2019-04-01 20:35:00   \n",
              "4            1 de abril de 2019 2019-04-01 05:30:00 2019-04-01 07:20:00   \n",
              "...                         ...                 ...                 ...   \n",
              "750949  9 de septiembre de 2019 2019-09-09 18:25:00 2019-09-09 20:05:00   \n",
              "750950  9 de septiembre de 2019 2019-09-09 07:55:00 2019-09-09 10:35:00   \n",
              "750951  9 de septiembre de 2019 2019-09-09 09:10:00 2019-09-09 10:35:00   \n",
              "750952  9 de septiembre de 2019 2019-09-09 12:20:00 2019-09-09 13:10:00   \n",
              "750953  9 de septiembre de 2019 2019-09-09 15:15:00 2019-09-09 18:05:00   \n",
              "\n",
              "                       ATD                 ATA     REG  DEP  ARR  MES  \\\n",
              "0      2019-04-01 10:43:00 2019-04-01 12:55:00  EI-DAC  MXP  OTP  4.0   \n",
              "1      2019-04-01 13:40:00 2019-04-01 16:03:00  EI-DAC  OTP  MXP  4.0   \n",
              "2      2019-04-01 16:40:00 2019-04-01 18:20:00  EI-DAC  MXP  PMO  4.0   \n",
              "3      2019-04-01 18:58:00 2019-04-01 20:35:00  EI-DAC  PMO  MXP  4.0   \n",
              "4      2019-04-01 05:30:00 2019-04-01 07:25:00  EI-DAD  OPO  BCN  4.0   \n",
              "...                    ...                 ...     ...  ...  ...  ...   \n",
              "750949 2019-09-09 18:21:00 2019-09-09 19:58:00  EI-GXN  TSF  CTA  9.0   \n",
              "750950 2019-09-09 07:49:00 2019-09-09 10:20:00     NaN  BLQ  SVQ  9.0   \n",
              "750951 2019-09-09 09:10:00 2019-09-09 10:28:00     NaN  ORK  LGW  9.0   \n",
              "750952 2019-09-09 12:20:00 2019-09-09 12:54:00     NaN  TNG  SVQ  9.0   \n",
              "750953 2019-09-09 15:13:00 2019-09-09 18:00:00     NaN  SVQ  BRI  9.0   \n",
              "\n",
              "        Setmana  DiaSetmana DiaSetmanaName  Hour  DuracionVueloTeorico1  \\\n",
              "0          14.0         0.0         Monday  10.0                  140.0   \n",
              "1          14.0         0.0         Monday  13.0                  145.0   \n",
              "2          14.0         0.0         Monday  16.0                  110.0   \n",
              "3          14.0         0.0         Monday  18.0                  110.0   \n",
              "4          14.0         0.0         Monday   5.0                  110.0   \n",
              "...         ...         ...            ...   ...                    ...   \n",
              "750949     37.0         0.0         Monday  18.0                  100.0   \n",
              "750950     37.0         0.0         Monday   7.0                  160.0   \n",
              "750951     37.0         0.0         Monday   9.0                   85.0   \n",
              "750952     37.0         0.0         Monday  12.0                   50.0   \n",
              "750953     37.0         0.0         Monday  15.0                  170.0   \n",
              "\n",
              "        DuracionVueloReal1  E_Duracion_Vuelo1  E_Puntualidad1  E_Despegue1  \\\n",
              "0                    132.0               -8.0             5.0         13.0   \n",
              "1                    143.0               -2.0            18.0         20.0   \n",
              "2                    100.0              -10.0            20.0         30.0   \n",
              "3                     97.0              -13.0             0.0         13.0   \n",
              "4                    115.0                5.0             5.0          0.0   \n",
              "...                    ...                ...             ...          ...   \n",
              "750949                97.0               -3.0            -7.0         -4.0   \n",
              "750950               151.0               -9.0           -15.0         -6.0   \n",
              "750951                78.0               -7.0            -7.0          0.0   \n",
              "750952                34.0              -16.0           -16.0          0.0   \n",
              "750953               167.0               -3.0            -5.0         -2.0   \n",
              "\n",
              "        Secuencia  \n",
              "0             1.0  \n",
              "1             2.0  \n",
              "2             3.0  \n",
              "3             4.0  \n",
              "4             1.0  \n",
              "...           ...  \n",
              "750949        6.0  \n",
              "750950     2909.0  \n",
              "750951     2910.0  \n",
              "750952     2911.0  \n",
              "750953     2912.0  \n",
              "\n",
              "[750954 rows x 19 columns]"
            ],
            "text/html": [
              "\n",
              "  <div id=\"df-f33bacd4-9a64-49f9-9f24-a24e05361a92\">\n",
              "    <div class=\"colab-df-container\">\n",
              "      <div>\n",
              "<style scoped>\n",
              "    .dataframe tbody tr th:only-of-type {\n",
              "        vertical-align: middle;\n",
              "    }\n",
              "\n",
              "    .dataframe tbody tr th {\n",
              "        vertical-align: top;\n",
              "    }\n",
              "\n",
              "    .dataframe thead th {\n",
              "        text-align: right;\n",
              "    }\n",
              "</style>\n",
              "<table border=\"1\" class=\"dataframe\">\n",
              "  <thead>\n",
              "    <tr style=\"text-align: right;\">\n",
              "      <th></th>\n",
              "      <th>DATE</th>\n",
              "      <th>STD</th>\n",
              "      <th>STA</th>\n",
              "      <th>ATD</th>\n",
              "      <th>ATA</th>\n",
              "      <th>REG</th>\n",
              "      <th>DEP</th>\n",
              "      <th>ARR</th>\n",
              "      <th>MES</th>\n",
              "      <th>Setmana</th>\n",
              "      <th>DiaSetmana</th>\n",
              "      <th>DiaSetmanaName</th>\n",
              "      <th>Hour</th>\n",
              "      <th>DuracionVueloTeorico1</th>\n",
              "      <th>DuracionVueloReal1</th>\n",
              "      <th>E_Duracion_Vuelo1</th>\n",
              "      <th>E_Puntualidad1</th>\n",
              "      <th>E_Despegue1</th>\n",
              "      <th>Secuencia</th>\n",
              "    </tr>\n",
              "  </thead>\n",
              "  <tbody>\n",
              "    <tr>\n",
              "      <th>0</th>\n",
              "      <td>1 de abril de 2019</td>\n",
              "      <td>2019-04-01 10:30:00</td>\n",
              "      <td>2019-04-01 12:50:00</td>\n",
              "      <td>2019-04-01 10:43:00</td>\n",
              "      <td>2019-04-01 12:55:00</td>\n",
              "      <td>EI-DAC</td>\n",
              "      <td>MXP</td>\n",
              "      <td>OTP</td>\n",
              "      <td>4.0</td>\n",
              "      <td>14.0</td>\n",
              "      <td>0.0</td>\n",
              "      <td>Monday</td>\n",
              "      <td>10.0</td>\n",
              "      <td>140.0</td>\n",
              "      <td>132.0</td>\n",
              "      <td>-8.0</td>\n",
              "      <td>5.0</td>\n",
              "      <td>13.0</td>\n",
              "      <td>1.0</td>\n",
              "    </tr>\n",
              "    <tr>\n",
              "      <th>1</th>\n",
              "      <td>1 de abril de 2019</td>\n",
              "      <td>2019-04-01 13:20:00</td>\n",
              "      <td>2019-04-01 15:45:00</td>\n",
              "      <td>2019-04-01 13:40:00</td>\n",
              "      <td>2019-04-01 16:03:00</td>\n",
              "      <td>EI-DAC</td>\n",
              "      <td>OTP</td>\n",
              "      <td>MXP</td>\n",
              "      <td>4.0</td>\n",
              "      <td>14.0</td>\n",
              "      <td>0.0</td>\n",
              "      <td>Monday</td>\n",
              "      <td>13.0</td>\n",
              "      <td>145.0</td>\n",
              "      <td>143.0</td>\n",
              "      <td>-2.0</td>\n",
              "      <td>18.0</td>\n",
              "      <td>20.0</td>\n",
              "      <td>2.0</td>\n",
              "    </tr>\n",
              "    <tr>\n",
              "      <th>2</th>\n",
              "      <td>1 de abril de 2019</td>\n",
              "      <td>2019-04-01 16:10:00</td>\n",
              "      <td>2019-04-01 18:00:00</td>\n",
              "      <td>2019-04-01 16:40:00</td>\n",
              "      <td>2019-04-01 18:20:00</td>\n",
              "      <td>EI-DAC</td>\n",
              "      <td>MXP</td>\n",
              "      <td>PMO</td>\n",
              "      <td>4.0</td>\n",
              "      <td>14.0</td>\n",
              "      <td>0.0</td>\n",
              "      <td>Monday</td>\n",
              "      <td>16.0</td>\n",
              "      <td>110.0</td>\n",
              "      <td>100.0</td>\n",
              "      <td>-10.0</td>\n",
              "      <td>20.0</td>\n",
              "      <td>30.0</td>\n",
              "      <td>3.0</td>\n",
              "    </tr>\n",
              "    <tr>\n",
              "      <th>3</th>\n",
              "      <td>1 de abril de 2019</td>\n",
              "      <td>2019-04-01 18:45:00</td>\n",
              "      <td>2019-04-01 20:35:00</td>\n",
              "      <td>2019-04-01 18:58:00</td>\n",
              "      <td>2019-04-01 20:35:00</td>\n",
              "      <td>EI-DAC</td>\n",
              "      <td>PMO</td>\n",
              "      <td>MXP</td>\n",
              "      <td>4.0</td>\n",
              "      <td>14.0</td>\n",
              "      <td>0.0</td>\n",
              "      <td>Monday</td>\n",
              "      <td>18.0</td>\n",
              "      <td>110.0</td>\n",
              "      <td>97.0</td>\n",
              "      <td>-13.0</td>\n",
              "      <td>0.0</td>\n",
              "      <td>13.0</td>\n",
              "      <td>4.0</td>\n",
              "    </tr>\n",
              "    <tr>\n",
              "      <th>4</th>\n",
              "      <td>1 de abril de 2019</td>\n",
              "      <td>2019-04-01 05:30:00</td>\n",
              "      <td>2019-04-01 07:20:00</td>\n",
              "      <td>2019-04-01 05:30:00</td>\n",
              "      <td>2019-04-01 07:25:00</td>\n",
              "      <td>EI-DAD</td>\n",
              "      <td>OPO</td>\n",
              "      <td>BCN</td>\n",
              "      <td>4.0</td>\n",
              "      <td>14.0</td>\n",
              "      <td>0.0</td>\n",
              "      <td>Monday</td>\n",
              "      <td>5.0</td>\n",
              "      <td>110.0</td>\n",
              "      <td>115.0</td>\n",
              "      <td>5.0</td>\n",
              "      <td>5.0</td>\n",
              "      <td>0.0</td>\n",
              "      <td>1.0</td>\n",
              "    </tr>\n",
              "    <tr>\n",
              "      <th>...</th>\n",
              "      <td>...</td>\n",
              "      <td>...</td>\n",
              "      <td>...</td>\n",
              "      <td>...</td>\n",
              "      <td>...</td>\n",
              "      <td>...</td>\n",
              "      <td>...</td>\n",
              "      <td>...</td>\n",
              "      <td>...</td>\n",
              "      <td>...</td>\n",
              "      <td>...</td>\n",
              "      <td>...</td>\n",
              "      <td>...</td>\n",
              "      <td>...</td>\n",
              "      <td>...</td>\n",
              "      <td>...</td>\n",
              "      <td>...</td>\n",
              "      <td>...</td>\n",
              "      <td>...</td>\n",
              "    </tr>\n",
              "    <tr>\n",
              "      <th>750949</th>\n",
              "      <td>9 de septiembre de 2019</td>\n",
              "      <td>2019-09-09 18:25:00</td>\n",
              "      <td>2019-09-09 20:05:00</td>\n",
              "      <td>2019-09-09 18:21:00</td>\n",
              "      <td>2019-09-09 19:58:00</td>\n",
              "      <td>EI-GXN</td>\n",
              "      <td>TSF</td>\n",
              "      <td>CTA</td>\n",
              "      <td>9.0</td>\n",
              "      <td>37.0</td>\n",
              "      <td>0.0</td>\n",
              "      <td>Monday</td>\n",
              "      <td>18.0</td>\n",
              "      <td>100.0</td>\n",
              "      <td>97.0</td>\n",
              "      <td>-3.0</td>\n",
              "      <td>-7.0</td>\n",
              "      <td>-4.0</td>\n",
              "      <td>6.0</td>\n",
              "    </tr>\n",
              "    <tr>\n",
              "      <th>750950</th>\n",
              "      <td>9 de septiembre de 2019</td>\n",
              "      <td>2019-09-09 07:55:00</td>\n",
              "      <td>2019-09-09 10:35:00</td>\n",
              "      <td>2019-09-09 07:49:00</td>\n",
              "      <td>2019-09-09 10:20:00</td>\n",
              "      <td>NaN</td>\n",
              "      <td>BLQ</td>\n",
              "      <td>SVQ</td>\n",
              "      <td>9.0</td>\n",
              "      <td>37.0</td>\n",
              "      <td>0.0</td>\n",
              "      <td>Monday</td>\n",
              "      <td>7.0</td>\n",
              "      <td>160.0</td>\n",
              "      <td>151.0</td>\n",
              "      <td>-9.0</td>\n",
              "      <td>-15.0</td>\n",
              "      <td>-6.0</td>\n",
              "      <td>2909.0</td>\n",
              "    </tr>\n",
              "    <tr>\n",
              "      <th>750951</th>\n",
              "      <td>9 de septiembre de 2019</td>\n",
              "      <td>2019-09-09 09:10:00</td>\n",
              "      <td>2019-09-09 10:35:00</td>\n",
              "      <td>2019-09-09 09:10:00</td>\n",
              "      <td>2019-09-09 10:28:00</td>\n",
              "      <td>NaN</td>\n",
              "      <td>ORK</td>\n",
              "      <td>LGW</td>\n",
              "      <td>9.0</td>\n",
              "      <td>37.0</td>\n",
              "      <td>0.0</td>\n",
              "      <td>Monday</td>\n",
              "      <td>9.0</td>\n",
              "      <td>85.0</td>\n",
              "      <td>78.0</td>\n",
              "      <td>-7.0</td>\n",
              "      <td>-7.0</td>\n",
              "      <td>0.0</td>\n",
              "      <td>2910.0</td>\n",
              "    </tr>\n",
              "    <tr>\n",
              "      <th>750952</th>\n",
              "      <td>9 de septiembre de 2019</td>\n",
              "      <td>2019-09-09 12:20:00</td>\n",
              "      <td>2019-09-09 13:10:00</td>\n",
              "      <td>2019-09-09 12:20:00</td>\n",
              "      <td>2019-09-09 12:54:00</td>\n",
              "      <td>NaN</td>\n",
              "      <td>TNG</td>\n",
              "      <td>SVQ</td>\n",
              "      <td>9.0</td>\n",
              "      <td>37.0</td>\n",
              "      <td>0.0</td>\n",
              "      <td>Monday</td>\n",
              "      <td>12.0</td>\n",
              "      <td>50.0</td>\n",
              "      <td>34.0</td>\n",
              "      <td>-16.0</td>\n",
              "      <td>-16.0</td>\n",
              "      <td>0.0</td>\n",
              "      <td>2911.0</td>\n",
              "    </tr>\n",
              "    <tr>\n",
              "      <th>750953</th>\n",
              "      <td>9 de septiembre de 2019</td>\n",
              "      <td>2019-09-09 15:15:00</td>\n",
              "      <td>2019-09-09 18:05:00</td>\n",
              "      <td>2019-09-09 15:13:00</td>\n",
              "      <td>2019-09-09 18:00:00</td>\n",
              "      <td>NaN</td>\n",
              "      <td>SVQ</td>\n",
              "      <td>BRI</td>\n",
              "      <td>9.0</td>\n",
              "      <td>37.0</td>\n",
              "      <td>0.0</td>\n",
              "      <td>Monday</td>\n",
              "      <td>15.0</td>\n",
              "      <td>170.0</td>\n",
              "      <td>167.0</td>\n",
              "      <td>-3.0</td>\n",
              "      <td>-5.0</td>\n",
              "      <td>-2.0</td>\n",
              "      <td>2912.0</td>\n",
              "    </tr>\n",
              "  </tbody>\n",
              "</table>\n",
              "<p>750954 rows × 19 columns</p>\n",
              "</div>\n",
              "      <button class=\"colab-df-convert\" onclick=\"convertToInteractive('df-f33bacd4-9a64-49f9-9f24-a24e05361a92')\"\n",
              "              title=\"Convert this dataframe to an interactive table.\"\n",
              "              style=\"display:none;\">\n",
              "        \n",
              "  <svg xmlns=\"http://www.w3.org/2000/svg\" height=\"24px\"viewBox=\"0 0 24 24\"\n",
              "       width=\"24px\">\n",
              "    <path d=\"M0 0h24v24H0V0z\" fill=\"none\"/>\n",
              "    <path d=\"M18.56 5.44l.94 2.06.94-2.06 2.06-.94-2.06-.94-.94-2.06-.94 2.06-2.06.94zm-11 1L8.5 8.5l.94-2.06 2.06-.94-2.06-.94L8.5 2.5l-.94 2.06-2.06.94zm10 10l.94 2.06.94-2.06 2.06-.94-2.06-.94-.94-2.06-.94 2.06-2.06.94z\"/><path d=\"M17.41 7.96l-1.37-1.37c-.4-.4-.92-.59-1.43-.59-.52 0-1.04.2-1.43.59L10.3 9.45l-7.72 7.72c-.78.78-.78 2.05 0 2.83L4 21.41c.39.39.9.59 1.41.59.51 0 1.02-.2 1.41-.59l7.78-7.78 2.81-2.81c.8-.78.8-2.07 0-2.86zM5.41 20L4 18.59l7.72-7.72 1.47 1.35L5.41 20z\"/>\n",
              "  </svg>\n",
              "      </button>\n",
              "      \n",
              "  <style>\n",
              "    .colab-df-container {\n",
              "      display:flex;\n",
              "      flex-wrap:wrap;\n",
              "      gap: 12px;\n",
              "    }\n",
              "\n",
              "    .colab-df-convert {\n",
              "      background-color: #E8F0FE;\n",
              "      border: none;\n",
              "      border-radius: 50%;\n",
              "      cursor: pointer;\n",
              "      display: none;\n",
              "      fill: #1967D2;\n",
              "      height: 32px;\n",
              "      padding: 0 0 0 0;\n",
              "      width: 32px;\n",
              "    }\n",
              "\n",
              "    .colab-df-convert:hover {\n",
              "      background-color: #E2EBFA;\n",
              "      box-shadow: 0px 1px 2px rgba(60, 64, 67, 0.3), 0px 1px 3px 1px rgba(60, 64, 67, 0.15);\n",
              "      fill: #174EA6;\n",
              "    }\n",
              "\n",
              "    [theme=dark] .colab-df-convert {\n",
              "      background-color: #3B4455;\n",
              "      fill: #D2E3FC;\n",
              "    }\n",
              "\n",
              "    [theme=dark] .colab-df-convert:hover {\n",
              "      background-color: #434B5C;\n",
              "      box-shadow: 0px 1px 3px 1px rgba(0, 0, 0, 0.15);\n",
              "      filter: drop-shadow(0px 1px 2px rgba(0, 0, 0, 0.3));\n",
              "      fill: #FFFFFF;\n",
              "    }\n",
              "  </style>\n",
              "\n",
              "      <script>\n",
              "        const buttonEl =\n",
              "          document.querySelector('#df-f33bacd4-9a64-49f9-9f24-a24e05361a92 button.colab-df-convert');\n",
              "        buttonEl.style.display =\n",
              "          google.colab.kernel.accessAllowed ? 'block' : 'none';\n",
              "\n",
              "        async function convertToInteractive(key) {\n",
              "          const element = document.querySelector('#df-f33bacd4-9a64-49f9-9f24-a24e05361a92');\n",
              "          const dataTable =\n",
              "            await google.colab.kernel.invokeFunction('convertToInteractive',\n",
              "                                                     [key], {});\n",
              "          if (!dataTable) return;\n",
              "\n",
              "          const docLinkHtml = 'Like what you see? Visit the ' +\n",
              "            '<a target=\"_blank\" href=https://colab.research.google.com/notebooks/data_table.ipynb>data table notebook</a>'\n",
              "            + ' to learn more about interactive tables.';\n",
              "          element.innerHTML = '';\n",
              "          dataTable['output_type'] = 'display_data';\n",
              "          await google.colab.output.renderOutput(dataTable, element);\n",
              "          const docLink = document.createElement('div');\n",
              "          docLink.innerHTML = docLinkHtml;\n",
              "          element.appendChild(docLink);\n",
              "        }\n",
              "      </script>\n",
              "    </div>\n",
              "  </div>\n",
              "  "
            ]
          },
          "metadata": {},
          "execution_count": 72
        }
      ]
    },
    {
      "cell_type": "code",
      "source": [],
      "metadata": {
        "id": "xGKRSMjofat1"
      },
      "execution_count": 72,
      "outputs": []
    },
    {
      "cell_type": "code",
      "source": [
        "#Calculo error primer despegue despegue:\n"
      ],
      "metadata": {
        "id": "_xkeo6wliHos"
      },
      "execution_count": 73,
      "outputs": []
    },
    {
      "cell_type": "code",
      "source": [
        "df.head()"
      ],
      "metadata": {
        "colab": {
          "base_uri": "https://localhost:8080/",
          "height": 206
        },
        "id": "ZvUGG82shjLn",
        "outputId": "eb01bd91-da4c-4f0a-9d9c-8afec7cb6b2b"
      },
      "execution_count": 74,
      "outputs": [
        {
          "output_type": "execute_result",
          "data": {
            "text/plain": [
              "                 DATE                 STD                 STA  \\\n",
              "0  1 de abril de 2019 2019-04-01 10:30:00 2019-04-01 12:50:00   \n",
              "1  1 de abril de 2019 2019-04-01 13:20:00 2019-04-01 15:45:00   \n",
              "2  1 de abril de 2019 2019-04-01 16:10:00 2019-04-01 18:00:00   \n",
              "3  1 de abril de 2019 2019-04-01 18:45:00 2019-04-01 20:35:00   \n",
              "4  1 de abril de 2019 2019-04-01 05:30:00 2019-04-01 07:20:00   \n",
              "\n",
              "                  ATD                 ATA     REG  DEP  ARR  MES  Setmana  \\\n",
              "0 2019-04-01 10:43:00 2019-04-01 12:55:00  EI-DAC  MXP  OTP  4.0     14.0   \n",
              "1 2019-04-01 13:40:00 2019-04-01 16:03:00  EI-DAC  OTP  MXP  4.0     14.0   \n",
              "2 2019-04-01 16:40:00 2019-04-01 18:20:00  EI-DAC  MXP  PMO  4.0     14.0   \n",
              "3 2019-04-01 18:58:00 2019-04-01 20:35:00  EI-DAC  PMO  MXP  4.0     14.0   \n",
              "4 2019-04-01 05:30:00 2019-04-01 07:25:00  EI-DAD  OPO  BCN  4.0     14.0   \n",
              "\n",
              "   DiaSetmana DiaSetmanaName  Hour  DuracionVueloTeorico1  DuracionVueloReal1  \\\n",
              "0         0.0         Monday  10.0                  140.0               132.0   \n",
              "1         0.0         Monday  13.0                  145.0               143.0   \n",
              "2         0.0         Monday  16.0                  110.0               100.0   \n",
              "3         0.0         Monday  18.0                  110.0                97.0   \n",
              "4         0.0         Monday   5.0                  110.0               115.0   \n",
              "\n",
              "   E_Duracion_Vuelo1  E_Puntualidad1  E_Despegue1  Secuencia  \n",
              "0               -8.0             5.0         13.0        1.0  \n",
              "1               -2.0            18.0         20.0        2.0  \n",
              "2              -10.0            20.0         30.0        3.0  \n",
              "3              -13.0             0.0         13.0        4.0  \n",
              "4                5.0             5.0          0.0        1.0  "
            ],
            "text/html": [
              "\n",
              "  <div id=\"df-82457d90-b8ef-4284-99ae-bcd12a552543\">\n",
              "    <div class=\"colab-df-container\">\n",
              "      <div>\n",
              "<style scoped>\n",
              "    .dataframe tbody tr th:only-of-type {\n",
              "        vertical-align: middle;\n",
              "    }\n",
              "\n",
              "    .dataframe tbody tr th {\n",
              "        vertical-align: top;\n",
              "    }\n",
              "\n",
              "    .dataframe thead th {\n",
              "        text-align: right;\n",
              "    }\n",
              "</style>\n",
              "<table border=\"1\" class=\"dataframe\">\n",
              "  <thead>\n",
              "    <tr style=\"text-align: right;\">\n",
              "      <th></th>\n",
              "      <th>DATE</th>\n",
              "      <th>STD</th>\n",
              "      <th>STA</th>\n",
              "      <th>ATD</th>\n",
              "      <th>ATA</th>\n",
              "      <th>REG</th>\n",
              "      <th>DEP</th>\n",
              "      <th>ARR</th>\n",
              "      <th>MES</th>\n",
              "      <th>Setmana</th>\n",
              "      <th>DiaSetmana</th>\n",
              "      <th>DiaSetmanaName</th>\n",
              "      <th>Hour</th>\n",
              "      <th>DuracionVueloTeorico1</th>\n",
              "      <th>DuracionVueloReal1</th>\n",
              "      <th>E_Duracion_Vuelo1</th>\n",
              "      <th>E_Puntualidad1</th>\n",
              "      <th>E_Despegue1</th>\n",
              "      <th>Secuencia</th>\n",
              "    </tr>\n",
              "  </thead>\n",
              "  <tbody>\n",
              "    <tr>\n",
              "      <th>0</th>\n",
              "      <td>1 de abril de 2019</td>\n",
              "      <td>2019-04-01 10:30:00</td>\n",
              "      <td>2019-04-01 12:50:00</td>\n",
              "      <td>2019-04-01 10:43:00</td>\n",
              "      <td>2019-04-01 12:55:00</td>\n",
              "      <td>EI-DAC</td>\n",
              "      <td>MXP</td>\n",
              "      <td>OTP</td>\n",
              "      <td>4.0</td>\n",
              "      <td>14.0</td>\n",
              "      <td>0.0</td>\n",
              "      <td>Monday</td>\n",
              "      <td>10.0</td>\n",
              "      <td>140.0</td>\n",
              "      <td>132.0</td>\n",
              "      <td>-8.0</td>\n",
              "      <td>5.0</td>\n",
              "      <td>13.0</td>\n",
              "      <td>1.0</td>\n",
              "    </tr>\n",
              "    <tr>\n",
              "      <th>1</th>\n",
              "      <td>1 de abril de 2019</td>\n",
              "      <td>2019-04-01 13:20:00</td>\n",
              "      <td>2019-04-01 15:45:00</td>\n",
              "      <td>2019-04-01 13:40:00</td>\n",
              "      <td>2019-04-01 16:03:00</td>\n",
              "      <td>EI-DAC</td>\n",
              "      <td>OTP</td>\n",
              "      <td>MXP</td>\n",
              "      <td>4.0</td>\n",
              "      <td>14.0</td>\n",
              "      <td>0.0</td>\n",
              "      <td>Monday</td>\n",
              "      <td>13.0</td>\n",
              "      <td>145.0</td>\n",
              "      <td>143.0</td>\n",
              "      <td>-2.0</td>\n",
              "      <td>18.0</td>\n",
              "      <td>20.0</td>\n",
              "      <td>2.0</td>\n",
              "    </tr>\n",
              "    <tr>\n",
              "      <th>2</th>\n",
              "      <td>1 de abril de 2019</td>\n",
              "      <td>2019-04-01 16:10:00</td>\n",
              "      <td>2019-04-01 18:00:00</td>\n",
              "      <td>2019-04-01 16:40:00</td>\n",
              "      <td>2019-04-01 18:20:00</td>\n",
              "      <td>EI-DAC</td>\n",
              "      <td>MXP</td>\n",
              "      <td>PMO</td>\n",
              "      <td>4.0</td>\n",
              "      <td>14.0</td>\n",
              "      <td>0.0</td>\n",
              "      <td>Monday</td>\n",
              "      <td>16.0</td>\n",
              "      <td>110.0</td>\n",
              "      <td>100.0</td>\n",
              "      <td>-10.0</td>\n",
              "      <td>20.0</td>\n",
              "      <td>30.0</td>\n",
              "      <td>3.0</td>\n",
              "    </tr>\n",
              "    <tr>\n",
              "      <th>3</th>\n",
              "      <td>1 de abril de 2019</td>\n",
              "      <td>2019-04-01 18:45:00</td>\n",
              "      <td>2019-04-01 20:35:00</td>\n",
              "      <td>2019-04-01 18:58:00</td>\n",
              "      <td>2019-04-01 20:35:00</td>\n",
              "      <td>EI-DAC</td>\n",
              "      <td>PMO</td>\n",
              "      <td>MXP</td>\n",
              "      <td>4.0</td>\n",
              "      <td>14.0</td>\n",
              "      <td>0.0</td>\n",
              "      <td>Monday</td>\n",
              "      <td>18.0</td>\n",
              "      <td>110.0</td>\n",
              "      <td>97.0</td>\n",
              "      <td>-13.0</td>\n",
              "      <td>0.0</td>\n",
              "      <td>13.0</td>\n",
              "      <td>4.0</td>\n",
              "    </tr>\n",
              "    <tr>\n",
              "      <th>4</th>\n",
              "      <td>1 de abril de 2019</td>\n",
              "      <td>2019-04-01 05:30:00</td>\n",
              "      <td>2019-04-01 07:20:00</td>\n",
              "      <td>2019-04-01 05:30:00</td>\n",
              "      <td>2019-04-01 07:25:00</td>\n",
              "      <td>EI-DAD</td>\n",
              "      <td>OPO</td>\n",
              "      <td>BCN</td>\n",
              "      <td>4.0</td>\n",
              "      <td>14.0</td>\n",
              "      <td>0.0</td>\n",
              "      <td>Monday</td>\n",
              "      <td>5.0</td>\n",
              "      <td>110.0</td>\n",
              "      <td>115.0</td>\n",
              "      <td>5.0</td>\n",
              "      <td>5.0</td>\n",
              "      <td>0.0</td>\n",
              "      <td>1.0</td>\n",
              "    </tr>\n",
              "  </tbody>\n",
              "</table>\n",
              "</div>\n",
              "      <button class=\"colab-df-convert\" onclick=\"convertToInteractive('df-82457d90-b8ef-4284-99ae-bcd12a552543')\"\n",
              "              title=\"Convert this dataframe to an interactive table.\"\n",
              "              style=\"display:none;\">\n",
              "        \n",
              "  <svg xmlns=\"http://www.w3.org/2000/svg\" height=\"24px\"viewBox=\"0 0 24 24\"\n",
              "       width=\"24px\">\n",
              "    <path d=\"M0 0h24v24H0V0z\" fill=\"none\"/>\n",
              "    <path d=\"M18.56 5.44l.94 2.06.94-2.06 2.06-.94-2.06-.94-.94-2.06-.94 2.06-2.06.94zm-11 1L8.5 8.5l.94-2.06 2.06-.94-2.06-.94L8.5 2.5l-.94 2.06-2.06.94zm10 10l.94 2.06.94-2.06 2.06-.94-2.06-.94-.94-2.06-.94 2.06-2.06.94z\"/><path d=\"M17.41 7.96l-1.37-1.37c-.4-.4-.92-.59-1.43-.59-.52 0-1.04.2-1.43.59L10.3 9.45l-7.72 7.72c-.78.78-.78 2.05 0 2.83L4 21.41c.39.39.9.59 1.41.59.51 0 1.02-.2 1.41-.59l7.78-7.78 2.81-2.81c.8-.78.8-2.07 0-2.86zM5.41 20L4 18.59l7.72-7.72 1.47 1.35L5.41 20z\"/>\n",
              "  </svg>\n",
              "      </button>\n",
              "      \n",
              "  <style>\n",
              "    .colab-df-container {\n",
              "      display:flex;\n",
              "      flex-wrap:wrap;\n",
              "      gap: 12px;\n",
              "    }\n",
              "\n",
              "    .colab-df-convert {\n",
              "      background-color: #E8F0FE;\n",
              "      border: none;\n",
              "      border-radius: 50%;\n",
              "      cursor: pointer;\n",
              "      display: none;\n",
              "      fill: #1967D2;\n",
              "      height: 32px;\n",
              "      padding: 0 0 0 0;\n",
              "      width: 32px;\n",
              "    }\n",
              "\n",
              "    .colab-df-convert:hover {\n",
              "      background-color: #E2EBFA;\n",
              "      box-shadow: 0px 1px 2px rgba(60, 64, 67, 0.3), 0px 1px 3px 1px rgba(60, 64, 67, 0.15);\n",
              "      fill: #174EA6;\n",
              "    }\n",
              "\n",
              "    [theme=dark] .colab-df-convert {\n",
              "      background-color: #3B4455;\n",
              "      fill: #D2E3FC;\n",
              "    }\n",
              "\n",
              "    [theme=dark] .colab-df-convert:hover {\n",
              "      background-color: #434B5C;\n",
              "      box-shadow: 0px 1px 3px 1px rgba(0, 0, 0, 0.15);\n",
              "      filter: drop-shadow(0px 1px 2px rgba(0, 0, 0, 0.3));\n",
              "      fill: #FFFFFF;\n",
              "    }\n",
              "  </style>\n",
              "\n",
              "      <script>\n",
              "        const buttonEl =\n",
              "          document.querySelector('#df-82457d90-b8ef-4284-99ae-bcd12a552543 button.colab-df-convert');\n",
              "        buttonEl.style.display =\n",
              "          google.colab.kernel.accessAllowed ? 'block' : 'none';\n",
              "\n",
              "        async function convertToInteractive(key) {\n",
              "          const element = document.querySelector('#df-82457d90-b8ef-4284-99ae-bcd12a552543');\n",
              "          const dataTable =\n",
              "            await google.colab.kernel.invokeFunction('convertToInteractive',\n",
              "                                                     [key], {});\n",
              "          if (!dataTable) return;\n",
              "\n",
              "          const docLinkHtml = 'Like what you see? Visit the ' +\n",
              "            '<a target=\"_blank\" href=https://colab.research.google.com/notebooks/data_table.ipynb>data table notebook</a>'\n",
              "            + ' to learn more about interactive tables.';\n",
              "          element.innerHTML = '';\n",
              "          dataTable['output_type'] = 'display_data';\n",
              "          await google.colab.output.renderOutput(dataTable, element);\n",
              "          const docLink = document.createElement('div');\n",
              "          docLink.innerHTML = docLinkHtml;\n",
              "          element.appendChild(docLink);\n",
              "        }\n",
              "      </script>\n",
              "    </div>\n",
              "  </div>\n",
              "  "
            ]
          },
          "metadata": {},
          "execution_count": 74
        }
      ]
    },
    {
      "cell_type": "code",
      "source": [
        "plt.figure(figsize = (15,8))\n",
        "p= sns.histplot(data= df.E_Puntualidad1, kde= True)\n",
        "p.axvline(x = 0, ymin=0, ymax= 12, color='red', linestyle= 'dashdot') # Objetivo\n",
        "p.set_title('Distribució Error Puntualitat', fontsize=25, color='green')\n",
        "p.set_xlabel(\"Error (minuts)\", fontsize = 20)"
      ],
      "metadata": {
        "colab": {
          "base_uri": "https://localhost:8080/",
          "height": 550
        },
        "id": "BXlwVOW3ifSU",
        "outputId": "09903c7a-2c3a-43be-92a5-72303f33c3d0"
      },
      "execution_count": 75,
      "outputs": [
        {
          "output_type": "execute_result",
          "data": {
            "text/plain": [
              "Text(0.5, 0, 'Error (minuts)')"
            ]
          },
          "metadata": {},
          "execution_count": 75
        },
        {
          "output_type": "display_data",
          "data": {
            "text/plain": [
              "<Figure size 1080x576 with 1 Axes>"
            ],
            "image/png": "[encoded data removed]"
          },
          "metadata": {}
        }
      ]
    },
    {
      "cell_type": "code",
      "source": [
        "# Eliminar los outliers\n",
        "df2=df.copy()\n",
        "dfEliminarOutliers= ( (df2['E_Puntualidad1']< 30) & (df2['E_Puntualidad1']> -30))\n",
        "\n",
        "df2 = df2[dfEliminarOutliers]\n",
        "#\n",
        "plt.figure(figsize = (15,8))\n",
        "p= sns.histplot(data= df2.E_Puntualidad1, kde= True)\n",
        "p.set_title(\"Error de puntualitat filtrat\", fontsize=25, color='green')\n",
        "\n",
        "mediaFiltrada = round(df2['E_Puntualidad1'].mean(),2)\n",
        "p.axvline(mediaFiltrada, 0,12, color = 'green')                       # Media real\n",
        "p.axvline(x = 0, ymin=0, ymax= 12, color='red', linestyle= 'dashdot') # Objetivo\n",
        "print()\n",
        "print('Mitjana filtrada = ', mediaFiltrada, 'minuts')\n",
        "#print(df2[['Secuencia', 'E_Despegue', 'AeropuertoKey1' ]]) \n",
        "p.set_xlabel(\"Error (minuts)\", fontsize = 20)"
      ],
      "metadata": {
        "colab": {
          "base_uri": "https://localhost:8080/",
          "height": 585
        },
        "id": "t-x8x7JcjvwE",
        "outputId": "89486b93-7fde-4f16-f994-2ade951783a6"
      },
      "execution_count": 76,
      "outputs": [
        {
          "output_type": "stream",
          "name": "stdout",
          "text": [
            "\n",
            "Mitjana filtrada =  -1.47 minuts\n"
          ]
        },
        {
          "output_type": "execute_result",
          "data": {
            "text/plain": [
              "Text(0.5, 0, 'Error (minuts)')"
            ]
          },
          "metadata": {},
          "execution_count": 76
        },
        {
          "output_type": "display_data",
          "data": {
            "text/plain": [
              "<Figure size 1080x576 with 1 Axes>"
            ],
            "image/png": "[encoded data removed]"
          },
          "metadata": {}
        }
      ]
    },
    {
      "cell_type": "code",
      "source": [
        "# Intervals de Confianza per salt\n",
        "\n",
        "sns.set_theme(style=\"darkgrid\")\n",
        "#tips = sns.df1(\"tips\")\n",
        "sns.set(rc = {'figure.figsize':(15,8)})      \n",
        "# Tamaño de la imagen\n",
        "ax = sns.pointplot(x='Secuencia', y = \"E_Puntualidad1\", data= df, scale=.1, kind = \"point\", capsize=0.13)\n",
        "\n",
        "puntualidadBCN = round((df['E_Puntualidad1'].mean()),2)#\n",
        "\n",
        "ax.axhline(puntualidadBCN, color=\"red\", linestyle = '--', label=\"ooas\")       # Linea 0 verde\n",
        "ax.axhline(0, color=\"green\", linestyle = '--')\n",
        "\n",
        "\n",
        "textoBCN = \"BCN puntualitat mitja\"+ str(puntualidadBCN) + ' minut.'\n",
        "ax.text(puntualidadBCN+5 ,puntualidadBCN , textoBCN, backgroundcolor='w')\n",
        "\n",
        "ax.set_title('Puntualitat enlairament per salt del dia:', fontsize = 24, color= 'green')\n",
        "\n",
        "#df['E_acumulado_Total'] = df[f'E_Despegue_Total'] + df[f'E_Duracion_Vuelo_Total'] + df[f'E_tierra_Total'] "
      ],
      "metadata": {
        "colab": {
          "base_uri": "https://localhost:8080/",
          "height": 544
        },
        "id": "Y3MZ_LlksKT2",
        "outputId": "5a54be6a-f2aa-4c29-9716-fc46a8010544"
      },
      "execution_count": 83,
      "outputs": [
        {
          "output_type": "execute_result",
          "data": {
            "text/plain": [
              "Text(0.5, 1.0, 'Puntualitat enlairament per salt del dia:')"
            ]
          },
          "metadata": {},
          "execution_count": 83
        },
        {
          "output_type": "display_data",
          "data": {
            "text/plain": [
              "<Figure size 1080x576 with 1 Axes>"
            ],
            "image/png": "[encoded data removed]"
          },
          "metadata": {}
        }
      ]
    },
    {
      "cell_type": "code",
      "source": [
        "guardar = 'No'\n",
        "# Guardar excel\n",
        "if guardar != 'No':\n",
        "  nombreFichero = \"D:\\Documentos D\\02.- Datos Vueling\\Ryainair2019_\" + Hoja + '_'+ str(fecha) + \".xlsx\"\n",
        "\n",
        "  df3.to_excel(nombreFichero)\n",
        "  print()\n",
        "  print('Guardado fichero : ', nombreFichero)\n",
        "  print()\n",
        "else:\n",
        "  print('No guardado')"
      ],
      "metadata": {
        "id": "XXdXM8-CJ_zk"
      },
      "execution_count": null,
      "outputs": []
    },
    {
      "cell_type": "code",
      "source": [
        "df.Secuencia.max()"
      ],
      "metadata": {
        "id": "LqMAjD-tKYYY",
        "outputId": "a55330cd-c64c-4db9-cb27-023b01cad750",
        "colab": {
          "base_uri": "https://localhost:8080/"
        }
      },
      "execution_count": 78,
      "outputs": [
        {
          "output_type": "execute_result",
          "data": {
            "text/plain": [
              "4149.5"
            ]
          },
          "metadata": {},
          "execution_count": 78
        }
      ]
    },
    {
      "cell_type": "code",
      "source": [
        "df2.Secuencia.max()"
      ],
      "metadata": {
        "id": "nl4sm8W6Lguj",
        "outputId": "d02805f5-106a-4341-8585-cfd4be8567a1",
        "colab": {
          "base_uri": "https://localhost:8080/"
        }
      },
      "execution_count": 84,
      "outputs": [
        {
          "output_type": "execute_result",
          "data": {
            "text/plain": [
              "4148.0"
            ]
          },
          "metadata": {},
          "execution_count": 84
        }
      ]
    },
    {
      "cell_type": "code",
      "source": [],
      "metadata": {
        "id": "U5S_sFFaLA4F"
      },
      "execution_count": null,
      "outputs": []
    }
  ]
}