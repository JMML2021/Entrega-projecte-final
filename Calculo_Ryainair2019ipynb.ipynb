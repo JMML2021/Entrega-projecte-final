{
  "nbformat": 4,
  "nbformat_minor": 0,
  "metadata": {
    "colab": {
      "provenance": [],
      "authorship_tag": "ABX9TyNwPZWzms3L0Q98U1kVgVnE",
      "include_colab_link": true
    },
    "kernelspec": {
      "name": "python3",
      "display_name": "Python 3"
    },
    "language_info": {
      "name": "python"
    }
  },
  "cells": [
    {
      "cell_type": "markdown",
      "metadata": {
        "id": "view-in-github",
        "colab_type": "text"
      },
      "source": [
        "<a href=\"https://colab.research.google.com/github/JMML2021/Entrega-projecte-final/blob/main/Calculo_Ryainair2019ipynb.ipynb\" target=\"_parent\"><img src=\"https://colab.research.google.com/assets/colab-badge.svg\" alt=\"Open In Colab\"/></a>"
      ]
    },
    {
      "cell_type": "code",
      "source": [
        "\n",
        "from google.colab import drive\n",
        "drive.mount('/content/drive')"
      ],
      "metadata": {
        "colab": {
          "base_uri": "https://localhost:8080/"
        },
        "id": "EAWm5lQjzs4J",
        "outputId": "cda9fea0-f830-458a-c976-895ca4cb2ae8"
      },
      "execution_count": 1,
      "outputs": [
        {
          "output_type": "stream",
          "name": "stdout",
          "text": [
            "Mounted at /content/drive\n"
          ]
        }
      ]
    },
    {
      "cell_type": "code",
      "execution_count": 2,
      "metadata": {
        "id": "JR55EsvjzZ6T"
      },
      "outputs": [],
      "source": [
        "# Importar librerias:\n",
        "\n",
        "import numpy as np\n",
        "import matplotlib as plt\n",
        "import pandas as pd\n",
        "import csv\n",
        "import seaborn as sns\n",
        "import datetime\n",
        "from datetime import timedelta\n",
        "\n",
        "import matplotlib.pyplot as plt\n",
        " "
      ]
    },
    {
      "cell_type": "code",
      "source": [
        "path= '/content/drive/MyDrive/Ficheros de Vueling/2019RyanairCORTO.xlsx'\n",
        "#path= '/content/drive/MyDrive/Ficheros de Vueling/2019Ryanair.xlsx'"
      ],
      "metadata": {
        "id": "r1_jzbl-zxKi"
      },
      "execution_count": 3,
      "outputs": []
    },
    {
      "cell_type": "code",
      "source": [
        "# Abrir fichero de Github. \n",
        "\n",
        "Hoja = '2019Ryamair'\n",
        "df = pd.read_excel(path, sheet_name=Hoja)\n"
      ],
      "metadata": {
        "id": "0SNK_cALz0lg"
      },
      "execution_count": 4,
      "outputs": []
    },
    {
      "cell_type": "code",
      "source": [
        "df.info()"
      ],
      "metadata": {
        "colab": {
          "base_uri": "https://localhost:8080/"
        },
        "id": "NIrPV5Ma-gPq",
        "outputId": "31001386-39a1-4c03-c8b3-22147f686fd3"
      },
      "execution_count": 5,
      "outputs": [
        {
          "output_type": "stream",
          "name": "stdout",
          "text": [
            "<class 'pandas.core.frame.DataFrame'>\n",
            "RangeIndex: 1007 entries, 0 to 1006\n",
            "Data columns (total 8 columns):\n",
            " #   Column                                       Non-Null Count  Dtype         \n",
            "---  ------                                       --------------  -----         \n",
            " 0   Mes, Día, Año de Flight_Date_Calculated_TST  1007 non-null   object        \n",
            " 1   scheduled_gate_departure                     1007 non-null   datetime64[ns]\n",
            " 2   scheduled_gate_arrival                       1007 non-null   datetime64[ns]\n",
            " 3   actual_gate_departure                        981 non-null    datetime64[ns]\n",
            " 4   actual_gate_arrival                          990 non-null    datetime64[ns]\n",
            " 5   tail_number                                  1007 non-null   object        \n",
            " 6   departure_airport_id                         1007 non-null   object        \n",
            " 7   arrival_at_cd_airport                        1003 non-null   object        \n",
            "dtypes: datetime64[ns](4), object(4)\n",
            "memory usage: 63.1+ KB\n"
          ]
        }
      ]
    },
    {
      "cell_type": "code",
      "source": [
        "# Los nombre de las columnas tienen muchos espacios en blanco\n",
        "\n",
        "nombreColumnas= df.columns\n",
        "nombreColumnas"
      ],
      "metadata": {
        "colab": {
          "base_uri": "https://localhost:8080/"
        },
        "id": "fRFHA19J-uYf",
        "outputId": "9aa75594-a459-4550-90c4-c5e9c86bbbb7"
      },
      "execution_count": 6,
      "outputs": [
        {
          "output_type": "execute_result",
          "data": {
            "text/plain": [
              "Index(['Mes, Día, Año de Flight_Date_Calculated_TST',\n",
              "       'scheduled_gate_departure', 'scheduled_gate_arrival',\n",
              "       'actual_gate_departure', 'actual_gate_arrival', 'tail_number',\n",
              "       'departure_airport_id', 'arrival_at_cd_airport'],\n",
              "      dtype='object')"
            ]
          },
          "metadata": {},
          "execution_count": 6
        }
      ]
    },
    {
      "cell_type": "code",
      "source": [
        "# Aqui corrijo los nombre de las columnas\n",
        "nombreColumnaCorregido= ['DATE', 'STD', 'STA', 'ATD','ATA', 'REG', 'DEP', 'ARR']\n",
        " \n",
        "                         \n",
        "# Proceso para cambiar el nombre de las columnas por un bucle FOR\n",
        "for n, m in enumerate(nombreColumnas):\n",
        "  print(n, m,'*',nombreColumnaCorregido[n],'-')\n",
        "  df.rename({m: nombreColumnaCorregido[n]}, axis=1, inplace=True)\n",
        "\n",
        "df.head()"
      ],
      "metadata": {
        "colab": {
          "base_uri": "https://localhost:8080/",
          "height": 345
        },
        "id": "yukvvRqJ-5my",
        "outputId": "5e5c2901-f876-40e0-f43d-c55c77fab6f2"
      },
      "execution_count": 7,
      "outputs": [
        {
          "output_type": "stream",
          "name": "stdout",
          "text": [
            "0 Mes, Día, Año de Flight_Date_Calculated_TST * DATE -\n",
            "1 scheduled_gate_departure * STD -\n",
            "2 scheduled_gate_arrival * STA -\n",
            "3 actual_gate_departure * ATD -\n",
            "4 actual_gate_arrival * ATA -\n",
            "5 tail_number * REG -\n",
            "6 departure_airport_id * DEP -\n",
            "7 arrival_at_cd_airport * ARR -\n"
          ]
        },
        {
          "output_type": "execute_result",
          "data": {
            "text/plain": [
              "                 DATE                 STD                 STA  \\\n",
              "0  1 de abril de 2019 2019-04-01 10:30:00 2019-04-01 12:50:00   \n",
              "1  1 de abril de 2019 2019-04-01 13:20:00 2019-04-01 15:45:00   \n",
              "2  1 de abril de 2019 2019-04-01 16:10:00 2019-04-01 18:00:00   \n",
              "3  1 de abril de 2019 2019-04-01 18:45:00 2019-04-01 20:35:00   \n",
              "4  1 de abril de 2019 2019-04-01 05:30:00 2019-04-01 07:20:00   \n",
              "\n",
              "                  ATD                 ATA     REG  DEP  ARR  \n",
              "0 2019-04-01 10:43:00 2019-04-01 12:55:00  EI-DAC  MXP  OTP  \n",
              "1 2019-04-01 13:40:00 2019-04-01 16:03:00  EI-DAC  OTP  MXP  \n",
              "2 2019-04-01 16:40:00 2019-04-01 18:20:00  EI-DAC  MXP  PMO  \n",
              "3 2019-04-01 18:58:00 2019-04-01 20:35:00  EI-DAC  PMO  MXP  \n",
              "4 2019-04-01 05:30:00 2019-04-01 07:25:00  EI-DAD  OPO  BCN  "
            ],
            "text/html": [
              "\n",
              "  <div id=\"df-4e3b2148-3cb3-4d32-a8c4-932772ee8615\">\n",
              "    <div class=\"colab-df-container\">\n",
              "      <div>\n",
              "<style scoped>\n",
              "    .dataframe tbody tr th:only-of-type {\n",
              "        vertical-align: middle;\n",
              "    }\n",
              "\n",
              "    .dataframe tbody tr th {\n",
              "        vertical-align: top;\n",
              "    }\n",
              "\n",
              "    .dataframe thead th {\n",
              "        text-align: right;\n",
              "    }\n",
              "</style>\n",
              "<table border=\"1\" class=\"dataframe\">\n",
              "  <thead>\n",
              "    <tr style=\"text-align: right;\">\n",
              "      <th></th>\n",
              "      <th>DATE</th>\n",
              "      <th>STD</th>\n",
              "      <th>STA</th>\n",
              "      <th>ATD</th>\n",
              "      <th>ATA</th>\n",
              "      <th>REG</th>\n",
              "      <th>DEP</th>\n",
              "      <th>ARR</th>\n",
              "    </tr>\n",
              "  </thead>\n",
              "  <tbody>\n",
              "    <tr>\n",
              "      <th>0</th>\n",
              "      <td>1 de abril de 2019</td>\n",
              "      <td>2019-04-01 10:30:00</td>\n",
              "      <td>2019-04-01 12:50:00</td>\n",
              "      <td>2019-04-01 10:43:00</td>\n",
              "      <td>2019-04-01 12:55:00</td>\n",
              "      <td>EI-DAC</td>\n",
              "      <td>MXP</td>\n",
              "      <td>OTP</td>\n",
              "    </tr>\n",
              "    <tr>\n",
              "      <th>1</th>\n",
              "      <td>1 de abril de 2019</td>\n",
              "      <td>2019-04-01 13:20:00</td>\n",
              "      <td>2019-04-01 15:45:00</td>\n",
              "      <td>2019-04-01 13:40:00</td>\n",
              "      <td>2019-04-01 16:03:00</td>\n",
              "      <td>EI-DAC</td>\n",
              "      <td>OTP</td>\n",
              "      <td>MXP</td>\n",
              "    </tr>\n",
              "    <tr>\n",
              "      <th>2</th>\n",
              "      <td>1 de abril de 2019</td>\n",
              "      <td>2019-04-01 16:10:00</td>\n",
              "      <td>2019-04-01 18:00:00</td>\n",
              "      <td>2019-04-01 16:40:00</td>\n",
              "      <td>2019-04-01 18:20:00</td>\n",
              "      <td>EI-DAC</td>\n",
              "      <td>MXP</td>\n",
              "      <td>PMO</td>\n",
              "    </tr>\n",
              "    <tr>\n",
              "      <th>3</th>\n",
              "      <td>1 de abril de 2019</td>\n",
              "      <td>2019-04-01 18:45:00</td>\n",
              "      <td>2019-04-01 20:35:00</td>\n",
              "      <td>2019-04-01 18:58:00</td>\n",
              "      <td>2019-04-01 20:35:00</td>\n",
              "      <td>EI-DAC</td>\n",
              "      <td>PMO</td>\n",
              "      <td>MXP</td>\n",
              "    </tr>\n",
              "    <tr>\n",
              "      <th>4</th>\n",
              "      <td>1 de abril de 2019</td>\n",
              "      <td>2019-04-01 05:30:00</td>\n",
              "      <td>2019-04-01 07:20:00</td>\n",
              "      <td>2019-04-01 05:30:00</td>\n",
              "      <td>2019-04-01 07:25:00</td>\n",
              "      <td>EI-DAD</td>\n",
              "      <td>OPO</td>\n",
              "      <td>BCN</td>\n",
              "    </tr>\n",
              "  </tbody>\n",
              "</table>\n",
              "</div>\n",
              "      <button class=\"colab-df-convert\" onclick=\"convertToInteractive('df-4e3b2148-3cb3-4d32-a8c4-932772ee8615')\"\n",
              "              title=\"Convert this dataframe to an interactive table.\"\n",
              "              style=\"display:none;\">\n",
              "        \n",
              "  <svg xmlns=\"http://www.w3.org/2000/svg\" height=\"24px\"viewBox=\"0 0 24 24\"\n",
              "       width=\"24px\">\n",
              "    <path d=\"M0 0h24v24H0V0z\" fill=\"none\"/>\n",
              "    <path d=\"M18.56 5.44l.94 2.06.94-2.06 2.06-.94-2.06-.94-.94-2.06-.94 2.06-2.06.94zm-11 1L8.5 8.5l.94-2.06 2.06-.94-2.06-.94L8.5 2.5l-.94 2.06-2.06.94zm10 10l.94 2.06.94-2.06 2.06-.94-2.06-.94-.94-2.06-.94 2.06-2.06.94z\"/><path d=\"M17.41 7.96l-1.37-1.37c-.4-.4-.92-.59-1.43-.59-.52 0-1.04.2-1.43.59L10.3 9.45l-7.72 7.72c-.78.78-.78 2.05 0 2.83L4 21.41c.39.39.9.59 1.41.59.51 0 1.02-.2 1.41-.59l7.78-7.78 2.81-2.81c.8-.78.8-2.07 0-2.86zM5.41 20L4 18.59l7.72-7.72 1.47 1.35L5.41 20z\"/>\n",
              "  </svg>\n",
              "      </button>\n",
              "      \n",
              "  <style>\n",
              "    .colab-df-container {\n",
              "      display:flex;\n",
              "      flex-wrap:wrap;\n",
              "      gap: 12px;\n",
              "    }\n",
              "\n",
              "    .colab-df-convert {\n",
              "      background-color: #E8F0FE;\n",
              "      border: none;\n",
              "      border-radius: 50%;\n",
              "      cursor: pointer;\n",
              "      display: none;\n",
              "      fill: #1967D2;\n",
              "      height: 32px;\n",
              "      padding: 0 0 0 0;\n",
              "      width: 32px;\n",
              "    }\n",
              "\n",
              "    .colab-df-convert:hover {\n",
              "      background-color: #E2EBFA;\n",
              "      box-shadow: 0px 1px 2px rgba(60, 64, 67, 0.3), 0px 1px 3px 1px rgba(60, 64, 67, 0.15);\n",
              "      fill: #174EA6;\n",
              "    }\n",
              "\n",
              "    [theme=dark] .colab-df-convert {\n",
              "      background-color: #3B4455;\n",
              "      fill: #D2E3FC;\n",
              "    }\n",
              "\n",
              "    [theme=dark] .colab-df-convert:hover {\n",
              "      background-color: #434B5C;\n",
              "      box-shadow: 0px 1px 3px 1px rgba(0, 0, 0, 0.15);\n",
              "      filter: drop-shadow(0px 1px 2px rgba(0, 0, 0, 0.3));\n",
              "      fill: #FFFFFF;\n",
              "    }\n",
              "  </style>\n",
              "\n",
              "      <script>\n",
              "        const buttonEl =\n",
              "          document.querySelector('#df-4e3b2148-3cb3-4d32-a8c4-932772ee8615 button.colab-df-convert');\n",
              "        buttonEl.style.display =\n",
              "          google.colab.kernel.accessAllowed ? 'block' : 'none';\n",
              "\n",
              "        async function convertToInteractive(key) {\n",
              "          const element = document.querySelector('#df-4e3b2148-3cb3-4d32-a8c4-932772ee8615');\n",
              "          const dataTable =\n",
              "            await google.colab.kernel.invokeFunction('convertToInteractive',\n",
              "                                                     [key], {});\n",
              "          if (!dataTable) return;\n",
              "\n",
              "          const docLinkHtml = 'Like what you see? Visit the ' +\n",
              "            '<a target=\"_blank\" href=https://colab.research.google.com/notebooks/data_table.ipynb>data table notebook</a>'\n",
              "            + ' to learn more about interactive tables.';\n",
              "          element.innerHTML = '';\n",
              "          dataTable['output_type'] = 'display_data';\n",
              "          await google.colab.output.renderOutput(dataTable, element);\n",
              "          const docLink = document.createElement('div');\n",
              "          docLink.innerHTML = docLinkHtml;\n",
              "          element.appendChild(docLink);\n",
              "        }\n",
              "      </script>\n",
              "    </div>\n",
              "  </div>\n",
              "  "
            ]
          },
          "metadata": {},
          "execution_count": 7
        }
      ]
    },
    {
      "cell_type": "code",
      "source": [
        "df['MES'] = df['STD'].dt.month\n",
        "df['Setmana'] = df['STD'].dt.week\n",
        "df['DiaSetmana'] = df['STD'].dt.dayofweek\n",
        "df['DiaSetmanaName'] = df['STD'].dt.day_name()\n",
        "df['Hour'] = df['STD'].dt.hour\n",
        "df.head()"
      ],
      "metadata": {
        "colab": {
          "base_uri": "https://localhost:8080/",
          "height": 241
        },
        "id": "kDS2c1YEhQUZ",
        "outputId": "e66b078d-047c-4f92-fc58-7f1c4eb65147"
      },
      "execution_count": 8,
      "outputs": [
        {
          "output_type": "stream",
          "name": "stderr",
          "text": [
            "/usr/local/lib/python3.7/dist-packages/ipykernel_launcher.py:2: FutureWarning: Series.dt.weekofyear and Series.dt.week have been deprecated.  Please use Series.dt.isocalendar().week instead.\n",
            "  \n"
          ]
        },
        {
          "output_type": "execute_result",
          "data": {
            "text/plain": [
              "                 DATE                 STD                 STA  \\\n",
              "0  1 de abril de 2019 2019-04-01 10:30:00 2019-04-01 12:50:00   \n",
              "1  1 de abril de 2019 2019-04-01 13:20:00 2019-04-01 15:45:00   \n",
              "2  1 de abril de 2019 2019-04-01 16:10:00 2019-04-01 18:00:00   \n",
              "3  1 de abril de 2019 2019-04-01 18:45:00 2019-04-01 20:35:00   \n",
              "4  1 de abril de 2019 2019-04-01 05:30:00 2019-04-01 07:20:00   \n",
              "\n",
              "                  ATD                 ATA     REG  DEP  ARR  MES  Setmana  \\\n",
              "0 2019-04-01 10:43:00 2019-04-01 12:55:00  EI-DAC  MXP  OTP    4       14   \n",
              "1 2019-04-01 13:40:00 2019-04-01 16:03:00  EI-DAC  OTP  MXP    4       14   \n",
              "2 2019-04-01 16:40:00 2019-04-01 18:20:00  EI-DAC  MXP  PMO    4       14   \n",
              "3 2019-04-01 18:58:00 2019-04-01 20:35:00  EI-DAC  PMO  MXP    4       14   \n",
              "4 2019-04-01 05:30:00 2019-04-01 07:25:00  EI-DAD  OPO  BCN    4       14   \n",
              "\n",
              "   DiaSetmana DiaSetmanaName  Hour  \n",
              "0           0         Monday    10  \n",
              "1           0         Monday    13  \n",
              "2           0         Monday    16  \n",
              "3           0         Monday    18  \n",
              "4           0         Monday     5  "
            ],
            "text/html": [
              "\n",
              "  <div id=\"df-6bc06d41-caa1-433f-86e3-73ff7cd42045\">\n",
              "    <div class=\"colab-df-container\">\n",
              "      <div>\n",
              "<style scoped>\n",
              "    .dataframe tbody tr th:only-of-type {\n",
              "        vertical-align: middle;\n",
              "    }\n",
              "\n",
              "    .dataframe tbody tr th {\n",
              "        vertical-align: top;\n",
              "    }\n",
              "\n",
              "    .dataframe thead th {\n",
              "        text-align: right;\n",
              "    }\n",
              "</style>\n",
              "<table border=\"1\" class=\"dataframe\">\n",
              "  <thead>\n",
              "    <tr style=\"text-align: right;\">\n",
              "      <th></th>\n",
              "      <th>DATE</th>\n",
              "      <th>STD</th>\n",
              "      <th>STA</th>\n",
              "      <th>ATD</th>\n",
              "      <th>ATA</th>\n",
              "      <th>REG</th>\n",
              "      <th>DEP</th>\n",
              "      <th>ARR</th>\n",
              "      <th>MES</th>\n",
              "      <th>Setmana</th>\n",
              "      <th>DiaSetmana</th>\n",
              "      <th>DiaSetmanaName</th>\n",
              "      <th>Hour</th>\n",
              "    </tr>\n",
              "  </thead>\n",
              "  <tbody>\n",
              "    <tr>\n",
              "      <th>0</th>\n",
              "      <td>1 de abril de 2019</td>\n",
              "      <td>2019-04-01 10:30:00</td>\n",
              "      <td>2019-04-01 12:50:00</td>\n",
              "      <td>2019-04-01 10:43:00</td>\n",
              "      <td>2019-04-01 12:55:00</td>\n",
              "      <td>EI-DAC</td>\n",
              "      <td>MXP</td>\n",
              "      <td>OTP</td>\n",
              "      <td>4</td>\n",
              "      <td>14</td>\n",
              "      <td>0</td>\n",
              "      <td>Monday</td>\n",
              "      <td>10</td>\n",
              "    </tr>\n",
              "    <tr>\n",
              "      <th>1</th>\n",
              "      <td>1 de abril de 2019</td>\n",
              "      <td>2019-04-01 13:20:00</td>\n",
              "      <td>2019-04-01 15:45:00</td>\n",
              "      <td>2019-04-01 13:40:00</td>\n",
              "      <td>2019-04-01 16:03:00</td>\n",
              "      <td>EI-DAC</td>\n",
              "      <td>OTP</td>\n",
              "      <td>MXP</td>\n",
              "      <td>4</td>\n",
              "      <td>14</td>\n",
              "      <td>0</td>\n",
              "      <td>Monday</td>\n",
              "      <td>13</td>\n",
              "    </tr>\n",
              "    <tr>\n",
              "      <th>2</th>\n",
              "      <td>1 de abril de 2019</td>\n",
              "      <td>2019-04-01 16:10:00</td>\n",
              "      <td>2019-04-01 18:00:00</td>\n",
              "      <td>2019-04-01 16:40:00</td>\n",
              "      <td>2019-04-01 18:20:00</td>\n",
              "      <td>EI-DAC</td>\n",
              "      <td>MXP</td>\n",
              "      <td>PMO</td>\n",
              "      <td>4</td>\n",
              "      <td>14</td>\n",
              "      <td>0</td>\n",
              "      <td>Monday</td>\n",
              "      <td>16</td>\n",
              "    </tr>\n",
              "    <tr>\n",
              "      <th>3</th>\n",
              "      <td>1 de abril de 2019</td>\n",
              "      <td>2019-04-01 18:45:00</td>\n",
              "      <td>2019-04-01 20:35:00</td>\n",
              "      <td>2019-04-01 18:58:00</td>\n",
              "      <td>2019-04-01 20:35:00</td>\n",
              "      <td>EI-DAC</td>\n",
              "      <td>PMO</td>\n",
              "      <td>MXP</td>\n",
              "      <td>4</td>\n",
              "      <td>14</td>\n",
              "      <td>0</td>\n",
              "      <td>Monday</td>\n",
              "      <td>18</td>\n",
              "    </tr>\n",
              "    <tr>\n",
              "      <th>4</th>\n",
              "      <td>1 de abril de 2019</td>\n",
              "      <td>2019-04-01 05:30:00</td>\n",
              "      <td>2019-04-01 07:20:00</td>\n",
              "      <td>2019-04-01 05:30:00</td>\n",
              "      <td>2019-04-01 07:25:00</td>\n",
              "      <td>EI-DAD</td>\n",
              "      <td>OPO</td>\n",
              "      <td>BCN</td>\n",
              "      <td>4</td>\n",
              "      <td>14</td>\n",
              "      <td>0</td>\n",
              "      <td>Monday</td>\n",
              "      <td>5</td>\n",
              "    </tr>\n",
              "  </tbody>\n",
              "</table>\n",
              "</div>\n",
              "      <button class=\"colab-df-convert\" onclick=\"convertToInteractive('df-6bc06d41-caa1-433f-86e3-73ff7cd42045')\"\n",
              "              title=\"Convert this dataframe to an interactive table.\"\n",
              "              style=\"display:none;\">\n",
              "        \n",
              "  <svg xmlns=\"http://www.w3.org/2000/svg\" height=\"24px\"viewBox=\"0 0 24 24\"\n",
              "       width=\"24px\">\n",
              "    <path d=\"M0 0h24v24H0V0z\" fill=\"none\"/>\n",
              "    <path d=\"M18.56 5.44l.94 2.06.94-2.06 2.06-.94-2.06-.94-.94-2.06-.94 2.06-2.06.94zm-11 1L8.5 8.5l.94-2.06 2.06-.94-2.06-.94L8.5 2.5l-.94 2.06-2.06.94zm10 10l.94 2.06.94-2.06 2.06-.94-2.06-.94-.94-2.06-.94 2.06-2.06.94z\"/><path d=\"M17.41 7.96l-1.37-1.37c-.4-.4-.92-.59-1.43-.59-.52 0-1.04.2-1.43.59L10.3 9.45l-7.72 7.72c-.78.78-.78 2.05 0 2.83L4 21.41c.39.39.9.59 1.41.59.51 0 1.02-.2 1.41-.59l7.78-7.78 2.81-2.81c.8-.78.8-2.07 0-2.86zM5.41 20L4 18.59l7.72-7.72 1.47 1.35L5.41 20z\"/>\n",
              "  </svg>\n",
              "      </button>\n",
              "      \n",
              "  <style>\n",
              "    .colab-df-container {\n",
              "      display:flex;\n",
              "      flex-wrap:wrap;\n",
              "      gap: 12px;\n",
              "    }\n",
              "\n",
              "    .colab-df-convert {\n",
              "      background-color: #E8F0FE;\n",
              "      border: none;\n",
              "      border-radius: 50%;\n",
              "      cursor: pointer;\n",
              "      display: none;\n",
              "      fill: #1967D2;\n",
              "      height: 32px;\n",
              "      padding: 0 0 0 0;\n",
              "      width: 32px;\n",
              "    }\n",
              "\n",
              "    .colab-df-convert:hover {\n",
              "      background-color: #E2EBFA;\n",
              "      box-shadow: 0px 1px 2px rgba(60, 64, 67, 0.3), 0px 1px 3px 1px rgba(60, 64, 67, 0.15);\n",
              "      fill: #174EA6;\n",
              "    }\n",
              "\n",
              "    [theme=dark] .colab-df-convert {\n",
              "      background-color: #3B4455;\n",
              "      fill: #D2E3FC;\n",
              "    }\n",
              "\n",
              "    [theme=dark] .colab-df-convert:hover {\n",
              "      background-color: #434B5C;\n",
              "      box-shadow: 0px 1px 3px 1px rgba(0, 0, 0, 0.15);\n",
              "      filter: drop-shadow(0px 1px 2px rgba(0, 0, 0, 0.3));\n",
              "      fill: #FFFFFF;\n",
              "    }\n",
              "  </style>\n",
              "\n",
              "      <script>\n",
              "        const buttonEl =\n",
              "          document.querySelector('#df-6bc06d41-caa1-433f-86e3-73ff7cd42045 button.colab-df-convert');\n",
              "        buttonEl.style.display =\n",
              "          google.colab.kernel.accessAllowed ? 'block' : 'none';\n",
              "\n",
              "        async function convertToInteractive(key) {\n",
              "          const element = document.querySelector('#df-6bc06d41-caa1-433f-86e3-73ff7cd42045');\n",
              "          const dataTable =\n",
              "            await google.colab.kernel.invokeFunction('convertToInteractive',\n",
              "                                                     [key], {});\n",
              "          if (!dataTable) return;\n",
              "\n",
              "          const docLinkHtml = 'Like what you see? Visit the ' +\n",
              "            '<a target=\"_blank\" href=https://colab.research.google.com/notebooks/data_table.ipynb>data table notebook</a>'\n",
              "            + ' to learn more about interactive tables.';\n",
              "          element.innerHTML = '';\n",
              "          dataTable['output_type'] = 'display_data';\n",
              "          await google.colab.output.renderOutput(dataTable, element);\n",
              "          const docLink = document.createElement('div');\n",
              "          docLink.innerHTML = docLinkHtml;\n",
              "          element.appendChild(docLink);\n",
              "        }\n",
              "      </script>\n",
              "    </div>\n",
              "  </div>\n",
              "  "
            ]
          },
          "metadata": {},
          "execution_count": 8
        }
      ]
    },
    {
      "cell_type": "code",
      "source": [
        "# Calculo tiempo de vuelo teorico Real y error\n",
        "\n",
        "df['DuracionVueloTeorico1']= (df['STA'] - df['STD'])/  np.timedelta64(1, 'm') \n",
        "df['DuracionVueloReal1'] = (df['ATA'] - df['ATD']) /  np.timedelta64(1, 'm') \n",
        "df['E_Duracion_Vuelo1']= df['DuracionVueloReal1']-df['DuracionVueloTeorico1']\n",
        "df['E_Duracion_Vuelo1'].head(3)\n",
        "\n",
        "media = round(df['E_Duracion_Vuelo1'].mean(),2)\n",
        "\n",
        "print('\\n\\nError medio en tiempo de vuelo',media)"
      ],
      "metadata": {
        "colab": {
          "base_uri": "https://localhost:8080/"
        },
        "id": "9zhKPdf3wkTi",
        "outputId": "18570af9-1409-45fc-b5ab-172d7ee3ada2"
      },
      "execution_count": 10,
      "outputs": [
        {
          "output_type": "stream",
          "name": "stdout",
          "text": [
            "\n",
            "\n",
            "Error medio en tiempo de vuelo -6.15\n"
          ]
        }
      ]
    },
    {
      "cell_type": "code",
      "source": [
        "#Calculo error arrivada:\n",
        "\n",
        "df['E_Puntualidad1'] = (df['ATA']- df['STA']) /  np.timedelta64(1, 'm')"
      ],
      "metadata": {
        "id": "_ztk5ceSjVn2"
      },
      "execution_count": 11,
      "outputs": []
    },
    {
      "cell_type": "code",
      "source": [
        "#Calculo error enlairament:\n",
        "df['E_Despegue1'] = (df['ATD']- df['STD']) /  np.timedelta64(1, 'm')\n"
      ],
      "metadata": {
        "id": "pxGrNuhqui4Q"
      },
      "execution_count": 12,
      "outputs": []
    },
    {
      "cell_type": "code",
      "source": [
        "df['Secuencia'] = df.groupby(['DATE', 'REG'])['STD'].rank()\n",
        "print(df[['Secuencia','REG','STD', 'ARR']][5:19])"
      ],
      "metadata": {
        "colab": {
          "base_uri": "https://localhost:8080/"
        },
        "id": "-SCeT3XwARPM",
        "outputId": "c11ee757-a38a-4621-8dab-c44a1ac6f99c"
      },
      "execution_count": 13,
      "outputs": [
        {
          "output_type": "stream",
          "name": "stdout",
          "text": [
            "    Secuencia     REG                 STD  ARR\n",
            "5         2.0  EI-DAD 2019-04-01 07:55:00  OPO\n",
            "6         3.0  EI-DAD 2019-04-01 10:20:00  BRU\n",
            "7         4.0  EI-DAD 2019-04-01 13:05:00  OPO\n",
            "8         5.0  EI-DAD 2019-04-01 16:35:00  MXP\n",
            "9         6.0  EI-DAD 2019-04-01 19:30:00  OPO\n",
            "10        1.0  EI-DAE 2019-04-01 05:45:00  NRN\n",
            "11        2.0  EI-DAE 2019-04-01 08:50:00  ALC\n",
            "12        1.0  EI-DAF 2019-04-01 05:30:00  DUB\n",
            "13        2.0  EI-DAF 2019-04-01 07:15:00  LTN\n",
            "14        3.0  EI-DAF 2019-04-01 09:00:00  NOC\n",
            "15        4.0  EI-DAF 2019-04-01 10:50:00  LTN\n",
            "16        5.0  EI-DAF 2019-04-01 12:50:00  ORK\n",
            "17        6.0  EI-DAF 2019-04-01 14:45:00  LTN\n",
            "18        7.0  EI-DAF 2019-04-01 16:35:00  RMU\n"
          ]
        }
      ]
    },
    {
      "cell_type": "code",
      "source": [
        "df1=df.copy()\n",
        "df1.head()"
      ],
      "metadata": {
        "colab": {
          "base_uri": "https://localhost:8080/",
          "height": 206
        },
        "id": "gCOihM4h-7NF",
        "outputId": "d1ed9713-da82-4157-afe0-d03d8c72cd08"
      },
      "execution_count": 14,
      "outputs": [
        {
          "output_type": "execute_result",
          "data": {
            "text/plain": [
              "                 DATE                 STD                 STA  \\\n",
              "0  1 de abril de 2019 2019-04-01 10:30:00 2019-04-01 12:50:00   \n",
              "1  1 de abril de 2019 2019-04-01 13:20:00 2019-04-01 15:45:00   \n",
              "2  1 de abril de 2019 2019-04-01 16:10:00 2019-04-01 18:00:00   \n",
              "3  1 de abril de 2019 2019-04-01 18:45:00 2019-04-01 20:35:00   \n",
              "4  1 de abril de 2019 2019-04-01 05:30:00 2019-04-01 07:20:00   \n",
              "\n",
              "                  ATD                 ATA     REG  DEP  ARR  MES  Setmana  \\\n",
              "0 2019-04-01 10:43:00 2019-04-01 12:55:00  EI-DAC  MXP  OTP    4       14   \n",
              "1 2019-04-01 13:40:00 2019-04-01 16:03:00  EI-DAC  OTP  MXP    4       14   \n",
              "2 2019-04-01 16:40:00 2019-04-01 18:20:00  EI-DAC  MXP  PMO    4       14   \n",
              "3 2019-04-01 18:58:00 2019-04-01 20:35:00  EI-DAC  PMO  MXP    4       14   \n",
              "4 2019-04-01 05:30:00 2019-04-01 07:25:00  EI-DAD  OPO  BCN    4       14   \n",
              "\n",
              "   DiaSetmana DiaSetmanaName  Hour  DuracionVueloTeorico1  DuracionVueloReal1  \\\n",
              "0           0         Monday    10                  140.0               132.0   \n",
              "1           0         Monday    13                  145.0               143.0   \n",
              "2           0         Monday    16                  110.0               100.0   \n",
              "3           0         Monday    18                  110.0                97.0   \n",
              "4           0         Monday     5                  110.0               115.0   \n",
              "\n",
              "   E_Duracion_Vuelo1  E_Puntualidad1  E_Despegue1  Secuencia  \n",
              "0               -8.0             5.0         13.0        1.0  \n",
              "1               -2.0            18.0         20.0        2.0  \n",
              "2              -10.0            20.0         30.0        3.0  \n",
              "3              -13.0             0.0         13.0        4.0  \n",
              "4                5.0             5.0          0.0        1.0  "
            ],
            "text/html": [
              "\n",
              "  <div id=\"df-7ab67842-4c16-40f7-b7cc-40260544f060\">\n",
              "    <div class=\"colab-df-container\">\n",
              "      <div>\n",
              "<style scoped>\n",
              "    .dataframe tbody tr th:only-of-type {\n",
              "        vertical-align: middle;\n",
              "    }\n",
              "\n",
              "    .dataframe tbody tr th {\n",
              "        vertical-align: top;\n",
              "    }\n",
              "\n",
              "    .dataframe thead th {\n",
              "        text-align: right;\n",
              "    }\n",
              "</style>\n",
              "<table border=\"1\" class=\"dataframe\">\n",
              "  <thead>\n",
              "    <tr style=\"text-align: right;\">\n",
              "      <th></th>\n",
              "      <th>DATE</th>\n",
              "      <th>STD</th>\n",
              "      <th>STA</th>\n",
              "      <th>ATD</th>\n",
              "      <th>ATA</th>\n",
              "      <th>REG</th>\n",
              "      <th>DEP</th>\n",
              "      <th>ARR</th>\n",
              "      <th>MES</th>\n",
              "      <th>Setmana</th>\n",
              "      <th>DiaSetmana</th>\n",
              "      <th>DiaSetmanaName</th>\n",
              "      <th>Hour</th>\n",
              "      <th>DuracionVueloTeorico1</th>\n",
              "      <th>DuracionVueloReal1</th>\n",
              "      <th>E_Duracion_Vuelo1</th>\n",
              "      <th>E_Puntualidad1</th>\n",
              "      <th>E_Despegue1</th>\n",
              "      <th>Secuencia</th>\n",
              "    </tr>\n",
              "  </thead>\n",
              "  <tbody>\n",
              "    <tr>\n",
              "      <th>0</th>\n",
              "      <td>1 de abril de 2019</td>\n",
              "      <td>2019-04-01 10:30:00</td>\n",
              "      <td>2019-04-01 12:50:00</td>\n",
              "      <td>2019-04-01 10:43:00</td>\n",
              "      <td>2019-04-01 12:55:00</td>\n",
              "      <td>EI-DAC</td>\n",
              "      <td>MXP</td>\n",
              "      <td>OTP</td>\n",
              "      <td>4</td>\n",
              "      <td>14</td>\n",
              "      <td>0</td>\n",
              "      <td>Monday</td>\n",
              "      <td>10</td>\n",
              "      <td>140.0</td>\n",
              "      <td>132.0</td>\n",
              "      <td>-8.0</td>\n",
              "      <td>5.0</td>\n",
              "      <td>13.0</td>\n",
              "      <td>1.0</td>\n",
              "    </tr>\n",
              "    <tr>\n",
              "      <th>1</th>\n",
              "      <td>1 de abril de 2019</td>\n",
              "      <td>2019-04-01 13:20:00</td>\n",
              "      <td>2019-04-01 15:45:00</td>\n",
              "      <td>2019-04-01 13:40:00</td>\n",
              "      <td>2019-04-01 16:03:00</td>\n",
              "      <td>EI-DAC</td>\n",
              "      <td>OTP</td>\n",
              "      <td>MXP</td>\n",
              "      <td>4</td>\n",
              "      <td>14</td>\n",
              "      <td>0</td>\n",
              "      <td>Monday</td>\n",
              "      <td>13</td>\n",
              "      <td>145.0</td>\n",
              "      <td>143.0</td>\n",
              "      <td>-2.0</td>\n",
              "      <td>18.0</td>\n",
              "      <td>20.0</td>\n",
              "      <td>2.0</td>\n",
              "    </tr>\n",
              "    <tr>\n",
              "      <th>2</th>\n",
              "      <td>1 de abril de 2019</td>\n",
              "      <td>2019-04-01 16:10:00</td>\n",
              "      <td>2019-04-01 18:00:00</td>\n",
              "      <td>2019-04-01 16:40:00</td>\n",
              "      <td>2019-04-01 18:20:00</td>\n",
              "      <td>EI-DAC</td>\n",
              "      <td>MXP</td>\n",
              "      <td>PMO</td>\n",
              "      <td>4</td>\n",
              "      <td>14</td>\n",
              "      <td>0</td>\n",
              "      <td>Monday</td>\n",
              "      <td>16</td>\n",
              "      <td>110.0</td>\n",
              "      <td>100.0</td>\n",
              "      <td>-10.0</td>\n",
              "      <td>20.0</td>\n",
              "      <td>30.0</td>\n",
              "      <td>3.0</td>\n",
              "    </tr>\n",
              "    <tr>\n",
              "      <th>3</th>\n",
              "      <td>1 de abril de 2019</td>\n",
              "      <td>2019-04-01 18:45:00</td>\n",
              "      <td>2019-04-01 20:35:00</td>\n",
              "      <td>2019-04-01 18:58:00</td>\n",
              "      <td>2019-04-01 20:35:00</td>\n",
              "      <td>EI-DAC</td>\n",
              "      <td>PMO</td>\n",
              "      <td>MXP</td>\n",
              "      <td>4</td>\n",
              "      <td>14</td>\n",
              "      <td>0</td>\n",
              "      <td>Monday</td>\n",
              "      <td>18</td>\n",
              "      <td>110.0</td>\n",
              "      <td>97.0</td>\n",
              "      <td>-13.0</td>\n",
              "      <td>0.0</td>\n",
              "      <td>13.0</td>\n",
              "      <td>4.0</td>\n",
              "    </tr>\n",
              "    <tr>\n",
              "      <th>4</th>\n",
              "      <td>1 de abril de 2019</td>\n",
              "      <td>2019-04-01 05:30:00</td>\n",
              "      <td>2019-04-01 07:20:00</td>\n",
              "      <td>2019-04-01 05:30:00</td>\n",
              "      <td>2019-04-01 07:25:00</td>\n",
              "      <td>EI-DAD</td>\n",
              "      <td>OPO</td>\n",
              "      <td>BCN</td>\n",
              "      <td>4</td>\n",
              "      <td>14</td>\n",
              "      <td>0</td>\n",
              "      <td>Monday</td>\n",
              "      <td>5</td>\n",
              "      <td>110.0</td>\n",
              "      <td>115.0</td>\n",
              "      <td>5.0</td>\n",
              "      <td>5.0</td>\n",
              "      <td>0.0</td>\n",
              "      <td>1.0</td>\n",
              "    </tr>\n",
              "  </tbody>\n",
              "</table>\n",
              "</div>\n",
              "      <button class=\"colab-df-convert\" onclick=\"convertToInteractive('df-7ab67842-4c16-40f7-b7cc-40260544f060')\"\n",
              "              title=\"Convert this dataframe to an interactive table.\"\n",
              "              style=\"display:none;\">\n",
              "        \n",
              "  <svg xmlns=\"http://www.w3.org/2000/svg\" height=\"24px\"viewBox=\"0 0 24 24\"\n",
              "       width=\"24px\">\n",
              "    <path d=\"M0 0h24v24H0V0z\" fill=\"none\"/>\n",
              "    <path d=\"M18.56 5.44l.94 2.06.94-2.06 2.06-.94-2.06-.94-.94-2.06-.94 2.06-2.06.94zm-11 1L8.5 8.5l.94-2.06 2.06-.94-2.06-.94L8.5 2.5l-.94 2.06-2.06.94zm10 10l.94 2.06.94-2.06 2.06-.94-2.06-.94-.94-2.06-.94 2.06-2.06.94z\"/><path d=\"M17.41 7.96l-1.37-1.37c-.4-.4-.92-.59-1.43-.59-.52 0-1.04.2-1.43.59L10.3 9.45l-7.72 7.72c-.78.78-.78 2.05 0 2.83L4 21.41c.39.39.9.59 1.41.59.51 0 1.02-.2 1.41-.59l7.78-7.78 2.81-2.81c.8-.78.8-2.07 0-2.86zM5.41 20L4 18.59l7.72-7.72 1.47 1.35L5.41 20z\"/>\n",
              "  </svg>\n",
              "      </button>\n",
              "      \n",
              "  <style>\n",
              "    .colab-df-container {\n",
              "      display:flex;\n",
              "      flex-wrap:wrap;\n",
              "      gap: 12px;\n",
              "    }\n",
              "\n",
              "    .colab-df-convert {\n",
              "      background-color: #E8F0FE;\n",
              "      border: none;\n",
              "      border-radius: 50%;\n",
              "      cursor: pointer;\n",
              "      display: none;\n",
              "      fill: #1967D2;\n",
              "      height: 32px;\n",
              "      padding: 0 0 0 0;\n",
              "      width: 32px;\n",
              "    }\n",
              "\n",
              "    .colab-df-convert:hover {\n",
              "      background-color: #E2EBFA;\n",
              "      box-shadow: 0px 1px 2px rgba(60, 64, 67, 0.3), 0px 1px 3px 1px rgba(60, 64, 67, 0.15);\n",
              "      fill: #174EA6;\n",
              "    }\n",
              "\n",
              "    [theme=dark] .colab-df-convert {\n",
              "      background-color: #3B4455;\n",
              "      fill: #D2E3FC;\n",
              "    }\n",
              "\n",
              "    [theme=dark] .colab-df-convert:hover {\n",
              "      background-color: #434B5C;\n",
              "      box-shadow: 0px 1px 3px 1px rgba(0, 0, 0, 0.15);\n",
              "      filter: drop-shadow(0px 1px 2px rgba(0, 0, 0, 0.3));\n",
              "      fill: #FFFFFF;\n",
              "    }\n",
              "  </style>\n",
              "\n",
              "      <script>\n",
              "        const buttonEl =\n",
              "          document.querySelector('#df-7ab67842-4c16-40f7-b7cc-40260544f060 button.colab-df-convert');\n",
              "        buttonEl.style.display =\n",
              "          google.colab.kernel.accessAllowed ? 'block' : 'none';\n",
              "\n",
              "        async function convertToInteractive(key) {\n",
              "          const element = document.querySelector('#df-7ab67842-4c16-40f7-b7cc-40260544f060');\n",
              "          const dataTable =\n",
              "            await google.colab.kernel.invokeFunction('convertToInteractive',\n",
              "                                                     [key], {});\n",
              "          if (!dataTable) return;\n",
              "\n",
              "          const docLinkHtml = 'Like what you see? Visit the ' +\n",
              "            '<a target=\"_blank\" href=https://colab.research.google.com/notebooks/data_table.ipynb>data table notebook</a>'\n",
              "            + ' to learn more about interactive tables.';\n",
              "          element.innerHTML = '';\n",
              "          dataTable['output_type'] = 'display_data';\n",
              "          await google.colab.output.renderOutput(dataTable, element);\n",
              "          const docLink = document.createElement('div');\n",
              "          docLink.innerHTML = docLinkHtml;\n",
              "          element.appendChild(docLink);\n",
              "        }\n",
              "      </script>\n",
              "    </div>\n",
              "  </div>\n",
              "  "
            ]
          },
          "metadata": {},
          "execution_count": 14
        }
      ]
    },
    {
      "cell_type": "code",
      "source": [],
      "metadata": {
        "id": "b1l8WLaMv2su"
      },
      "execution_count": 14,
      "outputs": []
    },
    {
      "cell_type": "code",
      "source": [
        "df1=df.copy()\n",
        "df1.shape"
      ],
      "metadata": {
        "colab": {
          "base_uri": "https://localhost:8080/"
        },
        "id": "B5r2_CTsAJkR",
        "outputId": "0f58f131-02e9-46aa-e056-5663c0a5484a"
      },
      "execution_count": 15,
      "outputs": [
        {
          "output_type": "execute_result",
          "data": {
            "text/plain": [
              "(1007, 19)"
            ]
          },
          "metadata": {},
          "execution_count": 15
        }
      ]
    },
    {
      "cell_type": "code",
      "source": [
        "AeropuertosCantidad = df1['ARR'].copy()\n",
        "AeropuertosCantidad['cantitat'] = df1['ARR'].value_counts()\n",
        "AeropuertosCantidad[1:3]"
      ],
      "metadata": {
        "colab": {
          "base_uri": "https://localhost:8080/"
        },
        "id": "wLIRRRjbDDoj",
        "outputId": "c1c29df8-2db3-4733-a1f7-c98e43f67ba8"
      },
      "execution_count": 16,
      "outputs": [
        {
          "output_type": "execute_result",
          "data": {
            "text/plain": [
              "1    MXP\n",
              "2    PMO\n",
              "Name: ARR, dtype: object"
            ]
          },
          "metadata": {},
          "execution_count": 16
        }
      ]
    },
    {
      "cell_type": "code",
      "source": [
        "AeropuertosCantidad = df1['ARR'].copy()\n",
        "AeropuertosCantidad=pd.DataFrame(AeropuertosCantidad)\n",
        "AeropuertosCantidad.columns=(['ARR'])\n",
        "AeropuertosCantidad = df1['ARR'].value_counts()\n",
        "AeropuertosCantidad.columns=[ 'ARR', 'Cantidad']\n",
        "AeropuertosCantidad=pd.DataFrame(AeropuertosCantidad)\n",
        "AeropuertosCantidad.columns"
      ],
      "metadata": {
        "colab": {
          "base_uri": "https://localhost:8080/"
        },
        "id": "nbCarMHPZcQq",
        "outputId": "baf33703-a658-459c-a237-6fae1e0c6ac2"
      },
      "execution_count": 17,
      "outputs": [
        {
          "output_type": "execute_result",
          "data": {
            "text/plain": [
              "Index(['ARR'], dtype='object')"
            ]
          },
          "metadata": {},
          "execution_count": 17
        }
      ]
    },
    {
      "cell_type": "code",
      "source": [
        "AeropuertosCantidad = df1['ARR']\n",
        "AeropuertosCantidad"
      ],
      "metadata": {
        "colab": {
          "base_uri": "https://localhost:8080/"
        },
        "id": "koTVGsEOKqbJ",
        "outputId": "483e3a15-5db4-409d-e2fd-58367c00eca6"
      },
      "execution_count": 18,
      "outputs": [
        {
          "output_type": "execute_result",
          "data": {
            "text/plain": [
              "0       OTP\n",
              "1       MXP\n",
              "2       PMO\n",
              "3       MXP\n",
              "4       BCN\n",
              "       ... \n",
              "1002    RMU\n",
              "1003    PIK\n",
              "1004    PMI\n",
              "1005    DUS\n",
              "1006    PMI\n",
              "Name: ARR, Length: 1007, dtype: object"
            ]
          },
          "metadata": {},
          "execution_count": 18
        }
      ]
    },
    {
      "cell_type": "code",
      "source": [
        "# Sapigue quants vols han sortit de cada aeroport \n",
        "AeropuertosCantidad = df1['ARR']\n",
        "AeropuertosCantidad['cantitat'] = df1['ARR'].value_counts()\n",
        "\n",
        "AeropuertosCantidad['cantitat'].sort_values\n",
        "#AeropuertosCantidad=AeropuertosCantidad.sample(n=6, replace=True)\n",
        "AeropuertosCantidad.columns=['Aeroport', 'cantitat']\n"
      ],
      "metadata": {
        "colab": {
          "base_uri": "https://localhost:8080/"
        },
        "id": "ajSQh-K6CqaV",
        "outputId": "d57c1cb6-59c2-4fdf-fb48-e35ef2befa96"
      },
      "execution_count": 19,
      "outputs": [
        {
          "output_type": "stream",
          "name": "stderr",
          "text": [
            "/usr/local/lib/python3.7/dist-packages/ipykernel_launcher.py:3: SettingWithCopyWarning: \n",
            "A value is trying to be set on a copy of a slice from a DataFrame\n",
            "\n",
            "See the caveats in the documentation: https://pandas.pydata.org/pandas-docs/stable/user_guide/indexing.html#returning-a-view-versus-a-copy\n",
            "  This is separate from the ipykernel package so we can avoid doing imports until\n"
          ]
        }
      ]
    },
    {
      "cell_type": "code",
      "source": [
        "AeropuertosCantidad.shape"
      ],
      "metadata": {
        "colab": {
          "base_uri": "https://localhost:8080/"
        },
        "id": "Pk70EdW9I7lT",
        "outputId": "5006a635-3bc9-46b2-e9a6-f3a1114d795e"
      },
      "execution_count": 20,
      "outputs": [
        {
          "output_type": "execute_result",
          "data": {
            "text/plain": [
              "(1008,)"
            ]
          },
          "metadata": {},
          "execution_count": 20
        }
      ]
    },
    {
      "cell_type": "code",
      "source": [
        "AeropuertosCantidad.head()"
      ],
      "metadata": {
        "colab": {
          "base_uri": "https://localhost:8080/"
        },
        "id": "grctkhfWDfP8",
        "outputId": "a849247d-c58e-4817-d2aa-50d0a23198be"
      },
      "execution_count": 21,
      "outputs": [
        {
          "output_type": "execute_result",
          "data": {
            "text/plain": [
              "0    OTP\n",
              "1    MXP\n",
              "2    PMO\n",
              "3    MXP\n",
              "4    BCN\n",
              "Name: ARR, dtype: object"
            ]
          },
          "metadata": {},
          "execution_count": 21
        }
      ]
    },
    {
      "cell_type": "code",
      "source": [
        "# Filtre primer enlairament a BArcelona\n",
        "\n",
        "vuelosPrimerDespegue= ((df1['Secuencia']== 1) & (df1['DEP']=='BCN'))\n",
        "df2 = df1[vuelosPrimerDespegue]\n",
        "print(df2[['DATE','REG', 'Secuencia','STD']][0:8])"
      ],
      "metadata": {
        "colab": {
          "base_uri": "https://localhost:8080/"
        },
        "id": "etZWUPEJD1XQ",
        "outputId": "fe76a535-79a2-48e5-bb96-557b028958ba"
      },
      "execution_count": 22,
      "outputs": [
        {
          "output_type": "stream",
          "name": "stdout",
          "text": [
            "                   DATE     REG  Secuencia                 STD\n",
            "193  1 de abril de 2019  EI-DHF        1.0 2019-04-01 04:05:00\n",
            "214  1 de abril de 2019  EI-DHR        1.0 2019-04-01 04:00:00\n",
            "294  1 de abril de 2019  EI-DLJ        1.0 2019-04-01 04:15:00\n",
            "528  1 de abril de 2019  EI-DWM        1.0 2019-04-01 04:20:00\n",
            "774  1 de abril de 2019  EI-EBW        1.0 2019-04-01 06:40:00\n",
            "947  1 de abril de 2019  EI-EKN        1.0 2019-04-01 06:30:00\n"
          ]
        }
      ]
    },
    {
      "cell_type": "code",
      "source": [
        "plt.figure(figsize = (15,8))\n",
        "p= sns.histplot(data= df2.E_Despegue1, kde= True)\n",
        "p.axvline(x = 0, ymin=0, ymax= 12, color='red', linestyle= 'dashdot') # Objetivo\n",
        "p.set_title('Distribució Error 1r enlairament', fontsize=25, color='green')\n",
        "p.set_xlabel(\"Error (minuts)\", fontsize = 20)"
      ],
      "metadata": {
        "colab": {
          "base_uri": "https://localhost:8080/",
          "height": 548
        },
        "id": "InEAGxaFEWKc",
        "outputId": "cc1f137b-395e-4b7b-9718-2b572678167c"
      },
      "execution_count": 24,
      "outputs": [
        {
          "output_type": "execute_result",
          "data": {
            "text/plain": [
              "Text(0.5, 0, 'Error (minuts)')"
            ]
          },
          "metadata": {},
          "execution_count": 24
        },
        {
          "output_type": "display_data",
          "data": {
            "text/plain": [
              "<Figure size 1080x576 with 1 Axes>"
            ],
            "image/png": "[encoded data removed]"
          },
          "metadata": {
            "needs_background": "light"
          }
        }
      ]
    },
    {
      "cell_type": "code",
      "source": [
        "# Eliminar los outliers\n",
        "df2=df2.copy()\n",
        "dfEliminarOutliers= ((df2['Secuencia']== 1) & (df2['E_Despegue1']< 30) & (df2['E_Despegue1']> -30))\n",
        "\n",
        "df2 = df2[dfEliminarOutliers]\n",
        "#\n",
        "plt.figure(figsize = (15,8))\n",
        "p= sns.histplot(data= df2.E_Despegue1, kde= True)\n",
        "p.set_title(\"Error d'enlairament 1r salt, filtrat a BCN\", fontsize=25, color='green')\n",
        "mediaFiltrada = round(df2['E_Despegue1'].mean(),2)\n",
        "p.axvline(mediaFiltrada, 0,12, color = 'green')                       # Media real\n",
        "p.axvline(x = 0, ymin=0, ymax= 12, color='red', linestyle= 'dashdot') # Objetivo\n",
        "print()\n",
        "print('Mitjana filtrada = ', mediaFiltrada, 'minuts')\n",
        "#print(df2[['Secuencia', 'E_Despegue', 'AeropuertoKey1' ]]) \n",
        "p.set_xlabel(\"Error (minuts)\", fontsize = 20)"
      ],
      "metadata": {
        "colab": {
          "base_uri": "https://localhost:8080/",
          "height": 583
        },
        "id": "yBrPFQ7oEu_I",
        "outputId": "2f214e2e-96ff-4b75-82f0-912f24510aaa"
      },
      "execution_count": 27,
      "outputs": [
        {
          "output_type": "stream",
          "name": "stdout",
          "text": [
            "\n",
            "Mitjana filtrada =  4.33 minuts\n"
          ]
        },
        {
          "output_type": "execute_result",
          "data": {
            "text/plain": [
              "Text(0.5, 0, 'Error (minuts)')"
            ]
          },
          "metadata": {},
          "execution_count": 27
        },
        {
          "output_type": "display_data",
          "data": {
            "text/plain": [
              "<Figure size 1080x576 with 1 Axes>"
            ],
            "image/png": "[encoded data removed]"
          },
          "metadata": {
            "needs_background": "light"
          }
        }
      ]
    },
    {
      "cell_type": "code",
      "source": [
        "# Intervalos de Confianza por aeropuerto\n",
        "\n",
        "sns.set_theme(style=\"darkgrid\")\n",
        "#tips = sns.df1(\"tips\")\n",
        "sns.set(rc = {'figure.figsize':(15,8)})      \n",
        "# Tamaño de la imagen\n",
        "ax = sns.pointplot(x='Hour', y = \"E_Despegue1\", data= df2, scale=.1, kind = \"point\", capsize=0.13)\n",
        "\n",
        "puntualidadBCN = round((df2['E_Despegue'].mean()),2)#\n",
        "\n",
        "ax.axhline(puntualidadBCN, color=\"red\", linestyle = '--', label=\"ooas\")       # Linea 0 verde\n",
        "ax.axhline(0, color=\"green\", linestyle = '--')\n",
        "\n",
        "\n",
        "textoBCN = \"BCN puntualitat mitja\"+ str(puntualidadBCN) + ' minut.'\n",
        "ax.text(puntualidadBCN ,puntualidadBCN , textoBCN, backgroundcolor='w')\n",
        "\n",
        "ax.set_title('Puntualitat enlairament per hora del dia:', fontsize = 24, color= 'green')"
      ],
      "metadata": {
        "colab": {
          "base_uri": "https://localhost:8080/",
          "height": 988
        },
        "id": "CZy8VJprFqzD",
        "outputId": "582da087-f0b5-43a5-c747-2d1e2bc0e9f3"
      },
      "execution_count": 29,
      "outputs": [
        {
          "output_type": "error",
          "ename": "KeyError",
          "evalue": "ignored",
          "traceback": [
            "\u001b[0;31m---------------------------------------------------------------------------\u001b[0m",
            "\u001b[0;31mKeyError\u001b[0m                                  Traceback (most recent call last)",
            "\u001b[0;32m/usr/local/lib/python3.7/dist-packages/pandas/core/indexes/base.py\u001b[0m in \u001b[0;36mget_loc\u001b[0;34m(self, key, method, tolerance)\u001b[0m\n\u001b[1;32m   3360\u001b[0m             \u001b[0;32mtry\u001b[0m\u001b[0;34m:\u001b[0m\u001b[0;34m\u001b[0m\u001b[0;34m\u001b[0m\u001b[0m\n\u001b[0;32m-> 3361\u001b[0;31m                 \u001b[0;32mreturn\u001b[0m \u001b[0mself\u001b[0m\u001b[0;34m.\u001b[0m\u001b[0m_engine\u001b[0m\u001b[0;34m.\u001b[0m\u001b[0mget_loc\u001b[0m\u001b[0;34m(\u001b[0m\u001b[0mcasted_key\u001b[0m\u001b[0;34m)\u001b[0m\u001b[0;34m\u001b[0m\u001b[0;34m\u001b[0m\u001b[0m\n\u001b[0m\u001b[1;32m   3362\u001b[0m             \u001b[0;32mexcept\u001b[0m \u001b[0mKeyError\u001b[0m \u001b[0;32mas\u001b[0m \u001b[0merr\u001b[0m\u001b[0;34m:\u001b[0m\u001b[0;34m\u001b[0m\u001b[0;34m\u001b[0m\u001b[0m\n",
            "\u001b[0;32m/usr/local/lib/python3.7/dist-packages/pandas/_libs/index.pyx\u001b[0m in \u001b[0;36mpandas._libs.index.IndexEngine.get_loc\u001b[0;34m()\u001b[0m\n",
            "\u001b[0;32m/usr/local/lib/python3.7/dist-packages/pandas/_libs/index.pyx\u001b[0m in \u001b[0;36mpandas._libs.index.IndexEngine.get_loc\u001b[0;34m()\u001b[0m\n",
            "\u001b[0;32mpandas/_libs/hashtable_class_helper.pxi\u001b[0m in \u001b[0;36mpandas._libs.hashtable.PyObjectHashTable.get_item\u001b[0;34m()\u001b[0m\n",
            "\u001b[0;32mpandas/_libs/hashtable_class_helper.pxi\u001b[0m in \u001b[0;36mpandas._libs.hashtable.PyObjectHashTable.get_item\u001b[0;34m()\u001b[0m\n",
            "\u001b[0;31mKeyError\u001b[0m: 'E_Despegue'",
            "\nThe above exception was the direct cause of the following exception:\n",
            "\u001b[0;31mKeyError\u001b[0m                                  Traceback (most recent call last)",
            "\u001b[0;32m<ipython-input-29-06dd4171e2ce>\u001b[0m in \u001b[0;36m<module>\u001b[0;34m\u001b[0m\n\u001b[1;32m      7\u001b[0m \u001b[0max\u001b[0m \u001b[0;34m=\u001b[0m \u001b[0msns\u001b[0m\u001b[0;34m.\u001b[0m\u001b[0mpointplot\u001b[0m\u001b[0;34m(\u001b[0m\u001b[0mx\u001b[0m\u001b[0;34m=\u001b[0m\u001b[0;34m'Hour'\u001b[0m\u001b[0;34m,\u001b[0m \u001b[0my\u001b[0m \u001b[0;34m=\u001b[0m \u001b[0;34m\"E_Despegue1\"\u001b[0m\u001b[0;34m,\u001b[0m \u001b[0mdata\u001b[0m\u001b[0;34m=\u001b[0m \u001b[0mdf2\u001b[0m\u001b[0;34m,\u001b[0m \u001b[0mscale\u001b[0m\u001b[0;34m=\u001b[0m\u001b[0;36m.1\u001b[0m\u001b[0;34m,\u001b[0m \u001b[0mkind\u001b[0m \u001b[0;34m=\u001b[0m \u001b[0;34m\"point\"\u001b[0m\u001b[0;34m,\u001b[0m \u001b[0mcapsize\u001b[0m\u001b[0;34m=\u001b[0m\u001b[0;36m0.13\u001b[0m\u001b[0;34m)\u001b[0m\u001b[0;34m\u001b[0m\u001b[0;34m\u001b[0m\u001b[0m\n\u001b[1;32m      8\u001b[0m \u001b[0;34m\u001b[0m\u001b[0m\n\u001b[0;32m----> 9\u001b[0;31m \u001b[0mpuntualidadBCN\u001b[0m \u001b[0;34m=\u001b[0m \u001b[0mround\u001b[0m\u001b[0;34m(\u001b[0m\u001b[0;34m(\u001b[0m\u001b[0mdf2\u001b[0m\u001b[0;34m[\u001b[0m\u001b[0;34m'E_Despegue'\u001b[0m\u001b[0;34m]\u001b[0m\u001b[0;34m.\u001b[0m\u001b[0mmean\u001b[0m\u001b[0;34m(\u001b[0m\u001b[0;34m)\u001b[0m\u001b[0;34m)\u001b[0m\u001b[0;34m,\u001b[0m\u001b[0;36m2\u001b[0m\u001b[0;34m)\u001b[0m\u001b[0;31m#\u001b[0m\u001b[0;34m\u001b[0m\u001b[0;34m\u001b[0m\u001b[0m\n\u001b[0m\u001b[1;32m     10\u001b[0m \u001b[0;34m\u001b[0m\u001b[0m\n\u001b[1;32m     11\u001b[0m \u001b[0max\u001b[0m\u001b[0;34m.\u001b[0m\u001b[0maxhline\u001b[0m\u001b[0;34m(\u001b[0m\u001b[0mpuntualidadBCN\u001b[0m\u001b[0;34m,\u001b[0m \u001b[0mcolor\u001b[0m\u001b[0;34m=\u001b[0m\u001b[0;34m\"red\"\u001b[0m\u001b[0;34m,\u001b[0m \u001b[0mlinestyle\u001b[0m \u001b[0;34m=\u001b[0m \u001b[0;34m'--'\u001b[0m\u001b[0;34m,\u001b[0m \u001b[0mlabel\u001b[0m\u001b[0;34m=\u001b[0m\u001b[0;34m\"ooas\"\u001b[0m\u001b[0;34m)\u001b[0m       \u001b[0;31m# Linea 0 verde\u001b[0m\u001b[0;34m\u001b[0m\u001b[0;34m\u001b[0m\u001b[0m\n",
            "\u001b[0;32m/usr/local/lib/python3.7/dist-packages/pandas/core/frame.py\u001b[0m in \u001b[0;36m__getitem__\u001b[0;34m(self, key)\u001b[0m\n\u001b[1;32m   3456\u001b[0m             \u001b[0;32mif\u001b[0m \u001b[0mself\u001b[0m\u001b[0;34m.\u001b[0m\u001b[0mcolumns\u001b[0m\u001b[0;34m.\u001b[0m\u001b[0mnlevels\u001b[0m \u001b[0;34m>\u001b[0m \u001b[0;36m1\u001b[0m\u001b[0;34m:\u001b[0m\u001b[0;34m\u001b[0m\u001b[0;34m\u001b[0m\u001b[0m\n\u001b[1;32m   3457\u001b[0m                 \u001b[0;32mreturn\u001b[0m \u001b[0mself\u001b[0m\u001b[0;34m.\u001b[0m\u001b[0m_getitem_multilevel\u001b[0m\u001b[0;34m(\u001b[0m\u001b[0mkey\u001b[0m\u001b[0;34m)\u001b[0m\u001b[0;34m\u001b[0m\u001b[0;34m\u001b[0m\u001b[0m\n\u001b[0;32m-> 3458\u001b[0;31m             \u001b[0mindexer\u001b[0m \u001b[0;34m=\u001b[0m \u001b[0mself\u001b[0m\u001b[0;34m.\u001b[0m\u001b[0mcolumns\u001b[0m\u001b[0;34m.\u001b[0m\u001b[0mget_loc\u001b[0m\u001b[0;34m(\u001b[0m\u001b[0mkey\u001b[0m\u001b[0;34m)\u001b[0m\u001b[0;34m\u001b[0m\u001b[0;34m\u001b[0m\u001b[0m\n\u001b[0m\u001b[1;32m   3459\u001b[0m             \u001b[0;32mif\u001b[0m \u001b[0mis_integer\u001b[0m\u001b[0;34m(\u001b[0m\u001b[0mindexer\u001b[0m\u001b[0;34m)\u001b[0m\u001b[0;34m:\u001b[0m\u001b[0;34m\u001b[0m\u001b[0;34m\u001b[0m\u001b[0m\n\u001b[1;32m   3460\u001b[0m                 \u001b[0mindexer\u001b[0m \u001b[0;34m=\u001b[0m \u001b[0;34m[\u001b[0m\u001b[0mindexer\u001b[0m\u001b[0;34m]\u001b[0m\u001b[0;34m\u001b[0m\u001b[0;34m\u001b[0m\u001b[0m\n",
            "\u001b[0;32m/usr/local/lib/python3.7/dist-packages/pandas/core/indexes/base.py\u001b[0m in \u001b[0;36mget_loc\u001b[0;34m(self, key, method, tolerance)\u001b[0m\n\u001b[1;32m   3361\u001b[0m                 \u001b[0;32mreturn\u001b[0m \u001b[0mself\u001b[0m\u001b[0;34m.\u001b[0m\u001b[0m_engine\u001b[0m\u001b[0;34m.\u001b[0m\u001b[0mget_loc\u001b[0m\u001b[0;34m(\u001b[0m\u001b[0mcasted_key\u001b[0m\u001b[0;34m)\u001b[0m\u001b[0;34m\u001b[0m\u001b[0;34m\u001b[0m\u001b[0m\n\u001b[1;32m   3362\u001b[0m             \u001b[0;32mexcept\u001b[0m \u001b[0mKeyError\u001b[0m \u001b[0;32mas\u001b[0m \u001b[0merr\u001b[0m\u001b[0;34m:\u001b[0m\u001b[0;34m\u001b[0m\u001b[0;34m\u001b[0m\u001b[0m\n\u001b[0;32m-> 3363\u001b[0;31m                 \u001b[0;32mraise\u001b[0m \u001b[0mKeyError\u001b[0m\u001b[0;34m(\u001b[0m\u001b[0mkey\u001b[0m\u001b[0;34m)\u001b[0m \u001b[0;32mfrom\u001b[0m \u001b[0merr\u001b[0m\u001b[0;34m\u001b[0m\u001b[0;34m\u001b[0m\u001b[0m\n\u001b[0m\u001b[1;32m   3364\u001b[0m \u001b[0;34m\u001b[0m\u001b[0m\n\u001b[1;32m   3365\u001b[0m         \u001b[0;32mif\u001b[0m \u001b[0mis_scalar\u001b[0m\u001b[0;34m(\u001b[0m\u001b[0mkey\u001b[0m\u001b[0;34m)\u001b[0m \u001b[0;32mand\u001b[0m \u001b[0misna\u001b[0m\u001b[0;34m(\u001b[0m\u001b[0mkey\u001b[0m\u001b[0;34m)\u001b[0m \u001b[0;32mand\u001b[0m \u001b[0;32mnot\u001b[0m \u001b[0mself\u001b[0m\u001b[0;34m.\u001b[0m\u001b[0mhasnans\u001b[0m\u001b[0;34m:\u001b[0m\u001b[0;34m\u001b[0m\u001b[0;34m\u001b[0m\u001b[0m\n",
            "\u001b[0;31mKeyError\u001b[0m: 'E_Despegue'"
          ]
        },
        {
          "output_type": "display_data",
          "data": {
            "text/plain": [
              "<Figure size 1080x576 with 1 Axes>"
            ],
            "image/png": "[encoded data removed]"
          },
          "metadata": {}
        }
      ]
    },
    {
      "cell_type": "code",
      "source": [
        "df1"
      ],
      "metadata": {
        "id": "prFKbVuOdx5M"
      },
      "execution_count": null,
      "outputs": []
    },
    {
      "cell_type": "code",
      "source": [],
      "metadata": {
        "id": "xGKRSMjofat1"
      },
      "execution_count": null,
      "outputs": []
    },
    {
      "cell_type": "code",
      "source": [
        "#Calculo error primer despegue despegue:\n"
      ],
      "metadata": {
        "id": "_xkeo6wliHos"
      },
      "execution_count": null,
      "outputs": []
    },
    {
      "cell_type": "code",
      "source": [
        "df.head()"
      ],
      "metadata": {
        "id": "ZvUGG82shjLn"
      },
      "execution_count": null,
      "outputs": []
    },
    {
      "cell_type": "code",
      "source": [
        "plt.figure(figsize = (15,8))\n",
        "p= sns.histplot(data= df.E_Puntualidad, kde= True)\n",
        "p.axvline(x = 0, ymin=0, ymax= 12, color='red', linestyle= 'dashdot') # Objetivo\n",
        "p.set_title('Distribució Error Puntualitat', fontsize=25, color='green')\n",
        "p.set_xlabel(\"Error (minuts)\", fontsize = 20)"
      ],
      "metadata": {
        "id": "BXlwVOW3ifSU"
      },
      "execution_count": null,
      "outputs": []
    },
    {
      "cell_type": "code",
      "source": [
        "# Eliminar los outliers\n",
        "df2=df.copy()\n",
        "dfEliminarOutliers= ( (df2['E_Puntualidad']< 30) & (df2['E_Puntualidad']> -30))\n",
        "\n",
        "df2 = df2[dfEliminarOutliers]\n",
        "#\n",
        "plt.figure(figsize = (15,8))\n",
        "p= sns.histplot(data= df2.E_Puntualidad, kde= True)\n",
        "p.set_title(\"Error de puntualidad\", fontsize=25, color='green')\n",
        "\n",
        "mediaFiltrada = round(df2['E_Puntualidad1'].mean(),2)\n",
        "p.axvline(mediaFiltrada, 0,12, color = 'green')                       # Media real\n",
        "p.axvline(x = 0, ymin=0, ymax= 12, color='red', linestyle= 'dashdot') # Objetivo\n",
        "print()\n",
        "print('Mitjana filtrada = ', mediaFiltrada, 'minuts')\n",
        "#print(df2[['Secuencia', 'E_Despegue', 'AeropuertoKey1' ]]) \n",
        "p.set_xlabel(\"Error (minuts)\", fontsize = 20)"
      ],
      "metadata": {
        "id": "t-x8x7JcjvwE"
      },
      "execution_count": null,
      "outputs": []
    },
    {
      "cell_type": "code",
      "source": [
        "# Con los datos transformados veo si ha cambiado mucho la forma de cada variable\n",
        "df1_StdScaler[df1_StdScaler.columns].hist(figsize=(18,10))"
      ],
      "metadata": {
        "id": "6_JacsfarmLI"
      },
      "execution_count": null,
      "outputs": []
    },
    {
      "cell_type": "code",
      "source": [
        "# Intervals de Confianza per salt\n",
        "\n",
        "sns.set_theme(style=\"darkgrid\")\n",
        "#tips = sns.df1(\"tips\")\n",
        "sns.set(rc = {'figure.figsize':(15,8)})      \n",
        "# Tamaño de la imagen\n",
        "ax = sns.pointplot(x='Secuencia', y = \"E_Despegue1\", data= df, scale=.1, kind = \"point\", capsize=0.13)\n",
        "\n",
        "puntualidadBCN = round((df['E_Despegue1'].mean()),2)#\n",
        "\n",
        "ax.axhline(puntualidadBCN, color=\"red\", linestyle = '--', label=\"ooas\")       # Linea 0 verde\n",
        "ax.axhline(0, color=\"green\", linestyle = '--')\n",
        "\n",
        "\n",
        "textoBCN = \"BCN puntualitat mitja\"+ str(puntualidadBCN) + ' minut.'\n",
        "ax.text(puntualidadBCN ,puntualidadBCN , textoBCN, backgroundcolor='w')\n",
        "\n",
        "ax.set_title('Puntualitat enlairament per salt del dia:', fontsize = 24, color= 'green')\n",
        "\n",
        "#df['E_acumulado_Total'] = df[f'E_Despegue_Total'] + df[f'E_Duracion_Vuelo_Total'] + df[f'E_tierra_Total'] "
      ],
      "metadata": {
        "colab": {
          "base_uri": "https://localhost:8080/",
          "height": 544
        },
        "id": "Y3MZ_LlksKT2",
        "outputId": "f5b59a5a-eff3-4ebf-e5ac-506e36299ee8"
      },
      "execution_count": 33,
      "outputs": [
        {
          "output_type": "execute_result",
          "data": {
            "text/plain": [
              "Text(0.5, 1.0, 'Puntualitat enlairament per hora del dia:')"
            ]
          },
          "metadata": {},
          "execution_count": 33
        },
        {
          "output_type": "display_data",
          "data": {
            "text/plain": [
              "<Figure size 1080x576 with 1 Axes>"
            ],
            "image/png": "[encoded data removed]"
          },
          "metadata": {}
        }
      ]
    }
  ]
}